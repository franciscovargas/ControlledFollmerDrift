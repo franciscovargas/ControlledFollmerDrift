{
 "cells": [
  {
   "cell_type": "code",
   "execution_count": 1,
   "metadata": {},
   "outputs": [],
   "source": [
    "import torch\n",
    "import torch.nn.functional as F\n",
    "\n",
    "import torchsde\n",
    "import math\n",
    "import matplotlib.pyplot as plt\n",
    "\n",
    "from cfollmer.objectives import log_g, relative_entropy_control_cost\n",
    "from cfollmer.sampler_utils import FollmerSDE\n",
    "import numpy as np\n",
    "\n",
    "from tqdm.notebook import tqdm\n",
    "\n",
    "from torch import _vmap_internals"
   ]
  },
  {
   "cell_type": "markdown",
   "metadata": {},
   "source": [
    "## Generating Toy 2D Dataset."
   ]
  },
  {
   "cell_type": "code",
   "execution_count": 2,
   "metadata": {},
   "outputs": [],
   "source": [
    "import torch\n",
    "from sklearn.datasets import make_blobs\n",
    "from sklearn.model_selection import train_test_split\n",
    "from sklearn.preprocessing import StandardScaler\n",
    "\n",
    "device = \"cuda\" if torch.cuda.is_available() else \"cpu\"\n",
    "random_state = 170\n",
    "\n",
    "X, y = make_blobs(n_samples=300,\n",
    "                  cluster_std=[0.5, 0.5, 0.5],\n",
    "                  random_state=random_state)\n",
    "\n",
    "X = X[y==0,:]\n",
    "y = y[y==0]\n",
    "# # Scale data to have mean 0 and variance 1 \n",
    "# # which is importance for convergence of the neural network\n",
    "scaler = StandardScaler()\n",
    "X_scaled = scaler.fit_transform(X)\n",
    "\n",
    "# Split the data set into training and testing\n",
    "X_train, X_test, y_train, y_test = train_test_split(\n",
    "    X_scaled, y, test_size=0.2, random_state=2)\n",
    "\n",
    "\n",
    "X_train, X_test, y_train, y_test = \\\n",
    "    torch.tensor(X_train, dtype=torch.float32, device=device), \\\n",
    "    torch.tensor(X_test, dtype=torch.float32, device=device), \\\n",
    "    torch.tensor(y_train, dtype=torch.float32, device=device), \\\n",
    "    torch.tensor(y_test, dtype=torch.float32, device=device) "
   ]
  },
  {
   "cell_type": "code",
   "execution_count": 3,
   "metadata": {},
   "outputs": [
    {
     "data": {
      "text/plain": [
       "array([0, 0, 0, 0, 0, 0, 0, 0, 0, 0, 0, 0, 0, 0, 0, 0, 0, 0, 0, 0, 0, 0,\n",
       "       0, 0, 0, 0, 0, 0, 0, 0, 0, 0, 0, 0, 0, 0, 0, 0, 0, 0, 0, 0, 0, 0,\n",
       "       0, 0, 0, 0, 0, 0, 0, 0, 0, 0, 0, 0, 0, 0, 0, 0, 0, 0, 0, 0, 0, 0,\n",
       "       0, 0, 0, 0, 0, 0, 0, 0, 0, 0, 0, 0, 0, 0, 0, 0, 0, 0, 0, 0, 0, 0,\n",
       "       0, 0, 0, 0, 0, 0, 0, 0, 0, 0, 0, 0])"
      ]
     },
     "execution_count": 3,
     "metadata": {},
     "output_type": "execute_result"
    }
   ],
   "source": [
    "y"
   ]
  },
  {
   "cell_type": "code",
   "execution_count": 4,
   "metadata": {},
   "outputs": [
    {
     "data": {
      "image/png": "[encoded data removed]",
      "text/plain": [
       "<Figure size 1152x432 with 1 Axes>"
      ]
     },
     "metadata": {
      "needs_background": "light"
     },
     "output_type": "display_data"
    }
   ],
   "source": [
    "fig, ax1 = plt.subplots(1, 1, figsize=(16, 6))\n",
    "\n",
    "ax1.plot(X_scaled[:, 0], X_scaled[:, 1], \n",
    "         linestyle='none', \n",
    "         marker='o')\n",
    "\n",
    "ax1.axis('equal');"
   ]
  },
  {
   "cell_type": "markdown",
   "metadata": {},
   "source": [
    "$$\\DeclareMathOperator*{\\argmin}{arg\\,min}$$\n",
    "$$\\def\\E{{\\mathbb{E}}}$$\n",
    "$$\\def\\rvu{{\\mathbf{u}}}$$\n",
    "$$\\def\\rvTheta{{\\bm{\\Theta}}}$$\n",
    "$$\\def\\gU{{\\mathcal{U}}}$$\n",
    "$$\\def\\mX{{\\mathbf{X}}}$$"
   ]
  },
  {
   "cell_type": "markdown",
   "metadata": {},
   "source": [
    "## Variance Matching bug Here\n",
    "\n",
    "Check out ln_prior there I am tweaking $\\sigma_w$ Ive set the log_likelihood to be 0 this way our algorithm should be trying to have as target the prior . For some reason the neural net is completely unable to match the variance I am specifying I have gone from very low to very high and the method is unable to do anhything to fit the target variance. For a sufficiently small $\\Delta t$ we should be able to do this, standard VI is able to do this, so theres some sort of bug / issue here. "
   ]
  },
  {
   "cell_type": "code",
   "execution_count": 49,
   "metadata": {},
   "outputs": [],
   "source": [
    "def log_gaussian(x, mean=0):\n",
    "    \"\"\"\n",
    "    Returns the density of x under the supplied gaussian. Defaults to\n",
    "    standard gaussian N(0, I)\n",
    "    :param x: (*) torch.Tensor\n",
    "    :param mean: float or torch.FloatTensor with dimensions (*)\n",
    "    :param logvar: float or torch.FloatTensor with dimensions (*)\n",
    "    :return: (*) elementwise log density\n",
    "    \"\"\"\n",
    "    \n",
    "    log_norm_constant = -0.5 * np.log(2 * np.pi)\n",
    "    \n",
    "    var =  torch.tensor(0.1)\n",
    "    logvar = torch.log(var).reshape(1,1).to(device)\n",
    "    \n",
    "    A = (x - mean) ** 2\n",
    "    log_p = -0.5 * (logvar + A / logvar.exp())\n",
    "    log_p = log_p + log_norm_constant\n",
    "    return log_p.sum(dim=-1)\n",
    "\n",
    "\n",
    "# TODO: Why is changing σ_w doing nothing ??\n",
    "def ln_prior(Θ, σ_w=20.1):\n",
    "    \"\"\"\n",
    "    Prior for means in Bayesian GMM\n",
    "    \"\"\"\n",
    "    return -0.5 * (Θ**2).sum(axis=1) / σ_w\n",
    "\n",
    "\n",
    "def log_likelihood_single(μ, X, log=True):\n",
    "    \"\"\"\n",
    "    :param X: design matrix (examples, features)\n",
    "    :param mu: the component means (K, features)\n",
    "    :param logvar: the component log-variances (K, features)\n",
    "    :param log: return value in log domain?\n",
    "\n",
    "    \"\"\"\n",
    "    \n",
    "    n, d = X.shape\n",
    "    # get feature-wise log-likelihoods (K, examples, features)\n",
    "    log_likelihoods = log_gaussian(\n",
    "        X[None, :, :], \n",
    "        μ.reshape(1, d)[:, None, :], \n",
    "    )\n",
    "\n",
    "    return log_likelihoods.sum() * 0 \n",
    "\n",
    "\n",
    "def log_likelihood(Θ, X, y=None):\n",
    "    \"\"\"\n",
    "    batching the above (hopefully its right)\n",
    "    \"\"\"\n",
    "\n",
    "    loss_ = lambda μ: log_likelihood_single(μ, X)\n",
    "    \n",
    "    batched_loss =  torch._vmap_internals.vmap(loss_)\n",
    "\n",
    "    return batched_loss(Θ)"
   ]
  },
  {
   "cell_type": "code",
   "execution_count": 50,
   "metadata": {},
   "outputs": [],
   "source": [
    "Δt=0.05\n",
    "t_size = int(math.ceil(1.0/Δt))\n",
    "dim =  2\n",
    "\n",
    "ts = torch.linspace(0, 1, t_size).to(device)\n",
    "no_posterior_samples = 50\n",
    "\n",
    "sde = FollmerSDE(dim, dim, no_posterior_samples, 1.0, device=device).to(device)\n",
    "Θ_0 = torch.zeros((no_posterior_samples, dim)).to(device) # Θ_0 ~ δ_0\n",
    "\n",
    "# Initial state y0, the SDE is solved over the interval [ts[0], ts[-1]].\n",
    "# ys will have shape (t_size, batch_size, state_size)\n",
    "ys = torchsde.sdeint(sde, Θ_0, ts, dt=Δt)"
   ]
  },
  {
   "cell_type": "code",
   "execution_count": 51,
   "metadata": {},
   "outputs": [
    {
     "name": "stderr",
     "output_type": "stream",
     "text": [
      "C:\\Users\\vargf\\anaconda3\\lib\\site-packages\\torch\\_vmap_internals.py:252: UserWarning: torch.vmap is an experimental prototype that is subject to change and/or deletion. Please use at your own risk.\n",
      "  warnings.warn(\n",
      "<ipython-input-49-8f985ae4f38f>:47: UserWarning: Batching rule not implemented for aten::sum falling back to slow (for loop and stack) implementation (Triggered internally at  ..\\aten\\src\\ATen\\BatchedFallback.cpp:63.)\n",
      "  return log_likelihoods.sum() * 0\n"
     ]
    },
    {
     "data": {
      "text/plain": [
       "tensor(-0.7941, device='cuda:0', grad_fn=<MeanBackward0>)"
      ]
     },
     "execution_count": 51,
     "metadata": {},
     "output_type": "execute_result"
    }
   ],
   "source": [
    "relative_entropy_control_cost(sde, Θ_0, X_train, y_train, \n",
    "                              ln_prior, log_likelihood, γ=1.0, device=device)"
   ]
  },
  {
   "cell_type": "code",
   "execution_count": 73,
   "metadata": {},
   "outputs": [
    {
     "name": "stdout",
     "output_type": "stream",
     "text": [
      "200\n"
     ]
    },
    {
     "data": {
      "application/vnd.jupyter.widget-view+json": {
       "model_id": "a9b2d12c09f14e8b9b8cc90b5fd27f54",
       "version_major": 2,
       "version_minor": 0
      },
      "text/plain": [
       "  0%|          | 0/300 [00:00<?, ?it/s]"
      ]
     },
     "metadata": {},
     "output_type": "display_data"
    },
    {
     "name": "stderr",
     "output_type": "stream",
     "text": [
      "C:\\Users\\vargf\\anaconda3\\lib\\site-packages\\torch\\_vmap_internals.py:252: UserWarning: torch.vmap is an experimental prototype that is subject to change and/or deletion. Please use at your own risk.\n",
      "  warnings.warn(\n",
      "<ipython-input-49-8f985ae4f38f>:47: UserWarning: Batching rule not implemented for aten::sum falling back to slow (for loop and stack) implementation (Triggered internally at  ..\\aten\\src\\ATen\\BatchedFallback.cpp:63.)\n",
      "  return log_likelihoods.sum() * 0\n"
     ]
    }
   ],
   "source": [
    "γ = 1.0\n",
    "Δt=0.005\n",
    "t_size = int(math.ceil(1.0/Δt))\n",
    "print(t_size)\n",
    "ts = torch.linspace(0, 1, t_size).to(device)\n",
    "\n",
    "sde = FollmerSDE(dim, dim, no_posterior_samples  , γ=γ, device=device).to(device)\n",
    "optimizer = torch.optim.Adam(sde.μ.parameters(), lr=0.001, weight_decay =0.1)\n",
    "#     optimizer = torch.optim.LBFGS(gpr.parameters(), lr=0.01)\n",
    "losses = []\n",
    "num_steps = 300\n",
    "\n",
    "train = True\n",
    "if train:\n",
    "    for i in tqdm(range(num_steps)):\n",
    "        optimizer.zero_grad()\n",
    "\n",
    "        if isinstance(optimizer, torch.optim.LBFGS):\n",
    "            def closure():\n",
    "                loss = relative_entropy_control_cost(\n",
    "                    sde, Θ_0.float(),\n",
    "                    X_train.float(), y_train.float(),\n",
    "                    ln_prior, log_likelihood, γ=γ\n",
    "                )\n",
    "                optimizer.zero_grad()\n",
    "                loss.backward()\n",
    "                return loss\n",
    "\n",
    "            optimizer.step(closure)\n",
    "            losses.append(closure().item())\n",
    "        else:\n",
    "            loss = relative_entropy_control_cost(\n",
    "                sde, Θ_0,\n",
    "                X_train, y_train,\n",
    "                ln_prior, log_likelihood, γ=γ\n",
    "            )\n",
    "            optimizer.zero_grad()\n",
    "            loss.backward()\n",
    "\n",
    "            optimizer.step()\n",
    "            losses.append(loss.item())"
   ]
  },
  {
   "cell_type": "code",
   "execution_count": 74,
   "metadata": {
    "scrolled": true
   },
   "outputs": [
    {
     "data": {
      "text/plain": [
       "[-0.5949416756629944,\n",
       " -0.7555185556411743,\n",
       " -0.6464778184890747,\n",
       " -0.5901656746864319,\n",
       " -0.45082616806030273,\n",
       " -0.9316181540489197,\n",
       " -0.5567054152488708,\n",
       " -0.6949051022529602,\n",
       " -0.651976466178894,\n",
       " -0.6230390667915344,\n",
       " -0.9879006743431091,\n",
       " -0.8538409471511841,\n",
       " -0.9931248426437378,\n",
       " -1.066435694694519,\n",
       " -0.7213813662528992,\n",
       " -0.6476701498031616,\n",
       " -0.8472926020622253,\n",
       " -1.1880767345428467,\n",
       " -0.680088460445404,\n",
       " -0.8089643120765686,\n",
       " -0.9770780801773071,\n",
       " -0.8962098360061646,\n",
       " -0.9625869393348694,\n",
       " -0.9079988598823547,\n",
       " -0.7447863817214966,\n",
       " -0.801419198513031,\n",
       " -1.0471218824386597,\n",
       " -0.8191751837730408,\n",
       " -0.78682541847229,\n",
       " -0.7231045961380005,\n",
       " -1.147942066192627,\n",
       " -1.1109472513198853,\n",
       " -0.9300194382667542,\n",
       " -0.8272846937179565,\n",
       " -0.8470914959907532,\n",
       " -1.0833805799484253,\n",
       " -0.9738143682479858,\n",
       " -0.8950454592704773,\n",
       " -1.4017549753189087,\n",
       " -0.879705011844635,\n",
       " -0.9236674904823303,\n",
       " -0.9168173670768738,\n",
       " -0.9511180520057678,\n",
       " -1.1497061252593994,\n",
       " -0.9773600697517395,\n",
       " -0.8032755255699158,\n",
       " -0.7401419878005981,\n",
       " -0.8644921779632568,\n",
       " -0.7068465352058411,\n",
       " -0.923353910446167,\n",
       " -1.0672438144683838,\n",
       " -0.9494315385818481,\n",
       " -0.7516072392463684,\n",
       " -1.043665885925293,\n",
       " -0.7171221971511841,\n",
       " -0.9616973400115967,\n",
       " -1.0845379829406738,\n",
       " -1.0616493225097656,\n",
       " -1.1744861602783203,\n",
       " -0.910001277923584,\n",
       " -1.2191983461380005,\n",
       " -0.8332057595252991,\n",
       " -0.9273453950881958,\n",
       " -0.8555143475532532,\n",
       " -0.8088311553001404,\n",
       " -0.938636302947998,\n",
       " -1.0332437753677368,\n",
       " -0.8739965558052063,\n",
       " -0.8985241651535034,\n",
       " -0.925791323184967,\n",
       " -1.0491180419921875,\n",
       " -1.2338364124298096,\n",
       " -0.9954063296318054,\n",
       " -1.029165267944336,\n",
       " -0.7900303602218628,\n",
       " -1.0551499128341675,\n",
       " -1.0559918880462646,\n",
       " -0.9517289996147156,\n",
       " -1.0186021327972412,\n",
       " -0.6907752156257629,\n",
       " -0.9647533893585205,\n",
       " -0.9968492388725281,\n",
       " -1.1089156866073608,\n",
       " -0.9975647330284119,\n",
       " -0.9074451923370361,\n",
       " -0.7986889481544495,\n",
       " -0.8661102056503296,\n",
       " -0.8016844987869263,\n",
       " -0.8994479775428772,\n",
       " -0.8204809427261353,\n",
       " -1.1671109199523926,\n",
       " -0.9868243932723999,\n",
       " -1.0692991018295288,\n",
       " -1.0890226364135742,\n",
       " -0.7596054077148438,\n",
       " -0.9881227016448975,\n",
       " -1.1672996282577515,\n",
       " -0.9390270709991455,\n",
       " -1.0707000494003296,\n",
       " -0.7583224177360535,\n",
       " -0.8737754821777344,\n",
       " -0.7402921319007874,\n",
       " -1.0371472835540771,\n",
       " -0.9940587282180786,\n",
       " -0.9880215525627136,\n",
       " -1.1476125717163086,\n",
       " -0.9161362051963806,\n",
       " -1.0769051313400269,\n",
       " -0.9326061606407166,\n",
       " -0.8006390929222107,\n",
       " -0.9660413265228271,\n",
       " -1.035012125968933,\n",
       " -0.7605217695236206,\n",
       " -0.9432252049446106,\n",
       " -0.8629492521286011,\n",
       " -0.9006216526031494,\n",
       " -0.7602589130401611,\n",
       " -0.9915006160736084,\n",
       " -0.9395580887794495,\n",
       " -1.1235260963439941,\n",
       " -1.1748437881469727,\n",
       " -0.8748504519462585,\n",
       " -1.069244146347046,\n",
       " -1.1621769666671753,\n",
       " -0.9830824136734009,\n",
       " -0.7652146220207214,\n",
       " -1.0354074239730835,\n",
       " -0.9113233685493469,\n",
       " -0.9077004194259644,\n",
       " -1.1575684547424316,\n",
       " -0.8833461403846741,\n",
       " -1.1404742002487183,\n",
       " -0.8179787397384644,\n",
       " -0.7882316708564758,\n",
       " -0.9393298029899597,\n",
       " -0.9204389452934265,\n",
       " -1.0867435932159424,\n",
       " -0.904869794845581,\n",
       " -0.7544937133789062,\n",
       " -1.1483569145202637,\n",
       " -0.9116309285163879,\n",
       " -1.045015811920166,\n",
       " -0.8278626799583435,\n",
       " -0.7517935037612915,\n",
       " -0.865218460559845,\n",
       " -0.6887966990470886,\n",
       " -1.0224061012268066,\n",
       " -1.1541156768798828,\n",
       " -1.0112589597702026,\n",
       " -0.7503794431686401,\n",
       " -0.8812509179115295,\n",
       " -1.0180193185806274,\n",
       " -1.0738669633865356,\n",
       " -1.0154317617416382,\n",
       " -0.9852794408798218,\n",
       " -1.1182740926742554,\n",
       " -1.0800105333328247,\n",
       " -1.0094413757324219,\n",
       " -0.7646220922470093,\n",
       " -0.961037814617157,\n",
       " -1.159336805343628,\n",
       " -1.069560170173645,\n",
       " -1.2223275899887085,\n",
       " -0.848109245300293,\n",
       " -1.2164148092269897,\n",
       " -0.9293540716171265,\n",
       " -1.1509721279144287,\n",
       " -0.9825783967971802,\n",
       " -0.7682564854621887,\n",
       " -1.0427837371826172,\n",
       " -1.0260953903198242,\n",
       " -0.931362509727478,\n",
       " -0.9574863910675049,\n",
       " -0.9037483930587769,\n",
       " -0.9718606472015381,\n",
       " -0.9545777440071106,\n",
       " -0.9999384880065918,\n",
       " -1.0606989860534668,\n",
       " -1.0887627601623535,\n",
       " -1.1806511878967285,\n",
       " -0.9806778430938721,\n",
       " -1.1167222261428833,\n",
       " -1.2686187028884888,\n",
       " -1.1131582260131836,\n",
       " -0.7702450156211853,\n",
       " -1.1115007400512695,\n",
       " -1.1345438957214355,\n",
       " -0.8751644492149353,\n",
       " -0.9027168154716492,\n",
       " -1.186399221420288,\n",
       " -1.1103293895721436,\n",
       " -1.0812355279922485,\n",
       " -1.115808129310608,\n",
       " -1.1688073873519897,\n",
       " -0.7119640707969666,\n",
       " -0.966201901435852,\n",
       " -1.0578629970550537,\n",
       " -1.060042142868042,\n",
       " -0.9947595596313477,\n",
       " -1.0163925886154175,\n",
       " -1.218792200088501,\n",
       " -1.1008670330047607,\n",
       " -1.0130465030670166,\n",
       " -0.7924104332923889,\n",
       " -1.4434031248092651,\n",
       " -1.2277567386627197,\n",
       " -1.1920257806777954,\n",
       " -0.8275466561317444,\n",
       " -1.1895731687545776,\n",
       " -0.7761371731758118,\n",
       " -0.8278741240501404,\n",
       " -0.8250007629394531,\n",
       " -1.0228370428085327,\n",
       " -0.79538893699646,\n",
       " -1.0020867586135864,\n",
       " -0.809578001499176,\n",
       " -0.9296862483024597,\n",
       " -0.959121823310852,\n",
       " -1.071596384048462,\n",
       " -0.9716907143592834,\n",
       " -1.0227365493774414,\n",
       " -0.6963517665863037,\n",
       " -0.8951982855796814,\n",
       " -0.9373701810836792,\n",
       " -0.7014755606651306,\n",
       " -0.7564239501953125,\n",
       " -0.8830897808074951,\n",
       " -0.8827577233314514,\n",
       " -0.6959351897239685,\n",
       " -1.013771891593933,\n",
       " -0.8662758469581604,\n",
       " -1.0597809553146362,\n",
       " -0.9924531579017639,\n",
       " -0.9814161658287048,\n",
       " -1.1411536931991577,\n",
       " -0.8908119797706604,\n",
       " -0.808773934841156,\n",
       " -0.7779902219772339,\n",
       " -0.8026905655860901,\n",
       " -1.1234376430511475,\n",
       " -0.8573740720748901,\n",
       " -1.104193091392517,\n",
       " -1.3029026985168457,\n",
       " -0.79787677526474,\n",
       " -0.8679725527763367,\n",
       " -1.2211015224456787,\n",
       " -1.1296073198318481,\n",
       " -0.8096780180931091,\n",
       " -0.958840012550354,\n",
       " -0.9662010073661804,\n",
       " -0.9160391688346863,\n",
       " -0.914185643196106,\n",
       " -1.1172840595245361,\n",
       " -0.9097669720649719,\n",
       " -1.0792378187179565,\n",
       " -1.0013835430145264,\n",
       " -1.0734615325927734,\n",
       " -1.0388352870941162,\n",
       " -0.8937985897064209,\n",
       " -1.0536011457443237,\n",
       " -0.933207094669342,\n",
       " -0.8733651638031006,\n",
       " -0.947487473487854,\n",
       " -1.0475866794586182,\n",
       " -0.939195454120636,\n",
       " -0.9769037961959839,\n",
       " -1.0368398427963257,\n",
       " -0.9764840602874756,\n",
       " -1.1798381805419922,\n",
       " -0.9538148045539856,\n",
       " -0.7858361601829529,\n",
       " -0.8513268828392029,\n",
       " -0.921126663684845,\n",
       " -1.0661371946334839,\n",
       " -0.8652468919754028,\n",
       " -1.2236921787261963,\n",
       " -0.940105140209198,\n",
       " -0.8926945328712463,\n",
       " -0.7603217959403992,\n",
       " -1.2086461782455444,\n",
       " -0.9403278827667236,\n",
       " -0.9663037061691284,\n",
       " -1.1635361909866333,\n",
       " -0.9050127863883972,\n",
       " -0.9729803204536438,\n",
       " -1.2024016380310059,\n",
       " -0.9448635578155518,\n",
       " -0.7808241248130798,\n",
       " -0.8914975523948669,\n",
       " -0.8250687122344971,\n",
       " -1.043415904045105,\n",
       " -0.8313634991645813,\n",
       " -0.8821038007736206,\n",
       " -0.8570220470428467,\n",
       " -1.2724299430847168,\n",
       " -0.9438396096229553,\n",
       " -0.9768224358558655,\n",
       " -0.9500243663787842,\n",
       " -0.9176584482192993,\n",
       " -0.9738601446151733]"
      ]
     },
     "execution_count": 74,
     "metadata": {},
     "output_type": "execute_result"
    }
   ],
   "source": [
    "losses"
   ]
  },
  {
   "cell_type": "code",
   "execution_count": 75,
   "metadata": {},
   "outputs": [
    {
     "data": {
      "text/plain": [
       "[<matplotlib.lines.Line2D at 0x1c884fe4430>]"
      ]
     },
     "execution_count": 75,
     "metadata": {},
     "output_type": "execute_result"
    },
    {
     "data": {
      "image/png": "[encoded data removed]",
      "text/plain": [
       "<Figure size 432x288 with 1 Axes>"
      ]
     },
     "metadata": {
      "needs_background": "light"
     },
     "output_type": "display_data"
    }
   ],
   "source": [
    "plt.plot(losses[:])"
   ]
  },
  {
   "cell_type": "code",
   "execution_count": 76,
   "metadata": {},
   "outputs": [
    {
     "data": {
      "text/plain": [
       "torch.Size([200, 50, 2])"
      ]
     },
     "execution_count": 76,
     "metadata": {},
     "output_type": "execute_result"
    }
   ],
   "source": [
    " torchsde.sdeint(sde, Θ_0, ts, method=\"euler\", dt=Δt).shape"
   ]
  },
  {
   "cell_type": "code",
   "execution_count": 77,
   "metadata": {},
   "outputs": [
    {
     "data": {
      "text/plain": [
       "tensor([[1., 0.],\n",
       "        [0., 1.],\n",
       "        [0., 0.]])"
      ]
     },
     "execution_count": 77,
     "metadata": {},
     "output_type": "execute_result"
    }
   ],
   "source": [
    "torch.eye(3,2)"
   ]
  },
  {
   "cell_type": "code",
   "execution_count": 78,
   "metadata": {},
   "outputs": [],
   "source": [
    "# Mannualy doing one step of Euler\n",
    "\n",
    "Θ_1 = torchsde.sdeint(sde, Θ_0, ts, dt=Δt)[-1,...]"
   ]
  },
  {
   "cell_type": "code",
   "execution_count": 79,
   "metadata": {},
   "outputs": [],
   "source": [
    "Θ_1 = Θ_1.reshape(50,2)"
   ]
  },
  {
   "cell_type": "code",
   "execution_count": 80,
   "metadata": {},
   "outputs": [
    {
     "data": {
      "text/plain": [
       "(array([ 3.,  1.,  6.,  1.,  6.,  9., 11.,  6.,  4.,  3.]),\n",
       " array([-1.9759991 , -1.6644241 , -1.352849  , -1.0412738 , -0.7296988 ,\n",
       "        -0.41812372, -0.10654864,  0.20502643,  0.5166015 ,  0.8281766 ,\n",
       "         1.1397517 ], dtype=float32),\n",
       " <a list of 10 Patch objects>)"
      ]
     },
     "execution_count": 80,
     "metadata": {},
     "output_type": "execute_result"
    },
    {
     "data": {
      "image/png": "[encoded data removed]",
      "text/plain": [
       "<Figure size 432x288 with 2 Axes>"
      ]
     },
     "metadata": {
      "needs_background": "light"
     },
     "output_type": "display_data"
    }
   ],
   "source": [
    "fig, (ax1,ax2) = plt.subplots(1,2)\n",
    "\n",
    "ax1.hist(Θ_1[:,0].flatten().cpu().detach().numpy())\n",
    "ax2.hist(Θ_1[:,1].flatten().cpu().detach().numpy())"
   ]
  },
  {
   "cell_type": "code",
   "execution_count": 81,
   "metadata": {},
   "outputs": [],
   "source": [
    "\n",
    "# Manually doing 2 steps of euler \n",
    "Θ_2 = sde.f(0, \n",
    "        sde.f(0, Θ_0) * Δt + torch.normal(0,math.sqrt(Δt), (Θ_0.shape[0], Θ_0.shape[1]) ).to(device)\n",
    "    ) * Δt +  torch.normal(0,math.sqrt(Δt), (Θ_0.shape[0], Θ_0.shape[1]) ).to(device)"
   ]
  },
  {
   "cell_type": "code",
   "execution_count": 82,
   "metadata": {},
   "outputs": [
    {
     "data": {
      "image/png": "[encoded data removed]",
      "text/plain": [
       "<Figure size 1152x432 with 1 Axes>"
      ]
     },
     "metadata": {
      "needs_background": "light"
     },
     "output_type": "display_data"
    }
   ],
   "source": [
    "fig, ax_1 = plt.subplots(1, 1, figsize=(16, 6))\n",
    "Θ_plot = Θ_1.cpu().detach() #.reshape(50*3,2)\n",
    "\n",
    "Θ_plot2 = Θ_2.cpu().detach() \n",
    "\n",
    "\n",
    "\n",
    "ax_1.plot(Θ_plot[:, 0], Θ_plot[:, 1], \n",
    "         linestyle='none', \n",
    "         marker='o', color=\"red\", label=\"Euler done by torche SDE\")\n",
    "\n",
    "# ax_1.plot(Θ_plot2[:, 0], Θ_plot2[:, 1], \n",
    "#          linestyle='none', \n",
    "#          marker='o', color=\"blue\", label=\"Euler done manually\")\n",
    "\n",
    "ax_1.plot(X_scaled[:, 0], X_scaled[:, 1], \n",
    "         linestyle='none', \n",
    "         marker='o', label=\"Observations $X$\")\n",
    "\n",
    "ax_1.legend()\n",
    "ax_1.axis('equal');"
   ]
  },
  {
   "cell_type": "code",
   "execution_count": null,
   "metadata": {},
   "outputs": [],
   "source": []
  },
  {
   "cell_type": "code",
   "execution_count": null,
   "metadata": {},
   "outputs": [],
   "source": []
  }
 ],
 "metadata": {
  "kernelspec": {
   "display_name": "Python 3",
   "language": "python",
   "name": "python3"
  },
  "language_info": {
   "codemirror_mode": {
    "name": "ipython",
    "version": 3
   },
   "file_extension": ".py",
   "mimetype": "text/x-python",
   "name": "python",
   "nbconvert_exporter": "python",
   "pygments_lexer": "ipython3",
   "version": "3.8.5"
  },
  "toc": {
   "base_numbering": 1,
   "nav_menu": {},
   "number_sections": true,
   "sideBar": true,
   "skip_h1_title": false,
   "title_cell": "Table of Contents",
   "title_sidebar": "Contents",
   "toc_cell": false,
   "toc_position": {},
   "toc_section_display": true,
   "toc_window_display": false
  }
 },
 "nbformat": 4,
 "nbformat_minor": 4
}
