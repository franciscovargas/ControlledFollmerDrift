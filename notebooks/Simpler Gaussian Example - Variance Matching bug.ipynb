{
 "cells": [
  {
   "cell_type": "code",
   "execution_count": 1,
   "metadata": {},
   "outputs": [],
   "source": [
    "import torch\n",
    "import torch.nn.functional as F\n",
    "\n",
    "import torchsde\n",
    "import math\n",
    "import matplotlib.pyplot as plt\n",
    "\n",
    "from cfollmer.objectives import log_g, relative_entropy_control_cost, relative_entropy_control_cost_direct\n",
    "from cfollmer.sampler_utils import FollmerSDE\n",
    "import numpy as np\n",
    "\n",
    "from tqdm.notebook import tqdm\n",
    "\n",
    "from torch import _vmap_internals"
   ]
  },
  {
   "cell_type": "markdown",
   "metadata": {},
   "source": [
    "## Generating Toy 2D Dataset."
   ]
  },
  {
   "cell_type": "code",
   "execution_count": 2,
   "metadata": {},
   "outputs": [],
   "source": [
    "import torch\n",
    "from sklearn.datasets import make_blobs\n",
    "from sklearn.model_selection import train_test_split\n",
    "from sklearn.preprocessing import StandardScaler\n",
    "\n",
    "device = \"cuda\" if torch.cuda.is_available() else \"cpu\"\n",
    "random_state = 170\n",
    "\n",
    "X, y = make_blobs(n_samples=300,\n",
    "                  cluster_std=[0.5, 0.5, 0.5],\n",
    "                  random_state=random_state)\n",
    "\n",
    "X = X[y==0,:]\n",
    "y = y[y==0]\n",
    "# # Scale data to have mean 0 and variance 1 \n",
    "# # which is importance for convergence of the neural network\n",
    "scaler = StandardScaler()\n",
    "X_scaled = scaler.fit_transform(X)\n",
    "\n",
    "# Split the data set into training and testing\n",
    "X_train, X_test, y_train, y_test = train_test_split(\n",
    "    X_scaled, y, test_size=0.2, random_state=2)\n",
    "\n",
    "\n",
    "X_train, X_test, y_train, y_test = \\\n",
    "    torch.tensor(X_train, dtype=torch.float32, device=device), \\\n",
    "    torch.tensor(X_test, dtype=torch.float32, device=device), \\\n",
    "    torch.tensor(y_train, dtype=torch.float32, device=device), \\\n",
    "    torch.tensor(y_test, dtype=torch.float32, device=device) "
   ]
  },
  {
   "cell_type": "code",
   "execution_count": 3,
   "metadata": {},
   "outputs": [
    {
     "data": {
      "text/plain": [
       "array([0, 0, 0, 0, 0, 0, 0, 0, 0, 0, 0, 0, 0, 0, 0, 0, 0, 0, 0, 0, 0, 0,\n",
       "       0, 0, 0, 0, 0, 0, 0, 0, 0, 0, 0, 0, 0, 0, 0, 0, 0, 0, 0, 0, 0, 0,\n",
       "       0, 0, 0, 0, 0, 0, 0, 0, 0, 0, 0, 0, 0, 0, 0, 0, 0, 0, 0, 0, 0, 0,\n",
       "       0, 0, 0, 0, 0, 0, 0, 0, 0, 0, 0, 0, 0, 0, 0, 0, 0, 0, 0, 0, 0, 0,\n",
       "       0, 0, 0, 0, 0, 0, 0, 0, 0, 0, 0, 0])"
      ]
     },
     "execution_count": 3,
     "metadata": {},
     "output_type": "execute_result"
    }
   ],
   "source": [
    "y"
   ]
  },
  {
   "cell_type": "code",
   "execution_count": 4,
   "metadata": {},
   "outputs": [
    {
     "data": {
      "image/png": "[encoded data removed]",
      "text/plain": [
       "<Figure size 1152x432 with 1 Axes>"
      ]
     },
     "metadata": {
      "needs_background": "light"
     },
     "output_type": "display_data"
    }
   ],
   "source": [
    "fig, ax1 = plt.subplots(1, 1, figsize=(16, 6))\n",
    "\n",
    "ax1.plot(X_scaled[:, 0], X_scaled[:, 1], \n",
    "         linestyle='none', \n",
    "         marker='o')\n",
    "\n",
    "ax1.axis('equal');"
   ]
  },
  {
   "cell_type": "markdown",
   "metadata": {},
   "source": [
    "$$\\DeclareMathOperator*{\\argmin}{arg\\,min}$$\n",
    "$$\\def\\E{{\\mathbb{E}}}$$\n",
    "$$\\def\\rvu{{\\mathbf{u}}}$$\n",
    "$$\\def\\rvTheta{{\\bm{\\Theta}}}$$\n",
    "$$\\def\\gU{{\\mathcal{U}}}$$\n",
    "$$\\def\\mX{{\\mathbf{X}}}$$"
   ]
  },
  {
   "cell_type": "markdown",
   "metadata": {},
   "source": [
    "## Variance Matching bug Here\n",
    "\n",
    "Check out ln_prior there I am tweaking $\\sigma_w$ Ive set the log_likelihood to be 0 this way our algorithm should be trying to have as target the prior . For some reason the neural net is completely unable to match the variance I am specifying I have gone from very low to very high and the method is unable to do anhything to fit the target variance. For a sufficiently small $\\Delta t$ we should be able to do this, standard VI is able to do this, so theres some sort of bug / issue here. "
   ]
  },
  {
   "cell_type": "code",
   "execution_count": 5,
   "metadata": {},
   "outputs": [],
   "source": [
    "# TODO: Why is changing σ_w doing nothing ??\n",
    "def ln_prior(Θ, σ_w=20.1):\n",
    "    \"\"\"\n",
    "    Prior for means in Bayesian GMM\n",
    "    \"\"\"\n",
    "    return -0.5 * ((Θ-10)**2).sum(axis=1) / σ_w"
   ]
  },
  {
   "cell_type": "code",
   "execution_count": 6,
   "metadata": {},
   "outputs": [],
   "source": [
    "Δt=0.05\n",
    "t_size = int(math.ceil(1.0/Δt))\n",
    "dim =  2\n",
    "\n",
    "ts = torch.linspace(0, 1, t_size).to(device)\n",
    "no_posterior_samples = 50\n",
    "\n",
    "sde = FollmerSDE(dim, dim, no_posterior_samples, 1.0, device=device).to(device)\n",
    "Θ_0 = torch.zeros((no_posterior_samples, dim)).to(device) # Θ_0 ~ δ_0\n",
    "\n",
    "# Initial state y0, the SDE is solved over the interval [ts[0], ts[-1]].\n",
    "# ys will have shape (t_size, batch_size, state_size)\n",
    "ys = torchsde.sdeint(sde, Θ_0, ts, dt=Δt)"
   ]
  },
  {
   "cell_type": "code",
   "execution_count": 7,
   "metadata": {},
   "outputs": [
    {
     "data": {
      "text/plain": [
       "tensor(4.2348, device='cuda:0', grad_fn=<MeanBackward0>)"
      ]
     },
     "execution_count": 7,
     "metadata": {},
     "output_type": "execute_result"
    }
   ],
   "source": [
    "relative_entropy_control_cost_direct(sde, Θ_0, ln_prior, γ=1.0, device=device)"
   ]
  },
  {
   "cell_type": "code",
   "execution_count": 8,
   "metadata": {},
   "outputs": [
    {
     "name": "stdout",
     "output_type": "stream",
     "text": [
      "200\n"
     ]
    },
    {
     "data": {
      "application/vnd.jupyter.widget-view+json": {
       "model_id": "c7cc9497dd294a34b9900afbb1df47b0",
       "version_major": 2,
       "version_minor": 0
      },
      "text/plain": [
       "  0%|          | 0/300 [00:00<?, ?it/s]"
      ]
     },
     "metadata": {},
     "output_type": "display_data"
    }
   ],
   "source": [
    "γ = 1.0\n",
    "Δt=0.005\n",
    "t_size = int(math.ceil(1.0/Δt))\n",
    "print(t_size)\n",
    "ts = torch.linspace(0, 1, t_size).to(device)\n",
    "\n",
    "sde = FollmerSDE(dim, dim, no_posterior_samples  , γ=γ, device=device).to(device)\n",
    "optimizer = torch.optim.Adam(sde.μ.parameters(), lr=0.01, weight_decay =0.1)\n",
    "#     optimizer = torch.optim.LBFGS(gpr.parameters(), lr=0.01)\n",
    "losses = []\n",
    "num_steps = 300\n",
    "\n",
    "train = True\n",
    "if train:\n",
    "    for i in tqdm(range(num_steps)):\n",
    "        optimizer.zero_grad()\n",
    "\n",
    "        if isinstance(optimizer, torch.optim.LBFGS):\n",
    "            def closure():\n",
    "                loss = relative_entropy_control_cost_direct(\n",
    "                    sde, Θ_0.float(),\n",
    "                    ln_prior, γ=γ\n",
    "                )\n",
    "                optimizer.zero_grad()\n",
    "                loss.backward()\n",
    "                return loss\n",
    "\n",
    "            optimizer.step(closure)\n",
    "            losses.append(closure().item())\n",
    "        else:\n",
    "            loss = relative_entropy_control_cost_direct(\n",
    "                sde, Θ_0,\n",
    "                ln_prior, γ=γ\n",
    "            )\n",
    "            optimizer.zero_grad()\n",
    "            loss.backward()\n",
    "\n",
    "            optimizer.step()\n",
    "            losses.append(loss.item())"
   ]
  },
  {
   "cell_type": "code",
   "execution_count": 9,
   "metadata": {
    "scrolled": true
   },
   "outputs": [
    {
     "data": {
      "text/plain": [
       "[4.561178207397461,\n",
       " 4.646542072296143,\n",
       " 4.079276084899902,\n",
       " 3.7716822624206543,\n",
       " 4.183079719543457,\n",
       " 4.2075581550598145,\n",
       " 4.375487327575684,\n",
       " 3.6762804985046387,\n",
       " 4.297973155975342,\n",
       " 4.0202131271362305,\n",
       " 4.189715385437012,\n",
       " 3.9465157985687256,\n",
       " 3.962609052658081,\n",
       " 4.066720008850098,\n",
       " 4.1656718254089355,\n",
       " 3.4938511848449707,\n",
       " 4.05947732925415,\n",
       " 3.9598071575164795,\n",
       " 3.9728755950927734,\n",
       " 3.9027295112609863,\n",
       " 3.7322285175323486,\n",
       " 3.6306910514831543,\n",
       " 3.8515725135803223,\n",
       " 3.835222005844116,\n",
       " 3.865710973739624,\n",
       " 4.0101118087768555,\n",
       " 3.9136769771575928,\n",
       " 3.940493106842041,\n",
       " 4.122621536254883,\n",
       " 3.9109716415405273,\n",
       " 4.18317985534668,\n",
       " 4.047577857971191,\n",
       " 4.219486236572266,\n",
       " 4.099632263183594,\n",
       " 4.027738571166992,\n",
       " 4.074793338775635,\n",
       " 3.893461227416992,\n",
       " 3.8323607444763184,\n",
       " 4.13564920425415,\n",
       " 3.8764708042144775,\n",
       " 4.142397880554199,\n",
       " 4.173806190490723,\n",
       " 4.0851006507873535,\n",
       " 3.984489679336548,\n",
       " 4.169976234436035,\n",
       " 4.072145462036133,\n",
       " 3.7696423530578613,\n",
       " 3.9680657386779785,\n",
       " 4.125401020050049,\n",
       " 4.0459113121032715,\n",
       " 3.9414799213409424,\n",
       " 3.8406732082366943,\n",
       " 3.9295496940612793,\n",
       " 3.9063658714294434,\n",
       " 3.9687340259552,\n",
       " 3.987362861633301,\n",
       " 4.004864692687988,\n",
       " 3.9148449897766113,\n",
       " 3.8600072860717773,\n",
       " 4.4265828132629395,\n",
       " 4.0680084228515625,\n",
       " 3.8283069133758545,\n",
       " 4.103392124176025,\n",
       " 3.937191963195801,\n",
       " 3.918984889984131,\n",
       " 3.701022148132324,\n",
       " 3.9778671264648438,\n",
       " 4.176510334014893,\n",
       " 4.0572896003723145,\n",
       " 4.065946102142334,\n",
       " 4.135890483856201,\n",
       " 4.038321495056152,\n",
       " 4.082650661468506,\n",
       " 3.8987605571746826,\n",
       " 3.8084981441497803,\n",
       " 4.228170394897461,\n",
       " 4.25797700881958,\n",
       " 3.9022483825683594,\n",
       " 3.912213087081909,\n",
       " 3.9134843349456787,\n",
       " 3.932246208190918,\n",
       " 4.250872611999512,\n",
       " 3.9042317867279053,\n",
       " 3.820976495742798,\n",
       " 3.610581636428833,\n",
       " 3.7406811714172363,\n",
       " 3.7485411167144775,\n",
       " 3.940253257751465,\n",
       " 4.105354309082031,\n",
       " 3.959562301635742,\n",
       " 4.040933609008789,\n",
       " 4.189389705657959,\n",
       " 4.057962417602539,\n",
       " 4.0900092124938965,\n",
       " 3.9752743244171143,\n",
       " 3.992619037628174,\n",
       " 3.987318992614746,\n",
       " 4.074726581573486,\n",
       " 4.220155715942383,\n",
       " 3.960892915725708,\n",
       " 3.814351797103882,\n",
       " 4.147952556610107,\n",
       " 4.361353874206543,\n",
       " 4.381406307220459,\n",
       " 3.9398372173309326,\n",
       " 4.141506671905518,\n",
       " 3.962266445159912,\n",
       " 3.7148725986480713,\n",
       " 3.9753947257995605,\n",
       " 4.117990970611572,\n",
       " 3.80315899848938,\n",
       " 4.097848892211914,\n",
       " 3.7138562202453613,\n",
       " 3.80682635307312,\n",
       " 3.8936784267425537,\n",
       " 3.982731580734253,\n",
       " 3.9362871646881104,\n",
       " 4.167517185211182,\n",
       " 3.8514256477355957,\n",
       " 3.932720184326172,\n",
       " 4.14493989944458,\n",
       " 4.243212699890137,\n",
       " 4.287165641784668,\n",
       " 4.108730792999268,\n",
       " 4.049506664276123,\n",
       " 4.119152069091797,\n",
       " 4.171536922454834,\n",
       " 4.189522743225098,\n",
       " 4.431863784790039,\n",
       " 4.213619232177734,\n",
       " 4.137605667114258,\n",
       " 4.021719455718994,\n",
       " 3.472787380218506,\n",
       " 4.040489673614502,\n",
       " 4.254133701324463,\n",
       " 3.8701248168945312,\n",
       " 4.034002780914307,\n",
       " 3.9811885356903076,\n",
       " 4.107335567474365,\n",
       " 4.127329349517822,\n",
       " 4.089313507080078,\n",
       " 3.8704545497894287,\n",
       " 3.8122143745422363,\n",
       " 3.8163633346557617,\n",
       " 4.144692897796631,\n",
       " 3.9337680339813232,\n",
       " 3.973544120788574,\n",
       " 4.087356090545654,\n",
       " 3.899862051010132,\n",
       " 4.305396556854248,\n",
       " 3.9256670475006104,\n",
       " 4.060981750488281,\n",
       " 4.016236305236816,\n",
       " 3.6588733196258545,\n",
       " 4.173898696899414,\n",
       " 3.997889280319214,\n",
       " 3.7994351387023926,\n",
       " 4.103630065917969,\n",
       " 4.1117658615112305,\n",
       " 4.2120256423950195,\n",
       " 3.753129243850708,\n",
       " 4.023884296417236,\n",
       " 3.998915910720825,\n",
       " 4.271703243255615,\n",
       " 3.995420455932617,\n",
       " 3.986992359161377,\n",
       " 3.96816086769104,\n",
       " 3.9424264430999756,\n",
       " 4.003511428833008,\n",
       " 4.010006427764893,\n",
       " 4.162116050720215,\n",
       " 4.204199314117432,\n",
       " 4.355946063995361,\n",
       " 3.891575813293457,\n",
       " 4.151636123657227,\n",
       " 4.003407001495361,\n",
       " 3.8680925369262695,\n",
       " 4.026401042938232,\n",
       " 4.081070423126221,\n",
       " 4.11061429977417,\n",
       " 4.211135387420654,\n",
       " 3.9641473293304443,\n",
       " 3.7964491844177246,\n",
       " 3.976501941680908,\n",
       " 4.195853233337402,\n",
       " 3.62148380279541,\n",
       " 4.037744522094727,\n",
       " 4.09602689743042,\n",
       " 4.177114486694336,\n",
       " 3.744135618209839,\n",
       " 3.515568256378174,\n",
       " 4.054779529571533,\n",
       " 4.015366554260254,\n",
       " 3.872476816177368,\n",
       " 3.956888437271118,\n",
       " 4.197195529937744,\n",
       " 4.0441131591796875,\n",
       " 4.241384983062744,\n",
       " 4.27069091796875,\n",
       " 3.9022016525268555,\n",
       " 4.016511917114258,\n",
       " 3.985610246658325,\n",
       " 4.163797378540039,\n",
       " 3.9642174243927,\n",
       " 3.9730052947998047,\n",
       " 4.363139629364014,\n",
       " 4.03390645980835,\n",
       " 3.6506505012512207,\n",
       " 4.066251277923584,\n",
       " 4.1464948654174805,\n",
       " 3.6838197708129883,\n",
       " 4.3929057121276855,\n",
       " 4.214722156524658,\n",
       " 4.1497483253479,\n",
       " 3.934804677963257,\n",
       " 4.061209201812744,\n",
       " 4.039085388183594,\n",
       " 4.010395526885986,\n",
       " 3.8917839527130127,\n",
       " 4.260104179382324,\n",
       " 4.247441291809082,\n",
       " 4.130622386932373,\n",
       " 4.029984951019287,\n",
       " 3.760043144226074,\n",
       " 4.195923805236816,\n",
       " 3.694713592529297,\n",
       " 3.810474157333374,\n",
       " 4.258176326751709,\n",
       " 3.6833136081695557,\n",
       " 4.02781343460083,\n",
       " 3.969010591506958,\n",
       " 4.02027702331543,\n",
       " 3.899416446685791,\n",
       " 4.096114158630371,\n",
       " 4.211832523345947,\n",
       " 3.891737699508667,\n",
       " 3.923069953918457,\n",
       " 4.120362281799316,\n",
       " 4.1985392570495605,\n",
       " 4.1942548751831055,\n",
       " 4.129663467407227,\n",
       " 4.378115177154541,\n",
       " 4.004130840301514,\n",
       " 4.053782939910889,\n",
       " 4.100636959075928,\n",
       " 3.9794838428497314,\n",
       " 3.9274978637695312,\n",
       " 3.9288134574890137,\n",
       " 3.4675512313842773,\n",
       " 4.07776403427124,\n",
       " 3.932265281677246,\n",
       " 4.272992134094238,\n",
       " 3.883328676223755,\n",
       " 4.080540180206299,\n",
       " 4.210180759429932,\n",
       " 4.249412536621094,\n",
       " 3.90537166595459,\n",
       " 4.072610855102539,\n",
       " 3.8425183296203613,\n",
       " 3.994119882583618,\n",
       " 3.9662559032440186,\n",
       " 4.012734889984131,\n",
       " 4.060853004455566,\n",
       " 3.950730085372925,\n",
       " 4.110506057739258,\n",
       " 3.9562227725982666,\n",
       " 3.4617178440093994,\n",
       " 4.049267292022705,\n",
       " 3.6906073093414307,\n",
       " 3.9482619762420654,\n",
       " 4.296753883361816,\n",
       " 4.035977840423584,\n",
       " 4.31260347366333,\n",
       " 3.982571840286255,\n",
       " 3.9010515213012695,\n",
       " 3.7668004035949707,\n",
       " 3.946735382080078,\n",
       " 3.852567672729492,\n",
       " 3.8940539360046387,\n",
       " 4.086578845977783,\n",
       " 4.22439432144165,\n",
       " 3.8989851474761963,\n",
       " 4.1116814613342285,\n",
       " 3.748025417327881,\n",
       " 3.939162254333496,\n",
       " 4.119386672973633,\n",
       " 4.063777446746826,\n",
       " 4.3157477378845215,\n",
       " 3.9121813774108887,\n",
       " 4.011007785797119,\n",
       " 4.086460590362549,\n",
       " 4.359103679656982,\n",
       " 3.771578788757324,\n",
       " 3.6687755584716797,\n",
       " 4.221437454223633,\n",
       " 4.165543079376221,\n",
       " 3.8620190620422363,\n",
       " 3.5050344467163086,\n",
       " 4.016435146331787,\n",
       " 3.97426438331604]"
      ]
     },
     "execution_count": 9,
     "metadata": {},
     "output_type": "execute_result"
    }
   ],
   "source": [
    "losses"
   ]
  },
  {
   "cell_type": "code",
   "execution_count": 10,
   "metadata": {},
   "outputs": [
    {
     "data": {
      "text/plain": [
       "[<matplotlib.lines.Line2D at 0x20e10ad1490>]"
      ]
     },
     "execution_count": 10,
     "metadata": {},
     "output_type": "execute_result"
    },
    {
     "data": {
      "image/png": "[encoded data removed]",
      "text/plain": [
       "<Figure size 432x288 with 1 Axes>"
      ]
     },
     "metadata": {
      "needs_background": "light"
     },
     "output_type": "display_data"
    }
   ],
   "source": [
    "plt.plot(losses[:])"
   ]
  },
  {
   "cell_type": "code",
   "execution_count": 11,
   "metadata": {},
   "outputs": [
    {
     "data": {
      "text/plain": [
       "torch.Size([200, 50, 2])"
      ]
     },
     "execution_count": 11,
     "metadata": {},
     "output_type": "execute_result"
    }
   ],
   "source": [
    " torchsde.sdeint(sde, Θ_0, ts, method=\"euler\", dt=Δt).shape"
   ]
  },
  {
   "cell_type": "code",
   "execution_count": 12,
   "metadata": {},
   "outputs": [
    {
     "data": {
      "text/plain": [
       "tensor([[1., 0.],\n",
       "        [0., 1.],\n",
       "        [0., 0.]])"
      ]
     },
     "execution_count": 12,
     "metadata": {},
     "output_type": "execute_result"
    }
   ],
   "source": [
    "torch.eye(3,2)"
   ]
  },
  {
   "cell_type": "code",
   "execution_count": 13,
   "metadata": {},
   "outputs": [],
   "source": [
    "# Mannualy doing one step of Euler\n",
    "\n",
    "Θ_1 = torchsde.sdeint(sde, Θ_0, ts, dt=Δt)[-1,...]"
   ]
  },
  {
   "cell_type": "code",
   "execution_count": 14,
   "metadata": {},
   "outputs": [],
   "source": [
    "Θ_1 = Θ_1.reshape(50,2)"
   ]
  },
  {
   "cell_type": "code",
   "execution_count": 15,
   "metadata": {},
   "outputs": [
    {
     "data": {
      "text/plain": [
       "(array([ 1.,  0.,  1.,  3., 15.,  9.,  8.,  5.,  6.,  2.]),\n",
       " array([-3.3900237 , -2.8065565 , -2.2230892 , -1.639622  , -1.0561547 ,\n",
       "        -0.47268748,  0.11077976,  0.694247  ,  1.2777143 ,  1.8611815 ,\n",
       "         2.4446487 ], dtype=float32),\n",
       " <a list of 10 Patch objects>)"
      ]
     },
     "execution_count": 15,
     "metadata": {},
     "output_type": "execute_result"
    },
    {
     "data": {
      "image/png": "[encoded data removed]",
      "text/plain": [
       "<Figure size 432x288 with 2 Axes>"
      ]
     },
     "metadata": {
      "needs_background": "light"
     },
     "output_type": "display_data"
    }
   ],
   "source": [
    "fig, (ax1,ax2) = plt.subplots(1,2)\n",
    "\n",
    "ax1.hist(Θ_1[:,0].flatten().cpu().detach().numpy())\n",
    "ax2.hist(Θ_1[:,1].flatten().cpu().detach().numpy())"
   ]
  },
  {
   "cell_type": "code",
   "execution_count": 16,
   "metadata": {},
   "outputs": [
    {
     "name": "stdout",
     "output_type": "stream",
     "text": [
      "> \u001b[1;32mc:\\users\\vargf\\onedrive\\documents\\projects\\controlledfollmerdrift\\cfollmer\\sampler_utils.py\u001b[0m(49)\u001b[0;36mf\u001b[1;34m()\u001b[0m\n",
      "\u001b[1;32m     47 \u001b[1;33m        \u001b[1;32mexcept\u001b[0m\u001b[1;33m:\u001b[0m\u001b[1;33m\u001b[0m\u001b[1;33m\u001b[0m\u001b[0m\n",
      "\u001b[0m\u001b[1;32m     48 \u001b[1;33m            \u001b[1;32mimport\u001b[0m \u001b[0mpdb\u001b[0m\u001b[1;33m;\u001b[0m \u001b[0mpdb\u001b[0m\u001b[1;33m.\u001b[0m\u001b[0mset_trace\u001b[0m\u001b[1;33m(\u001b[0m\u001b[1;33m)\u001b[0m\u001b[1;33m\u001b[0m\u001b[1;33m\u001b[0m\u001b[0m\n",
      "\u001b[0m\u001b[1;32m---> 49 \u001b[1;33m        \u001b[1;32mreturn\u001b[0m \u001b[0mself\u001b[0m\u001b[1;33m.\u001b[0m\u001b[0mμ\u001b[0m\u001b[1;33m(\u001b[0m\u001b[0my\u001b[0m\u001b[1;33m)\u001b[0m   \u001b[1;31m# shape (batch_size, state_size)\u001b[0m\u001b[1;33m\u001b[0m\u001b[1;33m\u001b[0m\u001b[0m\n",
      "\u001b[0m\u001b[1;32m     50 \u001b[1;33m\u001b[1;33m\u001b[0m\u001b[0m\n",
      "\u001b[0m\u001b[1;32m     51 \u001b[1;33m    \u001b[1;31m# Diffusion\u001b[0m\u001b[1;33m\u001b[0m\u001b[1;33m\u001b[0m\u001b[1;33m\u001b[0m\u001b[0m\n",
      "\u001b[0m\n",
      "ipdb> y.shape\n",
      "torch.Size([50, 2])\n",
      "ipdb> t_.shape\n",
      "*** NameError: name 't_' is not defined\n",
      "ipdb> t.shape\n",
      "*** AttributeError: 'int' object has no attribute 'shape'\n",
      "ipdb> ll\n",
      "\u001b[0;32m     41 \u001b[0m    \u001b[1;32mdef\u001b[0m \u001b[0mf\u001b[0m\u001b[1;33m(\u001b[0m\u001b[0mself\u001b[0m\u001b[1;33m,\u001b[0m \u001b[0mt\u001b[0m\u001b[1;33m,\u001b[0m \u001b[0my\u001b[0m\u001b[1;33m)\u001b[0m\u001b[1;33m:\u001b[0m\u001b[1;33m\u001b[0m\u001b[1;33m\u001b[0m\u001b[0m\n",
      "\u001b[0;32m     42 \u001b[0m        \u001b[1;32mtry\u001b[0m\u001b[1;33m:\u001b[0m\u001b[1;33m\u001b[0m\u001b[1;33m\u001b[0m\u001b[0m\n",
      "\u001b[0;32m     43 \u001b[0m            \u001b[0md\u001b[0m \u001b[1;33m=\u001b[0m \u001b[0my\u001b[0m\u001b[1;33m.\u001b[0m\u001b[0mshape\u001b[0m\u001b[1;33m[\u001b[0m\u001b[1;36m0\u001b[0m\u001b[1;33m]\u001b[0m \u001b[1;32mif\u001b[0m \u001b[0mlen\u001b[0m\u001b[1;33m(\u001b[0m\u001b[0my\u001b[0m\u001b[1;33m.\u001b[0m\u001b[0mshape\u001b[0m\u001b[1;33m)\u001b[0m \u001b[1;33m==\u001b[0m \u001b[1;36m2\u001b[0m \u001b[1;32melse\u001b[0m \u001b[0my\u001b[0m\u001b[1;33m.\u001b[0m\u001b[0mshape\u001b[0m\u001b[1;33m[\u001b[0m\u001b[1;36m1\u001b[0m\u001b[1;33m]\u001b[0m\u001b[1;33m\u001b[0m\u001b[1;33m\u001b[0m\u001b[0m\n",
      "\u001b[0;32m     44 \u001b[0m            \u001b[0mt_\u001b[0m \u001b[1;33m=\u001b[0m \u001b[0mt\u001b[0m\u001b[1;33m.\u001b[0m\u001b[0mto\u001b[0m\u001b[1;33m(\u001b[0m\u001b[0mself\u001b[0m\u001b[1;33m.\u001b[0m\u001b[0mdevice\u001b[0m\u001b[1;33m)\u001b[0m \u001b[1;33m*\u001b[0m \u001b[0mtorch\u001b[0m\u001b[1;33m.\u001b[0m\u001b[0mones\u001b[0m\u001b[1;33m(\u001b[0m\u001b[0md\u001b[0m\u001b[1;33m,\u001b[0m\u001b[1;36m1\u001b[0m\u001b[1;33m)\u001b[0m\u001b[1;33m.\u001b[0m\u001b[0mto\u001b[0m\u001b[1;33m(\u001b[0m\u001b[0mself\u001b[0m\u001b[1;33m.\u001b[0m\u001b[0mdevice\u001b[0m\u001b[1;33m)\u001b[0m\u001b[1;33m\u001b[0m\u001b[1;33m\u001b[0m\u001b[0m\n",
      "\u001b[0;32m     45 \u001b[0m            \u001b[0mt_\u001b[0m \u001b[1;33m=\u001b[0m \u001b[0mt_\u001b[0m \u001b[1;32mif\u001b[0m \u001b[0mlen\u001b[0m\u001b[1;33m(\u001b[0m\u001b[0my\u001b[0m\u001b[1;33m.\u001b[0m\u001b[0mshape\u001b[0m\u001b[1;33m)\u001b[0m \u001b[1;33m==\u001b[0m \u001b[1;36m2\u001b[0m \u001b[1;32melse\u001b[0m \u001b[0mt_\u001b[0m\u001b[1;33m.\u001b[0m\u001b[0mT\u001b[0m\u001b[1;33m[\u001b[0m\u001b[1;33m...\u001b[0m\u001b[1;33m,\u001b[0m\u001b[1;32mNone\u001b[0m\u001b[1;33m]\u001b[0m\u001b[1;33m\u001b[0m\u001b[1;33m\u001b[0m\u001b[0m\n",
      "\u001b[0;32m     46 \u001b[0m            \u001b[0my\u001b[0m \u001b[1;33m=\u001b[0m \u001b[0mtorch\u001b[0m\u001b[1;33m.\u001b[0m\u001b[0mcat\u001b[0m\u001b[1;33m(\u001b[0m\u001b[1;33m(\u001b[0m\u001b[0my\u001b[0m\u001b[1;33m,\u001b[0m \u001b[0mt_\u001b[0m\u001b[1;33m)\u001b[0m\u001b[1;33m,\u001b[0m \u001b[0mdim\u001b[0m\u001b[1;33m=\u001b[0m\u001b[1;33m-\u001b[0m\u001b[1;36m1\u001b[0m\u001b[1;33m)\u001b[0m\u001b[1;33m\u001b[0m\u001b[1;33m\u001b[0m\u001b[0m\n",
      "\u001b[0;32m     47 \u001b[0m        \u001b[1;32mexcept\u001b[0m\u001b[1;33m:\u001b[0m\u001b[1;33m\u001b[0m\u001b[1;33m\u001b[0m\u001b[0m\n",
      "\u001b[0;32m     48 \u001b[0m            \u001b[1;32mimport\u001b[0m \u001b[0mpdb\u001b[0m\u001b[1;33m;\u001b[0m \u001b[0mpdb\u001b[0m\u001b[1;33m.\u001b[0m\u001b[0mset_trace\u001b[0m\u001b[1;33m(\u001b[0m\u001b[1;33m)\u001b[0m\u001b[1;33m\u001b[0m\u001b[1;33m\u001b[0m\u001b[0m\n",
      "\u001b[1;32m---> 49 \u001b[1;33m        \u001b[1;32mreturn\u001b[0m \u001b[0mself\u001b[0m\u001b[1;33m.\u001b[0m\u001b[0mμ\u001b[0m\u001b[1;33m(\u001b[0m\u001b[0my\u001b[0m\u001b[1;33m)\u001b[0m   \u001b[1;31m# shape (batch_size, state_size)\u001b[0m\u001b[1;33m\u001b[0m\u001b[1;33m\u001b[0m\u001b[0m\n",
      "\u001b[0m\u001b[0;32m     50 \u001b[0m\u001b[1;33m\u001b[0m\u001b[0m\n",
      "\n",
      "ipdb> q\n"
     ]
    },
    {
     "ename": "BdbQuit",
     "evalue": "",
     "output_type": "error",
     "traceback": [
      "\u001b[1;31m---------------------------------------------------------------------------\u001b[0m",
      "\u001b[1;31mBdbQuit\u001b[0m                                   Traceback (most recent call last)",
      "\u001b[1;32m<ipython-input-16-d369adc39416>\u001b[0m in \u001b[0;36m<module>\u001b[1;34m\u001b[0m\n\u001b[0;32m      1\u001b[0m \u001b[1;31m# Manually doing 2 steps of euler\u001b[0m\u001b[1;33m\u001b[0m\u001b[1;33m\u001b[0m\u001b[1;33m\u001b[0m\u001b[0m\n\u001b[0;32m      2\u001b[0m Θ_2 = sde.f(0, \n\u001b[1;32m----> 3\u001b[1;33m         \u001b[0msde\u001b[0m\u001b[1;33m.\u001b[0m\u001b[0mf\u001b[0m\u001b[1;33m(\u001b[0m\u001b[1;36m0\u001b[0m\u001b[1;33m,\u001b[0m \u001b[0mΘ_0\u001b[0m\u001b[1;33m)\u001b[0m \u001b[1;33m*\u001b[0m \u001b[0mΔt\u001b[0m \u001b[1;33m+\u001b[0m \u001b[0mtorch\u001b[0m\u001b[1;33m.\u001b[0m\u001b[0mnormal\u001b[0m\u001b[1;33m(\u001b[0m\u001b[1;36m0\u001b[0m\u001b[1;33m,\u001b[0m\u001b[0mmath\u001b[0m\u001b[1;33m.\u001b[0m\u001b[0msqrt\u001b[0m\u001b[1;33m(\u001b[0m\u001b[0mΔt\u001b[0m\u001b[1;33m)\u001b[0m\u001b[1;33m,\u001b[0m \u001b[1;33m(\u001b[0m\u001b[0mΘ_0\u001b[0m\u001b[1;33m.\u001b[0m\u001b[0mshape\u001b[0m\u001b[1;33m[\u001b[0m\u001b[1;36m0\u001b[0m\u001b[1;33m]\u001b[0m\u001b[1;33m,\u001b[0m \u001b[0mΘ_0\u001b[0m\u001b[1;33m.\u001b[0m\u001b[0mshape\u001b[0m\u001b[1;33m[\u001b[0m\u001b[1;36m1\u001b[0m\u001b[1;33m]\u001b[0m\u001b[1;33m)\u001b[0m \u001b[1;33m)\u001b[0m\u001b[1;33m.\u001b[0m\u001b[0mto\u001b[0m\u001b[1;33m(\u001b[0m\u001b[0mdevice\u001b[0m\u001b[1;33m)\u001b[0m\u001b[1;33m\u001b[0m\u001b[1;33m\u001b[0m\u001b[0m\n\u001b[0m\u001b[0;32m      4\u001b[0m     ) * Δt +  torch.normal(0,math.sqrt(Δt), (Θ_0.shape[0], Θ_0.shape[1]) ).to(device)\n",
      "\u001b[1;32mc:\\users\\vargf\\onedrive\\documents\\projects\\controlledfollmerdrift\\cfollmer\\sampler_utils.py\u001b[0m in \u001b[0;36mf\u001b[1;34m(self, t, y)\u001b[0m\n\u001b[0;32m     47\u001b[0m         \u001b[1;32mexcept\u001b[0m\u001b[1;33m:\u001b[0m\u001b[1;33m\u001b[0m\u001b[1;33m\u001b[0m\u001b[0m\n\u001b[0;32m     48\u001b[0m             \u001b[1;32mimport\u001b[0m \u001b[0mpdb\u001b[0m\u001b[1;33m;\u001b[0m \u001b[0mpdb\u001b[0m\u001b[1;33m.\u001b[0m\u001b[0mset_trace\u001b[0m\u001b[1;33m(\u001b[0m\u001b[1;33m)\u001b[0m\u001b[1;33m\u001b[0m\u001b[1;33m\u001b[0m\u001b[0m\n\u001b[1;32m---> 49\u001b[1;33m         \u001b[1;32mreturn\u001b[0m \u001b[0mself\u001b[0m\u001b[1;33m.\u001b[0m\u001b[0mμ\u001b[0m\u001b[1;33m(\u001b[0m\u001b[0my\u001b[0m\u001b[1;33m)\u001b[0m   \u001b[1;31m# shape (batch_size, state_size)\u001b[0m\u001b[1;33m\u001b[0m\u001b[1;33m\u001b[0m\u001b[0m\n\u001b[0m\u001b[0;32m     50\u001b[0m \u001b[1;33m\u001b[0m\u001b[0m\n\u001b[0;32m     51\u001b[0m     \u001b[1;31m# Diffusion\u001b[0m\u001b[1;33m\u001b[0m\u001b[1;33m\u001b[0m\u001b[1;33m\u001b[0m\u001b[0m\n",
      "\u001b[1;32mc:\\users\\vargf\\onedrive\\documents\\projects\\controlledfollmerdrift\\cfollmer\\sampler_utils.py\u001b[0m in \u001b[0;36mf\u001b[1;34m(self, t, y)\u001b[0m\n\u001b[0;32m     47\u001b[0m         \u001b[1;32mexcept\u001b[0m\u001b[1;33m:\u001b[0m\u001b[1;33m\u001b[0m\u001b[1;33m\u001b[0m\u001b[0m\n\u001b[0;32m     48\u001b[0m             \u001b[1;32mimport\u001b[0m \u001b[0mpdb\u001b[0m\u001b[1;33m;\u001b[0m \u001b[0mpdb\u001b[0m\u001b[1;33m.\u001b[0m\u001b[0mset_trace\u001b[0m\u001b[1;33m(\u001b[0m\u001b[1;33m)\u001b[0m\u001b[1;33m\u001b[0m\u001b[1;33m\u001b[0m\u001b[0m\n\u001b[1;32m---> 49\u001b[1;33m         \u001b[1;32mreturn\u001b[0m \u001b[0mself\u001b[0m\u001b[1;33m.\u001b[0m\u001b[0mμ\u001b[0m\u001b[1;33m(\u001b[0m\u001b[0my\u001b[0m\u001b[1;33m)\u001b[0m   \u001b[1;31m# shape (batch_size, state_size)\u001b[0m\u001b[1;33m\u001b[0m\u001b[1;33m\u001b[0m\u001b[0m\n\u001b[0m\u001b[0;32m     50\u001b[0m \u001b[1;33m\u001b[0m\u001b[0m\n\u001b[0;32m     51\u001b[0m     \u001b[1;31m# Diffusion\u001b[0m\u001b[1;33m\u001b[0m\u001b[1;33m\u001b[0m\u001b[1;33m\u001b[0m\u001b[0m\n",
      "\u001b[1;32m~\\anaconda3\\lib\\bdb.py\u001b[0m in \u001b[0;36mtrace_dispatch\u001b[1;34m(self, frame, event, arg)\u001b[0m\n\u001b[0;32m     86\u001b[0m             \u001b[1;32mreturn\u001b[0m \u001b[1;31m# None\u001b[0m\u001b[1;33m\u001b[0m\u001b[1;33m\u001b[0m\u001b[0m\n\u001b[0;32m     87\u001b[0m         \u001b[1;32mif\u001b[0m \u001b[0mevent\u001b[0m \u001b[1;33m==\u001b[0m \u001b[1;34m'line'\u001b[0m\u001b[1;33m:\u001b[0m\u001b[1;33m\u001b[0m\u001b[1;33m\u001b[0m\u001b[0m\n\u001b[1;32m---> 88\u001b[1;33m             \u001b[1;32mreturn\u001b[0m \u001b[0mself\u001b[0m\u001b[1;33m.\u001b[0m\u001b[0mdispatch_line\u001b[0m\u001b[1;33m(\u001b[0m\u001b[0mframe\u001b[0m\u001b[1;33m)\u001b[0m\u001b[1;33m\u001b[0m\u001b[1;33m\u001b[0m\u001b[0m\n\u001b[0m\u001b[0;32m     89\u001b[0m         \u001b[1;32mif\u001b[0m \u001b[0mevent\u001b[0m \u001b[1;33m==\u001b[0m \u001b[1;34m'call'\u001b[0m\u001b[1;33m:\u001b[0m\u001b[1;33m\u001b[0m\u001b[1;33m\u001b[0m\u001b[0m\n\u001b[0;32m     90\u001b[0m             \u001b[1;32mreturn\u001b[0m \u001b[0mself\u001b[0m\u001b[1;33m.\u001b[0m\u001b[0mdispatch_call\u001b[0m\u001b[1;33m(\u001b[0m\u001b[0mframe\u001b[0m\u001b[1;33m,\u001b[0m \u001b[0marg\u001b[0m\u001b[1;33m)\u001b[0m\u001b[1;33m\u001b[0m\u001b[1;33m\u001b[0m\u001b[0m\n",
      "\u001b[1;32m~\\anaconda3\\lib\\bdb.py\u001b[0m in \u001b[0;36mdispatch_line\u001b[1;34m(self, frame)\u001b[0m\n\u001b[0;32m    111\u001b[0m         \u001b[1;32mif\u001b[0m \u001b[0mself\u001b[0m\u001b[1;33m.\u001b[0m\u001b[0mstop_here\u001b[0m\u001b[1;33m(\u001b[0m\u001b[0mframe\u001b[0m\u001b[1;33m)\u001b[0m \u001b[1;32mor\u001b[0m \u001b[0mself\u001b[0m\u001b[1;33m.\u001b[0m\u001b[0mbreak_here\u001b[0m\u001b[1;33m(\u001b[0m\u001b[0mframe\u001b[0m\u001b[1;33m)\u001b[0m\u001b[1;33m:\u001b[0m\u001b[1;33m\u001b[0m\u001b[1;33m\u001b[0m\u001b[0m\n\u001b[0;32m    112\u001b[0m             \u001b[0mself\u001b[0m\u001b[1;33m.\u001b[0m\u001b[0muser_line\u001b[0m\u001b[1;33m(\u001b[0m\u001b[0mframe\u001b[0m\u001b[1;33m)\u001b[0m\u001b[1;33m\u001b[0m\u001b[1;33m\u001b[0m\u001b[0m\n\u001b[1;32m--> 113\u001b[1;33m             \u001b[1;32mif\u001b[0m \u001b[0mself\u001b[0m\u001b[1;33m.\u001b[0m\u001b[0mquitting\u001b[0m\u001b[1;33m:\u001b[0m \u001b[1;32mraise\u001b[0m \u001b[0mBdbQuit\u001b[0m\u001b[1;33m\u001b[0m\u001b[1;33m\u001b[0m\u001b[0m\n\u001b[0m\u001b[0;32m    114\u001b[0m         \u001b[1;32mreturn\u001b[0m \u001b[0mself\u001b[0m\u001b[1;33m.\u001b[0m\u001b[0mtrace_dispatch\u001b[0m\u001b[1;33m\u001b[0m\u001b[1;33m\u001b[0m\u001b[0m\n\u001b[0;32m    115\u001b[0m \u001b[1;33m\u001b[0m\u001b[0m\n",
      "\u001b[1;31mBdbQuit\u001b[0m: "
     ]
    }
   ],
   "source": [
    "\n",
    "# Manually doing 2 steps of euler \n",
    "Θ_2 = sde.f(0, \n",
    "        sde.f(0, Θ_0) * Δt + torch.normal(0,math.sqrt(Δt), (Θ_0.shape[0], Θ_0.shape[1]) ).to(device)\n",
    "    ) * Δt +  torch.normal(0,math.sqrt(Δt), (Θ_0.shape[0], Θ_0.shape[1]) ).to(device)"
   ]
  },
  {
   "cell_type": "code",
   "execution_count": 18,
   "metadata": {},
   "outputs": [
    {
     "data": {
      "image/png": "[encoded data removed]",
      "text/plain": [
       "<Figure size 1152x432 with 1 Axes>"
      ]
     },
     "metadata": {
      "needs_background": "light"
     },
     "output_type": "display_data"
    }
   ],
   "source": [
    "fig, ax_1 = plt.subplots(1, 1, figsize=(16, 6))\n",
    "Θ_plot = Θ_1.cpu().detach() #.reshape(50*3,2)\n",
    "\n",
    "# Θ_plot2 = Θ_2.cpu().detach() \n",
    "\n",
    "\n",
    "\n",
    "ax_1.plot(Θ_plot[:, 0], Θ_plot[:, 1], \n",
    "         linestyle='none', \n",
    "         marker='o', color=\"red\", label=\"Euler done by torche SDE\")\n",
    "\n",
    "# ax_1.plot(Θ_plot2[:, 0], Θ_plot2[:, 1], \n",
    "#          linestyle='none', \n",
    "#          marker='o', color=\"blue\", label=\"Euler done manually\")\n",
    "\n",
    "ax_1.plot(X_scaled[:, 0], X_scaled[:, 1], \n",
    "         linestyle='none', \n",
    "         marker='o', label=\"Observations $X$\")\n",
    "\n",
    "ax_1.legend()\n",
    "ax_1.axis('equal');"
   ]
  },
  {
   "cell_type": "code",
   "execution_count": null,
   "metadata": {},
   "outputs": [],
   "source": []
  },
  {
   "cell_type": "code",
   "execution_count": null,
   "metadata": {},
   "outputs": [],
   "source": []
  }
 ],
 "metadata": {
  "kernelspec": {
   "display_name": "Python 3",
   "language": "python",
   "name": "python3"
  },
  "language_info": {
   "codemirror_mode": {
    "name": "ipython",
    "version": 3
   },
   "file_extension": ".py",
   "mimetype": "text/x-python",
   "name": "python",
   "nbconvert_exporter": "python",
   "pygments_lexer": "ipython3",
   "version": "3.8.5"
  },
  "toc": {
   "base_numbering": 1,
   "nav_menu": {},
   "number_sections": true,
   "sideBar": true,
   "skip_h1_title": false,
   "title_cell": "Table of Contents",
   "title_sidebar": "Contents",
   "toc_cell": false,
   "toc_position": {},
   "toc_section_display": true,
   "toc_window_display": false
  }
 },
 "nbformat": 4,
 "nbformat_minor": 4
}
