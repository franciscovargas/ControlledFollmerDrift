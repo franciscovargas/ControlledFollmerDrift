{
 "cells": [
  {
   "cell_type": "code",
   "execution_count": 1,
   "metadata": {},
   "outputs": [],
   "source": [
    "import torch\n",
    "import torch.nn.functional as F\n",
    "\n",
    "import torchsde\n",
    "import math\n",
    "import matplotlib.pyplot as plt\n",
    "\n",
    "from cfollmer.objectives import log_g, relative_entropy_control_cost\n",
    "from cfollmer.sampler_utils import FollmerSDE\n",
    "import numpy as np\n",
    "\n",
    "from tqdm.notebook import tqdm\n",
    "\n",
    "from torch import _vmap_internals"
   ]
  },
  {
   "cell_type": "markdown",
   "metadata": {},
   "source": [
    "## Generating Toy 2D Dataset."
   ]
  },
  {
   "cell_type": "code",
   "execution_count": 2,
   "metadata": {},
   "outputs": [],
   "source": [
    "import torch\n",
    "from sklearn.datasets import make_blobs\n",
    "from sklearn.model_selection import train_test_split\n",
    "from sklearn.preprocessing import StandardScaler\n",
    "\n",
    "device = \"cuda\" if torch.cuda.is_available() else \"cpu\"\n",
    "random_state = 170\n",
    "\n",
    "X, y = make_blobs(n_samples=300,\n",
    "                  cluster_std=[0.5, 0.5, 0.5],\n",
    "                  random_state=random_state)\n",
    "\n",
    "X = X[y==0,:]\n",
    "y = y[y==0]\n",
    "# # Scale data to have mean 0 and variance 1 \n",
    "# # which is importance for convergence of the neural network\n",
    "scaler = StandardScaler()\n",
    "X_scaled = scaler.fit_transform(X)\n",
    "\n",
    "# Split the data set into training and testing\n",
    "X_train, X_test, y_train, y_test = train_test_split(\n",
    "    X_scaled, y, test_size=0.2, random_state=2)\n",
    "\n",
    "\n",
    "X_train, X_test, y_train, y_test = \\\n",
    "    torch.tensor(X_train, dtype=torch.float32, device=device), \\\n",
    "    torch.tensor(X_test, dtype=torch.float32, device=device), \\\n",
    "    torch.tensor(y_train, dtype=torch.float32, device=device), \\\n",
    "    torch.tensor(y_test, dtype=torch.float32, device=device) "
   ]
  },
  {
   "cell_type": "code",
   "execution_count": 3,
   "metadata": {},
   "outputs": [
    {
     "data": {
      "text/plain": [
       "array([0, 0, 0, 0, 0, 0, 0, 0, 0, 0, 0, 0, 0, 0, 0, 0, 0, 0, 0, 0, 0, 0,\n",
       "       0, 0, 0, 0, 0, 0, 0, 0, 0, 0, 0, 0, 0, 0, 0, 0, 0, 0, 0, 0, 0, 0,\n",
       "       0, 0, 0, 0, 0, 0, 0, 0, 0, 0, 0, 0, 0, 0, 0, 0, 0, 0, 0, 0, 0, 0,\n",
       "       0, 0, 0, 0, 0, 0, 0, 0, 0, 0, 0, 0, 0, 0, 0, 0, 0, 0, 0, 0, 0, 0,\n",
       "       0, 0, 0, 0, 0, 0, 0, 0, 0, 0, 0, 0])"
      ]
     },
     "execution_count": 3,
     "metadata": {},
     "output_type": "execute_result"
    }
   ],
   "source": [
    "y"
   ]
  },
  {
   "cell_type": "code",
   "execution_count": 4,
   "metadata": {},
   "outputs": [
    {
     "data": {
      "image/png": "[encoded data removed]",
      "text/plain": [
       "<Figure size 1152x432 with 1 Axes>"
      ]
     },
     "metadata": {
      "needs_background": "light"
     },
     "output_type": "display_data"
    }
   ],
   "source": [
    "fig, ax1 = plt.subplots(1, 1, figsize=(16, 6))\n",
    "\n",
    "ax1.plot(X_scaled[:, 0], X_scaled[:, 1], \n",
    "         linestyle='none', \n",
    "         marker='o')\n",
    "\n",
    "ax1.axis('equal');"
   ]
  },
  {
   "cell_type": "markdown",
   "metadata": {},
   "source": [
    "$$\\DeclareMathOperator*{\\argmin}{arg\\,min}$$\n",
    "$$\\def\\E{{\\mathbb{E}}}$$\n",
    "$$\\def\\rvu{{\\mathbf{u}}}$$\n",
    "$$\\def\\rvTheta{{\\bm{\\Theta}}}$$\n",
    "$$\\def\\gU{{\\mathcal{U}}}$$\n",
    "$$\\def\\mX{{\\mathbf{X}}}$$"
   ]
  },
  {
   "cell_type": "markdown",
   "metadata": {},
   "source": [
    "## Variance Matching bug Here\n",
    "\n",
    "Check out ln_prior there I am tweaking $\\sigma_w$ Ive set the log_lieklihood to be 1 this way our algorithm should be trying to have as target the prior . For some reason the neural net is completely unable to match the variance I am specifying I have gone from very low to very high and the method is unable to do anhything to fit the target variance. For a sufficiently small $\\Delta t$ we should be able to do this, standard VI is able to do this, so theres some sort of bug / issue here. "
   ]
  },
  {
   "cell_type": "code",
   "execution_count": 49,
   "metadata": {},
   "outputs": [],
   "source": [
    "def log_gaussian(x, mean=0):\n",
    "    \"\"\"\n",
    "    Returns the density of x under the supplied gaussian. Defaults to\n",
    "    standard gaussian N(0, I)\n",
    "    :param x: (*) torch.Tensor\n",
    "    :param mean: float or torch.FloatTensor with dimensions (*)\n",
    "    :param logvar: float or torch.FloatTensor with dimensions (*)\n",
    "    :return: (*) elementwise log density\n",
    "    \"\"\"\n",
    "    \n",
    "    log_norm_constant = -0.5 * np.log(2 * np.pi)\n",
    "    \n",
    "    var =  torch.tensor(0.1)\n",
    "    logvar = torch.log(var).reshape(1,1).to(device)\n",
    "    \n",
    "    A = (x - mean) ** 2\n",
    "    log_p = -0.5 * (logvar + A / logvar.exp())\n",
    "    log_p = log_p + log_norm_constant\n",
    "    return log_p.sum(dim=-1)\n",
    "\n",
    "\n",
    "# TODO: Why is changing σ_w doing nothing ??\n",
    "def ln_prior(Θ, σ_w=20.1):\n",
    "    \"\"\"\n",
    "    Prior for means in Bayesian GMM\n",
    "    \"\"\"\n",
    "    return -0.5 * (Θ**2).sum(axis=1) / σ_w\n",
    "\n",
    "\n",
    "def log_likelihood_single(μ, X, log=True):\n",
    "    \"\"\"\n",
    "    :param X: design matrix (examples, features)\n",
    "    :param mu: the component means (K, features)\n",
    "    :param logvar: the component log-variances (K, features)\n",
    "    :param log: return value in log domain?\n",
    "\n",
    "    \"\"\"\n",
    "    \n",
    "    n, d = X.shape\n",
    "    # get feature-wise log-likelihoods (K, examples, features)\n",
    "    log_likelihoods = log_gaussian(\n",
    "        X[None, :, :], \n",
    "        μ.reshape(1, d)[:, None, :], \n",
    "    )\n",
    "\n",
    "    return log_likelihoods.sum() * 0 \n",
    "\n",
    "\n",
    "def log_likelihood(Θ, X, y=None):\n",
    "    \"\"\"\n",
    "    batching the above (hopefully its right)\n",
    "    \"\"\"\n",
    "\n",
    "    loss_ = lambda μ: log_likelihood_single(μ, X)\n",
    "    \n",
    "    batched_loss =  torch._vmap_internals.vmap(loss_)\n",
    "\n",
    "    return batched_loss(Θ)"
   ]
  },
  {
   "cell_type": "code",
   "execution_count": 50,
   "metadata": {},
   "outputs": [],
   "source": [
    "Δt=0.05\n",
    "t_size = int(math.ceil(1.0/Δt))\n",
    "dim =  2\n",
    "\n",
    "ts = torch.linspace(0, 1, t_size).to(device)\n",
    "no_posterior_samples = 50\n",
    "\n",
    "sde = FollmerSDE(dim, dim, no_posterior_samples, 1.0, device=device).to(device)\n",
    "Θ_0 = torch.zeros((no_posterior_samples, dim)).to(device) # Θ_0 ~ δ_0\n",
    "\n",
    "# Initial state y0, the SDE is solved over the interval [ts[0], ts[-1]].\n",
    "# ys will have shape (t_size, batch_size, state_size)\n",
    "ys = torchsde.sdeint(sde, Θ_0, ts, dt=Δt)"
   ]
  },
  {
   "cell_type": "code",
   "execution_count": 51,
   "metadata": {},
   "outputs": [
    {
     "name": "stderr",
     "output_type": "stream",
     "text": [
      "C:\\Users\\vargf\\anaconda3\\lib\\site-packages\\torch\\_vmap_internals.py:252: UserWarning: torch.vmap is an experimental prototype that is subject to change and/or deletion. Please use at your own risk.\n",
      "  warnings.warn(\n",
      "<ipython-input-49-8f985ae4f38f>:47: UserWarning: Batching rule not implemented for aten::sum falling back to slow (for loop and stack) implementation (Triggered internally at  ..\\aten\\src\\ATen\\BatchedFallback.cpp:63.)\n",
      "  return log_likelihoods.sum() * 0\n"
     ]
    },
    {
     "data": {
      "text/plain": [
       "tensor(-0.7941, device='cuda:0', grad_fn=<MeanBackward0>)"
      ]
     },
     "execution_count": 51,
     "metadata": {},
     "output_type": "execute_result"
    }
   ],
   "source": [
    "relative_entropy_control_cost(sde, Θ_0, X_train, y_train, \n",
    "                              ln_prior, log_likelihood, γ=1.0, device=device)"
   ]
  },
  {
   "cell_type": "code",
   "execution_count": null,
   "metadata": {},
   "outputs": [
    {
     "name": "stdout",
     "output_type": "stream",
     "text": [
      "200\n"
     ]
    },
    {
     "data": {
      "application/vnd.jupyter.widget-view+json": {
       "model_id": "a9b2d12c09f14e8b9b8cc90b5fd27f54",
       "version_major": 2,
       "version_minor": 0
      },
      "text/plain": [
       "  0%|          | 0/300 [00:00<?, ?it/s]"
      ]
     },
     "metadata": {},
     "output_type": "display_data"
    },
    {
     "name": "stderr",
     "output_type": "stream",
     "text": [
      "C:\\Users\\vargf\\anaconda3\\lib\\site-packages\\torch\\_vmap_internals.py:252: UserWarning: torch.vmap is an experimental prototype that is subject to change and/or deletion. Please use at your own risk.\n",
      "  warnings.warn(\n",
      "<ipython-input-49-8f985ae4f38f>:47: UserWarning: Batching rule not implemented for aten::sum falling back to slow (for loop and stack) implementation (Triggered internally at  ..\\aten\\src\\ATen\\BatchedFallback.cpp:63.)\n",
      "  return log_likelihoods.sum() * 0\n"
     ]
    }
   ],
   "source": [
    "γ = 1.0\n",
    "Δt=0.005\n",
    "t_size = int(math.ceil(1.0/Δt))\n",
    "print(t_size)\n",
    "ts = torch.linspace(0, 1, t_size).to(device)\n",
    "\n",
    "sde = FollmerSDE(dim, dim, no_posterior_samples  , γ=γ, device=device).to(device)\n",
    "optimizer = torch.optim.Adam(sde.μ.parameters(), lr=0.001, weight_decay =0.1)\n",
    "#     optimizer = torch.optim.LBFGS(gpr.parameters(), lr=0.01)\n",
    "losses = []\n",
    "num_steps = 300\n",
    "\n",
    "train = True\n",
    "if train:\n",
    "    for i in tqdm(range(num_steps)):\n",
    "        optimizer.zero_grad()\n",
    "\n",
    "        if isinstance(optimizer, torch.optim.LBFGS):\n",
    "            def closure():\n",
    "                loss = relative_entropy_control_cost(\n",
    "                    sde, Θ_0.float(),\n",
    "                    X_train.float(), y_train.float(),\n",
    "                    ln_prior, log_likelihood, γ=γ\n",
    "                )\n",
    "                optimizer.zero_grad()\n",
    "                loss.backward()\n",
    "                return loss\n",
    "\n",
    "            optimizer.step(closure)\n",
    "            losses.append(closure().item())\n",
    "        else:\n",
    "            loss = relative_entropy_control_cost(\n",
    "                sde, Θ_0,\n",
    "                X_train, y_train,\n",
    "                ln_prior, log_likelihood, γ=γ\n",
    "            )\n",
    "            optimizer.zero_grad()\n",
    "            loss.backward()\n",
    "\n",
    "            optimizer.step()\n",
    "            losses.append(loss.item())"
   ]
  },
  {
   "cell_type": "code",
   "execution_count": 64,
   "metadata": {
    "scrolled": true
   },
   "outputs": [
    {
     "data": {
      "text/plain": [
       "[-0.4647796154022217,\n",
       " -0.537301242351532,\n",
       " -0.3856673240661621,\n",
       " -0.6698821187019348,\n",
       " -0.6539483666419983,\n",
       " -0.4159020185470581,\n",
       " -0.4942839741706848,\n",
       " -0.689004123210907,\n",
       " -0.8365722298622131,\n",
       " -0.6079326868057251,\n",
       " -0.53941810131073,\n",
       " -0.6601086258888245,\n",
       " -0.7896173596382141,\n",
       " -0.6144360303878784,\n",
       " -0.7306068539619446,\n",
       " -0.6902567148208618,\n",
       " -0.6193599104881287,\n",
       " -0.6633678078651428,\n",
       " -0.6855069398880005,\n",
       " -0.5365524888038635,\n",
       " -0.7705076336860657,\n",
       " -0.9473477005958557,\n",
       " -0.7276336550712585,\n",
       " -0.872390866279602,\n",
       " -0.7205917835235596,\n",
       " -0.7011956572532654,\n",
       " -0.5857495665550232,\n",
       " -0.593991756439209,\n",
       " -0.6528027057647705,\n",
       " -0.9823471903800964,\n",
       " -0.9088006615638733,\n",
       " -0.7403904795646667,\n",
       " -0.9428442120552063,\n",
       " -1.052393913269043,\n",
       " -0.8318302631378174,\n",
       " -0.8535749912261963,\n",
       " -0.785476803779602,\n",
       " -1.1613577604293823,\n",
       " -0.7905437350273132,\n",
       " -0.9735972881317139,\n",
       " -1.0275615453720093,\n",
       " -1.1115891933441162,\n",
       " -0.8174905776977539,\n",
       " -0.8747046589851379,\n",
       " -0.9245712161064148,\n",
       " -0.8475423455238342,\n",
       " -0.996305525302887,\n",
       " -1.029806137084961,\n",
       " -0.8433558344841003,\n",
       " -1.079822301864624,\n",
       " -0.78572016954422,\n",
       " -1.1182433366775513,\n",
       " -0.9484662413597107,\n",
       " -0.8570677042007446,\n",
       " -0.8034065961837769,\n",
       " -0.9027140736579895,\n",
       " -0.9200969338417053,\n",
       " -1.0980392694473267,\n",
       " -0.9751208424568176,\n",
       " -0.9383416771888733,\n",
       " -0.8950008749961853,\n",
       " -0.9056495428085327,\n",
       " -0.8911488652229309,\n",
       " -0.7969682216644287,\n",
       " -0.8329068422317505,\n",
       " -0.8905773162841797,\n",
       " -0.9180813431739807,\n",
       " -0.7758266925811768,\n",
       " -0.8886534571647644,\n",
       " -0.7661901712417603,\n",
       " -0.9226740598678589,\n",
       " -1.1282310485839844,\n",
       " -1.0185257196426392,\n",
       " -0.9837252497673035,\n",
       " -1.0207197666168213,\n",
       " -0.9195652604103088,\n",
       " -0.8812910318374634,\n",
       " -1.0047599077224731,\n",
       " -0.9634424448013306,\n",
       " -1.0444332361221313,\n",
       " -0.8021504282951355,\n",
       " -1.0547808408737183,\n",
       " -0.9356123208999634,\n",
       " -1.166927456855774,\n",
       " -1.2008311748504639,\n",
       " -1.0711863040924072,\n",
       " -0.7898931503295898,\n",
       " -1.042372465133667,\n",
       " -0.6693015694618225,\n",
       " -0.8830171823501587,\n",
       " -1.0539313554763794,\n",
       " -0.8154223561286926,\n",
       " -0.9073798656463623,\n",
       " -1.1452339887619019,\n",
       " -1.2102898359298706,\n",
       " -0.9388899803161621,\n",
       " -0.9786130785942078,\n",
       " -0.676457941532135,\n",
       " -1.0453451871871948,\n",
       " -0.7916848659515381,\n",
       " -1.0386757850646973,\n",
       " -1.0342679023742676,\n",
       " -1.2904682159423828,\n",
       " -0.9736005663871765,\n",
       " -1.076210379600525,\n",
       " -0.8414732217788696,\n",
       " -0.9682116508483887,\n",
       " -0.8523653149604797,\n",
       " -1.0545505285263062,\n",
       " -0.7812990546226501,\n",
       " -0.9242649674415588,\n",
       " -0.9210672378540039,\n",
       " -0.8172183036804199,\n",
       " -1.1482232809066772,\n",
       " -1.0806183815002441,\n",
       " -1.054878830909729,\n",
       " -0.9396376013755798,\n",
       " -0.9512547254562378,\n",
       " -0.9108990430831909,\n",
       " -0.9286088943481445,\n",
       " -0.9994232058525085,\n",
       " -1.0067312717437744,\n",
       " -1.0543553829193115,\n",
       " -1.0442019701004028,\n",
       " -0.9839935302734375,\n",
       " -1.0067702531814575,\n",
       " -1.069589376449585,\n",
       " -0.9410046339035034,\n",
       " -1.1263418197631836,\n",
       " -1.0681053400039673,\n",
       " -0.8873624801635742,\n",
       " -0.7602251768112183,\n",
       " -0.9252554178237915,\n",
       " -0.9700592756271362,\n",
       " -1.086168885231018,\n",
       " -0.8139809966087341,\n",
       " -0.9459614157676697,\n",
       " -0.7897143363952637,\n",
       " -1.1234203577041626,\n",
       " -0.7884660363197327,\n",
       " -1.1454496383666992,\n",
       " -1.1043918132781982,\n",
       " -0.7586081027984619,\n",
       " -0.6861032247543335,\n",
       " -0.8889555335044861,\n",
       " -0.8407682776451111,\n",
       " -0.9114192724227905,\n",
       " -0.8404637575149536,\n",
       " -0.7730468511581421,\n",
       " -0.9768766760826111,\n",
       " -0.9690133333206177,\n",
       " -0.8354631066322327,\n",
       " -1.2090013027191162,\n",
       " -1.1189289093017578,\n",
       " -0.9314941167831421,\n",
       " -0.9092699289321899,\n",
       " -0.9279513359069824,\n",
       " -1.0298864841461182,\n",
       " -0.9686991572380066,\n",
       " -0.9322815537452698,\n",
       " -0.9118554592132568,\n",
       " -0.9737368822097778,\n",
       " -0.9612417221069336,\n",
       " -0.7484204173088074,\n",
       " -0.8637257218360901,\n",
       " -1.266395092010498,\n",
       " -0.9964531660079956,\n",
       " -1.1364314556121826,\n",
       " -0.782866895198822,\n",
       " -0.946507453918457,\n",
       " -0.7767553329467773,\n",
       " -1.251420497894287,\n",
       " -1.1095030307769775,\n",
       " -0.9318445920944214,\n",
       " -1.041140079498291,\n",
       " -1.0870507955551147,\n",
       " -0.8600935339927673,\n",
       " -0.9781742095947266,\n",
       " -0.8642771244049072,\n",
       " -0.9612659811973572,\n",
       " -0.9986376166343689,\n",
       " -0.9633777141571045,\n",
       " -1.1126371622085571,\n",
       " -1.0129680633544922,\n",
       " -1.1099326610565186,\n",
       " -0.9686524271965027,\n",
       " -0.6847494840621948,\n",
       " -1.0965311527252197,\n",
       " -1.0293463468551636,\n",
       " -0.7044790387153625,\n",
       " -0.9279361367225647,\n",
       " -0.8868932723999023,\n",
       " -0.9265885949134827,\n",
       " -0.8810877203941345,\n",
       " -0.980782151222229,\n",
       " -1.0200663805007935,\n",
       " -0.83811354637146,\n",
       " -0.7409044504165649,\n",
       " -0.8947485089302063,\n",
       " -1.0037574768066406,\n",
       " -0.7685051560401917,\n",
       " -0.9165030717849731,\n",
       " -1.2402833700180054,\n",
       " -0.9671950936317444,\n",
       " -0.9014787673950195,\n",
       " -0.9477350115776062,\n",
       " -0.8732088208198547,\n",
       " -0.956040620803833,\n",
       " -0.8814431428909302,\n",
       " -0.758400022983551,\n",
       " -1.069344162940979,\n",
       " -0.9385674595832825,\n",
       " -1.087196946144104,\n",
       " -0.5850809216499329,\n",
       " -0.8506562113761902,\n",
       " -0.9642379283905029,\n",
       " -0.9408234357833862,\n",
       " -0.9875432848930359,\n",
       " -1.0260919332504272,\n",
       " -1.1564167737960815,\n",
       " -0.7187173962593079,\n",
       " -1.0668562650680542,\n",
       " -0.9926083087921143,\n",
       " -1.1822274923324585,\n",
       " -1.0107322931289673,\n",
       " -1.0627647638320923,\n",
       " -0.9064427018165588,\n",
       " -0.9719976782798767,\n",
       " -1.169994592666626,\n",
       " -1.0805742740631104,\n",
       " -1.122726321220398,\n",
       " -1.0040045976638794,\n",
       " -0.7680647373199463,\n",
       " -0.7175560593605042,\n",
       " -0.9557175040245056,\n",
       " -0.8985110521316528,\n",
       " -1.0020614862442017,\n",
       " -0.9454066157341003,\n",
       " -0.7653640508651733,\n",
       " -0.9571003317832947,\n",
       " -0.9138372540473938,\n",
       " -1.0516644716262817,\n",
       " -0.7999222874641418,\n",
       " -1.140807867050171,\n",
       " -0.8397374749183655,\n",
       " -1.0021523237228394,\n",
       " -1.2039790153503418,\n",
       " -0.8384163975715637,\n",
       " -0.8171242475509644,\n",
       " -0.8177294731140137,\n",
       " -0.9207960963249207,\n",
       " -0.8264234662055969,\n",
       " -1.0320649147033691,\n",
       " -0.7312425971031189,\n",
       " -0.6727455258369446,\n",
       " -1.0842986106872559,\n",
       " -1.0505236387252808,\n",
       " -1.041542887687683,\n",
       " -1.0839842557907104,\n",
       " -0.9473195672035217,\n",
       " -0.9866616725921631,\n",
       " -1.1585874557495117,\n",
       " -0.8407571315765381,\n",
       " -1.0138567686080933,\n",
       " -0.9187873601913452,\n",
       " -0.8203723430633545,\n",
       " -1.162313461303711,\n",
       " -1.0863155126571655,\n",
       " -0.9695705771446228,\n",
       " -0.9052694439888,\n",
       " -1.0275447368621826,\n",
       " -1.0045664310455322,\n",
       " -0.8002850413322449,\n",
       " -1.2125658988952637,\n",
       " -1.1175007820129395,\n",
       " -0.7352772355079651,\n",
       " -0.8000690340995789,\n",
       " -0.9057871103286743,\n",
       " -0.953039824962616,\n",
       " -0.8842900395393372,\n",
       " -0.9554733633995056,\n",
       " -1.2898952960968018,\n",
       " -1.0620653629302979,\n",
       " -0.886207103729248,\n",
       " -0.9098679423332214,\n",
       " -0.9802319407463074,\n",
       " -1.0697921514511108,\n",
       " -0.6652113795280457,\n",
       " -0.954448401927948,\n",
       " -0.7834747433662415,\n",
       " -1.1931045055389404,\n",
       " -0.791070818901062,\n",
       " -0.6861990094184875,\n",
       " -1.1619948148727417,\n",
       " -0.8636300563812256,\n",
       " -0.838701069355011,\n",
       " -0.9450329542160034,\n",
       " -0.9005729556083679,\n",
       " -0.831190824508667,\n",
       " -1.0187950134277344]"
      ]
     },
     "execution_count": 64,
     "metadata": {},
     "output_type": "execute_result"
    }
   ],
   "source": [
    "losses"
   ]
  },
  {
   "cell_type": "code",
   "execution_count": 65,
   "metadata": {},
   "outputs": [
    {
     "data": {
      "text/plain": [
       "[<matplotlib.lines.Line2D at 0x1c8085d21c0>]"
      ]
     },
     "execution_count": 65,
     "metadata": {},
     "output_type": "execute_result"
    },
    {
     "data": {
      "image/png": "[encoded data removed]",
      "text/plain": [
       "<Figure size 432x288 with 1 Axes>"
      ]
     },
     "metadata": {
      "needs_background": "light"
     },
     "output_type": "display_data"
    }
   ],
   "source": [
    "plt.plot(losses[:])"
   ]
  },
  {
   "cell_type": "code",
   "execution_count": 66,
   "metadata": {},
   "outputs": [
    {
     "data": {
      "text/plain": [
       "torch.Size([200, 50, 2])"
      ]
     },
     "execution_count": 66,
     "metadata": {},
     "output_type": "execute_result"
    }
   ],
   "source": [
    " torchsde.sdeint(sde, Θ_0, ts, method=\"euler\", dt=Δt).shape"
   ]
  },
  {
   "cell_type": "code",
   "execution_count": 67,
   "metadata": {},
   "outputs": [
    {
     "data": {
      "text/plain": [
       "tensor([[1., 0.],\n",
       "        [0., 1.],\n",
       "        [0., 0.]])"
      ]
     },
     "execution_count": 67,
     "metadata": {},
     "output_type": "execute_result"
    }
   ],
   "source": [
    "torch.eye(3,2)"
   ]
  },
  {
   "cell_type": "code",
   "execution_count": 68,
   "metadata": {},
   "outputs": [],
   "source": [
    "# Mannualy doing one step of Euler\n",
    "\n",
    "Θ_1 = torchsde.sdeint(sde, Θ_0, ts, dt=Δt)[-1,...]"
   ]
  },
  {
   "cell_type": "code",
   "execution_count": 69,
   "metadata": {},
   "outputs": [],
   "source": [
    "Θ_1 = Θ_1.reshape(50,2)"
   ]
  },
  {
   "cell_type": "code",
   "execution_count": 70,
   "metadata": {},
   "outputs": [
    {
     "data": {
      "text/plain": [
       "(array([ 1.,  3.,  3.,  6., 11.,  6.,  7.,  6.,  3.,  4.]),\n",
       " array([-2.0759783 , -1.6389178 , -1.2018573 , -0.7647968 , -0.3277363 ,\n",
       "         0.10932422,  0.5463847 ,  0.9834452 ,  1.4205058 ,  1.8575662 ,\n",
       "         2.2946267 ], dtype=float32),\n",
       " <a list of 10 Patch objects>)"
      ]
     },
     "execution_count": 70,
     "metadata": {},
     "output_type": "execute_result"
    },
    {
     "data": {
      "image/png": "[encoded data removed]",
      "text/plain": [
       "<Figure size 432x288 with 2 Axes>"
      ]
     },
     "metadata": {
      "needs_background": "light"
     },
     "output_type": "display_data"
    }
   ],
   "source": [
    "fig, (ax1,ax2) = plt.subplots(1,2)\n",
    "\n",
    "ax1.hist(Θ_1[:,0].flatten().cpu().detach().numpy())\n",
    "ax2.hist(Θ_1[:,1].flatten().cpu().detach().numpy())"
   ]
  },
  {
   "cell_type": "code",
   "execution_count": 71,
   "metadata": {},
   "outputs": [],
   "source": [
    "\n",
    "# Manually doing 2 steps of euler \n",
    "Θ_2 = sde.f(0, \n",
    "        sde.f(0, Θ_0) * Δt + torch.normal(0,math.sqrt(Δt), (Θ_0.shape[0], Θ_0.shape[1]) ).to(device)\n",
    "    ) * Δt +  torch.normal(0,math.sqrt(Δt), (Θ_0.shape[0], Θ_0.shape[1]) ).to(device)"
   ]
  },
  {
   "cell_type": "code",
   "execution_count": 72,
   "metadata": {},
   "outputs": [
    {
     "data": {
      "image/png": "[encoded data removed]",
      "text/plain": [
       "<Figure size 1152x432 with 1 Axes>"
      ]
     },
     "metadata": {
      "needs_background": "light"
     },
     "output_type": "display_data"
    }
   ],
   "source": [
    "fig, ax_1 = plt.subplots(1, 1, figsize=(16, 6))\n",
    "Θ_plot = Θ_1.cpu().detach() #.reshape(50*3,2)\n",
    "\n",
    "Θ_plot2 = Θ_2.cpu().detach() \n",
    "\n",
    "\n",
    "\n",
    "ax_1.plot(Θ_plot[:, 0], Θ_plot[:, 1], \n",
    "         linestyle='none', \n",
    "         marker='o', color=\"red\", label=\"Euler done by torche SDE\")\n",
    "\n",
    "# ax_1.plot(Θ_plot2[:, 0], Θ_plot2[:, 1], \n",
    "#          linestyle='none', \n",
    "#          marker='o', color=\"blue\", label=\"Euler done manually\")\n",
    "\n",
    "ax_1.plot(X_scaled[:, 0], X_scaled[:, 1], \n",
    "         linestyle='none', \n",
    "         marker='o', label=\"Observations $X$\")\n",
    "\n",
    "ax_1.legend()\n",
    "ax_1.axis('equal');"
   ]
  },
  {
   "cell_type": "code",
   "execution_count": null,
   "metadata": {},
   "outputs": [],
   "source": []
  },
  {
   "cell_type": "code",
   "execution_count": null,
   "metadata": {},
   "outputs": [],
   "source": []
  }
 ],
 "metadata": {
  "kernelspec": {
   "display_name": "Python 3",
   "language": "python",
   "name": "python3"
  },
  "language_info": {
   "codemirror_mode": {
    "name": "ipython",
    "version": 3
   },
   "file_extension": ".py",
   "mimetype": "text/x-python",
   "name": "python",
   "nbconvert_exporter": "python",
   "pygments_lexer": "ipython3",
   "version": "3.8.5"
  },
  "toc": {
   "base_numbering": 1,
   "nav_menu": {},
   "number_sections": true,
   "sideBar": true,
   "skip_h1_title": false,
   "title_cell": "Table of Contents",
   "title_sidebar": "Contents",
   "toc_cell": false,
   "toc_position": {},
   "toc_section_display": true,
   "toc_window_display": false
  }
 },
 "nbformat": 4,
 "nbformat_minor": 4
}
