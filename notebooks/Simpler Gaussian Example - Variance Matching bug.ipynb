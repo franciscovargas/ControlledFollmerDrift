{
 "cells": [
  {
   "cell_type": "code",
   "execution_count": 1,
   "metadata": {},
   "outputs": [],
   "source": [
    "import torch\n",
    "import torch.nn.functional as F\n",
    "\n",
    "import torchsde\n",
    "import math\n",
    "import matplotlib.pyplot as plt\n",
    "\n",
    "from cfollmer.objectives import log_g, relative_entropy_control_cost, relative_entropy_control_cost_direct\n",
    "from cfollmer.sampler_utils import FollmerSDE\n",
    "import numpy as np\n",
    "\n",
    "from tqdm.notebook import tqdm\n",
    "\n",
    "from torch import _vmap_internals"
   ]
  },
  {
   "cell_type": "markdown",
   "metadata": {},
   "source": [
    "## Variance and Mean Matching bug Here\n",
    "\n",
    "Check out ln_prior there I am tweaking $\\sigma_w$ Ive set the log_likelihood to be 0 this way our algorithm should be trying to have as target the prior . For some reason the neural net is completely unable to match the variance I am specifying I have gone from very low to very high and the method is unable to do anhything to fit the target variance. For a sufficiently small $\\Delta t$ we should be able to do this, standard VI is able to do this, so theres some sort of bug / issue here. \n",
    "\n",
    "UPDATE: Atm its not even matching the mean hardcoded it to 10 and nothings happening ?? whats going on here?"
   ]
  },
  {
   "cell_type": "code",
   "execution_count": 19,
   "metadata": {},
   "outputs": [],
   "source": [
    "# TODO: Why is changing σ_w doing nothing ??\n",
    "def ln_prior(Θ, σ_w=20.1):\n",
    "    \"\"\"\n",
    "    Prior for means in Bayesian GMM\n",
    "    \"\"\"\n",
    "    return -0.5 * ((Θ-10)**2).sum(axis=1) / σ_w"
   ]
  },
  {
   "cell_type": "code",
   "execution_count": 20,
   "metadata": {},
   "outputs": [],
   "source": [
    "Δt=0.05\n",
    "t_size = int(math.ceil(1.0/Δt))\n",
    "dim =  2\n",
    "\n",
    "ts = torch.linspace(0, 1, t_size).to(device)\n",
    "no_posterior_samples = 50\n",
    "\n",
    "sde = FollmerSDE(dim, dim, no_posterior_samples, 1.0, device=device).to(device)\n",
    "Θ_0 = torch.zeros((no_posterior_samples, dim)).to(device) # Θ_0 ~ δ_0\n",
    "\n",
    "# Initial state y0, the SDE is solved over the interval [ts[0], ts[-1]].\n",
    "# ys will have shape (t_size, batch_size, state_size)\n",
    "ys = torchsde.sdeint(sde, Θ_0, ts, dt=Δt)"
   ]
  },
  {
   "cell_type": "code",
   "execution_count": 21,
   "metadata": {},
   "outputs": [
    {
     "data": {
      "text/plain": [
       "tensor(4.3060, device='cuda:0', grad_fn=<MeanBackward0>)"
      ]
     },
     "execution_count": 21,
     "metadata": {},
     "output_type": "execute_result"
    }
   ],
   "source": [
    "relative_entropy_control_cost_direct(sde, Θ_0, ln_prior, γ=1.0, device=device)"
   ]
  },
  {
   "cell_type": "code",
   "execution_count": 22,
   "metadata": {},
   "outputs": [
    {
     "name": "stdout",
     "output_type": "stream",
     "text": [
      "200\n"
     ]
    },
    {
     "data": {
      "application/vnd.jupyter.widget-view+json": {
       "model_id": "67c7399201794553870bd69b607b6351",
       "version_major": 2,
       "version_minor": 0
      },
      "text/plain": [
       "  0%|          | 0/300 [00:00<?, ?it/s]"
      ]
     },
     "metadata": {},
     "output_type": "display_data"
    }
   ],
   "source": [
    "γ = 1.0\n",
    "Δt=0.005\n",
    "t_size = int(math.ceil(1.0/Δt))\n",
    "print(t_size)\n",
    "ts = torch.linspace(0, 1, t_size).to(device)\n",
    "\n",
    "sde = FollmerSDE(dim, dim, no_posterior_samples  , γ=γ, device=device).to(device)\n",
    "optimizer = torch.optim.Adam(sde.μ.parameters(), lr=0.01, weight_decay =0.1)\n",
    "#     optimizer = torch.optim.LBFGS(gpr.parameters(), lr=0.01)\n",
    "losses = []\n",
    "num_steps = 300\n",
    "\n",
    "train = True\n",
    "if train:\n",
    "    for i in tqdm(range(num_steps)):\n",
    "        optimizer.zero_grad()\n",
    "\n",
    "        if isinstance(optimizer, torch.optim.LBFGS):\n",
    "            def closure():\n",
    "                loss = relative_entropy_control_cost_direct(\n",
    "                    sde, Θ_0.float(),\n",
    "                    ln_prior, γ=γ\n",
    "                )\n",
    "                optimizer.zero_grad()\n",
    "                loss.backward()\n",
    "                return loss\n",
    "\n",
    "            optimizer.step(closure)\n",
    "            losses.append(closure().item())\n",
    "        else:\n",
    "            loss = relative_entropy_control_cost_direct(\n",
    "                sde, Θ_0,\n",
    "                ln_prior, γ=γ\n",
    "            )\n",
    "            optimizer.zero_grad()\n",
    "            loss.backward()\n",
    "\n",
    "            optimizer.step()\n",
    "            losses.append(loss.item())"
   ]
  },
  {
   "cell_type": "code",
   "execution_count": 23,
   "metadata": {
    "scrolled": true
   },
   "outputs": [
    {
     "data": {
      "text/plain": [
       "[4.981014251708984,\n",
       " 4.16414213180542,\n",
       " 4.033440589904785,\n",
       " 3.9418749809265137,\n",
       " 3.937480926513672,\n",
       " 3.948842763900757,\n",
       " 4.18925142288208,\n",
       " 4.125405311584473,\n",
       " 4.1920013427734375,\n",
       " 3.873631000518799,\n",
       " 4.078127384185791,\n",
       " 4.256169319152832,\n",
       " 3.9560298919677734,\n",
       " 4.120203018188477,\n",
       " 3.841951608657837,\n",
       " 4.384714126586914,\n",
       " 4.023187160491943,\n",
       " 4.065535068511963,\n",
       " 4.080394744873047,\n",
       " 3.922161102294922,\n",
       " 3.8584001064300537,\n",
       " 4.101004123687744,\n",
       " 4.135249137878418,\n",
       " 4.117086887359619,\n",
       " 4.27208137512207,\n",
       " 4.154797077178955,\n",
       " 3.9840736389160156,\n",
       " 3.6834051609039307,\n",
       " 4.144225597381592,\n",
       " 4.0798211097717285,\n",
       " 4.210195541381836,\n",
       " 4.193254470825195,\n",
       " 4.173996925354004,\n",
       " 3.958299160003662,\n",
       " 3.9377782344818115,\n",
       " 3.9994451999664307,\n",
       " 3.875392436981201,\n",
       " 4.057377815246582,\n",
       " 4.097256183624268,\n",
       " 4.190518856048584,\n",
       " 3.90537691116333,\n",
       " 3.988774538040161,\n",
       " 3.9740405082702637,\n",
       " 3.9373350143432617,\n",
       " 4.37684440612793,\n",
       " 4.278815746307373,\n",
       " 4.007426738739014,\n",
       " 4.122635841369629,\n",
       " 4.143807411193848,\n",
       " 4.096372127532959,\n",
       " 3.963501453399658,\n",
       " 4.382484436035156,\n",
       " 3.9061834812164307,\n",
       " 4.0020575523376465,\n",
       " 4.066953182220459,\n",
       " 4.061691761016846,\n",
       " 4.106673717498779,\n",
       " 4.119971752166748,\n",
       " 3.985060691833496,\n",
       " 3.697575092315674,\n",
       " 3.6714367866516113,\n",
       " 4.13037109375,\n",
       " 4.037326335906982,\n",
       " 3.9020445346832275,\n",
       " 4.032992362976074,\n",
       " 3.9711503982543945,\n",
       " 4.2561750411987305,\n",
       " 3.870303153991699,\n",
       " 3.9448137283325195,\n",
       " 4.231984615325928,\n",
       " 4.143362522125244,\n",
       " 3.996727705001831,\n",
       " 3.940505266189575,\n",
       " 4.203354835510254,\n",
       " 4.055445671081543,\n",
       " 4.1661810874938965,\n",
       " 4.208343029022217,\n",
       " 3.957676887512207,\n",
       " 3.9165046215057373,\n",
       " 4.161998271942139,\n",
       " 3.7037463188171387,\n",
       " 3.7596817016601562,\n",
       " 4.182246685028076,\n",
       " 4.232066631317139,\n",
       " 4.273576736450195,\n",
       " 3.9777281284332275,\n",
       " 3.9320554733276367,\n",
       " 3.992272138595581,\n",
       " 3.9600865840911865,\n",
       " 3.979337692260742,\n",
       " 3.9060399532318115,\n",
       " 4.305772304534912,\n",
       " 4.061089515686035,\n",
       " 4.251138687133789,\n",
       " 4.082869052886963,\n",
       " 3.575223207473755,\n",
       " 3.8615269660949707,\n",
       " 4.0806779861450195,\n",
       " 4.08980655670166,\n",
       " 4.123369216918945,\n",
       " 4.124949932098389,\n",
       " 4.248229503631592,\n",
       " 3.8730900287628174,\n",
       " 3.9239301681518555,\n",
       " 3.904445171356201,\n",
       " 3.8985354900360107,\n",
       " 4.003936767578125,\n",
       " 3.8433001041412354,\n",
       " 4.05605411529541,\n",
       " 3.9462525844573975,\n",
       " 3.981818675994873,\n",
       " 3.5746066570281982,\n",
       " 4.048466205596924,\n",
       " 4.203395843505859,\n",
       " 3.740391492843628,\n",
       " 3.781928062438965,\n",
       " 3.815322160720825,\n",
       " 3.976316213607788,\n",
       " 4.0228986740112305,\n",
       " 4.119041442871094,\n",
       " 4.079768657684326,\n",
       " 3.8407366275787354,\n",
       " 4.2384748458862305,\n",
       " 4.18442964553833,\n",
       " 4.136052131652832,\n",
       " 3.8764219284057617,\n",
       " 3.9943296909332275,\n",
       " 4.2257843017578125,\n",
       " 4.010622024536133,\n",
       " 4.267463684082031,\n",
       " 4.165167331695557,\n",
       " 3.860504388809204,\n",
       " 4.214620113372803,\n",
       " 3.9679198265075684,\n",
       " 3.8990776538848877,\n",
       " 3.77813720703125,\n",
       " 4.2274909019470215,\n",
       " 3.8154289722442627,\n",
       " 3.895040512084961,\n",
       " 4.063345432281494,\n",
       " 3.9542558193206787,\n",
       " 3.9129230976104736,\n",
       " 3.946427583694458,\n",
       " 4.086177349090576,\n",
       " 3.888765573501587,\n",
       " 4.271141052246094,\n",
       " 4.169045448303223,\n",
       " 4.272056579589844,\n",
       " 3.99320387840271,\n",
       " 3.887437582015991,\n",
       " 3.9154417514801025,\n",
       " 3.8178770542144775,\n",
       " 3.9249205589294434,\n",
       " 4.148743152618408,\n",
       " 4.152902126312256,\n",
       " 4.059141159057617,\n",
       " 4.035697937011719,\n",
       " 4.084866046905518,\n",
       " 4.225463390350342,\n",
       " 3.787775754928589,\n",
       " 4.201610088348389,\n",
       " 3.69804310798645,\n",
       " 4.005391597747803,\n",
       " 3.844054698944092,\n",
       " 3.910358190536499,\n",
       " 4.292796611785889,\n",
       " 3.739651679992676,\n",
       " 3.9749157428741455,\n",
       " 4.0421037673950195,\n",
       " 3.8757832050323486,\n",
       " 4.0892839431762695,\n",
       " 3.884918689727783,\n",
       " 3.902425527572632,\n",
       " 4.077634334564209,\n",
       " 3.916487455368042,\n",
       " 3.9630000591278076,\n",
       " 4.2561750411987305,\n",
       " 4.030601501464844,\n",
       " 4.1906046867370605,\n",
       " 4.065594673156738,\n",
       " 4.166872501373291,\n",
       " 4.0870466232299805,\n",
       " 4.212228775024414,\n",
       " 4.059781551361084,\n",
       " 3.9161217212677,\n",
       " 4.210905075073242,\n",
       " 4.317208766937256,\n",
       " 3.700077533721924,\n",
       " 4.0576581954956055,\n",
       " 3.720597982406616,\n",
       " 3.834787130355835,\n",
       " 4.434911727905273,\n",
       " 4.0342607498168945,\n",
       " 4.128256797790527,\n",
       " 3.90030574798584,\n",
       " 3.9985692501068115,\n",
       " 4.045572757720947,\n",
       " 4.070772647857666,\n",
       " 4.042642593383789,\n",
       " 4.092717170715332,\n",
       " 4.059446334838867,\n",
       " 3.917097330093384,\n",
       " 3.9720559120178223,\n",
       " 4.431149959564209,\n",
       " 3.7034213542938232,\n",
       " 4.215425968170166,\n",
       " 4.066115856170654,\n",
       " 3.910149335861206,\n",
       " 3.7337565422058105,\n",
       " 3.7786755561828613,\n",
       " 3.815267324447632,\n",
       " 4.2395243644714355,\n",
       " 3.9341514110565186,\n",
       " 3.9611096382141113,\n",
       " 3.977065086364746,\n",
       " 4.224230766296387,\n",
       " 4.234400749206543,\n",
       " 4.06702995300293,\n",
       " 3.8546605110168457,\n",
       " 4.087837219238281,\n",
       " 4.08850622177124,\n",
       " 4.435239315032959,\n",
       " 4.2649359703063965,\n",
       " 3.9500303268432617,\n",
       " 3.976423978805542,\n",
       " 4.022188186645508,\n",
       " 4.271572113037109,\n",
       " 4.057006359100342,\n",
       " 4.150161266326904,\n",
       " 4.106121063232422,\n",
       " 3.751086950302124,\n",
       " 4.134477615356445,\n",
       " 3.9209346771240234,\n",
       " 4.25028657913208,\n",
       " 4.073503494262695,\n",
       " 4.3948163986206055,\n",
       " 3.996173620223999,\n",
       " 4.166471004486084,\n",
       " 3.9022417068481445,\n",
       " 3.5674657821655273,\n",
       " 3.7735543251037598,\n",
       " 4.227351188659668,\n",
       " 4.051862716674805,\n",
       " 3.928611993789673,\n",
       " 4.222984313964844,\n",
       " 4.1119160652160645,\n",
       " 4.3779144287109375,\n",
       " 3.7719249725341797,\n",
       " 3.957271099090576,\n",
       " 4.045373439788818,\n",
       " 3.9729812145233154,\n",
       " 3.979485273361206,\n",
       " 3.6316702365875244,\n",
       " 4.370705604553223,\n",
       " 4.092611789703369,\n",
       " 4.221052646636963,\n",
       " 3.9714863300323486,\n",
       " 3.9786376953125,\n",
       " 4.057466983795166,\n",
       " 3.8846795558929443,\n",
       " 4.130389213562012,\n",
       " 4.098874568939209,\n",
       " 4.218018531799316,\n",
       " 3.8863768577575684,\n",
       " 3.9749832153320312,\n",
       " 4.3248209953308105,\n",
       " 3.655870199203491,\n",
       " 4.023766994476318,\n",
       " 3.994875431060791,\n",
       " 4.010903358459473,\n",
       " 3.996108293533325,\n",
       " 4.13930082321167,\n",
       " 3.7533788681030273,\n",
       " 4.242348670959473,\n",
       " 4.19117546081543,\n",
       " 3.741715669631958,\n",
       " 3.999048948287964,\n",
       " 4.071789264678955,\n",
       " 3.983311653137207,\n",
       " 4.092208385467529,\n",
       " 3.9848504066467285,\n",
       " 3.8223936557769775,\n",
       " 4.229349136352539,\n",
       " 3.7358593940734863,\n",
       " 4.233109474182129,\n",
       " 3.906203508377075,\n",
       " 3.93135666847229,\n",
       " 4.05104923248291,\n",
       " 4.18266487121582,\n",
       " 4.205286026000977,\n",
       " 3.6595988273620605,\n",
       " 4.040078163146973,\n",
       " 4.075328826904297,\n",
       " 4.2555832862854,\n",
       " 3.9650261402130127,\n",
       " 4.015340328216553,\n",
       " 4.003352165222168,\n",
       " 4.036558628082275,\n",
       " 3.6554861068725586,\n",
       " 4.226739883422852]"
      ]
     },
     "execution_count": 23,
     "metadata": {},
     "output_type": "execute_result"
    }
   ],
   "source": [
    "losses"
   ]
  },
  {
   "cell_type": "code",
   "execution_count": 24,
   "metadata": {},
   "outputs": [
    {
     "data": {
      "text/plain": [
       "[<matplotlib.lines.Line2D at 0x20e02b119d0>]"
      ]
     },
     "execution_count": 24,
     "metadata": {},
     "output_type": "execute_result"
    },
    {
     "data": {
      "image/png": "[encoded data removed]",
      "text/plain": [
       "<Figure size 432x288 with 1 Axes>"
      ]
     },
     "metadata": {
      "needs_background": "light"
     },
     "output_type": "display_data"
    }
   ],
   "source": [
    "plt.plot(losses[:])"
   ]
  },
  {
   "cell_type": "code",
   "execution_count": 25,
   "metadata": {},
   "outputs": [
    {
     "data": {
      "text/plain": [
       "torch.Size([200, 50, 2])"
      ]
     },
     "execution_count": 25,
     "metadata": {},
     "output_type": "execute_result"
    }
   ],
   "source": [
    " torchsde.sdeint(sde, Θ_0, ts, method=\"euler\", dt=Δt).shape"
   ]
  },
  {
   "cell_type": "code",
   "execution_count": 26,
   "metadata": {},
   "outputs": [
    {
     "data": {
      "text/plain": [
       "tensor([[1., 0.],\n",
       "        [0., 1.],\n",
       "        [0., 0.]])"
      ]
     },
     "execution_count": 26,
     "metadata": {},
     "output_type": "execute_result"
    }
   ],
   "source": [
    "torch.eye(3,2)"
   ]
  },
  {
   "cell_type": "code",
   "execution_count": 27,
   "metadata": {},
   "outputs": [],
   "source": [
    "# Mannualy doing one step of Euler\n",
    "\n",
    "Θ_1 = torchsde.sdeint(sde, Θ_0, ts, dt=Δt)[-1,...]"
   ]
  },
  {
   "cell_type": "code",
   "execution_count": 28,
   "metadata": {},
   "outputs": [],
   "source": [
    "Θ_1 = Θ_1.reshape(50,2)"
   ]
  },
  {
   "cell_type": "code",
   "execution_count": 29,
   "metadata": {},
   "outputs": [
    {
     "data": {
      "text/plain": [
       "(array([ 1.,  0.,  5.,  7.,  9., 11.,  6.,  7.,  1.,  3.]),\n",
       " array([-2.3072743 , -1.8471565 , -1.3870386 , -0.9269208 , -0.4668029 ,\n",
       "        -0.00668502,  0.45343286,  0.91355073,  1.3736686 ,  1.8337865 ,\n",
       "         2.2939043 ], dtype=float32),\n",
       " <a list of 10 Patch objects>)"
      ]
     },
     "execution_count": 29,
     "metadata": {},
     "output_type": "execute_result"
    },
    {
     "data": {
      "image/png": "[encoded data removed]",
      "text/plain": [
       "<Figure size 432x288 with 2 Axes>"
      ]
     },
     "metadata": {
      "needs_background": "light"
     },
     "output_type": "display_data"
    }
   ],
   "source": [
    "fig, (ax1,ax2) = plt.subplots(1,2)\n",
    "\n",
    "ax1.hist(Θ_1[:,0].flatten().cpu().detach().numpy())\n",
    "ax2.hist(Θ_1[:,1].flatten().cpu().detach().numpy())"
   ]
  },
  {
   "cell_type": "code",
   "execution_count": 32,
   "metadata": {},
   "outputs": [
    {
     "data": {
      "image/png": "[encoded data removed]",
      "text/plain": [
       "<Figure size 1152x432 with 1 Axes>"
      ]
     },
     "metadata": {
      "needs_background": "light"
     },
     "output_type": "display_data"
    }
   ],
   "source": [
    "fig, ax_1 = plt.subplots(1, 1, figsize=(16, 6))\n",
    "Θ_plot = Θ_1.cpu().detach() #.reshape(50*3,2)\n",
    "\n",
    "# Θ_plot2 = Θ_2.cpu().detach() \n",
    "\n",
    "\n",
    "\n",
    "ax_1.plot(Θ_plot[:, 0], Θ_plot[:, 1], \n",
    "         linestyle='none', \n",
    "         marker='o', color=\"red\", label=\"Euler done by torche SDE\")\n",
    "\n",
    "# ax_1.plot(Θ_plot2[:, 0], Θ_plot2[:, 1], \n",
    "#          linestyle='none', \n",
    "#          marker='o', color=\"blue\", label=\"Euler done manually\")\n",
    "\n",
    "# ax_1.plot(X_scaled[:, 0], X_scaled[:, 1], \n",
    "#          linestyle='none', \n",
    "#          marker='o', label=\"Observations $X$\")\n",
    "\n",
    "ax_1.legend()\n",
    "ax_1.axis('equal');"
   ]
  },
  {
   "cell_type": "code",
   "execution_count": null,
   "metadata": {},
   "outputs": [],
   "source": []
  },
  {
   "cell_type": "code",
   "execution_count": null,
   "metadata": {},
   "outputs": [],
   "source": []
  }
 ],
 "metadata": {
  "kernelspec": {
   "display_name": "Python 3",
   "language": "python",
   "name": "python3"
  },
  "language_info": {
   "codemirror_mode": {
    "name": "ipython",
    "version": 3
   },
   "file_extension": ".py",
   "mimetype": "text/x-python",
   "name": "python",
   "nbconvert_exporter": "python",
   "pygments_lexer": "ipython3",
   "version": "3.8.5"
  },
  "toc": {
   "base_numbering": 1,
   "nav_menu": {},
   "number_sections": true,
   "sideBar": true,
   "skip_h1_title": false,
   "title_cell": "Table of Contents",
   "title_sidebar": "Contents",
   "toc_cell": false,
   "toc_position": {},
   "toc_section_display": true,
   "toc_window_display": false
  }
 },
 "nbformat": 4,
 "nbformat_minor": 4
}
