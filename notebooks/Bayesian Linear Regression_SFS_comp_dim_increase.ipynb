{
 "cells": [
  {
   "cell_type": "code",
   "execution_count": 1,
   "id": "10a6b666",
   "metadata": {},
   "outputs": [],
   "source": [
    "import torch\n",
    "import torch.nn.functional as F\n",
    "import torchsde\n",
    "\n",
    "from torchvision import datasets, transforms\n",
    "\n",
    "import math\n",
    "import numpy as np\n",
    "import pandas as pd\n",
    "from tqdm import tqdm\n",
    "\n",
    "from torchvision.transforms import ToTensor\n",
    "from torch.utils.data import DataLoader\n",
    "import functorch\n",
    "\n",
    "import matplotlib.pyplot as plt\n",
    "\n",
    "import cfollmer.functional as functional\n",
    "from cfollmer.objectives import relative_entropy_control_cost\n",
    "from cfollmer.mc_sfs import *\n",
    "from cfollmer.drifts import SimpleForwardNet, SimpleForwardNetBN, ResNetScoreNetwork,AbstractDrift\n",
    "from cfollmer.sampler_utils import FollmerSDE"
   ]
  },
  {
   "cell_type": "code",
   "execution_count": 2,
   "id": "9078de16",
   "metadata": {},
   "outputs": [],
   "source": [
    "device = \"cuda\" if torch.cuda.is_available() else \"cpu\""
   ]
  },
  {
   "cell_type": "code",
   "execution_count": 3,
   "id": "2d492713",
   "metadata": {},
   "outputs": [],
   "source": [
    "class DNN(torch.nn.Module):\n",
    "    \n",
    "    def __init__(self, input_dim=1, output_dim=1):\n",
    "        super(DNN, self).__init__()\n",
    "        \n",
    "        self.output_dim = output_dim\n",
    "        self.input_dim = input_dim\n",
    "        \n",
    "        self.nn = torch.nn.Sequential(\n",
    "            torch.nn.Linear(input_dim, 100),\n",
    "            torch.nn.ReLU(),\n",
    "            torch.nn.Linear(100, 100),\n",
    "            torch.nn.ReLU(),\n",
    "            torch.nn.Linear(100, output_dim)\n",
    "        )\n",
    "        \n",
    "    def forward(self, x):\n",
    "        return self.nn(x)\n",
    "\n",
    "    \n",
    "class LinModel(torch.nn.Module):\n",
    "    \n",
    "    def __init__(self, input_dim=1, output_dim=1):\n",
    "        super(LinModel, self).__init__()\n",
    "        \n",
    "        self.output_dim = output_dim\n",
    "        self.input_dim = input_dim\n",
    "        \n",
    "        self.nn = torch.nn.Sequential(\n",
    "            torch.nn.Linear(input_dim, 1),\n",
    "        )\n",
    "        \n",
    "    def forward(self, x):\n",
    "        return self.nn(x)"
   ]
  },
  {
   "cell_type": "code",
   "execution_count": 4,
   "id": "001f16f0",
   "metadata": {},
   "outputs": [],
   "source": [
    "\n",
    "\n",
    "\n",
    "def predict(param_samples, x, y, size_list=None):\n",
    "    with torch.no_grad():\n",
    "        predict_func = lambda params : func_model(functional.get_params_from_array(params, size_list), x)\n",
    "        predict_func = functorch.vmap(predict_func)\n",
    "\n",
    "        preds = predict_func(param_samples) # {<w_s , x>}_s\n",
    "        # Var(w* x + e) = Var(w*x) + Var(e) =  Var(w*x) + sigma_n*2\n",
    "        std, mean = torch.std_mean(preds, dim=0)\n",
    "        mse = torch.mean((y_test - mean)**2)\n",
    "        logp = torch.mean(log_likelihood_batch(x, y, param_samples, size_list=size_list))\n",
    "        \n",
    "    return std, mean, logp, mse"
   ]
  },
  {
   "cell_type": "markdown",
   "id": "32c1199a",
   "metadata": {},
   "source": [
    "## Bayesian Linear Regression Closed Form Predictive\n",
    "\n",
    "![image info](../images/blr.PNG)\n",
    "\n",
    "\n",
    "Below we implment the above formulas"
   ]
  },
  {
   "cell_type": "code",
   "execution_count": 5,
   "id": "11d1506b",
   "metadata": {},
   "outputs": [],
   "source": [
    "def pred_true_std(X_train, X_test, sigma_n, sigma2, dim):\n",
    "    # https://github.com/probml/pml-book/releases/latest/download/book1.pdf\n",
    "    # See Eq 11.124 in the above link page 430 on pdf viewer (page 400 on page number in pdf)\n",
    "\n",
    "    X_trainnp = X_train.cpu().detach().numpy()\n",
    "    n_, d = X_trainnp.shape\n",
    "\n",
    "    X_trainnp = np.concatenate((X_trainnp, np.ones((n_, 1))), axis=1)\n",
    "\n",
    "    X_testnp = X_test.cpu().detach().numpy()\n",
    "    n_, d = X_testnp.shape\n",
    "\n",
    "    X_testnp = np.concatenate((X_testnp, np.ones((n_, 1))), axis=1)\n",
    "\n",
    "\n",
    "    Sigma_post = sigma_n**2 * np.linalg.inv(sigma_n**2 *  np.eye(dim) / sigma2 + np.dot(X_trainnp.T,X_trainnp))\n",
    "    \n",
    "    sigma_pred = []\n",
    "    for i in range(n_):\n",
    "        sigma_pred += [np.dot(X_testnp[i,:].dot(Sigma_post), X_testnp[i,:]) + sigma_n**2 ]\n",
    "\n",
    "    std_true = np.sqrt( sigma_pred)\n",
    "    return std_true\n",
    "\n",
    "\n",
    "def pred_true_mean(y_train, X_train, X_test, sigma_n, sigma2, dim):\n",
    "    # https://github.com/probml/pml-book/releases/latest/download/book1.pdf\n",
    "    # See Eq 11.124 in the above link page 430 on pdf viewer (page 400 on page number in pdf)\n",
    "\n",
    "    X_trainnp = X_train.cpu().detach().numpy()\n",
    "    n_, d = X_trainnp.shape\n",
    "    \n",
    "    lambda_ = sigma_n**2 / sigma2 \n",
    "\n",
    "    X_trainnp = np.concatenate((X_trainnp, np.ones((n_, 1))), axis=1)\n",
    "\n",
    "    X_testnp = X_test.cpu().detach().numpy()\n",
    "    n_, d = X_testnp.shape\n",
    "\n",
    "    X_testnp = np.concatenate((X_testnp, np.ones((n_, 1))), axis=1)\n",
    "\n",
    "    Xty = np.dot(X_trainnp.T, y_train)\n",
    "\n",
    "    Sigma_post = np.linalg.inv(sigma_n**2 *  np.eye(dim) / sigma2 + np.dot(X_trainnp.T,X_trainnp))\n",
    "    \n",
    "    w = np.dot(Sigma_post, Xty)\n",
    "    \n",
    "    return np.dot(X_testnp,w)"
   ]
  },
  {
   "cell_type": "code",
   "execution_count": 6,
   "id": "4faff758",
   "metadata": {},
   "outputs": [],
   "source": [
    "@torch.enable_grad()\n",
    "def gradient(x, y, params, size_list=None):\n",
    "    params_ = params.clone().requires_grad_(True)\n",
    "    loss = log_posterior(x, y, params_, size_list=size_list)\n",
    "    grad, = torch.autograd.grad(loss, params_)\n",
    "    return loss.detach().cpu().numpy(), grad\n",
    "\n",
    "# def step_size(n):\n",
    "#     return 1e-4/ (1 + n)**0.1\n",
    "\n",
    "def step_size(n):\n",
    "    return 1e-4/ (1 + n)**0.1\n",
    "\n",
    "\n",
    "def sgld(dim, n_steps, last_n, data_batch_size, X_train, y_train, size_list=None, step_size=0.01):\n",
    "    losses = []\n",
    "    param_samples = []\n",
    "    \n",
    "    params = torch.zeros(dim).float().to(device)\n",
    "    \n",
    "    for step in tqdm(range(n_steps)):\n",
    "        perm = torch.randperm(N_train)\n",
    "        x = X_train[perm[:data_batch_size], :]\n",
    "        y = y_train[perm[:data_batch_size], :]\n",
    "\n",
    "        eps = step_size #1e-3/dim # step_size(step)\n",
    "        loss, grad = gradient(x, y, params, size_list=size_list)\n",
    "        params = params + 0.5 * eps * grad + np.sqrt(eps) * torch.randn_like(params)\n",
    "        \n",
    "        if n_steps <= step + last_n:\n",
    "            param_samples.append(params)\n",
    "        losses.append(loss)\n",
    "        \n",
    "    param_samples = torch.stack(param_samples)\n",
    "    \n",
    "    return param_samples, losses"
   ]
  },
  {
   "cell_type": "code",
   "execution_count": 81,
   "id": "19372f3f",
   "metadata": {},
   "outputs": [
    {
     "name": "stdout",
     "output_type": "stream",
     "text": [
      "(33, 32)\n"
     ]
    },
    {
     "name": "stderr",
     "output_type": "stream",
     "text": [
      "100%|██████████| 5000/5000 [04:54<00:00, 16.98it/s]\n",
      "100%|██████████| 1000/1000 [00:00<00:00, 1077.91it/s]\n",
      "/tmp/ipykernel_90757/4193658987.py:208: UserWarning: To copy construct from a tensor, it is recommended to use sourceTensor.clone().detach() or sourceTensor.clone().detach().requires_grad_(True), rather than torch.tensor(sourceTensor).\n",
      "  mae =  lambda x,y: torch.abs(torch.tensor(x).to(device)-torch.tensor(y).to(device)).mean()\n",
      "/tmp/ipykernel_90757/4193658987.py:209: UserWarning: To copy construct from a tensor, it is recommended to use sourceTensor.clone().detach() or sourceTensor.clone().detach().requires_grad_(True), rather than torch.tensor(sourceTensor).\n",
      "  mse =  lambda x,y: torch.sqrt(((torch.tensor(x).to(device)-torch.tensor(y).to(device) )**2).mean())\n"
     ]
    },
    {
     "name": "stdout",
     "output_type": "stream",
     "text": [
      "(65, 64)\n"
     ]
    },
    {
     "name": "stderr",
     "output_type": "stream",
     "text": [
      "100%|██████████| 5000/5000 [04:35<00:00, 18.12it/s]\n",
      "100%|██████████| 1000/1000 [00:00<00:00, 1103.41it/s]\n"
     ]
    },
    {
     "name": "stdout",
     "output_type": "stream",
     "text": [
      "(129, 128)\n"
     ]
    },
    {
     "name": "stderr",
     "output_type": "stream",
     "text": [
      "100%|██████████| 5000/5000 [04:49<00:00, 17.30it/s]\n",
      "100%|██████████| 1000/1000 [00:01<00:00, 939.55it/s]\n"
     ]
    },
    {
     "name": "stdout",
     "output_type": "stream",
     "text": [
      "(257, 256)\n"
     ]
    },
    {
     "name": "stderr",
     "output_type": "stream",
     "text": [
      "100%|██████████| 5000/5000 [04:53<00:00, 17.02it/s]\n",
      "100%|██████████| 1000/1000 [00:01<00:00, 900.46it/s]\n"
     ]
    },
    {
     "name": "stdout",
     "output_type": "stream",
     "text": [
      "(513, 512)\n"
     ]
    },
    {
     "name": "stderr",
     "output_type": "stream",
     "text": [
      "100%|██████████| 5000/5000 [04:55<00:00, 16.92it/s]\n",
      "100%|██████████| 1000/1000 [00:01<00:00, 926.92it/s]\n"
     ]
    },
    {
     "name": "stdout",
     "output_type": "stream",
     "text": [
      "(1025, 1024)\n"
     ]
    },
    {
     "name": "stderr",
     "output_type": "stream",
     "text": [
      "100%|██████████| 5000/5000 [04:47<00:00, 17.40it/s]\n",
      "100%|██████████| 1000/1000 [00:01<00:00, 957.14it/s]\n"
     ]
    }
   ],
   "source": [
    "device = \"cuda\" if torch.cuda.is_available() else \"cpu\"\n",
    "import pyro\n",
    "import pyro.contrib.gp as gp\n",
    "\n",
    "import time\n",
    "\n",
    "class SimpleForwardNetBN(AbstractDrift):\n",
    "\n",
    "    def __init__(self, input_dim=1, width=20):\n",
    "        super(SimpleForwardNetBN, self).__init__()\n",
    "\n",
    "        self.input_dim = input_dim\n",
    "        \n",
    "        self.nn = torch.nn.Sequential(\n",
    "            torch.nn.Linear(input_dim + 1, width), torch.nn.BatchNorm1d(width, affine=False), torch.nn.Softplus(),\n",
    "            torch.nn.Linear(width, width), torch.nn.BatchNorm1d(width, affine=False), torch.nn.Softplus(),\n",
    "            torch.nn.Linear(width, width), torch.nn.BatchNorm1d(width, affine=False), torch.nn.Softplus(),\n",
    "            torch.nn.Linear(width, width), torch.nn.BatchNorm1d(width, affine=False), torch.nn.Softplus(),\n",
    "            torch.nn.Linear(width, input_dim)\n",
    "        )\n",
    "        \n",
    "        self.nn[-1].weight.data.fill_(0.0)\n",
    "        self.nn[-1].bias.data.fill_(0.0)\n",
    "#         self.nn[-1].bias.data = 1.0 * self.nn[-1].bias.data / torch.std(self.nn[-1].bias.data ) \n",
    "        \n",
    "\n",
    "def train(X_train, y_train, gamma, dim, n_steps, data_batch_size, param_batch_size, dt=0.05, stl=False, size_list=None):\n",
    "    \n",
    "    sde = FollmerSDE(gamma, SimpleForwardNetBN(input_dim=dim, width=400)).to(device)\n",
    "    optimizer = torch.optim.Adam(sde.parameters(), lr=1e-4)\n",
    "    \n",
    "    losses = []\n",
    "\n",
    "    for _ in tqdm(range(n_steps)):\n",
    "        perm = torch.randperm(N_train)\n",
    "        x = X_train[perm[:data_batch_size], :]\n",
    "        y = y_train[perm[:data_batch_size], :]\n",
    "\n",
    "        optimizer.zero_grad()\n",
    "        \n",
    "        partial_log_p = lambda params_batch: log_posterior_batch(x, y, params_batch, size_list=size_list)\n",
    "#         import pdb; pdb.set_trace()\n",
    "        loss = relative_entropy_control_cost(sde, partial_log_p, param_batch_size=param_batch_size, dt=dt, device=device)\n",
    "        loss.backward()\n",
    "        \n",
    "        losses.append(loss.detach().cpu().numpy())\n",
    "        optimizer.step()\n",
    "        \n",
    "        if stl: # double check theres no references left\n",
    "            sde.drift_network_detatched.load_state_dict((sde.drift_network.state_dict()))\n",
    "    \n",
    "    losses = np.array(losses)\n",
    "    \n",
    "    return sde, losses\n",
    "\n",
    "def lin_reg_data_gen(dim, sigma_n, device, num_samps=30):\n",
    "\n",
    "    w = np.ones((dim,1))\n",
    "    b = 1.0\n",
    "\n",
    "    func = lambda x: np.dot(x, w)  + b\n",
    "\n",
    "    # Test inputs\n",
    "    num_test_samples = 30\n",
    "\n",
    "    if dim == 1:\n",
    "        X_test = np.linspace(-16, 16, num_samps).reshape(num_samps,1)\n",
    "        X_train = np.linspace(-3.5, 3.5, num_samps).reshape(-1,1)\n",
    "    else:\n",
    "        X_test  = np.random.randn(num_samps, dim)\n",
    "        X_train  = np.random.randn(num_samps, dim)\n",
    "\n",
    "    # Noise free training inputs\n",
    "\n",
    "    #f_train = np.cos(X_train) \n",
    "    f_train = func(X_train)\n",
    "\n",
    "    # Noise-free training outputs\n",
    "    #f = np.cos(X_test)\n",
    "    f = func(X_test)\n",
    "    y_test  = f\n",
    "\n",
    "    # Noisy training Inputs with additive Gaussian noise (zero-mean, variance sigma_n)\n",
    "\n",
    "    mu = np.zeros(X_train.shape[0])\n",
    "    \n",
    "    epsilon = np.random.multivariate_normal(mu, sigma_n**2 * np.eye(X_train.shape[0]))\n",
    "\n",
    "    y_train = f_train + epsilon.reshape(X_train.shape[0],1)\n",
    "\n",
    "    \n",
    "    return X_train, y_train, X_test, y_test, f\n",
    "\n",
    "# gamma = 0.1**2\n",
    "gamma = 0.01**2\n",
    "sigma2 = 1\n",
    "sigma_n = 0.2\n",
    "\n",
    "n_steps = 1000\n",
    "data_batch_size = 100\n",
    "param_batch_size = 32\n",
    "samps_lost = []\n",
    "\n",
    "errors = []\n",
    "\n",
    "samp_no = 100\n",
    "\n",
    "\n",
    "def log_prior(params):\n",
    "    return -torch.sum(params**2) / (2 * sigma2)\n",
    "\n",
    "def log_likelihood(x, y, params, size_list=None):\n",
    "    preds = func_model(functional.get_params_from_array(params, size_list), x)\n",
    "\n",
    "    diff = preds - y\n",
    "    \n",
    "    return - torch.sum(diff**2) / (2 * sigma_n**2)\n",
    "\n",
    "def log_likelihood_batch(x, y, params_batch, size_list=None):\n",
    "    func = lambda params: log_likelihood(x, y, params, size_list=size_list)\n",
    "    func = functorch.vmap(func)\n",
    "    return func(params_batch)\n",
    "\n",
    "def log_posterior(x, y, params, size_list=None):\n",
    "    return log_prior(params) + (N_train / x.shape[0]) * log_likelihood(x, y, params, size_list=size_list)\n",
    "\n",
    "def log_posterior_batch(x, y, params_batch, size_list=None):\n",
    "    func = lambda params: log_posterior(x, y, params, size_list=size_list)\n",
    "    func = functorch.vmap(func)\n",
    "    return func(params_batch)\n",
    "\n",
    "\n",
    "start, end = 5, 11\n",
    "dt=0.007\n",
    "\n",
    "sfs = False\n",
    "for i in range(start,end):\n",
    "    dim = dim_data =  2**i\n",
    "\n",
    "\n",
    "    X_train, y_train, X_test, y_test, f = lin_reg_data_gen(dim,  sigma_n, device, num_samps=dim+1)\n",
    "    print(X_train.shape)\n",
    "\n",
    "    N_train , _ = X_train.shape\n",
    "    N_test , _ = X_test.shape\n",
    "    \n",
    "    X_train = torch.tensor(X_train, device=device, dtype=torch.float)\n",
    "    X_test = torch.tensor(X_test, device=device, dtype=torch.float)\n",
    "\n",
    "    y_train = torch.tensor(y_train, device=device, dtype=torch.float)\n",
    "    y_test = torch.tensor(y_test, device=device, dtype=torch.float)\n",
    "    \n",
    "    \n",
    "#     ################################ GP #################################################################\n",
    "#     kernel = gp.kernels.Linear(input_dim=dim, variance=torch.tensor(1.0) )\n",
    "# #     kernel.variance = pyro.nn.PyroSample(dist.Uniform(torch.tensor(0.5), torch.tensor(1.5)))\n",
    "# #     import pdb;pdb.set_trace()\n",
    "#     gpr = gp.models.GPRegression(X_train, y_train.reshape(-1), kernel, noise=torch.tensor(0.2**2) )\n",
    "#     f_loc, f_cov = gpr(X_test, full_cov=False)\n",
    "#     gp_std = torch.sqrt(f_cov)\n",
    "#     gp_mean = f_loc\n",
    "    \n",
    "    \n",
    "    ################################  N-SFS #########################################################\n",
    "    model = LinModel(input_dim=dim).to(device)\n",
    "    func_model, params = functorch.make_functional(model)\n",
    "    size_list = functional.params_to_size_tuples(params)\n",
    "    dim_mod = functional.get_number_of_params(size_list)\n",
    "    \n",
    "    sde, losses = train(X_train, y_train, gamma, dim_mod, n_steps, data_batch_size, param_batch_size, size_list=size_list)\n",
    "    test_samp_nsfs_start = time.time()\n",
    "    param_samples = sde.sample(samp_no, dt=dt, device=device)\n",
    "    test_samp_nsfs_delta = (time.time() - test_samp_nsfs_start) / 60.0\n",
    "    std, mean, logp, mse = predict(param_samples, X_test, y_test, size_list=size_list)\n",
    "    std = torch.sqrt(std**2 + sigma_n**2)\n",
    "    \n",
    "    \n",
    "    if sfs:\n",
    "        ################################  SFS ############################################################\n",
    "        sde_sfs = MCFollmerSDE(torch.tensor(gamma), dim_mod, log_posterior, X_train, y_train, device, size_list=size_list)\n",
    "        test_samp_sfs_start = time.time()\n",
    "        sfs_samps = sde_sfs.sample(samp_no, dt=dt, device=device)\n",
    "        test_samp_sfs_delta = (time.time() - test_samp_sfs_start) / 60.0\n",
    "        sfs_samps = sfs_samps[~torch.isnan(sfs_samps).sum(dim=1).bool()]\n",
    "        std_sfs, mean_sfs, logp_sfs, mse_sfs = predict(sfs_samps, X_test, y_test, size_list=size_list)\n",
    "        std_sfs = torch.sqrt(std_sfs**2 + sigma_n**2)\n",
    "\n",
    "        samps_lost.append(((torch.isnan(sfs_samps).sum(dim=1).bool()).sum(), samp_no) )\n",
    "    \n",
    "    \n",
    "    ################################ SGLD #############################################################\n",
    "    \n",
    "    sgld_param_samples, sgld_losses = sgld(dim_mod, 1000, 1000, data_batch_size, X_train, y_train, size_list=size_list, step_size=10**(-6))\n",
    "    \n",
    "    std_sgld, mean_sgld, logp_sgld, mse_sgld = predict(sgld_param_samples[:100], X_test, y_test, size_list=size_list)\n",
    "    std_sgld = torch.sqrt(std_sgld**2 + sigma_n**2)\n",
    "    \n",
    "    \n",
    "    \n",
    "    ################################  True ############################################################\n",
    "    std_true = pred_true_std(X_train, X_test, sigma_n,  sigma2, dim_mod)\n",
    "    mean_true = pred_true_mean(y_train.detach().cpu(), X_train, X_test, sigma_n,  sigma2, dim_mod)\n",
    "    \n",
    "    \n",
    "    \n",
    "    ################################  Errors ############################################################\n",
    "    \n",
    "    mae =  lambda x,y: torch.abs(torch.tensor(x).to(device)-torch.tensor(y).to(device)).mean()\n",
    "    mse =  lambda x,y: torch.sqrt(((torch.tensor(x).to(device)-torch.tensor(y).to(device) )**2).mean())\n",
    "    if sfs:\n",
    "        errors.append(\n",
    "            {\n",
    "                \"mae_sfs_mean\": mae(mean_sfs, mean_true),\n",
    "                \"mae_nsfs_mean\": mae(mean, mean_true),\n",
    "                \"mse_sfs_mean\": mse(mean_sfs, mean_true),\n",
    "                \"mse_nsfs_mean\": mse(mean, mean_true),\n",
    "                \"mae_sfs_std\": mae(std_sfs, std_true),\n",
    "                \"mae_nsfs_std\": mae(std, std_true),\n",
    "                \"mse_sfs_std\": mse(std_sfs, std_true),\n",
    "                \"mse_nsfs_std\": mse(std, std_true),\n",
    "                \"sfs_stats\": (mean_sfs, std_sfs),\n",
    "                \"mae_sgld_std\": mae(std_sgld, std_true),\n",
    "                \"mae_sgld_mean\": mae(mean_sgld, mean_true),\n",
    "                \"sgld_stats\": (mean_sgld, std_sgld),\n",
    "                \"nsfs_stats\": (mean, std),\n",
    "                \"true_stats\": (mean_true, std_true),\n",
    "                \"gp_stats\": (None, None), # (gp_mean, gp_std)\n",
    "                \"test_times\": (test_samp_nsfs_delta, test_samp_sfs_delta)\n",
    "            })\n",
    "    else:\n",
    "        errors.append(\n",
    "        {\n",
    "            \"mae_nsfs_mean\": mae(mean, mean_true),\n",
    "            \"mse_nsfs_mean\": mse(mean, mean_true),\n",
    "            \"mae_nsfs_std\": mae(std, std_true),\n",
    "            \"mse_nsfs_std\": mse(std, std_true),\n",
    "            \"mae_sgld_std\": mae(std_sgld, std_true),\n",
    "            \"mae_sgld_mean\": mae(mean_sgld, mean_true),\n",
    "            \"sgld_stats\": (mean_sgld, std_sgld),\n",
    "            \"nsfs_stats\": (mean, std),\n",
    "            \"true_stats\": (mean_true, std_true),\n",
    "            \"gp_stats\": (None, None), # (gp_mean, gp_std)\n",
    "            \"test_times\": (test_samp_nsfs_delta, test_samp_sfs_delta)\n",
    "        }\n",
    "    )"
   ]
  },
  {
   "cell_type": "code",
   "execution_count": 82,
   "id": "0a5eddbf",
   "metadata": {},
   "outputs": [],
   "source": [
    "x_ax  = [2**x for x in range(start, end)]\n",
    "\n",
    "\n",
    "if sfs: mae_sfs_mean = [x[\"mae_sfs_mean\"].item() for x in errors]\n",
    "mae_nsfs_mean = [x[\"mae_nsfs_mean\"].item() for x in errors]\n",
    "mae_sgld_mean = [x[\"mae_sgld_mean\"].item() for x in errors]\n",
    "\n",
    "if sfs: mae_sfs_std = [x[\"mae_sfs_std\"].item() for x in errors]\n",
    "mae_nsfs_std = [x[\"mae_nsfs_std\"].item() for x in errors]\n",
    "mae_sgld_std = [x[\"mae_sgld_std\"].item() for x in errors]"
   ]
  },
  {
   "cell_type": "code",
   "execution_count": 83,
   "id": "828c9f8d",
   "metadata": {},
   "outputs": [
    {
     "data": {
      "text/plain": [
       "([0.8635509968500059,\n",
       "  0.9314426099402052,\n",
       "  0.945915324976934,\n",
       "  0.9815570938007612,\n",
       "  1.4864386029891172,\n",
       "  2.7285320374390656],\n",
       " [4.45762224428669,\n",
       "  6.141755855498071,\n",
       "  9.350177605541141,\n",
       "  10.72375918679501,\n",
       "  14.221556360196372,\n",
       "  16.82203024597154])"
      ]
     },
     "execution_count": 83,
     "metadata": {},
     "output_type": "execute_result"
    }
   ],
   "source": [
    "mae_sgld_std, mae_sgld_mean"
   ]
  },
  {
   "cell_type": "code",
   "execution_count": 85,
   "id": "cdd6d186",
   "metadata": {},
   "outputs": [
    {
     "data": {
      "text/plain": [
       "<matplotlib.legend.Legend at 0x7f9fc9b4e9d0>"
      ]
     },
     "execution_count": 85,
     "metadata": {},
     "output_type": "execute_result"
    },
    {
     "data": {
      "image/png": "[encoded data removed]",
      "text/plain": [
       "<Figure size 720x360 with 2 Axes>"
      ]
     },
     "metadata": {
      "needs_background": "light"
     },
     "output_type": "display_data"
    }
   ],
   "source": [
    "fig, (ax1,ax2) = plt.subplots(1,2, figsize=(10,5))\n",
    "\n",
    "# x_ax  = [10**(-x) for x in range(start, end)]\n",
    "\n",
    "ax1.plot(x_ax, mae_nsfs_mean, label=\"n-sfs\")\n",
    "if sfs: ax1.plot(x_ax, mae_sfs_mean, label=\"mc-sfs\")\n",
    "ax1.plot(x_ax, mae_sgld_mean, label=\"sgld\")\n",
    "ax1.set_xlabel(\"Param dimension\")\n",
    "\n",
    "ax1.set_title(\"Error wrt true mean\")\n",
    "ax1.legend()\n",
    "\n",
    "\n",
    "ax2.plot(x_ax ,mae_nsfs_std, label=\"n-sfs\")\n",
    "if sfs: ax2.plot(x_ax, mae_sfs_std, label=\"mc-sfs\")\n",
    "ax2.plot(x_ax, mae_sgld_std, label=\"sgld\")\n",
    "ax2.set_xlabel(\"Param dimension\")\n",
    "ax2.set_title(\"Error wrt true std\")\n",
    "ax2.legend()"
   ]
  },
  {
   "cell_type": "code",
   "execution_count": 109,
   "id": "7967fabe",
   "metadata": {},
   "outputs": [],
   "source": [
    "sfs_means = [x[\"sfs_stats\"][0].mean().item() for x in errors]\n",
    "nsfs_means = [x[\"nsfs_stats\"][0].mean().item() for x in errors]\n",
    "sgld_means = [x[\"sgld_stats\"][0].mean().item() for x in errors]\n",
    "true_means = [x[\"true_stats\"][0].mean().item() for x in errors]\n",
    "# gp_means = [x[\"gp_stats\"][0].mean().item() for x in errors]\n",
    "\n",
    "sfs_stds = [x[\"sfs_stats\"][1].mean().item() for x in errors]\n",
    "nsfs_stds = [x[\"nsfs_stats\"][1].mean().item() for x in errors]\n",
    "true_stds = [x[\"true_stats\"][1].mean().item() for x in errors]\n",
    "sgld_stds = [x[\"sgld_stats\"][1].mean().item() for x in errors]\n",
    "# gp_stds = [x[\"gp_stats\"][1].mean().item() for x in errors]"
   ]
  },
  {
   "cell_type": "code",
   "execution_count": 113,
   "id": "597f92ac",
   "metadata": {},
   "outputs": [
    {
     "data": {
      "text/plain": [
       "<matplotlib.legend.Legend at 0x7fd7a00bc910>"
      ]
     },
     "execution_count": 113,
     "metadata": {},
     "output_type": "execute_result"
    },
    {
     "data": {
      "image/png": "[encoded data removed]",
      "text/plain": [
       "<Figure size 432x288 with 1 Axes>"
      ]
     },
     "metadata": {
      "needs_background": "light"
     },
     "output_type": "display_data"
    }
   ],
   "source": [
    "# plt.plot(x_ax, nsfs_stds, label=\"n-sfs stds average\")\n",
    "# plt.plot(x_ax, sfs_stds, label=\"sfs stds average\")\n",
    "plt.plot(x_ax, sgld_stds, label=\"sgld stds average\")\n",
    "plt.plot(x_ax, true_stds, label=\"true stds average\")\n",
    "plt.legend()"
   ]
  },
  {
   "cell_type": "code",
   "execution_count": 112,
   "id": "91e1aa81",
   "metadata": {},
   "outputs": [
    {
     "data": {
      "text/plain": [
       "<matplotlib.legend.Legend at 0x7fd711425460>"
      ]
     },
     "execution_count": 112,
     "metadata": {},
     "output_type": "execute_result"
    },
    {
     "data": {
      "image/png": "[encoded data removed]",
      "text/plain": [
       "<Figure size 432x288 with 1 Axes>"
      ]
     },
     "metadata": {
      "needs_background": "light"
     },
     "output_type": "display_data"
    }
   ],
   "source": [
    "# plt.plot(x_ax, nsfs_means, label=\"n-sfs mean average\")\n",
    "plt.plot(x_ax, sfs_means, label=\"sfs mean average\")\n",
    "plt.plot(x_ax, sgld_means, label=\"sgld mean average\")\n",
    "plt.plot(x_ax, true_means, label=\"true mean average\")\n",
    "plt.legend()"
   ]
  },
  {
   "cell_type": "code",
   "execution_count": 68,
   "id": "0f671bbe",
   "metadata": {},
   "outputs": [
    {
     "data": {
      "text/plain": [
       "<matplotlib.legend.Legend at 0x7fd766441580>"
      ]
     },
     "execution_count": 68,
     "metadata": {},
     "output_type": "execute_result"
    },
    {
     "data": {
      "image/png": "[encoded data removed]",
      "text/plain": [
       "<Figure size 432x288 with 1 Axes>"
      ]
     },
     "metadata": {
      "needs_background": "light"
     },
     "output_type": "display_data"
    }
   ],
   "source": [
    "plt.plot(x_ax, nsfs_means, label=\"n-sfs predictions average\")\n",
    "plt.plot(x_ax, sfs_means, label=\"sfs predictions average\")\n",
    "plt.plot(x_ax, true_means, label=\"true predictions average\")\n",
    "plt.legend()"
   ]
  },
  {
   "cell_type": "code",
   "execution_count": 69,
   "id": "9d546df3",
   "metadata": {},
   "outputs": [],
   "source": [
    "# sfs_times = [x[\"test_times\"][1] for x in errors]\n",
    "# nsfs_times = [x[\"test_times\"][0] for x in errors]\n",
    "\n",
    "# plt.plot(x_ax, nsfs_times, label=\"n-sfs test time minutes\")\n",
    "# plt.plot(x_ax, sfs_times, label=\"sfs test time minutes\")\n",
    "# plt.legend()"
   ]
  },
  {
   "cell_type": "code",
   "execution_count": null,
   "id": "d21978dc",
   "metadata": {},
   "outputs": [],
   "source": []
  }
 ],
 "metadata": {
  "kernelspec": {
   "display_name": "Python 3 (ipykernel)",
   "language": "python",
   "name": "python3"
  },
  "language_info": {
   "codemirror_mode": {
    "name": "ipython",
    "version": 3
   },
   "file_extension": ".py",
   "mimetype": "text/x-python",
   "name": "python",
   "nbconvert_exporter": "python",
   "pygments_lexer": "ipython3",
   "version": "3.9.7"
  }
 },
 "nbformat": 4,
 "nbformat_minor": 5
}
