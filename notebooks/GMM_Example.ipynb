{
 "cells": [
  {
   "cell_type": "code",
   "execution_count": 11,
   "metadata": {},
   "outputs": [],
   "source": [
    "import torch\n",
    "import torch.nn.functional as F\n",
    "\n",
    "import torchsde\n",
    "import math\n",
    "import matplotlib.pyplot as plt\n",
    "\n",
    "from cfollmer.objectives import log_g, relative_entropy_control_cost, gaussian_prior\n",
    "from cfollmer.sampler_utils import FollmerSDE\n",
    "import numpy as np\n",
    "\n",
    "from tqdm.notebook import tqdm\n",
    "\n",
    "from torch import _vmap_internals"
   ]
  },
  {
   "cell_type": "markdown",
   "metadata": {},
   "source": [
    "## Generating Toy 2D Dataset."
   ]
  },
  {
   "cell_type": "code",
   "execution_count": 21,
   "metadata": {},
   "outputs": [],
   "source": [
    "import torch\n",
    "from sklearn.datasets import make_blobs\n",
    "from sklearn.model_selection import train_test_split\n",
    "from sklearn.preprocessing import StandardScaler\n",
    "\n",
    "device = \"cuda\" if torch.cuda.is_available() else \"cpu\"\n",
    "random_state = 170\n",
    "\n",
    "X, y = make_blobs(n_samples=100,\n",
    "                  cluster_std=[0.5, 0.5, 0.5],\n",
    "                  random_state=random_state)\n",
    "\n",
    "\n",
    "# # Scale data to have mean 0 and variance 1 \n",
    "# # which is importance for convergence of the neural network\n",
    "scaler = StandardScaler()\n",
    "X_scaled = scaler.fit_transform(X)\n",
    "\n",
    "# Split the data set into training and testing\n",
    "X_train, X_test, y_train, y_test = train_test_split(\n",
    "    X_scaled, y, test_size=0.2, random_state=2)\n",
    "\n",
    "\n",
    "X_train, X_test, y_train, y_test = \\\n",
    "    torch.tensor(X_train, dtype=torch.float32, device=device), \\\n",
    "    torch.tensor(X_test, dtype=torch.float32, device=device), \\\n",
    "    torch.tensor(y_train, dtype=torch.float32, device=device), \\\n",
    "    torch.tensor(y_test, dtype=torch.float32, device=device) "
   ]
  },
  {
   "cell_type": "code",
   "execution_count": 22,
   "metadata": {},
   "outputs": [
    {
     "data": {
      "text/plain": [
       "(100, 2)"
      ]
     },
     "execution_count": 22,
     "metadata": {},
     "output_type": "execute_result"
    }
   ],
   "source": [
    "X.shape"
   ]
  },
  {
   "cell_type": "code",
   "execution_count": 84,
   "metadata": {},
   "outputs": [
    {
     "data": {
      "image/png": "[encoded data removed]",
      "text/plain": [
       "<Figure size 1152x432 with 1 Axes>"
      ]
     },
     "metadata": {
      "needs_background": "light"
     },
     "output_type": "display_data"
    }
   ],
   "source": [
    "fig, ax1 = plt.subplots(1, 1, figsize=(16, 6))\n",
    "\n",
    "ax1.plot(X_scaled[:, 0], X_scaled[:, 1], \n",
    "         linestyle='none', \n",
    "         marker='o')\n",
    "\n",
    "ax1.axis('equal');"
   ]
  },
  {
   "cell_type": "markdown",
   "metadata": {},
   "source": [
    "$$\\DeclareMathOperator*{\\argmin}{arg\\,min}$$\n",
    "$$\\def\\E{{\\mathbb{E}}}$$\n",
    "$$\\def\\rvu{{\\mathbf{u}}}$$\n",
    "$$\\def\\rvTheta{{\\bm{\\Theta}}}$$\n",
    "$$\\def\\gU{{\\mathcal{U}}}$$\n",
    "$$\\def\\mX{{\\mathbf{X}}}$$"
   ]
  },
  {
   "cell_type": "markdown",
   "metadata": {},
   "source": [
    "## Controlled Schrodinger Follmer Sampler\n",
    "\n",
    "The objevtive we are trying to implement is:\n",
    "\n",
    "\\begin{align}\n",
    "  \\mathbf{u}_t^{*}=  \\argmin_{\\rvu_t \\in \\mathcal{U}}\\mathbb{E}\\left[\\frac{1}{2\\gamma}\\int_0^1||\\rvu(t, \\Theta_t)||^2 dt - \\ln\\left(\\frac{ p(\\mX | \\Theta_1)p(\\Theta_1)}{\\mathcal{N}(\\Theta_1|\\mathbf{0}, \\gamma \\mathbb{I} )}\\right)\\right] \\\n",
    "\\end{align}\n",
    "\n",
    "Where:\n",
    "\\begin{align}\n",
    "d\\Theta_t = \\rvu(t, \\Theta_t)dt + \\sqrt{\\gamma} dB_t\n",
    "\\end{align}\n",
    "\n",
    "To do so we use the EM discretisation."
   ]
  },
  {
   "cell_type": "code",
   "execution_count": 85,
   "metadata": {},
   "outputs": [],
   "source": [
    "def log_gaussian(x, mean=0):\n",
    "    \"\"\"\n",
    "    Returns the density of x under the supplied gaussian. Defaults to\n",
    "    standard gaussian N(0, I)\n",
    "    :param x: (*) torch.Tensor\n",
    "    :param mean: float or torch.FloatTensor with dimensions (*)\n",
    "    :param logvar: float or torch.FloatTensor with dimensions (*)\n",
    "    :return: (*) elementwise log density\n",
    "    \"\"\"\n",
    "    \n",
    "    log_norm_constant = -0.5 * np.log(2 * np.pi)\n",
    "    logvar = torch.log(torch.tensor(0.1))\n",
    "    logvar = x.new(1).fill_(logvar)\n",
    "    \n",
    "    a = (x - mean) ** 2\n",
    "    log_p = -0.5 * (logvar + a / logvar.exp())\n",
    "    log_p = log_p + log_norm_constant\n",
    "\n",
    "    return log_p.sum(dim=-1)\n",
    "\n",
    "\n",
    "def log_likelihood_single(μ, X, log=True):\n",
    "    \"\"\"\n",
    "    :param X: design matrix (examples, features)\n",
    "    :param mu: the component means (K, features)\n",
    "    :param logvar: the component log-variances (K, features)\n",
    "    :param log: return value in log domain?\n",
    "\n",
    "    \"\"\"\n",
    "#     import pdb; pdb.set_trace()\n",
    "    \n",
    "    n, d = X.shape\n",
    "    # get feature-wise log-likelihoods (K, examples, features)\n",
    "    log_likelihoods = log_gaussian(\n",
    "        X[None, :, :], # (1, examples, features)\n",
    "        μ.reshape(-1, d)[:, None, :], # (K, 1, features)\n",
    "    )\n",
    "\n",
    "    # sum over the feature dimension\n",
    "    log_likelihoods = torch.logsumexp(log_likelihoods, dim=0) \n",
    "\n",
    "    return log_likelihoods.sum()\n",
    "\n",
    "\n",
    "def log_likelihood(Θ, X, y=None):\n",
    "    \"\"\"\n",
    "    batching the above (hopefully its right)\n",
    "    \"\"\"\n",
    "#     import pdb; pdb.set_trace()\n",
    "    loss_ = lambda μ: log_likelihood_single(μ, X)\n",
    "    \n",
    "    batched_loss =  torch._vmap_internals.vmap(loss_)\n",
    "\n",
    "    return batched_loss(Θ)"
   ]
  },
  {
   "cell_type": "code",
   "execution_count": 86,
   "metadata": {},
   "outputs": [],
   "source": [
    "Δt=0.05\n",
    "t_size = int(math.ceil(1.0/Δt))\n",
    "dim = 3 * 2\n",
    "\n",
    "ts = torch.linspace(0, 1, t_size).to(device)\n",
    "no_posterior_samples = 50\n",
    "\n",
    "sde = FollmerSDE(dim, dim, no_posterior_samples, 1.0, device=device).to(device)\n",
    "Θ_0 = torch.zeros((no_posterior_samples, dim)).to(device) # Θ_0 ~ δ_0\n",
    "\n",
    "# Initial state y0, the SDE is solved over the interval [ts[0], ts[-1]].\n",
    "# ys will have shape (t_size, batch_size, state_size)\n",
    "ys = torchsde.sdeint(sde, Θ_0, ts, dt=Δt)"
   ]
  },
  {
   "cell_type": "code",
   "execution_count": 87,
   "metadata": {},
   "outputs": [
    {
     "name": "stderr",
     "output_type": "stream",
     "text": [
      "C:\\Users\\vargf\\anaconda3\\lib\\site-packages\\torch\\_vmap_internals.py:252: UserWarning: torch.vmap is an experimental prototype that is subject to change and/or deletion. Please use at your own risk.\n",
      "  warnings.warn(\n",
      "<ipython-input-85-2e8c864ddd5f>:40: UserWarning: Batching rule not implemented for aten::logsumexp falling back to slow (for loop and stack) implementation (Triggered internally at  ..\\aten\\src\\ATen\\BatchedFallback.cpp:63.)\n",
      "  log_likelihoods = torch.logsumexp(log_likelihoods, dim=0)\n",
      "<ipython-input-85-2e8c864ddd5f>:42: UserWarning: Batching rule not implemented for aten::sum falling back to slow (for loop and stack) implementation (Triggered internally at  ..\\aten\\src\\ATen\\BatchedFallback.cpp:63.)\n",
      "  return log_likelihoods.sum()\n"
     ]
    },
    {
     "data": {
      "text/plain": [
       "tensor(1286.0779, device='cuda:0', grad_fn=<MeanBackward0>)"
      ]
     },
     "execution_count": 87,
     "metadata": {},
     "output_type": "execute_result"
    }
   ],
   "source": [
    "relative_entropy_control_cost(sde, Θ_0, X_train, y_train, \n",
    "                              gaussian_prior, log_likelihood, γ=1.0, device=device)"
   ]
  },
  {
   "cell_type": "code",
   "execution_count": 88,
   "metadata": {},
   "outputs": [
    {
     "name": "stdout",
     "output_type": "stream",
     "text": [
      "20\n"
     ]
    },
    {
     "data": {
      "application/vnd.jupyter.widget-view+json": {
       "model_id": "a0a650efff2743bab22ffaff48ecd0a7",
       "version_major": 2,
       "version_minor": 0
      },
      "text/plain": [
       "  0%|          | 0/100 [00:00<?, ?it/s]"
      ]
     },
     "metadata": {},
     "output_type": "display_data"
    },
    {
     "name": "stderr",
     "output_type": "stream",
     "text": [
      "<ipython-input-85-2e8c864ddd5f>:40: UserWarning: Batching rule not implemented for aten::logsumexp falling back to slow (for loop and stack) implementation (Triggered internally at  ..\\aten\\src\\ATen\\BatchedFallback.cpp:63.)\n",
      "  log_likelihoods = torch.logsumexp(log_likelihoods, dim=0)\n",
      "<ipython-input-85-2e8c864ddd5f>:42: UserWarning: Batching rule not implemented for aten::sum falling back to slow (for loop and stack) implementation (Triggered internally at  ..\\aten\\src\\ATen\\BatchedFallback.cpp:63.)\n",
      "  return log_likelihoods.sum()\n"
     ]
    }
   ],
   "source": [
    "γ = 1.0\n",
    "Δt=0.05\n",
    "t_size = int(math.ceil(1.0/Δt))\n",
    "print(t_size)\n",
    "ts = torch.linspace(0, 1, t_size).to(device)\n",
    "\n",
    "sde = FollmerSDE(dim, dim, no_posterior_samples  , γ=γ, device=device).to(device)\n",
    "optimizer = torch.optim.Adam(sde.μ.parameters(), lr=0.09, weight_decay =1)\n",
    "#     optimizer = torch.optim.LBFGS(gpr.parameters(), lr=0.01)\n",
    "losses = []\n",
    "num_steps = 100\n",
    "for i in tqdm(range(num_steps)):\n",
    "    optimizer.zero_grad()\n",
    "\n",
    "    if isinstance(optimizer, torch.optim.LBFGS):\n",
    "        def closure():\n",
    "            loss = relative_entropy_control_cost(\n",
    "                sde, Θ_0.float(),\n",
    "                X_train.float(), y_train.float(),\n",
    "                gaussian_prior, log_likelihood, γ=γ\n",
    "            )\n",
    "            optimizer.zero_grad()\n",
    "            loss.backward()\n",
    "            return loss\n",
    "\n",
    "        optimizer.step(closure)\n",
    "        losses.append(closure().item())\n",
    "    else:\n",
    "        loss = relative_entropy_control_cost(\n",
    "            sde, Θ_0,\n",
    "            X_train, y_train,\n",
    "            gaussian_prior, log_likelihood, γ=γ\n",
    "        )\n",
    "        optimizer.zero_grad()\n",
    "        loss.backward()\n",
    "\n",
    "        optimizer.step()\n",
    "        losses.append(loss.item())"
   ]
  },
  {
   "cell_type": "code",
   "execution_count": 89,
   "metadata": {
    "scrolled": true
   },
   "outputs": [
    {
     "data": {
      "text/plain": [
       "[1148.671875,\n",
       " 442.32818603515625,\n",
       " 2309.281494140625,\n",
       " 378.5138244628906,\n",
       " 494.181640625,\n",
       " 638.5601196289062,\n",
       " 818.047119140625,\n",
       " 563.2620849609375,\n",
       " 480.9657287597656,\n",
       " 705.0221557617188,\n",
       " 502.9326171875,\n",
       " 510.2657165527344,\n",
       " 405.9010925292969,\n",
       " 350.9248352050781,\n",
       " 361.4313659667969,\n",
       " 320.98065185546875,\n",
       " 322.3826904296875,\n",
       " 356.8143615722656,\n",
       " 344.99822998046875,\n",
       " 290.52386474609375,\n",
       " 304.35113525390625,\n",
       " 278.216552734375,\n",
       " 324.99072265625,\n",
       " 257.6805419921875,\n",
       " 315.2677001953125,\n",
       " 281.2933349609375,\n",
       " 301.71160888671875,\n",
       " 275.4434509277344,\n",
       " 274.9703369140625,\n",
       " 282.5225830078125,\n",
       " 279.0531005859375,\n",
       " 255.0511474609375,\n",
       " 237.19639587402344,\n",
       " 267.3143615722656,\n",
       " 249.56753540039062,\n",
       " 219.07017517089844,\n",
       " 273.6348876953125,\n",
       " 236.5558319091797,\n",
       " 244.89599609375,\n",
       " 225.08058166503906,\n",
       " 223.28575134277344,\n",
       " 270.2176208496094,\n",
       " 245.63912963867188,\n",
       " 245.95843505859375,\n",
       " 272.2038879394531,\n",
       " 247.416748046875,\n",
       " 235.0045623779297,\n",
       " 251.0233917236328,\n",
       " 221.9027557373047,\n",
       " 202.02479553222656,\n",
       " 226.14752197265625,\n",
       " 212.17823791503906,\n",
       " 233.91444396972656,\n",
       " 282.125,\n",
       " 203.1854248046875,\n",
       " 208.679443359375,\n",
       " 262.849609375,\n",
       " 256.0747985839844,\n",
       " 233.5564727783203,\n",
       " 231.81163024902344,\n",
       " 226.5849609375,\n",
       " 310.0107727050781,\n",
       " 215.79779052734375,\n",
       " 226.02108764648438,\n",
       " 209.88626098632812,\n",
       " 233.79542541503906,\n",
       " 244.53494262695312,\n",
       " 198.1240234375,\n",
       " 253.15345764160156,\n",
       " 219.1805419921875,\n",
       " 195.41468811035156,\n",
       " 218.06353759765625,\n",
       " 246.8018035888672,\n",
       " 216.3095703125,\n",
       " 247.1588592529297,\n",
       " 219.32577514648438,\n",
       " 227.5809783935547,\n",
       " 216.81573486328125,\n",
       " 223.2353515625,\n",
       " 200.414794921875,\n",
       " 205.79635620117188,\n",
       " 199.25588989257812,\n",
       " 220.33984375,\n",
       " 271.341796875,\n",
       " 217.99072265625,\n",
       " 220.01898193359375,\n",
       " 227.62948608398438,\n",
       " 239.42071533203125,\n",
       " 229.63255310058594,\n",
       " 218.43679809570312,\n",
       " 237.7841033935547,\n",
       " 229.76585388183594,\n",
       " 235.10337829589844,\n",
       " 219.12098693847656,\n",
       " 237.9454803466797,\n",
       " 208.27842712402344,\n",
       " 273.4342956542969,\n",
       " 218.3631134033203,\n",
       " 241.9652557373047,\n",
       " 206.1142120361328]"
      ]
     },
     "execution_count": 89,
     "metadata": {},
     "output_type": "execute_result"
    }
   ],
   "source": [
    "losses"
   ]
  },
  {
   "cell_type": "code",
   "execution_count": 90,
   "metadata": {},
   "outputs": [
    {
     "data": {
      "text/plain": [
       "[<matplotlib.lines.Line2D at 0x15b8c46aee0>]"
      ]
     },
     "execution_count": 90,
     "metadata": {},
     "output_type": "execute_result"
    },
    {
     "data": {
      "image/png": "[encoded data removed]",
      "text/plain": [
       "<Figure size 432x288 with 1 Axes>"
      ]
     },
     "metadata": {
      "needs_background": "light"
     },
     "output_type": "display_data"
    }
   ],
   "source": [
    "plt.plot(losses[:])"
   ]
  },
  {
   "cell_type": "code",
   "execution_count": 91,
   "metadata": {},
   "outputs": [
    {
     "data": {
      "text/plain": [
       "torch.Size([20, 50, 6])"
      ]
     },
     "execution_count": 91,
     "metadata": {},
     "output_type": "execute_result"
    }
   ],
   "source": [
    " torchsde.sdeint(sde, Θ_0, ts, method=\"euler\", dt=Δt).shape"
   ]
  },
  {
   "cell_type": "code",
   "execution_count": 92,
   "metadata": {},
   "outputs": [
    {
     "data": {
      "text/plain": [
       "torch.Size([80, 2])"
      ]
     },
     "execution_count": 92,
     "metadata": {},
     "output_type": "execute_result"
    }
   ],
   "source": [
    "X_train.shape"
   ]
  },
  {
   "cell_type": "code",
   "execution_count": 93,
   "metadata": {},
   "outputs": [],
   "source": [
    "Θ_1 = torchsde.sdeint(sde, Θ_0, ts, dt=Δt)[-1,...]"
   ]
  },
  {
   "cell_type": "code",
   "execution_count": 98,
   "metadata": {},
   "outputs": [],
   "source": [
    "Θ_1 = Θ_1.reshape(50,3,2)"
   ]
  },
  {
   "cell_type": "code",
   "execution_count": 100,
   "metadata": {},
   "outputs": [
    {
     "data": {
      "text/plain": [
       "(array([ 6., 14., 22.,  9.,  6., 15., 29., 35., 11.,  3.]),\n",
       " array([-2.0373082e+00, -1.6298347e+00, -1.2223612e+00, -8.1488764e-01,\n",
       "        -4.0741414e-01,  5.9366226e-05,  4.0753287e-01,  8.1500638e-01,\n",
       "         1.2224799e+00,  1.6299534e+00,  2.0374269e+00], dtype=float32),\n",
       " <a list of 10 Patch objects>)"
      ]
     },
     "execution_count": 100,
     "metadata": {},
     "output_type": "execute_result"
    },
    {
     "data": {
      "image/png": "[encoded data removed]",
      "text/plain": [
       "<Figure size 432x288 with 2 Axes>"
      ]
     },
     "metadata": {
      "needs_background": "light"
     },
     "output_type": "display_data"
    }
   ],
   "source": [
    "fig, (ax1,ax2) = plt.subplots(1,2)\n",
    "\n",
    "ax1.hist(Θ_1[:,:,0].flatten().cpu().detach().numpy())\n",
    "ax2.hist(Θ_1[:,:,1].flatten().cpu().detach().numpy())"
   ]
  },
  {
   "cell_type": "code",
   "execution_count": 95,
   "metadata": {},
   "outputs": [
    {
     "data": {
      "text/plain": [
       "tensor([[ 1.3344,  1.0284],\n",
       "        [-0.0843,  0.4886],\n",
       "        [-0.9756, -1.1666]], device='cuda:0', grad_fn=<ViewBackward>)"
      ]
     },
     "execution_count": 95,
     "metadata": {},
     "output_type": "execute_result"
    }
   ],
   "source": [
    "Θ_1.mean(axis=0).reshape(3,2)"
   ]
  },
  {
   "cell_type": "markdown",
   "metadata": {},
   "source": [
    "## MAP Baseline\n",
    "\n",
    "We run the point estimate approximation (Maximum a posteriori) to double check what the learned weights look like.  We get the  exact same training accuracy as with the controlled model and similarly large weights for the non bias weights. "
   ]
  },
  {
   "cell_type": "code",
   "execution_count": 22,
   "metadata": {},
   "outputs": [
    {
     "data": {
      "application/vnd.jupyter.widget-view+json": {
       "model_id": "0b020534120e43338eed0cb71250bbc3",
       "version_major": 2,
       "version_minor": 0
      },
      "text/plain": [
       "  0%|          | 0/1000 [00:00<?, ?it/s]"
      ]
     },
     "metadata": {},
     "output_type": "display_data"
    },
    {
     "ename": "RuntimeError",
     "evalue": "Expected all tensors to be on the same device, but found at least two devices, cuda:0 and cpu! (when checking arugment for argument mat2 in method wrapper_mm)",
     "output_type": "error",
     "traceback": [
      "\u001b[0;31m---------------------------------------------------------------------------\u001b[0m",
      "\u001b[0;31mRuntimeError\u001b[0m                              Traceback (most recent call last)",
      "\u001b[0;32m/tmp/ipykernel_15490/2703831245.py\u001b[0m in \u001b[0;36m<module>\u001b[0;34m\u001b[0m\n\u001b[1;32m     18\u001b[0m         \u001b[0mlosses_map\u001b[0m\u001b[0;34m.\u001b[0m\u001b[0mappend\u001b[0m\u001b[0;34m(\u001b[0m\u001b[0mclosure_map\u001b[0m\u001b[0;34m(\u001b[0m\u001b[0;34m)\u001b[0m\u001b[0;34m.\u001b[0m\u001b[0mitem\u001b[0m\u001b[0;34m(\u001b[0m\u001b[0;34m)\u001b[0m\u001b[0;34m)\u001b[0m\u001b[0;34m\u001b[0m\u001b[0;34m\u001b[0m\u001b[0m\n\u001b[1;32m     19\u001b[0m     \u001b[0;32melse\u001b[0m\u001b[0;34m:\u001b[0m\u001b[0;34m\u001b[0m\u001b[0;34m\u001b[0m\u001b[0m\n\u001b[0;32m---> 20\u001b[0;31m         \u001b[0mloss_map\u001b[0m \u001b[0;34m=\u001b[0m \u001b[0;34m-\u001b[0m\u001b[0;34m(\u001b[0m\u001b[0mlog_likelihood_vmap\u001b[0m\u001b[0;34m(\u001b[0m\u001b[0mΘ_map\u001b[0m\u001b[0;34m,\u001b[0m \u001b[0;34m(\u001b[0m\u001b[0mX_train\u001b[0m\u001b[0;34m)\u001b[0m\u001b[0;34m.\u001b[0m\u001b[0mfloat\u001b[0m\u001b[0;34m(\u001b[0m\u001b[0;34m)\u001b[0m\u001b[0;34m,\u001b[0m \u001b[0;34m(\u001b[0m\u001b[0my_train\u001b[0m\u001b[0;34m)\u001b[0m\u001b[0;34m.\u001b[0m\u001b[0mfloat\u001b[0m\u001b[0;34m(\u001b[0m\u001b[0;34m)\u001b[0m\u001b[0;34m)\u001b[0m \u001b[0;34m+\u001b[0m \u001b[0mgaussian_prior\u001b[0m\u001b[0;34m(\u001b[0m\u001b[0mΘ_map\u001b[0m\u001b[0;34m)\u001b[0m\u001b[0;34m)\u001b[0m\u001b[0;34m\u001b[0m\u001b[0;34m\u001b[0m\u001b[0m\n\u001b[0m\u001b[1;32m     21\u001b[0m         \u001b[0moptimizer_map\u001b[0m\u001b[0;34m.\u001b[0m\u001b[0mzero_grad\u001b[0m\u001b[0;34m(\u001b[0m\u001b[0;34m)\u001b[0m\u001b[0;34m\u001b[0m\u001b[0;34m\u001b[0m\u001b[0m\n\u001b[1;32m     22\u001b[0m         \u001b[0mloss_map\u001b[0m\u001b[0;34m.\u001b[0m\u001b[0mbackward\u001b[0m\u001b[0;34m(\u001b[0m\u001b[0;34m)\u001b[0m\u001b[0;34m\u001b[0m\u001b[0;34m\u001b[0m\u001b[0m\n",
      "\u001b[0;32m/tmp/ipykernel_15490/296078900.py\u001b[0m in \u001b[0;36mlog_likelihood_vmap\u001b[0;34m(Θ, X, y)\u001b[0m\n\u001b[1;32m     36\u001b[0m     \"\"\"\n\u001b[1;32m     37\u001b[0m \u001b[0;31m#     import pdb; pdb.set_trace()\u001b[0m\u001b[0;34m\u001b[0m\u001b[0;34m\u001b[0m\u001b[0;34m\u001b[0m\u001b[0m\n\u001b[0;32m---> 38\u001b[0;31m     \u001b[0mlogits\u001b[0m \u001b[0;34m=\u001b[0m \u001b[0mX\u001b[0m\u001b[0;34m.\u001b[0m\u001b[0mmm\u001b[0m\u001b[0;34m(\u001b[0m\u001b[0mΘ\u001b[0m\u001b[0;34m.\u001b[0m\u001b[0mT\u001b[0m\u001b[0;34m)\u001b[0m\u001b[0;34m\u001b[0m\u001b[0;34m\u001b[0m\u001b[0m\n\u001b[0m\u001b[1;32m     39\u001b[0m \u001b[0;34m\u001b[0m\u001b[0m\n\u001b[1;32m     40\u001b[0m     \u001b[0mpos_weights\u001b[0m \u001b[0;34m=\u001b[0m \u001b[0mtorch\u001b[0m\u001b[0;34m.\u001b[0m\u001b[0mones\u001b[0m\u001b[0;34m(\u001b[0m\u001b[0mlogits\u001b[0m\u001b[0;34m.\u001b[0m\u001b[0mshape\u001b[0m\u001b[0;34m[\u001b[0m\u001b[0;36m0\u001b[0m\u001b[0;34m]\u001b[0m\u001b[0;34m,\u001b[0m \u001b[0mdevice\u001b[0m\u001b[0;34m=\u001b[0m\u001b[0mdevice\u001b[0m\u001b[0;34m)\u001b[0m\u001b[0;34m\u001b[0m\u001b[0;34m\u001b[0m\u001b[0m\n",
      "\u001b[0;31mRuntimeError\u001b[0m: Expected all tensors to be on the same device, but found at least two devices, cuda:0 and cpu! (when checking arugment for argument mat2 in method wrapper_mm)"
     ]
    }
   ],
   "source": [
    "Θ_map = torch.full((1, dim), 0.0, requires_grad=True)  \n",
    "optimizer_map = torch.optim.Adam([Θ_map], lr=0.05)\n",
    "#     optimizer = torch.optim.LBFGS(gpr.parameters(), lr=0.01)\n",
    "\n",
    "losses_map = []\n",
    "num_steps = 1000\n",
    "for i in tqdm(range(num_steps)):\n",
    "    optimizer.zero_grad()\n",
    "\n",
    "    if isinstance(optimizer_map, torch.optim.LBFGS):\n",
    "        def closure_map():\n",
    "            loss_map = log_likelihood_vmap()\n",
    "            optimizer_map.zero_grad()\n",
    "            loss_map.backward()\n",
    "            return loss\n",
    "\n",
    "        optimizer_map.step(closure_map)\n",
    "        losses_map.append(closure_map().item())\n",
    "    else:\n",
    "        loss_map = -(log_likelihood_vmap(Θ_map, (X_train).float(), (y_train).float()) + gaussian_prior(Θ_map))\n",
    "        optimizer_map.zero_grad()\n",
    "        loss_map.backward()\n",
    "\n",
    "        optimizer_map.step()\n",
    "        losses_map.append(loss.item())\n",
    "\n",
    "Θ_map\n",
    "pred_map = torch.sigmoid(X_train.float().mm(Θ_map.T)).mean(axis=1)\n",
    "((pred_map < 0.5).float() == y_train).float().mean(), Θ_map"
   ]
  }
 ],
 "metadata": {
  "kernelspec": {
   "display_name": "Python 3",
   "language": "python",
   "name": "python3"
  },
  "language_info": {
   "codemirror_mode": {
    "name": "ipython",
    "version": 3
   },
   "file_extension": ".py",
   "mimetype": "text/x-python",
   "name": "python",
   "nbconvert_exporter": "python",
   "pygments_lexer": "ipython3",
   "version": "3.8.5"
  },
  "toc": {
   "base_numbering": 1,
   "nav_menu": {},
   "number_sections": true,
   "sideBar": true,
   "skip_h1_title": false,
   "title_cell": "Table of Contents",
   "title_sidebar": "Contents",
   "toc_cell": false,
   "toc_position": {},
   "toc_section_display": true,
   "toc_window_display": false
  }
 },
 "nbformat": 4,
 "nbformat_minor": 4
}
