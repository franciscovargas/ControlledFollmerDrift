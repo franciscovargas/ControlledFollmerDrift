{
 "cells": [
  {
   "cell_type": "code",
   "execution_count": 1,
   "metadata": {},
   "outputs": [],
   "source": [
    "import torch\n",
    "import torch.nn.functional as F\n",
    "\n",
    "import torchsde\n",
    "import math\n",
    "import matplotlib.pyplot as plt\n",
    "\n",
    "from cfollmer.objectives import log_g, relative_entropy_control_cost\n",
    "from cfollmer.sampler_utils import FollmerSDE\n",
    "import numpy as np\n",
    "\n",
    "from tqdm.notebook import tqdm\n",
    "\n",
    "from torch import _vmap_internals"
   ]
  },
  {
   "cell_type": "markdown",
   "metadata": {},
   "source": [
    "## Generating Toy 2D Dataset."
   ]
  },
  {
   "cell_type": "code",
   "execution_count": 2,
   "metadata": {},
   "outputs": [],
   "source": [
    "import torch\n",
    "from sklearn.datasets import make_blobs\n",
    "from sklearn.model_selection import train_test_split\n",
    "from sklearn.preprocessing import StandardScaler\n",
    "\n",
    "device = \"cuda\" if torch.cuda.is_available() else \"cpu\"\n",
    "random_state = 170\n",
    "\n",
    "X, y = make_blobs(n_samples=100,\n",
    "                  cluster_std=[0.2, 0.2, 0.2],\n",
    "                  random_state=random_state)\n",
    "\n",
    "# X = X[y==0,:]\n",
    "# y = y[y==0]\n",
    "# # Scale data to have mean 0 and variance 1 \n",
    "# # which is importance for convergence of the neural network\n",
    "scaler = StandardScaler()\n",
    "X_scaled = scaler.fit_transform(X)\n",
    "\n",
    "# Split the data set into training and testing\n",
    "X_train, X_test, y_train, y_test = train_test_split(\n",
    "    X_scaled, y, test_size=0.2, random_state=2)\n",
    "\n",
    "\n",
    "X_train, X_test, y_train, y_test = \\\n",
    "    torch.tensor(X_train, dtype=torch.float32, device=device), \\\n",
    "    torch.tensor(X_test, dtype=torch.float32, device=device), \\\n",
    "    torch.tensor(y_train, dtype=torch.float32, device=device), \\\n",
    "    torch.tensor(y_test, dtype=torch.float32, device=device) "
   ]
  },
  {
   "cell_type": "code",
   "execution_count": 3,
   "metadata": {},
   "outputs": [
    {
     "data": {
      "text/plain": [
       "array([0, 2, 2, 0, 0, 1, 1, 0, 2, 1, 1, 1, 0, 1, 0, 2, 1, 1, 1, 2, 2, 2,\n",
       "       2, 2, 1, 1, 0, 2, 0, 1, 2, 0, 1, 2, 1, 0, 0, 0, 0, 0, 2, 0, 2, 0,\n",
       "       0, 1, 2, 2, 0, 1, 2, 2, 1, 2, 0, 1, 2, 1, 0, 0, 1, 0, 0, 2, 0, 2,\n",
       "       2, 1, 1, 1, 2, 0, 1, 0, 0, 0, 2, 1, 1, 1, 1, 1, 2, 1, 0, 0, 1, 2,\n",
       "       2, 1, 2, 2, 1, 0, 2, 2, 0, 0, 0, 2])"
      ]
     },
     "execution_count": 3,
     "metadata": {},
     "output_type": "execute_result"
    }
   ],
   "source": [
    "y"
   ]
  },
  {
   "cell_type": "code",
   "execution_count": 4,
   "metadata": {},
   "outputs": [
    {
     "data": {
      "image/png": "[encoded data removed]",
      "text/plain": [
       "<Figure size 1152x432 with 1 Axes>"
      ]
     },
     "metadata": {
      "needs_background": "light"
     },
     "output_type": "display_data"
    }
   ],
   "source": [
    "fig, ax1 = plt.subplots(1, 1, figsize=(16, 6))\n",
    "\n",
    "ax1.plot(X_scaled[:, 0], X_scaled[:, 1], \n",
    "         linestyle='none', \n",
    "         marker='o')\n",
    "\n",
    "ax1.axis('equal');"
   ]
  },
  {
   "cell_type": "markdown",
   "metadata": {},
   "source": [
    "$$\\DeclareMathOperator*{\\argmin}{arg\\,min}$$\n",
    "$$\\def\\E{{\\mathbb{E}}}$$\n",
    "$$\\def\\rvu{{\\mathbf{u}}}$$\n",
    "$$\\def\\rvTheta{{\\bm{\\Theta}}}$$\n",
    "$$\\def\\gU{{\\mathcal{U}}}$$\n",
    "$$\\def\\mX{{\\mathbf{X}}}$$"
   ]
  },
  {
   "cell_type": "markdown",
   "metadata": {},
   "source": [
    "## Controlled Schrodinger Follmer Sampler\n",
    "\n",
    "The objevtive we are trying to implement is:\n",
    "\n",
    "\\begin{align}\n",
    "  \\mathbf{u}_t^{*}=  \\argmin_{\\rvu_t \\in \\mathcal{U}}\\mathbb{E}\\left[\\frac{1}{2\\gamma}\\int_0^1||\\rvu(t, \\Theta_t)||^2 dt - \\ln\\left(\\frac{ p(\\mX | \\Theta_1)p(\\Theta_1)}{\\mathcal{N}(\\Theta_1|\\mathbf{0}, \\gamma \\mathbb{I} )}\\right)\\right] \\\n",
    "\\end{align}\n",
    "\n",
    "Where:\n",
    "\\begin{align}\n",
    "d\\Theta_t = \\rvu(t, \\Theta_t)dt + \\sqrt{\\gamma} dB_t\n",
    "\\end{align}\n",
    "\n",
    "To do so we use the EM discretisation."
   ]
  },
  {
   "cell_type": "code",
   "execution_count": 5,
   "metadata": {},
   "outputs": [],
   "source": [
    "def log_gaussian(x, mean=0):\n",
    "    \"\"\"\n",
    "    Returns the density of x under the supplied gaussian. Defaults to\n",
    "    standard gaussian N(0, I)\n",
    "    :param x: (*) torch.Tensor\n",
    "    :param mean: float or torch.FloatTensor with dimensions (*)\n",
    "    :param logvar: float or torch.FloatTensor with dimensions (*)\n",
    "    :return: (*) elementwise log density\n",
    "    \"\"\"\n",
    "    \n",
    "    log_norm_constant = -0.5 * np.log(2 * np.pi)\n",
    "    \n",
    "    var =  torch.tensor(0.2)\n",
    "    logvar = torch.log(var)\n",
    "    logvar = x.new(1).fill_(logvar)\n",
    "    \n",
    "    A = (x - mean) ** 2\n",
    "    log_p = -0.5 * (logvar + A / logvar.exp())\n",
    "    log_p = log_p + log_norm_constant\n",
    "#     import pdb; pdb.set_trace()\n",
    "    return log_p.sum(dim=-1)\n",
    "\n",
    "\n",
    "\n",
    "def ln_prior(Θ, σ_w=0.7):\n",
    "    \"\"\"\n",
    "    Prior for means in Bayesian GMM\n",
    "    \"\"\"\n",
    "    return -0.5 * (Θ**2).sum(axis=1) / σ_w**2\n",
    "\n",
    "\n",
    "def log_likelihood_single(μ, X, log=True, K=3):\n",
    "    \"\"\"\n",
    "    :param X: design matrix (examples, features)\n",
    "    :param mu: the component means (K, features)\n",
    "    :param logvar: the component log-variances (K, features)\n",
    "    :param log: return value in log domain?\n",
    "\n",
    "    \"\"\"\n",
    "    \n",
    "    n, d = X.shape\n",
    "    # get feature-wise log-likelihoods (K, examples, features)\n",
    "#     import pdb; pdb.set_trace()\n",
    "    log_likelihoods = log_gaussian(\n",
    "        X[None, :, :], # (1, examples, features)\n",
    "        μ.reshape(K, d)[:, None, :], # (K, 1, features)\n",
    "    )\n",
    "    \n",
    "\n",
    "    # sum over the feature dimension\n",
    "    \n",
    "    log_likelihoods = torch.logsumexp(log_likelihoods, dim=0) \n",
    "\n",
    "    return log_likelihoods.sum()\n",
    "\n",
    "\n",
    "def log_likelihood(Θ, X, y=None, K=3):\n",
    "    \"\"\"\n",
    "    batching the above (hopefully its right)\n",
    "    \"\"\"\n",
    "\n",
    "    loss_ = lambda μ: log_likelihood_single(μ, X,K=K)\n",
    "    \n",
    "    batched_loss =  torch._vmap_internals.vmap(loss_)\n",
    "\n",
    "    return batched_loss(Θ)"
   ]
  },
  {
   "cell_type": "code",
   "execution_count": 6,
   "metadata": {},
   "outputs": [],
   "source": [
    "Δt=0.05\n",
    "K = 3\n",
    "t_size = int(math.ceil(1.0/Δt))\n",
    "dim = K * 2\n",
    "\n",
    "ts = torch.linspace(0, 1, t_size).to(device)\n",
    "no_posterior_samples = 50\n",
    "\n",
    "sde = FollmerSDE(dim, dim, no_posterior_samples, 1.0, device=device).to(device)\n",
    "Θ_0 = torch.zeros((no_posterior_samples, dim)).to(device) # Θ_0 ~ δ_0\n",
    "\n",
    "# Initial state y0, the SDE is solved over the interval [ts[0], ts[-1]].\n",
    "# ys will have shape (t_size, batch_size, state_size)\n",
    "ys = torchsde.sdeint(sde, Θ_0, ts, dt=Δt)"
   ]
  },
  {
   "cell_type": "code",
   "execution_count": 7,
   "metadata": {},
   "outputs": [
    {
     "data": {
      "text/plain": [
       "torch.Size([50, 6])"
      ]
     },
     "execution_count": 7,
     "metadata": {},
     "output_type": "execute_result"
    }
   ],
   "source": [
    "Θ_0.shape"
   ]
  },
  {
   "cell_type": "code",
   "execution_count": 8,
   "metadata": {},
   "outputs": [
    {
     "name": "stderr",
     "output_type": "stream",
     "text": [
      "C:\\Users\\vargf\\AppData\\Local\\Temp/ipykernel_33672/1674092342.py:64: UserWarning: torch.vmap is an experimental prototype that is subject to change and/or deletion. Please use at your own risk. There may be unexpected performance cliffs due to certain operators not being implemented. To see detailed performance warnings please use `torch._C._debug_only_display_vmap_fallback_warnings(True) before the call to `vmap`.\n",
      "  batched_loss =  torch._vmap_internals.vmap(loss_)\n"
     ]
    },
    {
     "data": {
      "text/plain": [
       "tensor(333.5315, device='cuda:0', grad_fn=<MeanBackward0>)"
      ]
     },
     "execution_count": 8,
     "metadata": {},
     "output_type": "execute_result"
    }
   ],
   "source": [
    "relative_entropy_control_cost(sde, Θ_0, X_train, y_train, \n",
    "                              ln_prior, log_likelihood, γ=1.0, device=device)"
   ]
  },
  {
   "cell_type": "code",
   "execution_count": 20,
   "metadata": {},
   "outputs": [
    {
     "name": "stdout",
     "output_type": "stream",
     "text": [
      "1000\n",
      "tensor([0.0000, 0.0010, 0.0020, 0.0030, 0.0040, 0.0050, 0.0060, 0.0070, 0.0080,\n",
      "        0.0090, 0.0100, 0.0110, 0.0120, 0.0130, 0.0140, 0.0150, 0.0160, 0.0170,\n",
      "        0.0180, 0.0190, 0.0200, 0.0210, 0.0220, 0.0230, 0.0240, 0.0250, 0.0260,\n",
      "        0.0270, 0.0280, 0.0290, 0.0300, 0.0310, 0.0320, 0.0330, 0.0340, 0.0350,\n",
      "        0.0360, 0.0370, 0.0380, 0.0390, 0.0400, 0.0410, 0.0420, 0.0430, 0.0440,\n",
      "        0.0450, 0.0460, 0.0470, 0.0480, 0.0490, 0.0501, 0.0511, 0.0521, 0.0531,\n",
      "        0.0541, 0.0551, 0.0561, 0.0571, 0.0581, 0.0591, 0.0601, 0.0611, 0.0621,\n",
      "        0.0631, 0.0641, 0.0651, 0.0661, 0.0671, 0.0681, 0.0691, 0.0701, 0.0711,\n",
      "        0.0721, 0.0731, 0.0741, 0.0751, 0.0761, 0.0771, 0.0781, 0.0791, 0.0801,\n",
      "        0.0811, 0.0821, 0.0831, 0.0841, 0.0851, 0.0861, 0.0871, 0.0881, 0.0891,\n",
      "        0.0901, 0.0911, 0.0921, 0.0931, 0.0941, 0.0951, 0.0961, 0.0971, 0.0981,\n",
      "        0.0991, 0.1001, 0.1011, 0.1021, 0.1031, 0.1041, 0.1051, 0.1061, 0.1071,\n",
      "        0.1081, 0.1091, 0.1101, 0.1111, 0.1121, 0.1131, 0.1141, 0.1151, 0.1161,\n",
      "        0.1171, 0.1181, 0.1191, 0.1201, 0.1211, 0.1221, 0.1231, 0.1241, 0.1251,\n",
      "        0.1261, 0.1271, 0.1281, 0.1291, 0.1301, 0.1311, 0.1321, 0.1331, 0.1341,\n",
      "        0.1351, 0.1361, 0.1371, 0.1381, 0.1391, 0.1401, 0.1411, 0.1421, 0.1431,\n",
      "        0.1441, 0.1451, 0.1461, 0.1471, 0.1481, 0.1491, 0.1502, 0.1512, 0.1522,\n",
      "        0.1532, 0.1542, 0.1552, 0.1562, 0.1572, 0.1582, 0.1592, 0.1602, 0.1612,\n",
      "        0.1622, 0.1632, 0.1642, 0.1652, 0.1662, 0.1672, 0.1682, 0.1692, 0.1702,\n",
      "        0.1712, 0.1722, 0.1732, 0.1742, 0.1752, 0.1762, 0.1772, 0.1782, 0.1792,\n",
      "        0.1802, 0.1812, 0.1822, 0.1832, 0.1842, 0.1852, 0.1862, 0.1872, 0.1882,\n",
      "        0.1892, 0.1902, 0.1912, 0.1922, 0.1932, 0.1942, 0.1952, 0.1962, 0.1972,\n",
      "        0.1982, 0.1992, 0.2002, 0.2012, 0.2022, 0.2032, 0.2042, 0.2052, 0.2062,\n",
      "        0.2072, 0.2082, 0.2092, 0.2102, 0.2112, 0.2122, 0.2132, 0.2142, 0.2152,\n",
      "        0.2162, 0.2172, 0.2182, 0.2192, 0.2202, 0.2212, 0.2222, 0.2232, 0.2242,\n",
      "        0.2252, 0.2262, 0.2272, 0.2282, 0.2292, 0.2302, 0.2312, 0.2322, 0.2332,\n",
      "        0.2342, 0.2352, 0.2362, 0.2372, 0.2382, 0.2392, 0.2402, 0.2412, 0.2422,\n",
      "        0.2432, 0.2442, 0.2452, 0.2462, 0.2472, 0.2482, 0.2492, 0.2503, 0.2513,\n",
      "        0.2523, 0.2533, 0.2543, 0.2553, 0.2563, 0.2573, 0.2583, 0.2593, 0.2603,\n",
      "        0.2613, 0.2623, 0.2633, 0.2643, 0.2653, 0.2663, 0.2673, 0.2683, 0.2693,\n",
      "        0.2703, 0.2713, 0.2723, 0.2733, 0.2743, 0.2753, 0.2763, 0.2773, 0.2783,\n",
      "        0.2793, 0.2803, 0.2813, 0.2823, 0.2833, 0.2843, 0.2853, 0.2863, 0.2873,\n",
      "        0.2883, 0.2893, 0.2903, 0.2913, 0.2923, 0.2933, 0.2943, 0.2953, 0.2963,\n",
      "        0.2973, 0.2983, 0.2993, 0.3003, 0.3013, 0.3023, 0.3033, 0.3043, 0.3053,\n",
      "        0.3063, 0.3073, 0.3083, 0.3093, 0.3103, 0.3113, 0.3123, 0.3133, 0.3143,\n",
      "        0.3153, 0.3163, 0.3173, 0.3183, 0.3193, 0.3203, 0.3213, 0.3223, 0.3233,\n",
      "        0.3243, 0.3253, 0.3263, 0.3273, 0.3283, 0.3293, 0.3303, 0.3313, 0.3323,\n",
      "        0.3333, 0.3343, 0.3353, 0.3363, 0.3373, 0.3383, 0.3393, 0.3403, 0.3413,\n",
      "        0.3423, 0.3433, 0.3443, 0.3453, 0.3463, 0.3473, 0.3483, 0.3493, 0.3504,\n",
      "        0.3514, 0.3524, 0.3534, 0.3544, 0.3554, 0.3564, 0.3574, 0.3584, 0.3594,\n",
      "        0.3604, 0.3614, 0.3624, 0.3634, 0.3644, 0.3654, 0.3664, 0.3674, 0.3684,\n",
      "        0.3694, 0.3704, 0.3714, 0.3724, 0.3734, 0.3744, 0.3754, 0.3764, 0.3774,\n",
      "        0.3784, 0.3794, 0.3804, 0.3814, 0.3824, 0.3834, 0.3844, 0.3854, 0.3864,\n",
      "        0.3874, 0.3884, 0.3894, 0.3904, 0.3914, 0.3924, 0.3934, 0.3944, 0.3954,\n",
      "        0.3964, 0.3974, 0.3984, 0.3994, 0.4004, 0.4014, 0.4024, 0.4034, 0.4044,\n",
      "        0.4054, 0.4064, 0.4074, 0.4084, 0.4094, 0.4104, 0.4114, 0.4124, 0.4134,\n",
      "        0.4144, 0.4154, 0.4164, 0.4174, 0.4184, 0.4194, 0.4204, 0.4214, 0.4224,\n",
      "        0.4234, 0.4244, 0.4254, 0.4264, 0.4274, 0.4284, 0.4294, 0.4304, 0.4314,\n",
      "        0.4324, 0.4334, 0.4344, 0.4354, 0.4364, 0.4374, 0.4384, 0.4394, 0.4404,\n",
      "        0.4414, 0.4424, 0.4434, 0.4444, 0.4454, 0.4464, 0.4474, 0.4484, 0.4494,\n",
      "        0.4505, 0.4515, 0.4525, 0.4535, 0.4545, 0.4555, 0.4565, 0.4575, 0.4585,\n",
      "        0.4595, 0.4605, 0.4615, 0.4625, 0.4635, 0.4645, 0.4655, 0.4665, 0.4675,\n",
      "        0.4685, 0.4695, 0.4705, 0.4715, 0.4725, 0.4735, 0.4745, 0.4755, 0.4765,\n",
      "        0.4775, 0.4785, 0.4795, 0.4805, 0.4815, 0.4825, 0.4835, 0.4845, 0.4855,\n",
      "        0.4865, 0.4875, 0.4885, 0.4895, 0.4905, 0.4915, 0.4925, 0.4935, 0.4945,\n",
      "        0.4955, 0.4965, 0.4975, 0.4985, 0.4995, 0.5005, 0.5015, 0.5025, 0.5035,\n",
      "        0.5045, 0.5055, 0.5065, 0.5075, 0.5085, 0.5095, 0.5105, 0.5115, 0.5125,\n",
      "        0.5135, 0.5145, 0.5155, 0.5165, 0.5175, 0.5185, 0.5195, 0.5205, 0.5215,\n",
      "        0.5225, 0.5235, 0.5245, 0.5255, 0.5265, 0.5275, 0.5285, 0.5295, 0.5305,\n",
      "        0.5315, 0.5325, 0.5335, 0.5345, 0.5355, 0.5365, 0.5375, 0.5385, 0.5395,\n",
      "        0.5405, 0.5415, 0.5425, 0.5435, 0.5445, 0.5455, 0.5465, 0.5475, 0.5485,\n",
      "        0.5495, 0.5506, 0.5516, 0.5526, 0.5536, 0.5546, 0.5556, 0.5566, 0.5576,\n",
      "        0.5586, 0.5596, 0.5606, 0.5616, 0.5626, 0.5636, 0.5646, 0.5656, 0.5666,\n",
      "        0.5676, 0.5686, 0.5696, 0.5706, 0.5716, 0.5726, 0.5736, 0.5746, 0.5756,\n",
      "        0.5766, 0.5776, 0.5786, 0.5796, 0.5806, 0.5816, 0.5826, 0.5836, 0.5846,\n",
      "        0.5856, 0.5866, 0.5876, 0.5886, 0.5896, 0.5906, 0.5916, 0.5926, 0.5936,\n",
      "        0.5946, 0.5956, 0.5966, 0.5976, 0.5986, 0.5996, 0.6006, 0.6016, 0.6026,\n",
      "        0.6036, 0.6046, 0.6056, 0.6066, 0.6076, 0.6086, 0.6096, 0.6106, 0.6116,\n",
      "        0.6126, 0.6136, 0.6146, 0.6156, 0.6166, 0.6176, 0.6186, 0.6196, 0.6206,\n",
      "        0.6216, 0.6226, 0.6236, 0.6246, 0.6256, 0.6266, 0.6276, 0.6286, 0.6296,\n",
      "        0.6306, 0.6316, 0.6326, 0.6336, 0.6346, 0.6356, 0.6366, 0.6376, 0.6386,\n",
      "        0.6396, 0.6406, 0.6416, 0.6426, 0.6436, 0.6446, 0.6456, 0.6466, 0.6476,\n",
      "        0.6486, 0.6496, 0.6507, 0.6517, 0.6527, 0.6537, 0.6547, 0.6557, 0.6567,\n",
      "        0.6577, 0.6587, 0.6597, 0.6607, 0.6617, 0.6627, 0.6637, 0.6647, 0.6657,\n",
      "        0.6667, 0.6677, 0.6687, 0.6697, 0.6707, 0.6717, 0.6727, 0.6737, 0.6747,\n",
      "        0.6757, 0.6767, 0.6777, 0.6787, 0.6797, 0.6807, 0.6817, 0.6827, 0.6837,\n",
      "        0.6847, 0.6857, 0.6867, 0.6877, 0.6887, 0.6897, 0.6907, 0.6917, 0.6927,\n",
      "        0.6937, 0.6947, 0.6957, 0.6967, 0.6977, 0.6987, 0.6997, 0.7007, 0.7017,\n",
      "        0.7027, 0.7037, 0.7047, 0.7057, 0.7067, 0.7077, 0.7087, 0.7097, 0.7107,\n",
      "        0.7117, 0.7127, 0.7137, 0.7147, 0.7157, 0.7167, 0.7177, 0.7187, 0.7197,\n",
      "        0.7207, 0.7217, 0.7227, 0.7237, 0.7247, 0.7257, 0.7267, 0.7277, 0.7287,\n",
      "        0.7297, 0.7307, 0.7317, 0.7327, 0.7337, 0.7347, 0.7357, 0.7367, 0.7377,\n",
      "        0.7387, 0.7397, 0.7407, 0.7417, 0.7427, 0.7437, 0.7447, 0.7457, 0.7467,\n",
      "        0.7477, 0.7487, 0.7497, 0.7508, 0.7518, 0.7528, 0.7538, 0.7548, 0.7558,\n",
      "        0.7568, 0.7578, 0.7588, 0.7598, 0.7608, 0.7618, 0.7628, 0.7638, 0.7648,\n",
      "        0.7658, 0.7668, 0.7678, 0.7688, 0.7698, 0.7708, 0.7718, 0.7728, 0.7738,\n",
      "        0.7748, 0.7758, 0.7768, 0.7778, 0.7788, 0.7798, 0.7808, 0.7818, 0.7828,\n",
      "        0.7838, 0.7848, 0.7858, 0.7868, 0.7878, 0.7888, 0.7898, 0.7908, 0.7918,\n",
      "        0.7928, 0.7938, 0.7948, 0.7958, 0.7968, 0.7978, 0.7988, 0.7998, 0.8008,\n",
      "        0.8018, 0.8028, 0.8038, 0.8048, 0.8058, 0.8068, 0.8078, 0.8088, 0.8098,\n",
      "        0.8108, 0.8118, 0.8128, 0.8138, 0.8148, 0.8158, 0.8168, 0.8178, 0.8188,\n",
      "        0.8198, 0.8208, 0.8218, 0.8228, 0.8238, 0.8248, 0.8258, 0.8268, 0.8278,\n",
      "        0.8288, 0.8298, 0.8308, 0.8318, 0.8328, 0.8338, 0.8348, 0.8358, 0.8368,\n",
      "        0.8378, 0.8388, 0.8398, 0.8408, 0.8418, 0.8428, 0.8438, 0.8448, 0.8458,\n",
      "        0.8468, 0.8478, 0.8488, 0.8498, 0.8509, 0.8519, 0.8529, 0.8539, 0.8549,\n",
      "        0.8559, 0.8569, 0.8579, 0.8589, 0.8599, 0.8609, 0.8619, 0.8629, 0.8639,\n",
      "        0.8649, 0.8659, 0.8669, 0.8679, 0.8689, 0.8699, 0.8709, 0.8719, 0.8729,\n",
      "        0.8739, 0.8749, 0.8759, 0.8769, 0.8779, 0.8789, 0.8799, 0.8809, 0.8819,\n",
      "        0.8829, 0.8839, 0.8849, 0.8859, 0.8869, 0.8879, 0.8889, 0.8899, 0.8909,\n",
      "        0.8919, 0.8929, 0.8939, 0.8949, 0.8959, 0.8969, 0.8979, 0.8989, 0.8999,\n",
      "        0.9009, 0.9019, 0.9029, 0.9039, 0.9049, 0.9059, 0.9069, 0.9079, 0.9089,\n",
      "        0.9099, 0.9109, 0.9119, 0.9129, 0.9139, 0.9149, 0.9159, 0.9169, 0.9179,\n",
      "        0.9189, 0.9199, 0.9209, 0.9219, 0.9229, 0.9239, 0.9249, 0.9259, 0.9269,\n",
      "        0.9279, 0.9289, 0.9299, 0.9309, 0.9319, 0.9329, 0.9339, 0.9349, 0.9359,\n",
      "        0.9369, 0.9379, 0.9389, 0.9399, 0.9409, 0.9419, 0.9429, 0.9439, 0.9449,\n",
      "        0.9459, 0.9469, 0.9479, 0.9489, 0.9499, 0.9510, 0.9520, 0.9530, 0.9540,\n",
      "        0.9550, 0.9560, 0.9570, 0.9580, 0.9590, 0.9600, 0.9610, 0.9620, 0.9630,\n",
      "        0.9640, 0.9650, 0.9660, 0.9670, 0.9680, 0.9690, 0.9700, 0.9710, 0.9720,\n",
      "        0.9730, 0.9740, 0.9750, 0.9760, 0.9770, 0.9780, 0.9790, 0.9800, 0.9810,\n",
      "        0.9820, 0.9830, 0.9840, 0.9850, 0.9860, 0.9870, 0.9880, 0.9890, 0.9900,\n",
      "        0.9910, 0.9920, 0.9930, 0.9940, 0.9950, 0.9960, 0.9970, 0.9980, 0.9990,\n",
      "        1.0000], device='cuda:0')\n"
     ]
    },
    {
     "data": {
      "application/vnd.jupyter.widget-view+json": {
       "model_id": "0a78ea5188554761964393c2ba8c40f0",
       "version_major": 2,
       "version_minor": 0
      },
      "text/plain": [
       "  0%|          | 0/300 [00:00<?, ?it/s]"
      ]
     },
     "metadata": {},
     "output_type": "display_data"
    },
    {
     "name": "stderr",
     "output_type": "stream",
     "text": [
      "C:\\Users\\vargf\\AppData\\Local\\Temp/ipykernel_33672/1674092342.py:64: UserWarning: torch.vmap is an experimental prototype that is subject to change and/or deletion. Please use at your own risk. There may be unexpected performance cliffs due to certain operators not being implemented. To see detailed performance warnings please use `torch._C._debug_only_display_vmap_fallback_warnings(True) before the call to `vmap`.\n",
      "  batched_loss =  torch._vmap_internals.vmap(loss_)\n"
     ]
    }
   ],
   "source": [
    "γ = 1\n",
    "Δt=0.001\n",
    "t_size = int(math.ceil(1.0/Δt))\n",
    "print(t_size)\n",
    "ts = torch.linspace(0, 1, t_size).to(device)\n",
    "print(ts)\n",
    "sde = FollmerSDE(dim, dim, no_posterior_samples  , γ=γ, device=device).to(device)\n",
    "optimizer = torch.optim.Adam(sde.μ.parameters(), lr=0.05, weight_decay =1)\n",
    "#     optimizer = torch.optim.LBFGS(gpr.parameters(), lr=0.01)\n",
    "losses = []\n",
    "num_steps = 300\n",
    "for i in tqdm(range(num_steps)):\n",
    "    optimizer.zero_grad()\n",
    "\n",
    "    if isinstance(optimizer, torch.optim.LBFGS):\n",
    "        def closure():\n",
    "            loss = relative_entropy_control_cost(\n",
    "                sde, Θ_0.float(),\n",
    "                X_train.float(), y_train.float(),\n",
    "                ln_prior, log_likelihood, γ=γ\n",
    "            )\n",
    "            optimizer.zero_grad()\n",
    "            loss.backward()\n",
    "            return loss\n",
    "\n",
    "        optimizer.step(closure)\n",
    "        losses.append(closure().item())\n",
    "    else:\n",
    "        loss = relative_entropy_control_cost(\n",
    "            sde, Θ_0,\n",
    "            X_train, y_train,\n",
    "            ln_prior, log_likelihood, γ=γ\n",
    "        )\n",
    "        optimizer.zero_grad()\n",
    "        loss.backward()\n",
    "\n",
    "        optimizer.step()\n",
    "        losses.append(loss.item())"
   ]
  },
  {
   "cell_type": "code",
   "execution_count": 21,
   "metadata": {
    "scrolled": true
   },
   "outputs": [
    {
     "data": {
      "text/plain": [
       "[338.1339111328125,\n",
       " 315.0295104980469,\n",
       " 319.06494140625,\n",
       " 345.9783935546875,\n",
       " 299.8934020996094,\n",
       " 296.2799987792969,\n",
       " 273.9125061035156,\n",
       " 273.4732360839844,\n",
       " 290.5222473144531,\n",
       " 281.4510192871094,\n",
       " 276.00506591796875,\n",
       " 232.90150451660156,\n",
       " 246.5742950439453,\n",
       " 235.6717529296875,\n",
       " 254.45956420898438,\n",
       " 212.9876251220703,\n",
       " 209.58526611328125,\n",
       " 198.17745971679688,\n",
       " 199.7578887939453,\n",
       " 159.779541015625,\n",
       " 184.8660888671875,\n",
       " 164.81410217285156,\n",
       " 162.42474365234375,\n",
       " 159.250244140625,\n",
       " 167.77059936523438,\n",
       " 147.11968994140625,\n",
       " 145.73265075683594,\n",
       " 133.13710021972656,\n",
       " 139.57566833496094,\n",
       " 141.09861755371094,\n",
       " 107.23269653320312,\n",
       " 106.58956909179688,\n",
       " 105.22952270507812,\n",
       " 127.01528930664062,\n",
       " 116.68214416503906,\n",
       " 97.03255462646484,\n",
       " 102.20708465576172,\n",
       " 99.83609008789062,\n",
       " 104.27845764160156,\n",
       " 88.8206787109375,\n",
       " 98.38136291503906,\n",
       " 99.28665161132812,\n",
       " 96.29129028320312,\n",
       " 94.9580078125,\n",
       " 97.04356384277344,\n",
       " 87.11224365234375,\n",
       " 89.5829086303711,\n",
       " 88.21327209472656,\n",
       " 85.48724365234375,\n",
       " 79.8521957397461,\n",
       " 89.412109375,\n",
       " 77.22579193115234,\n",
       " 85.70513153076172,\n",
       " 89.34606170654297,\n",
       " 77.4415283203125,\n",
       " 74.95787048339844,\n",
       " 90.68729400634766,\n",
       " 79.25408935546875,\n",
       " 80.95061492919922,\n",
       " 74.50729370117188,\n",
       " 78.0672378540039,\n",
       " 81.1109848022461,\n",
       " 78.07058715820312,\n",
       " 70.94108581542969,\n",
       " 79.08056640625,\n",
       " 73.04317474365234,\n",
       " 76.96018981933594,\n",
       " 69.37093353271484,\n",
       " 79.50436401367188,\n",
       " 68.35194396972656,\n",
       " 80.64398193359375,\n",
       " 77.61424255371094,\n",
       " 74.03755950927734,\n",
       " 75.21952056884766,\n",
       " 78.5611572265625,\n",
       " 81.00831604003906,\n",
       " 73.9315185546875,\n",
       " 71.52822875976562,\n",
       " 72.97650146484375,\n",
       " 74.10757446289062,\n",
       " 76.19583892822266,\n",
       " 71.4031982421875,\n",
       " 73.2664794921875,\n",
       " 76.81404113769531,\n",
       " 75.0562973022461,\n",
       " 76.43353271484375,\n",
       " 75.94422912597656,\n",
       " 78.20784759521484,\n",
       " 72.58904266357422,\n",
       " 71.10867309570312,\n",
       " 71.38983917236328,\n",
       " 67.50650024414062,\n",
       " 76.543701171875,\n",
       " 75.27711486816406,\n",
       " 68.8476791381836,\n",
       " 70.98322296142578,\n",
       " 76.71308135986328,\n",
       " 68.79851531982422,\n",
       " 79.99359893798828,\n",
       " 71.1221694946289,\n",
       " 73.49432373046875,\n",
       " 72.4212417602539,\n",
       " 76.44095611572266,\n",
       " 72.34965515136719,\n",
       " 72.35765838623047,\n",
       " 74.93540954589844,\n",
       " 76.95916748046875,\n",
       " 70.2150650024414,\n",
       " 67.01679229736328,\n",
       " 84.3819808959961,\n",
       " 79.36165618896484,\n",
       " 71.79006958007812,\n",
       " 71.54472351074219,\n",
       " 68.7175064086914,\n",
       " 72.48754119873047,\n",
       " 74.04759979248047,\n",
       " 74.31094360351562,\n",
       " 74.8275146484375,\n",
       " 74.51444244384766,\n",
       " 82.94136810302734,\n",
       " 74.27410125732422,\n",
       " 74.20338439941406,\n",
       " 74.08990478515625,\n",
       " 73.23762512207031,\n",
       " 72.79185485839844,\n",
       " 80.86800384521484,\n",
       " 73.63508605957031,\n",
       " 74.8091049194336,\n",
       " 65.30687713623047,\n",
       " 75.00428009033203,\n",
       " 68.31175231933594,\n",
       " 76.22952270507812,\n",
       " 72.99588012695312,\n",
       " 73.92443084716797,\n",
       " 75.9361572265625,\n",
       " 78.72496032714844,\n",
       " 82.98841857910156,\n",
       " 75.95686340332031,\n",
       " 76.9373779296875,\n",
       " 76.45746612548828,\n",
       " 84.67202758789062,\n",
       " 70.93535614013672,\n",
       " 80.63508605957031,\n",
       " 79.60353088378906,\n",
       " 73.60374450683594,\n",
       " 76.2249526977539,\n",
       " 73.95415496826172,\n",
       " 78.71100616455078,\n",
       " 76.60872650146484,\n",
       " 75.43148803710938,\n",
       " 74.35736846923828,\n",
       " 73.32918548583984,\n",
       " 73.20445251464844,\n",
       " 72.04064178466797,\n",
       " 67.4111557006836,\n",
       " 75.37300872802734,\n",
       " 69.77466583251953,\n",
       " 76.36866760253906,\n",
       " 77.32752227783203,\n",
       " 80.43154907226562,\n",
       " 75.05253601074219,\n",
       " 77.86795043945312,\n",
       " 76.7408447265625,\n",
       " 77.81297302246094,\n",
       " 72.25104522705078,\n",
       " 74.05254364013672,\n",
       " 70.4539566040039,\n",
       " 72.68876647949219,\n",
       " 72.00336456298828,\n",
       " 71.900390625,\n",
       " 77.39803314208984,\n",
       " 81.7308578491211,\n",
       " 79.76090240478516,\n",
       " 75.63417053222656,\n",
       " 78.5139389038086,\n",
       " 71.55433654785156,\n",
       " 70.60216522216797,\n",
       " 78.73411560058594,\n",
       " 83.34490966796875,\n",
       " 79.68431854248047,\n",
       " 68.45746612548828,\n",
       " 72.58927917480469,\n",
       " 74.73420715332031,\n",
       " 74.9911117553711,\n",
       " 77.34645080566406,\n",
       " 79.55950927734375,\n",
       " 84.07102966308594,\n",
       " 74.98037719726562,\n",
       " 69.81204986572266,\n",
       " 77.01787567138672,\n",
       " 73.90052032470703,\n",
       " 80.37588500976562,\n",
       " 73.17265319824219,\n",
       " 72.15361785888672,\n",
       " 74.06480407714844,\n",
       " 73.81880950927734,\n",
       " 68.55429077148438,\n",
       " 77.16740417480469,\n",
       " 77.78990936279297,\n",
       " 68.5826187133789,\n",
       " 73.60098266601562,\n",
       " 72.87797546386719,\n",
       " 73.31147003173828,\n",
       " 74.700927734375,\n",
       " 69.4533462524414,\n",
       " 80.67192840576172,\n",
       " 78.88167572021484,\n",
       " 71.46875762939453,\n",
       " 72.61583709716797,\n",
       " 68.92369842529297,\n",
       " 72.69925689697266,\n",
       " 76.2442626953125,\n",
       " 71.20197296142578,\n",
       " 75.77581024169922,\n",
       " 74.58199310302734,\n",
       " 79.89859008789062,\n",
       " 78.36097717285156,\n",
       " 70.98329162597656,\n",
       " 74.81765747070312,\n",
       " 75.31108856201172,\n",
       " 71.52544403076172,\n",
       " 75.08859252929688,\n",
       " 74.05078125,\n",
       " 72.96944427490234,\n",
       " 77.10063934326172,\n",
       " 72.77935028076172,\n",
       " 80.4640121459961,\n",
       " 67.50426483154297,\n",
       " 66.18179321289062,\n",
       " 78.3687973022461,\n",
       " 76.8592758178711,\n",
       " 73.67021942138672,\n",
       " 79.1966552734375,\n",
       " 76.86289978027344,\n",
       " 75.37207794189453,\n",
       " 70.18157196044922,\n",
       " 69.3572998046875,\n",
       " 80.2367935180664,\n",
       " 76.28043365478516,\n",
       " 75.13529205322266,\n",
       " 71.89232635498047,\n",
       " 73.3017349243164,\n",
       " 77.99327087402344,\n",
       " 79.21691131591797,\n",
       " 73.8045654296875,\n",
       " 76.7630844116211,\n",
       " 81.57518005371094,\n",
       " 78.93040466308594,\n",
       " 72.64759826660156,\n",
       " 79.4762191772461,\n",
       " 80.38658142089844,\n",
       " 68.96556854248047,\n",
       " 74.65496063232422,\n",
       " 75.411376953125,\n",
       " 79.57997131347656,\n",
       " 80.3538818359375,\n",
       " 78.1852798461914,\n",
       " 77.4676513671875,\n",
       " 84.12933349609375,\n",
       " 81.74103546142578,\n",
       " 67.21974182128906,\n",
       " 77.91608428955078,\n",
       " 81.17681121826172,\n",
       " 82.53421783447266,\n",
       " 75.29104614257812,\n",
       " 79.84284210205078,\n",
       " 76.25161743164062,\n",
       " 72.92628479003906,\n",
       " 86.93824005126953,\n",
       " 69.6587142944336,\n",
       " 69.78335571289062,\n",
       " 83.32221221923828,\n",
       " 73.13703155517578,\n",
       " 79.68461608886719,\n",
       " 74.55525207519531,\n",
       " 67.03746795654297,\n",
       " 78.17897033691406,\n",
       " 81.08700561523438,\n",
       " 75.86463928222656,\n",
       " 73.97135925292969,\n",
       " 73.9438247680664,\n",
       " 77.96800231933594,\n",
       " 76.9996109008789,\n",
       " 79.58580780029297,\n",
       " 75.27102661132812,\n",
       " 72.71916198730469,\n",
       " 73.17037200927734,\n",
       " 72.20508575439453,\n",
       " 72.18475341796875,\n",
       " 76.24903869628906,\n",
       " 80.73242950439453,\n",
       " 74.20635223388672,\n",
       " 81.89592742919922,\n",
       " 77.51740264892578,\n",
       " 72.19108581542969,\n",
       " 75.85847473144531,\n",
       " 76.24809265136719,\n",
       " 78.27944946289062,\n",
       " 84.10579681396484,\n",
       " 76.5909423828125]"
      ]
     },
     "execution_count": 21,
     "metadata": {},
     "output_type": "execute_result"
    }
   ],
   "source": [
    "losses"
   ]
  },
  {
   "cell_type": "code",
   "execution_count": 22,
   "metadata": {},
   "outputs": [
    {
     "data": {
      "text/plain": [
       "[<matplotlib.lines.Line2D at 0x1e397a1de20>]"
      ]
     },
     "execution_count": 22,
     "metadata": {},
     "output_type": "execute_result"
    },
    {
     "data": {
      "image/png": "[encoded data removed]",
      "text/plain": [
       "<Figure size 432x288 with 1 Axes>"
      ]
     },
     "metadata": {
      "needs_background": "light"
     },
     "output_type": "display_data"
    }
   ],
   "source": [
    "plt.plot(losses[:])"
   ]
  },
  {
   "cell_type": "code",
   "execution_count": 23,
   "metadata": {},
   "outputs": [
    {
     "data": {
      "text/plain": [
       "torch.Size([1000, 50, 6])"
      ]
     },
     "execution_count": 23,
     "metadata": {},
     "output_type": "execute_result"
    }
   ],
   "source": [
    " torchsde.sdeint(sde, Θ_0, ts, method=\"euler\", dt=Δt).shape"
   ]
  },
  {
   "cell_type": "code",
   "execution_count": 24,
   "metadata": {},
   "outputs": [
    {
     "data": {
      "text/plain": [
       "torch.Size([80, 2])"
      ]
     },
     "execution_count": 24,
     "metadata": {},
     "output_type": "execute_result"
    }
   ],
   "source": [
    "X_train.shape"
   ]
  },
  {
   "cell_type": "code",
   "execution_count": 25,
   "metadata": {},
   "outputs": [],
   "source": [
    "Θ_1 = torchsde.sdeint(sde, Θ_0, ts, dt=Δt)[-1,...]"
   ]
  },
  {
   "cell_type": "code",
   "execution_count": 26,
   "metadata": {},
   "outputs": [],
   "source": [
    "Θ_1 = Θ_1.reshape(50,K,2)"
   ]
  },
  {
   "cell_type": "code",
   "execution_count": 27,
   "metadata": {},
   "outputs": [
    {
     "data": {
      "text/plain": [
       "(array([ 7., 26., 14.,  3.,  0.,  0., 12., 48., 36.,  4.]),\n",
       " array([-1.937472  , -1.5954952 , -1.2535183 , -0.9115416 , -0.56956476,\n",
       "        -0.22758794,  0.11438887,  0.45636567,  0.79834247,  1.1403193 ,\n",
       "         1.4822961 ], dtype=float32),\n",
       " <a list of 10 Patch objects>)"
      ]
     },
     "execution_count": 27,
     "metadata": {},
     "output_type": "execute_result"
    },
    {
     "data": {
      "image/png": "[encoded data removed]",
      "text/plain": [
       "<Figure size 432x288 with 2 Axes>"
      ]
     },
     "metadata": {
      "needs_background": "light"
     },
     "output_type": "display_data"
    }
   ],
   "source": [
    "fig, (ax1,ax2) = plt.subplots(1,2)\n",
    "\n",
    "ax1.hist(Θ_1[:,:,0].flatten().cpu().detach().numpy())\n",
    "ax2.hist(Θ_1[:,:,1].flatten().cpu().detach().numpy())"
   ]
  },
  {
   "cell_type": "code",
   "execution_count": 28,
   "metadata": {},
   "outputs": [
    {
     "data": {
      "text/plain": [
       "tensor([[-0.1239,  0.7124],\n",
       "        [ 1.1517,  0.7459],\n",
       "        [-1.1671, -1.3423]], device='cuda:0', grad_fn=<ReshapeAliasBackward0>)"
      ]
     },
     "execution_count": 28,
     "metadata": {},
     "output_type": "execute_result"
    }
   ],
   "source": [
    "Θ_1.mean(axis=0).reshape(K,2)"
   ]
  },
  {
   "cell_type": "code",
   "execution_count": 29,
   "metadata": {},
   "outputs": [
    {
     "data": {
      "text/plain": [
       "torch.Size([50, 3, 2])"
      ]
     },
     "execution_count": 29,
     "metadata": {},
     "output_type": "execute_result"
    }
   ],
   "source": [
    "Θ_1.shape"
   ]
  },
  {
   "cell_type": "code",
   "execution_count": 30,
   "metadata": {},
   "outputs": [
    {
     "data": {
      "image/png": "[encoded data removed]",
      "text/plain": [
       "<Figure size 1152x432 with 1 Axes>"
      ]
     },
     "metadata": {
      "needs_background": "light"
     },
     "output_type": "display_data"
    }
   ],
   "source": [
    "fig, ax_1 = plt.subplots(1, 1, figsize=(16, 6))\n",
    "Θ_plot = Θ_1.cpu().detach() #.reshape(50*3,2)\n",
    "\n",
    "\n",
    "for i in range(K):\n",
    "    ax_1.plot(Θ_plot[:,i, 0], Θ_plot[:, i, 1], \n",
    "             linestyle='none', \n",
    "             marker='o', color=\"red\", label=\"posterior $\\mu$ samples\")\n",
    "\n",
    "ax_1.plot(X_scaled[:, 0], X_scaled[:, 1], \n",
    "         linestyle='none', \n",
    "         marker='o', label=\"Observations $X$\")\n",
    "\n",
    "ax_1.legend()\n",
    "ax_1.axis('equal');"
   ]
  },
  {
   "cell_type": "code",
   "execution_count": null,
   "metadata": {},
   "outputs": [],
   "source": []
  },
  {
   "cell_type": "code",
   "execution_count": null,
   "metadata": {},
   "outputs": [],
   "source": []
  }
 ],
 "metadata": {
  "kernelspec": {
   "display_name": "Python 3 (ipykernel)",
   "language": "python",
   "name": "python3"
  },
  "language_info": {
   "codemirror_mode": {
    "name": "ipython",
    "version": 3
   },
   "file_extension": ".py",
   "mimetype": "text/x-python",
   "name": "python",
   "nbconvert_exporter": "python",
   "pygments_lexer": "ipython3",
   "version": "3.8.5"
  },
  "toc": {
   "base_numbering": 1,
   "nav_menu": {},
   "number_sections": true,
   "sideBar": true,
   "skip_h1_title": false,
   "title_cell": "Table of Contents",
   "title_sidebar": "Contents",
   "toc_cell": false,
   "toc_position": {},
   "toc_section_display": true,
   "toc_window_display": false
  }
 },
 "nbformat": 4,
 "nbformat_minor": 4
}
