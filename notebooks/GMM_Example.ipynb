{
 "cells": [
  {
   "cell_type": "code",
   "execution_count": 1,
   "metadata": {},
   "outputs": [],
   "source": [
    "import torch\n",
    "import torch.nn.functional as F\n",
    "\n",
    "import torchsde\n",
    "import math\n",
    "import matplotlib.pyplot as plt\n",
    "\n",
    "from cfollmer.objectives import log_g, relative_entropy_control_cost\n",
    "from cfollmer.sampler_utils import FollmerSDE\n",
    "import numpy as np\n",
    "\n",
    "from tqdm.notebook import tqdm\n",
    "\n",
    "from torch import _vmap_internals"
   ]
  },
  {
   "cell_type": "markdown",
   "metadata": {},
   "source": [
    "## Generating Toy 2D Dataset."
   ]
  },
  {
   "cell_type": "code",
   "execution_count": 2,
   "metadata": {},
   "outputs": [],
   "source": [
    "import torch\n",
    "from sklearn.datasets import make_blobs\n",
    "from sklearn.model_selection import train_test_split\n",
    "from sklearn.preprocessing import StandardScaler\n",
    "\n",
    "device = \"cuda\" if torch.cuda.is_available() else \"cpu\"\n",
    "random_state = 170\n",
    "\n",
    "X, y = make_blobs(n_samples=100,\n",
    "                  cluster_std=[0.2, 0.2, 0.2],\n",
    "                  random_state=random_state)\n",
    "\n",
    "# X = X[y==0,:]\n",
    "# y = y[y==0]\n",
    "# # Scale data to have mean 0 and variance 1 \n",
    "# # which is importance for convergence of the neural network\n",
    "scaler = StandardScaler()\n",
    "X_scaled = scaler.fit_transform(X)\n",
    "\n",
    "# Split the data set into training and testing\n",
    "X_train, X_test, y_train, y_test = train_test_split(\n",
    "    X_scaled, y, test_size=0.2, random_state=2)\n",
    "\n",
    "\n",
    "X_train, X_test, y_train, y_test = \\\n",
    "    torch.tensor(X_train, dtype=torch.float32, device=device), \\\n",
    "    torch.tensor(X_test, dtype=torch.float32, device=device), \\\n",
    "    torch.tensor(y_train, dtype=torch.float32, device=device), \\\n",
    "    torch.tensor(y_test, dtype=torch.float32, device=device) "
   ]
  },
  {
   "cell_type": "code",
   "execution_count": 3,
   "metadata": {},
   "outputs": [
    {
     "data": {
      "text/plain": [
       "array([0, 2, 2, 0, 0, 1, 1, 0, 2, 1, 1, 1, 0, 1, 0, 2, 1, 1, 1, 2, 2, 2,\n",
       "       2, 2, 1, 1, 0, 2, 0, 1, 2, 0, 1, 2, 1, 0, 0, 0, 0, 0, 2, 0, 2, 0,\n",
       "       0, 1, 2, 2, 0, 1, 2, 2, 1, 2, 0, 1, 2, 1, 0, 0, 1, 0, 0, 2, 0, 2,\n",
       "       2, 1, 1, 1, 2, 0, 1, 0, 0, 0, 2, 1, 1, 1, 1, 1, 2, 1, 0, 0, 1, 2,\n",
       "       2, 1, 2, 2, 1, 0, 2, 2, 0, 0, 0, 2])"
      ]
     },
     "execution_count": 3,
     "metadata": {},
     "output_type": "execute_result"
    }
   ],
   "source": [
    "y"
   ]
  },
  {
   "cell_type": "code",
   "execution_count": 4,
   "metadata": {},
   "outputs": [
    {
     "data": {
      "image/png": "[encoded data removed]",
      "text/plain": [
       "<Figure size 1152x432 with 1 Axes>"
      ]
     },
     "metadata": {
      "needs_background": "light"
     },
     "output_type": "display_data"
    }
   ],
   "source": [
    "fig, ax1 = plt.subplots(1, 1, figsize=(16, 6))\n",
    "\n",
    "ax1.plot(X_scaled[:, 0], X_scaled[:, 1], \n",
    "         linestyle='none', \n",
    "         marker='o')\n",
    "\n",
    "ax1.axis('equal');"
   ]
  },
  {
   "cell_type": "markdown",
   "metadata": {},
   "source": [
    "$$\\DeclareMathOperator*{\\argmin}{arg\\,min}$$\n",
    "$$\\def\\E{{\\mathbb{E}}}$$\n",
    "$$\\def\\rvu{{\\mathbf{u}}}$$\n",
    "$$\\def\\rvTheta{{\\bm{\\Theta}}}$$\n",
    "$$\\def\\gU{{\\mathcal{U}}}$$\n",
    "$$\\def\\mX{{\\mathbf{X}}}$$"
   ]
  },
  {
   "cell_type": "markdown",
   "metadata": {},
   "source": [
    "## Controlled Schrodinger Follmer Sampler\n",
    "\n",
    "The objevtive we are trying to implement is:\n",
    "\n",
    "\\begin{align}\n",
    "  \\mathbf{u}_t^{*}=  \\argmin_{\\rvu_t \\in \\mathcal{U}}\\mathbb{E}\\left[\\frac{1}{2\\gamma}\\int_0^1||\\rvu(t, \\Theta_t)||^2 dt - \\ln\\left(\\frac{ p(\\mX | \\Theta_1)p(\\Theta_1)}{\\mathcal{N}(\\Theta_1|\\mathbf{0}, \\gamma \\mathbb{I} )}\\right)\\right] \\\n",
    "\\end{align}\n",
    "\n",
    "Where:\n",
    "\\begin{align}\n",
    "d\\Theta_t = \\rvu(t, \\Theta_t)dt + \\sqrt{\\gamma} dB_t\n",
    "\\end{align}\n",
    "\n",
    "To do so we use the EM discretisation."
   ]
  },
  {
   "cell_type": "code",
   "execution_count": 5,
   "metadata": {},
   "outputs": [],
   "source": [
    "def log_gaussian(x, mean=0):\n",
    "    \"\"\"\n",
    "    Returns the density of x under the supplied gaussian. Defaults to\n",
    "    standard gaussian N(0, I)\n",
    "    :param x: (*) torch.Tensor\n",
    "    :param mean: float or torch.FloatTensor with dimensions (*)\n",
    "    :param logvar: float or torch.FloatTensor with dimensions (*)\n",
    "    :return: (*) elementwise log density\n",
    "    \"\"\"\n",
    "    \n",
    "    log_norm_constant = -0.5 * np.log(2 * np.pi)\n",
    "    \n",
    "    var =  torch.tensor(0.2)\n",
    "    logvar = torch.log(var)\n",
    "    logvar = x.new(1).fill_(logvar)\n",
    "    \n",
    "    A = (x - mean) ** 2\n",
    "    log_p = -0.5 * (logvar + A / logvar.exp())\n",
    "    log_p = log_p + log_norm_constant\n",
    "#     import pdb; pdb.set_trace()\n",
    "    return log_p.sum(dim=-1)\n",
    "\n",
    "\n",
    "\n",
    "def ln_prior(Θ, σ_w=0.7):\n",
    "    \"\"\"\n",
    "    Prior for means in Bayesian GMM\n",
    "    \"\"\"\n",
    "    return -0.5 * (Θ**2).sum(axis=1) / σ_w**2\n",
    "\n",
    "\n",
    "def log_likelihood_single(μ, X, log=True, K=3):\n",
    "    \"\"\"\n",
    "    :param X: design matrix (examples, features)\n",
    "    :param mu: the component means (K, features)\n",
    "    :param logvar: the component log-variances (K, features)\n",
    "    :param log: return value in log domain?\n",
    "\n",
    "    \"\"\"\n",
    "    \n",
    "    n, d = X.shape\n",
    "    # get feature-wise log-likelihoods (K, examples, features)\n",
    "#     import pdb; pdb.set_trace()\n",
    "    log_likelihoods = log_gaussian(\n",
    "        X[None, :, :], # (1, examples, features)\n",
    "        μ.reshape(K, d)[:, None, :], # (K, 1, features)\n",
    "    )\n",
    "    \n",
    "\n",
    "    # sum over the feature dimension\n",
    "    \n",
    "    log_likelihoods = torch.logsumexp(log_likelihoods, dim=0) \n",
    "\n",
    "    return log_likelihoods.sum()\n",
    "\n",
    "\n",
    "def log_likelihood(Θ, X, y=None, K=3):\n",
    "    \"\"\"\n",
    "    batching the above (hopefully its right)\n",
    "    \"\"\"\n",
    "\n",
    "    loss_ = lambda μ: log_likelihood_single(μ, X,K=K)\n",
    "    \n",
    "    batched_loss =  torch._vmap_internals.vmap(loss_)\n",
    "\n",
    "    return batched_loss(Θ)"
   ]
  },
  {
   "cell_type": "code",
   "execution_count": 6,
   "metadata": {},
   "outputs": [],
   "source": [
    "Δt=0.01\n",
    "K = 3\n",
    "t_size = int(math.ceil(1.0/Δt))\n",
    "dim = K * 2\n",
    "\n",
    "ts = torch.linspace(0, 1, t_size).to(device)\n",
    "no_posterior_samples = 50\n",
    "\n",
    "sde = FollmerSDE(dim, dim, no_posterior_samples, 1.0, device=device).to(device)\n",
    "Θ_0 = torch.zeros((no_posterior_samples, dim)).to(device) # Θ_0 ~ δ_0\n",
    "\n",
    "# Initial state y0, the SDE is solved over the interval [ts[0], ts[-1]].\n",
    "# ys will have shape (t_size, batch_size, state_size)\n",
    "ys = torchsde.sdeint(sde, Θ_0, ts, dt=Δt)"
   ]
  },
  {
   "cell_type": "code",
   "execution_count": 7,
   "metadata": {},
   "outputs": [
    {
     "data": {
      "text/plain": [
       "torch.Size([50, 6])"
      ]
     },
     "execution_count": 7,
     "metadata": {},
     "output_type": "execute_result"
    }
   ],
   "source": [
    "Θ_0.shape"
   ]
  },
  {
   "cell_type": "code",
   "execution_count": 8,
   "metadata": {},
   "outputs": [
    {
     "name": "stderr",
     "output_type": "stream",
     "text": [
      "C:\\Users\\vargf\\AppData\\Local\\Temp/ipykernel_25376/1674092342.py:64: UserWarning: torch.vmap is an experimental prototype that is subject to change and/or deletion. Please use at your own risk. There may be unexpected performance cliffs due to certain operators not being implemented. To see detailed performance warnings please use `torch._C._debug_only_display_vmap_fallback_warnings(True) before the call to `vmap`.\n",
      "  batched_loss =  torch._vmap_internals.vmap(loss_)\n"
     ]
    },
    {
     "data": {
      "text/plain": [
       "tensor(340.2701, device='cuda:0', grad_fn=<MeanBackward0>)"
      ]
     },
     "execution_count": 8,
     "metadata": {},
     "output_type": "execute_result"
    }
   ],
   "source": [
    "relative_entropy_control_cost(sde, Θ_0, X_train, y_train, \n",
    "                              ln_prior, log_likelihood, γ=1.0, device=device)"
   ]
  },
  {
   "cell_type": "code",
   "execution_count": 34,
   "metadata": {},
   "outputs": [
    {
     "data": {
      "application/vnd.jupyter.widget-view+json": {
       "model_id": "352ee94b887748b4b269e968f904dd3a",
       "version_major": 2,
       "version_minor": 0
      },
      "text/plain": [
       "  0%|          | 0/300 [00:00<?, ?it/s]"
      ]
     },
     "metadata": {},
     "output_type": "display_data"
    },
    {
     "name": "stderr",
     "output_type": "stream",
     "text": [
      "C:\\Users\\vargf\\AppData\\Local\\Temp/ipykernel_25376/1674092342.py:64: UserWarning: torch.vmap is an experimental prototype that is subject to change and/or deletion. Please use at your own risk. There may be unexpected performance cliffs due to certain operators not being implemented. To see detailed performance warnings please use `torch._C._debug_only_display_vmap_fallback_warnings(True) before the call to `vmap`.\n",
      "  batched_loss =  torch._vmap_internals.vmap(loss_)\n"
     ]
    }
   ],
   "source": [
    "γ = 0.4\n",
    "Δt=0.0009\n",
    "t_size = int(math.ceil(1.0/Δt))\n",
    "# print(t_size)\n",
    "ts = torch.linspace(0, 1, t_size).to(device)\n",
    "# print(ts)\n",
    "sde = FollmerSDE(dim, dim, no_posterior_samples  , γ=γ, device=device).to(device)\n",
    "optimizer = torch.optim.Adam(sde.μ.parameters(), lr=0.05, weight_decay =1)\n",
    "#     optimizer = torch.optim.LBFGS(gpr.parameters(), lr=0.01)\n",
    "losses = []\n",
    "num_steps = 300\n",
    "for i in tqdm(range(num_steps)):\n",
    "    optimizer.zero_grad()\n",
    "\n",
    "    if isinstance(optimizer, torch.optim.LBFGS):\n",
    "        def closure():\n",
    "            loss = relative_entropy_control_cost(\n",
    "                sde, Θ_0.float(),\n",
    "                X_train.float(), y_train.float(),\n",
    "                ln_prior, log_likelihood, γ=γ\n",
    "            )\n",
    "            optimizer.zero_grad()\n",
    "            loss.backward()\n",
    "            return loss\n",
    "\n",
    "        optimizer.step(closure)\n",
    "        losses.append(closure().item())\n",
    "    else:\n",
    "        loss = relative_entropy_control_cost(\n",
    "            sde, Θ_0,\n",
    "            X_train, y_train,\n",
    "            ln_prior, log_likelihood, γ=γ\n",
    "        )\n",
    "        optimizer.zero_grad()\n",
    "        loss.backward()\n",
    "\n",
    "        optimizer.step()\n",
    "        losses.append(loss.item())\n",
    "torch.cuda.empty_cache()"
   ]
  },
  {
   "cell_type": "code",
   "execution_count": 35,
   "metadata": {
    "scrolled": true
   },
   "outputs": [
    {
     "data": {
      "text/plain": [
       "[285.0807800292969,\n",
       " 276.9433898925781,\n",
       " 280.5668029785156,\n",
       " 289.2696533203125,\n",
       " 235.57098388671875,\n",
       " 154.003662109375,\n",
       " 424.505615234375,\n",
       " 106.29956817626953,\n",
       " 117.8410873413086,\n",
       " 136.12362670898438,\n",
       " 111.92827606201172,\n",
       " 120.8127670288086,\n",
       " 96.63661193847656,\n",
       " 111.44363403320312,\n",
       " 111.24480438232422,\n",
       " 86.48267364501953,\n",
       " 92.92597198486328,\n",
       " 83.15713500976562,\n",
       " 88.2558364868164,\n",
       " 84.52387237548828,\n",
       " 89.31771087646484,\n",
       " 92.32695007324219,\n",
       " 85.3392333984375,\n",
       " 85.76390075683594,\n",
       " 96.33611297607422,\n",
       " 87.63755798339844,\n",
       " 86.51255798339844,\n",
       " 82.96984100341797,\n",
       " 84.13579559326172,\n",
       " 75.00515747070312,\n",
       " 78.36343383789062,\n",
       " 81.76399993896484,\n",
       " 80.9101333618164,\n",
       " 87.13456726074219,\n",
       " 88.1131591796875,\n",
       " 79.062744140625,\n",
       " 85.47350311279297,\n",
       " 86.46533203125,\n",
       " 81.20178985595703,\n",
       " 81.74774169921875,\n",
       " 85.93755340576172,\n",
       " 76.66182708740234,\n",
       " 91.6317367553711,\n",
       " 79.5133056640625,\n",
       " 79.3332290649414,\n",
       " 86.59209442138672,\n",
       " 83.9529800415039,\n",
       " 83.65556335449219,\n",
       " 81.94560241699219,\n",
       " 87.76274871826172,\n",
       " 86.01569366455078,\n",
       " 87.03005981445312,\n",
       " 96.81783294677734,\n",
       " 82.36137390136719,\n",
       " 89.07386779785156,\n",
       " 80.21809387207031,\n",
       " 90.30818176269531,\n",
       " 82.8534927368164,\n",
       " 88.97632598876953,\n",
       " 78.5234375,\n",
       " 83.46843719482422,\n",
       " 81.32566833496094,\n",
       " 69.26311492919922,\n",
       " 81.05931091308594,\n",
       " 80.26412963867188,\n",
       " 80.34957885742188,\n",
       " 84.84304809570312,\n",
       " 78.4950942993164,\n",
       " 80.96747589111328,\n",
       " 85.70738220214844,\n",
       " 85.07572174072266,\n",
       " 80.08576965332031,\n",
       " 73.8023452758789,\n",
       " 91.2342529296875,\n",
       " 85.1513442993164,\n",
       " 85.6983871459961,\n",
       " 80.86809539794922,\n",
       " 81.05583190917969,\n",
       " 82.08393096923828,\n",
       " 78.15132904052734,\n",
       " 84.07858276367188,\n",
       " 75.40724182128906,\n",
       " 71.66759490966797,\n",
       " 84.98517608642578,\n",
       " 80.97767639160156,\n",
       " 82.09934997558594,\n",
       " 82.14662170410156,\n",
       " 79.70738220214844,\n",
       " 82.21720886230469,\n",
       " 76.22183227539062,\n",
       " 81.14693450927734,\n",
       " 72.55325317382812,\n",
       " 77.67212677001953,\n",
       " 73.6402587890625,\n",
       " 79.80921173095703,\n",
       " 83.19017028808594,\n",
       " 81.61225128173828,\n",
       " 81.0920181274414,\n",
       " 85.10134887695312,\n",
       " 87.93070220947266,\n",
       " 77.65719604492188,\n",
       " 80.64932250976562,\n",
       " 77.32649230957031,\n",
       " 82.75830078125,\n",
       " 73.76671600341797,\n",
       " 72.27637481689453,\n",
       " 76.00952911376953,\n",
       " 79.45828247070312,\n",
       " 83.15374755859375,\n",
       " 79.17912292480469,\n",
       " 89.62702178955078,\n",
       " 82.52915954589844,\n",
       " 77.24602508544922,\n",
       " 81.56454467773438,\n",
       " 74.49832153320312,\n",
       " 77.40258026123047,\n",
       " 91.17118835449219,\n",
       " 78.61711120605469,\n",
       " 79.01724243164062,\n",
       " 78.50408935546875,\n",
       " 75.39398956298828,\n",
       " 71.64378356933594,\n",
       " 79.42931365966797,\n",
       " 73.93867492675781,\n",
       " 81.8387680053711,\n",
       " 79.23875427246094,\n",
       " 80.07398986816406,\n",
       " 86.39628601074219,\n",
       " 67.57742309570312,\n",
       " 75.52422332763672,\n",
       " 83.96568298339844,\n",
       " 87.97071838378906,\n",
       " 83.04446411132812,\n",
       " 81.87705993652344,\n",
       " 79.86494445800781,\n",
       " 79.03478240966797,\n",
       " 82.26536560058594,\n",
       " 79.41588592529297,\n",
       " 75.75526428222656,\n",
       " 80.35978698730469,\n",
       " 77.74583435058594,\n",
       " 73.09046173095703,\n",
       " 75.43278503417969,\n",
       " 79.24295806884766,\n",
       " 78.01060485839844,\n",
       " 80.95111846923828,\n",
       " 71.27141571044922,\n",
       " 78.31340789794922,\n",
       " 80.36546325683594,\n",
       " 74.52543640136719,\n",
       " 85.07477569580078,\n",
       " 78.58235931396484,\n",
       " 82.47161865234375,\n",
       " 76.31012725830078,\n",
       " 74.51564025878906,\n",
       " 76.61287689208984,\n",
       " 84.31767272949219,\n",
       " 79.45833587646484,\n",
       " 85.31895446777344,\n",
       " 74.56249237060547,\n",
       " 81.6979751586914,\n",
       " 84.41677856445312,\n",
       " 74.11931610107422,\n",
       " 78.18302917480469,\n",
       " 77.70145416259766,\n",
       " 86.74742126464844,\n",
       " 76.54234313964844,\n",
       " 76.35433959960938,\n",
       " 73.09953308105469,\n",
       " 76.93069458007812,\n",
       " 77.25477600097656,\n",
       " 76.67876434326172,\n",
       " 88.07109069824219,\n",
       " 73.62078857421875,\n",
       " 76.59709167480469,\n",
       " 80.80523681640625,\n",
       " 77.34149932861328,\n",
       " 82.00786590576172,\n",
       " 74.28691101074219,\n",
       " 81.20085144042969,\n",
       " 85.89568328857422,\n",
       " 69.98664093017578,\n",
       " 76.10537719726562,\n",
       " 80.16193389892578,\n",
       " 79.57049560546875,\n",
       " 75.49568939208984,\n",
       " 72.969482421875,\n",
       " 77.33045959472656,\n",
       " 86.80274200439453,\n",
       " 76.9748306274414,\n",
       " 78.06315612792969,\n",
       " 73.51569366455078,\n",
       " 85.61692810058594,\n",
       " 76.1535415649414,\n",
       " 69.1518783569336,\n",
       " 77.69263458251953,\n",
       " 77.16322326660156,\n",
       " 82.4650650024414,\n",
       " 78.17781829833984,\n",
       " 79.56525421142578,\n",
       " 84.4351577758789,\n",
       " 75.19126892089844,\n",
       " 77.40458679199219,\n",
       " 75.18254852294922,\n",
       " 72.95833587646484,\n",
       " 73.8104248046875,\n",
       " 84.13285827636719,\n",
       " 74.38390350341797,\n",
       " 75.1452865600586,\n",
       " 71.52299499511719,\n",
       " 76.15521240234375,\n",
       " 68.22335815429688,\n",
       " 81.48639678955078,\n",
       " 78.20624542236328,\n",
       " 79.01924896240234,\n",
       " 73.90213012695312,\n",
       " 79.63622283935547,\n",
       " 78.63433074951172,\n",
       " 71.94007873535156,\n",
       " 78.70110321044922,\n",
       " 74.5947036743164,\n",
       " 77.07935333251953,\n",
       " 80.74215698242188,\n",
       " 79.86077117919922,\n",
       " 82.08771514892578,\n",
       " 82.75179290771484,\n",
       " 82.87727355957031,\n",
       " 79.84236145019531,\n",
       " 72.68800354003906,\n",
       " 73.84557342529297,\n",
       " 72.77692413330078,\n",
       " 78.17222595214844,\n",
       " 76.24401092529297,\n",
       " 83.72068786621094,\n",
       " 74.01850128173828,\n",
       " 75.06497192382812,\n",
       " 79.36734771728516,\n",
       " 80.02030181884766,\n",
       " 74.23698425292969,\n",
       " 73.53319549560547,\n",
       " 73.34281158447266,\n",
       " 80.19184112548828,\n",
       " 82.10059356689453,\n",
       " 73.88330841064453,\n",
       " 80.85274505615234,\n",
       " 78.78013610839844,\n",
       " 75.8935546875,\n",
       " 75.35066986083984,\n",
       " 75.82408142089844,\n",
       " 74.60494232177734,\n",
       " 85.76532745361328,\n",
       " 83.10028839111328,\n",
       " 84.89904022216797,\n",
       " 76.00955963134766,\n",
       " 82.5997085571289,\n",
       " 84.005126953125,\n",
       " 73.84528350830078,\n",
       " 82.19560241699219,\n",
       " 81.40399932861328,\n",
       " 80.63863372802734,\n",
       " 76.6155776977539,\n",
       " 74.70909881591797,\n",
       " 83.2406997680664,\n",
       " 79.54191589355469,\n",
       " 78.39906311035156,\n",
       " 75.16297912597656,\n",
       " 78.3061294555664,\n",
       " 86.9679183959961,\n",
       " 72.42753601074219,\n",
       " 74.58818817138672,\n",
       " 80.6363754272461,\n",
       " 74.24172973632812,\n",
       " 79.57735443115234,\n",
       " 72.72872924804688,\n",
       " 78.18073272705078,\n",
       " 78.70357513427734,\n",
       " 75.86011505126953,\n",
       " 80.76155853271484,\n",
       " 73.6207275390625,\n",
       " 72.55249786376953,\n",
       " 81.32945251464844,\n",
       " 68.66989135742188,\n",
       " 74.86744689941406,\n",
       " 73.3835220336914,\n",
       " 83.21707916259766,\n",
       " 75.6100082397461,\n",
       " 81.14684295654297,\n",
       " 69.68428802490234,\n",
       " 74.8616714477539,\n",
       " 74.13671112060547,\n",
       " 77.40996551513672,\n",
       " 80.9275894165039,\n",
       " 81.71312713623047,\n",
       " 76.05133819580078,\n",
       " 88.43146514892578,\n",
       " 82.20746612548828,\n",
       " 79.31433868408203,\n",
       " 74.56498718261719,\n",
       " 78.51136016845703,\n",
       " 75.9500732421875]"
      ]
     },
     "execution_count": 35,
     "metadata": {},
     "output_type": "execute_result"
    }
   ],
   "source": [
    "losses"
   ]
  },
  {
   "cell_type": "code",
   "execution_count": 36,
   "metadata": {},
   "outputs": [
    {
     "data": {
      "text/plain": [
       "[<matplotlib.lines.Line2D at 0x17b5f5233d0>]"
      ]
     },
     "execution_count": 36,
     "metadata": {},
     "output_type": "execute_result"
    },
    {
     "data": {
      "image/png": "[encoded data removed]",
      "text/plain": [
       "<Figure size 432x288 with 1 Axes>"
      ]
     },
     "metadata": {
      "needs_background": "light"
     },
     "output_type": "display_data"
    }
   ],
   "source": [
    "plt.plot(losses[:])"
   ]
  },
  {
   "cell_type": "code",
   "execution_count": 37,
   "metadata": {},
   "outputs": [
    {
     "data": {
      "text/plain": [
       "torch.Size([1112, 50, 6])"
      ]
     },
     "execution_count": 37,
     "metadata": {},
     "output_type": "execute_result"
    }
   ],
   "source": [
    " torchsde.sdeint(sde, Θ_0, ts, method=\"euler\", dt=Δt).shape"
   ]
  },
  {
   "cell_type": "code",
   "execution_count": 38,
   "metadata": {},
   "outputs": [
    {
     "data": {
      "text/plain": [
       "torch.Size([80, 2])"
      ]
     },
     "execution_count": 38,
     "metadata": {},
     "output_type": "execute_result"
    }
   ],
   "source": [
    "X_train.shape"
   ]
  },
  {
   "cell_type": "code",
   "execution_count": 39,
   "metadata": {},
   "outputs": [],
   "source": [
    "torch.cuda.empty_cache()\n",
    "Θ_1 = torchsde.sdeint(sde, Θ_0, ts, dt=Δt)[-1,...]\n",
    "torch.cuda.empty_cache()"
   ]
  },
  {
   "cell_type": "code",
   "execution_count": 40,
   "metadata": {},
   "outputs": [],
   "source": [
    "Θ_1 = Θ_1.reshape(50,K,2)"
   ]
  },
  {
   "cell_type": "code",
   "execution_count": 41,
   "metadata": {},
   "outputs": [
    {
     "data": {
      "text/plain": [
       "(array([ 7., 21., 14.,  7.,  2., 18., 40., 25., 14.,  2.]),\n",
       " array([-2.0703833 , -1.6715163 , -1.2726494 , -0.8737824 , -0.47491544,\n",
       "        -0.07604849,  0.32281846,  0.7216854 ,  1.1205524 ,  1.5194193 ,\n",
       "         1.9182863 ], dtype=float32),\n",
       " <a list of 10 Patch objects>)"
      ]
     },
     "execution_count": 41,
     "metadata": {},
     "output_type": "execute_result"
    },
    {
     "data": {
      "image/png": "[encoded data removed]",
      "text/plain": [
       "<Figure size 432x288 with 2 Axes>"
      ]
     },
     "metadata": {
      "needs_background": "light"
     },
     "output_type": "display_data"
    }
   ],
   "source": [
    "fig, (ax1,ax2) = plt.subplots(1,2)\n",
    "\n",
    "ax1.hist(Θ_1[:,:,0].flatten().cpu().detach().numpy())\n",
    "ax2.hist(Θ_1[:,:,1].flatten().cpu().detach().numpy())"
   ]
  },
  {
   "cell_type": "code",
   "execution_count": 42,
   "metadata": {},
   "outputs": [
    {
     "data": {
      "text/plain": [
       "tensor([[ 1.2441,  0.6190],\n",
       "        [-0.9988, -1.2929],\n",
       "        [-0.1464,  0.7503]], device='cuda:0', grad_fn=<ReshapeAliasBackward0>)"
      ]
     },
     "execution_count": 42,
     "metadata": {},
     "output_type": "execute_result"
    }
   ],
   "source": [
    "Θ_1.mean(axis=0).reshape(K,2)"
   ]
  },
  {
   "cell_type": "code",
   "execution_count": 43,
   "metadata": {},
   "outputs": [
    {
     "data": {
      "text/plain": [
       "torch.Size([50, 3, 2])"
      ]
     },
     "execution_count": 43,
     "metadata": {},
     "output_type": "execute_result"
    }
   ],
   "source": [
    "Θ_1.shape"
   ]
  },
  {
   "cell_type": "code",
   "execution_count": 44,
   "metadata": {},
   "outputs": [
    {
     "data": {
      "image/png": "[encoded data removed]",
      "text/plain": [
       "<Figure size 1152x432 with 1 Axes>"
      ]
     },
     "metadata": {
      "needs_background": "light"
     },
     "output_type": "display_data"
    }
   ],
   "source": [
    "fig, ax_1 = plt.subplots(1, 1, figsize=(16, 6))\n",
    "Θ_plot = Θ_1.cpu().detach() #.reshape(50*3,2)\n",
    "\n",
    "\n",
    "for i in range(K):\n",
    "    ax_1.plot(Θ_plot[:,i, 0], Θ_plot[:, i, 1], \n",
    "             linestyle='none', \n",
    "             marker='o', color=\"red\", label=\"posterior $\\mu$ samples\", alpha= (i+1)**2 * 0.1)\n",
    "\n",
    "ax_1.plot(X_scaled[:, 0], X_scaled[:, 1], \n",
    "         linestyle='none', \n",
    "         marker='o', label=\"Observations $X$\")\n",
    "\n",
    "ax_1.legend()\n",
    "ax_1.axis('equal');"
   ]
  }
 ],
 "metadata": {
  "kernelspec": {
   "display_name": "Python 3 (ipykernel)",
   "language": "python",
   "name": "python3"
  },
  "language_info": {
   "codemirror_mode": {
    "name": "ipython",
    "version": 3
   },
   "file_extension": ".py",
   "mimetype": "text/x-python",
   "name": "python",
   "nbconvert_exporter": "python",
   "pygments_lexer": "ipython3",
   "version": "3.8.5"
  },
  "toc": {
   "base_numbering": 1,
   "nav_menu": {},
   "number_sections": true,
   "sideBar": true,
   "skip_h1_title": false,
   "title_cell": "Table of Contents",
   "title_sidebar": "Contents",
   "toc_cell": false,
   "toc_position": {},
   "toc_section_display": true,
   "toc_window_display": false
  }
 },
 "nbformat": 4,
 "nbformat_minor": 4
}
