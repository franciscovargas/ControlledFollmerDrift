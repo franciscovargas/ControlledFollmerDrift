{
 "cells": [
  {
   "cell_type": "code",
   "execution_count": 1,
   "metadata": {},
   "outputs": [],
   "source": [
    "import torch\n",
    "import torch.nn.functional as F\n",
    "\n",
    "import torchsde\n",
    "import math\n",
    "import matplotlib.pyplot as plt\n",
    "\n",
    "from cfollmer.objectives import log_g, relative_entropy_control_cost\n",
    "from cfollmer.sampler_utils import FollmerSDE\n",
    "import numpy as np\n",
    "\n",
    "from tqdm.notebook import tqdm\n",
    "\n",
    "from torch import _vmap_internals"
   ]
  },
  {
   "cell_type": "markdown",
   "metadata": {},
   "source": [
    "## Generating Toy 2D Dataset."
   ]
  },
  {
   "cell_type": "code",
   "execution_count": 19,
   "metadata": {},
   "outputs": [],
   "source": [
    "import torch\n",
    "from sklearn.datasets import make_blobs\n",
    "from sklearn.model_selection import train_test_split\n",
    "from sklearn.preprocessing import StandardScaler\n",
    "\n",
    "device = \"cuda\" if torch.cuda.is_available() else \"cpu\"\n",
    "random_state = 170\n",
    "\n",
    "X, y = make_blobs(n_samples=100,\n",
    "                  cluster_std=[0.2, 0.2, 0.2],\n",
    "                  random_state=random_state)\n",
    "\n",
    "# X = X[y==0,:]\n",
    "# y = y[y==0]\n",
    "# # Scale data to have mean 0 and variance 1 \n",
    "# # which is importance for convergence of the neural network\n",
    "scaler = StandardScaler()\n",
    "X_scaled = scaler.fit_transform(X)\n",
    "\n",
    "# Split the data set into training and testing\n",
    "X_train, X_test, y_train, y_test = train_test_split(\n",
    "    X_scaled, y, test_size=0.2, random_state=2)\n",
    "\n",
    "\n",
    "X_train, X_test, y_train, y_test = \\\n",
    "    torch.tensor(X_train, dtype=torch.float32, device=device), \\\n",
    "    torch.tensor(X_test, dtype=torch.float32, device=device), \\\n",
    "    torch.tensor(y_train, dtype=torch.float32, device=device), \\\n",
    "    torch.tensor(y_test, dtype=torch.float32, device=device) "
   ]
  },
  {
   "cell_type": "code",
   "execution_count": 20,
   "metadata": {},
   "outputs": [
    {
     "data": {
      "text/plain": [
       "array([0, 2, 2, 0, 0, 1, 1, 0, 2, 1, 1, 1, 0, 1, 0, 2, 1, 1, 1, 2, 2, 2,\n",
       "       2, 2, 1, 1, 0, 2, 0, 1, 2, 0, 1, 2, 1, 0, 0, 0, 0, 0, 2, 0, 2, 0,\n",
       "       0, 1, 2, 2, 0, 1, 2, 2, 1, 2, 0, 1, 2, 1, 0, 0, 1, 0, 0, 2, 0, 2,\n",
       "       2, 1, 1, 1, 2, 0, 1, 0, 0, 0, 2, 1, 1, 1, 1, 1, 2, 1, 0, 0, 1, 2,\n",
       "       2, 1, 2, 2, 1, 0, 2, 2, 0, 0, 0, 2])"
      ]
     },
     "execution_count": 20,
     "metadata": {},
     "output_type": "execute_result"
    }
   ],
   "source": [
    "y"
   ]
  },
  {
   "cell_type": "code",
   "execution_count": 21,
   "metadata": {},
   "outputs": [
    {
     "data": {
      "image/png": "[encoded data removed]",
      "text/plain": [
       "<Figure size 1152x432 with 1 Axes>"
      ]
     },
     "metadata": {
      "needs_background": "light"
     },
     "output_type": "display_data"
    }
   ],
   "source": [
    "fig, ax1 = plt.subplots(1, 1, figsize=(16, 6))\n",
    "\n",
    "ax1.plot(X_scaled[:, 0], X_scaled[:, 1], \n",
    "         linestyle='none', \n",
    "         marker='o')\n",
    "\n",
    "ax1.axis('equal');"
   ]
  },
  {
   "cell_type": "markdown",
   "metadata": {},
   "source": [
    "$$\\DeclareMathOperator*{\\argmin}{arg\\,min}$$\n",
    "$$\\def\\E{{\\mathbb{E}}}$$\n",
    "$$\\def\\rvu{{\\mathbf{u}}}$$\n",
    "$$\\def\\rvTheta{{\\bm{\\Theta}}}$$\n",
    "$$\\def\\gU{{\\mathcal{U}}}$$\n",
    "$$\\def\\mX{{\\mathbf{X}}}$$"
   ]
  },
  {
   "cell_type": "markdown",
   "metadata": {},
   "source": [
    "## Controlled Schrodinger Follmer Sampler\n",
    "\n",
    "The objevtive we are trying to implement is:\n",
    "\n",
    "\\begin{align}\n",
    "  \\mathbf{u}_t^{*}=  \\argmin_{\\rvu_t \\in \\mathcal{U}}\\mathbb{E}\\left[\\frac{1}{2\\gamma}\\int_0^1||\\rvu(t, \\Theta_t)||^2 dt - \\ln\\left(\\frac{ p(\\mX | \\Theta_1)p(\\Theta_1)}{\\mathcal{N}(\\Theta_1|\\mathbf{0}, \\gamma \\mathbb{I} )}\\right)\\right] \\\n",
    "\\end{align}\n",
    "\n",
    "Where:\n",
    "\\begin{align}\n",
    "d\\Theta_t = \\rvu(t, \\Theta_t)dt + \\sqrt{\\gamma} dB_t\n",
    "\\end{align}\n",
    "\n",
    "To do so we use the EM discretisation."
   ]
  },
  {
   "cell_type": "code",
   "execution_count": 108,
   "metadata": {},
   "outputs": [],
   "source": [
    "def log_gaussian(x, mean=0):\n",
    "    \"\"\"\n",
    "    Returns the density of x under the supplied gaussian. Defaults to\n",
    "    standard gaussian N(0, I)\n",
    "    :param x: (*) torch.Tensor\n",
    "    :param mean: float or torch.FloatTensor with dimensions (*)\n",
    "    :param logvar: float or torch.FloatTensor with dimensions (*)\n",
    "    :return: (*) elementwise log density\n",
    "    \"\"\"\n",
    "    \n",
    "    log_norm_constant = -0.5 * np.log(2 * np.pi)\n",
    "    \n",
    "    var =  torch.tensor(0.2)\n",
    "    logvar = torch.log(var)\n",
    "    logvar = x.new(1).fill_(logvar)\n",
    "    \n",
    "    A = (x - mean) ** 2\n",
    "    log_p = -0.5 * (logvar + A / logvar.exp())\n",
    "    log_p = log_p + log_norm_constant\n",
    "#     import pdb; pdb.set_trace()\n",
    "    return log_p.sum(dim=-1)\n",
    "\n",
    "\n",
    "\n",
    "def ln_prior(Θ, σ_w=2):\n",
    "    \"\"\"\n",
    "    Prior for means in Bayesian GMM\n",
    "    \"\"\"\n",
    "    return -0.5 * (Θ**2).sum(axis=1) / σ_w\n",
    "\n",
    "\n",
    "def log_likelihood_single(μ, X, log=True, K=3):\n",
    "    \"\"\"\n",
    "    :param X: design matrix (examples, features)\n",
    "    :param mu: the component means (K, features)\n",
    "    :param logvar: the component log-variances (K, features)\n",
    "    :param log: return value in log domain?\n",
    "\n",
    "    \"\"\"\n",
    "    \n",
    "    n, d = X.shape\n",
    "    # get feature-wise log-likelihoods (K, examples, features)\n",
    "#     import pdb; pdb.set_trace()\n",
    "    log_likelihoods = log_gaussian(\n",
    "        X[None, :, :], # (1, examples, features)\n",
    "        μ.reshape(K, d)[:, None, :], # (K, 1, features)\n",
    "    )\n",
    "    \n",
    "\n",
    "    # sum over the feature dimension\n",
    "    \n",
    "    log_likelihoods = torch.logsumexp(log_likelihoods, dim=0) \n",
    "\n",
    "    return log_likelihoods.sum()\n",
    "\n",
    "\n",
    "def log_likelihood(Θ, X, y=None, K=3):\n",
    "    \"\"\"\n",
    "    batching the above (hopefully its right)\n",
    "    \"\"\"\n",
    "\n",
    "    loss_ = lambda μ: log_likelihood_single(μ, X,K=K)\n",
    "    \n",
    "    batched_loss =  torch._vmap_internals.vmap(loss_)\n",
    "\n",
    "    return batched_loss(Θ)"
   ]
  },
  {
   "cell_type": "code",
   "execution_count": 109,
   "metadata": {},
   "outputs": [],
   "source": [
    "Δt=0.05\n",
    "K = 3\n",
    "t_size = int(math.ceil(1.0/Δt))\n",
    "dim = K * 2\n",
    "\n",
    "ts = torch.linspace(0, 1, t_size).to(device)\n",
    "no_posterior_samples = 50\n",
    "\n",
    "sde = FollmerSDE(dim, dim, no_posterior_samples, 1.0, device=device).to(device)\n",
    "Θ_0 = torch.zeros((no_posterior_samples, dim)).to(device) # Θ_0 ~ δ_0\n",
    "\n",
    "# Initial state y0, the SDE is solved over the interval [ts[0], ts[-1]].\n",
    "# ys will have shape (t_size, batch_size, state_size)\n",
    "ys = torchsde.sdeint(sde, Θ_0, ts, dt=Δt)"
   ]
  },
  {
   "cell_type": "code",
   "execution_count": 110,
   "metadata": {},
   "outputs": [
    {
     "name": "stderr",
     "output_type": "stream",
     "text": [
      "C:\\Users\\vargf\\anaconda3\\lib\\site-packages\\torch\\_vmap_internals.py:252: UserWarning: torch.vmap is an experimental prototype that is subject to change and/or deletion. Please use at your own risk.\n",
      "  warnings.warn(\n",
      "<ipython-input-108-2548c0f873f6>:52: UserWarning: Batching rule not implemented for aten::logsumexp falling back to slow (for loop and stack) implementation (Triggered internally at  ..\\aten\\src\\ATen\\BatchedFallback.cpp:63.)\n",
      "  log_likelihoods = torch.logsumexp(log_likelihoods, dim=0)\n",
      "<ipython-input-108-2548c0f873f6>:54: UserWarning: Batching rule not implemented for aten::sum falling back to slow (for loop and stack) implementation (Triggered internally at  ..\\aten\\src\\ATen\\BatchedFallback.cpp:63.)\n",
      "  return log_likelihoods.sum()\n"
     ]
    },
    {
     "data": {
      "text/plain": [
       "tensor(311.9275, device='cuda:0', grad_fn=<MeanBackward0>)"
      ]
     },
     "execution_count": 110,
     "metadata": {},
     "output_type": "execute_result"
    }
   ],
   "source": [
    "relative_entropy_control_cost(sde, Θ_0, X_train, y_train, \n",
    "                              ln_prior, log_likelihood, γ=1.0, device=device)"
   ]
  },
  {
   "cell_type": "code",
   "execution_count": 199,
   "metadata": {},
   "outputs": [
    {
     "name": "stdout",
     "output_type": "stream",
     "text": [
      "1000\n"
     ]
    },
    {
     "data": {
      "application/vnd.jupyter.widget-view+json": {
       "model_id": "8d3d27bc22e24946bc99e5b5d04189a3",
       "version_major": 2,
       "version_minor": 0
      },
      "text/plain": [
       "  0%|          | 0/300 [00:00<?, ?it/s]"
      ]
     },
     "metadata": {},
     "output_type": "display_data"
    },
    {
     "name": "stderr",
     "output_type": "stream",
     "text": [
      "C:\\Users\\vargf\\anaconda3\\lib\\site-packages\\torch\\_vmap_internals.py:252: UserWarning: torch.vmap is an experimental prototype that is subject to change and/or deletion. Please use at your own risk.\n",
      "  warnings.warn(\n",
      "<ipython-input-108-2548c0f873f6>:52: UserWarning: Batching rule not implemented for aten::logsumexp falling back to slow (for loop and stack) implementation (Triggered internally at  ..\\aten\\src\\ATen\\BatchedFallback.cpp:63.)\n",
      "  log_likelihoods = torch.logsumexp(log_likelihoods, dim=0)\n",
      "<ipython-input-108-2548c0f873f6>:54: UserWarning: Batching rule not implemented for aten::sum falling back to slow (for loop and stack) implementation (Triggered internally at  ..\\aten\\src\\ATen\\BatchedFallback.cpp:63.)\n",
      "  return log_likelihoods.sum()\n"
     ]
    }
   ],
   "source": [
    "γ = 1\n",
    "Δt=0.001\n",
    "t_size = int(math.ceil(1.0/Δt))\n",
    "print(t_size)\n",
    "ts = torch.linspace(0, 1, t_size).to(device)\n",
    "\n",
    "sde = FollmerSDE(dim, dim, no_posterior_samples  , γ=γ, device=device).to(device)\n",
    "optimizer = torch.optim.Adam(sde.μ.parameters(), lr=0.05, weight_decay =1)\n",
    "#     optimizer = torch.optim.LBFGS(gpr.parameters(), lr=0.01)\n",
    "losses = []\n",
    "num_steps = 300\n",
    "for i in tqdm(range(num_steps)):\n",
    "    optimizer.zero_grad()\n",
    "\n",
    "    if isinstance(optimizer, torch.optim.LBFGS):\n",
    "        def closure():\n",
    "            loss = relative_entropy_control_cost(\n",
    "                sde, Θ_0.float(),\n",
    "                X_train.float(), y_train.float(),\n",
    "                ln_prior, log_likelihood, γ=γ\n",
    "            )\n",
    "            optimizer.zero_grad()\n",
    "            loss.backward()\n",
    "            return loss\n",
    "\n",
    "        optimizer.step(closure)\n",
    "        losses.append(closure().item())\n",
    "    else:\n",
    "        loss = relative_entropy_control_cost(\n",
    "            sde, Θ_0,\n",
    "            X_train, y_train,\n",
    "            ln_prior, log_likelihood, γ=γ\n",
    "        )\n",
    "        optimizer.zero_grad()\n",
    "        loss.backward()\n",
    "\n",
    "        optimizer.step()\n",
    "        losses.append(loss.item())"
   ]
  },
  {
   "cell_type": "code",
   "execution_count": 200,
   "metadata": {
    "scrolled": true
   },
   "outputs": [
    {
     "data": {
      "text/plain": [
       "[350.5563659667969,\n",
       " 291.8308410644531,\n",
       " 291.878662109375,\n",
       " 263.1399230957031,\n",
       " 289.64508056640625,\n",
       " 320.1762390136719,\n",
       " 294.29876708984375,\n",
       " 337.99365234375,\n",
       " 289.1809997558594,\n",
       " 297.1005859375,\n",
       " 306.1083679199219,\n",
       " 269.11614990234375,\n",
       " 270.0500793457031,\n",
       " 264.48065185546875,\n",
       " 271.2214050292969,\n",
       " 269.0009460449219,\n",
       " 238.2283477783203,\n",
       " 265.53839111328125,\n",
       " 247.10096740722656,\n",
       " 233.65635681152344,\n",
       " 230.4183349609375,\n",
       " 235.1287384033203,\n",
       " 245.45706176757812,\n",
       " 228.1707763671875,\n",
       " 225.81011962890625,\n",
       " 226.93019104003906,\n",
       " 249.90573120117188,\n",
       " 228.32254028320312,\n",
       " 222.77542114257812,\n",
       " 224.13821411132812,\n",
       " 216.5220489501953,\n",
       " 228.1177520751953,\n",
       " 234.4834747314453,\n",
       " 216.92041015625,\n",
       " 231.9061279296875,\n",
       " 236.3386688232422,\n",
       " 212.1096954345703,\n",
       " 232.16416931152344,\n",
       " 216.90382385253906,\n",
       " 227.20993041992188,\n",
       " 229.8948516845703,\n",
       " 223.3545684814453,\n",
       " 215.323486328125,\n",
       " 227.27120971679688,\n",
       " 229.81044006347656,\n",
       " 211.77999877929688,\n",
       " 207.0296630859375,\n",
       " 219.6765899658203,\n",
       " 201.70567321777344,\n",
       " 228.4397735595703,\n",
       " 228.66946411132812,\n",
       " 240.60574340820312,\n",
       " 214.08482360839844,\n",
       " 196.69004821777344,\n",
       " 223.89788818359375,\n",
       " 215.34375,\n",
       " 196.3106231689453,\n",
       " 216.203369140625,\n",
       " 210.27120971679688,\n",
       " 222.28579711914062,\n",
       " 189.1598358154297,\n",
       " 213.73252868652344,\n",
       " 197.33743286132812,\n",
       " 194.59185791015625,\n",
       " 216.63507080078125,\n",
       " 199.17681884765625,\n",
       " 232.99053955078125,\n",
       " 204.9492950439453,\n",
       " 224.13807678222656,\n",
       " 213.04156494140625,\n",
       " 213.37277221679688,\n",
       " 214.993896484375,\n",
       " 206.26812744140625,\n",
       " 213.4114532470703,\n",
       " 198.67982482910156,\n",
       " 214.67718505859375,\n",
       " 216.5537109375,\n",
       " 187.70294189453125,\n",
       " 227.3121795654297,\n",
       " 214.2724151611328,\n",
       " 209.94366455078125,\n",
       " 199.1806182861328,\n",
       " 211.69650268554688,\n",
       " 197.482421875,\n",
       " 206.41981506347656,\n",
       " 193.94296264648438,\n",
       " 192.03211975097656,\n",
       " 207.58377075195312,\n",
       " 226.52301025390625,\n",
       " 206.50949096679688,\n",
       " 203.59385681152344,\n",
       " 201.83697509765625,\n",
       " 222.7508087158203,\n",
       " 199.69900512695312,\n",
       " 217.4150390625,\n",
       " 219.54136657714844,\n",
       " 204.85804748535156,\n",
       " 194.6491241455078,\n",
       " 205.2167205810547,\n",
       " 200.49856567382812,\n",
       " 217.1621856689453,\n",
       " 207.33331298828125,\n",
       " 199.3750762939453,\n",
       " 195.29934692382812,\n",
       " 189.2382049560547,\n",
       " 225.86976623535156,\n",
       " 224.6947021484375,\n",
       " 206.70309448242188,\n",
       " 195.6873321533203,\n",
       " 212.53366088867188,\n",
       " 198.8654327392578,\n",
       " 234.59307861328125,\n",
       " 180.3168182373047,\n",
       " 213.0399932861328,\n",
       " 213.87725830078125,\n",
       " 215.10842895507812,\n",
       " 184.4672088623047,\n",
       " 200.4606170654297,\n",
       " 201.5946044921875,\n",
       " 210.4764404296875,\n",
       " 212.42550659179688,\n",
       " 202.91831970214844,\n",
       " 206.4349822998047,\n",
       " 200.7451934814453,\n",
       " 206.79898071289062,\n",
       " 196.46299743652344,\n",
       " 191.92434692382812,\n",
       " 188.75753784179688,\n",
       " 214.4247589111328,\n",
       " 186.8386688232422,\n",
       " 216.88958740234375,\n",
       " 198.94761657714844,\n",
       " 194.6266326904297,\n",
       " 211.43167114257812,\n",
       " 204.71632385253906,\n",
       " 195.80181884765625,\n",
       " 206.973388671875,\n",
       " 204.28028869628906,\n",
       " 206.48565673828125,\n",
       " 197.1285858154297,\n",
       " 198.94798278808594,\n",
       " 207.96690368652344,\n",
       " 208.4297637939453,\n",
       " 215.17886352539062,\n",
       " 208.6360321044922,\n",
       " 213.40879821777344,\n",
       " 200.08114624023438,\n",
       " 205.37034606933594,\n",
       " 200.8576202392578,\n",
       " 213.45974731445312,\n",
       " 203.1462860107422,\n",
       " 204.44952392578125,\n",
       " 196.53819274902344,\n",
       " 207.15155029296875,\n",
       " 213.04898071289062,\n",
       " 208.4121856689453,\n",
       " 205.74478149414062,\n",
       " 223.78338623046875,\n",
       " 208.7971954345703,\n",
       " 183.65066528320312,\n",
       " 218.36671447753906,\n",
       " 230.28680419921875,\n",
       " 190.9824981689453,\n",
       " 196.8760528564453,\n",
       " 183.22824096679688,\n",
       " 231.87075805664062,\n",
       " 211.63819885253906,\n",
       " 208.06298828125,\n",
       " 223.10061645507812,\n",
       " 193.72900390625,\n",
       " 201.48545837402344,\n",
       " 212.69873046875,\n",
       " 193.17721557617188,\n",
       " 219.17062377929688,\n",
       " 207.02877807617188,\n",
       " 194.2043914794922,\n",
       " 192.5703125,\n",
       " 188.24351501464844,\n",
       " 198.7147216796875,\n",
       " 201.96920776367188,\n",
       " 204.2889404296875,\n",
       " 194.28456115722656,\n",
       " 208.25831604003906,\n",
       " 210.6001739501953,\n",
       " 215.66018676757812,\n",
       " 202.0282745361328,\n",
       " 215.5830078125,\n",
       " 209.6628875732422,\n",
       " 211.95724487304688,\n",
       " 217.04104614257812,\n",
       " 218.88064575195312,\n",
       " 212.047607421875,\n",
       " 208.46261596679688,\n",
       " 223.89170837402344,\n",
       " 208.8319091796875,\n",
       " 212.1545867919922,\n",
       " 204.25230407714844,\n",
       " 214.65074157714844,\n",
       " 221.1344451904297,\n",
       " 221.36302185058594,\n",
       " 227.38262939453125,\n",
       " 202.59841918945312,\n",
       " 213.79844665527344,\n",
       " 194.19764709472656,\n",
       " 191.30230712890625,\n",
       " 205.2226104736328,\n",
       " 206.7318115234375,\n",
       " 208.15640258789062,\n",
       " 203.9041290283203,\n",
       " 205.62413024902344,\n",
       " 209.5240936279297,\n",
       " 178.76947021484375,\n",
       " 205.48220825195312,\n",
       " 187.8527374267578,\n",
       " 206.5829315185547,\n",
       " 210.26913452148438,\n",
       " 214.72576904296875,\n",
       " 209.5447540283203,\n",
       " 194.77932739257812,\n",
       " 189.90753173828125,\n",
       " 215.51681518554688,\n",
       " 199.94679260253906,\n",
       " 201.27609252929688,\n",
       " 196.7742462158203,\n",
       " 198.5486602783203,\n",
       " 198.8553924560547,\n",
       " 200.51258850097656,\n",
       " 210.51034545898438,\n",
       " 212.80523681640625,\n",
       " 185.33018493652344,\n",
       " 211.50526428222656,\n",
       " 206.86265563964844,\n",
       " 207.12664794921875,\n",
       " 226.4528045654297,\n",
       " 202.043212890625,\n",
       " 218.22955322265625,\n",
       " 196.4931640625,\n",
       " 198.9110107421875,\n",
       " 206.8290252685547,\n",
       " 199.74867248535156,\n",
       " 199.15419006347656,\n",
       " 188.16458129882812,\n",
       " 207.06781005859375,\n",
       " 191.0359649658203,\n",
       " 206.62152099609375,\n",
       " 194.8426055908203,\n",
       " 202.66807556152344,\n",
       " 225.5779266357422,\n",
       " 194.88290405273438,\n",
       " 177.59864807128906,\n",
       " 202.3224639892578,\n",
       " 194.420654296875,\n",
       " 215.4403839111328,\n",
       " 194.13050842285156,\n",
       " 202.6494903564453,\n",
       " 217.70358276367188,\n",
       " 218.0419464111328,\n",
       " 199.48089599609375,\n",
       " 190.54823303222656,\n",
       " 192.74839782714844,\n",
       " 199.9121856689453,\n",
       " 196.05050659179688,\n",
       " 218.0408935546875,\n",
       " 210.0087890625,\n",
       " 178.75453186035156,\n",
       " 195.38246154785156,\n",
       " 221.62164306640625,\n",
       " 205.57965087890625,\n",
       " 214.19500732421875,\n",
       " 210.67100524902344,\n",
       " 213.09298706054688,\n",
       " 199.72222900390625,\n",
       " 207.2904815673828,\n",
       " 197.2294921875,\n",
       " 229.1215362548828,\n",
       " 191.0979766845703,\n",
       " 204.04885864257812,\n",
       " 206.2837677001953,\n",
       " 195.9993438720703,\n",
       " 209.40966796875,\n",
       " 192.68145751953125,\n",
       " 208.9267120361328,\n",
       " 212.3831787109375,\n",
       " 193.39146423339844,\n",
       " 186.9110870361328,\n",
       " 210.22137451171875,\n",
       " 199.34405517578125,\n",
       " 196.82131958007812,\n",
       " 205.62306213378906,\n",
       " 205.14480590820312,\n",
       " 215.90054321289062,\n",
       " 211.3907012939453,\n",
       " 195.07296752929688,\n",
       " 212.1407012939453,\n",
       " 205.5360565185547,\n",
       " 216.68429565429688,\n",
       " 212.2283935546875,\n",
       " 192.9443359375,\n",
       " 183.79226684570312,\n",
       " 209.23269653320312]"
      ]
     },
     "execution_count": 200,
     "metadata": {},
     "output_type": "execute_result"
    }
   ],
   "source": [
    "losses"
   ]
  },
  {
   "cell_type": "code",
   "execution_count": 201,
   "metadata": {},
   "outputs": [
    {
     "data": {
      "text/plain": [
       "[<matplotlib.lines.Line2D at 0x28c2c799ca0>]"
      ]
     },
     "execution_count": 201,
     "metadata": {},
     "output_type": "execute_result"
    },
    {
     "data": {
      "image/png": "[encoded data removed]",
      "text/plain": [
       "<Figure size 432x288 with 1 Axes>"
      ]
     },
     "metadata": {
      "needs_background": "light"
     },
     "output_type": "display_data"
    }
   ],
   "source": [
    "plt.plot(losses[:])"
   ]
  },
  {
   "cell_type": "code",
   "execution_count": 202,
   "metadata": {},
   "outputs": [
    {
     "data": {
      "text/plain": [
       "torch.Size([1000, 50, 6])"
      ]
     },
     "execution_count": 202,
     "metadata": {},
     "output_type": "execute_result"
    }
   ],
   "source": [
    " torchsde.sdeint(sde, Θ_0, ts, method=\"euler\", dt=Δt).shape"
   ]
  },
  {
   "cell_type": "code",
   "execution_count": 203,
   "metadata": {},
   "outputs": [
    {
     "data": {
      "text/plain": [
       "torch.Size([80, 2])"
      ]
     },
     "execution_count": 203,
     "metadata": {},
     "output_type": "execute_result"
    }
   ],
   "source": [
    "X_train.shape"
   ]
  },
  {
   "cell_type": "code",
   "execution_count": 204,
   "metadata": {},
   "outputs": [],
   "source": [
    "Θ_1 = torchsde.sdeint(sde, Θ_0, ts, dt=Δt)[-1,...]"
   ]
  },
  {
   "cell_type": "code",
   "execution_count": 205,
   "metadata": {},
   "outputs": [],
   "source": [
    "Θ_1 = Θ_1.reshape(50,K,2)"
   ]
  },
  {
   "cell_type": "code",
   "execution_count": 206,
   "metadata": {},
   "outputs": [
    {
     "data": {
      "text/plain": [
       "(array([ 3., 17., 17., 13., 12., 25., 25., 27.,  8.,  3.]),\n",
       " array([-2.329779  , -1.8720764 , -1.414374  , -0.9566715 , -0.49896902,\n",
       "        -0.04126656,  0.4164359 ,  0.87413836,  1.3318409 ,  1.7895433 ,\n",
       "         2.2472458 ], dtype=float32),\n",
       " <a list of 10 Patch objects>)"
      ]
     },
     "execution_count": 206,
     "metadata": {},
     "output_type": "execute_result"
    },
    {
     "data": {
      "image/png": "[encoded data removed]",
      "text/plain": [
       "<Figure size 432x288 with 2 Axes>"
      ]
     },
     "metadata": {
      "needs_background": "light"
     },
     "output_type": "display_data"
    }
   ],
   "source": [
    "fig, (ax1,ax2) = plt.subplots(1,2)\n",
    "\n",
    "ax1.hist(Θ_1[:,:,0].flatten().cpu().detach().numpy())\n",
    "ax2.hist(Θ_1[:,:,1].flatten().cpu().detach().numpy())"
   ]
  },
  {
   "cell_type": "code",
   "execution_count": 207,
   "metadata": {},
   "outputs": [
    {
     "data": {
      "text/plain": [
       "tensor([[ 0.2819,  0.6261],\n",
       "        [ 0.4657,  0.6166],\n",
       "        [-0.8647, -1.2574]], device='cuda:0', grad_fn=<ViewBackward>)"
      ]
     },
     "execution_count": 207,
     "metadata": {},
     "output_type": "execute_result"
    }
   ],
   "source": [
    "Θ_1.mean(axis=0).reshape(K,2)"
   ]
  },
  {
   "cell_type": "code",
   "execution_count": 208,
   "metadata": {},
   "outputs": [
    {
     "data": {
      "text/plain": [
       "torch.Size([50, 3, 2])"
      ]
     },
     "execution_count": 208,
     "metadata": {},
     "output_type": "execute_result"
    }
   ],
   "source": [
    "Θ_1.shape"
   ]
  },
  {
   "cell_type": "code",
   "execution_count": 209,
   "metadata": {},
   "outputs": [
    {
     "data": {
      "image/png": "[encoded data removed]",
      "text/plain": [
       "<Figure size 1152x432 with 1 Axes>"
      ]
     },
     "metadata": {
      "needs_background": "light"
     },
     "output_type": "display_data"
    }
   ],
   "source": [
    "fig, ax_1 = plt.subplots(1, 1, figsize=(16, 6))\n",
    "Θ_plot = Θ_1.cpu().detach() #.reshape(50*3,2)\n",
    "\n",
    "\n",
    "for i in range(K):\n",
    "    ax_1.plot(Θ_plot[:,i, 0], Θ_plot[:, i, 1], \n",
    "             linestyle='none', \n",
    "             marker='o', color=\"red\", label=\"posterior $\\mu$ samples\")\n",
    "\n",
    "ax_1.plot(X_scaled[:, 0], X_scaled[:, 1], \n",
    "         linestyle='none', \n",
    "         marker='o', label=\"Observations $X$\")\n",
    "\n",
    "ax_1.legend()\n",
    "ax_1.axis('equal');"
   ]
  }
 ],
 "metadata": {
  "kernelspec": {
   "display_name": "Python 3",
   "language": "python",
   "name": "python3"
  },
  "language_info": {
   "codemirror_mode": {
    "name": "ipython",
    "version": 3
   },
   "file_extension": ".py",
   "mimetype": "text/x-python",
   "name": "python",
   "nbconvert_exporter": "python",
   "pygments_lexer": "ipython3",
   "version": "3.8.5"
  },
  "toc": {
   "base_numbering": 1,
   "nav_menu": {},
   "number_sections": true,
   "sideBar": true,
   "skip_h1_title": false,
   "title_cell": "Table of Contents",
   "title_sidebar": "Contents",
   "toc_cell": false,
   "toc_position": {},
   "toc_section_display": true,
   "toc_window_display": false
  }
 },
 "nbformat": 4,
 "nbformat_minor": 4
}
