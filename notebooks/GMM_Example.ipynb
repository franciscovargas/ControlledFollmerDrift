{
 "cells": [
  {
   "cell_type": "code",
   "execution_count": 1,
   "metadata": {},
   "outputs": [],
   "source": [
    "import torch\n",
    "import torch.nn.functional as F\n",
    "\n",
    "import torchsde\n",
    "import math\n",
    "import matplotlib.pyplot as plt\n",
    "\n",
    "from cfollmer.objectives import log_g, relative_entropy_control_cost, gaussian_prior\n",
    "from cfollmer.sampler_utils import FollmerSDE\n",
    "import numpy as np\n",
    "\n",
    "from tqdm.notebook import tqdm\n",
    "\n",
    "from torch import _vmap_internals"
   ]
  },
  {
   "cell_type": "markdown",
   "metadata": {},
   "source": [
    "## Generating Toy 2D Dataset."
   ]
  },
  {
   "cell_type": "code",
   "execution_count": 2,
   "metadata": {},
   "outputs": [],
   "source": [
    "import torch\n",
    "from sklearn.datasets import make_blobs\n",
    "from sklearn.model_selection import train_test_split\n",
    "from sklearn.preprocessing import StandardScaler\n",
    "\n",
    "device = \"cuda\" if torch.cuda.is_available() else \"cpu\"\n",
    "random_state = 170\n",
    "\n",
    "X, y = make_blobs(n_samples=100,\n",
    "                  cluster_std=[0.5, 0.5, 0.5],\n",
    "                  random_state=random_state)\n",
    "\n",
    "\n",
    "# # Scale data to have mean 0 and variance 1 \n",
    "# # which is importance for convergence of the neural network\n",
    "scaler = StandardScaler()\n",
    "X_scaled = scaler.fit_transform(X)\n",
    "\n",
    "# Split the data set into training and testing\n",
    "X_train, X_test, y_train, y_test = train_test_split(\n",
    "    X_scaled, y, test_size=0.2, random_state=2)\n",
    "\n",
    "\n",
    "X_train, X_test, y_train, y_test = \\\n",
    "    torch.tensor(X_train, dtype=torch.float32, device=device), \\\n",
    "    torch.tensor(X_test, dtype=torch.float32, device=device), \\\n",
    "    torch.tensor(y_train, dtype=torch.float32, device=device), \\\n",
    "    torch.tensor(y_test, dtype=torch.float32, device=device) "
   ]
  },
  {
   "cell_type": "code",
   "execution_count": 3,
   "metadata": {},
   "outputs": [
    {
     "data": {
      "text/plain": [
       "(100, 2)"
      ]
     },
     "execution_count": 3,
     "metadata": {},
     "output_type": "execute_result"
    }
   ],
   "source": [
    "X.shape"
   ]
  },
  {
   "cell_type": "code",
   "execution_count": 4,
   "metadata": {},
   "outputs": [
    {
     "data": {
      "image/png": "[encoded data removed]",
      "text/plain": [
       "<Figure size 1152x432 with 1 Axes>"
      ]
     },
     "metadata": {
      "needs_background": "light"
     },
     "output_type": "display_data"
    }
   ],
   "source": [
    "fig, ax1 = plt.subplots(1, 1, figsize=(16, 6))\n",
    "\n",
    "ax1.plot(X_scaled[:, 0], X_scaled[:, 1], \n",
    "         linestyle='none', \n",
    "         marker='o')\n",
    "\n",
    "ax1.axis('equal');"
   ]
  },
  {
   "cell_type": "markdown",
   "metadata": {},
   "source": [
    "$$\\DeclareMathOperator*{\\argmin}{arg\\,min}$$\n",
    "$$\\def\\E{{\\mathbb{E}}}$$\n",
    "$$\\def\\rvu{{\\mathbf{u}}}$$\n",
    "$$\\def\\rvTheta{{\\bm{\\Theta}}}$$\n",
    "$$\\def\\gU{{\\mathcal{U}}}$$\n",
    "$$\\def\\mX{{\\mathbf{X}}}$$"
   ]
  },
  {
   "cell_type": "markdown",
   "metadata": {},
   "source": [
    "## Controlled Schrodinger Follmer Sampler\n",
    "\n",
    "The objevtive we are trying to implement is:\n",
    "\n",
    "\\begin{align}\n",
    "  \\mathbf{u}_t^{*}=  \\argmin_{\\rvu_t \\in \\mathcal{U}}\\mathbb{E}\\left[\\frac{1}{2\\gamma}\\int_0^1||\\rvu(t, \\Theta_t)||^2 dt - \\ln\\left(\\frac{ p(\\mX | \\Theta_1)p(\\Theta_1)}{\\mathcal{N}(\\Theta_1|\\mathbf{0}, \\gamma \\mathbb{I} )}\\right)\\right] \\\n",
    "\\end{align}\n",
    "\n",
    "Where:\n",
    "\\begin{align}\n",
    "d\\Theta_t = \\rvu(t, \\Theta_t)dt + \\sqrt{\\gamma} dB_t\n",
    "\\end{align}\n",
    "\n",
    "To do so we use the EM discretisation."
   ]
  },
  {
   "cell_type": "code",
   "execution_count": 178,
   "metadata": {},
   "outputs": [],
   "source": [
    "def log_gaussian(x, mean=0):\n",
    "    \"\"\"\n",
    "    Returns the density of x under the supplied gaussian. Defaults to\n",
    "    standard gaussian N(0, I)\n",
    "    :param x: (*) torch.Tensor\n",
    "    :param mean: float or torch.FloatTensor with dimensions (*)\n",
    "    :param logvar: float or torch.FloatTensor with dimensions (*)\n",
    "    :return: (*) elementwise log density\n",
    "    \"\"\"\n",
    "    \n",
    "    log_norm_constant = -0.5 * np.log(2 * np.pi)\n",
    "    \n",
    "    var =  torch.tensor(0.1)\n",
    "    logvar = torch.log(var)\n",
    "    logvar = x.new(1).fill_(logvar)\n",
    "    \n",
    "    A = (x - mean) ** 2\n",
    "    log_p = -0.5 * (logvar + A / logvar.exp())\n",
    "    log_p = log_p + log_norm_constant\n",
    "#     import pdb; pdb.set_trace()\n",
    "    return log_p.sum(dim=-1)\n",
    "\n",
    "\n",
    "\n",
    "def ln_prior(Θ, σ_w=1):\n",
    "    \"\"\"\n",
    "    This prior is specific to when a brownian motion\n",
    "    SDE is used as the reference process to the SBP\n",
    "    \"\"\"\n",
    "    return -0.5 * (Θ**2).sum(axis=1) / σ_w\n",
    "\n",
    "\n",
    "def log_likelihood_single(μ, X, log=True, K=3):\n",
    "    \"\"\"\n",
    "    :param X: design matrix (examples, features)\n",
    "    :param mu: the component means (K, features)\n",
    "    :param logvar: the component log-variances (K, features)\n",
    "    :param log: return value in log domain?\n",
    "\n",
    "    \"\"\"\n",
    "    \n",
    "    n, d = X.shape\n",
    "    # get feature-wise log-likelihoods (K, examples, features)\n",
    "    log_likelihoods = log_gaussian(\n",
    "        X[None, :, :], # (1, examples, features)\n",
    "        μ.reshape(K, d)[:, None, :], # (K, 1, features)\n",
    "    )\n",
    "\n",
    "    # sum over the feature dimension\n",
    "    log_likelihoods = torch.logsumexp(log_likelihoods, dim=0) \n",
    "\n",
    "    return log_likelihoods.sum()\n",
    "\n",
    "\n",
    "def log_likelihood(Θ, X, y=None, K=3):\n",
    "    \"\"\"\n",
    "    batching the above (hopefully its right)\n",
    "    \"\"\"\n",
    "#     import pdb; pdb.set_trace()\n",
    "    loss_ = lambda μ: log_likelihood_single(μ, X,K=K)\n",
    "    \n",
    "    batched_loss =  torch._vmap_internals.vmap(loss_)\n",
    "\n",
    "    return batched_loss(Θ)"
   ]
  },
  {
   "cell_type": "code",
   "execution_count": 179,
   "metadata": {},
   "outputs": [],
   "source": [
    "Δt=0.05\n",
    "t_size = int(math.ceil(1.0/Δt))\n",
    "dim = 3 * 2\n",
    "\n",
    "ts = torch.linspace(0, 1, t_size).to(device)\n",
    "no_posterior_samples = 50\n",
    "\n",
    "sde = FollmerSDE(dim, dim, no_posterior_samples, 1.0, device=device).to(device)\n",
    "Θ_0 = torch.zeros((no_posterior_samples, dim)).to(device) # Θ_0 ~ δ_0\n",
    "\n",
    "# Initial state y0, the SDE is solved over the interval [ts[0], ts[-1]].\n",
    "# ys will have shape (t_size, batch_size, state_size)\n",
    "ys = torchsde.sdeint(sde, Θ_0, ts, dt=Δt)"
   ]
  },
  {
   "cell_type": "code",
   "execution_count": 180,
   "metadata": {},
   "outputs": [
    {
     "name": "stderr",
     "output_type": "stream",
     "text": [
      "<ipython-input-178-b99790f6bbe8>:50: UserWarning: Batching rule not implemented for aten::logsumexp falling back to slow (for loop and stack) implementation (Triggered internally at  ..\\aten\\src\\ATen\\BatchedFallback.cpp:63.)\n",
      "  log_likelihoods = torch.logsumexp(log_likelihoods, dim=0)\n",
      "<ipython-input-178-b99790f6bbe8>:52: UserWarning: Batching rule not implemented for aten::sum falling back to slow (for loop and stack) implementation (Triggered internally at  ..\\aten\\src\\ATen\\BatchedFallback.cpp:63.)\n",
      "  return log_likelihoods.sum()\n"
     ]
    },
    {
     "data": {
      "text/plain": [
       "tensor(1375.4028, device='cuda:0', grad_fn=<MeanBackward0>)"
      ]
     },
     "execution_count": 180,
     "metadata": {},
     "output_type": "execute_result"
    }
   ],
   "source": [
    "relative_entropy_control_cost(sde, Θ_0, X_train, y_train, \n",
    "                              ln_prior, log_likelihood, γ=1.0, device=device)"
   ]
  },
  {
   "cell_type": "code",
   "execution_count": 181,
   "metadata": {},
   "outputs": [
    {
     "name": "stdout",
     "output_type": "stream",
     "text": [
      "20\n"
     ]
    },
    {
     "data": {
      "application/vnd.jupyter.widget-view+json": {
       "model_id": "d79f4eaad9ff41d5af613ec94c6caf51",
       "version_major": 2,
       "version_minor": 0
      },
      "text/plain": [
       "  0%|          | 0/300 [00:00<?, ?it/s]"
      ]
     },
     "metadata": {},
     "output_type": "display_data"
    },
    {
     "name": "stderr",
     "output_type": "stream",
     "text": [
      "<ipython-input-178-b99790f6bbe8>:50: UserWarning: Batching rule not implemented for aten::logsumexp falling back to slow (for loop and stack) implementation (Triggered internally at  ..\\aten\\src\\ATen\\BatchedFallback.cpp:63.)\n",
      "  log_likelihoods = torch.logsumexp(log_likelihoods, dim=0)\n",
      "<ipython-input-178-b99790f6bbe8>:52: UserWarning: Batching rule not implemented for aten::sum falling back to slow (for loop and stack) implementation (Triggered internally at  ..\\aten\\src\\ATen\\BatchedFallback.cpp:63.)\n",
      "  return log_likelihoods.sum()\n"
     ]
    }
   ],
   "source": [
    "γ = 1.0\n",
    "Δt=0.05\n",
    "t_size = int(math.ceil(1.0/Δt))\n",
    "print(t_size)\n",
    "ts = torch.linspace(0, 1, t_size).to(device)\n",
    "\n",
    "sde = FollmerSDE(dim, dim, no_posterior_samples  , γ=γ, device=device).to(device)\n",
    "optimizer = torch.optim.Adam(sde.μ.parameters(), lr=0.01, weight_decay =1)\n",
    "#     optimizer = torch.optim.LBFGS(gpr.parameters(), lr=0.01)\n",
    "losses = []\n",
    "num_steps = 300\n",
    "for i in tqdm(range(num_steps)):\n",
    "    optimizer.zero_grad()\n",
    "\n",
    "    if isinstance(optimizer, torch.optim.LBFGS):\n",
    "        def closure():\n",
    "            loss = relative_entropy_control_cost(\n",
    "                sde, Θ_0.float(),\n",
    "                X_train.float(), y_train.float(),\n",
    "                ln_prior, log_likelihood, γ=γ\n",
    "            )\n",
    "            optimizer.zero_grad()\n",
    "            loss.backward()\n",
    "            return loss\n",
    "\n",
    "        optimizer.step(closure)\n",
    "        losses.append(closure().item())\n",
    "    else:\n",
    "        loss = relative_entropy_control_cost(\n",
    "            sde, Θ_0,\n",
    "            X_train, y_train,\n",
    "            ln_prior, log_likelihood, γ=γ\n",
    "        )\n",
    "        optimizer.zero_grad()\n",
    "        loss.backward()\n",
    "\n",
    "        optimizer.step()\n",
    "        losses.append(loss.item())"
   ]
  },
  {
   "cell_type": "code",
   "execution_count": 182,
   "metadata": {
    "scrolled": true
   },
   "outputs": [
    {
     "data": {
      "text/plain": [
       "[1246.9273681640625,\n",
       " 1327.0794677734375,\n",
       " 1094.8240966796875,\n",
       " 1041.0792236328125,\n",
       " 766.5360717773438,\n",
       " 779.0952758789062,\n",
       " 624.49560546875,\n",
       " 534.9295654296875,\n",
       " 543.33837890625,\n",
       " 536.1073608398438,\n",
       " 582.3683471679688,\n",
       " 611.0115966796875,\n",
       " 511.19097900390625,\n",
       " 469.66522216796875,\n",
       " 435.17303466796875,\n",
       " 512.505615234375,\n",
       " 478.4738464355469,\n",
       " 347.8614807128906,\n",
       " 361.91009521484375,\n",
       " 353.1024169921875,\n",
       " 348.3785095214844,\n",
       " 423.35260009765625,\n",
       " 318.8109436035156,\n",
       " 376.3054504394531,\n",
       " 284.67108154296875,\n",
       " 323.71539306640625,\n",
       " 268.7758483886719,\n",
       " 296.5732116699219,\n",
       " 267.7320556640625,\n",
       " 309.2181701660156,\n",
       " 269.3867492675781,\n",
       " 286.142333984375,\n",
       " 258.4316101074219,\n",
       " 308.1612548828125,\n",
       " 295.7264099121094,\n",
       " 258.6151123046875,\n",
       " 291.9929504394531,\n",
       " 282.15966796875,\n",
       " 279.57342529296875,\n",
       " 237.5560760498047,\n",
       " 248.417724609375,\n",
       " 232.1660614013672,\n",
       " 282.78509521484375,\n",
       " 252.5302276611328,\n",
       " 241.836669921875,\n",
       " 275.2795715332031,\n",
       " 219.91085815429688,\n",
       " 290.23095703125,\n",
       " 259.8019104003906,\n",
       " 290.809814453125,\n",
       " 249.8557586669922,\n",
       " 271.6728210449219,\n",
       " 231.168212890625,\n",
       " 224.7052459716797,\n",
       " 225.07630920410156,\n",
       " 232.2683868408203,\n",
       " 220.67030334472656,\n",
       " 241.8426971435547,\n",
       " 269.16827392578125,\n",
       " 248.96128845214844,\n",
       " 208.894775390625,\n",
       " 236.03964233398438,\n",
       " 245.313232421875,\n",
       " 222.94778442382812,\n",
       " 244.91952514648438,\n",
       " 263.37896728515625,\n",
       " 213.44720458984375,\n",
       " 244.83303833007812,\n",
       " 239.4221954345703,\n",
       " 236.3547821044922,\n",
       " 211.34800720214844,\n",
       " 236.83786010742188,\n",
       " 221.8964385986328,\n",
       " 206.4481658935547,\n",
       " 292.37701416015625,\n",
       " 226.89735412597656,\n",
       " 206.61622619628906,\n",
       " 232.1644744873047,\n",
       " 289.17193603515625,\n",
       " 224.06398010253906,\n",
       " 238.58937072753906,\n",
       " 242.01339721679688,\n",
       " 226.74134826660156,\n",
       " 226.99514770507812,\n",
       " 212.7673797607422,\n",
       " 242.97496032714844,\n",
       " 256.3184814453125,\n",
       " 200.89572143554688,\n",
       " 199.35702514648438,\n",
       " 219.21624755859375,\n",
       " 216.34706115722656,\n",
       " 242.5590057373047,\n",
       " 253.3494415283203,\n",
       " 237.5711669921875,\n",
       " 204.7029266357422,\n",
       " 197.9246826171875,\n",
       " 266.040771484375,\n",
       " 220.47137451171875,\n",
       " 227.05679321289062,\n",
       " 223.0438690185547,\n",
       " 206.24273681640625,\n",
       " 231.9261016845703,\n",
       " 247.55519104003906,\n",
       " 227.82595825195312,\n",
       " 211.34339904785156,\n",
       " 214.63311767578125,\n",
       " 242.8495635986328,\n",
       " 202.692138671875,\n",
       " 201.78721618652344,\n",
       " 247.78428649902344,\n",
       " 216.4261016845703,\n",
       " 262.5167236328125,\n",
       " 180.26097106933594,\n",
       " 227.82774353027344,\n",
       " 293.0689697265625,\n",
       " 281.2572326660156,\n",
       " 206.63433837890625,\n",
       " 214.9792938232422,\n",
       " 240.9882354736328,\n",
       " 227.19102478027344,\n",
       " 219.0367889404297,\n",
       " 209.66217041015625,\n",
       " 197.70831298828125,\n",
       " 196.27105712890625,\n",
       " 248.22349548339844,\n",
       " 202.70999145507812,\n",
       " 192.26174926757812,\n",
       " 231.23788452148438,\n",
       " 221.5148162841797,\n",
       " 220.4246368408203,\n",
       " 212.1913299560547,\n",
       " 235.7606964111328,\n",
       " 247.259765625,\n",
       " 214.89208984375,\n",
       " 227.70925903320312,\n",
       " 252.7764434814453,\n",
       " 223.80776977539062,\n",
       " 216.54299926757812,\n",
       " 214.19358825683594,\n",
       " 229.3349151611328,\n",
       " 239.53746032714844,\n",
       " 235.44972229003906,\n",
       " 211.9715118408203,\n",
       " 239.28546142578125,\n",
       " 235.14134216308594,\n",
       " 243.0840301513672,\n",
       " 196.2937469482422,\n",
       " 189.9409942626953,\n",
       " 233.1531219482422,\n",
       " 244.81272888183594,\n",
       " 220.4762420654297,\n",
       " 218.0731201171875,\n",
       " 194.05799865722656,\n",
       " 205.1783905029297,\n",
       " 217.59515380859375,\n",
       " 218.3423614501953,\n",
       " 210.824951171875,\n",
       " 240.4921875,\n",
       " 219.76217651367188,\n",
       " 258.7790222167969,\n",
       " 204.5067138671875,\n",
       " 274.1314392089844,\n",
       " 198.36448669433594,\n",
       " 182.2086944580078,\n",
       " 218.49903869628906,\n",
       " 243.5467529296875,\n",
       " 212.27284240722656,\n",
       " 203.22218322753906,\n",
       " 215.01795959472656,\n",
       " 214.95570373535156,\n",
       " 243.23587036132812,\n",
       " 228.14515686035156,\n",
       " 194.97946166992188,\n",
       " 201.61761474609375,\n",
       " 218.0383758544922,\n",
       " 206.17831420898438,\n",
       " 220.9031219482422,\n",
       " 223.57264709472656,\n",
       " 208.245849609375,\n",
       " 212.17315673828125,\n",
       " 239.39146423339844,\n",
       " 231.4496612548828,\n",
       " 203.03175354003906,\n",
       " 218.04006958007812,\n",
       " 232.15199279785156,\n",
       " 201.18495178222656,\n",
       " 198.51478576660156,\n",
       " 174.89622497558594,\n",
       " 183.053466796875,\n",
       " 218.99066162109375,\n",
       " 255.7569122314453,\n",
       " 269.74639892578125,\n",
       " 234.14773559570312,\n",
       " 225.2645721435547,\n",
       " 247.48223876953125,\n",
       " 239.246337890625,\n",
       " 210.46742248535156,\n",
       " 242.7617950439453,\n",
       " 192.0988311767578,\n",
       " 232.24351501464844,\n",
       " 239.8237762451172,\n",
       " 208.5657196044922,\n",
       " 205.82640075683594,\n",
       " 237.66671752929688,\n",
       " 252.20050048828125,\n",
       " 216.49832153320312,\n",
       " 264.6036682128906,\n",
       " 238.64309692382812,\n",
       " 202.5886688232422,\n",
       " 202.5731964111328,\n",
       " 225.15643310546875,\n",
       " 225.83399963378906,\n",
       " 204.9307403564453,\n",
       " 205.876708984375,\n",
       " 198.07521057128906,\n",
       " 245.22845458984375,\n",
       " 240.48886108398438,\n",
       " 223.46798706054688,\n",
       " 231.57962036132812,\n",
       " 190.1931915283203,\n",
       " 242.9647216796875,\n",
       " 185.3214569091797,\n",
       " 199.17308044433594,\n",
       " 202.8098907470703,\n",
       " 223.48179626464844,\n",
       " 172.51109313964844,\n",
       " 241.35696411132812,\n",
       " 235.10235595703125,\n",
       " 241.58335876464844,\n",
       " 232.37448120117188,\n",
       " 182.49925231933594,\n",
       " 217.39215087890625,\n",
       " 270.7950439453125,\n",
       " 228.13108825683594,\n",
       " 199.51771545410156,\n",
       " 239.53460693359375,\n",
       " 224.12753295898438,\n",
       " 224.35899353027344,\n",
       " 245.8240966796875,\n",
       " 193.4451141357422,\n",
       " 199.4900665283203,\n",
       " 222.5419921875,\n",
       " 178.5201873779297,\n",
       " 237.85682678222656,\n",
       " 240.646484375,\n",
       " 216.00021362304688,\n",
       " 196.727294921875,\n",
       " 208.65370178222656,\n",
       " 226.45376586914062,\n",
       " 266.3568115234375,\n",
       " 174.76861572265625,\n",
       " 202.0746612548828,\n",
       " 221.56494140625,\n",
       " 205.65347290039062,\n",
       " 229.39840698242188,\n",
       " 202.25083923339844,\n",
       " 221.4125213623047,\n",
       " 232.58966064453125,\n",
       " 234.4071807861328,\n",
       " 237.1343536376953,\n",
       " 212.5072784423828,\n",
       " 227.82037353515625,\n",
       " 228.52964782714844,\n",
       " 212.10096740722656,\n",
       " 209.65003967285156,\n",
       " 238.53836059570312,\n",
       " 231.79318237304688,\n",
       " 214.3806915283203,\n",
       " 200.2030792236328,\n",
       " 200.0677947998047,\n",
       " 232.42156982421875,\n",
       " 248.9487762451172,\n",
       " 199.28335571289062,\n",
       " 252.17298889160156,\n",
       " 246.81057739257812,\n",
       " 213.1832733154297,\n",
       " 217.41123962402344,\n",
       " 225.4569091796875,\n",
       " 222.6348419189453,\n",
       " 201.01171875,\n",
       " 193.48849487304688,\n",
       " 220.2498321533203,\n",
       " 228.20619201660156,\n",
       " 195.9110870361328,\n",
       " 221.47808837890625,\n",
       " 252.1248779296875,\n",
       " 231.83523559570312,\n",
       " 176.61268615722656,\n",
       " 222.15635681152344,\n",
       " 161.13406372070312,\n",
       " 183.47021484375,\n",
       " 197.63729858398438,\n",
       " 247.77389526367188,\n",
       " 241.24832153320312,\n",
       " 220.2257537841797,\n",
       " 242.08538818359375,\n",
       " 218.44656372070312,\n",
       " 182.51144409179688,\n",
       " 224.57569885253906,\n",
       " 219.69581604003906]"
      ]
     },
     "execution_count": 182,
     "metadata": {},
     "output_type": "execute_result"
    }
   ],
   "source": [
    "losses"
   ]
  },
  {
   "cell_type": "code",
   "execution_count": 183,
   "metadata": {},
   "outputs": [
    {
     "data": {
      "text/plain": [
       "[<matplotlib.lines.Line2D at 0x1b73c8154f0>]"
      ]
     },
     "execution_count": 183,
     "metadata": {},
     "output_type": "execute_result"
    },
    {
     "data": {
      "image/png": "[encoded data removed]",
      "text/plain": [
       "<Figure size 432x288 with 1 Axes>"
      ]
     },
     "metadata": {
      "needs_background": "light"
     },
     "output_type": "display_data"
    }
   ],
   "source": [
    "plt.plot(losses[:])"
   ]
  },
  {
   "cell_type": "code",
   "execution_count": 184,
   "metadata": {},
   "outputs": [
    {
     "data": {
      "text/plain": [
       "torch.Size([20, 50, 6])"
      ]
     },
     "execution_count": 184,
     "metadata": {},
     "output_type": "execute_result"
    }
   ],
   "source": [
    " torchsde.sdeint(sde, Θ_0, ts, method=\"euler\", dt=Δt).shape"
   ]
  },
  {
   "cell_type": "code",
   "execution_count": 185,
   "metadata": {},
   "outputs": [
    {
     "data": {
      "text/plain": [
       "torch.Size([80, 2])"
      ]
     },
     "execution_count": 185,
     "metadata": {},
     "output_type": "execute_result"
    }
   ],
   "source": [
    "X_train.shape"
   ]
  },
  {
   "cell_type": "code",
   "execution_count": 186,
   "metadata": {},
   "outputs": [],
   "source": [
    "Θ_1 = torchsde.sdeint(sde, Θ_0, ts, dt=Δt)[-1,...]"
   ]
  },
  {
   "cell_type": "code",
   "execution_count": 187,
   "metadata": {},
   "outputs": [],
   "source": [
    "Θ_1 = Θ_1.reshape(50,3,2)"
   ]
  },
  {
   "cell_type": "code",
   "execution_count": 188,
   "metadata": {},
   "outputs": [
    {
     "data": {
      "text/plain": [
       "(array([ 5., 18., 19.,  8., 10., 16., 19., 31., 18.,  6.]),\n",
       " array([-2.22229   , -1.8334546 , -1.4446192 , -1.0557837 , -0.6669484 ,\n",
       "        -0.27811295,  0.11072247,  0.49955788,  0.8883933 ,  1.2772287 ,\n",
       "         1.6660641 ], dtype=float32),\n",
       " <a list of 10 Patch objects>)"
      ]
     },
     "execution_count": 188,
     "metadata": {},
     "output_type": "execute_result"
    },
    {
     "data": {
      "image/png": "[encoded data removed]",
      "text/plain": [
       "<Figure size 432x288 with 2 Axes>"
      ]
     },
     "metadata": {
      "needs_background": "light"
     },
     "output_type": "display_data"
    }
   ],
   "source": [
    "fig, (ax1,ax2) = plt.subplots(1,2)\n",
    "\n",
    "ax1.hist(Θ_1[:,:,0].flatten().cpu().detach().numpy())\n",
    "ax2.hist(Θ_1[:,:,1].flatten().cpu().detach().numpy())"
   ]
  },
  {
   "cell_type": "code",
   "execution_count": 189,
   "metadata": {},
   "outputs": [
    {
     "data": {
      "text/plain": [
       "tensor([[-0.3957,  0.1736],\n",
       "        [-1.1756, -1.3836],\n",
       "        [ 1.0003,  0.7741]], device='cuda:0', grad_fn=<ViewBackward>)"
      ]
     },
     "execution_count": 189,
     "metadata": {},
     "output_type": "execute_result"
    }
   ],
   "source": [
    "Θ_1.mean(axis=0).reshape(3,2)"
   ]
  },
  {
   "cell_type": "code",
   "execution_count": 190,
   "metadata": {},
   "outputs": [
    {
     "data": {
      "text/plain": [
       "torch.Size([50, 3, 2])"
      ]
     },
     "execution_count": 190,
     "metadata": {},
     "output_type": "execute_result"
    }
   ],
   "source": [
    "Θ_1.shape"
   ]
  },
  {
   "cell_type": "code",
   "execution_count": 191,
   "metadata": {},
   "outputs": [
    {
     "data": {
      "image/png": "[encoded data removed]",
      "text/plain": [
       "<Figure size 1152x432 with 1 Axes>"
      ]
     },
     "metadata": {
      "needs_background": "light"
     },
     "output_type": "display_data"
    }
   ],
   "source": [
    "fig, ax_1 = plt.subplots(1, 1, figsize=(16, 6))\n",
    "Θ_plot = Θ_1.cpu().detach() #.reshape(50*3,2)\n",
    "\n",
    "\n",
    "for i in range(3):\n",
    "    ax_1.plot(Θ_plot[:,i, 0], Θ_plot[:, i, 1], \n",
    "             linestyle='none', \n",
    "             marker='o', color=\"red\", label=\"posterior $\\mu$ samples\")\n",
    "\n",
    "ax_1.plot(X_scaled[:, 0], X_scaled[:, 1], \n",
    "         linestyle='none', \n",
    "         marker='o', label=\"Observations $X$\")\n",
    "\n",
    "ax_1.legend()\n",
    "ax_1.axis('equal');"
   ]
  },
  {
   "cell_type": "markdown",
   "metadata": {},
   "source": [
    "## MAP Baseline\n",
    "\n",
    "We run the point estimate approximation (Maximum a posteriori) to double check what the learned weights look like.  We get the  exact same training accuracy as with the controlled model and similarly large weights for the non bias weights. "
   ]
  },
  {
   "cell_type": "code",
   "execution_count": 22,
   "metadata": {},
   "outputs": [
    {
     "data": {
      "application/vnd.jupyter.widget-view+json": {
       "model_id": "0b020534120e43338eed0cb71250bbc3",
       "version_major": 2,
       "version_minor": 0
      },
      "text/plain": [
       "  0%|          | 0/1000 [00:00<?, ?it/s]"
      ]
     },
     "metadata": {},
     "output_type": "display_data"
    },
    {
     "ename": "RuntimeError",
     "evalue": "Expected all tensors to be on the same device, but found at least two devices, cuda:0 and cpu! (when checking arugment for argument mat2 in method wrapper_mm)",
     "output_type": "error",
     "traceback": [
      "\u001b[0;31m---------------------------------------------------------------------------\u001b[0m",
      "\u001b[0;31mRuntimeError\u001b[0m                              Traceback (most recent call last)",
      "\u001b[0;32m/tmp/ipykernel_15490/2703831245.py\u001b[0m in \u001b[0;36m<module>\u001b[0;34m\u001b[0m\n\u001b[1;32m     18\u001b[0m         \u001b[0mlosses_map\u001b[0m\u001b[0;34m.\u001b[0m\u001b[0mappend\u001b[0m\u001b[0;34m(\u001b[0m\u001b[0mclosure_map\u001b[0m\u001b[0;34m(\u001b[0m\u001b[0;34m)\u001b[0m\u001b[0;34m.\u001b[0m\u001b[0mitem\u001b[0m\u001b[0;34m(\u001b[0m\u001b[0;34m)\u001b[0m\u001b[0;34m)\u001b[0m\u001b[0;34m\u001b[0m\u001b[0;34m\u001b[0m\u001b[0m\n\u001b[1;32m     19\u001b[0m     \u001b[0;32melse\u001b[0m\u001b[0;34m:\u001b[0m\u001b[0;34m\u001b[0m\u001b[0;34m\u001b[0m\u001b[0m\n\u001b[0;32m---> 20\u001b[0;31m         \u001b[0mloss_map\u001b[0m \u001b[0;34m=\u001b[0m \u001b[0;34m-\u001b[0m\u001b[0;34m(\u001b[0m\u001b[0mlog_likelihood_vmap\u001b[0m\u001b[0;34m(\u001b[0m\u001b[0mΘ_map\u001b[0m\u001b[0;34m,\u001b[0m \u001b[0;34m(\u001b[0m\u001b[0mX_train\u001b[0m\u001b[0;34m)\u001b[0m\u001b[0;34m.\u001b[0m\u001b[0mfloat\u001b[0m\u001b[0;34m(\u001b[0m\u001b[0;34m)\u001b[0m\u001b[0;34m,\u001b[0m \u001b[0;34m(\u001b[0m\u001b[0my_train\u001b[0m\u001b[0;34m)\u001b[0m\u001b[0;34m.\u001b[0m\u001b[0mfloat\u001b[0m\u001b[0;34m(\u001b[0m\u001b[0;34m)\u001b[0m\u001b[0;34m)\u001b[0m \u001b[0;34m+\u001b[0m \u001b[0mgaussian_prior\u001b[0m\u001b[0;34m(\u001b[0m\u001b[0mΘ_map\u001b[0m\u001b[0;34m)\u001b[0m\u001b[0;34m)\u001b[0m\u001b[0;34m\u001b[0m\u001b[0;34m\u001b[0m\u001b[0m\n\u001b[0m\u001b[1;32m     21\u001b[0m         \u001b[0moptimizer_map\u001b[0m\u001b[0;34m.\u001b[0m\u001b[0mzero_grad\u001b[0m\u001b[0;34m(\u001b[0m\u001b[0;34m)\u001b[0m\u001b[0;34m\u001b[0m\u001b[0;34m\u001b[0m\u001b[0m\n\u001b[1;32m     22\u001b[0m         \u001b[0mloss_map\u001b[0m\u001b[0;34m.\u001b[0m\u001b[0mbackward\u001b[0m\u001b[0;34m(\u001b[0m\u001b[0;34m)\u001b[0m\u001b[0;34m\u001b[0m\u001b[0;34m\u001b[0m\u001b[0m\n",
      "\u001b[0;32m/tmp/ipykernel_15490/296078900.py\u001b[0m in \u001b[0;36mlog_likelihood_vmap\u001b[0;34m(Θ, X, y)\u001b[0m\n\u001b[1;32m     36\u001b[0m     \"\"\"\n\u001b[1;32m     37\u001b[0m \u001b[0;31m#     import pdb; pdb.set_trace()\u001b[0m\u001b[0;34m\u001b[0m\u001b[0;34m\u001b[0m\u001b[0;34m\u001b[0m\u001b[0m\n\u001b[0;32m---> 38\u001b[0;31m     \u001b[0mlogits\u001b[0m \u001b[0;34m=\u001b[0m \u001b[0mX\u001b[0m\u001b[0;34m.\u001b[0m\u001b[0mmm\u001b[0m\u001b[0;34m(\u001b[0m\u001b[0mΘ\u001b[0m\u001b[0;34m.\u001b[0m\u001b[0mT\u001b[0m\u001b[0;34m)\u001b[0m\u001b[0;34m\u001b[0m\u001b[0;34m\u001b[0m\u001b[0m\n\u001b[0m\u001b[1;32m     39\u001b[0m \u001b[0;34m\u001b[0m\u001b[0m\n\u001b[1;32m     40\u001b[0m     \u001b[0mpos_weights\u001b[0m \u001b[0;34m=\u001b[0m \u001b[0mtorch\u001b[0m\u001b[0;34m.\u001b[0m\u001b[0mones\u001b[0m\u001b[0;34m(\u001b[0m\u001b[0mlogits\u001b[0m\u001b[0;34m.\u001b[0m\u001b[0mshape\u001b[0m\u001b[0;34m[\u001b[0m\u001b[0;36m0\u001b[0m\u001b[0;34m]\u001b[0m\u001b[0;34m,\u001b[0m \u001b[0mdevice\u001b[0m\u001b[0;34m=\u001b[0m\u001b[0mdevice\u001b[0m\u001b[0;34m)\u001b[0m\u001b[0;34m\u001b[0m\u001b[0;34m\u001b[0m\u001b[0m\n",
      "\u001b[0;31mRuntimeError\u001b[0m: Expected all tensors to be on the same device, but found at least two devices, cuda:0 and cpu! (when checking arugment for argument mat2 in method wrapper_mm)"
     ]
    }
   ],
   "source": [
    "Θ_map = torch.full((1, dim), 0.0, requires_grad=True)  \n",
    "optimizer_map = torch.optim.Adam([Θ_map], lr=0.05)\n",
    "#     optimizer = torch.optim.LBFGS(gpr.parameters(), lr=0.01)\n",
    "\n",
    "losses_map = []\n",
    "num_steps = 1000\n",
    "for i in tqdm(range(num_steps)):\n",
    "    optimizer.zero_grad()\n",
    "\n",
    "    if isinstance(optimizer_map, torch.optim.LBFGS):\n",
    "        def closure_map():\n",
    "            loss_map = log_likelihood_vmap()\n",
    "            optimizer_map.zero_grad()\n",
    "            loss_map.backward()\n",
    "            return loss\n",
    "\n",
    "        optimizer_map.step(closure_map)\n",
    "        losses_map.append(closure_map().item())\n",
    "    else:\n",
    "        loss_map = -(log_likelihood_vmap(Θ_map, (X_train).float(), (y_train).float()) + gaussian_prior(Θ_map))\n",
    "        optimizer_map.zero_grad()\n",
    "        loss_map.backward()\n",
    "\n",
    "        optimizer_map.step()\n",
    "        losses_map.append(loss.item())\n",
    "\n",
    "Θ_map\n",
    "pred_map = torch.sigmoid(X_train.float().mm(Θ_map.T)).mean(axis=1)\n",
    "((pred_map < 0.5).float() == y_train).float().mean(), Θ_map"
   ]
  }
 ],
 "metadata": {
  "kernelspec": {
   "display_name": "Python 3",
   "language": "python",
   "name": "python3"
  },
  "language_info": {
   "codemirror_mode": {
    "name": "ipython",
    "version": 3
   },
   "file_extension": ".py",
   "mimetype": "text/x-python",
   "name": "python",
   "nbconvert_exporter": "python",
   "pygments_lexer": "ipython3",
   "version": "3.8.5"
  },
  "toc": {
   "base_numbering": 1,
   "nav_menu": {},
   "number_sections": true,
   "sideBar": true,
   "skip_h1_title": false,
   "title_cell": "Table of Contents",
   "title_sidebar": "Contents",
   "toc_cell": false,
   "toc_position": {},
   "toc_section_display": true,
   "toc_window_display": false
  }
 },
 "nbformat": 4,
 "nbformat_minor": 4
}
