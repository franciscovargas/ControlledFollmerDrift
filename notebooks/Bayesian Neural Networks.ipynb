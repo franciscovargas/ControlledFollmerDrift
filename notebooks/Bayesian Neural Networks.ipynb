{
 "cells": [
  {
   "cell_type": "code",
   "execution_count": 1,
   "id": "6c0fff5b",
   "metadata": {},
   "outputs": [],
   "source": [
    "import torch\n",
    "import torch.nn.functional as F\n",
    "import torchsde\n",
    "\n",
    "from torchvision import datasets, transforms\n",
    "\n",
    "import math\n",
    "import numpy as np\n",
    "import pandas as pd\n",
    "from tqdm import tqdm\n",
    "\n",
    "from torchvision.transforms import ToTensor\n",
    "from torch.utils.data import DataLoader\n",
    "import functorch\n",
    "\n",
    "import gc\n",
    "\n",
    "import matplotlib.pyplot as plt\n",
    "\n",
    "from cfollmer.evaluation_utils import ECE\n",
    "import cfollmer.functional as functional\n",
    "from cfollmer.objectives import relative_entropy_control_cost\n",
    "from cfollmer.drifts import SimpleForwardNetBN\n",
    "from cfollmer.sampler_utils import FollmerSDE"
   ]
  },
  {
   "cell_type": "code",
   "execution_count": 2,
   "id": "09bc5592",
   "metadata": {},
   "outputs": [],
   "source": [
    "device = \"cuda\" if torch.cuda.is_available() else \"cpu\""
   ]
  },
  {
   "cell_type": "code",
   "execution_count": 3,
   "id": "a9ef7a8b",
   "metadata": {},
   "outputs": [],
   "source": [
    "class LeNet5(torch.nn.Module):\n",
    "\n",
    "    def __init__(self, n_classes):\n",
    "        super(LeNet5, self).__init__()\n",
    "        \n",
    "        self.feature_extractor = torch.nn.Sequential(\n",
    "            torch.nn.Conv2d(in_channels=1, out_channels=6, kernel_size=5, stride=1),\n",
    "            torch.nn.Tanh(),\n",
    "            torch.nn.AvgPool2d(kernel_size=2),\n",
    "            torch.nn.Conv2d(in_channels=6, out_channels=16, kernel_size=5, stride=1),\n",
    "            torch.nn.Tanh(),\n",
    "            torch.nn.AvgPool2d(kernel_size=2),\n",
    "        )\n",
    "\n",
    "        self.classifier = torch.nn.Sequential(\n",
    "            torch.nn.Linear(in_features=256, out_features=120),\n",
    "            torch.nn.Tanh(),\n",
    "            torch.nn.Linear(in_features=120, out_features=84),\n",
    "            torch.nn.Tanh(),\n",
    "            torch.nn.Linear(in_features=84, out_features=n_classes),\n",
    "        )\n",
    "\n",
    "    def forward(self, x):\n",
    "        x = self.feature_extractor(x)\n",
    "        x = torch.flatten(x, 1)\n",
    "        logits = self.classifier(x)\n",
    "        return logits"
   ]
  },
  {
   "cell_type": "code",
   "execution_count": 4,
   "id": "61102c04",
   "metadata": {},
   "outputs": [],
   "source": [
    "MNIST_train = datasets.MNIST(\"../data/mnist/\", download=True, transform=ToTensor(), train=True)\n",
    "MNIST_test = datasets.MNIST(\"../data/mnist/\", download=True, transform=ToTensor(), train=False)\n",
    "\n",
    "N_train = len(MNIST_train)\n",
    "N_test = len(MNIST_test)"
   ]
  },
  {
   "cell_type": "code",
   "execution_count": 5,
   "id": "3621ad82",
   "metadata": {},
   "outputs": [],
   "source": [
    "model = LeNet5(10).to(device)\n",
    "func_model, params = functorch.make_functional(model)\n",
    "size_list = functional.params_to_size_tuples(params)\n",
    "dim = functional.get_number_of_params(size_list)\n",
    "  \n",
    "sigma2 = 0.1\n",
    "\n",
    "def log_prior(params):\n",
    "    return -torch.sum(params**2) / (2 * sigma2)\n",
    "\n",
    "def log_likelihood(x, y, params):\n",
    "    preds = func_model(functional.get_params_from_array(params, size_list), x)\n",
    "    return -F.cross_entropy(preds, y, reduction=\"sum\")\n",
    "\n",
    "def log_likelihood_batch(x, y, params_batch):\n",
    "    func = lambda params: log_likelihood(x, y, params)\n",
    "    func = functorch.vmap(func)\n",
    "    return func(params_batch)\n",
    "\n",
    "def log_posterior(x, y, params):\n",
    "    return log_prior(params) + (N_train / x.shape[0]) * log_likelihood(x, y, params)\n",
    "\n",
    "def log_posterior_batch(x, y, params_batch):\n",
    "    func = lambda params: log_posterior(x, y, params)\n",
    "    func = functorch.vmap(func)\n",
    "    return func(params_batch)"
   ]
  },
  {
   "cell_type": "code",
   "execution_count": 6,
   "id": "972ebb4c",
   "metadata": {},
   "outputs": [],
   "source": [
    "def train(gamma, n_epochs, data_batch_size, param_batch_size, dt=0.05):\n",
    "    sde = FollmerSDE(gamma, SimpleForwardNetBN(input_dim=dim, width=300)).to(device)\n",
    "    optimizer = torch.optim.Adam(sde.parameters(), lr=1e-5)\n",
    "    \n",
    "    dataloader_train = DataLoader(MNIST_train, shuffle=True, batch_size=data_batch_size, num_workers=2)\n",
    "\n",
    "    losses = []\n",
    "\n",
    "    for _ in range(n_epochs):\n",
    "        epoch_losses = []\n",
    "        for x, y in tqdm(iter(dataloader_train)):\n",
    "            x = x.to(device)\n",
    "            y = y.to(device)\n",
    "            \n",
    "            optimizer.zero_grad()\n",
    "        \n",
    "            partial_log_p = lambda params_batch: log_posterior_batch(x, y, params_batch)\n",
    "            \n",
    "            loss = relative_entropy_control_cost(sde, partial_log_p, param_batch_size=param_batch_size, dt=dt, device=device)\n",
    "            loss.backward()\n",
    "\n",
    "            epoch_losses.append(loss.detach().cpu().numpy())\n",
    "            optimizer.step()\n",
    "            \n",
    "        #  Memory leaks somewhere with sdeint / param_T = param_trajectory[-1]\n",
    "        gc.collect()\n",
    "\n",
    "        losses.append(epoch_losses)\n",
    "    \n",
    "    losses = np.array(losses)\n",
    "    \n",
    "    return sde, losses"
   ]
  },
  {
   "cell_type": "code",
   "execution_count": 7,
   "id": "02c94298",
   "metadata": {},
   "outputs": [],
   "source": [
    "gamma = 0.1**2\n",
    "n_epochs = 10\n",
    "data_batch_size = 32\n",
    "param_batch_size = 32"
   ]
  },
  {
   "cell_type": "code",
   "execution_count": 8,
   "id": "bdf9aa3a",
   "metadata": {},
   "outputs": [
    {
     "name": "stderr",
     "output_type": "stream",
     "text": [
      "  0%|                                                                       | 0/1875 [00:00<?, ?it/s]/home/ao464@ad.eng.cam.ac.uk/repos/ControlledFollmerDrift/env/lib/python3.8/site-packages/torch/nn/functional.py:2384: UserWarning: There is a performance drop because we have not yet implemented the batching rule for aten::batch_norm. Please file us an issue on GitHub so that we can prioritize its implementation. (Triggered internally at  /tmp/pip-req-build-b9xxrrfi/functorch/csrc/BatchedFallback.cpp:106.)\n",
      "  return torch.batch_norm(\n",
      "/home/ao464@ad.eng.cam.ac.uk/repos/ControlledFollmerDrift/env/lib/python3.8/site-packages/torch/nn/functional.py:2948: UserWarning: There is a performance drop because we have not yet implemented the batching rule for aten::cross_entropy_loss. Please file us an issue on GitHub so that we can prioritize its implementation. (Triggered internally at  /tmp/pip-req-build-b9xxrrfi/functorch/csrc/BatchedFallback.cpp:106.)\n",
      "  return torch._C._nn.cross_entropy_loss(input, target, weight, _Reduction.get_enum(reduction), ignore_index, label_smoothing)\n",
      "100%|████████████████████████████████████████████████████████████| 1875/1875 [01:49<00:00, 17.15it/s]\n",
      "100%|████████████████████████████████████████████████████████████| 1875/1875 [01:48<00:00, 17.35it/s]\n",
      "100%|████████████████████████████████████████████████████████████| 1875/1875 [01:47<00:00, 17.38it/s]\n",
      "100%|████████████████████████████████████████████████████████████| 1875/1875 [01:50<00:00, 17.01it/s]\n",
      "100%|████████████████████████████████████████████████████████████| 1875/1875 [01:48<00:00, 17.31it/s]\n",
      "100%|████████████████████████████████████████████████████████████| 1875/1875 [01:48<00:00, 17.30it/s]\n",
      "100%|████████████████████████████████████████████████████████████| 1875/1875 [01:48<00:00, 17.24it/s]\n",
      "100%|████████████████████████████████████████████████████████████| 1875/1875 [01:48<00:00, 17.32it/s]\n",
      "100%|████████████████████████████████████████████████████████████| 1875/1875 [01:48<00:00, 17.34it/s]\n",
      "100%|████████████████████████████████████████████████████████████| 1875/1875 [01:47<00:00, 17.38it/s]\n"
     ]
    }
   ],
   "source": [
    "sde, losses = train(gamma, n_epochs, data_batch_size, param_batch_size, dt=0.05)"
   ]
  },
  {
   "cell_type": "code",
   "execution_count": 9,
   "id": "f29e2a99",
   "metadata": {},
   "outputs": [
    {
     "data": {
      "text/plain": [
       "[<matplotlib.lines.Line2D at 0x7f6c3c8ed2b0>]"
      ]
     },
     "execution_count": 9,
     "metadata": {},
     "output_type": "execute_result"
    },
    {
     "data": {
      "image/png": "[encoded data removed]",
      "text/plain": [
       "<Figure size 432x288 with 1 Axes>"
      ]
     },
     "metadata": {
      "needs_background": "light"
     },
     "output_type": "display_data"
    }
   ],
   "source": [
    "plt.plot(losses.flatten())"
   ]
  },
  {
   "cell_type": "code",
   "execution_count": 13,
   "id": "bcedd78a",
   "metadata": {},
   "outputs": [],
   "source": [
    "torch.save(sde.state_dict(), \"weights/bnn/weights.pt\")"
   ]
  },
  {
   "cell_type": "code",
   "execution_count": 8,
   "id": "862d87d0",
   "metadata": {},
   "outputs": [
    {
     "data": {
      "text/plain": [
       "<All keys matched successfully>"
      ]
     },
     "execution_count": 8,
     "metadata": {},
     "output_type": "execute_result"
    }
   ],
   "source": [
    "sde = FollmerSDE(gamma, SimpleForwardNetBN(input_dim=dim, width=300)).to(device)\n",
    "sde.load_state_dict(torch.load(\"weights/bnn/weights.pt\"))"
   ]
  },
  {
   "cell_type": "code",
   "execution_count": 25,
   "id": "6fd5a391",
   "metadata": {},
   "outputs": [],
   "source": [
    "with torch.no_grad():\n",
    "    param_samples = sde.sample(100, dt=0.005, device=device)"
   ]
  },
  {
   "cell_type": "code",
   "execution_count": 23,
   "id": "f0240df1",
   "metadata": {},
   "outputs": [],
   "source": [
    "def evaluate(param_samples):\n",
    "    dataloader_test = DataLoader(MNIST_test, shuffle=False, batch_size=data_batch_size, num_workers=2)\n",
    "    \n",
    "    all_predictions = []\n",
    "    all_confidences = []\n",
    "    all_logps = []\n",
    "    \n",
    "    for x, y in tqdm(iter(dataloader_test)):\n",
    "        with torch.no_grad():\n",
    "            x = x.to(device)\n",
    "            y = y.to(device)\n",
    "            \n",
    "            predict_func = lambda params : func_model(functional.get_params_from_array(params, size_list), x)\n",
    "            predict_func = functorch.vmap(predict_func)\n",
    "\n",
    "            out = F.softmax(predict_func(param_samples), dim=-1)\n",
    "            out = torch.mean(out, dim=0)\n",
    "            \n",
    "            confidences, predictions = torch.max(out, dim=1)\n",
    "\n",
    "            all_predictions.append(predictions)\n",
    "            all_confidences.append(confidences)\n",
    "            \n",
    "            all_logps.append(torch.mean(log_likelihood_batch(x, y, param_samples)))\n",
    "    \n",
    "    all_predictions = torch.hstack(all_predictions).cpu().numpy()\n",
    "    all_confidences = torch.hstack(all_confidences).cpu().numpy()\n",
    "    true_labels = MNIST_test.targets.numpy()\n",
    "    \n",
    "    accuracy = np.mean(all_predictions == true_labels)\n",
    "    ece = ECE(all_confidences, all_predictions, true_labels)\n",
    "    \n",
    "    logp = torch.sum(torch.stack(all_logps)) / N_test\n",
    "    return accuracy, ece, logp"
   ]
  },
  {
   "cell_type": "code",
   "execution_count": 26,
   "id": "e2b1e401",
   "metadata": {},
   "outputs": [
    {
     "name": "stderr",
     "output_type": "stream",
     "text": [
      "100%|█████████████████████████████████████████████████████████████| 313/313 [00:01<00:00, 278.53it/s]\n"
     ]
    },
    {
     "data": {
      "text/plain": [
       "(0.9848, 0.011085429644584713, tensor(-0.0783, device='cuda:0'))"
      ]
     },
     "execution_count": 26,
     "metadata": {},
     "output_type": "execute_result"
    }
   ],
   "source": [
    "evaluate(param_samples)"
   ]
  },
  {
   "cell_type": "markdown",
   "id": "2d2bd6b0",
   "metadata": {},
   "source": [
    "SGLD from here onwards"
   ]
  },
  {
   "cell_type": "code",
   "execution_count": 27,
   "id": "4b3951b7",
   "metadata": {},
   "outputs": [],
   "source": [
    "@torch.enable_grad()\n",
    "def gradient(x, y, params):\n",
    "    params_ = params.clone().requires_grad_(True)\n",
    "    loss = log_posterior(x, y, params_)\n",
    "    grad, = torch.autograd.grad(loss, params_)\n",
    "    return loss.detach().cpu().numpy(), grad"
   ]
  },
  {
   "cell_type": "code",
   "execution_count": 28,
   "id": "c02ee943",
   "metadata": {},
   "outputs": [],
   "source": [
    "def step_size(n):\n",
    "    return 0.0001 / (1 + n)**0.5"
   ]
  },
  {
   "cell_type": "code",
   "execution_count": 29,
   "id": "20add51c",
   "metadata": {},
   "outputs": [],
   "source": [
    "def sgld(n_epochs, data_batch_size):\n",
    "    dataloader_train = DataLoader(MNIST_train, shuffle=True, batch_size=data_batch_size, num_workers=2)\n",
    "    params = torch.zeros(dim).float().to(device)\n",
    "    losses = []\n",
    "    step = 0\n",
    "    for _ in range(n_epochs):\n",
    "        epoch_losses = []\n",
    "        for x, y in tqdm(iter(dataloader_train)):\n",
    "            x = x.to(device)\n",
    "            y = y.to(device)\n",
    "\n",
    "            eps = step_size(step)\n",
    "            loss, grad = gradient(x, y, params)\n",
    "            params = params + 0.5 * eps * grad + np.sqrt(eps) * torch.randn_like(params)\n",
    "            step += 1\n",
    "            epoch_losses.append(loss)\n",
    "        \n",
    "        losses.append(epoch_losses)\n",
    "    \n",
    "    param_samples = []\n",
    "    \n",
    "    iterator = iter(dataloader_train)\n",
    "    for _ in range(100):\n",
    "        x = x.to(device)\n",
    "        y = y.to(device)\n",
    "        \n",
    "        eps = step_size(step)\n",
    "        loss, grad = gradient(x, y, params)\n",
    "        params = params + 0.5 * eps * grad + np.sqrt(eps) * torch.randn_like(params)\n",
    "        param_samples.append(params)\n",
    "        step += 1\n",
    "        \n",
    "    param_samples = torch.stack(param_samples)\n",
    "    losses = np.array(losses)\n",
    "    \n",
    "    return param_samples, losses"
   ]
  },
  {
   "cell_type": "code",
   "execution_count": 30,
   "id": "bf20d04d",
   "metadata": {},
   "outputs": [
    {
     "name": "stderr",
     "output_type": "stream",
     "text": [
      "100%|███████████████████████████████████████████████████████████| 1875/1875 [00:03<00:00, 575.61it/s]\n",
      "100%|███████████████████████████████████████████████████████████| 1875/1875 [00:03<00:00, 587.35it/s]\n",
      "100%|███████████████████████████████████████████████████████████| 1875/1875 [00:03<00:00, 566.05it/s]\n",
      "100%|███████████████████████████████████████████████████████████| 1875/1875 [00:03<00:00, 559.74it/s]\n",
      "100%|███████████████████████████████████████████████████████████| 1875/1875 [00:03<00:00, 551.73it/s]\n",
      "100%|███████████████████████████████████████████████████████████| 1875/1875 [00:03<00:00, 564.16it/s]\n",
      "100%|███████████████████████████████████████████████████████████| 1875/1875 [00:03<00:00, 568.30it/s]\n",
      "100%|███████████████████████████████████████████████████████████| 1875/1875 [00:03<00:00, 551.99it/s]\n",
      "100%|███████████████████████████████████████████████████████████| 1875/1875 [00:03<00:00, 550.29it/s]\n",
      "100%|███████████████████████████████████████████████████████████| 1875/1875 [00:03<00:00, 573.05it/s]\n"
     ]
    }
   ],
   "source": [
    "param_samples, losses = sgld(n_epochs, data_batch_size)"
   ]
  },
  {
   "cell_type": "code",
   "execution_count": 31,
   "id": "9d05eec8",
   "metadata": {},
   "outputs": [
    {
     "name": "stderr",
     "output_type": "stream",
     "text": [
      "100%|█████████████████████████████████████████████████████████████| 313/313 [00:01<00:00, 271.43it/s]\n"
     ]
    },
    {
     "data": {
      "text/plain": [
       "(0.9836, 0.0036015408515930724, tensor(-0.0530, device='cuda:0'))"
      ]
     },
     "execution_count": 31,
     "metadata": {},
     "output_type": "execute_result"
    }
   ],
   "source": [
    "evaluate(param_samples)"
   ]
  },
  {
   "cell_type": "code",
   "execution_count": 32,
   "id": "1c8a70f1",
   "metadata": {},
   "outputs": [
    {
     "data": {
      "text/plain": [
       "[<matplotlib.lines.Line2D at 0x7f75ac8b6c10>]"
      ]
     },
     "execution_count": 32,
     "metadata": {},
     "output_type": "execute_result"
    },
    {
     "data": {
      "image/png": "[encoded data removed]",
      "text/plain": [
       "<Figure size 432x288 with 1 Axes>"
      ]
     },
     "metadata": {
      "needs_background": "light"
     },
     "output_type": "display_data"
    }
   ],
   "source": [
    "plt.plot(losses.flatten())"
   ]
  }
 ],
 "metadata": {
  "kernelspec": {
   "display_name": "cfollmer-env",
   "language": "python",
   "name": "cfollmer-env"
  },
  "language_info": {
   "codemirror_mode": {
    "name": "ipython",
    "version": 3
   },
   "file_extension": ".py",
   "mimetype": "text/x-python",
   "name": "python",
   "nbconvert_exporter": "python",
   "pygments_lexer": "ipython3",
   "version": "3.8.10"
  }
 },
 "nbformat": 4,
 "nbformat_minor": 5
}
