{
 "cells": [
  {
   "cell_type": "code",
   "execution_count": 1,
   "id": "6c0fff5b",
   "metadata": {},
   "outputs": [],
   "source": [
    "import torch\n",
    "import torch.nn.functional as F\n",
    "import torchsde\n",
    "\n",
    "from torchvision import datasets, transforms\n",
    "\n",
    "import math\n",
    "import numpy as np\n",
    "from tqdm import tqdm\n",
    "\n",
    "from torchvision.transforms import ToTensor\n",
    "from torch.utils.data import DataLoader\n",
    "import functorch\n",
    "\n",
    "import matplotlib.pyplot as plt"
   ]
  },
  {
   "cell_type": "code",
   "execution_count": 38,
   "id": "c83e46ab",
   "metadata": {},
   "outputs": [],
   "source": [
    "from cfollmer.evaluation_utils import ECE"
   ]
  },
  {
   "cell_type": "code",
   "execution_count": 2,
   "id": "09bc5592",
   "metadata": {},
   "outputs": [],
   "source": [
    "device = \"cuda\" if torch.cuda.is_available() else \"cpu\""
   ]
  },
  {
   "cell_type": "code",
   "execution_count": 3,
   "id": "a9ef7a8b",
   "metadata": {},
   "outputs": [],
   "source": [
    "class LeNet5(torch.nn.Module):\n",
    "\n",
    "    def __init__(self, n_classes):\n",
    "        super(LeNet5, self).__init__()\n",
    "        \n",
    "        self.feature_extractor = torch.nn.Sequential(\n",
    "            torch.nn.Conv2d(in_channels=1, out_channels=6, kernel_size=5, stride=1),\n",
    "            torch.nn.Tanh(),\n",
    "            torch.nn.AvgPool2d(kernel_size=2),\n",
    "            torch.nn.Conv2d(in_channels=6, out_channels=16, kernel_size=5, stride=1),\n",
    "            torch.nn.Tanh(),\n",
    "            torch.nn.AvgPool2d(kernel_size=2),\n",
    "        )\n",
    "\n",
    "        self.classifier = torch.nn.Sequential(\n",
    "            torch.nn.Linear(in_features=256, out_features=120),\n",
    "            torch.nn.Tanh(),\n",
    "            torch.nn.Linear(in_features=120, out_features=84),\n",
    "            torch.nn.Tanh(),\n",
    "            torch.nn.Linear(in_features=84, out_features=n_classes),\n",
    "        )\n",
    "\n",
    "    def forward(self, x):\n",
    "        x = self.feature_extractor(x)\n",
    "        x = torch.flatten(x, 1)\n",
    "        logits = self.classifier(x)\n",
    "        return logits"
   ]
  },
  {
   "cell_type": "code",
   "execution_count": 4,
   "id": "61102c04",
   "metadata": {},
   "outputs": [],
   "source": [
    "MNIST_train = datasets.MNIST(\"../data/mnist/\", download=True, transform=ToTensor(), train=True)\n",
    "MNIST_test = datasets.MNIST(\"../data/mnist/\", download=True, transform=ToTensor(), train=False)"
   ]
  },
  {
   "cell_type": "code",
   "execution_count": 23,
   "id": "3621ad82",
   "metadata": {},
   "outputs": [],
   "source": [
    "model = LeNet5(10).to(device)\n",
    "func_model, params = functorch.make_functional(model)\n",
    "param_sizes = [p.shape for p in params]\n",
    "dim = sum([math.prod(s)for s in param_sizes])\n",
    "N = len(MNIST_train)\n",
    "\n",
    "idx_to = np.cumsum([math.prod(s) for s in param_sizes])\n",
    "idx_from = np.zeros(len(idx_to), dtype=int)\n",
    "idx_from[1:] = idx_to[:-1]\n",
    "\n",
    "def get_params_from_array(array):\n",
    "    return [array[idx_from[i]:idx_to[i]].reshape(s) for i, s in enumerate(param_sizes)]\n",
    "    \n",
    "sigma2 = 0.1\n",
    "\n",
    "def log_prior(params):\n",
    "    return -torch.sum(params**2) / (2 * sigma2)\n",
    "\n",
    "def log_likelihood(x, y, params):\n",
    "    preds = func_model(get_params_from_array(params), x)\n",
    "    return -F.cross_entropy(preds, y, reduction=\"sum\")\n",
    "\n",
    "def log_posterior(x, y, params):\n",
    "    return log_prior(params) + (N / x.shape[0]) * log_likelihood(x, y, params)\n",
    "\n",
    "def log_posterior_batch(x, y, params_batch):\n",
    "    func = lambda params: log_posterior(x, y, params)\n",
    "    func = functorch.vmap(func)\n",
    "    return func(params_batch)"
   ]
  },
  {
   "cell_type": "code",
   "execution_count": 6,
   "id": "b06be8d5",
   "metadata": {},
   "outputs": [],
   "source": [
    "class SDE(torch.nn.Module):\n",
    "    \n",
    "    def __init__(self, gamma, input_dim, width=300):\n",
    "        super().__init__()\n",
    "        activation = torch.nn.Softplus\n",
    "        \n",
    "        self.nn = torch.nn.Sequential(\n",
    "            torch.nn.Linear(input_dim + 1, width), torch.nn.BatchNorm1d(width, affine=False), activation(),\n",
    "            torch.nn.Linear(width, width), torch.nn.BatchNorm1d(width, affine=False), activation(),\n",
    "            torch.nn.Linear(width, width), torch.nn.BatchNorm1d(width, affine=False), activation(),\n",
    "            torch.nn.Linear(width, width), torch.nn.BatchNorm1d(width, affine=False), activation(),\n",
    "            torch.nn.Linear(width, input_dim)\n",
    "        )\n",
    "        \n",
    "        self.nn[-1].weight.data.fill_(0)\n",
    "        self.nn[-1].bias.data.fill_(0)\n",
    "        \n",
    "        self.noise_type = \"diagonal\"\n",
    "        self.sde_type = \"ito\"\n",
    "        \n",
    "        self.gamma = gamma\n",
    "    \n",
    "    def f(self, t, params_batch):\n",
    "        t_ = t * torch.ones((params_batch.shape[0], 1), device=params_batch.device)\n",
    "        return self.nn(torch.cat((t_, params_batch), dim=-1))\n",
    "    \n",
    "    def g(self, t, params_batch):\n",
    "        return torch.sqrt(self.gamma * torch.ones_like(params_batch))"
   ]
  },
  {
   "cell_type": "code",
   "execution_count": 7,
   "id": "02c94298",
   "metadata": {},
   "outputs": [],
   "source": [
    "gamma = 0.1**2\n",
    "sde = SDE(gamma, dim).to(device)\n",
    "\n",
    "optimizer = torch.optim.Adam(sde.parameters(), lr=1e-5)\n",
    "\n",
    "n_epochs = 10\n",
    "data_batch_size = 32\n",
    "param_batch_size = 32"
   ]
  },
  {
   "cell_type": "code",
   "execution_count": 8,
   "id": "b4f121cd",
   "metadata": {},
   "outputs": [],
   "source": [
    "dataloader_train = DataLoader(MNIST_train, shuffle=True, batch_size=data_batch_size, num_workers=2)\n",
    "dataloader_test = DataLoader(MNIST_test, shuffle=False, batch_size=data_batch_size, num_workers=2)"
   ]
  },
  {
   "cell_type": "code",
   "execution_count": 9,
   "id": "1daf00ef",
   "metadata": {},
   "outputs": [],
   "source": [
    "def loss(sde, x, y, dt=0.05):\n",
    "    n_steps = int(1.0 / dt)\n",
    "    ts = torch.linspace(0, 1, n_steps, device=device)\n",
    "    \n",
    "    param_init = torch.zeros((param_batch_size, dim), device=device)\n",
    "    param_trajectory = torchsde.sdeint(sde, param_init, ts, method=\"euler\", dt=dt)\n",
    "    param_T = param_trajectory[-1]\n",
    "    \n",
    "    fs = functorch.vmap(sde.f)(ts, param_trajectory)\n",
    "    \n",
    "    energy_cost = torch.sum(fs**2, dim=[0, 2]) * dt  / (2 * gamma)\n",
    "    terminal_cost = - torch.sum(param_T**2, dim=1) / (2 * gamma) - log_posterior_batch(x, y, param_T)\n",
    "    \n",
    "    return torch.mean(energy_cost + terminal_cost)"
   ]
  },
  {
   "cell_type": "code",
   "execution_count": 14,
   "id": "972ebb4c",
   "metadata": {},
   "outputs": [
    {
     "name": "stderr",
     "output_type": "stream",
     "text": [
      "100%|████████████████████████████████████████████████████████████| 1875/1875 [01:47<00:00, 17.38it/s]\n",
      "100%|████████████████████████████████████████████████████████████| 1875/1875 [01:49<00:00, 17.15it/s]\n",
      "100%|████████████████████████████████████████████████████████████| 1875/1875 [01:48<00:00, 17.26it/s]\n",
      "100%|████████████████████████████████████████████████████████████| 1875/1875 [01:48<00:00, 17.21it/s]\n",
      "100%|████████████████████████████████████████████████████████████| 1875/1875 [01:49<00:00, 17.19it/s]\n",
      "100%|████████████████████████████████████████████████████████████| 1875/1875 [01:50<00:00, 16.99it/s]\n",
      "100%|████████████████████████████████████████████████████████████| 1875/1875 [01:49<00:00, 17.05it/s]\n",
      "100%|████████████████████████████████████████████████████████████| 1875/1875 [01:49<00:00, 17.11it/s]\n",
      "100%|████████████████████████████████████████████████████████████| 1875/1875 [01:49<00:00, 17.14it/s]\n",
      "100%|████████████████████████████████████████████████████████████| 1875/1875 [01:49<00:00, 17.07it/s]\n"
     ]
    }
   ],
   "source": [
    "losses = []\n",
    "\n",
    "for _ in range(n_epochs):\n",
    "    epoch_losses = []\n",
    "    for x, y in tqdm(iter(dataloader_train)):\n",
    "        x = x.to(device)\n",
    "        y = y.to(device)\n",
    "        optimizer.zero_grad()\n",
    "        l = loss(sde, x, y, dt=0.05)\n",
    "        l.backward()\n",
    "        epoch_losses.append(l.detach().cpu().numpy())\n",
    "        optimizer.step()\n",
    "        \n",
    "    losses.append(epoch_losses)"
   ]
  },
  {
   "cell_type": "code",
   "execution_count": 15,
   "id": "1a8b1f2b",
   "metadata": {},
   "outputs": [],
   "source": [
    "losses = np.array(losses)"
   ]
  },
  {
   "cell_type": "code",
   "execution_count": 16,
   "id": "f29e2a99",
   "metadata": {},
   "outputs": [
    {
     "data": {
      "text/plain": [
       "[<matplotlib.lines.Line2D at 0x7f59601aafa0>]"
      ]
     },
     "execution_count": 16,
     "metadata": {},
     "output_type": "execute_result"
    },
    {
     "data": {
      "image/png": "[encoded data removed]",
      "text/plain": [
       "<Figure size 432x288 with 1 Axes>"
      ]
     },
     "metadata": {
      "needs_background": "light"
     },
     "output_type": "display_data"
    }
   ],
   "source": [
    "plt.plot(losses.flatten())"
   ]
  },
  {
   "cell_type": "code",
   "execution_count": 17,
   "id": "bcedd78a",
   "metadata": {},
   "outputs": [],
   "source": [
    "torch.save(sde.state_dict(), \"bnn_sde_0_init.pt\")"
   ]
  },
  {
   "cell_type": "code",
   "execution_count": 10,
   "id": "862d87d0",
   "metadata": {},
   "outputs": [
    {
     "data": {
      "text/plain": [
       "<All keys matched successfully>"
      ]
     },
     "execution_count": 10,
     "metadata": {},
     "output_type": "execute_result"
    }
   ],
   "source": [
    "sde.load_state_dict(torch.load(\"bnn_sde_0_init.pt\"))"
   ]
  },
  {
   "cell_type": "code",
   "execution_count": 11,
   "id": "6fd5a391",
   "metadata": {},
   "outputs": [],
   "source": [
    "with torch.no_grad():\n",
    "    dt = 0.005\n",
    "    n_steps = int(1.0 / dt)\n",
    "    ts = torch.linspace(0, 1, n_steps, device=device)\n",
    "    \n",
    "    param_init = torch.zeros((200, dim), device=device)\n",
    "    param_trajectory = torchsde.sdeint(sde, param_init, ts, method=\"euler\", dt=dt)\n",
    "    param_samples = param_trajectory[-1]"
   ]
  },
  {
   "cell_type": "code",
   "execution_count": 12,
   "id": "e2b1e401",
   "metadata": {},
   "outputs": [
    {
     "name": "stderr",
     "output_type": "stream",
     "text": [
      "100%|█████████████████████████████████████████████████████████████| 313/313 [00:00<00:00, 408.17it/s]\n"
     ]
    }
   ],
   "source": [
    "all_predictions = []\n",
    "all_confidences = []\n",
    "\n",
    "for x, y in tqdm(iter(dataloader_test)):\n",
    "    with torch.no_grad():\n",
    "        x = x.to(device)\n",
    "        y = y.to(device)\n",
    "        predict_func = lambda params : func_model(get_params_from_array(params), x)\n",
    "        predict_func = functorch.vmap(predict_func)\n",
    "        \n",
    "        out = F.softmax(predict_func(param_samples), dim=-1)\n",
    "        out = torch.mean(out, dim=0)\n",
    "        confidences, predictions = torch.max(out, dim=1)\n",
    "        \n",
    "        all_predictions.append(predictions)\n",
    "        all_confidences.append(confidences)"
   ]
  },
  {
   "cell_type": "code",
   "execution_count": 13,
   "id": "b5090fac",
   "metadata": {},
   "outputs": [],
   "source": [
    "all_predictions = torch.hstack(all_predictions).cpu().numpy()\n",
    "all_confidences = torch.hstack(all_confidences).cpu().numpy()\n",
    "true_labels = MNIST_test.targets.numpy()"
   ]
  },
  {
   "cell_type": "code",
   "execution_count": 14,
   "id": "bcd17614",
   "metadata": {},
   "outputs": [
    {
     "data": {
      "text/plain": [
       "0.9876"
      ]
     },
     "execution_count": 14,
     "metadata": {},
     "output_type": "execute_result"
    }
   ],
   "source": [
    "np.mean(all_predictions == true_labels)"
   ]
  },
  {
   "cell_type": "code",
   "execution_count": 17,
   "id": "ec4bf5a2",
   "metadata": {},
   "outputs": [
    {
     "data": {
      "text/plain": [
       "0.008097228735685361"
      ]
     },
     "execution_count": 17,
     "metadata": {},
     "output_type": "execute_result"
    }
   ],
   "source": [
    "ECE(all_confidences, all_predictions, true_labels)"
   ]
  },
  {
   "cell_type": "markdown",
   "id": "2d2bd6b0",
   "metadata": {},
   "source": [
    "SGLD from here onwards"
   ]
  },
  {
   "cell_type": "code",
   "execution_count": 9,
   "id": "4b3951b7",
   "metadata": {},
   "outputs": [],
   "source": [
    "@torch.enable_grad()\n",
    "def gradient(x, y, params):\n",
    "    params_ = params.clone().requires_grad_(True)\n",
    "    loss = log_posterior(x, y, params_)\n",
    "    grad, = torch.autograd.grad(loss, params_)\n",
    "    return loss.detach().cpu().numpy(), grad"
   ]
  },
  {
   "cell_type": "code",
   "execution_count": 29,
   "id": "c02ee943",
   "metadata": {},
   "outputs": [],
   "source": [
    "def step_size(n):\n",
    "    return 0.0001 / (1 + n)**0.5"
   ]
  },
  {
   "cell_type": "code",
   "execution_count": 39,
   "id": "b52ee116",
   "metadata": {},
   "outputs": [],
   "source": [
    "params = 0.001 * torch.randn(dim).float().to(device)\n",
    "n_epochs = 5"
   ]
  },
  {
   "cell_type": "code",
   "execution_count": 40,
   "id": "20add51c",
   "metadata": {},
   "outputs": [
    {
     "name": "stderr",
     "output_type": "stream",
     "text": [
      "100%|███████████████████████████████████████████████████████████| 1875/1875 [00:03<00:00, 571.66it/s]\n",
      "100%|███████████████████████████████████████████████████████████| 1875/1875 [00:03<00:00, 544.88it/s]\n",
      "100%|███████████████████████████████████████████████████████████| 1875/1875 [00:03<00:00, 570.97it/s]\n",
      "100%|███████████████████████████████████████████████████████████| 1875/1875 [00:03<00:00, 552.91it/s]\n",
      "100%|███████████████████████████████████████████████████████████| 1875/1875 [00:03<00:00, 550.60it/s]\n"
     ]
    }
   ],
   "source": [
    "step = 0\n",
    "\n",
    "losses = []\n",
    "\n",
    "for _ in range(n_epochs):\n",
    "    epoch_losses = []\n",
    "    for x, y in tqdm(iter(dataloader_train)):\n",
    "        x = x.to(device)\n",
    "        y = y.to(device)\n",
    "        \n",
    "        eps = step_size(step)\n",
    "        loss, grad = gradient(x, y, params)\n",
    "        params = params + 0.5 * eps * grad + np.sqrt(eps) * torch.randn_like(params)\n",
    "        step += 1\n",
    "        epoch_losses.append(loss)\n",
    "    losses.append(epoch_losses)"
   ]
  },
  {
   "cell_type": "code",
   "execution_count": 41,
   "id": "bf20d04d",
   "metadata": {},
   "outputs": [],
   "source": [
    "losses = np.array(losses)"
   ]
  },
  {
   "cell_type": "code",
   "execution_count": 42,
   "id": "1c8a70f1",
   "metadata": {},
   "outputs": [
    {
     "data": {
      "text/plain": [
       "[<matplotlib.lines.Line2D at 0x7f80d5645d90>]"
      ]
     },
     "execution_count": 42,
     "metadata": {},
     "output_type": "execute_result"
    },
    {
     "data": {
      "image/png": "[encoded data removed]",
      "text/plain": [
       "<Figure size 432x288 with 1 Axes>"
      ]
     },
     "metadata": {
      "needs_background": "light"
     },
     "output_type": "display_data"
    }
   ],
   "source": [
    "plt.plot(losses.flatten())"
   ]
  },
  {
   "cell_type": "code",
   "execution_count": 43,
   "id": "1f24b8eb",
   "metadata": {},
   "outputs": [
    {
     "name": "stderr",
     "output_type": "stream",
     "text": [
      "100%|█████████████████████████████████████████████████████████████| 313/313 [00:00<00:00, 656.59it/s]\n"
     ]
    }
   ],
   "source": [
    "all_predictions = []\n",
    "all_confidences = []\n",
    "\n",
    "for x, y in tqdm(iter(dataloader_test)):\n",
    "    with torch.no_grad():\n",
    "        x = x.to(device)\n",
    "        y = y.to(device)\n",
    "        out = func_model(get_params_from_array(params), x)\n",
    "        out = F.softmax(out, dim=-1)\n",
    "        confidences, predictions = torch.max(out, dim=1)\n",
    "        \n",
    "        all_predictions.append(predictions)\n",
    "        all_confidences.append(confidences)"
   ]
  },
  {
   "cell_type": "code",
   "execution_count": 44,
   "id": "bd1f9225",
   "metadata": {},
   "outputs": [],
   "source": [
    "all_predictions = torch.hstack(all_predictions).cpu().numpy()\n",
    "all_confidences = torch.hstack(all_confidences).cpu().numpy()\n",
    "true_labels = MNIST_test.targets.numpy()"
   ]
  },
  {
   "cell_type": "code",
   "execution_count": 45,
   "id": "977b1d12",
   "metadata": {},
   "outputs": [
    {
     "data": {
      "text/plain": [
       "0.1135"
      ]
     },
     "execution_count": 45,
     "metadata": {},
     "output_type": "execute_result"
    }
   ],
   "source": [
    "np.mean(all_predictions == true_labels)"
   ]
  },
  {
   "cell_type": "code",
   "execution_count": 46,
   "id": "6e2aa43c",
   "metadata": {},
   "outputs": [
    {
     "data": {
      "text/plain": [
       "0.00013981854915619263"
      ]
     },
     "execution_count": 46,
     "metadata": {},
     "output_type": "execute_result"
    }
   ],
   "source": [
    "ECE(all_confidences, all_predictions, true_labels)"
   ]
  },
  {
   "cell_type": "code",
   "execution_count": null,
   "id": "a0278fc3",
   "metadata": {},
   "outputs": [],
   "source": [
    "ECE()"
   ]
  },
  {
   "cell_type": "code",
   "execution_count": 165,
   "id": "2d72af21",
   "metadata": {},
   "outputs": [
    {
     "name": "stderr",
     "output_type": "stream",
     "text": [
      "Exception ignored in: <function _MultiProcessingDataLoaderIter.__del__ at 0x7f48dd976670>\n",
      "Traceback (most recent call last):\n",
      "  File \"/home/ao464@ad.eng.cam.ac.uk/repos/ControlledFollmerDrift/env/lib/python3.8/site-packages/torch/utils/data/dataloader.py\", line 1328, in __del__\n",
      "    self._shutdown_workers()\n",
      "  File \"/home/ao464@ad.eng.cam.ac.uk/repos/ControlledFollmerDrift/env/lib/python3.8/site-packages/torch/utils/data/dataloader.py\", line 1320, in _shutdown_workers\n",
      "    if w.is_alive():\n",
      "  File \"/usr/lib/python3.8/multiprocessing/process.py\", line 160, in is_alive\n",
      "    assert self._parent_pid == os.getpid(), 'can only test a child process'\n",
      "AssertionError: can only test a child process\n",
      "Exception ignored in: <function _MultiProcessingDataLoaderIter.__del__ at 0x7f48dd976670>\n",
      "Traceback (most recent call last):\n",
      "  File \"/home/ao464@ad.eng.cam.ac.uk/repos/ControlledFollmerDrift/env/lib/python3.8/site-packages/torch/utils/data/dataloader.py\", line 1328, in __del__\n",
      "    self._shutdown_workers()\n",
      "  File \"/home/ao464@ad.eng.cam.ac.uk/repos/ControlledFollmerDrift/env/lib/python3.8/site-packages/torch/utils/data/dataloader.py\", line 1320, in _shutdown_workers\n",
      "    if w.is_alive():\n",
      "  File \"/usr/lib/python3.8/multiprocessing/process.py\", line 160, in is_alive\n",
      "    assert self._parent_pid == os.getpid(), 'can only test a child process'\n",
      "AssertionError: can only test a child process\n"
     ]
    }
   ],
   "source": [
    "params_samples = []\n",
    "train_iter = iter(dataloader_train)\n",
    "for i in range(50):\n",
    "    x, y = next(train_iter)\n",
    "    x = x.to(device)\n",
    "    y = y.to(device)\n",
    "        \n",
    "    eps = step_size(step)\n",
    "    loss, grad = gradient(x, y, params)\n",
    "    params = params + 0.5 * eps * grad + np.sqrt(eps) * torch.randn_like(params)\n",
    "    step += 1\n",
    "    params_samples.append(params)"
   ]
  },
  {
   "cell_type": "code",
   "execution_count": 166,
   "id": "e99b3d25",
   "metadata": {},
   "outputs": [],
   "source": [
    "params_samples = torch.stack(params_samples)"
   ]
  },
  {
   "cell_type": "code",
   "execution_count": 167,
   "id": "0b35d5e5",
   "metadata": {},
   "outputs": [
    {
     "name": "stderr",
     "output_type": "stream",
     "text": [
      "  0%|                                                                        | 0/313 [00:00<?, ?it/s]Exception ignored in: <function _MultiProcessingDataLoaderIter.__del__ at 0x7f48dd976670>\n",
      "Traceback (most recent call last):\n",
      "  File \"/home/ao464@ad.eng.cam.ac.uk/repos/ControlledFollmerDrift/env/lib/python3.8/site-packages/torch/utils/data/dataloader.py\", line 1328, in __del__\n",
      "    self._shutdown_workers()\n",
      "  File \"/home/ao464@ad.eng.cam.ac.uk/repos/ControlledFollmerDrift/env/lib/python3.8/site-packages/torch/utils/data/dataloader.py\", line 1320, in _shutdown_workers\n",
      "    if w.is_alive():\n",
      "  File \"/usr/lib/python3.8/multiprocessing/process.py\", line 160, in is_alive\n",
      "    assert self._parent_pid == os.getpid(), 'can only test a child process'\n",
      "AssertionError: can only test a child process\n",
      "Exception ignored in: <function _MultiProcessingDataLoaderIter.__del__ at 0x7f48dd976670>\n",
      "Traceback (most recent call last):\n",
      "  File \"/home/ao464@ad.eng.cam.ac.uk/repos/ControlledFollmerDrift/env/lib/python3.8/site-packages/torch/utils/data/dataloader.py\", line 1328, in __del__\n",
      "    self._shutdown_workers()\n",
      "  File \"/home/ao464@ad.eng.cam.ac.uk/repos/ControlledFollmerDrift/env/lib/python3.8/site-packages/torch/utils/data/dataloader.py\", line 1320, in _shutdown_workers\n",
      "    if w.is_alive():\n",
      "  File \"/usr/lib/python3.8/multiprocessing/process.py\", line 160, in is_alive\n",
      "    assert self._parent_pid == os.getpid(), 'can only test a child process'\n",
      "AssertionError: can only test a child process\n",
      "100%|█████████████████████████████████████████████████████████████| 313/313 [00:00<00:00, 613.41it/s]\n"
     ]
    }
   ],
   "source": [
    "all_predictions = []\n",
    "all_confidences = []\n",
    "\n",
    "for x, y in tqdm(iter(dataloader_test)):\n",
    "    with torch.no_grad():\n",
    "        x = x.to(device)\n",
    "        y = y.to(device)\n",
    "        predict_func = lambda params : func_model(get_params_from_array(params), x)\n",
    "        predict_func = functorch.vmap(predict_func)\n",
    "        \n",
    "        out = F.softmax(predict_func(params_samples), dim=-1)\n",
    "        out = torch.mean(out, dim=0)\n",
    "        confidences, predictions = torch.max(out, dim=1)\n",
    "        \n",
    "        all_predictions.append(predictions)\n",
    "        all_confidences.append(confidences)"
   ]
  },
  {
   "cell_type": "code",
   "execution_count": 168,
   "id": "641e169d",
   "metadata": {},
   "outputs": [],
   "source": [
    "all_predictions = torch.hstack(all_predictions).cpu().numpy()\n",
    "all_confidences = torch.hstack(all_confidences).cpu().numpy()\n",
    "true_labels = MNIST_test.targets.numpy()"
   ]
  },
  {
   "cell_type": "code",
   "execution_count": 169,
   "id": "b6ce402c",
   "metadata": {},
   "outputs": [
    {
     "data": {
      "text/plain": [
       "0.9858"
      ]
     },
     "execution_count": 169,
     "metadata": {},
     "output_type": "execute_result"
    }
   ],
   "source": [
    "np.mean(all_predictions == true_labels)"
   ]
  },
  {
   "cell_type": "code",
   "execution_count": 170,
   "id": "8dc3d486",
   "metadata": {},
   "outputs": [
    {
     "data": {
      "text/plain": [
       "0.003385664606094435"
      ]
     },
     "execution_count": 170,
     "metadata": {},
     "output_type": "execute_result"
    }
   ],
   "source": [
    "ECE(all_confidences, all_predictions, true_labels)"
   ]
  },
  {
   "cell_type": "code",
   "execution_count": 11,
   "id": "52cc1897",
   "metadata": {},
   "outputs": [
    {
     "name": "stderr",
     "output_type": "stream",
     "text": [
      "100%|███████████████████████████████████████████████████████████| 1875/1875 [00:02<00:00, 674.09it/s]\n",
      "100%|███████████████████████████████████████████████████████████| 1875/1875 [00:02<00:00, 699.56it/s]\n",
      "100%|███████████████████████████████████████████████████████████| 1875/1875 [00:02<00:00, 714.23it/s]\n",
      "100%|███████████████████████████████████████████████████████████| 1875/1875 [00:02<00:00, 681.21it/s]\n",
      "100%|███████████████████████████████████████████████████████████| 1875/1875 [00:02<00:00, 703.82it/s]\n",
      "100%|███████████████████████████████████████████████████████████| 1875/1875 [00:02<00:00, 667.41it/s]\n",
      "100%|███████████████████████████████████████████████████████████| 1875/1875 [00:02<00:00, 689.97it/s]\n",
      "100%|███████████████████████████████████████████████████████████| 1875/1875 [00:02<00:00, 695.56it/s]\n",
      "100%|███████████████████████████████████████████████████████████| 1875/1875 [00:02<00:00, 689.59it/s]\n",
      "100%|███████████████████████████████████████████████████████████| 1875/1875 [00:02<00:00, 679.76it/s]\n"
     ]
    }
   ],
   "source": [
    "model = LeNet5(10).to(device)\n",
    "optim = torch.optim.SGD(model.parameters(), lr=0.001)\n",
    "\n",
    "for i in range(n_epochs):\n",
    "    for x, y in tqdm(iter(dataloader_train)):\n",
    "        optim.zero_grad()\n",
    "        x = x.to(device)\n",
    "        y = y.to(device)\n",
    "        \n",
    "        outs = model(x)\n",
    "        loss = F.cross_entropy(outs, y, reduction=\"mean\")\n",
    "        \n",
    "        loss.backward()\n",
    "        optim.step()"
   ]
  },
  {
   "cell_type": "code",
   "execution_count": 13,
   "id": "bee05ec7",
   "metadata": {},
   "outputs": [
    {
     "name": "stderr",
     "output_type": "stream",
     "text": [
      "  0%|                                                                        | 0/313 [00:00<?, ?it/s]Exception ignored in: <function _MultiProcessingDataLoaderIter.__del__ at 0x7fd7d1798670>\n",
      "Exception ignored in: Traceback (most recent call last):\n",
      "<function _MultiProcessingDataLoaderIter.__del__ at 0x7fd7d1798670>  File \"/home/ao464@ad.eng.cam.ac.uk/repos/ControlledFollmerDrift/env/lib/python3.8/site-packages/torch/utils/data/dataloader.py\", line 1328, in __del__\n",
      "\n",
      "Traceback (most recent call last):\n",
      "      File \"/home/ao464@ad.eng.cam.ac.uk/repos/ControlledFollmerDrift/env/lib/python3.8/site-packages/torch/utils/data/dataloader.py\", line 1328, in __del__\n",
      "self._shutdown_workers()\n",
      "      File \"/home/ao464@ad.eng.cam.ac.uk/repos/ControlledFollmerDrift/env/lib/python3.8/site-packages/torch/utils/data/dataloader.py\", line 1320, in _shutdown_workers\n",
      "self._shutdown_workers()    \n",
      "if w.is_alive():  File \"/home/ao464@ad.eng.cam.ac.uk/repos/ControlledFollmerDrift/env/lib/python3.8/site-packages/torch/utils/data/dataloader.py\", line 1320, in _shutdown_workers\n",
      "\n",
      "  File \"/usr/lib/python3.8/multiprocessing/process.py\", line 160, in is_alive\n",
      "    if w.is_alive():    \n",
      "assert self._parent_pid == os.getpid(), 'can only test a child process'  File \"/usr/lib/python3.8/multiprocessing/process.py\", line 160, in is_alive\n",
      "\n",
      "    AssertionErrorassert self._parent_pid == os.getpid(), 'can only test a child process': \n",
      "can only test a child processAssertionError\n",
      ": can only test a child process\n",
      " 42%|█████████████████████████▋                                   | 132/313 [00:00<00:00, 692.86it/s]"
     ]
    },
    {
     "name": "stdout",
     "output_type": "stream",
     "text": [
      "torch.Size([32, 10])\n",
      "torch.Size([32])\n",
      "torch.Size([32, 10])\n",
      "torch.Size([32])\n",
      "torch.Size([32, 10])\n",
      "torch.Size([32])\n",
      "torch.Size([32, 10])\n",
      "torch.Size([32])\n",
      "torch.Size([32, 10])\n",
      "torch.Size([32])\n",
      "torch.Size([32, 10])\n",
      "torch.Size([32])\n",
      "torch.Size([32, 10])\n",
      "torch.Size([32])\n",
      "torch.Size([32, 10])\n",
      "torch.Size([32])\n",
      "torch.Size([32, 10])\n",
      "torch.Size([32])\n",
      "torch.Size([32, 10])\n",
      "torch.Size([32])\n",
      "torch.Size([32, 10])\n",
      "torch.Size([32])\n",
      "torch.Size([32, 10])\n",
      "torch.Size([32])\n",
      "torch.Size([32, 10])\n",
      "torch.Size([32])\n",
      "torch.Size([32, 10])\n",
      "torch.Size([32])\n",
      "torch.Size([32, 10])\n",
      "torch.Size([32])\n",
      "torch.Size([32, 10])\n",
      "torch.Size([32])\n",
      "torch.Size([32, 10])\n",
      "torch.Size([32])\n",
      "torch.Size([32, 10])\n",
      "torch.Size([32])\n",
      "torch.Size([32, 10])\n",
      "torch.Size([32])\n",
      "torch.Size([32, 10])\n",
      "torch.Size([32])\n",
      "torch.Size([32, 10])\n",
      "torch.Size([32])\n",
      "torch.Size([32, 10])\n",
      "torch.Size([32])\n",
      "torch.Size([32, 10])\n",
      "torch.Size([32])\n",
      "torch.Size([32, 10])\n",
      "torch.Size([32])\n",
      "torch.Size([32, 10])\n",
      "torch.Size([32])\n",
      "torch.Size([32, 10])\n",
      "torch.Size([32])\n",
      "torch.Size([32, 10])\n",
      "torch.Size([32])\n",
      "torch.Size([32, 10])\n",
      "torch.Size([32])\n",
      "torch.Size([32, 10])\n",
      "torch.Size([32])\n",
      "torch.Size([32, 10])\n",
      "torch.Size([32])\n",
      "torch.Size([32, 10])\n",
      "torch.Size([32])\n",
      "torch.Size([32, 10])\n",
      "torch.Size([32])\n",
      "torch.Size([32, 10])\n",
      "torch.Size([32])\n",
      "torch.Size([32, 10])\n",
      "torch.Size([32])\n",
      "torch.Size([32, 10])\n",
      "torch.Size([32])\n",
      "torch.Size([32, 10])\n",
      "torch.Size([32])\n",
      "torch.Size([32, 10])\n",
      "torch.Size([32])\n",
      "torch.Size([32, 10])\n",
      "torch.Size([32])\n",
      "torch.Size([32, 10])\n",
      "torch.Size([32])\n",
      "torch.Size([32, 10])\n",
      "torch.Size([32])\n",
      "torch.Size([32, 10])\n",
      "torch.Size([32])\n",
      "torch.Size([32, 10])\n",
      "torch.Size([32])\n",
      "torch.Size([32, 10])\n",
      "torch.Size([32])\n",
      "torch.Size([32, 10])\n",
      "torch.Size([32])\n",
      "torch.Size([32, 10])\n",
      "torch.Size([32])\n",
      "torch.Size([32, 10])\n",
      "torch.Size([32])\n",
      "torch.Size([32, 10])\n",
      "torch.Size([32])\n",
      "torch.Size([32, 10])\n",
      "torch.Size([32])\n",
      "torch.Size([32, 10])\n",
      "torch.Size([32])\n",
      "torch.Size([32, 10])\n",
      "torch.Size([32])\n",
      "torch.Size([32, 10])\n",
      "torch.Size([32])\n",
      "torch.Size([32, 10])\n",
      "torch.Size([32])\n",
      "torch.Size([32, 10])\n",
      "torch.Size([32])\n",
      "torch.Size([32, 10])\n",
      "torch.Size([32])\n",
      "torch.Size([32, 10])\n",
      "torch.Size([32])\n",
      "torch.Size([32, 10])\n",
      "torch.Size([32])\n",
      "torch.Size([32, 10])\n",
      "torch.Size([32])\n",
      "torch.Size([32, 10])\n",
      "torch.Size([32])\n",
      "torch.Size([32, 10])\n",
      "torch.Size([32])\n",
      "torch.Size([32, 10])\n",
      "torch.Size([32])\n",
      "torch.Size([32, 10])\n",
      "torch.Size([32])\n",
      "torch.Size([32, 10])\n",
      "torch.Size([32])\n",
      "torch.Size([32, 10])\n",
      "torch.Size([32])\n",
      "torch.Size([32, 10])\n",
      "torch.Size([32])\n",
      "torch.Size([32, 10])\n",
      "torch.Size([32])\n",
      "torch.Size([32, 10])\n",
      "torch.Size([32])\n",
      "torch.Size([32, 10])\n",
      "torch.Size([32])\n",
      "torch.Size([32, 10])\n",
      "torch.Size([32])\n",
      "torch.Size([32, 10])\n",
      "torch.Size([32])\n",
      "torch.Size([32, 10])\n",
      "torch.Size([32])\n",
      "torch.Size([32, 10])\n",
      "torch.Size([32])\n",
      "torch.Size([32, 10])\n",
      "torch.Size([32])\n",
      "torch.Size([32, 10])\n",
      "torch.Size([32])\n",
      "torch.Size([32, 10])\n",
      "torch.Size([32])\n",
      "torch.Size([32, 10])\n",
      "torch.Size([32])\n",
      "torch.Size([32, 10])\n",
      "torch.Size([32])\n",
      "torch.Size([32, 10])\n",
      "torch.Size([32])\n",
      "torch.Size([32, 10])\n",
      "torch.Size([32])\n",
      "torch.Size([32, 10])\n",
      "torch.Size([32])\n",
      "torch.Size([32, 10])\n",
      "torch.Size([32])\n",
      "torch.Size([32, 10])\n",
      "torch.Size([32])\n",
      "torch.Size([32, 10])\n",
      "torch.Size([32])\n",
      "torch.Size([32, 10])\n",
      "torch.Size([32])\n",
      "torch.Size([32, 10])\n",
      "torch.Size([32])\n",
      "torch.Size([32, 10])\n",
      "torch.Size([32])\n",
      "torch.Size([32, 10])\n",
      "torch.Size([32])\n",
      "torch.Size([32, 10])\n",
      "torch.Size([32])\n",
      "torch.Size([32, 10])\n",
      "torch.Size([32])\n",
      "torch.Size([32, 10])\n",
      "torch.Size([32])\n",
      "torch.Size([32, 10])\n",
      "torch.Size([32])\n",
      "torch.Size([32, 10])\n",
      "torch.Size([32])\n",
      "torch.Size([32, 10])\n",
      "torch.Size([32])\n",
      "torch.Size([32, 10])\n",
      "torch.Size([32])\n",
      "torch.Size([32, 10])\n",
      "torch.Size([32])\n",
      "torch.Size([32, 10])\n",
      "torch.Size([32])\n",
      "torch.Size([32, 10])\n",
      "torch.Size([32])\n",
      "torch.Size([32, 10])\n",
      "torch.Size([32])\n",
      "torch.Size([32, 10])\n",
      "torch.Size([32])\n",
      "torch.Size([32, 10])\n",
      "torch.Size([32])\n",
      "torch.Size([32, 10])\n",
      "torch.Size([32])\n",
      "torch.Size([32, 10])\n",
      "torch.Size([32])\n",
      "torch.Size([32, 10])\n",
      "torch.Size([32])\n",
      "torch.Size([32, 10])\n",
      "torch.Size([32])\n",
      "torch.Size([32, 10])\n",
      "torch.Size([32])\n",
      "torch.Size([32, 10])\n",
      "torch.Size([32])\n",
      "torch.Size([32, 10])\n",
      "torch.Size([32])\n",
      "torch.Size([32, 10])\n",
      "torch.Size([32])\n",
      "torch.Size([32, 10])\n",
      "torch.Size([32])\n",
      "torch.Size([32, 10])\n",
      "torch.Size([32])\n",
      "torch.Size([32, 10])\n",
      "torch.Size([32])\n",
      "torch.Size([32, 10])\n",
      "torch.Size([32])\n",
      "torch.Size([32, 10])\n",
      "torch.Size([32])\n",
      "torch.Size([32, 10])\n",
      "torch.Size([32])\n",
      "torch.Size([32, 10])\n",
      "torch.Size([32])\n",
      "torch.Size([32, 10])\n",
      "torch.Size([32])\n",
      "torch.Size([32, 10])\n",
      "torch.Size([32])\n",
      "torch.Size([32, 10])\n",
      "torch.Size([32])\n",
      "torch.Size([32, 10])\n",
      "torch.Size([32])\n",
      "torch.Size([32, 10])\n",
      "torch.Size([32])\n",
      "torch.Size([32, 10])\n",
      "torch.Size([32])\n",
      "torch.Size([32, 10])\n",
      "torch.Size([32])\n",
      "torch.Size([32, 10])\n",
      "torch.Size([32])\n",
      "torch.Size([32, 10])\n",
      "torch.Size([32])\n",
      "torch.Size([32, 10])\n",
      "torch.Size([32])\n",
      "torch.Size([32, 10])\n",
      "torch.Size([32])\n",
      "torch.Size([32, 10])\n",
      "torch.Size([32])\n",
      "torch.Size([32, 10])\n",
      "torch.Size([32])\n",
      "torch.Size([32, 10])\n",
      "torch.Size([32])\n",
      "torch.Size([32, 10])\n",
      "torch.Size([32])\n",
      "torch.Size([32, 10])\n",
      "torch.Size([32])\n",
      "torch.Size([32, 10])\n",
      "torch.Size([32])\n",
      "torch.Size([32, 10])\n",
      "torch.Size([32])\n",
      "torch.Size([32, 10])\n",
      "torch.Size([32])\n",
      "torch.Size([32, 10])\n",
      "torch.Size([32])\n",
      "torch.Size([32, 10])\n",
      "torch.Size([32])\n",
      "torch.Size([32, 10])\n",
      "torch.Size([32])\n",
      "torch.Size([32, 10])\n",
      "torch.Size([32])\n",
      "torch.Size([32, 10])\n",
      "torch.Size([32])\n",
      "torch.Size([32, 10])\n",
      "torch.Size([32])\n",
      "torch.Size([32, 10])\n",
      "torch.Size([32])\n",
      "torch.Size([32, 10])\n",
      "torch.Size([32])\n",
      "torch.Size([32, 10])\n",
      "torch.Size([32])\n",
      "torch.Size([32, 10])\n",
      "torch.Size([32])\n",
      "torch.Size([32, 10])\n",
      "torch.Size([32])\n",
      "torch.Size([32, 10])\n",
      "torch.Size([32])\n",
      "torch.Size([32, 10])\n",
      "torch.Size([32])\n",
      "torch.Size([32, 10])\n"
     ]
    },
    {
     "name": "stderr",
     "output_type": "stream",
     "text": [
      " 98%|███████████████████████████████████████████████████████████▊ | 307/313 [00:00<00:00, 809.68it/s]"
     ]
    },
    {
     "name": "stdout",
     "output_type": "stream",
     "text": [
      "torch.Size([32])\n",
      "torch.Size([32, 10])\n",
      "torch.Size([32])\n",
      "torch.Size([32, 10])\n",
      "torch.Size([32])\n",
      "torch.Size([32, 10])\n",
      "torch.Size([32])\n",
      "torch.Size([32, 10])\n",
      "torch.Size([32])\n",
      "torch.Size([32, 10])\n",
      "torch.Size([32])\n",
      "torch.Size([32, 10])\n",
      "torch.Size([32])\n",
      "torch.Size([32, 10])\n",
      "torch.Size([32])\n",
      "torch.Size([32, 10])\n",
      "torch.Size([32])\n",
      "torch.Size([32, 10])\n",
      "torch.Size([32])\n",
      "torch.Size([32, 10])\n",
      "torch.Size([32])\n",
      "torch.Size([32, 10])\n",
      "torch.Size([32])\n",
      "torch.Size([32, 10])\n",
      "torch.Size([32])\n",
      "torch.Size([32, 10])\n",
      "torch.Size([32])\n",
      "torch.Size([32, 10])\n",
      "torch.Size([32])\n",
      "torch.Size([32, 10])\n",
      "torch.Size([32])\n",
      "torch.Size([32, 10])\n",
      "torch.Size([32])\n",
      "torch.Size([32, 10])\n",
      "torch.Size([32])\n",
      "torch.Size([32, 10])\n",
      "torch.Size([32])\n",
      "torch.Size([32, 10])\n",
      "torch.Size([32])\n",
      "torch.Size([32, 10])\n",
      "torch.Size([32])\n",
      "torch.Size([32, 10])\n",
      "torch.Size([32])\n",
      "torch.Size([32, 10])\n",
      "torch.Size([32])\n",
      "torch.Size([32, 10])\n",
      "torch.Size([32])\n",
      "torch.Size([32, 10])\n",
      "torch.Size([32])\n",
      "torch.Size([32, 10])\n",
      "torch.Size([32])\n",
      "torch.Size([32, 10])\n",
      "torch.Size([32])\n",
      "torch.Size([32, 10])\n",
      "torch.Size([32])\n",
      "torch.Size([32, 10])\n",
      "torch.Size([32])\n",
      "torch.Size([32, 10])\n",
      "torch.Size([32])\n",
      "torch.Size([32, 10])\n",
      "torch.Size([32])\n",
      "torch.Size([32, 10])\n",
      "torch.Size([32])\n",
      "torch.Size([32, 10])\n",
      "torch.Size([32])\n",
      "torch.Size([32, 10])\n",
      "torch.Size([32])\n",
      "torch.Size([32, 10])\n",
      "torch.Size([32])\n",
      "torch.Size([32, 10])\n",
      "torch.Size([32])\n",
      "torch.Size([32, 10])\n",
      "torch.Size([32])\n",
      "torch.Size([32, 10])\n",
      "torch.Size([32])\n",
      "torch.Size([32, 10])\n",
      "torch.Size([32])\n",
      "torch.Size([32, 10])\n",
      "torch.Size([32])\n",
      "torch.Size([32, 10])\n",
      "torch.Size([32])\n",
      "torch.Size([32, 10])\n",
      "torch.Size([32])\n",
      "torch.Size([32, 10])\n",
      "torch.Size([32])\n",
      "torch.Size([32, 10])\n",
      "torch.Size([32])\n",
      "torch.Size([32, 10])\n",
      "torch.Size([32])\n",
      "torch.Size([32, 10])\n",
      "torch.Size([32])\n",
      "torch.Size([32, 10])\n",
      "torch.Size([32])\n",
      "torch.Size([32, 10])\n",
      "torch.Size([32])\n",
      "torch.Size([32, 10])\n",
      "torch.Size([32])\n",
      "torch.Size([32, 10])\n",
      "torch.Size([32])\n",
      "torch.Size([32, 10])\n",
      "torch.Size([32])\n",
      "torch.Size([32, 10])\n",
      "torch.Size([32])\n",
      "torch.Size([32, 10])\n",
      "torch.Size([32])\n",
      "torch.Size([32, 10])\n",
      "torch.Size([32])\n",
      "torch.Size([32, 10])\n",
      "torch.Size([32])\n",
      "torch.Size([32, 10])\n",
      "torch.Size([32])\n",
      "torch.Size([32, 10])\n",
      "torch.Size([32])\n",
      "torch.Size([32, 10])\n",
      "torch.Size([32])\n",
      "torch.Size([32, 10])\n",
      "torch.Size([32])\n",
      "torch.Size([32, 10])\n",
      "torch.Size([32])\n",
      "torch.Size([32, 10])\n",
      "torch.Size([32])\n",
      "torch.Size([32, 10])\n",
      "torch.Size([32])\n",
      "torch.Size([32, 10])\n",
      "torch.Size([32])\n",
      "torch.Size([32, 10])\n",
      "torch.Size([32])\n",
      "torch.Size([32, 10])\n",
      "torch.Size([32])\n",
      "torch.Size([32, 10])\n",
      "torch.Size([32])\n",
      "torch.Size([32, 10])\n",
      "torch.Size([32])\n",
      "torch.Size([32, 10])\n",
      "torch.Size([32])\n",
      "torch.Size([32, 10])\n",
      "torch.Size([32])\n",
      "torch.Size([32, 10])\n",
      "torch.Size([32])\n",
      "torch.Size([32, 10])\n",
      "torch.Size([32])\n",
      "torch.Size([32, 10])\n",
      "torch.Size([32])\n",
      "torch.Size([32, 10])\n",
      "torch.Size([32])\n",
      "torch.Size([32, 10])\n",
      "torch.Size([32])\n",
      "torch.Size([32, 10])\n",
      "torch.Size([32])\n",
      "torch.Size([32, 10])\n",
      "torch.Size([32])\n",
      "torch.Size([32, 10])\n",
      "torch.Size([32])\n",
      "torch.Size([32, 10])\n",
      "torch.Size([32])\n",
      "torch.Size([32, 10])\n",
      "torch.Size([32])\n",
      "torch.Size([32, 10])\n",
      "torch.Size([32])\n",
      "torch.Size([32, 10])\n",
      "torch.Size([32])\n",
      "torch.Size([32, 10])\n",
      "torch.Size([32])\n",
      "torch.Size([32, 10])\n",
      "torch.Size([32])\n",
      "torch.Size([32, 10])\n",
      "torch.Size([32])\n",
      "torch.Size([32, 10])\n",
      "torch.Size([32])\n",
      "torch.Size([32, 10])\n",
      "torch.Size([32])\n",
      "torch.Size([32, 10])\n",
      "torch.Size([32])\n",
      "torch.Size([32, 10])\n",
      "torch.Size([32])\n",
      "torch.Size([32, 10])\n",
      "torch.Size([32])\n",
      "torch.Size([32, 10])\n",
      "torch.Size([32])\n",
      "torch.Size([32, 10])\n",
      "torch.Size([32])\n",
      "torch.Size([32, 10])\n",
      "torch.Size([32])\n",
      "torch.Size([32, 10])\n",
      "torch.Size([32])\n",
      "torch.Size([32, 10])\n",
      "torch.Size([32])\n",
      "torch.Size([32, 10])\n",
      "torch.Size([32])\n",
      "torch.Size([32, 10])\n",
      "torch.Size([32])\n",
      "torch.Size([32, 10])\n",
      "torch.Size([32])\n",
      "torch.Size([32, 10])\n",
      "torch.Size([32])\n",
      "torch.Size([32, 10])\n",
      "torch.Size([32])\n",
      "torch.Size([32, 10])\n",
      "torch.Size([32])\n",
      "torch.Size([32, 10])\n",
      "torch.Size([32])\n",
      "torch.Size([32, 10])\n",
      "torch.Size([32])\n",
      "torch.Size([32, 10])\n",
      "torch.Size([32])\n",
      "torch.Size([32, 10])\n",
      "torch.Size([32])\n",
      "torch.Size([32, 10])\n",
      "torch.Size([32])\n",
      "torch.Size([32, 10])\n",
      "torch.Size([32])\n",
      "torch.Size([32, 10])\n",
      "torch.Size([32])\n",
      "torch.Size([32, 10])\n",
      "torch.Size([32])\n",
      "torch.Size([32, 10])\n",
      "torch.Size([32])\n",
      "torch.Size([32, 10])\n",
      "torch.Size([32])\n",
      "torch.Size([32, 10])\n",
      "torch.Size([32])\n",
      "torch.Size([32, 10])\n",
      "torch.Size([32])\n",
      "torch.Size([32, 10])\n",
      "torch.Size([32])\n",
      "torch.Size([32, 10])\n",
      "torch.Size([32])\n",
      "torch.Size([32, 10])\n",
      "torch.Size([32])\n",
      "torch.Size([32, 10])\n",
      "torch.Size([32])\n",
      "torch.Size([32, 10])\n",
      "torch.Size([32])\n",
      "torch.Size([32, 10])\n",
      "torch.Size([32])\n",
      "torch.Size([32, 10])\n",
      "torch.Size([32])\n",
      "torch.Size([32, 10])\n",
      "torch.Size([32])\n",
      "torch.Size([32, 10])\n",
      "torch.Size([32])\n",
      "torch.Size([32, 10])\n",
      "torch.Size([32])\n",
      "torch.Size([32, 10])\n",
      "torch.Size([32])\n",
      "torch.Size([32, 10])\n",
      "torch.Size([32])\n",
      "torch.Size([32, 10])\n",
      "torch.Size([32])\n",
      "torch.Size([32, 10])\n",
      "torch.Size([32])\n",
      "torch.Size([32, 10])\n",
      "torch.Size([32])\n",
      "torch.Size([32, 10])\n",
      "torch.Size([32])\n",
      "torch.Size([32, 10])\n",
      "torch.Size([32])\n",
      "torch.Size([32, 10])\n",
      "torch.Size([32])\n",
      "torch.Size([32, 10])\n",
      "torch.Size([32])\n",
      "torch.Size([32, 10])\n",
      "torch.Size([32])\n",
      "torch.Size([32, 10])\n",
      "torch.Size([32])\n",
      "torch.Size([32, 10])\n",
      "torch.Size([32])\n",
      "torch.Size([32, 10])\n",
      "torch.Size([32])\n",
      "torch.Size([32, 10])\n",
      "torch.Size([32])\n",
      "torch.Size([32, 10])\n",
      "torch.Size([32])\n",
      "torch.Size([32, 10])\n",
      "torch.Size([32])\n",
      "torch.Size([32, 10])\n",
      "torch.Size([32])\n",
      "torch.Size([32, 10])\n",
      "torch.Size([32])\n",
      "torch.Size([32, 10])\n",
      "torch.Size([32])\n",
      "torch.Size([32, 10])\n",
      "torch.Size([32])\n",
      "torch.Size([32, 10])\n",
      "torch.Size([32])\n",
      "torch.Size([32, 10])\n",
      "torch.Size([32])\n",
      "torch.Size([32, 10])\n",
      "torch.Size([32])\n",
      "torch.Size([32, 10])\n",
      "torch.Size([32])\n",
      "torch.Size([32, 10])\n",
      "torch.Size([32])\n",
      "torch.Size([32, 10])\n",
      "torch.Size([32])\n",
      "torch.Size([32, 10])\n",
      "torch.Size([32])\n",
      "torch.Size([32, 10])\n",
      "torch.Size([32])\n",
      "torch.Size([32, 10])\n",
      "torch.Size([32])\n",
      "torch.Size([32, 10])\n",
      "torch.Size([32])\n",
      "torch.Size([32, 10])\n",
      "torch.Size([32])\n",
      "torch.Size([32, 10])\n",
      "torch.Size([32])\n",
      "torch.Size([32, 10])\n",
      "torch.Size([32])\n",
      "torch.Size([32, 10])\n",
      "torch.Size([32])\n",
      "torch.Size([32, 10])\n",
      "torch.Size([32])\n",
      "torch.Size([32, 10])\n",
      "torch.Size([32])\n",
      "torch.Size([32, 10])\n",
      "torch.Size([32])\n",
      "torch.Size([32, 10])\n",
      "torch.Size([32])\n",
      "torch.Size([32, 10])\n",
      "torch.Size([32])\n",
      "torch.Size([32, 10])\n",
      "torch.Size([32])\n",
      "torch.Size([32, 10])\n",
      "torch.Size([32])\n",
      "torch.Size([32, 10])\n",
      "torch.Size([32])\n",
      "torch.Size([32, 10])\n",
      "torch.Size([32])\n",
      "torch.Size([32, 10])\n",
      "torch.Size([32])\n",
      "torch.Size([16, 10])\n",
      "torch.Size([16])\n"
     ]
    },
    {
     "name": "stderr",
     "output_type": "stream",
     "text": [
      "100%|█████████████████████████████████████████████████████████████| 313/313 [00:00<00:00, 619.39it/s]\n"
     ]
    }
   ],
   "source": [
    "acc = 0\n",
    "\n",
    "with torch.no_grad():\n",
    "    for x, y in tqdm(iter(dataloader_test)):\n",
    "        x = x.to(device)\n",
    "        y = y.to(device)\n",
    "\n",
    "        outs = model(x)\n",
    "        print(outs.shape)\n",
    "        \n",
    "        preds = torch.argmax(outs, dim=1)\n",
    "        print(preds.shape)\n",
    "        acc = acc + torch.sum(preds == y)"
   ]
  },
  {
   "cell_type": "code",
   "execution_count": 14,
   "id": "76481c59",
   "metadata": {},
   "outputs": [
    {
     "data": {
      "text/plain": [
       "tensor(0.8733, device='cuda:0')"
      ]
     },
     "execution_count": 14,
     "metadata": {},
     "output_type": "execute_result"
    }
   ],
   "source": [
    "acc / len(MNIST_test)"
   ]
  }
 ],
 "metadata": {
  "kernelspec": {
   "display_name": "cfollmer-env",
   "language": "python",
   "name": "cfollmer-env"
  },
  "language_info": {
   "codemirror_mode": {
    "name": "ipython",
    "version": 3
   },
   "file_extension": ".py",
   "mimetype": "text/x-python",
   "name": "python",
   "nbconvert_exporter": "python",
   "pygments_lexer": "ipython3",
   "version": "3.8.10"
  }
 },
 "nbformat": 4,
 "nbformat_minor": 5
}
