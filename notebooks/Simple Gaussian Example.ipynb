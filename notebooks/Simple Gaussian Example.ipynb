{
 "cells": [
  {
   "cell_type": "code",
   "execution_count": 7,
   "metadata": {},
   "outputs": [],
   "source": [
    "import torch\n",
    "import torch.nn.functional as F\n",
    "\n",
    "import torchsde\n",
    "import math\n",
    "import matplotlib.pyplot as plt\n",
    "\n",
    "from cfollmer.objectives import log_g, relative_entropy_control_cost\n",
    "from cfollmer.sampler_utils import FollmerSDE\n",
    "import numpy as np\n",
    "\n",
    "from tqdm.notebook import tqdm\n",
    "\n",
    "from torch import _vmap_internals"
   ]
  },
  {
   "cell_type": "markdown",
   "metadata": {},
   "source": [
    "## Generating Toy 2D Dataset."
   ]
  },
  {
   "cell_type": "code",
   "execution_count": 8,
   "metadata": {},
   "outputs": [],
   "source": [
    "import torch\n",
    "from sklearn.datasets import make_blobs\n",
    "from sklearn.model_selection import train_test_split\n",
    "from sklearn.preprocessing import StandardScaler\n",
    "\n",
    "device = \"cuda\" if torch.cuda.is_available() else \"cpu\"\n",
    "random_state = 170\n",
    "\n",
    "X, y = make_blobs(n_samples=300,\n",
    "                  cluster_std=[0.5, 0.5, 0.5],\n",
    "                  random_state=random_state)\n",
    "\n",
    "X = X[y==0,:]\n",
    "y = y[y==0]\n",
    "# # Scale data to have mean 0 and variance 1 \n",
    "# # which is importance for convergence of the neural network\n",
    "scaler = StandardScaler()\n",
    "X_scaled = scaler.fit_transform(X)\n",
    "\n",
    "# Split the data set into training and testing\n",
    "X_train, X_test, y_train, y_test = train_test_split(\n",
    "    X_scaled, y, test_size=0.2, random_state=2)\n",
    "\n",
    "\n",
    "X_train, X_test, y_train, y_test = \\\n",
    "    torch.tensor(X_train, dtype=torch.float32, device=device), \\\n",
    "    torch.tensor(X_test, dtype=torch.float32, device=device), \\\n",
    "    torch.tensor(y_train, dtype=torch.float32, device=device), \\\n",
    "    torch.tensor(y_test, dtype=torch.float32, device=device) "
   ]
  },
  {
   "cell_type": "code",
   "execution_count": 9,
   "metadata": {},
   "outputs": [
    {
     "data": {
      "text/plain": [
       "array([0, 0, 0, 0, 0, 0, 0, 0, 0, 0, 0, 0, 0, 0, 0, 0, 0, 0, 0, 0, 0, 0,\n",
       "       0, 0, 0, 0, 0, 0, 0, 0, 0, 0, 0, 0, 0, 0, 0, 0, 0, 0, 0, 0, 0, 0,\n",
       "       0, 0, 0, 0, 0, 0, 0, 0, 0, 0, 0, 0, 0, 0, 0, 0, 0, 0, 0, 0, 0, 0,\n",
       "       0, 0, 0, 0, 0, 0, 0, 0, 0, 0, 0, 0, 0, 0, 0, 0, 0, 0, 0, 0, 0, 0,\n",
       "       0, 0, 0, 0, 0, 0, 0, 0, 0, 0, 0, 0])"
      ]
     },
     "execution_count": 9,
     "metadata": {},
     "output_type": "execute_result"
    }
   ],
   "source": [
    "y"
   ]
  },
  {
   "cell_type": "code",
   "execution_count": 10,
   "metadata": {},
   "outputs": [
    {
     "data": {
      "image/png": "[encoded data removed]",
      "text/plain": [
       "<Figure size 1152x432 with 1 Axes>"
      ]
     },
     "metadata": {
      "needs_background": "light"
     },
     "output_type": "display_data"
    }
   ],
   "source": [
    "fig, ax1 = plt.subplots(1, 1, figsize=(16, 6))\n",
    "\n",
    "ax1.plot(X_scaled[:, 0], X_scaled[:, 1], \n",
    "         linestyle='none', \n",
    "         marker='o')\n",
    "\n",
    "ax1.axis('equal');"
   ]
  },
  {
   "cell_type": "markdown",
   "metadata": {},
   "source": [
    "$$\\DeclareMathOperator*{\\argmin}{arg\\,min}$$\n",
    "$$\\def\\E{{\\mathbb{E}}}$$\n",
    "$$\\def\\rvu{{\\mathbf{u}}}$$\n",
    "$$\\def\\rvTheta{{\\bm{\\Theta}}}$$\n",
    "$$\\def\\gU{{\\mathcal{U}}}$$\n",
    "$$\\def\\mX{{\\mathbf{X}}}$$"
   ]
  },
  {
   "cell_type": "markdown",
   "metadata": {},
   "source": [
    "## Controlled Schrodinger Follmer Sampler\n",
    "\n",
    "The objevtive we are trying to implement is:\n",
    "\n",
    "\\begin{align}\n",
    "  \\mathbf{u}_t^{*}=  \\argmin_{\\rvu_t \\in \\mathcal{U}}\\mathbb{E}\\left[\\frac{1}{2\\gamma}\\int_0^1||\\rvu(t, \\Theta_t)||^2 dt - \\ln\\left(\\frac{ p(\\mX | \\Theta_1)p(\\Theta_1)}{\\mathcal{N}(\\Theta_1|\\mathbf{0}, \\gamma \\mathbb{I} )}\\right)\\right] \\\n",
    "\\end{align}\n",
    "\n",
    "Where:\n",
    "\\begin{align}\n",
    "d\\Theta_t = \\rvu(t, \\Theta_t)dt + \\sqrt{\\gamma} dB_t\n",
    "\\end{align}\n",
    "\n",
    "To do so we use the EM discretisation."
   ]
  },
  {
   "cell_type": "code",
   "execution_count": 11,
   "metadata": {},
   "outputs": [],
   "source": [
    "def log_gaussian(x, mean=0):\n",
    "    \"\"\"\n",
    "    Returns the density of x under the supplied gaussian. Defaults to\n",
    "    standard gaussian N(0, I)\n",
    "    :param x: (*) torch.Tensor\n",
    "    :param mean: float or torch.FloatTensor with dimensions (*)\n",
    "    :param logvar: float or torch.FloatTensor with dimensions (*)\n",
    "    :return: (*) elementwise log density\n",
    "    \"\"\"\n",
    "    \n",
    "    log_norm_constant = -0.5 * np.log(2 * np.pi)\n",
    "    \n",
    "    var =  torch.tensor(0.1)\n",
    "    logvar = torch.log(var).reshape(1,1).to(device)\n",
    "    \n",
    "    A = (x - mean) ** 2\n",
    "    log_p = -0.5 * (logvar + A / logvar.exp())\n",
    "    log_p = log_p + log_norm_constant\n",
    "#     import pdb; pdb.set_trace()\n",
    "    return log_p.sum(dim=-1)\n",
    "\n",
    "\n",
    "\n",
    "def ln_prior(Θ, σ_w=1):\n",
    "    \"\"\"\n",
    "    Prior for means in Bayesian GMM\n",
    "    \"\"\"\n",
    "    return -0.5 * (Θ**2).sum(axis=1) / σ_w\n",
    "\n",
    "\n",
    "def log_likelihood_single(μ, X, log=True):\n",
    "    \"\"\"\n",
    "    :param X: design matrix (examples, features)\n",
    "    :param mu: the component means (K, features)\n",
    "    :param logvar: the component log-variances (K, features)\n",
    "    :param log: return value in log domain?\n",
    "\n",
    "    \"\"\"\n",
    "    \n",
    "    n, d = X.shape\n",
    "    # get feature-wise log-likelihoods (K, examples, features)\n",
    "    log_likelihoods = log_gaussian(\n",
    "        X[None, :, :], \n",
    "        μ.reshape(1, d)[:, None, :], \n",
    "    )\n",
    "\n",
    "    return log_likelihoods.sum()\n",
    "\n",
    "\n",
    "def log_likelihood(Θ, X, y=None):\n",
    "    \"\"\"\n",
    "    batching the above (hopefully its right)\n",
    "    \"\"\"\n",
    "\n",
    "    loss_ = lambda μ: log_likelihood_single(μ, X)\n",
    "    \n",
    "    batched_loss =  torch._vmap_internals.vmap(loss_)\n",
    "\n",
    "    return batched_loss(Θ)"
   ]
  },
  {
   "cell_type": "code",
   "execution_count": 12,
   "metadata": {},
   "outputs": [],
   "source": [
    "Δt=0.05\n",
    "K = 1\n",
    "t_size = int(math.ceil(1.0/Δt))\n",
    "dim = K * 2\n",
    "\n",
    "ts = torch.linspace(0, 1, t_size).to(device)\n",
    "no_posterior_samples = 50\n",
    "\n",
    "sde = FollmerSDE(dim, dim, no_posterior_samples, 1.0, device=device).to(device)\n",
    "Θ_0 = torch.zeros((no_posterior_samples, dim)).to(device) # Θ_0 ~ δ_0\n",
    "\n",
    "# Initial state y0, the SDE is solved over the interval [ts[0], ts[-1]].\n",
    "# ys will have shape (t_size, batch_size, state_size)\n",
    "ys = torchsde.sdeint(sde, Θ_0, ts, dt=Δt)"
   ]
  },
  {
   "cell_type": "code",
   "execution_count": 13,
   "metadata": {},
   "outputs": [
    {
     "name": "stderr",
     "output_type": "stream",
     "text": [
      "C:\\Users\\vargf\\anaconda3\\lib\\site-packages\\torch\\_vmap_internals.py:252: UserWarning: torch.vmap is an experimental prototype that is subject to change and/or deletion. Please use at your own risk.\n",
      "  warnings.warn(\n",
      "<ipython-input-11-bd9d1ba955c7>:47: UserWarning: Batching rule not implemented for aten::sum falling back to slow (for loop and stack) implementation (Triggered internally at  ..\\aten\\src\\ATen\\BatchedFallback.cpp:63.)\n",
      "  return log_likelihoods.sum()\n"
     ]
    },
    {
     "data": {
      "text/plain": [
       "tensor(1440.9365, device='cuda:0', grad_fn=<MeanBackward0>)"
      ]
     },
     "execution_count": 13,
     "metadata": {},
     "output_type": "execute_result"
    }
   ],
   "source": [
    "relative_entropy_control_cost(sde, Θ_0, X_train, y_train, \n",
    "                              ln_prior, log_likelihood, γ=1.0, device=device)"
   ]
  },
  {
   "cell_type": "code",
   "execution_count": 14,
   "metadata": {},
   "outputs": [
    {
     "name": "stdout",
     "output_type": "stream",
     "text": [
      "20\n"
     ]
    },
    {
     "data": {
      "application/vnd.jupyter.widget-view+json": {
       "model_id": "dda258222b794d8c977159da19fe4441",
       "version_major": 2,
       "version_minor": 0
      },
      "text/plain": [
       "  0%|          | 0/300 [00:00<?, ?it/s]"
      ]
     },
     "metadata": {},
     "output_type": "display_data"
    },
    {
     "name": "stderr",
     "output_type": "stream",
     "text": [
      "<ipython-input-11-bd9d1ba955c7>:47: UserWarning: Batching rule not implemented for aten::sum falling back to slow (for loop and stack) implementation (Triggered internally at  ..\\aten\\src\\ATen\\BatchedFallback.cpp:63.)\n",
      "  return log_likelihoods.sum()\n"
     ]
    }
   ],
   "source": [
    "γ = 1.0\n",
    "Δt=0.05\n",
    "t_size = int(math.ceil(1.0/Δt))\n",
    "print(t_size)\n",
    "ts = torch.linspace(0, 1, t_size).to(device)\n",
    "\n",
    "sde = FollmerSDE(dim, dim, no_posterior_samples  , γ=γ, device=device).to(device)\n",
    "optimizer = torch.optim.Adam(sde.μ.parameters(), lr=0.01, weight_decay =1)\n",
    "#     optimizer = torch.optim.LBFGS(gpr.parameters(), lr=0.01)\n",
    "losses = []\n",
    "num_steps = 300\n",
    "for i in tqdm(range(num_steps)):\n",
    "    optimizer.zero_grad()\n",
    "\n",
    "    if isinstance(optimizer, torch.optim.LBFGS):\n",
    "        def closure():\n",
    "            loss = relative_entropy_control_cost(\n",
    "                sde, Θ_0.float(),\n",
    "                X_train.float(), y_train.float(),\n",
    "                ln_prior, log_likelihood, γ=γ\n",
    "            )\n",
    "            optimizer.zero_grad()\n",
    "            loss.backward()\n",
    "            return loss\n",
    "\n",
    "        optimizer.step(closure)\n",
    "        losses.append(closure().item())\n",
    "    else:\n",
    "        loss = relative_entropy_control_cost(\n",
    "            sde, Θ_0,\n",
    "            X_train, y_train,\n",
    "            ln_prior, log_likelihood, γ=γ\n",
    "        )\n",
    "        optimizer.zero_grad()\n",
    "        loss.backward()\n",
    "\n",
    "        optimizer.step()\n",
    "        losses.append(loss.item())"
   ]
  },
  {
   "cell_type": "code",
   "execution_count": 15,
   "metadata": {
    "scrolled": true
   },
   "outputs": [
    {
     "data": {
      "text/plain": [
       "[1760.4422607421875,\n",
       " 1330.1094970703125,\n",
       " 1419.7750244140625,\n",
       " 1397.3446044921875,\n",
       " 1518.8858642578125,\n",
       " 1283.724853515625,\n",
       " 1374.09814453125,\n",
       " 1323.4962158203125,\n",
       " 1188.6942138671875,\n",
       " 1170.13720703125,\n",
       " 1163.48486328125,\n",
       " 1183.76953125,\n",
       " 1058.688232421875,\n",
       " 1046.7496337890625,\n",
       " 1197.6710205078125,\n",
       " 1097.364990234375,\n",
       " 1032.490234375,\n",
       " 946.4924926757812,\n",
       " 955.4656982421875,\n",
       " 898.9166870117188,\n",
       " 950.6221923828125,\n",
       " 875.3712158203125,\n",
       " 869.6451416015625,\n",
       " 905.4144897460938,\n",
       " 915.832763671875,\n",
       " 857.5447998046875,\n",
       " 934.2965698242188,\n",
       " 873.3670043945312,\n",
       " 900.94091796875,\n",
       " 908.55859375,\n",
       " 900.7186279296875,\n",
       " 898.0806274414062,\n",
       " 886.2341918945312,\n",
       " 882.1381225585938,\n",
       " 868.1270141601562,\n",
       " 904.06591796875,\n",
       " 880.5618286132812,\n",
       " 883.1301879882812,\n",
       " 882.6488037109375,\n",
       " 881.81396484375,\n",
       " 917.6215209960938,\n",
       " 913.7422485351562,\n",
       " 894.062744140625,\n",
       " 896.26513671875,\n",
       " 891.8934936523438,\n",
       " 908.955810546875,\n",
       " 887.65234375,\n",
       " 910.348876953125,\n",
       " 857.8712158203125,\n",
       " 911.1766967773438,\n",
       " 924.1176147460938,\n",
       " 913.843017578125,\n",
       " 869.5838012695312,\n",
       " 910.8714599609375,\n",
       " 884.5753784179688,\n",
       " 916.9752197265625,\n",
       " 915.636474609375,\n",
       " 895.34912109375,\n",
       " 883.7567138671875,\n",
       " 916.171142578125,\n",
       " 917.3275756835938,\n",
       " 884.7271118164062,\n",
       " 898.4872436523438,\n",
       " 864.35546875,\n",
       " 919.6751098632812,\n",
       " 899.676513671875,\n",
       " 901.0421752929688,\n",
       " 863.7947998046875,\n",
       " 882.946533203125,\n",
       " 882.9188842773438,\n",
       " 899.7670288085938,\n",
       " 913.375,\n",
       " 880.5982055664062,\n",
       " 881.3656005859375,\n",
       " 887.0056762695312,\n",
       " 886.1781005859375,\n",
       " 902.0064697265625,\n",
       " 894.8114013671875,\n",
       " 920.5696411132812,\n",
       " 902.2935791015625,\n",
       " 865.1122436523438,\n",
       " 897.681884765625,\n",
       " 882.002197265625,\n",
       " 896.7583618164062,\n",
       " 908.4432373046875,\n",
       " 892.128662109375,\n",
       " 876.561767578125,\n",
       " 906.8580932617188,\n",
       " 875.3900756835938,\n",
       " 881.0419921875,\n",
       " 891.7330932617188,\n",
       " 906.3500366210938,\n",
       " 887.051513671875,\n",
       " 887.3217163085938,\n",
       " 896.957275390625,\n",
       " 875.6802978515625,\n",
       " 886.525390625,\n",
       " 895.5592041015625,\n",
       " 862.9654541015625,\n",
       " 892.5621948242188,\n",
       " 925.5696411132812,\n",
       " 875.5656127929688,\n",
       " 890.3118286132812,\n",
       " 919.5416259765625,\n",
       " 888.0287475585938,\n",
       " 901.5464477539062,\n",
       " 881.7344970703125,\n",
       " 865.3597412109375,\n",
       " 868.9429321289062,\n",
       " 878.3510131835938,\n",
       " 872.5225830078125,\n",
       " 877.974853515625,\n",
       " 879.7146606445312,\n",
       " 918.1050415039062,\n",
       " 884.6655883789062,\n",
       " 885.6552734375,\n",
       " 872.3920288085938,\n",
       " 868.49951171875,\n",
       " 905.0703125,\n",
       " 918.0279541015625,\n",
       " 926.0860595703125,\n",
       " 944.4791870117188,\n",
       " 917.501708984375,\n",
       " 876.8008422851562,\n",
       " 866.4080200195312,\n",
       " 883.3540649414062,\n",
       " 890.726806640625,\n",
       " 865.1089477539062,\n",
       " 872.2257690429688,\n",
       " 885.4063720703125,\n",
       " 884.6436767578125,\n",
       " 925.947021484375,\n",
       " 881.317138671875,\n",
       " 875.2797241210938,\n",
       " 893.2723388671875,\n",
       " 884.8546752929688,\n",
       " 910.8116455078125,\n",
       " 886.807373046875,\n",
       " 868.2927856445312,\n",
       " 886.0999755859375,\n",
       " 885.7752685546875,\n",
       " 862.3411254882812,\n",
       " 889.5328979492188,\n",
       " 891.7860717773438,\n",
       " 896.219970703125,\n",
       " 875.2042846679688,\n",
       " 901.5235595703125,\n",
       " 904.5907592773438,\n",
       " 887.74169921875,\n",
       " 916.4535522460938,\n",
       " 878.27490234375,\n",
       " 885.1424560546875,\n",
       " 889.2092895507812,\n",
       " 894.5220947265625,\n",
       " 903.491455078125,\n",
       " 892.1893310546875,\n",
       " 891.1700439453125,\n",
       " 895.0419921875,\n",
       " 922.7171020507812,\n",
       " 904.6945190429688,\n",
       " 892.796875,\n",
       " 886.0369873046875,\n",
       " 905.0492553710938,\n",
       " 873.5988159179688,\n",
       " 894.9254760742188,\n",
       " 889.3829345703125,\n",
       " 930.904052734375,\n",
       " 845.8944091796875,\n",
       " 895.1437377929688,\n",
       " 916.4501342773438,\n",
       " 859.95849609375,\n",
       " 878.2723999023438,\n",
       " 894.1669921875,\n",
       " 911.6627807617188,\n",
       " 878.498046875,\n",
       " 911.8359375,\n",
       " 897.2107543945312,\n",
       " 900.7062377929688,\n",
       " 871.8603515625,\n",
       " 924.2944946289062,\n",
       " 908.3346557617188,\n",
       " 871.771728515625,\n",
       " 912.0717163085938,\n",
       " 863.5126342773438,\n",
       " 903.3438110351562,\n",
       " 874.885498046875,\n",
       " 887.6466064453125,\n",
       " 881.48388671875,\n",
       " 885.40185546875,\n",
       " 899.883544921875,\n",
       " 846.8331909179688,\n",
       " 911.4930419921875,\n",
       " 893.1918334960938,\n",
       " 891.235107421875,\n",
       " 903.9375610351562,\n",
       " 880.2084350585938,\n",
       " 882.0623168945312,\n",
       " 902.3313598632812,\n",
       " 892.686279296875,\n",
       " 884.8547973632812,\n",
       " 869.8890380859375,\n",
       " 928.2494506835938,\n",
       " 929.380126953125,\n",
       " 908.6485595703125,\n",
       " 887.7987060546875,\n",
       " 881.832763671875,\n",
       " 879.01953125,\n",
       " 900.5132446289062,\n",
       " 864.57568359375,\n",
       " 895.35546875,\n",
       " 896.911865234375,\n",
       " 902.5498046875,\n",
       " 885.6434936523438,\n",
       " 947.53076171875,\n",
       " 871.021484375,\n",
       " 884.1287231445312,\n",
       " 893.6751098632812,\n",
       " 894.1287841796875,\n",
       " 905.3077392578125,\n",
       " 910.1146850585938,\n",
       " 895.253662109375,\n",
       " 870.7098999023438,\n",
       " 886.6945190429688,\n",
       " 919.033935546875,\n",
       " 923.231201171875,\n",
       " 903.3290405273438,\n",
       " 905.7637329101562,\n",
       " 890.7188110351562,\n",
       " 869.093017578125,\n",
       " 899.3134155273438,\n",
       " 915.2999877929688,\n",
       " 885.40185546875,\n",
       " 912.0680541992188,\n",
       " 885.4295043945312,\n",
       " 872.7135620117188,\n",
       " 881.2835693359375,\n",
       " 857.893798828125,\n",
       " 946.9906616210938,\n",
       " 881.197265625,\n",
       " 899.7788696289062,\n",
       " 891.3834228515625,\n",
       " 873.73388671875,\n",
       " 905.122314453125,\n",
       " 893.8685913085938,\n",
       " 883.0779418945312,\n",
       " 881.990478515625,\n",
       " 860.30029296875,\n",
       " 910.5321655273438,\n",
       " 896.614013671875,\n",
       " 888.1477661132812,\n",
       " 903.4412841796875,\n",
       " 880.7682495117188,\n",
       " 888.7954711914062,\n",
       " 938.3568725585938,\n",
       " 884.6282348632812,\n",
       " 862.1282348632812,\n",
       " 895.548095703125,\n",
       " 898.5648803710938,\n",
       " 904.730712890625,\n",
       " 883.1862182617188,\n",
       " 885.2261352539062,\n",
       " 900.5299682617188,\n",
       " 863.60107421875,\n",
       " 862.406982421875,\n",
       " 890.40185546875,\n",
       " 893.4119262695312,\n",
       " 901.5045166015625,\n",
       " 892.1583251953125,\n",
       " 889.076904296875,\n",
       " 871.8602294921875,\n",
       " 875.1672973632812,\n",
       " 882.4119873046875,\n",
       " 878.2896118164062,\n",
       " 895.7808227539062,\n",
       " 888.1173095703125,\n",
       " 894.5690307617188,\n",
       " 911.7798461914062,\n",
       " 885.6807861328125,\n",
       " 906.6754760742188,\n",
       " 878.8271484375,\n",
       " 890.3004760742188,\n",
       " 873.041259765625,\n",
       " 863.403564453125,\n",
       " 906.1360473632812,\n",
       " 906.0195922851562,\n",
       " 908.7244873046875,\n",
       " 861.9849853515625,\n",
       " 908.5302124023438,\n",
       " 904.0173950195312,\n",
       " 870.239013671875,\n",
       " 887.5269165039062,\n",
       " 873.9830932617188,\n",
       " 868.8214111328125,\n",
       " 861.8636474609375,\n",
       " 870.6795043945312,\n",
       " 861.5865478515625,\n",
       " 875.2991943359375,\n",
       " 878.4724731445312,\n",
       " 907.9043579101562,\n",
       " 860.817138671875]"
      ]
     },
     "execution_count": 15,
     "metadata": {},
     "output_type": "execute_result"
    }
   ],
   "source": [
    "losses"
   ]
  },
  {
   "cell_type": "code",
   "execution_count": 16,
   "metadata": {},
   "outputs": [
    {
     "data": {
      "text/plain": [
       "[<matplotlib.lines.Line2D at 0x289968871c0>]"
      ]
     },
     "execution_count": 16,
     "metadata": {},
     "output_type": "execute_result"
    },
    {
     "data": {
      "image/png": "[encoded data removed]",
      "text/plain": [
       "<Figure size 432x288 with 1 Axes>"
      ]
     },
     "metadata": {
      "needs_background": "light"
     },
     "output_type": "display_data"
    }
   ],
   "source": [
    "plt.plot(losses[:])"
   ]
  },
  {
   "cell_type": "code",
   "execution_count": 17,
   "metadata": {},
   "outputs": [
    {
     "data": {
      "text/plain": [
       "torch.Size([20, 50, 2])"
      ]
     },
     "execution_count": 17,
     "metadata": {},
     "output_type": "execute_result"
    }
   ],
   "source": [
    " torchsde.sdeint(sde, Θ_0, ts, method=\"euler\", dt=Δt).shape"
   ]
  },
  {
   "cell_type": "code",
   "execution_count": 18,
   "metadata": {},
   "outputs": [
    {
     "data": {
      "text/plain": [
       "torch.Size([80, 2])"
      ]
     },
     "execution_count": 18,
     "metadata": {},
     "output_type": "execute_result"
    }
   ],
   "source": [
    "X_train.shape"
   ]
  },
  {
   "cell_type": "code",
   "execution_count": 19,
   "metadata": {},
   "outputs": [],
   "source": [
    "Θ_1 = torchsde.sdeint(sde, Θ_0, ts, dt=Δt)[-1,...]"
   ]
  },
  {
   "cell_type": "code",
   "execution_count": 20,
   "metadata": {},
   "outputs": [],
   "source": [
    "Θ_1 = Θ_1.reshape(50,K,2)"
   ]
  },
  {
   "cell_type": "code",
   "execution_count": 21,
   "metadata": {},
   "outputs": [
    {
     "data": {
      "text/plain": [
       "(array([5., 3., 4., 9., 8., 7., 7., 3., 1., 3.]),\n",
       " array([-0.4047836 , -0.28925672, -0.17372982, -0.05820293,  0.05732395,\n",
       "         0.17285085,  0.28837773,  0.40390462,  0.51943153,  0.6349584 ,\n",
       "         0.7504853 ], dtype=float32),\n",
       " <a list of 10 Patch objects>)"
      ]
     },
     "execution_count": 21,
     "metadata": {},
     "output_type": "execute_result"
    },
    {
     "data": {
      "image/png": "[encoded data removed]",
      "text/plain": [
       "<Figure size 432x288 with 2 Axes>"
      ]
     },
     "metadata": {
      "needs_background": "light"
     },
     "output_type": "display_data"
    }
   ],
   "source": [
    "fig, (ax1,ax2) = plt.subplots(1,2)\n",
    "\n",
    "ax1.hist(Θ_1[:,:,0].flatten().cpu().detach().numpy())\n",
    "ax2.hist(Θ_1[:,:,1].flatten().cpu().detach().numpy())"
   ]
  },
  {
   "cell_type": "code",
   "execution_count": 22,
   "metadata": {},
   "outputs": [
    {
     "data": {
      "text/plain": [
       "tensor([[0.0667, 0.1244]], device='cuda:0', grad_fn=<ViewBackward>)"
      ]
     },
     "execution_count": 22,
     "metadata": {},
     "output_type": "execute_result"
    }
   ],
   "source": [
    "Θ_1.mean(axis=0).reshape(K,2)"
   ]
  },
  {
   "cell_type": "code",
   "execution_count": 23,
   "metadata": {},
   "outputs": [
    {
     "data": {
      "text/plain": [
       "torch.Size([50, 1, 2])"
      ]
     },
     "execution_count": 23,
     "metadata": {},
     "output_type": "execute_result"
    }
   ],
   "source": [
    "Θ_1.shape"
   ]
  },
  {
   "cell_type": "code",
   "execution_count": 24,
   "metadata": {},
   "outputs": [
    {
     "data": {
      "image/png": "[encoded data removed]",
      "text/plain": [
       "<Figure size 1152x432 with 1 Axes>"
      ]
     },
     "metadata": {
      "needs_background": "light"
     },
     "output_type": "display_data"
    }
   ],
   "source": [
    "fig, ax_1 = plt.subplots(1, 1, figsize=(16, 6))\n",
    "Θ_plot = Θ_1.cpu().detach() #.reshape(50*3,2)\n",
    "\n",
    "\n",
    "for i in range(K):\n",
    "    ax_1.plot(Θ_plot[:,i, 0], Θ_plot[:, i, 1], \n",
    "             linestyle='none', \n",
    "             marker='o', color=\"red\", label=\"posterior $\\mu$ samples\")\n",
    "\n",
    "# ax_1.plot(X_scaled[:, 0], X_scaled[:, 1], \n",
    "#          linestyle='none', \n",
    "#          marker='o', label=\"Observations $X$\")\n",
    "\n",
    "ax_1.legend()\n",
    "ax_1.axis('equal');"
   ]
  },
  {
   "cell_type": "markdown",
   "metadata": {},
   "source": [
    "## MAP Baseline\n",
    "\n",
    "We run the point estimate approximation (Maximum a posteriori) to double check what the learned weights look like.  We get the  exact same training accuracy as with the controlled model and similarly large weights for the non bias weights. "
   ]
  },
  {
   "cell_type": "code",
   "execution_count": 22,
   "metadata": {},
   "outputs": [
    {
     "data": {
      "application/vnd.jupyter.widget-view+json": {
       "model_id": "0b020534120e43338eed0cb71250bbc3",
       "version_major": 2,
       "version_minor": 0
      },
      "text/plain": [
       "  0%|          | 0/1000 [00:00<?, ?it/s]"
      ]
     },
     "metadata": {},
     "output_type": "display_data"
    },
    {
     "ename": "RuntimeError",
     "evalue": "Expected all tensors to be on the same device, but found at least two devices, cuda:0 and cpu! (when checking arugment for argument mat2 in method wrapper_mm)",
     "output_type": "error",
     "traceback": [
      "\u001b[0;31m---------------------------------------------------------------------------\u001b[0m",
      "\u001b[0;31mRuntimeError\u001b[0m                              Traceback (most recent call last)",
      "\u001b[0;32m/tmp/ipykernel_15490/2703831245.py\u001b[0m in \u001b[0;36m<module>\u001b[0;34m\u001b[0m\n\u001b[1;32m     18\u001b[0m         \u001b[0mlosses_map\u001b[0m\u001b[0;34m.\u001b[0m\u001b[0mappend\u001b[0m\u001b[0;34m(\u001b[0m\u001b[0mclosure_map\u001b[0m\u001b[0;34m(\u001b[0m\u001b[0;34m)\u001b[0m\u001b[0;34m.\u001b[0m\u001b[0mitem\u001b[0m\u001b[0;34m(\u001b[0m\u001b[0;34m)\u001b[0m\u001b[0;34m)\u001b[0m\u001b[0;34m\u001b[0m\u001b[0;34m\u001b[0m\u001b[0m\n\u001b[1;32m     19\u001b[0m     \u001b[0;32melse\u001b[0m\u001b[0;34m:\u001b[0m\u001b[0;34m\u001b[0m\u001b[0;34m\u001b[0m\u001b[0m\n\u001b[0;32m---> 20\u001b[0;31m         \u001b[0mloss_map\u001b[0m \u001b[0;34m=\u001b[0m \u001b[0;34m-\u001b[0m\u001b[0;34m(\u001b[0m\u001b[0mlog_likelihood_vmap\u001b[0m\u001b[0;34m(\u001b[0m\u001b[0mΘ_map\u001b[0m\u001b[0;34m,\u001b[0m \u001b[0;34m(\u001b[0m\u001b[0mX_train\u001b[0m\u001b[0;34m)\u001b[0m\u001b[0;34m.\u001b[0m\u001b[0mfloat\u001b[0m\u001b[0;34m(\u001b[0m\u001b[0;34m)\u001b[0m\u001b[0;34m,\u001b[0m \u001b[0;34m(\u001b[0m\u001b[0my_train\u001b[0m\u001b[0;34m)\u001b[0m\u001b[0;34m.\u001b[0m\u001b[0mfloat\u001b[0m\u001b[0;34m(\u001b[0m\u001b[0;34m)\u001b[0m\u001b[0;34m)\u001b[0m \u001b[0;34m+\u001b[0m \u001b[0mgaussian_prior\u001b[0m\u001b[0;34m(\u001b[0m\u001b[0mΘ_map\u001b[0m\u001b[0;34m)\u001b[0m\u001b[0;34m)\u001b[0m\u001b[0;34m\u001b[0m\u001b[0;34m\u001b[0m\u001b[0m\n\u001b[0m\u001b[1;32m     21\u001b[0m         \u001b[0moptimizer_map\u001b[0m\u001b[0;34m.\u001b[0m\u001b[0mzero_grad\u001b[0m\u001b[0;34m(\u001b[0m\u001b[0;34m)\u001b[0m\u001b[0;34m\u001b[0m\u001b[0;34m\u001b[0m\u001b[0m\n\u001b[1;32m     22\u001b[0m         \u001b[0mloss_map\u001b[0m\u001b[0;34m.\u001b[0m\u001b[0mbackward\u001b[0m\u001b[0;34m(\u001b[0m\u001b[0;34m)\u001b[0m\u001b[0;34m\u001b[0m\u001b[0;34m\u001b[0m\u001b[0m\n",
      "\u001b[0;32m/tmp/ipykernel_15490/296078900.py\u001b[0m in \u001b[0;36mlog_likelihood_vmap\u001b[0;34m(Θ, X, y)\u001b[0m\n\u001b[1;32m     36\u001b[0m     \"\"\"\n\u001b[1;32m     37\u001b[0m \u001b[0;31m#     import pdb; pdb.set_trace()\u001b[0m\u001b[0;34m\u001b[0m\u001b[0;34m\u001b[0m\u001b[0;34m\u001b[0m\u001b[0m\n\u001b[0;32m---> 38\u001b[0;31m     \u001b[0mlogits\u001b[0m \u001b[0;34m=\u001b[0m \u001b[0mX\u001b[0m\u001b[0;34m.\u001b[0m\u001b[0mmm\u001b[0m\u001b[0;34m(\u001b[0m\u001b[0mΘ\u001b[0m\u001b[0;34m.\u001b[0m\u001b[0mT\u001b[0m\u001b[0;34m)\u001b[0m\u001b[0;34m\u001b[0m\u001b[0;34m\u001b[0m\u001b[0m\n\u001b[0m\u001b[1;32m     39\u001b[0m \u001b[0;34m\u001b[0m\u001b[0m\n\u001b[1;32m     40\u001b[0m     \u001b[0mpos_weights\u001b[0m \u001b[0;34m=\u001b[0m \u001b[0mtorch\u001b[0m\u001b[0;34m.\u001b[0m\u001b[0mones\u001b[0m\u001b[0;34m(\u001b[0m\u001b[0mlogits\u001b[0m\u001b[0;34m.\u001b[0m\u001b[0mshape\u001b[0m\u001b[0;34m[\u001b[0m\u001b[0;36m0\u001b[0m\u001b[0;34m]\u001b[0m\u001b[0;34m,\u001b[0m \u001b[0mdevice\u001b[0m\u001b[0;34m=\u001b[0m\u001b[0mdevice\u001b[0m\u001b[0;34m)\u001b[0m\u001b[0;34m\u001b[0m\u001b[0;34m\u001b[0m\u001b[0m\n",
      "\u001b[0;31mRuntimeError\u001b[0m: Expected all tensors to be on the same device, but found at least two devices, cuda:0 and cpu! (when checking arugment for argument mat2 in method wrapper_mm)"
     ]
    }
   ],
   "source": [
    "Θ_map = torch.full((1, dim), 0.0, requires_grad=True)  \n",
    "optimizer_map = torch.optim.Adam([Θ_map], lr=0.05)\n",
    "#     optimizer = torch.optim.LBFGS(gpr.parameters(), lr=0.01)\n",
    "\n",
    "losses_map = []\n",
    "num_steps = 1000\n",
    "for i in tqdm(range(num_steps)):\n",
    "    optimizer.zero_grad()\n",
    "\n",
    "    if isinstance(optimizer_map, torch.optim.LBFGS):\n",
    "        def closure_map():\n",
    "            loss_map = log_likelihood_vmap()\n",
    "            optimizer_map.zero_grad()\n",
    "            loss_map.backward()\n",
    "            return loss\n",
    "\n",
    "        optimizer_map.step(closure_map)\n",
    "        losses_map.append(closure_map().item())\n",
    "    else:\n",
    "        loss_map = -(log_likelihood_vmap(Θ_map, (X_train).float(), (y_train).float()) + gaussian_prior(Θ_map))\n",
    "        optimizer_map.zero_grad()\n",
    "        loss_map.backward()\n",
    "\n",
    "        optimizer_map.step()\n",
    "        losses_map.append(loss.item())\n",
    "\n",
    "Θ_map\n",
    "pred_map = torch.sigmoid(X_train.float().mm(Θ_map.T)).mean(axis=1)\n",
    "((pred_map < 0.5).float() == y_train).float().mean(), Θ_map"
   ]
  }
 ],
 "metadata": {
  "kernelspec": {
   "display_name": "Python 3",
   "language": "python",
   "name": "python3"
  },
  "language_info": {
   "codemirror_mode": {
    "name": "ipython",
    "version": 3
   },
   "file_extension": ".py",
   "mimetype": "text/x-python",
   "name": "python",
   "nbconvert_exporter": "python",
   "pygments_lexer": "ipython3",
   "version": "3.8.5"
  },
  "toc": {
   "base_numbering": 1,
   "nav_menu": {},
   "number_sections": true,
   "sideBar": true,
   "skip_h1_title": false,
   "title_cell": "Table of Contents",
   "title_sidebar": "Contents",
   "toc_cell": false,
   "toc_position": {},
   "toc_section_display": true,
   "toc_window_display": false
  }
 },
 "nbformat": 4,
 "nbformat_minor": 4
}
