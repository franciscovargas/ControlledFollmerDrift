{
 "cells": [
  {
   "cell_type": "code",
   "execution_count": 1,
   "id": "6ab6cf27",
   "metadata": {},
   "outputs": [],
   "source": [
    "import torch\n",
    "import torch.nn.functional as F\n",
    "import torchsde\n",
    "\n",
    "from torchvision import datasets, transforms\n",
    "\n",
    "import math\n",
    "import numpy as np\n",
    "import pandas as pd\n",
    "from tqdm import tqdm\n",
    "\n",
    "from torchvision.transforms import ToTensor\n",
    "from torch.utils.data import DataLoader\n",
    "import functorch\n",
    "\n",
    "import matplotlib.pyplot as plt\n",
    "\n",
    "from scipy.io import loadmat\n",
    "\n",
    "from cfollmer.evaluation_utils import ECE\n",
    "import cfollmer.functional as functional\n",
    "from cfollmer.objectives import relative_entropy_control_cost\n",
    "from cfollmer.drifts import SimpleForwardNetBN\n",
    "from cfollmer.sampler_utils import FollmerSDE"
   ]
  },
  {
   "cell_type": "code",
   "execution_count": 2,
   "id": "ac6f8160",
   "metadata": {},
   "outputs": [],
   "source": [
    "device = \"cuda\" if torch.cuda.is_available() else \"cpu\""
   ]
  },
  {
   "cell_type": "code",
   "execution_count": 3,
   "id": "9bb6ae46",
   "metadata": {},
   "outputs": [
    {
     "name": "stderr",
     "output_type": "stream",
     "text": [
      "/home/ao464@ad.eng.cam.ac.uk/repos/ControlledFollmerDrift/env/lib/python3.8/site-packages/pandas/util/_decorators.py:311: ParserWarning: Falling back to the 'python' engine because the 'c' engine does not support regex separators (separators > 1 char and different from '\\s+' are interpreted as regex); you can avoid this warning by specifying engine='python'.\n",
      "  return func(*args, **kwargs)\n"
     ]
    }
   ],
   "source": [
    "meg_data = pd.read_csv(\"../data/MEG_art\", header=None, sep=\"  \").to_numpy()"
   ]
  },
  {
   "cell_type": "code",
   "execution_count": 4,
   "id": "999952db",
   "metadata": {},
   "outputs": [],
   "source": [
    "N_total = meg_data.shape[1]\n",
    "N_train = int(0.8 * N_total)\n",
    "N_test = N_total - N_train\n",
    "n_channels = 10\n",
    "dim = n_channels ** 2"
   ]
  },
  {
   "cell_type": "code",
   "execution_count": 5,
   "id": "645b2225",
   "metadata": {},
   "outputs": [],
   "source": [
    "X_train = meg_data[:n_channels, :N_train].T\n",
    "X_test = meg_data[:n_channels, N_train:].T\n",
    "\n",
    "X_train = torch.tensor(X_train, device=device, dtype=torch.float)\n",
    "X_test = torch.tensor(X_test, device=device, dtype=torch.float)\n",
    "\n",
    "std, mu = torch.std_mean(X_train, 0)\n",
    "\n",
    "X_train = (X_train - mu) / std\n",
    "X_test = (X_test - mu) /std"
   ]
  },
  {
   "cell_type": "code",
   "execution_count": 6,
   "id": "8ad9bcd0",
   "metadata": {},
   "outputs": [],
   "source": [
    "sigma2 = 1.0\n",
    "\n",
    "def log_prior(W):\n",
    "    return - torch.sum(W**2) / (2 * sigma2)\n",
    "\n",
    "def log_likelihood(x, W):\n",
    "    W = W.view(n_channels, n_channels)\n",
    "    return x.shape[0] * torch.log(torch.abs(torch.det(W))) - 2 * torch.sum(torch.log(torch.cosh(x @ W)))\n",
    "\n",
    "def log_likelihood_batch(x, W_batch):\n",
    "    func = lambda W: log_likelihood(x, W)\n",
    "    func = torch.vmap(func)\n",
    "    return func(W_batch)\n",
    "\n",
    "def log_posterior(x, W):\n",
    "    return log_prior(W) + (N_train / x.shape[0]) * log_likelihood(x, W)\n",
    "\n",
    "def log_posterior_batch(x, W_batch):\n",
    "    func = lambda W: log_posterior(x, W)\n",
    "    func = torch.vmap(func)\n",
    "    return func(W_batch)"
   ]
  },
  {
   "cell_type": "code",
   "execution_count": 7,
   "id": "ed4d0f39",
   "metadata": {},
   "outputs": [],
   "source": [
    "def train(gamma, n_epochs, data_batch_size, param_batch_size, dt=0.05):\n",
    "    sde = FollmerSDE(gamma, SimpleForwardNetBN(input_dim=dim, width=300)).to(device)\n",
    "    optimizer = torch.optim.Adam(sde.parameters(), lr=1e-4)\n",
    "    \n",
    "    losses = []\n",
    "\n",
    "    for _ in range(n_epochs):\n",
    "        epoch_losses = []\n",
    "\n",
    "        perm = torch.randperm(N_train)\n",
    "\n",
    "        for i in tqdm(range(0, N_train, data_batch_size)):\n",
    "            x = X_train[perm[i:min(i + data_batch_size, N_train)]]\n",
    "            \n",
    "            optimizer.zero_grad()\n",
    "            \n",
    "            partial_log_p = lambda params_batch: log_posterior_batch(x, params_batch)\n",
    "        \n",
    "            loss = relative_entropy_control_cost(sde, partial_log_p, param_batch_size=param_batch_size, dt=dt, device=device)\n",
    "            loss.backward()\n",
    "            \n",
    "            epoch_losses.append(loss.detach().cpu().numpy())\n",
    "            optimizer.step()\n",
    "\n",
    "        losses.append(epoch_losses)\n",
    "    \n",
    "    losses = np.array(losses)\n",
    "    \n",
    "    return sde, losses"
   ]
  },
  {
   "cell_type": "code",
   "execution_count": 8,
   "id": "4c813031",
   "metadata": {},
   "outputs": [],
   "source": [
    "gamma = 0.01**2\n",
    "n_epochs = 2\n",
    "data_batch_size = 10\n",
    "param_batch_size = 32"
   ]
  },
  {
   "cell_type": "code",
   "execution_count": 9,
   "id": "da9eddef",
   "metadata": {},
   "outputs": [
    {
     "name": "stderr",
     "output_type": "stream",
     "text": [
      "  0%|                                                                       | 0/1419 [00:00<?, ?it/s]/home/ao464@ad.eng.cam.ac.uk/repos/ControlledFollmerDrift/env/lib/python3.8/site-packages/torch/nn/functional.py:2384: UserWarning: There is a performance drop because we have not yet implemented the batching rule for aten::batch_norm. Please file us an issue on GitHub so that we can prioritize its implementation. (Triggered internally at  /tmp/pip-req-build-b9xxrrfi/functorch/csrc/BatchedFallback.cpp:106.)\n",
      "  return torch.batch_norm(\n",
      "/tmp/ipykernel_772716/194113635.py:20: UserWarning: torch.vmap is an experimental prototype that is subject to change and/or deletion. Please use at your own risk. There may be unexpected performance cliffs due to certain operators not being implemented. To see detailed performance warnings please use `torch._C._debug_only_display_vmap_fallback_warnings(True) before the call to `vmap`.\n",
      "  func = torch.vmap(func)\n",
      "100%|████████████████████████████████████████████████████████████| 1419/1419 [00:59<00:00, 23.98it/s]\n",
      "100%|████████████████████████████████████████████████████████████| 1419/1419 [01:00<00:00, 23.61it/s]\n"
     ]
    }
   ],
   "source": [
    "sde, losses = train(gamma, n_epochs, data_batch_size, param_batch_size)"
   ]
  },
  {
   "cell_type": "code",
   "execution_count": 10,
   "id": "de660744",
   "metadata": {},
   "outputs": [
    {
     "data": {
      "text/plain": [
       "[<matplotlib.lines.Line2D at 0x7f6bcf48d5b0>]"
      ]
     },
     "execution_count": 10,
     "metadata": {},
     "output_type": "execute_result"
    },
    {
     "data": {
      "image/png": "[encoded data removed]",
      "text/plain": [
       "<Figure size 432x288 with 1 Axes>"
      ]
     },
     "metadata": {
      "needs_background": "light"
     },
     "output_type": "display_data"
    }
   ],
   "source": [
    "plt.plot(losses.flatten())"
   ]
  },
  {
   "cell_type": "code",
   "execution_count": 11,
   "id": "bed84b20",
   "metadata": {},
   "outputs": [
    {
     "name": "stderr",
     "output_type": "stream",
     "text": [
      "/tmp/ipykernel_772716/194113635.py:12: UserWarning: torch.vmap is an experimental prototype that is subject to change and/or deletion. Please use at your own risk. There may be unexpected performance cliffs due to certain operators not being implemented. To see detailed performance warnings please use `torch._C._debug_only_display_vmap_fallback_warnings(True) before the call to `vmap`.\n",
      "  func = torch.vmap(func)\n"
     ]
    }
   ],
   "source": [
    "with torch.no_grad():\n",
    "    W_samples = sde.sample(100, dt=0.01, device=device)\n",
    "    logp = log_likelihood_batch(X_test, W_samples)\n",
    "    logp = torch.mean(logp) / N_test"
   ]
  },
  {
   "cell_type": "code",
   "execution_count": 12,
   "id": "c28afaa4",
   "metadata": {},
   "outputs": [
    {
     "name": "stderr",
     "output_type": "stream",
     "text": [
      "  0%|                                                                       | 0/1419 [00:00<?, ?it/s]/home/ao464@ad.eng.cam.ac.uk/repos/ControlledFollmerDrift/env/lib/python3.8/site-packages/torch/nn/functional.py:2384: UserWarning: There is a performance drop because we have not yet implemented the batching rule for aten::batch_norm. Please file us an issue on GitHub so that we can prioritize its implementation. (Triggered internally at  /tmp/pip-req-build-b9xxrrfi/functorch/csrc/BatchedFallback.cpp:106.)\n",
      "  return torch.batch_norm(\n",
      "/tmp/ipykernel_772716/194113635.py:20: UserWarning: torch.vmap is an experimental prototype that is subject to change and/or deletion. Please use at your own risk. There may be unexpected performance cliffs due to certain operators not being implemented. To see detailed performance warnings please use `torch._C._debug_only_display_vmap_fallback_warnings(True) before the call to `vmap`.\n",
      "  func = torch.vmap(func)\n",
      "100%|████████████████████████████████████████████████████████████| 1419/1419 [00:59<00:00, 23.87it/s]\n",
      "100%|████████████████████████████████████████████████████████████| 1419/1419 [01:00<00:00, 23.65it/s]\n",
      "/tmp/ipykernel_772716/194113635.py:12: UserWarning: torch.vmap is an experimental prototype that is subject to change and/or deletion. Please use at your own risk. There may be unexpected performance cliffs due to certain operators not being implemented. To see detailed performance warnings please use `torch._C._debug_only_display_vmap_fallback_warnings(True) before the call to `vmap`.\n",
      "  func = torch.vmap(func)\n",
      "100%|████████████████████████████████████████████████████████████| 1419/1419 [01:01<00:00, 23.16it/s]\n",
      "100%|████████████████████████████████████████████████████████████| 1419/1419 [01:01<00:00, 23.22it/s]\n",
      "100%|████████████████████████████████████████████████████████████| 1419/1419 [01:08<00:00, 20.61it/s]\n",
      "100%|████████████████████████████████████████████████████████████| 1419/1419 [01:00<00:00, 23.31it/s]\n",
      "100%|████████████████████████████████████████████████████████████| 1419/1419 [01:00<00:00, 23.37it/s]\n",
      "100%|████████████████████████████████████████████████████████████| 1419/1419 [01:01<00:00, 23.19it/s]\n",
      "100%|████████████████████████████████████████████████████████████| 1419/1419 [01:00<00:00, 23.45it/s]\n",
      "100%|████████████████████████████████████████████████████████████| 1419/1419 [01:09<00:00, 20.37it/s]\n"
     ]
    }
   ],
   "source": [
    "n_runs = 5\n",
    "\n",
    "logps = []\n",
    "\n",
    "for i in range(n_runs):\n",
    "    sde, losses = train(gamma, n_epochs, data_batch_size, param_batch_size)\n",
    "    \n",
    "    with torch.no_grad():\n",
    "        W_samples = sde.sample(100, dt=0.01, device=device)\n",
    "        logp = log_likelihood_batch(X_test, W_samples)\n",
    "        logp = torch.mean(logp) / N_test\n",
    "    \n",
    "    logps.append(logp)\n",
    "    \n",
    "logps = torch.stack(logps)"
   ]
  },
  {
   "cell_type": "code",
   "execution_count": 13,
   "id": "625ff3a5",
   "metadata": {},
   "outputs": [],
   "source": [
    "SBP_logps = logps"
   ]
  },
  {
   "cell_type": "code",
   "execution_count": 15,
   "id": "fde6b300",
   "metadata": {},
   "outputs": [],
   "source": [
    "@torch.enable_grad()\n",
    "def gradient(x, W):\n",
    "    W_ = W.clone().requires_grad_(True)\n",
    "    loss = log_posterior(x, W_)\n",
    "    grad, = torch.autograd.grad(loss, W_)\n",
    "    return loss.detach().cpu().numpy(), grad"
   ]
  },
  {
   "cell_type": "code",
   "execution_count": 16,
   "id": "6a26a0db",
   "metadata": {},
   "outputs": [],
   "source": [
    "def step_size(n):\n",
    "    return 0.00001 / (1 + n)**0.5"
   ]
  },
  {
   "cell_type": "code",
   "execution_count": 17,
   "id": "abd660ba",
   "metadata": {},
   "outputs": [],
   "source": [
    "def sgld(n_epochs, data_batch_size):\n",
    "    W = torch.randn(dim).float().to(device)\n",
    "    step = 0\n",
    "\n",
    "    losses = []\n",
    "    logps = []\n",
    "    W_samples = []\n",
    "    \n",
    "    for _ in range(n_epochs):\n",
    "        perm = torch.randperm(N_train)\n",
    "\n",
    "        for i in tqdm(range(0, N_train, data_batch_size)):\n",
    "            x = X_train[perm[i:min(i + data_batch_size, N_train)]]\n",
    "\n",
    "            eps = step_size(step)\n",
    "            loss, grad = gradient(x, W)\n",
    "            W = W + 0.5 * eps * grad + np.sqrt(eps) * torch.randn_like(W)\n",
    "            step += 1\n",
    "            losses.append(loss)\n",
    "            W_samples.append(W)\n",
    "            \n",
    "            with torch.no_grad():\n",
    "                logp = log_likelihood(X_test, W) / N_test\n",
    "                logps.append(logp.cpu().numpy())\n",
    "            \n",
    "    return W_samples, losses, logps"
   ]
  },
  {
   "cell_type": "code",
   "execution_count": 18,
   "id": "30325e8a",
   "metadata": {},
   "outputs": [
    {
     "name": "stderr",
     "output_type": "stream",
     "text": [
      "100%|██████████████████████████████████████████████████████████| 1419/1419 [00:01<00:00, 1031.95it/s]\n",
      "100%|██████████████████████████████████████████████████████████| 1419/1419 [00:01<00:00, 1070.30it/s]\n"
     ]
    }
   ],
   "source": [
    "W_samples, losses, logps = sgld(n_epochs, data_batch_size)"
   ]
  },
  {
   "cell_type": "code",
   "execution_count": 19,
   "id": "957c91e3",
   "metadata": {},
   "outputs": [
    {
     "data": {
      "text/plain": [
       "[<matplotlib.lines.Line2D at 0x7f6bc1a619d0>]"
      ]
     },
     "execution_count": 19,
     "metadata": {},
     "output_type": "execute_result"
    },
    {
     "data": {
      "image/png": "[encoded data removed]",
      "text/plain": [
       "<Figure size 432x288 with 1 Axes>"
      ]
     },
     "metadata": {
      "needs_background": "light"
     },
     "output_type": "display_data"
    }
   ],
   "source": [
    "plt.plot(losses)"
   ]
  },
  {
   "cell_type": "code",
   "execution_count": 20,
   "id": "8162b214",
   "metadata": {},
   "outputs": [],
   "source": [
    "W_samples = torch.stack(W_samples[-100:])"
   ]
  },
  {
   "cell_type": "code",
   "execution_count": 21,
   "id": "917c2088",
   "metadata": {},
   "outputs": [
    {
     "name": "stderr",
     "output_type": "stream",
     "text": [
      "/tmp/ipykernel_772716/194113635.py:12: UserWarning: torch.vmap is an experimental prototype that is subject to change and/or deletion. Please use at your own risk. There may be unexpected performance cliffs due to certain operators not being implemented. To see detailed performance warnings please use `torch._C._debug_only_display_vmap_fallback_warnings(True) before the call to `vmap`.\n",
      "  func = torch.vmap(func)\n"
     ]
    }
   ],
   "source": [
    "logp = log_likelihood_batch(X_test, W_samples)\n",
    "logp = torch.mean(logp) / N_test"
   ]
  },
  {
   "cell_type": "code",
   "execution_count": 22,
   "id": "e6e450b1",
   "metadata": {},
   "outputs": [
    {
     "data": {
      "text/plain": [
       "tensor(-5.0995, device='cuda:0')"
      ]
     },
     "execution_count": 22,
     "metadata": {},
     "output_type": "execute_result"
    }
   ],
   "source": [
    "logp"
   ]
  },
  {
   "cell_type": "code",
   "execution_count": 28,
   "id": "6a1641fa",
   "metadata": {},
   "outputs": [
    {
     "name": "stderr",
     "output_type": "stream",
     "text": [
      "100%|██████████████████████████████████████████████████████████| 1419/1419 [00:01<00:00, 1068.96it/s]\n",
      "100%|██████████████████████████████████████████████████████████| 1419/1419 [00:01<00:00, 1082.04it/s]\n",
      "/tmp/ipykernel_772716/194113635.py:12: UserWarning: torch.vmap is an experimental prototype that is subject to change and/or deletion. Please use at your own risk. There may be unexpected performance cliffs due to certain operators not being implemented. To see detailed performance warnings please use `torch._C._debug_only_display_vmap_fallback_warnings(True) before the call to `vmap`.\n",
      "  func = torch.vmap(func)\n",
      "100%|██████████████████████████████████████████████████████████| 1419/1419 [00:01<00:00, 1095.72it/s]\n",
      "100%|██████████████████████████████████████████████████████████| 1419/1419 [00:01<00:00, 1105.12it/s]\n",
      "100%|██████████████████████████████████████████████████████████| 1419/1419 [00:01<00:00, 1104.21it/s]\n",
      "100%|██████████████████████████████████████████████████████████| 1419/1419 [00:01<00:00, 1100.47it/s]\n",
      "100%|██████████████████████████████████████████████████████████| 1419/1419 [00:01<00:00, 1075.38it/s]\n",
      "100%|██████████████████████████████████████████████████████████| 1419/1419 [00:01<00:00, 1098.83it/s]\n",
      "100%|██████████████████████████████████████████████████████████| 1419/1419 [00:01<00:00, 1052.57it/s]\n",
      "100%|██████████████████████████████████████████████████████████| 1419/1419 [00:01<00:00, 1039.24it/s]\n"
     ]
    }
   ],
   "source": [
    "n_runs = 5\n",
    "logps = []\n",
    "\n",
    "for i in range(n_runs):\n",
    "    W_samples, _, _ = sgld(n_epochs, data_batch_size)\n",
    "    W_samples = torch.stack(W_samples[-100:])\n",
    "    logp = log_likelihood_batch(X_test, W_samples)\n",
    "    logp = torch.mean(logp) / N_test\n",
    "    logps.append(logp)\n",
    "    \n",
    "logps = torch.stack(logps)"
   ]
  },
  {
   "cell_type": "code",
   "execution_count": 29,
   "id": "18897f2c",
   "metadata": {},
   "outputs": [],
   "source": [
    "SGLD_logps = logps"
   ]
  },
  {
   "cell_type": "code",
   "execution_count": 30,
   "id": "f90bcf77",
   "metadata": {},
   "outputs": [
    {
     "data": {
      "text/plain": [
       "tensor([-4.9409, -4.8758, -4.9943, -4.9413, -4.9277], device='cuda:0')"
      ]
     },
     "execution_count": 30,
     "metadata": {},
     "output_type": "execute_result"
    }
   ],
   "source": [
    "SGLD_logps"
   ]
  },
  {
   "cell_type": "code",
   "execution_count": 31,
   "id": "3a971832",
   "metadata": {},
   "outputs": [],
   "source": [
    "df = pd.DataFrame({\"SBP\": SBP_logps.cpu().numpy(), \"SGLD\": SGLD_logps.cpu().numpy()})"
   ]
  },
  {
   "cell_type": "code",
   "execution_count": 32,
   "id": "1d3ae421",
   "metadata": {},
   "outputs": [
    {
     "data": {
      "text/html": [
       "<div>\n",
       "<style scoped>\n",
       "    .dataframe tbody tr th:only-of-type {\n",
       "        vertical-align: middle;\n",
       "    }\n",
       "\n",
       "    .dataframe tbody tr th {\n",
       "        vertical-align: top;\n",
       "    }\n",
       "\n",
       "    .dataframe thead th {\n",
       "        text-align: right;\n",
       "    }\n",
       "</style>\n",
       "<table border=\"1\" class=\"dataframe\">\n",
       "  <thead>\n",
       "    <tr style=\"text-align: right;\">\n",
       "      <th></th>\n",
       "      <th>SBP</th>\n",
       "      <th>SGLD</th>\n",
       "    </tr>\n",
       "  </thead>\n",
       "  <tbody>\n",
       "    <tr>\n",
       "      <th>0</th>\n",
       "      <td>-5.090768</td>\n",
       "      <td>-4.940926</td>\n",
       "    </tr>\n",
       "    <tr>\n",
       "      <th>1</th>\n",
       "      <td>-4.912477</td>\n",
       "      <td>-4.875788</td>\n",
       "    </tr>\n",
       "    <tr>\n",
       "      <th>2</th>\n",
       "      <td>-5.268039</td>\n",
       "      <td>-4.994345</td>\n",
       "    </tr>\n",
       "    <tr>\n",
       "      <th>3</th>\n",
       "      <td>-5.137437</td>\n",
       "      <td>-4.941348</td>\n",
       "    </tr>\n",
       "    <tr>\n",
       "      <th>4</th>\n",
       "      <td>-5.146138</td>\n",
       "      <td>-4.927700</td>\n",
       "    </tr>\n",
       "  </tbody>\n",
       "</table>\n",
       "</div>"
      ],
      "text/plain": [
       "        SBP      SGLD\n",
       "0 -5.090768 -4.940926\n",
       "1 -4.912477 -4.875788\n",
       "2 -5.268039 -4.994345\n",
       "3 -5.137437 -4.941348\n",
       "4 -5.146138 -4.927700"
      ]
     },
     "execution_count": 32,
     "metadata": {},
     "output_type": "execute_result"
    }
   ],
   "source": [
    "df"
   ]
  },
  {
   "cell_type": "code",
   "execution_count": 33,
   "id": "577b68c8",
   "metadata": {},
   "outputs": [
    {
     "data": {
      "text/html": [
       "<div>\n",
       "<style scoped>\n",
       "    .dataframe tbody tr th:only-of-type {\n",
       "        vertical-align: middle;\n",
       "    }\n",
       "\n",
       "    .dataframe tbody tr th {\n",
       "        vertical-align: top;\n",
       "    }\n",
       "\n",
       "    .dataframe thead th {\n",
       "        text-align: right;\n",
       "    }\n",
       "</style>\n",
       "<table border=\"1\" class=\"dataframe\">\n",
       "  <thead>\n",
       "    <tr style=\"text-align: right;\">\n",
       "      <th></th>\n",
       "      <th>SBP</th>\n",
       "      <th>SGLD</th>\n",
       "    </tr>\n",
       "  </thead>\n",
       "  <tbody>\n",
       "    <tr>\n",
       "      <th>count</th>\n",
       "      <td>5.000000</td>\n",
       "      <td>5.000000</td>\n",
       "    </tr>\n",
       "    <tr>\n",
       "      <th>mean</th>\n",
       "      <td>-5.110972</td>\n",
       "      <td>-4.936021</td>\n",
       "    </tr>\n",
       "    <tr>\n",
       "      <th>std</th>\n",
       "      <td>0.128856</td>\n",
       "      <td>0.042283</td>\n",
       "    </tr>\n",
       "    <tr>\n",
       "      <th>min</th>\n",
       "      <td>-5.268039</td>\n",
       "      <td>-4.994345</td>\n",
       "    </tr>\n",
       "    <tr>\n",
       "      <th>25%</th>\n",
       "      <td>-5.146138</td>\n",
       "      <td>-4.941348</td>\n",
       "    </tr>\n",
       "    <tr>\n",
       "      <th>50%</th>\n",
       "      <td>-5.137437</td>\n",
       "      <td>-4.940926</td>\n",
       "    </tr>\n",
       "    <tr>\n",
       "      <th>75%</th>\n",
       "      <td>-5.090768</td>\n",
       "      <td>-4.927700</td>\n",
       "    </tr>\n",
       "    <tr>\n",
       "      <th>max</th>\n",
       "      <td>-4.912477</td>\n",
       "      <td>-4.875788</td>\n",
       "    </tr>\n",
       "  </tbody>\n",
       "</table>\n",
       "</div>"
      ],
      "text/plain": [
       "            SBP      SGLD\n",
       "count  5.000000  5.000000\n",
       "mean  -5.110972 -4.936021\n",
       "std    0.128856  0.042283\n",
       "min   -5.268039 -4.994345\n",
       "25%   -5.146138 -4.941348\n",
       "50%   -5.137437 -4.940926\n",
       "75%   -5.090768 -4.927700\n",
       "max   -4.912477 -4.875788"
      ]
     },
     "execution_count": 33,
     "metadata": {},
     "output_type": "execute_result"
    }
   ],
   "source": [
    "df.describe()"
   ]
  }
 ],
 "metadata": {
  "kernelspec": {
   "display_name": "cfollmer",
   "language": "python",
   "name": "cfollmer"
  },
  "language_info": {
   "codemirror_mode": {
    "name": "ipython",
    "version": 3
   },
   "file_extension": ".py",
   "mimetype": "text/x-python",
   "name": "python",
   "nbconvert_exporter": "python",
   "pygments_lexer": "ipython3",
   "version": "3.8.10"
  }
 },
 "nbformat": 4,
 "nbformat_minor": 5
}
