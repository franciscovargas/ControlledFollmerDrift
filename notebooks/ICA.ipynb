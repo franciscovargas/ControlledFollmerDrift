{
 "cells": [
  {
   "cell_type": "code",
   "execution_count": 1,
   "id": "6ab6cf27",
   "metadata": {},
   "outputs": [],
   "source": [
    "import torch\n",
    "import torch.nn.functional as F\n",
    "import torchsde\n",
    "\n",
    "from torchvision import datasets, transforms\n",
    "\n",
    "import math\n",
    "import numpy as np\n",
    "import pandas as pd\n",
    "from tqdm import tqdm\n",
    "\n",
    "from torchvision.transforms import ToTensor\n",
    "from torch.utils.data import DataLoader\n",
    "import functorch\n",
    "\n",
    "import matplotlib.pyplot as plt\n",
    "\n",
    "from scipy.io import loadmat"
   ]
  },
  {
   "cell_type": "code",
   "execution_count": 2,
   "id": "ac6f8160",
   "metadata": {},
   "outputs": [],
   "source": [
    "device = \"cuda\" if torch.cuda.is_available() else \"cpu\""
   ]
  },
  {
   "cell_type": "code",
   "execution_count": 3,
   "id": "9bb6ae46",
   "metadata": {},
   "outputs": [
    {
     "name": "stderr",
     "output_type": "stream",
     "text": [
      "/home/ao464@ad.eng.cam.ac.uk/repos/ControlledFollmerDrift/env/lib/python3.8/site-packages/pandas/util/_decorators.py:311: ParserWarning: Falling back to the 'python' engine because the 'c' engine does not support regex separators (separators > 1 char and different from '\\s+' are interpreted as regex); you can avoid this warning by specifying engine='python'.\n",
      "  return func(*args, **kwargs)\n"
     ]
    }
   ],
   "source": [
    "meg_data = pd.read_csv(\"MEG_art\", header=None, sep=\"  \").to_numpy()"
   ]
  },
  {
   "cell_type": "code",
   "execution_count": 51,
   "id": "999952db",
   "metadata": {},
   "outputs": [],
   "source": [
    "N_total = meg_data.shape[1]\n",
    "N_train = int(0.8 * N_total)\n",
    "N_test = N_total - N_train\n",
    "n_channels = 10\n",
    "dim = n_channels ** 2"
   ]
  },
  {
   "cell_type": "code",
   "execution_count": 140,
   "id": "645b2225",
   "metadata": {},
   "outputs": [],
   "source": [
    "X_train = meg_data[:n_channels, :N_train].T\n",
    "X_test = meg_data[:n_channels, N_train:].T\n",
    "\n",
    "X_train = torch.tensor(X_train, device=device, dtype=torch.float)\n",
    "X_test = torch.tensor(X_test, device=device, dtype=torch.float)\n",
    "\n",
    "std, mu = torch.std_mean(X_train, 0)\n",
    "\n",
    "X_train = (X_train - mu) / std\n",
    "X_test = (X_test - mu) /std"
   ]
  },
  {
   "cell_type": "code",
   "execution_count": 145,
   "id": "8ad9bcd0",
   "metadata": {},
   "outputs": [],
   "source": [
    "sigma2 = 1.0\n",
    "\n",
    "def log_prior(W):\n",
    "    return - torch.sum(W**2) / (2 * sigma2)\n",
    "\n",
    "def log_likelihood(x, W):\n",
    "    W = W.view(n_channels, n_channels)\n",
    "    return x.shape[0] * torch.log(torch.abs(torch.det(W))) - 2 * torch.sum(torch.log(torch.cosh(x @ W)))\n",
    "\n",
    "def log_posterior(x, W):\n",
    "    return log_prior(W) + (N_train / x.shape[0]) * log_likelihood(x, W)\n",
    "\n",
    "def log_posterior_batch(x, W_batch):\n",
    "    func = lambda W: log_posterior(x, W)\n",
    "    func = torch.vmap(func)\n",
    "    return func(W_batch)"
   ]
  },
  {
   "cell_type": "code",
   "execution_count": 75,
   "id": "f629fade",
   "metadata": {},
   "outputs": [],
   "source": [
    "class SDE(torch.nn.Module):\n",
    "    \n",
    "    def __init__(self, gamma, input_dim, width=300):\n",
    "        super().__init__()\n",
    "        activation = torch.nn.Softplus\n",
    "        \n",
    "        self.nn = torch.nn.Sequential(\n",
    "            torch.nn.Linear(input_dim + 1, width), torch.nn.BatchNorm1d(width, affine=False), activation(),\n",
    "            torch.nn.Linear(width, width), torch.nn.BatchNorm1d(width, affine=False), activation(),\n",
    "            torch.nn.Linear(width, width), torch.nn.BatchNorm1d(width, affine=False), activation(),\n",
    "            torch.nn.Linear(width, width), torch.nn.BatchNorm1d(width, affine=False), activation(),\n",
    "            torch.nn.Linear(width, input_dim)\n",
    "        )\n",
    "        \n",
    "        self.nn[-1].weight.data.fill_(0)\n",
    "        self.nn[-1].bias.data.fill_(0)\n",
    "        \n",
    "        self.noise_type = \"diagonal\"\n",
    "        self.sde_type = \"ito\"\n",
    "        \n",
    "        self.gamma = gamma\n",
    "    \n",
    "    def f(self, t, params_batch):\n",
    "        t_ = t * torch.ones((params_batch.shape[0], 1), device=params_batch.device)\n",
    "        return self.nn(torch.cat((t_, params_batch), dim=-1))\n",
    "    \n",
    "    def g(self, t, params_batch):\n",
    "        return torch.sqrt(self.gamma * torch.ones_like(params_batch))"
   ]
  },
  {
   "cell_type": "code",
   "execution_count": 146,
   "id": "6329d126",
   "metadata": {},
   "outputs": [],
   "source": [
    "def loss(sde, x, dt=0.05):\n",
    "    n_steps = int(1.0 / dt)\n",
    "    ts = torch.linspace(0, 1, n_steps, device=device)\n",
    "    \n",
    "    param_init = torch.zeros((param_batch_size, dim), device=device)\n",
    "    param_trajectory = torchsde.sdeint(sde, param_init, ts, method=\"euler\", dt=dt)\n",
    "    param_T = param_trajectory[-1]\n",
    "    \n",
    "    fs = torch.vmap(sde.f)(ts, param_trajectory)\n",
    "    \n",
    "    energy_cost = torch.sum(fs**2, dim=[0, 2]) * dt  / (2 * gamma)\n",
    "    \n",
    "    terminal_cost = - torch.sum(param_T**2, dim=1) / (2 * gamma) - log_posterior_batch(x, param_T)\n",
    "    \n",
    "    return torch.mean(energy_cost + terminal_cost) / N_train"
   ]
  },
  {
   "cell_type": "code",
   "execution_count": 172,
   "id": "4c813031",
   "metadata": {},
   "outputs": [],
   "source": [
    "gamma = 0.01**2\n",
    "sde = SDE(gamma, dim).to(device)\n",
    "\n",
    "optimizer = torch.optim.Adam(sde.parameters(), lr=1e-4)\n",
    "\n",
    "n_epochs = 2\n",
    "data_batch_size = 10\n",
    "param_batch_size = 32"
   ]
  },
  {
   "cell_type": "code",
   "execution_count": 173,
   "id": "ed4d0f39",
   "metadata": {},
   "outputs": [
    {
     "name": "stderr",
     "output_type": "stream",
     "text": [
      "  0%|                                                                       | 0/1419 [00:00<?, ?it/s]/tmp/ipykernel_405078/3846770037.py:9: UserWarning: torch.vmap is an experimental prototype that is subject to change and/or deletion. Please use at your own risk. There may be unexpected performance cliffs due to certain operators not being implemented. To see detailed performance warnings please use `torch._C._debug_only_display_vmap_fallback_warnings(True) before the call to `vmap`.\n",
      "  fs = torch.vmap(sde.f)(ts, param_trajectory)\n",
      "/tmp/ipykernel_405078/4129360332.py:15: UserWarning: torch.vmap is an experimental prototype that is subject to change and/or deletion. Please use at your own risk. There may be unexpected performance cliffs due to certain operators not being implemented. To see detailed performance warnings please use `torch._C._debug_only_display_vmap_fallback_warnings(True) before the call to `vmap`.\n",
      "  func = torch.vmap(func)\n",
      "100%|████████████████████████████████████████████████████████████| 1419/1419 [01:15<00:00, 18.91it/s]\n",
      "100%|████████████████████████████████████████████████████████████| 1419/1419 [01:14<00:00, 19.12it/s]\n"
     ]
    }
   ],
   "source": [
    "losses = []\n",
    "\n",
    "for _ in range(n_epochs):\n",
    "    epoch_losses = []\n",
    "    \n",
    "    perm = torch.randperm(N_train)\n",
    "    X_train = X_train[perm]\n",
    "    \n",
    "    for i in tqdm(range(0, N_train, data_batch_size)):\n",
    "        x = X_train[i:min(i + data_batch_size, N_train)]\n",
    "        \n",
    "        optimizer.zero_grad()\n",
    "        l = loss(sde, x, dt=0.05)\n",
    "        l.backward()\n",
    "        epoch_losses.append(l.detach().cpu().numpy())\n",
    "        optimizer.step()\n",
    "        \n",
    "    losses.append(epoch_losses)"
   ]
  },
  {
   "cell_type": "code",
   "execution_count": 174,
   "id": "91bfbd2e",
   "metadata": {},
   "outputs": [],
   "source": [
    "losses = np.array(losses)"
   ]
  },
  {
   "cell_type": "code",
   "execution_count": 175,
   "id": "de660744",
   "metadata": {},
   "outputs": [
    {
     "data": {
      "text/plain": [
       "[<matplotlib.lines.Line2D at 0x7f3d5f590d00>]"
      ]
     },
     "execution_count": 175,
     "metadata": {},
     "output_type": "execute_result"
    },
    {
     "data": {
      "image/png": "[encoded data removed]",
      "text/plain": [
       "<Figure size 432x288 with 1 Axes>"
      ]
     },
     "metadata": {
      "needs_background": "light"
     },
     "output_type": "display_data"
    }
   ],
   "source": [
    "plt.plot(losses.flatten())"
   ]
  },
  {
   "cell_type": "code",
   "execution_count": 176,
   "id": "bed84b20",
   "metadata": {},
   "outputs": [],
   "source": [
    "with torch.no_grad():\n",
    "    dt = 0.005\n",
    "    n_steps = int(1.0 / dt)\n",
    "    ts = torch.linspace(0, 1, n_steps, device=device)\n",
    "    \n",
    "    W_init = torch.zeros((100, dim), device=device)\n",
    "    W_trajectory = torchsde.sdeint(sde, W_init, ts, method=\"euler\", dt=dt)\n",
    "    W_samples = W_trajectory[-1]"
   ]
  },
  {
   "cell_type": "code",
   "execution_count": 177,
   "id": "efa94ed2",
   "metadata": {},
   "outputs": [
    {
     "name": "stderr",
     "output_type": "stream",
     "text": [
      "/tmp/ipykernel_405078/4129360332.py:15: UserWarning: torch.vmap is an experimental prototype that is subject to change and/or deletion. Please use at your own risk. There may be unexpected performance cliffs due to certain operators not being implemented. To see detailed performance warnings please use `torch._C._debug_only_display_vmap_fallback_warnings(True) before the call to `vmap`.\n",
      "  func = torch.vmap(func)\n"
     ]
    }
   ],
   "source": [
    "with torch.no_grad():\n",
    "    logps = log_posterior_batch(X_test, W_samples)"
   ]
  },
  {
   "cell_type": "code",
   "execution_count": 180,
   "id": "9ed236a6",
   "metadata": {},
   "outputs": [
    {
     "data": {
      "text/plain": [
       "tensor(-19.7106, device='cuda:0')"
      ]
     },
     "execution_count": 180,
     "metadata": {},
     "output_type": "execute_result"
    }
   ],
   "source": [
    "torch.mean(logps) / N_test"
   ]
  },
  {
   "cell_type": "code",
   "execution_count": 181,
   "id": "fde6b300",
   "metadata": {},
   "outputs": [],
   "source": [
    "@torch.enable_grad()\n",
    "def gradient(x, W):\n",
    "    W_ = W.clone().requires_grad_(True)\n",
    "    loss = log_posterior(x, W_)\n",
    "    grad, = torch.autograd.grad(loss, W_)\n",
    "    return loss.detach().cpu().numpy(), grad"
   ]
  },
  {
   "cell_type": "code",
   "execution_count": 207,
   "id": "6a26a0db",
   "metadata": {},
   "outputs": [],
   "source": [
    "def step_size(n):\n",
    "    return 0.0001 / (1 + n)**0.5"
   ]
  },
  {
   "cell_type": "code",
   "execution_count": 208,
   "id": "0506b22a",
   "metadata": {},
   "outputs": [],
   "source": [
    "W = torch.randn(dim).float().to(device)\n",
    "n_epochs = 10"
   ]
  },
  {
   "cell_type": "code",
   "execution_count": 209,
   "id": "abd660ba",
   "metadata": {},
   "outputs": [
    {
     "name": "stderr",
     "output_type": "stream",
     "text": [
      "100%|███████████████████████████████████████████████████████████| 1419/1419 [00:01<00:00, 981.68it/s]\n",
      "100%|███████████████████████████████████████████████████████████| 1419/1419 [00:01<00:00, 930.75it/s]\n",
      "100%|███████████████████████████████████████████████████████████| 1419/1419 [00:01<00:00, 928.12it/s]\n",
      "100%|███████████████████████████████████████████████████████████| 1419/1419 [00:01<00:00, 918.53it/s]\n",
      "100%|███████████████████████████████████████████████████████████| 1419/1419 [00:01<00:00, 899.86it/s]\n",
      "100%|███████████████████████████████████████████████████████████| 1419/1419 [00:01<00:00, 990.49it/s]\n",
      "100%|██████████████████████████████████████████████████████████| 1419/1419 [00:01<00:00, 1004.26it/s]\n",
      "100%|███████████████████████████████████████████████████████████| 1419/1419 [00:01<00:00, 993.53it/s]\n",
      "100%|██████████████████████████████████████████████████████████| 1419/1419 [00:01<00:00, 1005.66it/s]\n",
      "100%|██████████████████████████████████████████████████████████| 1419/1419 [00:01<00:00, 1012.48it/s]\n"
     ]
    }
   ],
   "source": [
    "step = 0\n",
    "\n",
    "losses = []\n",
    "logps = []\n",
    "\n",
    "for _ in range(n_epochs):\n",
    "    perm = torch.randperm(N_train)\n",
    "    X_train = X_train[perm]\n",
    "    \n",
    "    for i in tqdm(range(0, N_train, data_batch_size)):\n",
    "        x = X_train[i:min(i + data_batch_size, N_train)]\n",
    "        \n",
    "        eps = step_size(step)\n",
    "        loss, grad = gradient(x, W)\n",
    "        W = W + 0.5 * eps * grad + np.sqrt(eps) * torch.randn_like(W)\n",
    "        step += 1\n",
    "        losses.append(epoch_losses)\n",
    "        \n",
    "        with torch.no_grad():\n",
    "            logp = log_posterior(X_test, W) / N_test\n",
    "            logps.append(logp.cpu().numpy())"
   ]
  },
  {
   "cell_type": "code",
   "execution_count": 210,
   "id": "957c91e3",
   "metadata": {},
   "outputs": [
    {
     "data": {
      "text/plain": [
       "[<matplotlib.lines.Line2D at 0x7f3d5c1bba30>]"
      ]
     },
     "execution_count": 210,
     "metadata": {},
     "output_type": "execute_result"
    },
    {
     "data": {
      "image/png": "[encoded data removed]",
      "text/plain": [
       "<Figure size 432x288 with 1 Axes>"
      ]
     },
     "metadata": {
      "needs_background": "light"
     },
     "output_type": "display_data"
    }
   ],
   "source": [
    "plt.plot(logps)"
   ]
  }
 ],
 "metadata": {
  "kernelspec": {
   "display_name": "cfollmer",
   "language": "python",
   "name": "cfollmer"
  },
  "language_info": {
   "codemirror_mode": {
    "name": "ipython",
    "version": 3
   },
   "file_extension": ".py",
   "mimetype": "text/x-python",
   "name": "python",
   "nbconvert_exporter": "python",
   "pygments_lexer": "ipython3",
   "version": "3.8.10"
  }
 },
 "nbformat": 4,
 "nbformat_minor": 5
}
