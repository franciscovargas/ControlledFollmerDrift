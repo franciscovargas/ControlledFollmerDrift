{
 "cells": [
  {
   "cell_type": "code",
   "execution_count": 1,
   "id": "bbf2c645",
   "metadata": {},
   "outputs": [],
   "source": [
    "import torch\n",
    "import torch.nn.functional as F\n",
    "import torchsde\n",
    "\n",
    "from torchvision import datasets, transforms\n",
    "\n",
    "import math\n",
    "import numpy as np\n",
    "from tqdm import tqdm\n",
    "\n",
    "from torchvision.transforms import ToTensor\n",
    "from torch.utils.data import DataLoader\n",
    "import functorch\n",
    "\n",
    "import matplotlib.pyplot as plt"
   ]
  },
  {
   "cell_type": "code",
   "execution_count": 2,
   "id": "0807196b",
   "metadata": {},
   "outputs": [],
   "source": [
    "device = \"cuda\" if torch.cuda.is_available() else \"cpu\""
   ]
  },
  {
   "cell_type": "code",
   "execution_count": 3,
   "id": "13d51926",
   "metadata": {},
   "outputs": [],
   "source": [
    "class DNN(torch.nn.Module):\n",
    "    \n",
    "    def __init__(self, input_dim=1, output_dim=1):\n",
    "        super(DNN, self).__init__()\n",
    "        \n",
    "        self.output_dim = output_dim\n",
    "        self.input_dim = input_dim\n",
    "        \n",
    "        self.nn = torch.nn.Sequential(\n",
    "            torch.nn.Linear(input_dim, 100),\n",
    "            torch.nn.ReLU(),\n",
    "            torch.nn.Linear(100, 100),\n",
    "            torch.nn.ReLU(),\n",
    "            torch.nn.Linear(100, output_dim)\n",
    "        )\n",
    "        \n",
    "    def forward(self, x):\n",
    "        return self.nn(x)"
   ]
  },
  {
   "cell_type": "code",
   "execution_count": 5,
   "id": "0ffdbbdd",
   "metadata": {},
   "outputs": [
    {
     "data": {
      "image/png": "[encoded data removed]",
      "text/plain": [
       "<Figure size 432x288 with 1 Axes>"
      ]
     },
     "metadata": {
      "needs_background": "light"
     },
     "output_type": "display_data"
    }
   ],
   "source": [
    "np.random.seed(123)\n",
    "sigma_n = 0.1\n",
    "\n",
    "# Test inputs\n",
    "X_train = np.linspace(-3.5, 3.5, 100).reshape(-1,1)\n",
    "X_test = np.linspace(-10, 10, 100).reshape(-1, 1)\n",
    "\n",
    "f_train = np.heaviside(X_train, 0)\n",
    "f_test = np.heaviside(X_test, 0)\n",
    "\n",
    "y_train = f_train + sigma_n * np.random.randn(*f_train.shape)\n",
    "y_test = f_test # No need for noise I guess\n",
    "\n",
    "# Noisy observations\n",
    "fig, ax = plt.subplots(figsize=(6, 4), tight_layout=True)\n",
    "ax.plot(X_test, y_test, 'b', label = 'f(x)')\n",
    "ax.plot(X_train, y_train, 'kP', ms = 9, label = 'y(x) = f(x) + $\\epsilon$')\n",
    "ax.legend(loc = 'upper left')\n",
    "ax.set_title('Target function with noisy observations ')\n",
    "\n",
    "plt.show()"
   ]
  },
  {
   "cell_type": "code",
   "execution_count": 6,
   "id": "672fe4ef",
   "metadata": {},
   "outputs": [],
   "source": [
    "X_train = torch.tensor(X_train, device=device, dtype=torch.float)\n",
    "X_test = torch.tensor(X_test, device=device, dtype=torch.float)\n",
    "\n",
    "y_train = torch.tensor(y_train, device=device, dtype=torch.float)\n",
    "y_test = torch.tensor(y_test, device=device, dtype=torch.float)"
   ]
  },
  {
   "cell_type": "code",
   "execution_count": 7,
   "id": "f5327f98",
   "metadata": {},
   "outputs": [],
   "source": [
    "model = DNN().to(device)\n",
    "func_model, params = functorch.make_functional(model)\n",
    "param_sizes = [p.shape for p in params]\n",
    "dim = sum([math.prod(s)for s in param_sizes])\n",
    "N = 100\n",
    "\n",
    "idx_to = np.cumsum([math.prod(s) for s in param_sizes])\n",
    "idx_from = np.zeros(len(idx_to), dtype=int)\n",
    "idx_from[1:] = idx_to[:-1]\n",
    "\n",
    "def get_params_from_array(array):\n",
    "    return [array[idx_from[i]:idx_to[i]].reshape(s) for i, s in enumerate(param_sizes)]\n",
    "    \n",
    "sigma2 = 0.1\n",
    "\n",
    "def log_prior(params):\n",
    "    return -torch.sum(params**2) / (2 * sigma2)\n",
    "\n",
    "def log_likelihood(x, y, params):\n",
    "    preds = func_model(get_params_from_array(params), x)\n",
    "    diff = preds - y\n",
    "    \n",
    "    return - torch.sum(diff**2) / (2 * sigma_n**2)\n",
    "\n",
    "def log_posterior(x, y, params):\n",
    "    return log_prior(params) + (N / x.shape[0]) * log_likelihood(x, y, params)\n",
    "\n",
    "def log_posterior_batch(x, y, params_batch):\n",
    "    func = lambda params: log_posterior(x, y, params)\n",
    "    func = functorch.vmap(func)\n",
    "    return func(params_batch)"
   ]
  },
  {
   "cell_type": "code",
   "execution_count": 8,
   "id": "f853db9c",
   "metadata": {},
   "outputs": [],
   "source": [
    "class SDE(torch.nn.Module):\n",
    "    \n",
    "    def __init__(self, gamma, input_dim, width=300):\n",
    "        super().__init__()\n",
    "        activation = torch.nn.Softplus\n",
    "        \n",
    "        self.nn = torch.nn.Sequential(\n",
    "            torch.nn.Linear(input_dim + 1, width), torch.nn.BatchNorm1d(width, affine=False), activation(),\n",
    "            torch.nn.Linear(width, width), torch.nn.BatchNorm1d(width, affine=False), activation(),\n",
    "            torch.nn.Linear(width, width), torch.nn.BatchNorm1d(width, affine=False), activation(),\n",
    "            torch.nn.Linear(width, width), torch.nn.BatchNorm1d(width, affine=False), activation(),\n",
    "            torch.nn.Linear(width, input_dim)\n",
    "        )\n",
    "        \n",
    "        self.nn[-1].weight.data.fill_(0)\n",
    "        self.nn[-1].bias.data.fill_(0)\n",
    "        \n",
    "        self.noise_type = \"diagonal\"\n",
    "        self.sde_type = \"ito\"\n",
    "        \n",
    "        self.gamma = gamma\n",
    "    \n",
    "    def f(self, t, params_batch):\n",
    "        t_ = t * torch.ones((params_batch.shape[0], 1), device=params_batch.device)\n",
    "        return self.nn(torch.cat((t_, params_batch), dim=-1))\n",
    "    \n",
    "    def g(self, t, params_batch):\n",
    "        return torch.sqrt(self.gamma * torch.ones_like(params_batch))"
   ]
  },
  {
   "cell_type": "code",
   "execution_count": 9,
   "id": "1d339968",
   "metadata": {},
   "outputs": [],
   "source": [
    "def loss(sde, x, y, dt=0.05):\n",
    "    n_steps = int(1.0 / dt)\n",
    "    ts = torch.linspace(0, 1, n_steps, device=device)\n",
    "    \n",
    "    param_init = torch.zeros((param_batch_size, dim), device=device)\n",
    "    param_trajectory = torchsde.sdeint(sde, param_init, ts, method=\"euler\", dt=dt)\n",
    "    param_T = param_trajectory[-1]\n",
    "    \n",
    "    fs = functorch.vmap(sde.f)(ts, param_trajectory)\n",
    "    \n",
    "    energy_cost = torch.sum(fs**2, dim=[0, 2]) * dt  / (2 * gamma)\n",
    "    terminal_cost = - torch.sum(param_T**2, dim=1) / (2 * gamma) - log_posterior_batch(x, y, param_T)\n",
    "    \n",
    "    return torch.mean(energy_cost + terminal_cost)"
   ]
  },
  {
   "cell_type": "code",
   "execution_count": 10,
   "id": "84dfc72f",
   "metadata": {},
   "outputs": [],
   "source": [
    "gamma = 0.05**2\n",
    "sde = SDE(gamma, dim).to(device)\n",
    "\n",
    "optimizer = torch.optim.Adam(sde.parameters(), lr=1e-4)\n",
    "\n",
    "n_steps = 300\n",
    "data_batch_size = 50\n",
    "param_batch_size = 32"
   ]
  },
  {
   "cell_type": "code",
   "execution_count": 11,
   "id": "368f3376",
   "metadata": {},
   "outputs": [
    {
     "name": "stderr",
     "output_type": "stream",
     "text": [
      "  0%|                                                                        | 0/300 [00:00<?, ?it/s]/home/ao464@ad.eng.cam.ac.uk/repos/ControlledFollmerDrift/env/lib/python3.8/site-packages/torch/nn/functional.py:2384: UserWarning: There is a performance drop because we have not yet implemented the batching rule for aten::batch_norm. Please file us an issue on GitHub so that we can prioritize its implementation. (Triggered internally at  /tmp/pip-req-build-b9xxrrfi/functorch/csrc/BatchedFallback.cpp:106.)\n",
      "  return torch.batch_norm(\n",
      "100%|██████████████████████████████████████████████████████████████| 300/300 [00:09<00:00, 30.04it/s]\n"
     ]
    }
   ],
   "source": [
    "losses = []\n",
    "\n",
    "for _ in tqdm(range(n_steps)):\n",
    "    perm = torch.randperm(100)\n",
    "    x = X_train[perm[:50], :]\n",
    "    y = y_train[perm[:50], :]\n",
    "    \n",
    "    optimizer.zero_grad()\n",
    "    l = loss(sde, x, y, dt=0.05)\n",
    "    l.backward()\n",
    "    losses.append(l.detach().cpu().numpy())\n",
    "    optimizer.step()"
   ]
  },
  {
   "cell_type": "code",
   "execution_count": 12,
   "id": "da5c0f2d",
   "metadata": {},
   "outputs": [],
   "source": [
    "losses = np.array(losses)"
   ]
  },
  {
   "cell_type": "code",
   "execution_count": 13,
   "id": "77ff3ae4",
   "metadata": {},
   "outputs": [
    {
     "data": {
      "text/plain": [
       "[<matplotlib.lines.Line2D at 0x7f4b60533ca0>]"
      ]
     },
     "execution_count": 13,
     "metadata": {},
     "output_type": "execute_result"
    },
    {
     "data": {
      "image/png": "[encoded data removed]",
      "text/plain": [
       "<Figure size 432x288 with 1 Axes>"
      ]
     },
     "metadata": {
      "needs_background": "light"
     },
     "output_type": "display_data"
    }
   ],
   "source": [
    "plt.plot(losses.flatten())"
   ]
  },
  {
   "cell_type": "code",
   "execution_count": 40,
   "id": "803befef",
   "metadata": {},
   "outputs": [],
   "source": [
    "with torch.no_grad():\n",
    "    dt = 0.005\n",
    "    n_steps = int(1.0 / dt)\n",
    "    ts = torch.linspace(0, 1, n_steps, device=device)\n",
    "    \n",
    "    param_init = torch.zeros((50, dim), device=device)\n",
    "    param_trajectory = torchsde.sdeint(sde, param_init, ts, method=\"euler\", dt=dt)\n",
    "    param_samples = param_trajectory[-1]"
   ]
  },
  {
   "cell_type": "code",
   "execution_count": 41,
   "id": "d74bcff7",
   "metadata": {},
   "outputs": [],
   "source": [
    "with torch.no_grad():\n",
    "    predict_func = lambda params : func_model(get_params_from_array(params), X_test)\n",
    "    predict_func = functorch.vmap(predict_func)\n",
    "\n",
    "    preds = predict_func(param_samples)\n",
    "    std = torch.std(preds, dim=0)\n",
    "    preds = torch.mean(preds, dim=0)"
   ]
  },
  {
   "cell_type": "code",
   "execution_count": 43,
   "id": "923f5717",
   "metadata": {},
   "outputs": [
    {
     "data": {
      "image/png": "[encoded data removed]",
      "text/plain": [
       "<Figure size 432x288 with 1 Axes>"
      ]
     },
     "metadata": {
      "needs_background": "light"
     },
     "output_type": "display_data"
    }
   ],
   "source": [
    "plt.plot(X_test.cpu().squeeze(), preds.cpu().numpy())\n",
    "plt.fill_between(X_test.cpu().squeeze(), (preds - 2 * std).cpu().squeeze(), (preds + 2 * std).cpu().squeeze(), alpha=0.2)\n",
    "plt.plot(X_train.cpu(), y_train.cpu(), 'kP', ms = 9)\n",
    "plt.title(\"SBP fit\")\n",
    "plt.legend([\"mean prediction\", \"data\", r\"$\\pm 2\\sigma^2$\"])\n",
    "plt.savefig(\"plots/sbp_step_func_fit.png\", bbox_inches=\"tight\", dpi=600)"
   ]
  },
  {
   "cell_type": "code",
   "execution_count": 44,
   "id": "c718a86c",
   "metadata": {},
   "outputs": [],
   "source": [
    "@torch.enable_grad()\n",
    "def gradient(x, y, params):\n",
    "    params_ = params.clone().requires_grad_(True)\n",
    "    loss = log_posterior(x, y, params_)\n",
    "    grad, = torch.autograd.grad(loss, params_)\n",
    "    return loss.detach().cpu().numpy(), grad"
   ]
  },
  {
   "cell_type": "code",
   "execution_count": 45,
   "id": "6ddf1ce3",
   "metadata": {},
   "outputs": [],
   "source": [
    "def step_size(n):\n",
    "    return 1e-4/ (1 + n)**0.1"
   ]
  },
  {
   "cell_type": "code",
   "execution_count": 72,
   "id": "3367d39b",
   "metadata": {},
   "outputs": [],
   "source": [
    "params = torch.zeros(dim).float().to(device)\n",
    "n_steps = 10000"
   ]
  },
  {
   "cell_type": "code",
   "execution_count": 73,
   "id": "d2263e2e",
   "metadata": {},
   "outputs": [
    {
     "name": "stderr",
     "output_type": "stream",
     "text": [
      "100%|████████████████████████████████████████████████████████| 10000/10000 [00:07<00:00, 1331.61it/s]\n"
     ]
    }
   ],
   "source": [
    "losses = []\n",
    "\n",
    "for step in tqdm(range(n_steps)):\n",
    "    perm = torch.randperm(100)\n",
    "    x = X_train[perm[:50], :]\n",
    "    y = y_train[perm[:50], :]\n",
    "    \n",
    "    eps = step_size(step)\n",
    "    loss, grad = gradient(x, y, params)\n",
    "    params = params + 0.5 * eps * grad + np.sqrt(eps) * torch.randn_like(params)\n",
    "    \n",
    "    losses.append(loss)"
   ]
  },
  {
   "cell_type": "code",
   "execution_count": 74,
   "id": "95d3eb14",
   "metadata": {},
   "outputs": [
    {
     "data": {
      "text/plain": [
       "[<matplotlib.lines.Line2D at 0x7f4b0c41c5e0>]"
      ]
     },
     "execution_count": 74,
     "metadata": {},
     "output_type": "execute_result"
    },
    {
     "data": {
      "image/png": "[encoded data removed]",
      "text/plain": [
       "<Figure size 432x288 with 1 Axes>"
      ]
     },
     "metadata": {
      "needs_background": "light"
     },
     "output_type": "display_data"
    }
   ],
   "source": [
    "plt.plot(losses)"
   ]
  },
  {
   "cell_type": "code",
   "execution_count": 75,
   "id": "94d0e11a",
   "metadata": {},
   "outputs": [],
   "source": [
    "preds = func_model(get_params_from_array(params), X_test)"
   ]
  },
  {
   "cell_type": "code",
   "execution_count": 76,
   "id": "8ce90561",
   "metadata": {},
   "outputs": [
    {
     "data": {
      "text/plain": [
       "[<matplotlib.lines.Line2D at 0x7f4b0c3d6bb0>]"
      ]
     },
     "execution_count": 76,
     "metadata": {},
     "output_type": "execute_result"
    },
    {
     "data": {
      "image/png": "[encoded data removed]",
      "text/plain": [
       "<Figure size 432x288 with 1 Axes>"
      ]
     },
     "metadata": {
      "needs_background": "light"
     },
     "output_type": "display_data"
    }
   ],
   "source": [
    "plt.plot(X_test.cpu(), preds.cpu())"
   ]
  },
  {
   "cell_type": "code",
   "execution_count": 85,
   "id": "fb992cfe",
   "metadata": {},
   "outputs": [],
   "source": [
    "params_samples = []\n",
    "\n",
    "for i in range(1000):\n",
    "    perm = torch.randperm(100)\n",
    "    x = X_train[perm[:50], :]\n",
    "    y = y_train[perm[:50], :]\n",
    "        \n",
    "    eps = step_size(step)\n",
    "    loss, grad = gradient(x, y, params)\n",
    "    params = params + 0.5 * eps * grad + np.sqrt(eps) * torch.randn_like(params)\n",
    "    step += 1\n",
    "    params_samples.append(params)"
   ]
  },
  {
   "cell_type": "code",
   "execution_count": 86,
   "id": "42cb2ec7",
   "metadata": {},
   "outputs": [],
   "source": [
    "params_samples = torch.stack(params_samples)"
   ]
  },
  {
   "cell_type": "code",
   "execution_count": 87,
   "id": "7c3ff6ba",
   "metadata": {},
   "outputs": [],
   "source": [
    "with torch.no_grad():\n",
    "    predict_func = lambda params : func_model(get_params_from_array(params), X_test)\n",
    "    predict_func = functorch.vmap(predict_func)\n",
    "\n",
    "    preds = predict_func(params_samples)\n",
    "    std = torch.std(preds, dim=0)\n",
    "    preds = torch.mean(preds, dim=0)"
   ]
  },
  {
   "cell_type": "code",
   "execution_count": 88,
   "id": "5b090181",
   "metadata": {},
   "outputs": [
    {
     "data": {
      "image/png": "[encoded data removed]",
      "text/plain": [
       "<Figure size 432x288 with 1 Axes>"
      ]
     },
     "metadata": {
      "needs_background": "light"
     },
     "output_type": "display_data"
    }
   ],
   "source": [
    "plt.plot(X_test.cpu().squeeze(), preds.cpu().numpy())\n",
    "plt.fill_between(X_test.cpu().squeeze(), (preds - 2 * std).cpu().squeeze(), (preds + 2 * std).cpu().squeeze(), alpha=0.2)\n",
    "plt.plot(X_train.cpu(), y_train.cpu(), 'kP', ms = 9)\n",
    "plt.title(\"SGLD fit\")\n",
    "plt.legend([\"mean prediction\", \"data\", r\"$\\pm 2\\sigma^2$\"])\n",
    "plt.savefig(\"plots/sgld_step_func_fit_1000.png\", bbox_inches=\"tight\", dpi=600)"
   ]
  }
 ],
 "metadata": {
  "kernelspec": {
   "display_name": "cfollmer",
   "language": "python",
   "name": "cfollmer"
  },
  "language_info": {
   "codemirror_mode": {
    "name": "ipython",
    "version": 3
   },
   "file_extension": ".py",
   "mimetype": "text/x-python",
   "name": "python",
   "nbconvert_exporter": "python",
   "pygments_lexer": "ipython3",
   "version": "3.8.10"
  }
 },
 "nbformat": 4,
 "nbformat_minor": 5
}
