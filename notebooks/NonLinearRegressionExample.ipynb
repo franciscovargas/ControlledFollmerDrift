{
 "cells": [
  {
   "cell_type": "code",
   "execution_count": 1,
   "metadata": {},
   "outputs": [],
   "source": [
    "import torch\n",
    "import torch.nn.functional as F\n",
    "\n",
    "import torchsde\n",
    "import math\n",
    "import matplotlib.pyplot as plt\n",
    "\n",
    "import numpy as np\n",
    "\n",
    "from tqdm.notebook import tqdm\n",
    "\n",
    "from torch import _vmap_internals"
   ]
  },
  {
   "cell_type": "code",
   "execution_count": 2,
   "metadata": {},
   "outputs": [],
   "source": [
    "from cfollmer.objectives import log_g, relative_entropy_control_cost, stl_relative_entropy_control_cost\n",
    "from cfollmer.sampler_utils import FollmerSDE, SimpleForwardNetBN\n",
    "from cfollmer.trainers import basic_batched_trainer"
   ]
  },
  {
   "cell_type": "markdown",
   "metadata": {},
   "source": [
    "# The Model\n",
    "\n",
    "\\begin{align}\n",
    "\\theta &\\sim \\mathcal{N}(\\theta | 0, \\sigma_w^2 \\mathbb{I}) \\\\\n",
    "y_i | x_i, \\theta &\\sim  \\mathcal{N}(y | f(x_i;\\theta), \\sigma_y^2 \\mathbb{I})\n",
    "\\end{align}\n",
    "\n",
    "We want samples from $p(\\theta | \\{(y_i, x_i)\\})$. Note $f(x; \\theta)$ is a neural net with params $\\theta$"
   ]
  },
  {
   "cell_type": "markdown",
   "metadata": {},
   "source": [
    "## Loading the StepFunc dataset"
   ]
  },
  {
   "cell_type": "code",
   "execution_count": 3,
   "metadata": {},
   "outputs": [
    {
     "data": {
      "image/png": "[encoded data removed]",
      "text/plain": [
       "<Figure size 432x288 with 1 Axes>"
      ]
     },
     "metadata": {
      "needs_background": "light"
     },
     "output_type": "display_data"
    }
   ],
   "source": [
    "device = \"cuda\" if torch.cuda.is_available() else \"cpu\"\n",
    "\n",
    "\n",
    "# Test inputs\n",
    "num_test_samples = 100\n",
    "X_test = np.linspace(-4, 4, num_test_samples).reshape(num_test_samples,1)\n",
    "\n",
    "# Noise free training inputs\n",
    "X_train = np.linspace(-3.5, 3.5, 100).reshape(-1,1)\n",
    "#f_train = np.cos(X_train) \n",
    "f_train = np.heaviside(X_train, 0)\n",
    "\n",
    "# Noise-free training outputs\n",
    "#f = np.cos(X_test)\n",
    "f = np.heaviside(X_test, 0)\n",
    "y_test  = f\n",
    "\n",
    "# Noisy training Inputs with additive Gaussian noise (zero-mean, variance sigma_n)\n",
    "sigma_n = 0.1\n",
    "\n",
    "mu = np.zeros(X_train.size)\n",
    "epsilon = np.random.multivariate_normal(mu, sigma_n**2 * np.eye(X_train.size))\n",
    "\n",
    "# Noisy targets\n",
    "y_train = f_train + epsilon.reshape(X_train.size,1)\n",
    "\n",
    "# Noisy observations\n",
    "fig, ax = plt.subplots(figsize=(6, 4), tight_layout=True)\n",
    "ax.plot(X_test, f, 'b', label = 'f(x)')\n",
    "ax.plot(X_train, y_train, 'kP', ms = 9, label = 'y(x) = f(x) + $\\epsilon$')\n",
    "ax.legend(loc = 'upper left')\n",
    "ax.set_title('Target function with noisy observations ')\n",
    "\n",
    "plt.show()"
   ]
  },
  {
   "cell_type": "code",
   "execution_count": 4,
   "metadata": {},
   "outputs": [],
   "source": [
    "device = \"cuda\" if torch.cuda.is_available() else \"cpu\"\n",
    "\n",
    "\n",
    "\n",
    "X_train, X_test, y_train, y_test = \\\n",
    "    torch.tensor(X_train, dtype=torch.float32, device=device), \\\n",
    "    torch.tensor(X_test, dtype=torch.float32, device=device), \\\n",
    "    torch.tensor(y_train, dtype=torch.float32, device=device), \\\n",
    "    torch.tensor(y_test, dtype=torch.float32, device=device) "
   ]
  },
  {
   "cell_type": "markdown",
   "metadata": {},
   "source": [
    "$$\\DeclareMathOperator*{\\argmin}{arg\\,min}$$\n",
    "$$\\def\\E{{\\mathbb{E}}}$$\n",
    "$$\\def\\rvu{{\\mathbf{u}}}$$\n",
    "$$\\def\\rvTheta{{\\bm{\\Theta}}}$$\n",
    "$$\\def\\gU{{\\mathcal{U}}}$$\n",
    "$$\\def\\mX{{\\mathbf{X}}}$$"
   ]
  },
  {
   "cell_type": "markdown",
   "metadata": {},
   "source": [
    "## Controlled Schrodinger Follmer Sampler\n",
    "\n",
    "The objevtive we are trying to implement is:\n",
    "\n",
    "\\begin{align}\n",
    "  \\mathbf{u}_t^{*}=  \\argmin_{\\rvu_t \\in \\mathcal{U}}\\mathbb{E}\\left[\\frac{1}{2\\gamma}\\int_0^1||\\rvu(t, \\Theta_t)||^2 dt - \\ln\\left(\\frac{ p(\\mX | \\Theta_1)p(\\Theta_1)}{\\mathcal{N}(\\Theta_1|\\mathbf{0}, \\gamma \\mathbb{I} )}\\right)\\right] \\\n",
    "\\end{align}\n",
    "\n",
    "Where:\n",
    "\\begin{align}\n",
    "d\\Theta_t = \\rvu(t, \\Theta_t)dt + \\sqrt{\\gamma} dB_t\n",
    "\\end{align}\n"
   ]
  },
  {
   "cell_type": "code",
   "execution_count": 5,
   "metadata": {},
   "outputs": [],
   "source": [
    "import torch.nn.functional as F\n",
    "\n",
    "\n",
    "class OnedRegressionForwardNet(object):\n",
    "    \n",
    "    def __init__(\n",
    "        self, input_dim=1, output_dim=1, depth=None,\n",
    "        width=20, width_seq=None, device=\"cpu\", activation=F.relu\n",
    "    ):\n",
    "        \n",
    "        self.device = device\n",
    "        self.output_dim = output_dim\n",
    "        self.input_dim = input_dim \n",
    "        self.activation = activation\n",
    "        \n",
    "        self.depth = depth\n",
    "        if not self.depth:\n",
    "            self.depth = 1\n",
    "        if not width_seq:\n",
    "            self.width = width\n",
    "            self.width_seq = [self.width] * (self.depth + 1)\n",
    "            self.shapes = [(self.width_seq[i-1], self.width_seq[i])  for i in range(1,self.depth)]\n",
    "            self.shapes += [(self.width_seq[-1], self.output_dim)]\n",
    "            self.shapes = [(self.input_dim, self.width_seq[0])] + self.shapes\n",
    "        \n",
    "        self.dim = sum([wx * wy + wy for wx, wy in self.shapes])\n",
    "        \n",
    "    def forward(self, x, Θ):\n",
    "        index = 0\n",
    "        n, d = x.shape\n",
    "        \n",
    "#         dim_bl =  sum([wx * wy + wy for wx, wy in self.shapes[:-1]])\n",
    "#         Θ[:dim_bl] = (Θ[:dim_bl] - Θ[:dim_bl].mean()) / Θ[:dim_bl].std()\n",
    "#         σ_Θ, μ_Θ = Θ.std(), Θ.mean()\n",
    "#         Θ = (Θ - μ_Θ) / σ_Θ\n",
    "\n",
    "        for wx, wy in self.shapes[:-1]:\n",
    "            x = F.linear(\n",
    "                x,\n",
    "                Θ[index: index + wx * wy].reshape(wy, wx),\n",
    "                Θ[index + wx * wy: index + wx * wy + wy].reshape(1,wy)\n",
    "            )\n",
    "            x = self.activation(x)\n",
    "            index += wx * wy  + wy\n",
    "        wx, wy = self.shapes[-1]\n",
    "        x = F.linear(\n",
    "            x,\n",
    "            Θ[index: index + wx * wy].reshape(wy, wx), #* σ_Θ + μ_Θ,\n",
    "            Θ[index + wx * wy: index + wx * wy + wy].reshape(1,wy) # * σ_Θ + μ_Θ\n",
    "        )\n",
    "        return x.to(self.device)\n",
    "    \n",
    "    def map_forward(self, x, Θ):\n",
    "        preds_func = lambda θ: self.forward(x, θ)\n",
    "        batched_preds = torch._vmap_internals.vmap(preds_func)\n",
    "        preds = torch.hstack(list(map(preds_func, Θ)))\n",
    "        return preds\n",
    "        "
   ]
  },
  {
   "cell_type": "code",
   "execution_count": 6,
   "metadata": {},
   "outputs": [],
   "source": [
    "net = OnedRegressionForwardNet(\n",
    "    1,1, device=device, depth=2, width=12, activation=F.relu\n",
    ")\n",
    "\n",
    "def ln_prior(Θ, σ_w=1.6):\n",
    "    \"\"\"\n",
    "    Logistic regresion bayesian prior\n",
    "    \"\"\"\n",
    "    return -0.5 * (Θ**2).sum(axis=1) / σ_w**2 \n",
    "\n",
    "\n",
    "def log_likelihood_vmap(Θ, X, y, net=net, σ_y=0.1):\n",
    "    \"\"\"\n",
    "    Hoping this implementation is less buggy / faster\n",
    "    \n",
    "    still feels a bit slow.\n",
    "    \"\"\"\n",
    "    preds_func = lambda θ: net.forward(X, θ)\n",
    "#     batched_preds = torch._vmap_internals.vmap(preds_func)\n",
    "#     import pdb; pdb.set_trace()\n",
    "    preds = torch.hstack(list(map(preds_func, Θ)))\n",
    "\n",
    "    diff = preds - y\n",
    "#     import pdb; pdb.set_trace()\n",
    "    diff_sq_fld = -0.5 * (diff**2).sum(dim=0) / σ_y**2\n",
    "\n",
    "    return diff_sq_fld"
   ]
  },
  {
   "cell_type": "code",
   "execution_count": 7,
   "metadata": {},
   "outputs": [],
   "source": [
    "Δt=0.05\n",
    "t_size = int(math.ceil(1.0/Δt))\n",
    "dim = net.dim\n",
    "\n",
    "ts = torch.linspace(0, 1, t_size).to(device)\n",
    "no_posterior_samples = 30\n",
    "\n",
    "sde = FollmerSDE(dim, dim, no_posterior_samples, 1.0, device=device, drift=SimpleForwardNetBN).to(device)\n",
    "Θ_0 = torch.zeros((no_posterior_samples, net.dim)).to(device) # Θ_0 ~ δ_0\n",
    "\n",
    "# Initial state y0, the SDE is solved over the interval [ts[0], ts[-1]].\n",
    "# ys will have shape (t_size, batch_size, state_size)\n",
    "ys = torchsde.sdeint(sde, Θ_0, ts, dt=Δt)"
   ]
  },
  {
   "cell_type": "code",
   "execution_count": 8,
   "metadata": {},
   "outputs": [
    {
     "name": "stderr",
     "output_type": "stream",
     "text": [
      "c:\\users\\vargf\\onedrive\\documents\\projects\\controlledfollmerdrift\\cfollmer\\objectives.py:97: UserWarning: torch.vmap is an experimental prototype that is subject to change and/or deletion. Please use at your own risk. There may be unexpected performance cliffs due to certain operators not being implemented. To see detailed performance warnings please use `torch._C._debug_only_display_vmap_fallback_warnings(True) before the call to `vmap`.\n",
      "  f = _vmap_internals.vmap(f_)\n",
      "c:\\users\\vargf\\onedrive\\documents\\projects\\controlledfollmerdrift\\cfollmer\\objectives.py:98: UserWarning: torch.vmap is an experimental prototype that is subject to change and/or deletion. Please use at your own risk. There may be unexpected performance cliffs due to certain operators not being implemented. To see detailed performance warnings please use `torch._C._debug_only_display_vmap_fallback_warnings(True) before the call to `vmap`.\n",
      "  f_detached = _vmap_internals.vmap(sde.f_detached)\n"
     ]
    },
    {
     "data": {
      "text/plain": [
       "tensor(1282521.1250, device='cuda:0', grad_fn=<MeanBackward0>)"
      ]
     },
     "execution_count": 8,
     "metadata": {},
     "output_type": "execute_result"
    }
   ],
   "source": [
    "stl_relative_entropy_control_cost(sde, Θ_0, X_train, y_train, \n",
    "                              ln_prior, log_likelihood_vmap, γ=1.0, device=device, batchnorm=True)"
   ]
  },
  {
   "cell_type": "code",
   "execution_count": 31,
   "metadata": {},
   "outputs": [
    {
     "data": {
      "application/vnd.jupyter.widget-view+json": {
       "model_id": "c00d150680f94ecdb51b30696e3ad3c5",
       "version_major": 2,
       "version_minor": 0
      },
      "text/plain": [
       "  0%|          | 0/400 [00:00<?, ?it/s]"
      ]
     },
     "metadata": {},
     "output_type": "display_data"
    }
   ],
   "source": [
    "γ = 0.2\n",
    "Δt = 0.01\n",
    "\n",
    "# γ = 1\n",
    "# Δt = 0.05 - \\sigma_w = 10-6\n",
    "sde, losses = basic_batched_trainer(\n",
    "    γ, Δt, ln_prior, log_likelihood_vmap, net.dim, X_train, y_train,\n",
    "    method=\"euler\", stl=True, adjoint=False, optimizer=None,\n",
    "    num_steps=400, batch_size_data=100, batch_size_Θ=150,\n",
    "    batchnorm=False, device=device\n",
    ")"
   ]
  },
  {
   "cell_type": "code",
   "execution_count": 21,
   "metadata": {},
   "outputs": [],
   "source": [
    "torch.cuda.empty_cache()"
   ]
  },
  {
   "cell_type": "code",
   "execution_count": 22,
   "metadata": {
    "scrolled": true
   },
   "outputs": [
    {
     "data": {
      "text/plain": [
       "[3394.8779296875,\n",
       " 2732.121826171875,\n",
       " 2026.8690185546875,\n",
       " 1762.449462890625,\n",
       " 1602.484619140625,\n",
       " 1604.2908935546875,\n",
       " 1166.475341796875,\n",
       " 1363.8292236328125,\n",
       " 1338.5123291015625,\n",
       " 1177.0654296875,\n",
       " 1277.387451171875,\n",
       " 1258.3857421875,\n",
       " 1212.9996337890625,\n",
       " 1161.4117431640625,\n",
       " 1072.8436279296875,\n",
       " 1019.464111328125,\n",
       " 1184.150634765625,\n",
       " 1160.562744140625,\n",
       " 985.6177978515625,\n",
       " 1126.261962890625,\n",
       " 1062.8154296875,\n",
       " 1176.8504638671875,\n",
       " 1058.0609130859375,\n",
       " 1039.2642822265625,\n",
       " 1130.32666015625,\n",
       " 1165.840576171875,\n",
       " 943.9663696289062,\n",
       " 1151.828125,\n",
       " 983.8535766601562,\n",
       " 1127.41357421875,\n",
       " 871.9606323242188,\n",
       " 888.68359375,\n",
       " 833.834716796875,\n",
       " 918.2539672851562,\n",
       " 1019.5946655273438,\n",
       " 936.6378784179688,\n",
       " 821.9609375,\n",
       " 728.4002685546875,\n",
       " 846.6148071289062,\n",
       " 757.423095703125,\n",
       " 773.6224975585938,\n",
       " 824.9146728515625,\n",
       " 712.830322265625,\n",
       " 746.8237915039062,\n",
       " 684.4771118164062,\n",
       " 723.2715454101562,\n",
       " 620.3679809570312,\n",
       " 619.6757202148438,\n",
       " 624.927978515625,\n",
       " 619.7642822265625,\n",
       " 550.5906372070312,\n",
       " 585.3085327148438,\n",
       " 443.2722473144531,\n",
       " 474.4693603515625,\n",
       " 566.8015747070312,\n",
       " 503.7814025878906,\n",
       " 542.5158081054688,\n",
       " 497.1820983886719,\n",
       " 534.2416381835938,\n",
       " 506.0158386230469,\n",
       " 408.1722717285156,\n",
       " 476.09698486328125,\n",
       " 482.50390625,\n",
       " 427.5196838378906,\n",
       " 465.0613098144531,\n",
       " 487.61328125,\n",
       " 464.298828125,\n",
       " 451.9256896972656,\n",
       " 436.66632080078125,\n",
       " 379.3143615722656,\n",
       " 419.5316162109375,\n",
       " 394.6204528808594,\n",
       " 436.11279296875,\n",
       " 407.1706237792969,\n",
       " 462.8269348144531,\n",
       " 373.2456970214844,\n",
       " 416.10943603515625,\n",
       " 432.31243896484375,\n",
       " 318.1932373046875,\n",
       " 397.7696838378906,\n",
       " 351.0124206542969,\n",
       " 341.40966796875,\n",
       " 345.1441345214844,\n",
       " 343.16229248046875,\n",
       " 345.9765625,\n",
       " 309.28070068359375,\n",
       " 291.1960144042969,\n",
       " 284.78656005859375,\n",
       " 273.0556640625,\n",
       " 304.3408508300781,\n",
       " 364.0318908691406,\n",
       " 278.1239318847656,\n",
       " 287.8152770996094,\n",
       " 299.1294860839844,\n",
       " 340.27947998046875,\n",
       " 275.6570739746094,\n",
       " 356.33154296875,\n",
       " 240.343017578125,\n",
       " 431.0041198730469,\n",
       " 278.22259521484375,\n",
       " 386.9240417480469,\n",
       " 300.8709716796875,\n",
       " 304.22119140625,\n",
       " 357.5689697265625,\n",
       " 303.3995056152344,\n",
       " 331.139404296875,\n",
       " 281.2948303222656,\n",
       " 297.7081604003906,\n",
       " 297.9523010253906,\n",
       " 287.6003723144531,\n",
       " 248.41757202148438,\n",
       " 283.30535888671875,\n",
       " 316.724853515625,\n",
       " 255.91326904296875,\n",
       " 278.82489013671875,\n",
       " 256.26904296875,\n",
       " 243.8375701904297,\n",
       " 286.3171691894531,\n",
       " 224.30136108398438,\n",
       " 262.3851013183594,\n",
       " 236.0077362060547,\n",
       " 242.37738037109375,\n",
       " 235.4940948486328,\n",
       " 220.97251892089844,\n",
       " 220.4021453857422,\n",
       " 206.7633514404297,\n",
       " 235.291748046875,\n",
       " 181.94210815429688,\n",
       " 220.84698486328125,\n",
       " 190.19921875,\n",
       " 223.55496215820312,\n",
       " 217.2864532470703,\n",
       " 202.23922729492188,\n",
       " 221.04933166503906,\n",
       " 177.05226135253906,\n",
       " 226.7623748779297,\n",
       " 201.68167114257812,\n",
       " 197.5876922607422,\n",
       " 211.27349853515625,\n",
       " 208.17726135253906,\n",
       " 194.1029815673828,\n",
       " 202.15196228027344,\n",
       " 179.67515563964844,\n",
       " 196.330322265625,\n",
       " 186.14675903320312,\n",
       " 203.10128784179688,\n",
       " 224.95579528808594,\n",
       " 195.84869384765625,\n",
       " 165.5477752685547,\n",
       " 175.5401153564453,\n",
       " 186.58509826660156,\n",
       " 194.85597229003906,\n",
       " 193.400390625,\n",
       " 191.79039001464844,\n",
       " 149.03025817871094,\n",
       " 177.92970275878906,\n",
       " 174.362060546875,\n",
       " 165.4276580810547,\n",
       " 195.30691528320312,\n",
       " 171.30056762695312,\n",
       " 183.8695526123047,\n",
       " 197.73765563964844,\n",
       " 167.78453063964844,\n",
       " 192.346435546875,\n",
       " 188.60659790039062,\n",
       " 182.8541717529297,\n",
       " 178.4212646484375,\n",
       " 179.62327575683594,\n",
       " 163.3543701171875,\n",
       " 148.92803955078125,\n",
       " 169.81187438964844,\n",
       " 157.96788024902344,\n",
       " 189.4599609375,\n",
       " 196.57484436035156,\n",
       " 140.79318237304688,\n",
       " 177.0630645751953,\n",
       " 167.94796752929688,\n",
       " 177.98089599609375,\n",
       " 169.85336303710938,\n",
       " 189.2266387939453,\n",
       " 163.28933715820312,\n",
       " 187.7352752685547,\n",
       " 156.46615600585938,\n",
       " 176.12042236328125,\n",
       " 152.6954803466797,\n",
       " 205.76234436035156,\n",
       " 146.81199645996094,\n",
       " 187.20835876464844,\n",
       " 158.19845581054688,\n",
       " 147.0800323486328,\n",
       " 173.61285400390625,\n",
       " 169.60069274902344,\n",
       " 163.94178771972656,\n",
       " 152.21884155273438,\n",
       " 155.33865356445312,\n",
       " 174.37557983398438,\n",
       " 165.55844116210938,\n",
       " 184.57720947265625,\n",
       " 153.6916961669922,\n",
       " 191.98670959472656,\n",
       " 176.5257568359375,\n",
       " 204.37738037109375,\n",
       " 149.59230041503906,\n",
       " 216.8108673095703,\n",
       " 174.15338134765625,\n",
       " 213.01380920410156,\n",
       " 150.14605712890625,\n",
       " 198.15750122070312,\n",
       " 160.6060333251953,\n",
       " 182.00160217285156,\n",
       " 182.4110107421875,\n",
       " 178.8590850830078,\n",
       " 178.30181884765625,\n",
       " 160.8914337158203,\n",
       " 199.021484375,\n",
       " 162.50331115722656,\n",
       " 180.51768493652344,\n",
       " 142.2985076904297,\n",
       " 158.93370056152344,\n",
       " 161.36167907714844,\n",
       " 136.72586059570312,\n",
       " 179.13148498535156,\n",
       " 189.1734161376953,\n",
       " 148.4262237548828,\n",
       " 172.80792236328125,\n",
       " 161.57626342773438,\n",
       " 156.3124542236328,\n",
       " 140.32015991210938,\n",
       " 151.87925720214844,\n",
       " 156.5223846435547,\n",
       " 163.8534393310547,\n",
       " 121.7801742553711,\n",
       " 157.48484802246094,\n",
       " 143.1415252685547,\n",
       " 136.3197021484375,\n",
       " 148.478271484375,\n",
       " 158.58868408203125,\n",
       " 151.37925720214844,\n",
       " 151.84744262695312,\n",
       " 167.78233337402344,\n",
       " 151.98587036132812,\n",
       " 142.27410888671875,\n",
       " 163.84640502929688,\n",
       " 148.30908203125,\n",
       " 150.4257354736328,\n",
       " 149.15234375,\n",
       " 143.34271240234375,\n",
       " 156.1121368408203,\n",
       " 146.83920288085938,\n",
       " 137.0175018310547,\n",
       " 147.76585388183594,\n",
       " 150.7764129638672,\n",
       " 174.78858947753906,\n",
       " 139.0653533935547,\n",
       " 157.04119873046875,\n",
       " 164.35069274902344,\n",
       " 165.5911865234375,\n",
       " 169.09864807128906,\n",
       " 179.4833221435547,\n",
       " 148.09849548339844,\n",
       " 162.23643493652344,\n",
       " 158.16212463378906,\n",
       " 175.4635772705078,\n",
       " 121.4016342163086,\n",
       " 173.823974609375,\n",
       " 139.97671508789062,\n",
       " 161.63218688964844,\n",
       " 149.07644653320312,\n",
       " 162.8887481689453,\n",
       " 154.93017578125,\n",
       " 151.3065185546875,\n",
       " 143.20687866210938,\n",
       " 144.0525665283203,\n",
       " 159.3354034423828,\n",
       " 148.98939514160156,\n",
       " 141.74574279785156,\n",
       " 162.6823272705078,\n",
       " 151.2675323486328,\n",
       " 139.3173065185547,\n",
       " 156.60267639160156,\n",
       " 147.2913055419922,\n",
       " 163.42239379882812,\n",
       " 142.5046844482422,\n",
       " 147.31712341308594,\n",
       " 126.30200958251953,\n",
       " 148.85501098632812,\n",
       " 153.59934997558594,\n",
       " 136.76058959960938,\n",
       " 136.16580200195312,\n",
       " 145.97801208496094,\n",
       " 117.12631225585938,\n",
       " 140.20852661132812,\n",
       " 127.52008819580078,\n",
       " 120.40587615966797,\n",
       " 121.4854965209961,\n",
       " 137.598876953125,\n",
       " 151.34429931640625,\n",
       " 152.8804168701172,\n",
       " 121.22438049316406,\n",
       " 125.38438415527344,\n",
       " 141.39476013183594,\n",
       " 131.41603088378906,\n",
       " 116.15699768066406,\n",
       " 131.33949279785156,\n",
       " 122.4332275390625,\n",
       " 142.97300720214844,\n",
       " 133.22857666015625,\n",
       " 150.00863647460938,\n",
       " 115.78627014160156,\n",
       " 128.07260131835938,\n",
       " 119.81095123291016,\n",
       " 111.794921875,\n",
       " 145.2667236328125,\n",
       " 124.03218841552734,\n",
       " 127.024169921875,\n",
       " 144.946044921875,\n",
       " 136.90005493164062,\n",
       " 135.0708770751953,\n",
       " 129.61679077148438,\n",
       " 125.7654037475586,\n",
       " 141.53407287597656,\n",
       " 124.50325775146484,\n",
       " 121.3459701538086,\n",
       " 130.55294799804688,\n",
       " 141.566162109375,\n",
       " 111.74333953857422,\n",
       " 132.25123596191406,\n",
       " 127.00224304199219,\n",
       " 149.04637145996094,\n",
       " 167.35552978515625,\n",
       " 114.47577667236328,\n",
       " 134.50697326660156,\n",
       " 121.90813446044922,\n",
       " 121.8293228149414,\n",
       " 131.546142578125,\n",
       " 113.76288604736328,\n",
       " 110.8897705078125,\n",
       " 101.8221664428711,\n",
       " 152.89321899414062,\n",
       " 116.67621612548828,\n",
       " 125.36589813232422,\n",
       " 114.22758483886719,\n",
       " 135.68460083007812,\n",
       " 139.52293395996094,\n",
       " 105.98249816894531,\n",
       " 114.03712463378906,\n",
       " 119.57767486572266,\n",
       " 127.2569808959961,\n",
       " 114.4090805053711,\n",
       " 125.41232299804688,\n",
       " 127.5858383178711,\n",
       " 126.43002319335938,\n",
       " 121.72090911865234,\n",
       " 113.08382415771484,\n",
       " 127.48054504394531,\n",
       " 126.77540588378906,\n",
       " 111.79084014892578,\n",
       " 165.599609375,\n",
       " 122.92017364501953,\n",
       " 152.52517700195312,\n",
       " 104.92002868652344,\n",
       " 129.7734832763672,\n",
       " 114.6952896118164,\n",
       " 119.8373794555664,\n",
       " 113.9625473022461,\n",
       " 111.88774108886719,\n",
       " 105.92431640625,\n",
       " 104.49716186523438,\n",
       " 131.70457458496094,\n",
       " 111.50613403320312,\n",
       " 117.93026733398438,\n",
       " 106.40779113769531,\n",
       " 106.33341217041016,\n",
       " 108.11185455322266,\n",
       " 127.43448638916016,\n",
       " 125.58773040771484,\n",
       " 119.43146514892578,\n",
       " 121.22050476074219,\n",
       " 119.01609802246094,\n",
       " 116.59634399414062,\n",
       " 109.44741821289062,\n",
       " 111.07711029052734,\n",
       " 114.20143127441406,\n",
       " 128.02890014648438,\n",
       " 113.5645980834961,\n",
       " 111.70634460449219,\n",
       " 116.93324279785156,\n",
       " 107.1234130859375,\n",
       " 108.2289047241211,\n",
       " 120.53089904785156,\n",
       " 124.08085632324219,\n",
       " 105.56128692626953,\n",
       " 125.11737823486328,\n",
       " 104.16627502441406,\n",
       " 127.80126953125,\n",
       " 125.36741638183594,\n",
       " 97.57548522949219,\n",
       " 100.21328735351562,\n",
       " 109.56130981445312,\n",
       " 113.65706634521484]"
      ]
     },
     "execution_count": 22,
     "metadata": {},
     "output_type": "execute_result"
    }
   ],
   "source": [
    "losses"
   ]
  },
  {
   "cell_type": "code",
   "execution_count": 23,
   "metadata": {},
   "outputs": [
    {
     "data": {
      "text/plain": [
       "[<matplotlib.lines.Line2D at 0x28b50cc62b0>]"
      ]
     },
     "execution_count": 23,
     "metadata": {},
     "output_type": "execute_result"
    },
    {
     "data": {
      "image/png": "[encoded data removed]",
      "text/plain": [
       "<Figure size 432x288 with 1 Axes>"
      ]
     },
     "metadata": {
      "needs_background": "light"
     },
     "output_type": "display_data"
    }
   ],
   "source": [
    "plt.plot(losses[:])"
   ]
  },
  {
   "cell_type": "code",
   "execution_count": 24,
   "metadata": {},
   "outputs": [],
   "source": [
    "torch.cuda.empty_cache()\n",
    "Θ_1 = torchsde.sdeint(sde, Θ_0, ts, dt=Δt)[-1,...]"
   ]
  },
  {
   "cell_type": "code",
   "execution_count": 25,
   "metadata": {},
   "outputs": [
    {
     "data": {
      "text/plain": [
       "(array([3., 2., 0., 3., 9., 2., 6., 2., 2., 1.]),\n",
       " array([0.20019272, 0.268821  , 0.3374493 , 0.4060776 , 0.47470587,\n",
       "        0.5433342 , 0.61196244, 0.68059075, 0.74921906, 0.8178473 ,\n",
       "        0.8864756 ], dtype=float32),\n",
       " <a list of 10 Patch objects>)"
      ]
     },
     "execution_count": 25,
     "metadata": {},
     "output_type": "execute_result"
    },
    {
     "data": {
      "image/png": "[encoded data removed]",
      "text/plain": [
       "<Figure size 432x288 with 3 Axes>"
      ]
     },
     "metadata": {
      "needs_background": "light"
     },
     "output_type": "display_data"
    }
   ],
   "source": [
    "torch.cuda.empty_cache()\n",
    "fig, (ax1,ax2,ax3) = plt.subplots(1,3)\n",
    "\n",
    "ax1.hist(Θ_1[:,0].cpu().detach().numpy())\n",
    "ax2.hist(Θ_1[:,1].cpu().detach().numpy())\n",
    "ax3.hist(Θ_1[:,-23].cpu().detach().numpy())"
   ]
  },
  {
   "cell_type": "code",
   "execution_count": 26,
   "metadata": {},
   "outputs": [
    {
     "name": "stderr",
     "output_type": "stream",
     "text": [
      "C:\\Users\\vargf\\AppData\\Local\\Temp/ipykernel_4392/162794254.py:55: UserWarning: torch.vmap is an experimental prototype that is subject to change and/or deletion. Please use at your own risk. There may be unexpected performance cliffs due to certain operators not being implemented. To see detailed performance warnings please use `torch._C._debug_only_display_vmap_fallback_warnings(True) before the call to `vmap`.\n",
      "  batched_preds = torch._vmap_internals.vmap(preds_func)\n"
     ]
    }
   ],
   "source": [
    "# pred = net.map_forward(X_train, Θ_1.mean(dim=0).reshape(1,-1))#.mean(axis=1)\n",
    "end = 6.5\n",
    "X_train_2 = torch.linspace(-end, end, 100).reshape(-1,1).to(device)\n",
    "\n",
    "pred_ = net.map_forward(X_train_2, Θ_1)\n",
    "pred = pred_.mean(axis=1)\n",
    "\n",
    "σ  = pred_.std(axis=1)"
   ]
  },
  {
   "cell_type": "code",
   "execution_count": 27,
   "metadata": {},
   "outputs": [
    {
     "data": {
      "text/plain": [
       "(torch.Size([100]), torch.Size([100]))"
      ]
     },
     "execution_count": 27,
     "metadata": {},
     "output_type": "execute_result"
    }
   ],
   "source": [
    "σ.shape, pred.shape"
   ]
  },
  {
   "cell_type": "code",
   "execution_count": 28,
   "metadata": {},
   "outputs": [
    {
     "data": {
      "image/png": "[encoded data removed]",
      "text/plain": [
       "<Figure size 720x432 with 1 Axes>"
      ]
     },
     "metadata": {
      "needs_background": "light"
     },
     "output_type": "display_data"
    }
   ],
   "source": [
    "fig, ax = plt.subplots(figsize=(10, 6), tight_layout=True)\n",
    "ax.plot(X_test.detach().cpu(), f, 'b', label = 'f(x)')\n",
    "ax.plot(X_train.detach().cpu(), y_train.detach().cpu(), 'kP', ms = 9, label = 'y(x) = f(x) + $\\epsilon$')\n",
    "ax.plot(X_train_2.detach().cpu(), pred.detach().cpu(), color=\"red\", label=\"pred\")\n",
    "\n",
    "σ_p , σ_m = (pred-2*σ).detach().cpu().numpy(), (pred+2*σ).detach().cpu().numpy()\n",
    "ax.fill_between(X_train_2.detach().cpu().flatten(), σ_p.flatten() , σ_m.flatten(), alpha=.2)\n",
    "ax.legend(loc = 'upper left')\n",
    "ax.set_title('Target function with noisy observations ')\n",
    "\n",
    "plt.show()"
   ]
  },
  {
   "cell_type": "code",
   "execution_count": 29,
   "metadata": {},
   "outputs": [
    {
     "data": {
      "text/plain": [
       "Text(0.5, 1.0, 'Sampled Posterior Weights')"
      ]
     },
     "execution_count": 29,
     "metadata": {},
     "output_type": "execute_result"
    },
    {
     "data": {
      "image/png": "[encoded data removed]",
      "text/plain": [
       "<Figure size 1080x360 with 2 Axes>"
      ]
     },
     "metadata": {
      "needs_background": "light"
     },
     "output_type": "display_data"
    }
   ],
   "source": [
    "\n",
    "fig, (ax, ax1) = plt.subplots(1,2, figsize=(15, 5), tight_layout=True)\n",
    "# ax.plot(X_test.detach().cpu(), f, 'b', label = 'f(x)')\n",
    "ax.plot(X_train.detach().cpu(), y_train.detach().cpu(), 'kP', ms = 9, label = 'y(x) = f(x) + $\\epsilon$')\n",
    "# ax.plot(X_train.detach().cpu(), pred.detach().cpu(), color=\"red\", label=\"pred\")\n",
    "\n",
    "\n",
    "zero_ind = torch.abs(X_train).argmin()\n",
    "\n",
    "thresh = 10\n",
    "label_2, label_1 = True, True\n",
    "\n",
    "end=7.6\n",
    "X_train_2 = torch.linspace(-end, end, 100).reshape(-1,1).to(device)\n",
    "\n",
    "for i in range(30):\n",
    "#     print(Θ_1[i,:3])\n",
    "    θ = Θ_1[i,:,]\n",
    "    pred = net.forward(X_train_2, θ).mean(axis=1)\n",
    "    pred_min, pred_max = pred[zero_ind-thresh], pred[zero_ind+thresh]\n",
    "    label = True if i==0 else False\n",
    "    if torch.abs(pred_min - pred_max) < 0.25:\n",
    "        ax.plot(\n",
    "            X_train_2.detach().cpu(), pred.detach().cpu(),\n",
    "            alpha=0.3, color=\"red\", label=\"Posterior function Samples Flat\" if label_1 else None\n",
    "        )\n",
    "        ax1.plot(θ.detach().cpu(),  alpha=0.5, color=\"red\", label=\"Posterior weights Samples Flat\"  if label_1 else None)\n",
    "        label_1 = False\n",
    "    else:\n",
    "        ax.plot(\n",
    "            X_train_2.detach().cpu(), pred.detach().cpu(),\n",
    "            alpha=0.3, color=\"green\", label=\"Posterior fuctions Samples Good\" if label_2 else None\n",
    "        )\n",
    "        ax1.plot(θ.detach().cpu(),  alpha=0.5, color=\"green\", label=\"Posterior weights Samples Good\" if label_2 else None )\n",
    "        label_2 = False \n",
    "        \n",
    "        \n",
    "ax.legend(loc = 'upper left')\n",
    "ax.set_title('Target function with noisy observations ')\n",
    "\n",
    "ax1.legend(loc = 'upper left')\n",
    "ax1.set_title('Sampled Posterior Weights')\n",
    "# plt.plot(X_train.detach().cpu(), y_train.detach().cpu())\n",
    "\n"
   ]
  },
  {
   "cell_type": "markdown",
   "metadata": {},
   "source": [
    "# MAP Baseline - Answer is ok now, wildly overfits compared to bayesnet"
   ]
  },
  {
   "cell_type": "code",
   "execution_count": 54,
   "metadata": {},
   "outputs": [
    {
     "data": {
      "application/vnd.jupyter.widget-view+json": {
       "model_id": "366bdd9f03604c3e9d04d7eedd24883a",
       "version_major": 2,
       "version_minor": 0
      },
      "text/plain": [
       "  0%|          | 0/2000 [00:00<?, ?it/s]"
      ]
     },
     "metadata": {},
     "output_type": "display_data"
    }
   ],
   "source": [
    "net_map = OnedRegressionForwardNet(1,1, device=device, depth=1, width=10)\n",
    "\n",
    "Θ_map = torch.normal(0,1, (1,net_map.dim), requires_grad=True, device=device) # torch.zeros((1, dim), requires_grad=True, device=device)\n",
    "optimizer_map = torch.optim.Adam([Θ_map], lr=0.5)\n",
    "#     optimizer = torch.optim.LBFGS(gpr.parameters(), lr=0.01)\n",
    "\n",
    "losses_map = []\n",
    "num_steps = 2000\n",
    "for i in tqdm(range(num_steps)):\n",
    "    optimizer_map.zero_grad()\n",
    "\n",
    "    if isinstance(optimizer_map, torch.optim.LBFGS):\n",
    "        def closure_map():\n",
    "            loss_map = log_likelihood_vmap()\n",
    "            optimizer_map.zero_grad()\n",
    "            loss_map.backward()\n",
    "            return loss\n",
    "\n",
    "        optimizer_map.step(closure_map)\n",
    "        losses_map.append(closure_map().item())\n",
    "    else:\n",
    "        loss_map = -(log_likelihood_vmap(Θ_map, X_train, y_train, net=net_map) + 0 * ln_prior(Θ_map))\n",
    "        optimizer_map.zero_grad()\n",
    "        loss_map.backward()\n",
    "#         print(Θ_map.sum())\n",
    "\n",
    "        optimizer_map.step()\n",
    "#         print(loss_map.item())\n",
    "        losses_map.append(loss_map.item())"
   ]
  },
  {
   "cell_type": "code",
   "execution_count": 357,
   "metadata": {},
   "outputs": [
    {
     "name": "stderr",
     "output_type": "stream",
     "text": [
      "C:\\Users\\vargf\\AppData\\Local\\Temp/ipykernel_25680/2698751039.py:47: UserWarning: torch.vmap is an experimental prototype that is subject to change and/or deletion. Please use at your own risk. There may be unexpected performance cliffs due to certain operators not being implemented. To see detailed performance warnings please use `torch._C._debug_only_display_vmap_fallback_warnings(True) before the call to `vmap`.\n",
      "  batched_preds = torch._vmap_internals.vmap(preds_func)\n"
     ]
    }
   ],
   "source": [
    "pred = net_map.map_forward(X_train, Θ_map)"
   ]
  },
  {
   "cell_type": "code",
   "execution_count": 358,
   "metadata": {},
   "outputs": [
    {
     "data": {
      "text/plain": [
       "tensor([[ 0.0689, -1.3282, -1.8303, -0.0302,  0.7726,  0.6816, -0.0398, -0.2844,\n",
       "         -0.8827, -1.2118, -4.2557,  0.6610, -0.8504, -0.2750, -3.0124, -1.6717,\n",
       "         -1.9313, -1.2023, -3.1821, -4.1283,  0.6745, -0.8429,  0.6224,  0.9746,\n",
       "          0.9008, -0.2274,  0.5632,  0.6936, -0.2356, -0.0162,  1.0680]],\n",
       "       device='cuda:0', requires_grad=True)"
      ]
     },
     "execution_count": 358,
     "metadata": {},
     "output_type": "execute_result"
    }
   ],
   "source": [
    "Θ_map"
   ]
  },
  {
   "cell_type": "code",
   "execution_count": 359,
   "metadata": {},
   "outputs": [
    {
     "data": {
      "text/plain": [
       "[<matplotlib.lines.Line2D at 0x22bbc424a90>]"
      ]
     },
     "execution_count": 359,
     "metadata": {},
     "output_type": "execute_result"
    },
    {
     "data": {
      "image/png": "[encoded data removed]",
      "text/plain": [
       "<Figure size 432x288 with 1 Axes>"
      ]
     },
     "metadata": {
      "needs_background": "light"
     },
     "output_type": "display_data"
    }
   ],
   "source": [
    "plt.plot(losses_map[:])"
   ]
  },
  {
   "cell_type": "code",
   "execution_count": 360,
   "metadata": {},
   "outputs": [
    {
     "data": {
      "text/plain": [
       "Text(0.5, 1.0, 'Target function with noisy observations ')"
      ]
     },
     "execution_count": 360,
     "metadata": {},
     "output_type": "execute_result"
    },
    {
     "data": {
      "image/png": "[encoded data removed]",
      "text/plain": [
       "<Figure size 432x288 with 1 Axes>"
      ]
     },
     "metadata": {
      "needs_background": "light"
     },
     "output_type": "display_data"
    }
   ],
   "source": [
    "# plt.plot(X_train.detach().cpu(), pred.flatten().detach().cpu() )\n",
    "\n",
    "fig, ax = plt.subplots(figsize=(6, 4), tight_layout=True)\n",
    "ax.plot(X_test.detach().cpu(), f, 'b', label = 'f(x)')\n",
    "ax.plot(X_train.detach().cpu(), y_train.detach().cpu(), 'kP', ms = 9, label = 'y(x) = f(x) + $\\epsilon$')\n",
    "ax.plot(X_train.detach().cpu(), pred.detach().cpu(), color=\"red\", label=\"pred\")\n",
    "ax.legend(loc = 'upper left')\n",
    "ax.set_title('Target function with noisy observations ')"
   ]
  },
  {
   "cell_type": "code",
   "execution_count": 364,
   "metadata": {},
   "outputs": [
    {
     "data": {
      "image/png": "[encoded data removed]",
      "text/plain": [
       "<Figure size 432x288 with 1 Axes>"
      ]
     },
     "metadata": {
      "needs_background": "light"
     },
     "output_type": "display_data"
    }
   ],
   "source": [
    "plt.plot(Θ_1.mean(dim=0).detach().cpu())\n",
    "plt.plot(Θ_map.detach().cpu().flatten());"
   ]
  },
  {
   "cell_type": "code",
   "execution_count": 362,
   "metadata": {},
   "outputs": [
    {
     "data": {
      "text/plain": [
       "torch.Size([1, 31])"
      ]
     },
     "execution_count": 362,
     "metadata": {},
     "output_type": "execute_result"
    }
   ],
   "source": [
    "Θ_map.shape"
   ]
  },
  {
   "cell_type": "code",
   "execution_count": 354,
   "metadata": {},
   "outputs": [
    {
     "data": {
      "text/plain": [
       "torch.Size([100, 31])"
      ]
     },
     "execution_count": 354,
     "metadata": {},
     "output_type": "execute_result"
    }
   ],
   "source": [
    "Θ_1.shape"
   ]
  },
  {
   "cell_type": "code",
   "execution_count": 363,
   "metadata": {},
   "outputs": [
    {
     "data": {
      "text/plain": [
       "torch.Size([100])"
      ]
     },
     "execution_count": 363,
     "metadata": {},
     "output_type": "execute_result"
    }
   ],
   "source": [
    "Θ_1.mean(dim=1).shape"
   ]
  },
  {
   "cell_type": "code",
   "execution_count": null,
   "metadata": {},
   "outputs": [],
   "source": []
  }
 ],
 "metadata": {
  "kernelspec": {
   "display_name": "Python 3 (ipykernel)",
   "language": "python",
   "name": "python3"
  },
  "language_info": {
   "codemirror_mode": {
    "name": "ipython",
    "version": 3
   },
   "file_extension": ".py",
   "mimetype": "text/x-python",
   "name": "python",
   "nbconvert_exporter": "python",
   "pygments_lexer": "ipython3",
   "version": "3.8.5"
  },
  "toc": {
   "base_numbering": 1,
   "nav_menu": {},
   "number_sections": true,
   "sideBar": true,
   "skip_h1_title": false,
   "title_cell": "Table of Contents",
   "title_sidebar": "Contents",
   "toc_cell": false,
   "toc_position": {},
   "toc_section_display": true,
   "toc_window_display": false
  }
 },
 "nbformat": 4,
 "nbformat_minor": 4
}
