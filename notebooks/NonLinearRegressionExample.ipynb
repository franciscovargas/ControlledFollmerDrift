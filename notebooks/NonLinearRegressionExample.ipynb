{
 "cells": [
  {
   "cell_type": "code",
   "execution_count": 1,
   "metadata": {},
   "outputs": [],
   "source": [
    "import torch\n",
    "import torch.nn.functional as F\n",
    "\n",
    "import torchsde\n",
    "import math\n",
    "import matplotlib.pyplot as plt\n",
    "\n",
    "import numpy as np\n",
    "\n",
    "from tqdm.notebook import tqdm\n",
    "\n",
    "from torch import _vmap_internals"
   ]
  },
  {
   "cell_type": "code",
   "execution_count": 2,
   "metadata": {},
   "outputs": [],
   "source": [
    "from cfollmer.objectives import log_g, relative_entropy_control_cost\n",
    "from cfollmer.sampler_utils import FollmerSDE"
   ]
  },
  {
   "cell_type": "markdown",
   "metadata": {},
   "source": [
    "## Loading the StepFunc dataset"
   ]
  },
  {
   "cell_type": "code",
   "execution_count": 3,
   "metadata": {},
   "outputs": [
    {
     "data": {
      "image/png": "[encoded data removed]",
      "text/plain": [
       "<Figure size 432x288 with 1 Axes>"
      ]
     },
     "metadata": {
      "needs_background": "light"
     },
     "output_type": "display_data"
    }
   ],
   "source": [
    "device = \"cuda\" if torch.cuda.is_available() else \"cpu\"\n",
    "\n",
    "\n",
    "# Test inputs\n",
    "num_test_samples = 100\n",
    "X_test = np.linspace(-4, 4, num_test_samples).reshape(num_test_samples,1)\n",
    "\n",
    "# Noise free training inputs\n",
    "X_train = np.array([-3.5, -3.4, -3,-2.2, -2, -0.9,-0.4, -0.01,0,0.1, 0.3,0.7, 1, 1.6 , 2.4, 3.0]).reshape(-1,1)\n",
    "#f_train = np.cos(X_train) \n",
    "f_train = np.heaviside(X_train, 0)\n",
    "\n",
    "# Noise-free training outputs\n",
    "#f = np.cos(X_test)\n",
    "f = np.heaviside(X_test, 0)\n",
    "y_test  = f\n",
    "\n",
    "# Noisy training Inputs with additive Gaussian noise (zero-mean, variance sigma_n)\n",
    "sigma_n = 0.1\n",
    "\n",
    "mu = np.zeros(X_train.size)\n",
    "epsilon = np.random.multivariate_normal(mu, sigma_n**2 * np.eye(X_train.size))\n",
    "\n",
    "# Noisy targets\n",
    "y_train = f_train + epsilon.reshape(X_train.size,1)\n",
    "\n",
    "# Noisy observations\n",
    "fig, ax = plt.subplots(figsize=(6, 4), tight_layout=True)\n",
    "ax.plot(X_test, f, 'b', label = 'f(x)')\n",
    "ax.plot(X_train, y_train, 'kP', ms = 9, label = 'y(x) = f(x) + $\\epsilon$')\n",
    "ax.legend(loc = 'upper left')\n",
    "ax.set_title('Target function with noisy observations ')\n",
    "\n",
    "plt.show()"
   ]
  },
  {
   "cell_type": "code",
   "execution_count": 4,
   "metadata": {},
   "outputs": [],
   "source": [
    "device = \"cuda\" if torch.cuda.is_available() else \"cpu\"\n",
    "\n",
    "\n",
    "\n",
    "X_train, X_test, y_train, y_test = \\\n",
    "    torch.tensor(X_train, dtype=torch.float32, device=device), \\\n",
    "    torch.tensor(X_test, dtype=torch.float32, device=device), \\\n",
    "    torch.tensor(y_train, dtype=torch.float32, device=device), \\\n",
    "    torch.tensor(y_test, dtype=torch.float32, device=device) "
   ]
  },
  {
   "cell_type": "markdown",
   "metadata": {},
   "source": [
    "$$\\DeclareMathOperator*{\\argmin}{arg\\,min}$$\n",
    "$$\\def\\E{{\\mathbb{E}}}$$\n",
    "$$\\def\\rvu{{\\mathbf{u}}}$$\n",
    "$$\\def\\rvTheta{{\\bm{\\Theta}}}$$\n",
    "$$\\def\\gU{{\\mathcal{U}}}$$\n",
    "$$\\def\\mX{{\\mathbf{X}}}$$"
   ]
  },
  {
   "cell_type": "markdown",
   "metadata": {},
   "source": [
    "## Controlled Schrodinger Follmer Sampler\n",
    "\n",
    "The objevtive we are trying to implement is:\n",
    "\n",
    "\\begin{align}\n",
    "  \\mathbf{u}_t^{*}=  \\argmin_{\\rvu_t \\in \\mathcal{U}}\\mathbb{E}\\left[\\frac{1}{2\\gamma}\\int_0^1||\\rvu(t, \\Theta_t)||^2 dt - \\ln\\left(\\frac{ p(\\mX | \\Theta_1)p(\\Theta_1)}{\\mathcal{N}(\\Theta_1|\\mathbf{0}, \\gamma \\mathbb{I} )}\\right)\\right] \\\n",
    "\\end{align}\n",
    "\n",
    "Where:\n",
    "\\begin{align}\n",
    "d\\Theta_t = \\rvu(t, \\Theta_t)dt + \\sqrt{\\gamma} dB_t\n",
    "\\end{align}\n"
   ]
  },
  {
   "cell_type": "code",
   "execution_count": 15,
   "metadata": {},
   "outputs": [],
   "source": [
    "import torch.nn.functional as F\n",
    "\n",
    "\n",
    "class OnedRegressionForwardNet(object):\n",
    "    \n",
    "    def __init__(self, input_dim=1, output_dim=1, width_seq=None, depth=None, device=\"cpu\"):\n",
    "        \n",
    "        self.device = device\n",
    "        self.output_dim = output_dim\n",
    "        self.input_dim = input_dim\n",
    "        \n",
    "        \n",
    "        if not depth:\n",
    "            self.depth = 2\n",
    "        if not width_seq:\n",
    "            self.width = 20\n",
    "            self.width_seq = [self.width] * self.depth\n",
    "            self.shapes = [(self.width_seq[i-1], self.width_seq[i])  for i in range(1,self.depth)]\n",
    "            self.shapes += [(self.width_seq[-1], self.output_dim)]\n",
    "            self.shapes = [(self.output_dim, self.width_seq[0])] + self.shapes\n",
    "        \n",
    "        self.dim = sum([wx * wy for wx, wy in self.shapes])\n",
    "        \n",
    "    def forward(self, x, Θ):\n",
    "        index = 0\n",
    "        for wx, wy in self.shapes[:-1]:\n",
    "            x = F.linear(x, Θ[index: index + wx * wy].reshape(wy, wx))\n",
    "            x = F.relu(x)\n",
    "            index += wx * wy\n",
    "        wx, wy = self.shapes[-1]\n",
    "        x = F.linear(x, Θ[index: index + wx * wy].reshape(wy, wx))\n",
    "        return x.to(self.device)\n",
    "    \n",
    "    def map_forward(self, x, Θ):\n",
    "        preds_func = lambda θ: self.forward(x, θ)\n",
    "        batched_preds = torch._vmap_internals.vmap(preds_func)\n",
    "        preds = torch.hstack(list(map(preds_func, Θ)))\n",
    "        return preds\n",
    "        "
   ]
  },
  {
   "cell_type": "code",
   "execution_count": 16,
   "metadata": {},
   "outputs": [],
   "source": [
    "net = OnedRegressionForwardNet(1,1, device=device)\n",
    "\n",
    "def ln_prior(Θ, σ_w=1.0):\n",
    "    \"\"\"\n",
    "    Logistic regresion bayesian prior\n",
    "    \"\"\"\n",
    "    return -0.5 * (Θ**2).sum(axis=1) / σ_w**2\n",
    "\n",
    "import higher\n",
    "\n",
    "def log_likelihood_vmap(Θ, X, y):\n",
    "    \"\"\"\n",
    "    Hoping this implementation is less buggy / faster\n",
    "    \n",
    "    still feels a bit slow.\n",
    "    \"\"\"\n",
    "    preds_func = lambda θ: net.forward(X, θ)\n",
    "#     batched_preds = torch._vmap_internals.vmap(preds_func)\n",
    "#     import pdb; pdb.set_trace()\n",
    "    preds = torch.hstack(list(map(preds_func, Θ)))\n",
    "\n",
    "    diff = preds - y\n",
    "    diff_sq_fld = -0.5 * (diff**2).sum(dim=0)\n",
    "\n",
    "    return diff_sq_fld"
   ]
  },
  {
   "cell_type": "code",
   "execution_count": 17,
   "metadata": {},
   "outputs": [],
   "source": [
    "Δt=0.05\n",
    "t_size = int(math.ceil(1.0/Δt))\n",
    "dim = net.dim\n",
    "\n",
    "ts = torch.linspace(0, 1, t_size).to(device)\n",
    "no_posterior_samples = 50\n",
    "\n",
    "sde = FollmerSDE(dim, dim, no_posterior_samples, 1.0, device=device).to(device)\n",
    "Θ_0 = torch.zeros((no_posterior_samples, net.dim)).to(device) # Θ_0 ~ δ_0\n",
    "\n",
    "# Initial state y0, the SDE is solved over the interval [ts[0], ts[-1]].\n",
    "# ys will have shape (t_size, batch_size, state_size)\n",
    "ys = torchsde.sdeint(sde, Θ_0, ts, dt=Δt)"
   ]
  },
  {
   "cell_type": "code",
   "execution_count": 18,
   "metadata": {},
   "outputs": [
    {
     "data": {
      "text/plain": [
       "torch.Size([50, 440])"
      ]
     },
     "execution_count": 18,
     "metadata": {},
     "output_type": "execute_result"
    }
   ],
   "source": [
    "Θ_0.shape\n"
   ]
  },
  {
   "cell_type": "code",
   "execution_count": 129,
   "metadata": {},
   "outputs": [
    {
     "data": {
      "text/plain": [
       "tensor(4577.1299, device='cuda:0', grad_fn=<MeanBackward0>)"
      ]
     },
     "execution_count": 129,
     "metadata": {},
     "output_type": "execute_result"
    }
   ],
   "source": [
    "relative_entropy_control_cost(sde, Θ_0, X_train, y_train, \n",
    "                              gaussian_prior, log_likelihood_vmap, γ=1.0, device=device)\n"
   ]
  },
  {
   "cell_type": "code",
   "execution_count": 25,
   "metadata": {},
   "outputs": [
    {
     "name": "stdout",
     "output_type": "stream",
     "text": [
      "20\n"
     ]
    },
    {
     "data": {
      "application/vnd.jupyter.widget-view+json": {
       "model_id": "787b4ed7afdc4ccd968774d84c1856bd",
       "version_major": 2,
       "version_minor": 0
      },
      "text/plain": [
       "  0%|          | 0/300 [00:00<?, ?it/s]"
      ]
     },
     "metadata": {},
     "output_type": "display_data"
    }
   ],
   "source": [
    "γ = 1.0\n",
    "Δt=0.05\n",
    "t_size = int(math.ceil(1.0/Δt))\n",
    "print(t_size)\n",
    "ts = torch.linspace(0, 1, t_size).to(device)\n",
    "\n",
    "sde = FollmerSDE(dim, dim, no_posterior_samples  , γ=γ, device=device).to(device)\n",
    "optimizer = torch.optim.Adam(sde.μ.parameters(), lr=0.01, weight_decay =1)\n",
    "#     optimizer = torch.optim.LBFGS(gpr.parameters(), lr=0.01)\n",
    "losses = []\n",
    "num_steps = 300\n",
    "# with torch.autograd.set_detect_anomaly(True):\n",
    "for i in tqdm(range(num_steps)):\n",
    "    optimizer.zero_grad()\n",
    "\n",
    "    if isinstance(optimizer, torch.optim.LBFGS):\n",
    "        def closure():\n",
    "            loss = relative_entropy_control_cost(\n",
    "                sde, Θ_0.float(),\n",
    "                X_train.float(), y_train.float(),\n",
    "                ln_prior, log_likelihood_vmap, γ=γ\n",
    "            )\n",
    "            optimizer.zero_grad()\n",
    "            loss.backward()\n",
    "            return loss\n",
    "\n",
    "        optimizer.step(closure)\n",
    "        losses.append(closure().item())\n",
    "    else:\n",
    "        loss = relative_entropy_control_cost(\n",
    "            sde, Θ_0,\n",
    "            X_train, y_train,\n",
    "            ln_prior, log_likelihood_vmap, γ=γ\n",
    "        )\n",
    "        optimizer.zero_grad()\n",
    "        loss.backward()\n",
    "\n",
    "        optimizer.step()\n",
    "        losses.append(loss.item())"
   ]
  },
  {
   "cell_type": "code",
   "execution_count": 26,
   "metadata": {
    "scrolled": true
   },
   "outputs": [
    {
     "data": {
      "text/plain": [
       "[3885.255126953125,\n",
       " 2766.3984375,\n",
       " 2727.73681640625,\n",
       " 1971.0079345703125,\n",
       " 2032.9227294921875,\n",
       " 1225.8138427734375,\n",
       " 1528.52197265625,\n",
       " 1656.25,\n",
       " 1175.213134765625,\n",
       " 473.6273193359375,\n",
       " 688.9277954101562,\n",
       " 454.33349609375,\n",
       " 367.3733825683594,\n",
       " 244.8865203857422,\n",
       " 310.4029541015625,\n",
       " 317.30474853515625,\n",
       " 353.8572998046875,\n",
       " 249.80203247070312,\n",
       " 369.9376525878906,\n",
       " 340.9415588378906,\n",
       " 210.44143676757812,\n",
       " 261.1745300292969,\n",
       " 291.7279968261719,\n",
       " 277.7785949707031,\n",
       " 201.27639770507812,\n",
       " 210.52407836914062,\n",
       " 313.43096923828125,\n",
       " 277.3956298828125,\n",
       " 374.50787353515625,\n",
       " 178.7519073486328,\n",
       " 317.7893981933594,\n",
       " 201.44534301757812,\n",
       " 207.8455352783203,\n",
       " 217.2751922607422,\n",
       " 309.865966796875,\n",
       " 224.08984375,\n",
       " 214.27073669433594,\n",
       " 239.02610778808594,\n",
       " 293.58697509765625,\n",
       " 196.0749969482422,\n",
       " 179.6426544189453,\n",
       " 161.2093963623047,\n",
       " 205.4989776611328,\n",
       " 221.65988159179688,\n",
       " 182.159912109375,\n",
       " 296.0825500488281,\n",
       " 201.088134765625,\n",
       " 176.38734436035156,\n",
       " 191.6073455810547,\n",
       " 179.6095733642578,\n",
       " 201.06475830078125,\n",
       " 190.55035400390625,\n",
       " 335.89154052734375,\n",
       " 216.4431915283203,\n",
       " 177.5461883544922,\n",
       " 278.9056701660156,\n",
       " 186.38604736328125,\n",
       " 178.55303955078125,\n",
       " 196.69338989257812,\n",
       " 188.0166015625,\n",
       " 214.1101531982422,\n",
       " 257.73797607421875,\n",
       " 159.86854553222656,\n",
       " 177.25296020507812,\n",
       " 198.70468139648438,\n",
       " 167.27468872070312,\n",
       " 196.20228576660156,\n",
       " 230.27366638183594,\n",
       " 218.49957275390625,\n",
       " 266.3954162597656,\n",
       " 191.35511779785156,\n",
       " 176.09738159179688,\n",
       " 200.91238403320312,\n",
       " 194.93202209472656,\n",
       " 185.42308044433594,\n",
       " 188.8866729736328,\n",
       " 196.5767364501953,\n",
       " 195.309326171875,\n",
       " 220.6746368408203,\n",
       " 170.92428588867188,\n",
       " 155.7260284423828,\n",
       " 150.6605682373047,\n",
       " 241.54310607910156,\n",
       " 168.0892333984375,\n",
       " 158.99391174316406,\n",
       " 190.18089294433594,\n",
       " 152.77777099609375,\n",
       " 195.0515899658203,\n",
       " 176.6717529296875,\n",
       " 191.91058349609375,\n",
       " 209.24110412597656,\n",
       " 188.2123260498047,\n",
       " 175.533935546875,\n",
       " 175.48399353027344,\n",
       " 190.3388214111328,\n",
       " 181.21429443359375,\n",
       " 208.32659912109375,\n",
       " 151.30062866210938,\n",
       " 219.69509887695312,\n",
       " 201.99874877929688,\n",
       " 170.93527221679688,\n",
       " 150.30307006835938,\n",
       " 171.12835693359375,\n",
       " 185.45228576660156,\n",
       " 194.32167053222656,\n",
       " 205.7451934814453,\n",
       " 161.88790893554688,\n",
       " 172.38406372070312,\n",
       " 172.40013122558594,\n",
       " 163.07867431640625,\n",
       " 171.25131225585938,\n",
       " 235.88612365722656,\n",
       " 159.72637939453125,\n",
       " 172.54527282714844,\n",
       " 347.9242858886719,\n",
       " 179.20755004882812,\n",
       " 195.79226684570312,\n",
       " 243.9558563232422,\n",
       " 163.61911010742188,\n",
       " 191.50575256347656,\n",
       " 210.99269104003906,\n",
       " 160.85382080078125,\n",
       " 178.7335968017578,\n",
       " 352.08843994140625,\n",
       " 238.57492065429688,\n",
       " 149.2162628173828,\n",
       " 173.16903686523438,\n",
       " 180.92648315429688,\n",
       " 160.1490020751953,\n",
       " 194.1576385498047,\n",
       " 178.22886657714844,\n",
       " 167.08876037597656,\n",
       " 169.3660888671875,\n",
       " 163.52548217773438,\n",
       " 141.58331298828125,\n",
       " 206.05972290039062,\n",
       " 232.7685546875,\n",
       " 172.52230834960938,\n",
       " 163.09564208984375,\n",
       " 205.5531768798828,\n",
       " 203.25833129882812,\n",
       " 143.14804077148438,\n",
       " 186.8174591064453,\n",
       " 157.12887573242188,\n",
       " 155.85256958007812,\n",
       " 212.1822052001953,\n",
       " 225.3618927001953,\n",
       " 268.71624755859375,\n",
       " 191.9094696044922,\n",
       " 178.4636993408203,\n",
       " 181.54220581054688,\n",
       " 171.25135803222656,\n",
       " 170.7881622314453,\n",
       " 165.40122985839844,\n",
       " 168.7011260986328,\n",
       " 217.0506591796875,\n",
       " 176.74964904785156,\n",
       " 165.6989288330078,\n",
       " 204.86497497558594,\n",
       " 265.4068298339844,\n",
       " 164.204833984375,\n",
       " 172.46620178222656,\n",
       " 212.950439453125,\n",
       " 222.02845764160156,\n",
       " 214.6902618408203,\n",
       " 184.19796752929688,\n",
       " 173.77835083007812,\n",
       " 199.84576416015625,\n",
       " 214.002197265625,\n",
       " 165.24034118652344,\n",
       " 157.0740966796875,\n",
       " 175.23690795898438,\n",
       " 182.69371032714844,\n",
       " 192.30441284179688,\n",
       " 177.0723419189453,\n",
       " 141.8221893310547,\n",
       " 149.41448974609375,\n",
       " 164.6774139404297,\n",
       " 181.54708862304688,\n",
       " 168.3682403564453,\n",
       " 181.4901123046875,\n",
       " 166.9947967529297,\n",
       " 163.75588989257812,\n",
       " 240.28550720214844,\n",
       " 172.22018432617188,\n",
       " 220.56167602539062,\n",
       " 221.7888946533203,\n",
       " 177.82139587402344,\n",
       " 201.8412628173828,\n",
       " 174.12229919433594,\n",
       " 296.2898864746094,\n",
       " 171.20022583007812,\n",
       " 209.6638641357422,\n",
       " 170.25331115722656,\n",
       " 163.5807342529297,\n",
       " 173.34640502929688,\n",
       " 173.4135284423828,\n",
       " 157.18186950683594,\n",
       " 158.84963989257812,\n",
       " 192.6033935546875,\n",
       " 172.26556396484375,\n",
       " 160.15518188476562,\n",
       " 203.344482421875,\n",
       " 186.71116638183594,\n",
       " 170.0389862060547,\n",
       " 195.28636169433594,\n",
       " 190.900146484375,\n",
       " 168.68934631347656,\n",
       " 226.34378051757812,\n",
       " 160.5175323486328,\n",
       " 204.76852416992188,\n",
       " 196.23788452148438,\n",
       " 173.08657836914062,\n",
       " 181.87464904785156,\n",
       " 358.0010070800781,\n",
       " 169.96481323242188,\n",
       " 189.535400390625,\n",
       " 197.20909118652344,\n",
       " 172.7621307373047,\n",
       " 169.11058044433594,\n",
       " 205.1708526611328,\n",
       " 179.4065399169922,\n",
       " 156.27108764648438,\n",
       " 167.29583740234375,\n",
       " 149.93235778808594,\n",
       " 164.70425415039062,\n",
       " 216.34288024902344,\n",
       " 232.1785125732422,\n",
       " 188.37034606933594,\n",
       " 233.7953643798828,\n",
       " 181.34054565429688,\n",
       " 212.30331420898438,\n",
       " 146.06858825683594,\n",
       " 179.90335083007812,\n",
       " 178.70545959472656,\n",
       " 143.48544311523438,\n",
       " 203.21644592285156,\n",
       " 187.71759033203125,\n",
       " 149.67672729492188,\n",
       " 174.64735412597656,\n",
       " 143.9763946533203,\n",
       " 239.372802734375,\n",
       " 212.94656372070312,\n",
       " 208.93972778320312,\n",
       " 177.55393981933594,\n",
       " 160.76556396484375,\n",
       " 158.77789306640625,\n",
       " 175.51690673828125,\n",
       " 165.12460327148438,\n",
       " 176.34083557128906,\n",
       " 188.4658966064453,\n",
       " 163.50596618652344,\n",
       " 196.84646606445312,\n",
       " 164.68289184570312,\n",
       " 166.55763244628906,\n",
       " 197.02423095703125,\n",
       " 213.7040557861328,\n",
       " 145.4783172607422,\n",
       " 193.1717529296875,\n",
       " 153.51055908203125,\n",
       " 139.56298828125,\n",
       " 178.22792053222656,\n",
       " 159.28302001953125,\n",
       " 162.2443389892578,\n",
       " 175.64730834960938,\n",
       " 162.7850799560547,\n",
       " 137.2084197998047,\n",
       " 208.1283416748047,\n",
       " 200.27984619140625,\n",
       " 216.70594787597656,\n",
       " 211.36195373535156,\n",
       " 193.36790466308594,\n",
       " 168.47750854492188,\n",
       " 183.14990234375,\n",
       " 260.0771484375,\n",
       " 189.77438354492188,\n",
       " 156.95391845703125,\n",
       " 260.1242980957031,\n",
       " 150.0186309814453,\n",
       " 158.4058837890625,\n",
       " 167.4113311767578,\n",
       " 155.53953552246094,\n",
       " 173.26390075683594,\n",
       " 149.84796142578125,\n",
       " 204.8147430419922,\n",
       " 262.6723327636719,\n",
       " 333.74560546875,\n",
       " 209.44503784179688,\n",
       " 162.3876495361328,\n",
       " 188.88497924804688,\n",
       " 167.14431762695312,\n",
       " 159.634521484375,\n",
       " 188.87063598632812,\n",
       " 199.85354614257812,\n",
       " 179.27601623535156,\n",
       " 204.60842895507812,\n",
       " 179.2020721435547,\n",
       " 217.35562133789062,\n",
       " 197.9258575439453,\n",
       " 258.48626708984375]"
      ]
     },
     "execution_count": 26,
     "metadata": {},
     "output_type": "execute_result"
    }
   ],
   "source": [
    "losses"
   ]
  },
  {
   "cell_type": "code",
   "execution_count": 27,
   "metadata": {},
   "outputs": [
    {
     "data": {
      "text/plain": [
       "[<matplotlib.lines.Line2D at 0x22b2377ea30>]"
      ]
     },
     "execution_count": 27,
     "metadata": {},
     "output_type": "execute_result"
    },
    {
     "data": {
      "image/png": "[encoded data removed]",
      "text/plain": [
       "<Figure size 432x288 with 1 Axes>"
      ]
     },
     "metadata": {
      "needs_background": "light"
     },
     "output_type": "display_data"
    }
   ],
   "source": [
    "plt.plot(losses[:])"
   ]
  },
  {
   "cell_type": "code",
   "execution_count": 28,
   "metadata": {},
   "outputs": [],
   "source": [
    "Θ_1 = torchsde.sdeint(sde, Θ_0, ts, dt=Δt)[-1,...]"
   ]
  },
  {
   "cell_type": "code",
   "execution_count": 29,
   "metadata": {},
   "outputs": [
    {
     "data": {
      "text/plain": [
       "(array([ 1.,  2.,  0.,  4., 14.,  3., 11.,  7.,  5.,  3.]),\n",
       " array([-3.0165777 , -2.563439  , -2.1103    , -1.6571614 , -1.2040225 ,\n",
       "        -0.7508837 , -0.2977449 ,  0.15539391,  0.6085327 ,  1.0616715 ,\n",
       "         1.5148103 ], dtype=float32),\n",
       " <a list of 10 Patch objects>)"
      ]
     },
     "execution_count": 29,
     "metadata": {},
     "output_type": "execute_result"
    },
    {
     "data": {
      "image/png": "[encoded data removed]",
      "text/plain": [
       "<Figure size 432x288 with 3 Axes>"
      ]
     },
     "metadata": {
      "needs_background": "light"
     },
     "output_type": "display_data"
    }
   ],
   "source": [
    "fig, (ax1,ax2,ax3) = plt.subplots(1,3)\n",
    "\n",
    "ax1.hist(Θ_1[:,0].cpu().detach().numpy())\n",
    "ax2.hist(Θ_1[:,1].cpu().detach().numpy())\n",
    "ax3.hist(Θ_1[:,2].cpu().detach().numpy())"
   ]
  },
  {
   "cell_type": "code",
   "execution_count": 30,
   "metadata": {},
   "outputs": [
    {
     "name": "stderr",
     "output_type": "stream",
     "text": [
      "C:\\Users\\vargf\\AppData\\Local\\Temp/ipykernel_25680/3577304363.py:36: UserWarning: torch.vmap is an experimental prototype that is subject to change and/or deletion. Please use at your own risk. There may be unexpected performance cliffs due to certain operators not being implemented. To see detailed performance warnings please use `torch._C._debug_only_display_vmap_fallback_warnings(True) before the call to `vmap`.\n",
      "  batched_preds = torch._vmap_internals.vmap(preds_func)\n"
     ]
    }
   ],
   "source": [
    "pred = net.map_forward(X_train, Θ_1).mean(axis=1)"
   ]
  },
  {
   "cell_type": "code",
   "execution_count": 31,
   "metadata": {},
   "outputs": [
    {
     "data": {
      "image/png": "[encoded data removed]",
      "text/plain": [
       "<Figure size 432x288 with 1 Axes>"
      ]
     },
     "metadata": {
      "needs_background": "light"
     },
     "output_type": "display_data"
    }
   ],
   "source": [
    "\n",
    "\n",
    "fig, ax = plt.subplots(figsize=(6, 4), tight_layout=True)\n",
    "ax.plot(X_test.detach().cpu(), f, 'b', label = 'f(x)')\n",
    "ax.plot(X_train.detach().cpu(), y_train.detach().cpu(), 'kP', ms = 9, label = 'y(x) = f(x) + $\\epsilon$')\n",
    "ax.plot(X_train.detach().cpu(), pred.detach().cpu(), color=\"red\", label=\"pred\")\n",
    "ax.legend(loc = 'upper left')\n",
    "ax.set_title('Target function with noisy observations ')\n",
    "\n",
    "plt.show()"
   ]
  },
  {
   "cell_type": "code",
   "execution_count": 12,
   "metadata": {},
   "outputs": [
    {
     "data": {
      "text/plain": [
       "440"
      ]
     },
     "execution_count": 12,
     "metadata": {},
     "output_type": "execute_result"
    }
   ],
   "source": [
    "net.dim"
   ]
  },
  {
   "cell_type": "code",
   "execution_count": 13,
   "metadata": {},
   "outputs": [
    {
     "data": {
      "text/plain": [
       "[(1, 20), (20, 20), (20, 1)]"
      ]
     },
     "execution_count": 13,
     "metadata": {},
     "output_type": "execute_result"
    }
   ],
   "source": [
    "net.shapes"
   ]
  },
  {
   "cell_type": "code",
   "execution_count": 24,
   "metadata": {},
   "outputs": [
    {
     "name": "stdout",
     "output_type": "stream",
     "text": [
      "tensor([ 0.8276, -0.6206, -0.3874], device='cuda:0', grad_fn=<SliceBackward0>)\n",
      "tensor([ 1.0625, -0.8485,  0.3274], device='cuda:0', grad_fn=<SliceBackward0>)\n",
      "tensor([0.7228, 2.1690, 1.6961], device='cuda:0', grad_fn=<SliceBackward0>)\n",
      "tensor([-1.1058,  0.6719,  0.9179], device='cuda:0', grad_fn=<SliceBackward0>)\n",
      "tensor([ 0.6961, -1.1629, -1.5979], device='cuda:0', grad_fn=<SliceBackward0>)\n",
      "tensor([-0.8922,  1.0974,  0.2444], device='cuda:0', grad_fn=<SliceBackward0>)\n",
      "tensor([ 0.3485, -0.0382,  1.4170], device='cuda:0', grad_fn=<SliceBackward0>)\n",
      "tensor([ 1.6054, -0.0387, -0.8844], device='cuda:0', grad_fn=<SliceBackward0>)\n",
      "tensor([-0.8502, -0.0662,  0.1656], device='cuda:0', grad_fn=<SliceBackward0>)\n",
      "tensor([-0.9037,  0.4932, -0.3515], device='cuda:0', grad_fn=<SliceBackward0>)\n",
      "tensor([ 1.3460,  0.0337, -0.0532], device='cuda:0', grad_fn=<SliceBackward0>)\n",
      "tensor([-0.2726,  0.3386, -0.8821], device='cuda:0', grad_fn=<SliceBackward0>)\n",
      "tensor([-1.3538, -0.4248,  0.7224], device='cuda:0', grad_fn=<SliceBackward0>)\n",
      "tensor([-0.0058, -0.0247, -0.5066], device='cuda:0', grad_fn=<SliceBackward0>)\n",
      "tensor([-0.7776,  1.6152, -1.3961], device='cuda:0', grad_fn=<SliceBackward0>)\n",
      "tensor([ 1.1821, -1.9735,  2.1230], device='cuda:0', grad_fn=<SliceBackward0>)\n",
      "tensor([-0.2050,  0.0692, -1.8233], device='cuda:0', grad_fn=<SliceBackward0>)\n",
      "tensor([-0.6923, -0.9887, -0.2638], device='cuda:0', grad_fn=<SliceBackward0>)\n",
      "tensor([-1.0135,  0.4599,  1.6158], device='cuda:0', grad_fn=<SliceBackward0>)\n",
      "tensor([-0.0393, -0.6103, -1.7306], device='cuda:0', grad_fn=<SliceBackward0>)\n",
      "tensor([-0.1299, -0.2279, -0.2235], device='cuda:0', grad_fn=<SliceBackward0>)\n",
      "tensor([ 0.9200, -2.5374,  0.5241], device='cuda:0', grad_fn=<SliceBackward0>)\n",
      "tensor([-1.6978, -1.5942,  1.9999], device='cuda:0', grad_fn=<SliceBackward0>)\n",
      "tensor([-0.1899,  0.8126, -1.8644], device='cuda:0', grad_fn=<SliceBackward0>)\n",
      "tensor([ 1.0356, -0.7630,  0.7044], device='cuda:0', grad_fn=<SliceBackward0>)\n",
      "tensor([-0.9138, -2.9036, -1.2994], device='cuda:0', grad_fn=<SliceBackward0>)\n",
      "tensor([ 1.1581,  0.6654, -2.1927], device='cuda:0', grad_fn=<SliceBackward0>)\n",
      "tensor([-2.7115,  1.9082,  0.3782], device='cuda:0', grad_fn=<SliceBackward0>)\n",
      "tensor([-1.1205,  0.1968,  0.9804], device='cuda:0', grad_fn=<SliceBackward0>)\n",
      "tensor([ 0.4317,  1.2351, -1.1484], device='cuda:0', grad_fn=<SliceBackward0>)\n",
      "tensor([-0.8387,  0.0229, -0.1688], device='cuda:0', grad_fn=<SliceBackward0>)\n",
      "tensor([-1.0817,  0.4405, -0.3249], device='cuda:0', grad_fn=<SliceBackward0>)\n",
      "tensor([-1.0455, -0.9973, -0.5793], device='cuda:0', grad_fn=<SliceBackward0>)\n",
      "tensor([-1.2259, -0.6970,  0.2942], device='cuda:0', grad_fn=<SliceBackward0>)\n",
      "tensor([ 1.1022,  1.1289, -0.7636], device='cuda:0', grad_fn=<SliceBackward0>)\n",
      "tensor([0.3559, 0.3683, 1.0559], device='cuda:0', grad_fn=<SliceBackward0>)\n",
      "tensor([ 0.1269,  0.0122, -1.0670], device='cuda:0', grad_fn=<SliceBackward0>)\n",
      "tensor([-0.0343,  1.2025,  1.5521], device='cuda:0', grad_fn=<SliceBackward0>)\n",
      "tensor([ 0.2034, -0.4873,  0.7840], device='cuda:0', grad_fn=<SliceBackward0>)\n",
      "tensor([-1.0200, -0.6965,  2.1177], device='cuda:0', grad_fn=<SliceBackward0>)\n",
      "tensor([-1.8004,  0.6469, -1.5202], device='cuda:0', grad_fn=<SliceBackward0>)\n",
      "tensor([-0.9483,  1.4404, -1.1570], device='cuda:0', grad_fn=<SliceBackward0>)\n",
      "tensor([-0.3295, -0.4252,  1.1866], device='cuda:0', grad_fn=<SliceBackward0>)\n",
      "tensor([-0.8998,  0.9746, -0.3611], device='cuda:0', grad_fn=<SliceBackward0>)\n",
      "tensor([ 2.0068, -1.1548,  0.8045], device='cuda:0', grad_fn=<SliceBackward0>)\n",
      "tensor([-1.1806,  0.6744, -0.3076], device='cuda:0', grad_fn=<SliceBackward0>)\n",
      "tensor([-0.5341,  1.7382,  0.0214], device='cuda:0', grad_fn=<SliceBackward0>)\n",
      "tensor([0.1443, 0.3928, 1.3318], device='cuda:0', grad_fn=<SliceBackward0>)\n",
      "tensor([0.2431, 0.3468, 0.3781], device='cuda:0', grad_fn=<SliceBackward0>)\n",
      "tensor([-1.2049,  0.9236,  0.7167], device='cuda:0', grad_fn=<SliceBackward0>)\n"
     ]
    },
    {
     "data": {
      "image/png": "[encoded data removed]",
      "text/plain": [
       "<Figure size 432x288 with 1 Axes>"
      ]
     },
     "metadata": {
      "needs_background": "light"
     },
     "output_type": "display_data"
    }
   ],
   "source": [
    "for i in range(len(Θ_1)):\n",
    "    print(Θ_1[i,:3])\n",
    "    pred = net.forward(X_train, Θ_1[i,:,]).mean(axis=1)\n",
    "    plt.plot(X_train.detach().cpu(), pred.detach().cpu())\n",
    "# plt.plot(X_train.detach().cpu(), y_train.detach().cpu())"
   ]
  },
  {
   "cell_type": "code",
   "execution_count": 143,
   "metadata": {},
   "outputs": [
    {
     "data": {
      "text/plain": [
       "tensor([-0.7801, -0.1084,  0.1080, -0.2544,  0.3704,  0.1321,  0.1566, -0.3178,\n",
       "        -0.2910,  0.3771, -0.3265, -0.3465, -0.1539,  0.1084, -0.1494, -0.0304,\n",
       "        -0.1860,  0.0646, -0.3617,  0.4300, -1.4132, -0.8205, -0.6709, -0.9085,\n",
       "        -0.6943, -0.8013, -1.1529, -1.2076, -1.2691, -0.8796, -0.8362, -0.5513,\n",
       "        -0.8389, -1.0300, -1.0318, -1.0042, -0.7326, -1.1254, -0.8379, -0.9494,\n",
       "        -0.7875, -1.0230, -1.0562, -0.8678, -0.9215, -0.8175, -0.7790, -1.4147,\n",
       "        -0.9507, -0.7103, -0.6839, -0.7546, -0.6335, -0.3720, -0.6373, -1.2080,\n",
       "        -1.0128, -1.0070, -0.9353, -1.6048, -0.5986, -0.9645, -0.3699, -0.8701,\n",
       "        -0.8113, -0.7402, -0.6355, -1.0007, -0.9172, -0.5589, -0.4833, -0.4535,\n",
       "        -0.6348, -0.6818, -0.4651, -0.7502, -0.7177, -0.5938, -0.5395, -0.8373,\n",
       "        -1.2992, -1.2083, -0.6627, -0.8179, -0.7179, -1.1380, -0.4860, -0.9471,\n",
       "        -0.4967, -0.5418, -0.7372, -0.7034, -0.8282, -1.0916, -0.6223, -0.7912,\n",
       "        -0.7844, -0.6386, -0.9753, -0.5819, -1.4304, -0.8053, -0.8727, -0.6236,\n",
       "        -0.6434, -0.4264, -0.9857, -1.3291, -0.9628, -0.6240, -0.4061, -0.8712,\n",
       "        -0.8470, -0.7488, -0.9434, -0.7908, -0.9057, -0.9038, -0.4424, -1.1849,\n",
       "        -0.6330, -0.9121, -1.1225, -0.7251, -0.8183, -0.8957, -0.7081, -0.7148,\n",
       "        -1.4670, -0.8477, -0.9917, -1.3128, -0.7819, -0.9293, -0.9354, -0.5512,\n",
       "        -0.3825, -0.5556, -0.7060, -0.9888, -1.3525, -0.4718, -0.5053, -0.6027,\n",
       "        -0.9016, -0.9737, -0.7713, -0.8153, -1.0176, -0.8798, -0.5439, -0.6909,\n",
       "        -0.5803, -1.1202, -0.7259, -0.8430, -1.0221, -0.4835, -0.6656, -0.7295,\n",
       "        -1.1826, -0.2539, -0.7642, -0.8113, -0.7415, -0.7975, -0.5872, -0.5049,\n",
       "        -0.8047, -0.3927, -0.6204, -0.3749, -0.9422, -0.6515, -0.9403, -0.6560,\n",
       "        -0.5647, -0.8002, -0.5350, -0.5801, -1.1791, -0.7495, -0.6046, -0.9713,\n",
       "        -0.7129, -0.7875, -1.0089, -0.5346, -0.5586, -0.6944, -0.8204, -0.7854,\n",
       "        -0.7304, -0.6412, -0.7191, -0.9045, -0.8835, -1.1415, -0.6711, -0.3715,\n",
       "        -1.6215, -0.7089, -0.8943, -0.7412, -0.3233, -0.8629, -1.0233, -0.9540,\n",
       "        -1.1518, -0.6743, -0.3280, -0.9170, -0.5571, -0.8908, -0.6368, -0.9756,\n",
       "        -0.5273, -0.7513, -1.0361, -1.0817, -1.3581, -0.6790, -0.4234, -0.5356,\n",
       "        -0.8651, -1.1427, -0.9263, -1.0354, -1.3164, -0.8718, -0.7047, -0.7876,\n",
       "        -0.7009, -0.4837, -0.4657, -0.7720, -0.9048, -0.5585, -1.1773, -0.7108,\n",
       "        -1.4487, -0.6688, -0.6915, -0.7607, -0.9007, -0.5987, -0.4747, -0.6967,\n",
       "        -0.8960, -0.7623, -0.8256, -0.7555, -1.1943, -0.5089, -0.6751, -0.5165,\n",
       "        -0.5484, -1.4780, -0.6542, -1.6923, -1.3337, -0.6333, -0.9481, -0.6042,\n",
       "        -0.7561, -0.5339, -0.7175, -0.7251, -1.2212, -1.0375, -0.6518, -1.2422,\n",
       "        -1.1162, -0.5829, -0.8294, -0.9290, -0.7926, -0.7249, -0.7635, -0.9259,\n",
       "        -1.4495, -0.9093, -1.5469, -0.6857, -0.7858, -0.6763, -0.9051, -0.4989,\n",
       "        -0.4489, -1.0156, -1.0990, -1.0536, -0.9710, -0.7914, -1.0193, -0.6592,\n",
       "        -1.1363, -0.5152, -0.7411, -0.9653, -1.2576, -0.5033, -0.8338, -0.7240,\n",
       "        -0.8339, -0.9215, -0.3343, -0.7995, -0.6316, -0.4737, -0.7602, -0.1484,\n",
       "        -0.7730, -0.5843, -0.5990, -1.0753, -0.6854, -0.6530, -0.7184, -0.5403,\n",
       "        -0.7901, -0.7721, -0.6774, -0.7442, -0.3974, -1.0265, -0.6909, -0.5831,\n",
       "        -1.0175, -0.5526, -0.7025, -0.8038, -1.0968, -0.5303, -0.4186, -0.6981,\n",
       "        -0.7800, -0.9790, -0.9154, -1.3065, -1.1529, -1.1199, -1.3873, -1.0739,\n",
       "        -0.7185, -0.8022, -0.6604, -0.5573, -0.7974, -0.5996, -1.2634, -0.8475,\n",
       "        -0.8589, -0.7663, -0.6868, -0.8390, -0.9333, -0.4537, -0.7786, -0.5445,\n",
       "        -1.2104, -0.8853, -0.6150, -0.8342, -0.5944, -0.9170, -0.8031, -0.8468,\n",
       "        -1.5107, -0.9825, -0.8633, -0.7690, -0.7893, -0.9444, -0.7443, -1.3793,\n",
       "        -0.8308, -1.0490, -0.8924, -0.7071, -0.7698, -0.9118, -0.9336, -0.5977,\n",
       "        -0.8682, -0.5165, -0.5691, -0.6217, -1.2502, -0.9169, -0.7669, -0.6511,\n",
       "        -0.4092, -1.1683, -0.7800, -0.5800, -0.8774, -0.6471, -0.5883, -0.9469,\n",
       "        -0.6852, -0.1574, -0.5109, -0.3344, -0.0481, -0.1693, -0.4339, -0.3100,\n",
       "        -0.7305, -0.4452, -0.3063, -0.5157, -1.1326, -0.3344, -0.4173, -0.6480,\n",
       "        -0.1255, -0.5519, -0.8525, -0.2951, -0.1675, -0.2327, -0.1460, -0.0393,\n",
       "        -0.2526, -0.1650,  0.2376, -0.1411,  0.1371,  0.2506, -0.0823, -0.0832,\n",
       "         0.0912,  0.0513,  0.1139, -0.1227, -0.1248,  0.0178,  0.0669, -0.1218],\n",
       "       device='cuda:0', grad_fn=<MeanBackward1>)"
      ]
     },
     "execution_count": 143,
     "metadata": {},
     "output_type": "execute_result"
    }
   ],
   "source": [
    "Θ_1.mean(axis=0)"
   ]
  },
  {
   "cell_type": "markdown",
   "metadata": {},
   "source": [
    "## MAP Baseline\n",
    "\n",
    "We run the point estimate approximation (Maximum a posteriori) to double check what the learned weights look like.  We get the  exact same training accuracy as with the controlled model and similarly large weights for the non bias weights. "
   ]
  },
  {
   "cell_type": "code",
   "execution_count": 25,
   "metadata": {},
   "outputs": [
    {
     "data": {
      "application/vnd.jupyter.widget-view+json": {
       "model_id": "d81821a070db47d7808ce3f15f828242",
       "version_major": 2,
       "version_minor": 0
      },
      "text/plain": [
       "  0%|          | 0/1000 [00:00<?, ?it/s]"
      ]
     },
     "metadata": {},
     "output_type": "display_data"
    },
    {
     "name": "stderr",
     "output_type": "stream",
     "text": [
      "/tmp/ipykernel_27535/3526744317.py:27: UserWarning: torch.vmap is an experimental prototype that is subject to change and/or deletion. Please use at your own risk. There may be unexpected performance cliffs due to certain operators not being implemented. To see detailed performance warnings please use `torch._C._debug_only_display_vmap_fallback_warnings(True) before the call to `vmap`.\n",
      "  batched_loss =  torch._vmap_internals.vmap(loss_)\n"
     ]
    },
    {
     "data": {
      "text/plain": [
       "(tensor(0.9875, device='cuda:0'),\n",
       " tensor([[ 0.0000, -2.1514,  2.0305]], device='cuda:0', requires_grad=True))"
      ]
     },
     "execution_count": 25,
     "metadata": {},
     "output_type": "execute_result"
    }
   ],
   "source": [
    "Θ_map = torch.zeros((1, dim), requires_grad=True, device=device)\n",
    "optimizer_map = torch.optim.Adam([Θ_map], lr=0.05)\n",
    "#     optimizer = torch.optim.LBFGS(gpr.parameters(), lr=0.01)\n",
    "\n",
    "losses_map = []\n",
    "num_steps = 1000\n",
    "for i in tqdm(range(num_steps)):\n",
    "    optimizer.zero_grad()\n",
    "\n",
    "    if isinstance(optimizer_map, torch.optim.LBFGS):\n",
    "        def closure_map():\n",
    "            loss_map = log_likelihood_vmap()\n",
    "            optimizer_map.zero_grad()\n",
    "            loss_map.backward()\n",
    "            return loss\n",
    "\n",
    "        optimizer_map.step(closure_map)\n",
    "        losses_map.append(closure_map().item())\n",
    "    else:\n",
    "        loss_map = -(log_likelihood_vmap(Θ_map, X_train, y_train + gaussian_prior(Θ_map)))\n",
    "        optimizer_map.zero_grad()\n",
    "        loss_map.backward()\n",
    "\n",
    "        optimizer_map.step()\n",
    "        losses_map.append(loss.item())\n",
    "\n",
    "Θ_map\n",
    "pred_map = torch.sigmoid(X_train.mm(Θ_map.T)).mean(axis=1)\n",
    "((pred_map < 0.5).float() == y_train).float().mean(), Θ_map"
   ]
  },
  {
   "cell_type": "markdown",
   "metadata": {},
   "source": [
    "## Pyro Bayesian Logistic Regeression\n",
    "\n",
    "As a baseline we run pyro with SVI on this same example atm we get very different results which is a bit worrying.\n",
    "\n",
    "#### EDIT:\n",
    "\n",
    "I think results are actually in agreement what was happening is the priors in the pyro code where much more confident thus the smaller weights. I just tried changing the prior of this pyro model and the posterior is not changing much, this is a bit fishy maybe worth investigating. \n",
    "\n",
    "I think it might just be the case that this model is not very good."
   ]
  },
  {
   "cell_type": "code",
   "execution_count": null,
   "metadata": {},
   "outputs": [],
   "source": [
    "import numpy as np\n",
    "import scipy.special as ssp\n",
    "import matplotlib.pyplot as plt\n",
    "\n",
    "import torch\n",
    "import torch.nn as nn\n",
    "import torch.distributions.constraints as constraints\n",
    "\n",
    "from torch.utils.data import DataLoader\n",
    "from torch.utils.data.sampler import SubsetRandomSampler\n",
    "\n",
    "import pyro\n",
    "import pyro.distributions as dist\n",
    "\n",
    "from pyro.infer import SVI, Trace_ELBO\n",
    "from pyro.optim import Adam, SGD\n",
    "\n",
    "pyro.enable_validation(True)\n",
    "torch.set_default_dtype(torch.double) # this was necessary on the CPU"
   ]
  },
  {
   "cell_type": "code",
   "execution_count": null,
   "metadata": {},
   "outputs": [],
   "source": [
    "\n",
    "# these were adapted from the Pyro VAE tutorial\n",
    "\n",
    "def train(svi, train_loader, n_train):\n",
    "    # initialize loss accumulator\n",
    "    epoch_loss = 0.\n",
    "    # do a training epoch over each mini-batch x returned\n",
    "    # by the data loader\n",
    "    for _, xs in enumerate(train_loader):\n",
    "        # do ELBO gradient and accumulate loss\n",
    "        epoch_loss += svi.step(*xs)\n",
    "\n",
    "    # return epoch loss\n",
    "    total_epoch_loss_train = epoch_loss / n_train\n",
    "    return total_epoch_loss_train\n",
    "\n",
    "\n",
    "def evaluate(svi, test_loader, n_test):\n",
    "    # initialize loss accumulator\n",
    "    test_loss = 0.\n",
    "    # compute the loss over the entire test set\n",
    "    for _, xs in enumerate(test_loader):\n",
    "        # compute ELBO estimate and accumulate loss\n",
    "        test_loss += svi.evaluate_loss(*xs)\n",
    "\n",
    "    total_epoch_loss_test = test_loss / n_test\n",
    "    return total_epoch_loss_test\n",
    "\n",
    "\n",
    "def plot_llk(train_elbo, test_elbo, test_int):\n",
    "    plt.figure(figsize=(8, 6))\n",
    "\n",
    "    x = np.arange(len(train_elbo))\n",
    "\n",
    "    plt.plot(x, train_elbo, marker='o', label='Train ELBO')\n",
    "    plt.plot(x[::test_int], test_elbo, marker='o', label='Test ELBO')\n",
    "    plt.xlabel('Training Epoch')\n",
    "    plt.legend()\n",
    "    plt.show()"
   ]
  },
  {
   "cell_type": "code",
   "execution_count": null,
   "metadata": {},
   "outputs": [],
   "source": [
    "class LogRegressionModel(nn.Module):\n",
    "    def __init__(self, p):\n",
    "        super(LogRegressionModel, self).__init__()\n",
    "        \n",
    "        self.p = p\n",
    "\n",
    "        # hyperparameters for normal priors\n",
    "        self.alpha_h_loc = torch.zeros(1, p)\n",
    "        self.alpha_h_scale = 0.0001 * torch.ones(1, p)\n",
    "        self.beta_h_loc = torch.zeros(1)\n",
    "        self.beta_h_scale =  0.0001 * torch.ones(1)\n",
    "        \n",
    "        # initial values of variational parameters\n",
    "        self.alpha_0 = np.zeros((1, p))\n",
    "        self.alpha_0_scale = np.ones((1, p))\n",
    "        self.beta_0 = np.zeros((1,))\n",
    "        self.beta_0_scale = np.ones((1,))\n",
    "\n",
    "    def model(self, x, y):\n",
    "        # sample from prior\n",
    "        a = pyro.sample(\n",
    "            \"weight\", dist.Normal(self.alpha_h_loc, self.alpha_h_scale, validate_args=True).independent(1)\n",
    "        ).float()\n",
    "        b = pyro.sample(\n",
    "            \"bias\", dist.Normal(self.beta_h_loc, self.beta_h_scale, validate_args=True).independent(1)\n",
    "        ).float()\n",
    "\n",
    "        with pyro.iarange(\"data\", x.size(0)):\n",
    "#             import pdb; pdb.set_trace()\n",
    "            model_logits = (torch.matmul(x, a.permute(1, 0)) + b).squeeze()\n",
    "            \n",
    "            pyro.sample(\n",
    "                \"obs\", \n",
    "                dist.Bernoulli(logits=model_logits, validate_args=True),\n",
    "                obs=y.squeeze()\n",
    "            )\n",
    "            \n",
    "    def guide(self, x, y):\n",
    "        # register variational parameters with pyro\n",
    "        alpha_loc = pyro.param(\"alpha_loc\", torch.tensor(self.alpha_0))\n",
    "        alpha_scale = pyro.param(\"alpha_scale\", torch.tensor(self.alpha_0_scale),\n",
    "                                 constraint=constraints.positive)\n",
    "        beta_loc = pyro.param(\"beta_loc\", torch.tensor(self.beta_0))\n",
    "        beta_scale = pyro.param(\"beta_scale\", torch.tensor(self.beta_0_scale),\n",
    "                                constraint=constraints.positive)\n",
    "\n",
    "        pyro.sample(\n",
    "            \"weight\", dist.Normal(alpha_loc, alpha_scale, validate_args=True).independent(1)\n",
    "        )\n",
    "        pyro.sample(\n",
    "            \"bias\", dist.Normal(beta_loc, beta_scale, validate_args=True).independent(1)\n",
    "        )\n",
    "    \n",
    "    \n",
    "    def guide_(self, x, y, N=100):\n",
    "        # register variational parameters with pyro\n",
    "        alpha_loc = pyro.param(\"alpha_loc\", torch.tensor(self.alpha_0))\n",
    "        alpha_scale = pyro.param(\"alpha_scale\", torch.tensor(self.alpha_0_scale),\n",
    "                                 constraint=constraints.positive)\n",
    "        beta_loc = pyro.param(\"beta_loc\", torch.tensor(self.beta_0))\n",
    "        beta_scale = pyro.param(\"beta_scale\", torch.tensor(self.beta_0_scale),\n",
    "                                constraint=constraints.positive)\n",
    "        w = []\n",
    "        b = []\n",
    "        for _ in range(N):\n",
    "            w.append(torch.tensor(pyro.sample(\n",
    "                \"weight\", dist.Normal(alpha_loc, alpha_scale, validate_args=True).independent(1)\n",
    "            )))\n",
    "            b.append(torch.tensor(pyro.sample(\n",
    "                \"bias\", dist.Normal(beta_loc, beta_scale, validate_args=True).independent(1)\n",
    "            )))\n",
    "#         import pdb;pdb.set_trace()\n",
    "        return torch.vstack(w), torch.vstack(b)"
   ]
  },
  {
   "cell_type": "code",
   "execution_count": null,
   "metadata": {},
   "outputs": [],
   "source": [
    "\n",
    "pyro.clear_param_store()\n",
    "\n",
    "optim = Adam({'lr': 0.01})\n",
    "\n",
    "num_epochs = 1000\n",
    "batch_size = 50\n",
    "\n",
    "N = X.shape[0]\n",
    "p = 2\n",
    "\n",
    "n_train = X_train.shape[0]\n",
    "example_indices = np.random.permutation(N)\n",
    "n_test = N - n_train\n",
    "test_iter = 50"
   ]
  },
  {
   "cell_type": "code",
   "execution_count": null,
   "metadata": {},
   "outputs": [],
   "source": [
    "lr_model = LogRegressionModel(p=p)\n",
    "\n",
    "svi = SVI(\n",
    "    lr_model.model, lr_model.guide, optim,\n",
    "    loss=Trace_ELBO()\n",
    ")\n",
    "\n",
    "\n",
    "lr_dataset = torch.utils.data.TensorDataset(torch.tensor(X[:,1:]).float(), torch.tensor(y.reshape(-1,1)).float())\n",
    "\n",
    "data_loader_train = DataLoader(\n",
    "    dataset=lr_dataset, batch_size=batch_size, pin_memory=False,\n",
    "    sampler=SubsetRandomSampler(example_indices[:n_train]),\n",
    ")\n",
    "    \n",
    "data_loader_test = DataLoader(\n",
    "    dataset=lr_dataset, batch_size=batch_size, pin_memory=False,\n",
    "    sampler=SubsetRandomSampler(example_indices[n_train:]),\n",
    ")\n",
    "\n",
    "train_elbo = []\n",
    "test_elbo = []\n",
    "for epoch in range(num_epochs):\n",
    "    total_epoch_loss_train = train(svi, data_loader_train, n_train)\n",
    "    train_elbo.append(-total_epoch_loss_train)\n",
    "\n",
    "    if epoch % test_iter == 0:\n",
    "        print(\"[epoch %03d]  average training loss: %.4f\" % (epoch, total_epoch_loss_train))\n",
    "        # report test diagnostics\n",
    "        total_epoch_loss_test = evaluate(svi, data_loader_test, n_test)\n",
    "        test_elbo.append(-total_epoch_loss_test)"
   ]
  },
  {
   "cell_type": "code",
   "execution_count": null,
   "metadata": {},
   "outputs": [],
   "source": [
    "plot_llk(train_elbo, test_elbo, test_iter)"
   ]
  },
  {
   "cell_type": "code",
   "execution_count": null,
   "metadata": {},
   "outputs": [],
   "source": [
    "W, b = lr_model.guide_(X_train.float(), y_train.float())"
   ]
  },
  {
   "cell_type": "code",
   "execution_count": null,
   "metadata": {},
   "outputs": [],
   "source": [
    "fig, (ax1,ax2,ax3) = plt.subplots(1,3)\n",
    "\n",
    "# ax1.hist(Θ_1[:,0].detach().numpy())\n",
    "# ax2.hist(Θ_1[:,1].detach().numpy())\n",
    "# ax3.hist(Θ_1[:,2].detach().numpy())\n",
    "\n",
    "\n",
    "ax1.hist(b.detach().numpy(), color=\"red\")\n",
    "ax2.hist(W[:,0].detach().numpy(), color=\"red\")\n",
    "ax3.hist(W[:,1].detach().numpy(), color=\"red\")\n"
   ]
  },
  {
   "cell_type": "code",
   "execution_count": null,
   "metadata": {},
   "outputs": [],
   "source": [
    "b.mean(), W.mean(axis=0)"
   ]
  },
  {
   "cell_type": "code",
   "execution_count": null,
   "metadata": {},
   "outputs": [],
   "source": []
  }
 ],
 "metadata": {
  "kernelspec": {
   "display_name": "Python 3 (ipykernel)",
   "language": "python",
   "name": "python3"
  },
  "language_info": {
   "codemirror_mode": {
    "name": "ipython",
    "version": 3
   },
   "file_extension": ".py",
   "mimetype": "text/x-python",
   "name": "python",
   "nbconvert_exporter": "python",
   "pygments_lexer": "ipython3",
   "version": "3.8.5"
  },
  "toc": {
   "base_numbering": 1,
   "nav_menu": {},
   "number_sections": true,
   "sideBar": true,
   "skip_h1_title": false,
   "title_cell": "Table of Contents",
   "title_sidebar": "Contents",
   "toc_cell": false,
   "toc_position": {},
   "toc_section_display": true,
   "toc_window_display": false
  }
 },
 "nbformat": 4,
 "nbformat_minor": 4
}
