{
 "cells": [
  {
   "cell_type": "code",
   "execution_count": 1,
   "metadata": {},
   "outputs": [],
   "source": [
    "import torch\n",
    "import torch.nn.functional as F\n",
    "\n",
    "import torchsde\n",
    "import math\n",
    "import matplotlib.pyplot as plt\n",
    "\n",
    "import numpy as np\n",
    "\n",
    "from tqdm.notebook import tqdm\n",
    "\n",
    "from torch import _vmap_internals"
   ]
  },
  {
   "cell_type": "code",
   "execution_count": 2,
   "metadata": {},
   "outputs": [],
   "source": [
    "from cfollmer.objectives import log_g, relative_entropy_control_cost\n",
    "from cfollmer.sampler_utils import FollmerSDE"
   ]
  },
  {
   "cell_type": "markdown",
   "metadata": {},
   "source": [
    "## Loading the StepFunc dataset"
   ]
  },
  {
   "cell_type": "code",
   "execution_count": 284,
   "metadata": {},
   "outputs": [
    {
     "data": {
      "image/png": "[encoded data removed]",
      "text/plain": [
       "<Figure size 432x288 with 1 Axes>"
      ]
     },
     "metadata": {
      "needs_background": "light"
     },
     "output_type": "display_data"
    }
   ],
   "source": [
    "device = \"cuda\" if torch.cuda.is_available() else \"cpu\"\n",
    "\n",
    "\n",
    "# Test inputs\n",
    "num_test_samples = 100\n",
    "X_test = np.linspace(-4, 4, num_test_samples).reshape(num_test_samples,1)\n",
    "\n",
    "# Noise free training inputs\n",
    "X_train = np.linspace(-3.5, 3.5, 100).reshape(-1,1)\n",
    "#f_train = np.cos(X_train) \n",
    "f_train = np.heaviside(X_train, 0)\n",
    "\n",
    "# Noise-free training outputs\n",
    "#f = np.cos(X_test)\n",
    "f = np.heaviside(X_test, 0)\n",
    "y_test  = f\n",
    "\n",
    "# Noisy training Inputs with additive Gaussian noise (zero-mean, variance sigma_n)\n",
    "sigma_n = 0.1\n",
    "\n",
    "mu = np.zeros(X_train.size)\n",
    "epsilon = np.random.multivariate_normal(mu, sigma_n**2 * np.eye(X_train.size))\n",
    "\n",
    "# Noisy targets\n",
    "y_train = f_train + epsilon.reshape(X_train.size,1)\n",
    "\n",
    "# Noisy observations\n",
    "fig, ax = plt.subplots(figsize=(6, 4), tight_layout=True)\n",
    "ax.plot(X_test, f, 'b', label = 'f(x)')\n",
    "ax.plot(X_train, y_train, 'kP', ms = 9, label = 'y(x) = f(x) + $\\epsilon$')\n",
    "ax.legend(loc = 'upper left')\n",
    "ax.set_title('Target function with noisy observations ')\n",
    "\n",
    "plt.show()"
   ]
  },
  {
   "cell_type": "code",
   "execution_count": 285,
   "metadata": {},
   "outputs": [],
   "source": [
    "device = \"cuda\" if torch.cuda.is_available() else \"cpu\"\n",
    "\n",
    "\n",
    "\n",
    "X_train, X_test, y_train, y_test = \\\n",
    "    torch.tensor(X_train, dtype=torch.float32, device=device), \\\n",
    "    torch.tensor(X_test, dtype=torch.float32, device=device), \\\n",
    "    torch.tensor(y_train, dtype=torch.float32, device=device), \\\n",
    "    torch.tensor(y_test, dtype=torch.float32, device=device) "
   ]
  },
  {
   "cell_type": "markdown",
   "metadata": {},
   "source": [
    "$$\\DeclareMathOperator*{\\argmin}{arg\\,min}$$\n",
    "$$\\def\\E{{\\mathbb{E}}}$$\n",
    "$$\\def\\rvu{{\\mathbf{u}}}$$\n",
    "$$\\def\\rvTheta{{\\bm{\\Theta}}}$$\n",
    "$$\\def\\gU{{\\mathcal{U}}}$$\n",
    "$$\\def\\mX{{\\mathbf{X}}}$$"
   ]
  },
  {
   "cell_type": "markdown",
   "metadata": {},
   "source": [
    "## Controlled Schrodinger Follmer Sampler\n",
    "\n",
    "The objevtive we are trying to implement is:\n",
    "\n",
    "\\begin{align}\n",
    "  \\mathbf{u}_t^{*}=  \\argmin_{\\rvu_t \\in \\mathcal{U}}\\mathbb{E}\\left[\\frac{1}{2\\gamma}\\int_0^1||\\rvu(t, \\Theta_t)||^2 dt - \\ln\\left(\\frac{ p(\\mX | \\Theta_1)p(\\Theta_1)}{\\mathcal{N}(\\Theta_1|\\mathbf{0}, \\gamma \\mathbb{I} )}\\right)\\right] \\\n",
    "\\end{align}\n",
    "\n",
    "Where:\n",
    "\\begin{align}\n",
    "d\\Theta_t = \\rvu(t, \\Theta_t)dt + \\sqrt{\\gamma} dB_t\n",
    "\\end{align}\n"
   ]
  },
  {
   "cell_type": "code",
   "execution_count": 286,
   "metadata": {},
   "outputs": [],
   "source": [
    "import torch.nn.functional as F\n",
    "\n",
    "\n",
    "class OnedRegressionForwardNet(object):\n",
    "    \n",
    "    def __init__(self, input_dim=1, output_dim=1, depth=None, width=20, width_seq=None, device=\"cpu\"):\n",
    "        \n",
    "        self.device = device\n",
    "        self.output_dim = output_dim\n",
    "        self.input_dim = input_dim \n",
    "        \n",
    "        self.depth = depth\n",
    "        if not self.depth:\n",
    "            self.depth = 1\n",
    "        if not width_seq:\n",
    "            self.width = width\n",
    "            self.width_seq = [self.width] * (self.depth + 1)\n",
    "            self.shapes = [(self.width_seq[i-1], self.width_seq[i])  for i in range(1,self.depth)]\n",
    "            self.shapes += [(self.width_seq[-1], self.output_dim)]\n",
    "            self.shapes = [(self.input_dim, self.width_seq[0])] + self.shapes\n",
    "        \n",
    "        self.dim = sum([wx * wy + wy for wx, wy in self.shapes])\n",
    "        \n",
    "    def forward(self, x, Θ):\n",
    "        index = 0\n",
    "        n, d = x.shape\n",
    "#         dummy_col = torch.ones((n,1)).to(self.device)\n",
    "#         x = torch.cat((x,dummy_col), dim=1)\n",
    "        for wx, wy in self.shapes[:-1]:\n",
    "            x = F.linear(\n",
    "                x,\n",
    "                Θ[index: index + wx * wy].reshape(wy, wx),\n",
    "                Θ[index + wx * wy: index + wx * wy + wy].reshape(1,wy)\n",
    "            )\n",
    "            x = F.relu(x)\n",
    "            index += wx * wy  + wy\n",
    "        wx, wy = self.shapes[-1]\n",
    "        x = F.linear(\n",
    "            x,\n",
    "            Θ[index: index + wx * wy].reshape(wy, wx),\n",
    "            Θ[index + wx * wy: index + wx * wy + wy].reshape(1,wy)\n",
    "        )\n",
    "        return x.to(self.device)\n",
    "    \n",
    "    def map_forward(self, x, Θ):\n",
    "        preds_func = lambda θ: self.forward(x, θ)\n",
    "        batched_preds = torch._vmap_internals.vmap(preds_func)\n",
    "        preds = torch.hstack(list(map(preds_func, Θ)))\n",
    "        return preds\n",
    "        "
   ]
  },
  {
   "cell_type": "code",
   "execution_count": 441,
   "metadata": {},
   "outputs": [],
   "source": [
    "net = OnedRegressionForwardNet(1,1, device=device, depth=1, width=10)\n",
    "\n",
    "def ln_prior(Θ, σ_w=5):\n",
    "    \"\"\"\n",
    "    Logistic regresion bayesian prior\n",
    "    \"\"\"\n",
    "    return -0.5 * (Θ**2).sum(axis=1) / σ_w**2 * 0\n",
    "\n",
    "\n",
    "def log_likelihood_vmap(Θ, X, y, net=net):\n",
    "    \"\"\"\n",
    "    Hoping this implementation is less buggy / faster\n",
    "    \n",
    "    still feels a bit slow.\n",
    "    \"\"\"\n",
    "    preds_func = lambda θ: net.forward(X, θ)\n",
    "#     batched_preds = torch._vmap_internals.vmap(preds_func)\n",
    "#     import pdb; pdb.set_trace()\n",
    "    preds = torch.hstack(list(map(preds_func, Θ)))\n",
    "\n",
    "    diff = preds - y\n",
    "#     import pdb; pdb.set_trace()\n",
    "    diff_sq_fld = -0.5 * (diff**2).sum(dim=0)\n",
    "\n",
    "    return diff_sq_fld"
   ]
  },
  {
   "cell_type": "code",
   "execution_count": 442,
   "metadata": {},
   "outputs": [],
   "source": [
    "Δt=0.05\n",
    "t_size = int(math.ceil(1.0/Δt))\n",
    "dim = net.dim\n",
    "\n",
    "ts = torch.linspace(0, 1, t_size).to(device)\n",
    "no_posterior_samples = 300\n",
    "\n",
    "sde = FollmerSDE(dim, dim, no_posterior_samples, 1.0, device=device).to(device)\n",
    "Θ_0 = torch.zeros((no_posterior_samples, net.dim)).to(device) # Θ_0 ~ δ_0\n",
    "\n",
    "# Initial state y0, the SDE is solved over the interval [ts[0], ts[-1]].\n",
    "# ys will have shape (t_size, batch_size, state_size)\n",
    "ys = torchsde.sdeint(sde, Θ_0, ts, dt=Δt)"
   ]
  },
  {
   "cell_type": "code",
   "execution_count": 443,
   "metadata": {},
   "outputs": [
    {
     "data": {
      "text/plain": [
       "31"
      ]
     },
     "execution_count": 443,
     "metadata": {},
     "output_type": "execute_result"
    }
   ],
   "source": [
    "net.dim"
   ]
  },
  {
   "cell_type": "code",
   "execution_count": 444,
   "metadata": {},
   "outputs": [
    {
     "data": {
      "text/plain": [
       "tensor(1491.4443, device='cuda:0', grad_fn=<MeanBackward0>)"
      ]
     },
     "execution_count": 444,
     "metadata": {},
     "output_type": "execute_result"
    }
   ],
   "source": [
    "relative_entropy_control_cost(sde, Θ_0, X_train, y_train, \n",
    "                              ln_prior, log_likelihood_vmap, γ=1.0, device=device)\n"
   ]
  },
  {
   "cell_type": "code",
   "execution_count": 445,
   "metadata": {},
   "outputs": [
    {
     "data": {
      "application/vnd.jupyter.widget-view+json": {
       "model_id": "019bf930e52646f8a2560367b982b769",
       "version_major": 2,
       "version_minor": 0
      },
      "text/plain": [
       "  0%|          | 0/200 [00:00<?, ?it/s]"
      ]
     },
     "metadata": {},
     "output_type": "display_data"
    }
   ],
   "source": [
    "γ = 1.0\n",
    "Δt = 0.05\n",
    "t_size = int(math.ceil(1.0/Δt))\n",
    "ts = torch.linspace(0, 1, t_size).to(device)\n",
    "\n",
    "sde = FollmerSDE(dim, dim, no_posterior_samples  , γ=γ, device=device).to(device)\n",
    "optimizer = torch.optim.Adam(sde.μ.parameters(), lr=0.01, weight_decay =0.01)\n",
    "#     optimizer = torch.optim.LBFGS(gpr.parameters(), lr=0.01)\n",
    "losses = []\n",
    "num_steps = 200\n",
    "# with torch.autograd.set_detect_anomaly(True):\n",
    "for i in tqdm(range(num_steps)):\n",
    "    optimizer.zero_grad()\n",
    "\n",
    "    if isinstance(optimizer, torch.optim.LBFGS):\n",
    "        def closure():\n",
    "            loss = relative_entropy_control_cost(\n",
    "                sde, Θ_0.float(),\n",
    "                X_train.float(), y_train.float(),\n",
    "                ln_prior, log_likelihood_vmap, γ=γ\n",
    "            )\n",
    "            optimizer.zero_grad()\n",
    "            loss.backward()\n",
    "            return loss\n",
    "\n",
    "        optimizer.step(closure)\n",
    "        losses.append(closure().item())\n",
    "    else:\n",
    "        loss = relative_entropy_control_cost(\n",
    "            sde, Θ_0,\n",
    "            X_train, y_train,\n",
    "            ln_prior, log_likelihood_vmap, γ=γ\n",
    "        )\n",
    "        optimizer.zero_grad()\n",
    "        loss.backward()\n",
    "\n",
    "        optimizer.step()\n",
    "        losses.append(loss.item())"
   ]
  },
  {
   "cell_type": "code",
   "execution_count": 446,
   "metadata": {},
   "outputs": [
    {
     "data": {
      "text/plain": [
       "torch.Size([100, 1])"
      ]
     },
     "execution_count": 446,
     "metadata": {},
     "output_type": "execute_result"
    }
   ],
   "source": [
    "X_train.shape"
   ]
  },
  {
   "cell_type": "code",
   "execution_count": 447,
   "metadata": {
    "scrolled": true
   },
   "outputs": [
    {
     "data": {
      "text/plain": [
       "[1576.2679443359375,\n",
       " 1450.4027099609375,\n",
       " 1488.4034423828125,\n",
       " 1390.724365234375,\n",
       " 1348.4132080078125,\n",
       " 1200.7745361328125,\n",
       " 1130.09130859375,\n",
       " 1160.8743896484375,\n",
       " 1223.4998779296875,\n",
       " 1104.12939453125,\n",
       " 1051.9298095703125,\n",
       " 819.76220703125,\n",
       " 719.4055786132812,\n",
       " 632.7363891601562,\n",
       " 504.7644348144531,\n",
       " 362.90234375,\n",
       " 220.10885620117188,\n",
       " 316.2650451660156,\n",
       " 333.1311340332031,\n",
       " 252.42662048339844,\n",
       " 199.7424774169922,\n",
       " 170.78482055664062,\n",
       " 152.8295135498047,\n",
       " 178.159423828125,\n",
       " 164.7121124267578,\n",
       " 190.40182495117188,\n",
       " 174.74302673339844,\n",
       " 164.182861328125,\n",
       " 136.04595947265625,\n",
       " 159.60440063476562,\n",
       " 123.65259552001953,\n",
       " 127.26901245117188,\n",
       " 131.39208984375,\n",
       " 112.63127899169922,\n",
       " 132.43467712402344,\n",
       " 104.27588653564453,\n",
       " 109.22763061523438,\n",
       " 104.71189880371094,\n",
       " 88.31367492675781,\n",
       " 89.82514190673828,\n",
       " 93.05043029785156,\n",
       " 93.83210754394531,\n",
       " 89.53253173828125,\n",
       " 90.69908142089844,\n",
       " 83.72756958007812,\n",
       " 76.89230346679688,\n",
       " 75.38168334960938,\n",
       " 81.5038833618164,\n",
       " 90.00688934326172,\n",
       " 71.35235595703125,\n",
       " 72.44383239746094,\n",
       " 80.10894775390625,\n",
       " 66.72895812988281,\n",
       " 60.81034469604492,\n",
       " 61.26905822753906,\n",
       " 71.55010986328125,\n",
       " 60.910457611083984,\n",
       " 63.56820297241211,\n",
       " 64.22361755371094,\n",
       " 49.46528625488281,\n",
       " 55.207096099853516,\n",
       " 52.35388946533203,\n",
       " 55.49074935913086,\n",
       " 49.2146110534668,\n",
       " 50.78038024902344,\n",
       " 56.59588623046875,\n",
       " 48.617759704589844,\n",
       " 51.46486282348633,\n",
       " 43.169517517089844,\n",
       " 44.89488220214844,\n",
       " 43.078269958496094,\n",
       " 43.586673736572266,\n",
       " 43.95261764526367,\n",
       " 39.23135757446289,\n",
       " 35.928951263427734,\n",
       " 34.36607360839844,\n",
       " 33.910884857177734,\n",
       " 38.62974166870117,\n",
       " 30.769180297851562,\n",
       " 32.30995559692383,\n",
       " 30.609941482543945,\n",
       " 30.051313400268555,\n",
       " 28.477806091308594,\n",
       " 29.35500144958496,\n",
       " 25.238040924072266,\n",
       " 28.0580997467041,\n",
       " 26.154094696044922,\n",
       " 21.918132781982422,\n",
       " 19.66292381286621,\n",
       " 19.593107223510742,\n",
       " 21.59137535095215,\n",
       " 21.355743408203125,\n",
       " 20.391019821166992,\n",
       " 18.032432556152344,\n",
       " 19.246456146240234,\n",
       " 17.47690200805664,\n",
       " 16.255887985229492,\n",
       " 15.18182373046875,\n",
       " 12.732698440551758,\n",
       " 14.154629707336426,\n",
       " 13.268999099731445,\n",
       " 11.313616752624512,\n",
       " 14.39831256866455,\n",
       " 14.057971000671387,\n",
       " 13.49830150604248,\n",
       " 12.700862884521484,\n",
       " 16.251449584960938,\n",
       " 11.047093391418457,\n",
       " 7.896346092224121,\n",
       " 10.607325553894043,\n",
       " 9.774789810180664,\n",
       " 11.300355911254883,\n",
       " 11.909858703613281,\n",
       " 11.46060562133789,\n",
       " 10.683929443359375,\n",
       " 9.723285675048828,\n",
       " 10.79843521118164,\n",
       " 7.872198104858398,\n",
       " 12.779216766357422,\n",
       " 14.987394332885742,\n",
       " 10.170414924621582,\n",
       " 9.397747039794922,\n",
       " 6.75990104675293,\n",
       " 9.183218002319336,\n",
       " 6.9314446449279785,\n",
       " 8.96182918548584,\n",
       " 8.349843978881836,\n",
       " 8.483922958374023,\n",
       " 8.621747016906738,\n",
       " 8.894786834716797,\n",
       " 6.980386734008789,\n",
       " 7.0232343673706055,\n",
       " 4.650793552398682,\n",
       " 6.708175182342529,\n",
       " 4.757134914398193,\n",
       " 7.496826171875,\n",
       " 6.624578952789307,\n",
       " 6.598453998565674,\n",
       " 5.594968318939209,\n",
       " 7.033979892730713,\n",
       " 6.357734680175781,\n",
       " 5.491244792938232,\n",
       " 8.43592643737793,\n",
       " 7.075537204742432,\n",
       " 3.8352038860321045,\n",
       " 2.4102590084075928,\n",
       " 3.345933198928833,\n",
       " 7.066378593444824,\n",
       " 3.0653862953186035,\n",
       " 8.617640495300293,\n",
       " 3.813749313354492,\n",
       " 7.821964740753174,\n",
       " 3.519233465194702,\n",
       " 3.1828906536102295,\n",
       " 1.3974024057388306,\n",
       " 3.8086130619049072,\n",
       " 4.268131256103516,\n",
       " 4.142669200897217,\n",
       " 3.3223180770874023,\n",
       " 3.2417168617248535,\n",
       " 3.5538783073425293,\n",
       " 7.048234939575195,\n",
       " 3.6973955631256104,\n",
       " 4.909008502960205,\n",
       " 4.104613780975342,\n",
       " 1.3666861057281494,\n",
       " 3.7367029190063477,\n",
       " -0.11703755706548691,\n",
       " 0.7756655812263489,\n",
       " -0.12699727714061737,\n",
       " 4.30979061126709,\n",
       " -1.0676287412643433,\n",
       " -0.43527254462242126,\n",
       " 3.6841111183166504,\n",
       " 1.4212621450424194,\n",
       " 4.296483039855957,\n",
       " 1.8012058734893799,\n",
       " 3.232959270477295,\n",
       " -3.414224624633789,\n",
       " -1.4846309423446655,\n",
       " 2.2745511531829834,\n",
       " 0.3899173140525818,\n",
       " 2.495274782180786,\n",
       " 1.3387373685836792,\n",
       " 0.5631830096244812,\n",
       " 5.234518527984619,\n",
       " -3.3895442485809326,\n",
       " -1.5896397829055786,\n",
       " -4.297886371612549,\n",
       " -2.478177547454834,\n",
       " 0.7791939377784729,\n",
       " -0.3924471139907837,\n",
       " -1.9145402908325195,\n",
       " -7.131839275360107,\n",
       " 2.1448278427124023,\n",
       " -3.195211410522461,\n",
       " -0.9707536101341248,\n",
       " 1.7483998537063599,\n",
       " 2.602670669555664,\n",
       " -3.6901888847351074]"
      ]
     },
     "execution_count": 447,
     "metadata": {},
     "output_type": "execute_result"
    }
   ],
   "source": [
    "losses"
   ]
  },
  {
   "cell_type": "code",
   "execution_count": 448,
   "metadata": {},
   "outputs": [
    {
     "data": {
      "text/plain": [
       "[<matplotlib.lines.Line2D at 0x22bbdd7cd30>]"
      ]
     },
     "execution_count": 448,
     "metadata": {},
     "output_type": "execute_result"
    },
    {
     "data": {
      "image/png": "[encoded data removed]",
      "text/plain": [
       "<Figure size 432x288 with 1 Axes>"
      ]
     },
     "metadata": {
      "needs_background": "light"
     },
     "output_type": "display_data"
    }
   ],
   "source": [
    "plt.plot(losses[:])"
   ]
  },
  {
   "cell_type": "code",
   "execution_count": 449,
   "metadata": {},
   "outputs": [],
   "source": [
    "Θ_1 = torchsde.sdeint(sde, Θ_0, ts, dt=Δt)[-1,...]"
   ]
  },
  {
   "cell_type": "code",
   "execution_count": 450,
   "metadata": {},
   "outputs": [
    {
     "data": {
      "text/plain": [
       "(array([ 1.,  7., 23., 32., 74., 76., 49., 21., 13.,  4.]),\n",
       " array([-2.8038495 , -2.2624905 , -1.7211316 , -1.1797725 , -0.63841355,\n",
       "        -0.0970546 ,  0.44430438,  0.98566335,  1.5270224 ,  2.0683813 ,\n",
       "         2.6097403 ], dtype=float32),\n",
       " <a list of 10 Patch objects>)"
      ]
     },
     "execution_count": 450,
     "metadata": {},
     "output_type": "execute_result"
    },
    {
     "data": {
      "image/png": "[encoded data removed]",
      "text/plain": [
       "<Figure size 432x288 with 3 Axes>"
      ]
     },
     "metadata": {
      "needs_background": "light"
     },
     "output_type": "display_data"
    }
   ],
   "source": [
    "fig, (ax1,ax2,ax3) = plt.subplots(1,3)\n",
    "\n",
    "ax1.hist(Θ_1[:,0].cpu().detach().numpy())\n",
    "ax2.hist(Θ_1[:,1].cpu().detach().numpy())\n",
    "ax3.hist(Θ_1[:,2].cpu().detach().numpy())"
   ]
  },
  {
   "cell_type": "code",
   "execution_count": 451,
   "metadata": {},
   "outputs": [
    {
     "name": "stderr",
     "output_type": "stream",
     "text": [
      "C:\\Users\\vargf\\AppData\\Local\\Temp/ipykernel_25680/2698751039.py:47: UserWarning: torch.vmap is an experimental prototype that is subject to change and/or deletion. Please use at your own risk. There may be unexpected performance cliffs due to certain operators not being implemented. To see detailed performance warnings please use `torch._C._debug_only_display_vmap_fallback_warnings(True) before the call to `vmap`.\n",
      "  batched_preds = torch._vmap_internals.vmap(preds_func)\n"
     ]
    }
   ],
   "source": [
    "pred = net.map_forward(X_train, Θ_1.mean(dim=0).reshape(1,-1))#.mean(axis=1)\n",
    "\n",
    "pred = net.map_forward(X_train, Θ_1).mean(axis=1)"
   ]
  },
  {
   "cell_type": "code",
   "execution_count": 452,
   "metadata": {},
   "outputs": [
    {
     "data": {
      "text/plain": [
       "torch.Size([300, 31])"
      ]
     },
     "execution_count": 452,
     "metadata": {},
     "output_type": "execute_result"
    }
   ],
   "source": [
    "Θ_1.shape"
   ]
  },
  {
   "cell_type": "code",
   "execution_count": 453,
   "metadata": {},
   "outputs": [
    {
     "name": "stderr",
     "output_type": "stream",
     "text": [
      "C:\\Users\\vargf\\AppData\\Local\\Temp/ipykernel_25680/2698751039.py:47: UserWarning: torch.vmap is an experimental prototype that is subject to change and/or deletion. Please use at your own risk. There may be unexpected performance cliffs due to certain operators not being implemented. To see detailed performance warnings please use `torch._C._debug_only_display_vmap_fallback_warnings(True) before the call to `vmap`.\n",
      "  batched_preds = torch._vmap_internals.vmap(preds_func)\n"
     ]
    },
    {
     "data": {
      "text/plain": [
       "torch.Size([100, 300])"
      ]
     },
     "execution_count": 453,
     "metadata": {},
     "output_type": "execute_result"
    }
   ],
   "source": [
    " net.map_forward(X_train, Θ_1).shape"
   ]
  },
  {
   "cell_type": "code",
   "execution_count": 454,
   "metadata": {},
   "outputs": [
    {
     "data": {
      "image/png": "[encoded data removed]",
      "text/plain": [
       "<Figure size 432x288 with 1 Axes>"
      ]
     },
     "metadata": {
      "needs_background": "light"
     },
     "output_type": "display_data"
    }
   ],
   "source": [
    "\n",
    "\n",
    "fig, ax = plt.subplots(figsize=(6, 4), tight_layout=True)\n",
    "ax.plot(X_test.detach().cpu(), f, 'b', label = 'f(x)')\n",
    "ax.plot(X_train.detach().cpu(), y_train.detach().cpu(), 'kP', ms = 9, label = 'y(x) = f(x) + $\\epsilon$')\n",
    "ax.plot(X_train.detach().cpu(), pred.detach().cpu(), color=\"red\", label=\"pred\")\n",
    "ax.legend(loc = 'upper left')\n",
    "ax.set_title('Target function with noisy observations ')\n",
    "\n",
    "plt.show()"
   ]
  },
  {
   "cell_type": "code",
   "execution_count": null,
   "metadata": {},
   "outputs": [],
   "source": []
  },
  {
   "cell_type": "code",
   "execution_count": 455,
   "metadata": {},
   "outputs": [
    {
     "data": {
      "text/plain": [
       "[(1, 10), (10, 1)]"
      ]
     },
     "execution_count": 455,
     "metadata": {},
     "output_type": "execute_result"
    }
   ],
   "source": [
    "# net = OnedRegressionForwardNet(1,1, device=device, depth=3)\n",
    "net.shapes"
   ]
  },
  {
   "cell_type": "code",
   "execution_count": 456,
   "metadata": {},
   "outputs": [
    {
     "data": {
      "image/png": "[encoded data removed]",
      "text/plain": [
       "<Figure size 432x288 with 1 Axes>"
      ]
     },
     "metadata": {
      "needs_background": "light"
     },
     "output_type": "display_data"
    }
   ],
   "source": [
    "\n",
    "fig, ax = plt.subplots(figsize=(6, 4), tight_layout=True)\n",
    "ax.plot(X_test.detach().cpu(), f, 'b', label = 'f(x)')\n",
    "ax.plot(X_train.detach().cpu(), y_train.detach().cpu(), 'kP', ms = 9, label = 'y(x) = f(x) + $\\epsilon$')\n",
    "# ax.plot(X_train.detach().cpu(), pred.detach().cpu(), color=\"red\", label=\"pred\")\n",
    "ax.legend(loc = 'upper left')\n",
    "ax.set_title('Target function with noisy observations ')\n",
    "\n",
    "for i in range(100):\n",
    "#     print(Θ_1[i,:3])\n",
    "    pred = net.forward(X_train, Θ_1[i,:,]).mean(axis=1)\n",
    "    ax.plot(X_train.detach().cpu(), pred.detach().cpu(), alpha=0.3, label=\"Posterior Samples\")\n",
    "# plt.plot(X_train.detach().cpu(), y_train.detach().cpu())\n",
    "\n"
   ]
  },
  {
   "cell_type": "code",
   "execution_count": 457,
   "metadata": {},
   "outputs": [
    {
     "data": {
      "image/png": "[encoded data removed]",
      "text/plain": [
       "<Figure size 432x288 with 1 Axes>"
      ]
     },
     "metadata": {
      "needs_background": "light"
     },
     "output_type": "display_data"
    }
   ],
   "source": [
    "for i in range(100):\n",
    "#     print(Θ_1[i,:3])\n",
    "    plt.plot(Θ_1[i,:].detach().cpu())"
   ]
  },
  {
   "cell_type": "markdown",
   "metadata": {},
   "source": [
    "# MAP Baseline - Answer is off"
   ]
  },
  {
   "cell_type": "code",
   "execution_count": 356,
   "metadata": {},
   "outputs": [
    {
     "data": {
      "application/vnd.jupyter.widget-view+json": {
       "model_id": "4e9047a76a1445dcb450f86aa2b6b0da",
       "version_major": 2,
       "version_minor": 0
      },
      "text/plain": [
       "  0%|          | 0/2000 [00:00<?, ?it/s]"
      ]
     },
     "metadata": {},
     "output_type": "display_data"
    }
   ],
   "source": [
    "net_map = OnedRegressionForwardNet(1,1, device=device, depth=1, width=10)\n",
    "\n",
    "Θ_map = torch.normal(0,1, (1,net_map.dim), requires_grad=True, device=device) # torch.zeros((1, dim), requires_grad=True, device=device)\n",
    "optimizer_map = torch.optim.Adam([Θ_map], lr=0.5)\n",
    "#     optimizer = torch.optim.LBFGS(gpr.parameters(), lr=0.01)\n",
    "\n",
    "losses_map = []\n",
    "num_steps = 2000\n",
    "for i in tqdm(range(num_steps)):\n",
    "    optimizer_map.zero_grad()\n",
    "\n",
    "    if isinstance(optimizer_map, torch.optim.LBFGS):\n",
    "        def closure_map():\n",
    "            loss_map = log_likelihood_vmap()\n",
    "            optimizer_map.zero_grad()\n",
    "            loss_map.backward()\n",
    "            return loss\n",
    "\n",
    "        optimizer_map.step(closure_map)\n",
    "        losses_map.append(closure_map().item())\n",
    "    else:\n",
    "        loss_map = -(log_likelihood_vmap(Θ_map, X_train, y_train, net=net_map) + 0 * ln_prior(Θ_map))\n",
    "        optimizer_map.zero_grad()\n",
    "        loss_map.backward()\n",
    "#         print(Θ_map.sum())\n",
    "\n",
    "        optimizer_map.step()\n",
    "#         print(loss_map.item())\n",
    "        losses_map.append(loss_map.item())"
   ]
  },
  {
   "cell_type": "code",
   "execution_count": 357,
   "metadata": {},
   "outputs": [
    {
     "name": "stderr",
     "output_type": "stream",
     "text": [
      "C:\\Users\\vargf\\AppData\\Local\\Temp/ipykernel_25680/2698751039.py:47: UserWarning: torch.vmap is an experimental prototype that is subject to change and/or deletion. Please use at your own risk. There may be unexpected performance cliffs due to certain operators not being implemented. To see detailed performance warnings please use `torch._C._debug_only_display_vmap_fallback_warnings(True) before the call to `vmap`.\n",
      "  batched_preds = torch._vmap_internals.vmap(preds_func)\n"
     ]
    }
   ],
   "source": [
    "pred = net_map.map_forward(X_train, Θ_map)"
   ]
  },
  {
   "cell_type": "code",
   "execution_count": 358,
   "metadata": {},
   "outputs": [
    {
     "data": {
      "text/plain": [
       "tensor([[ 0.0689, -1.3282, -1.8303, -0.0302,  0.7726,  0.6816, -0.0398, -0.2844,\n",
       "         -0.8827, -1.2118, -4.2557,  0.6610, -0.8504, -0.2750, -3.0124, -1.6717,\n",
       "         -1.9313, -1.2023, -3.1821, -4.1283,  0.6745, -0.8429,  0.6224,  0.9746,\n",
       "          0.9008, -0.2274,  0.5632,  0.6936, -0.2356, -0.0162,  1.0680]],\n",
       "       device='cuda:0', requires_grad=True)"
      ]
     },
     "execution_count": 358,
     "metadata": {},
     "output_type": "execute_result"
    }
   ],
   "source": [
    "Θ_map"
   ]
  },
  {
   "cell_type": "code",
   "execution_count": 359,
   "metadata": {},
   "outputs": [
    {
     "data": {
      "text/plain": [
       "[<matplotlib.lines.Line2D at 0x22bbc424a90>]"
      ]
     },
     "execution_count": 359,
     "metadata": {},
     "output_type": "execute_result"
    },
    {
     "data": {
      "image/png": "[encoded data removed]",
      "text/plain": [
       "<Figure size 432x288 with 1 Axes>"
      ]
     },
     "metadata": {
      "needs_background": "light"
     },
     "output_type": "display_data"
    }
   ],
   "source": [
    "plt.plot(losses_map[:])"
   ]
  },
  {
   "cell_type": "code",
   "execution_count": 360,
   "metadata": {},
   "outputs": [
    {
     "data": {
      "text/plain": [
       "Text(0.5, 1.0, 'Target function with noisy observations ')"
      ]
     },
     "execution_count": 360,
     "metadata": {},
     "output_type": "execute_result"
    },
    {
     "data": {
      "image/png": "[encoded data removed]",
      "text/plain": [
       "<Figure size 432x288 with 1 Axes>"
      ]
     },
     "metadata": {
      "needs_background": "light"
     },
     "output_type": "display_data"
    }
   ],
   "source": [
    "# plt.plot(X_train.detach().cpu(), pred.flatten().detach().cpu() )\n",
    "\n",
    "fig, ax = plt.subplots(figsize=(6, 4), tight_layout=True)\n",
    "ax.plot(X_test.detach().cpu(), f, 'b', label = 'f(x)')\n",
    "ax.plot(X_train.detach().cpu(), y_train.detach().cpu(), 'kP', ms = 9, label = 'y(x) = f(x) + $\\epsilon$')\n",
    "ax.plot(X_train.detach().cpu(), pred.detach().cpu(), color=\"red\", label=\"pred\")\n",
    "ax.legend(loc = 'upper left')\n",
    "ax.set_title('Target function with noisy observations ')"
   ]
  },
  {
   "cell_type": "code",
   "execution_count": 364,
   "metadata": {},
   "outputs": [
    {
     "data": {
      "image/png": "[encoded data removed]",
      "text/plain": [
       "<Figure size 432x288 with 1 Axes>"
      ]
     },
     "metadata": {
      "needs_background": "light"
     },
     "output_type": "display_data"
    }
   ],
   "source": [
    "plt.plot(Θ_1.mean(dim=0).detach().cpu())\n",
    "plt.plot(Θ_map.detach().cpu().flatten());"
   ]
  },
  {
   "cell_type": "code",
   "execution_count": 362,
   "metadata": {},
   "outputs": [
    {
     "data": {
      "text/plain": [
       "torch.Size([1, 31])"
      ]
     },
     "execution_count": 362,
     "metadata": {},
     "output_type": "execute_result"
    }
   ],
   "source": [
    "Θ_map.shape"
   ]
  },
  {
   "cell_type": "code",
   "execution_count": 354,
   "metadata": {},
   "outputs": [
    {
     "data": {
      "text/plain": [
       "torch.Size([100, 31])"
      ]
     },
     "execution_count": 354,
     "metadata": {},
     "output_type": "execute_result"
    }
   ],
   "source": [
    "Θ_1.shape"
   ]
  },
  {
   "cell_type": "code",
   "execution_count": 363,
   "metadata": {},
   "outputs": [
    {
     "data": {
      "text/plain": [
       "torch.Size([100])"
      ]
     },
     "execution_count": 363,
     "metadata": {},
     "output_type": "execute_result"
    }
   ],
   "source": [
    "Θ_1.mean(dim=1).shape"
   ]
  },
  {
   "cell_type": "code",
   "execution_count": null,
   "metadata": {},
   "outputs": [],
   "source": []
  }
 ],
 "metadata": {
  "kernelspec": {
   "display_name": "Python 3 (ipykernel)",
   "language": "python",
   "name": "python3"
  },
  "language_info": {
   "codemirror_mode": {
    "name": "ipython",
    "version": 3
   },
   "file_extension": ".py",
   "mimetype": "text/x-python",
   "name": "python",
   "nbconvert_exporter": "python",
   "pygments_lexer": "ipython3",
   "version": "3.8.5"
  },
  "toc": {
   "base_numbering": 1,
   "nav_menu": {},
   "number_sections": true,
   "sideBar": true,
   "skip_h1_title": false,
   "title_cell": "Table of Contents",
   "title_sidebar": "Contents",
   "toc_cell": false,
   "toc_position": {},
   "toc_section_display": true,
   "toc_window_display": false
  }
 },
 "nbformat": 4,
 "nbformat_minor": 4
}
