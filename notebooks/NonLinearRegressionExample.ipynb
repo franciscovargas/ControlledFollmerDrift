{
 "cells": [
  {
   "cell_type": "code",
   "execution_count": 1,
   "metadata": {},
   "outputs": [],
   "source": [
    "import torch\n",
    "import torch.nn.functional as F\n",
    "\n",
    "import torchsde\n",
    "import math\n",
    "import matplotlib.pyplot as plt\n",
    "\n",
    "import numpy as np\n",
    "\n",
    "from tqdm.notebook import tqdm\n",
    "\n",
    "from torch import _vmap_internals"
   ]
  },
  {
   "cell_type": "code",
   "execution_count": 2,
   "metadata": {},
   "outputs": [],
   "source": [
    "from cfollmer.objectives import log_g, relative_entropy_control_cost\n",
    "from cfollmer.sampler_utils import FollmerSDE, SimpleForwardNetBN"
   ]
  },
  {
   "cell_type": "markdown",
   "metadata": {},
   "source": [
    "# The Model\n",
    "\n",
    "\\begin{align}\n",
    "\\theta &\\sim \\mathcal{N}(\\theta | 0, \\sigma_w^2 \\mathbb{I}) \\\\\n",
    "y_i | x_i \\theta &\\sim  \\mathcal{N}(y | f(x_i;\\theta), \\sigma_w^2 \\mathbb{I})\n",
    "\\end{align}\n",
    "\n",
    "We want samples from $p(\\theta | \\{(y_i, x_i)\\})$."
   ]
  },
  {
   "cell_type": "markdown",
   "metadata": {},
   "source": [
    "## Loading the StepFunc dataset"
   ]
  },
  {
   "cell_type": "code",
   "execution_count": 3,
   "metadata": {},
   "outputs": [
    {
     "data": {
      "image/png": "[encoded data removed]",
      "text/plain": [
       "<Figure size 432x288 with 1 Axes>"
      ]
     },
     "metadata": {
      "needs_background": "light"
     },
     "output_type": "display_data"
    }
   ],
   "source": [
    "device = \"cuda\" if torch.cuda.is_available() else \"cpu\"\n",
    "\n",
    "\n",
    "# Test inputs\n",
    "num_test_samples = 100\n",
    "X_test = np.linspace(-4, 4, num_test_samples).reshape(num_test_samples,1)\n",
    "\n",
    "# Noise free training inputs\n",
    "X_train = np.linspace(-3.5, 3.5, 100).reshape(-1,1)\n",
    "#f_train = np.cos(X_train) \n",
    "f_train = np.heaviside(X_train, 0)\n",
    "\n",
    "# Noise-free training outputs\n",
    "#f = np.cos(X_test)\n",
    "f = np.heaviside(X_test, 0)\n",
    "y_test  = f\n",
    "\n",
    "# Noisy training Inputs with additive Gaussian noise (zero-mean, variance sigma_n)\n",
    "sigma_n = 0.1\n",
    "\n",
    "mu = np.zeros(X_train.size)\n",
    "epsilon = np.random.multivariate_normal(mu, sigma_n**2 * np.eye(X_train.size))\n",
    "\n",
    "# Noisy targets\n",
    "y_train = f_train + epsilon.reshape(X_train.size,1)\n",
    "\n",
    "# Noisy observations\n",
    "fig, ax = plt.subplots(figsize=(6, 4), tight_layout=True)\n",
    "ax.plot(X_test, f, 'b', label = 'f(x)')\n",
    "ax.plot(X_train, y_train, 'kP', ms = 9, label = 'y(x) = f(x) + $\\epsilon$')\n",
    "ax.legend(loc = 'upper left')\n",
    "ax.set_title('Target function with noisy observations ')\n",
    "\n",
    "plt.show()"
   ]
  },
  {
   "cell_type": "code",
   "execution_count": 4,
   "metadata": {},
   "outputs": [],
   "source": [
    "device = \"cuda\" if torch.cuda.is_available() else \"cpu\"\n",
    "\n",
    "\n",
    "\n",
    "X_train, X_test, y_train, y_test = \\\n",
    "    torch.tensor(X_train, dtype=torch.float32, device=device), \\\n",
    "    torch.tensor(X_test, dtype=torch.float32, device=device), \\\n",
    "    torch.tensor(y_train, dtype=torch.float32, device=device), \\\n",
    "    torch.tensor(y_test, dtype=torch.float32, device=device) "
   ]
  },
  {
   "cell_type": "markdown",
   "metadata": {},
   "source": [
    "$$\\DeclareMathOperator*{\\argmin}{arg\\,min}$$\n",
    "$$\\def\\E{{\\mathbb{E}}}$$\n",
    "$$\\def\\rvu{{\\mathbf{u}}}$$\n",
    "$$\\def\\rvTheta{{\\bm{\\Theta}}}$$\n",
    "$$\\def\\gU{{\\mathcal{U}}}$$\n",
    "$$\\def\\mX{{\\mathbf{X}}}$$"
   ]
  },
  {
   "cell_type": "markdown",
   "metadata": {},
   "source": [
    "## Controlled Schrodinger Follmer Sampler\n",
    "\n",
    "The objevtive we are trying to implement is:\n",
    "\n",
    "\\begin{align}\n",
    "  \\mathbf{u}_t^{*}=  \\argmin_{\\rvu_t \\in \\mathcal{U}}\\mathbb{E}\\left[\\frac{1}{2\\gamma}\\int_0^1||\\rvu(t, \\Theta_t)||^2 dt - \\ln\\left(\\frac{ p(\\mX | \\Theta_1)p(\\Theta_1)}{\\mathcal{N}(\\Theta_1|\\mathbf{0}, \\gamma \\mathbb{I} )}\\right)\\right] \\\n",
    "\\end{align}\n",
    "\n",
    "Where:\n",
    "\\begin{align}\n",
    "d\\Theta_t = \\rvu(t, \\Theta_t)dt + \\sqrt{\\gamma} dB_t\n",
    "\\end{align}\n"
   ]
  },
  {
   "cell_type": "code",
   "execution_count": 49,
   "metadata": {},
   "outputs": [],
   "source": [
    "import torch.nn.functional as F\n",
    "\n",
    "\n",
    "class OnedRegressionForwardNet(object):\n",
    "    \n",
    "    def __init__(\n",
    "        self, input_dim=1, output_dim=1, depth=None,\n",
    "        width=20, width_seq=None, device=\"cpu\", activation=F.relu\n",
    "    ):\n",
    "        \n",
    "        self.device = device\n",
    "        self.output_dim = output_dim\n",
    "        self.input_dim = input_dim \n",
    "        self.activation = activation\n",
    "        \n",
    "        self.depth = depth\n",
    "        if not self.depth:\n",
    "            self.depth = 1\n",
    "        if not width_seq:\n",
    "            self.width = width\n",
    "            self.width_seq = [self.width] * (self.depth + 1)\n",
    "            self.shapes = [(self.width_seq[i-1], self.width_seq[i])  for i in range(1,self.depth)]\n",
    "            self.shapes += [(self.width_seq[-1], self.output_dim)]\n",
    "            self.shapes = [(self.input_dim, self.width_seq[0])] + self.shapes\n",
    "        \n",
    "        self.dim = sum([wx * wy + wy for wx, wy in self.shapes])\n",
    "        \n",
    "    def forward(self, x, Θ):\n",
    "        index = 0\n",
    "        n, d = x.shape\n",
    "        \n",
    "#         dim_bl =  sum([wx * wy + wy for wx, wy in self.shapes[:-1]])\n",
    "#         Θ[:dim_bl] = (Θ[:dim_bl] - Θ[:dim_bl].mean()) / Θ[:dim_bl].std()\n",
    "#         σ_Θ, μ_Θ = Θ.std(), Θ.mean()\n",
    "#         Θ = (Θ - μ_Θ) / σ_Θ\n",
    "\n",
    "        for wx, wy in self.shapes[:-1]:\n",
    "            x = F.linear(\n",
    "                x,\n",
    "                Θ[index: index + wx * wy].reshape(wy, wx),\n",
    "                Θ[index + wx * wy: index + wx * wy + wy].reshape(1,wy)\n",
    "            )\n",
    "            x = self.activation(x)\n",
    "            index += wx * wy  + wy\n",
    "        wx, wy = self.shapes[-1]\n",
    "        x = F.linear(\n",
    "            x,\n",
    "            Θ[index: index + wx * wy].reshape(wy, wx), #* σ_Θ + μ_Θ,\n",
    "            Θ[index + wx * wy: index + wx * wy + wy].reshape(1,wy) # * σ_Θ + μ_Θ\n",
    "        )\n",
    "        return x.to(self.device)\n",
    "    \n",
    "    def map_forward(self, x, Θ):\n",
    "        preds_func = lambda θ: self.forward(x, θ)\n",
    "        batched_preds = torch._vmap_internals.vmap(preds_func)\n",
    "        preds = torch.hstack(list(map(preds_func, Θ)))\n",
    "        return preds\n",
    "        "
   ]
  },
  {
   "cell_type": "code",
   "execution_count": 50,
   "metadata": {},
   "outputs": [],
   "source": [
    "net = OnedRegressionForwardNet(\n",
    "    1,1, device=device, depth=2, width=12, activation=F.relu\n",
    ")\n",
    "\n",
    "def ln_prior(Θ, σ_w=1):\n",
    "    \"\"\"\n",
    "    Logistic regresion bayesian prior\n",
    "    \"\"\"\n",
    "    return -0.5 * (Θ**2).sum(axis=1) / σ_w**2 \n",
    "\n",
    "\n",
    "def log_likelihood_vmap(Θ, X, y, net=net, σ_y=0.1):\n",
    "    \"\"\"\n",
    "    Hoping this implementation is less buggy / faster\n",
    "    \n",
    "    still feels a bit slow.\n",
    "    \"\"\"\n",
    "    preds_func = lambda θ: net.forward(X, θ)\n",
    "#     batched_preds = torch._vmap_internals.vmap(preds_func)\n",
    "#     import pdb; pdb.set_trace()\n",
    "    preds = torch.hstack(list(map(preds_func, Θ)))\n",
    "\n",
    "    diff = preds - y\n",
    "#     import pdb; pdb.set_trace()\n",
    "    diff_sq_fld = -0.5 * (diff**2).sum(dim=0) / σ_y**2\n",
    "\n",
    "    return diff_sq_fld"
   ]
  },
  {
   "cell_type": "code",
   "execution_count": 51,
   "metadata": {},
   "outputs": [],
   "source": [
    "Δt=0.05\n",
    "t_size = int(math.ceil(1.0/Δt))\n",
    "dim = net.dim\n",
    "\n",
    "ts = torch.linspace(0, 1, t_size).to(device)\n",
    "no_posterior_samples = 200\n",
    "\n",
    "sde = FollmerSDE(dim, dim, no_posterior_samples, 1.0, device=device, drift=SimpleForwardNetBN).to(device)\n",
    "Θ_0 = torch.zeros((no_posterior_samples, net.dim)).to(device) # Θ_0 ~ δ_0\n",
    "\n",
    "# Initial state y0, the SDE is solved over the interval [ts[0], ts[-1]].\n",
    "# ys will have shape (t_size, batch_size, state_size)\n",
    "ys = torchsde.sdeint(sde, Θ_0, ts, dt=Δt)"
   ]
  },
  {
   "cell_type": "code",
   "execution_count": 52,
   "metadata": {},
   "outputs": [
    {
     "data": {
      "text/plain": [
       "[(1, 12), (12, 12), (12, 1)]"
      ]
     },
     "execution_count": 52,
     "metadata": {},
     "output_type": "execute_result"
    }
   ],
   "source": [
    "net.shapes"
   ]
  },
  {
   "cell_type": "code",
   "execution_count": 53,
   "metadata": {},
   "outputs": [
    {
     "name": "stderr",
     "output_type": "stream",
     "text": [
      "c:\\users\\vargf\\onedrive\\documents\\projects\\controlledfollmerdrift\\cfollmer\\objectives.py:56: UserWarning: torch.vmap is an experimental prototype that is subject to change and/or deletion. Please use at your own risk. There may be unexpected performance cliffs due to certain operators not being implemented. To see detailed performance warnings please use `torch._C._debug_only_display_vmap_fallback_warnings(True) before the call to `vmap`.\n",
      "  f = _vmap_internals.vmap(f_)\n"
     ]
    },
    {
     "data": {
      "text/plain": [
       "tensor(970793.7500, device='cuda:0', grad_fn=<MeanBackward0>)"
      ]
     },
     "execution_count": 53,
     "metadata": {},
     "output_type": "execute_result"
    }
   ],
   "source": [
    "relative_entropy_control_cost(sde, Θ_0, X_train, y_train, \n",
    "                              ln_prior, log_likelihood_vmap, γ=1.0, device=device, batchnorm=True)"
   ]
  },
  {
   "cell_type": "code",
   "execution_count": 91,
   "metadata": {},
   "outputs": [
    {
     "data": {
      "application/vnd.jupyter.widget-view+json": {
       "model_id": "e5b81ce900a44d55bf06fbf3bed7a2ba",
       "version_major": 2,
       "version_minor": 0
      },
      "text/plain": [
       "  0%|          | 0/400 [00:00<?, ?it/s]"
      ]
     },
     "metadata": {},
     "output_type": "display_data"
    },
    {
     "name": "stderr",
     "output_type": "stream",
     "text": [
      "c:\\users\\vargf\\onedrive\\documents\\projects\\controlledfollmerdrift\\cfollmer\\objectives.py:56: UserWarning: torch.vmap is an experimental prototype that is subject to change and/or deletion. Please use at your own risk. There may be unexpected performance cliffs due to certain operators not being implemented. To see detailed performance warnings please use `torch._C._debug_only_display_vmap_fallback_warnings(True) before the call to `vmap`.\n",
      "  f = _vmap_internals.vmap(f_)\n"
     ]
    }
   ],
   "source": [
    "γ = 0.2\n",
    "Δt = 0.01\n",
    "\n",
    "# γ = 1\n",
    "# Δt = 0.05 - \\sigma_w = 10-6\n",
    "\n",
    "t_size = int(math.ceil(1.0/Δt))\n",
    "ts = torch.linspace(0, 1, t_size).to(device)\n",
    "\n",
    "sde = FollmerSDE(dim, dim, no_posterior_samples  , γ=γ, device=device).to(device)\n",
    "optimizer = torch.optim.Adam(sde.μ.parameters(), lr=0.01, weight_decay =0.5)\n",
    "#     optimizer = torch.optim.LBFGS(gpr.parameters(), lr=0.01)\n",
    "losses = []\n",
    "num_steps = 400\n",
    "# with torch.autograd.set_detect_anomaly(True):\n",
    "for i in tqdm(range(num_steps)):\n",
    "    optimizer.zero_grad()\n",
    "\n",
    "    if isinstance(optimizer, torch.optim.LBFGS):\n",
    "        def closure():\n",
    "            loss = relative_entropy_control_cost(\n",
    "                sde, Θ_0.float(),\n",
    "                X_train.float(), y_train.float(),\n",
    "                ln_prior, log_likelihood_vmap, γ=γ,\n",
    "                batchnorm=True\n",
    "            )\n",
    "            optimizer.zero_grad()\n",
    "            loss.backward()\n",
    "            return loss\n",
    "\n",
    "        optimizer.step(closure)\n",
    "        losses.append(closure().item())\n",
    "    else:\n",
    "        loss = relative_entropy_control_cost(\n",
    "            sde, Θ_0,\n",
    "            X_train, y_train,\n",
    "            ln_prior, log_likelihood_vmap, γ=γ,\n",
    "            batchnorm=True\n",
    "        )\n",
    "        optimizer.zero_grad()\n",
    "        loss.backward()\n",
    "\n",
    "        optimizer.step()\n",
    "        losses.append(loss.item())"
   ]
  },
  {
   "cell_type": "code",
   "execution_count": 92,
   "metadata": {},
   "outputs": [],
   "source": [
    "torch.cuda.empty_cache()"
   ]
  },
  {
   "cell_type": "code",
   "execution_count": 93,
   "metadata": {
    "scrolled": true
   },
   "outputs": [
    {
     "data": {
      "text/plain": [
       "[2150.80712890625,\n",
       " 1879.0191650390625,\n",
       " 1588.0426025390625,\n",
       " 1478.5594482421875,\n",
       " 1275.435302734375,\n",
       " 1483.486572265625,\n",
       " 1189.633056640625,\n",
       " 1146.07421875,\n",
       " 1171.53759765625,\n",
       " 1135.4503173828125,\n",
       " 1154.2845458984375,\n",
       " 1210.113037109375,\n",
       " 1108.8602294921875,\n",
       " 1109.5400390625,\n",
       " 988.66357421875,\n",
       " 1035.9908447265625,\n",
       " 990.0005493164062,\n",
       " 1063.5999755859375,\n",
       " 950.9188842773438,\n",
       " 849.7047729492188,\n",
       " 952.8572998046875,\n",
       " 917.6072387695312,\n",
       " 871.720947265625,\n",
       " 993.6435546875,\n",
       " 943.6065673828125,\n",
       " 885.2656860351562,\n",
       " 916.5310668945312,\n",
       " 828.3072509765625,\n",
       " 909.6873168945312,\n",
       " 844.880126953125,\n",
       " 879.7969970703125,\n",
       " 830.5296630859375,\n",
       " 886.0368041992188,\n",
       " 865.2854614257812,\n",
       " 822.6641235351562,\n",
       " 858.5740356445312,\n",
       " 738.8385620117188,\n",
       " 783.8135986328125,\n",
       " 841.1163940429688,\n",
       " 649.9849243164062,\n",
       " 775.42919921875,\n",
       " 673.2457885742188,\n",
       " 662.6192626953125,\n",
       " 677.2696533203125,\n",
       " 665.2406616210938,\n",
       " 729.309814453125,\n",
       " 656.2446899414062,\n",
       " 701.0087280273438,\n",
       " 680.0791015625,\n",
       " 596.0327758789062,\n",
       " 650.591796875,\n",
       " 617.3112182617188,\n",
       " 590.450927734375,\n",
       " 559.3063354492188,\n",
       " 601.4404907226562,\n",
       " 559.8120727539062,\n",
       " 525.6058959960938,\n",
       " 506.8915100097656,\n",
       " 559.8040771484375,\n",
       " 556.664306640625,\n",
       " 544.2014770507812,\n",
       " 525.7430419921875,\n",
       " 524.4205932617188,\n",
       " 539.4102172851562,\n",
       " 533.937255859375,\n",
       " 487.1729431152344,\n",
       " 491.9951171875,\n",
       " 500.2666320800781,\n",
       " 540.5961303710938,\n",
       " 457.7813720703125,\n",
       " 487.7028503417969,\n",
       " 553.6209106445312,\n",
       " 531.4599609375,\n",
       " 499.1256408691406,\n",
       " 502.9923400878906,\n",
       " 489.61724853515625,\n",
       " 432.4708557128906,\n",
       " 409.2644958496094,\n",
       " 510.2535705566406,\n",
       " 492.4644470214844,\n",
       " 516.0982055664062,\n",
       " 400.6053771972656,\n",
       " 474.7557373046875,\n",
       " 499.1776428222656,\n",
       " 442.9467468261719,\n",
       " 449.8912658691406,\n",
       " 417.68646240234375,\n",
       " 495.2793273925781,\n",
       " 509.4009704589844,\n",
       " 483.0369873046875,\n",
       " 422.97967529296875,\n",
       " 482.13079833984375,\n",
       " 421.1519470214844,\n",
       " 455.3472595214844,\n",
       " 398.32745361328125,\n",
       " 508.6784973144531,\n",
       " 449.1605224609375,\n",
       " 393.8817138671875,\n",
       " 473.47125244140625,\n",
       " 400.41748046875,\n",
       " 437.6213073730469,\n",
       " 438.5038146972656,\n",
       " 395.4410400390625,\n",
       " 409.6404724121094,\n",
       " 414.9207458496094,\n",
       " 400.8922424316406,\n",
       " 345.1882629394531,\n",
       " 340.7663269042969,\n",
       " 345.2681884765625,\n",
       " 367.55889892578125,\n",
       " 327.2413635253906,\n",
       " 345.4795227050781,\n",
       " 380.57470703125,\n",
       " 354.76287841796875,\n",
       " 359.9300842285156,\n",
       " 303.0071716308594,\n",
       " 361.85260009765625,\n",
       " 311.8499450683594,\n",
       " 279.9881286621094,\n",
       " 296.4570007324219,\n",
       " 285.36285400390625,\n",
       " 270.8883972167969,\n",
       " 295.5265197753906,\n",
       " 254.1282196044922,\n",
       " 263.1031494140625,\n",
       " 273.9078369140625,\n",
       " 286.61761474609375,\n",
       " 239.49319458007812,\n",
       " 283.38153076171875,\n",
       " 252.06179809570312,\n",
       " 276.7933654785156,\n",
       " 289.1932678222656,\n",
       " 255.26527404785156,\n",
       " 266.5903015136719,\n",
       " 230.72425842285156,\n",
       " 301.2379150390625,\n",
       " 235.78363037109375,\n",
       " 322.06182861328125,\n",
       " 229.25320434570312,\n",
       " 265.00927734375,\n",
       " 224.14202880859375,\n",
       " 220.68157958984375,\n",
       " 245.1852264404297,\n",
       " 232.83737182617188,\n",
       " 229.63653564453125,\n",
       " 189.0789794921875,\n",
       " 227.68284606933594,\n",
       " 217.11380004882812,\n",
       " 199.62901306152344,\n",
       " 223.90049743652344,\n",
       " 195.3021697998047,\n",
       " 223.5290985107422,\n",
       " 218.40257263183594,\n",
       " 221.0359649658203,\n",
       " 207.68670654296875,\n",
       " 174.48927307128906,\n",
       " 204.87315368652344,\n",
       " 199.18551635742188,\n",
       " 178.52305603027344,\n",
       " 196.9363250732422,\n",
       " 182.78550720214844,\n",
       " 192.50489807128906,\n",
       " 200.4202423095703,\n",
       " 212.83824157714844,\n",
       " 196.9013671875,\n",
       " 216.4126739501953,\n",
       " 180.23501586914062,\n",
       " 188.3127899169922,\n",
       " 174.4730224609375,\n",
       " 194.80288696289062,\n",
       " 208.3217315673828,\n",
       " 174.91018676757812,\n",
       " 180.3251953125,\n",
       " 190.03765869140625,\n",
       " 168.3746795654297,\n",
       " 184.0584259033203,\n",
       " 166.1031951904297,\n",
       " 159.6722869873047,\n",
       " 194.9774627685547,\n",
       " 184.98556518554688,\n",
       " 178.3865203857422,\n",
       " 183.78880310058594,\n",
       " 184.30038452148438,\n",
       " 183.8856658935547,\n",
       " 186.95355224609375,\n",
       " 170.217529296875,\n",
       " 190.0448760986328,\n",
       " 175.45237731933594,\n",
       " 191.77566528320312,\n",
       " 176.69332885742188,\n",
       " 159.28016662597656,\n",
       " 159.88247680664062,\n",
       " 165.99664306640625,\n",
       " 177.86746215820312,\n",
       " 163.3451385498047,\n",
       " 159.36386108398438,\n",
       " 167.40997314453125,\n",
       " 170.02210998535156,\n",
       " 173.0018310546875,\n",
       " 164.79879760742188,\n",
       " 165.19461059570312,\n",
       " 170.50718688964844,\n",
       " 161.27976989746094,\n",
       " 166.19735717773438,\n",
       " 164.88845825195312,\n",
       " 164.041015625,\n",
       " 158.47865295410156,\n",
       " 176.91651916503906,\n",
       " 152.85658264160156,\n",
       " 164.71104431152344,\n",
       " 150.95849609375,\n",
       " 160.23597717285156,\n",
       " 163.2212677001953,\n",
       " 161.5624237060547,\n",
       " 164.46449279785156,\n",
       " 181.202880859375,\n",
       " 175.71609497070312,\n",
       " 165.2130889892578,\n",
       " 178.562744140625,\n",
       " 157.44091796875,\n",
       " 169.16073608398438,\n",
       " 161.6182403564453,\n",
       " 171.27371215820312,\n",
       " 163.2467498779297,\n",
       " 189.5980682373047,\n",
       " 167.72311401367188,\n",
       " 152.41294860839844,\n",
       " 160.8087921142578,\n",
       " 169.90452575683594,\n",
       " 170.53695678710938,\n",
       " 162.33218383789062,\n",
       " 169.9462127685547,\n",
       " 171.96102905273438,\n",
       " 165.03538513183594,\n",
       " 162.0713653564453,\n",
       " 167.85801696777344,\n",
       " 164.8170928955078,\n",
       " 153.39974975585938,\n",
       " 173.31124877929688,\n",
       " 159.39625549316406,\n",
       " 195.26861572265625,\n",
       " 162.25209045410156,\n",
       " 174.47195434570312,\n",
       " 155.03782653808594,\n",
       " 173.13497924804688,\n",
       " 169.74212646484375,\n",
       " 169.30862426757812,\n",
       " 145.1634521484375,\n",
       " 157.01524353027344,\n",
       " 168.2986297607422,\n",
       " 156.36419677734375,\n",
       " 170.60874938964844,\n",
       " 161.3985137939453,\n",
       " 169.08656311035156,\n",
       " 146.59234619140625,\n",
       " 174.7362060546875,\n",
       " 163.01451110839844,\n",
       " 166.0546417236328,\n",
       " 148.01959228515625,\n",
       " 150.55152893066406,\n",
       " 162.8215789794922,\n",
       " 156.62472534179688,\n",
       " 168.51800537109375,\n",
       " 160.743896484375,\n",
       " 162.17605590820312,\n",
       " 148.02708435058594,\n",
       " 155.99105834960938,\n",
       " 160.89024353027344,\n",
       " 160.3616180419922,\n",
       " 162.15464782714844,\n",
       " 157.42166137695312,\n",
       " 141.95294189453125,\n",
       " 148.629150390625,\n",
       " 151.9544219970703,\n",
       " 162.90542602539062,\n",
       " 151.91018676757812,\n",
       " 159.71690368652344,\n",
       " 167.3695831298828,\n",
       " 161.45849609375,\n",
       " 150.7921905517578,\n",
       " 150.3136749267578,\n",
       " 156.80508422851562,\n",
       " 151.29544067382812,\n",
       " 144.20826721191406,\n",
       " 155.90029907226562,\n",
       " 161.04946899414062,\n",
       " 175.20263671875,\n",
       " 151.8969268798828,\n",
       " 154.1473846435547,\n",
       " 153.1509246826172,\n",
       " 152.55764770507812,\n",
       " 152.5866241455078,\n",
       " 159.9478759765625,\n",
       " 153.78411865234375,\n",
       " 173.6331787109375,\n",
       " 147.50213623046875,\n",
       " 157.19656372070312,\n",
       " 159.05828857421875,\n",
       " 161.99343872070312,\n",
       " 164.59507751464844,\n",
       " 155.10340881347656,\n",
       " 146.09619140625,\n",
       " 177.75973510742188,\n",
       " 159.89195251464844,\n",
       " 164.6786346435547,\n",
       " 167.1807403564453,\n",
       " 157.43536376953125,\n",
       " 152.61669921875,\n",
       " 149.55712890625,\n",
       " 146.8378143310547,\n",
       " 165.93923950195312,\n",
       " 155.8539276123047,\n",
       " 165.00694274902344,\n",
       " 147.66360473632812,\n",
       " 165.35250854492188,\n",
       " 150.80422973632812,\n",
       " 154.6251983642578,\n",
       " 149.11058044433594,\n",
       " 144.15365600585938,\n",
       " 154.15921020507812,\n",
       " 146.90374755859375,\n",
       " 154.96983337402344,\n",
       " 172.29995727539062,\n",
       " 144.2530975341797,\n",
       " 156.04293823242188,\n",
       " 164.2100372314453,\n",
       " 153.4740753173828,\n",
       " 149.3090057373047,\n",
       " 149.3117218017578,\n",
       " 145.6596221923828,\n",
       " 135.17677307128906,\n",
       " 144.93222045898438,\n",
       " 158.39602661132812,\n",
       " 147.91590881347656,\n",
       " 145.53759765625,\n",
       " 132.69932556152344,\n",
       " 153.2196502685547,\n",
       " 143.95025634765625,\n",
       " 155.5299530029297,\n",
       " 134.18943786621094,\n",
       " 148.48167419433594,\n",
       " 155.67803955078125,\n",
       " 163.7525177001953,\n",
       " 147.53074645996094,\n",
       " 146.58750915527344,\n",
       " 142.80014038085938,\n",
       " 149.37953186035156,\n",
       " 137.10870361328125,\n",
       " 139.21934509277344,\n",
       " 152.63900756835938,\n",
       " 151.76513671875,\n",
       " 137.2843017578125,\n",
       " 133.66299438476562,\n",
       " 128.02687072753906,\n",
       " 128.42562866210938,\n",
       " 132.99574279785156,\n",
       " 141.14935302734375,\n",
       " 142.75743103027344,\n",
       " 135.66839599609375,\n",
       " 140.01853942871094,\n",
       " 134.81007385253906,\n",
       " 136.3415069580078,\n",
       " 127.84514617919922,\n",
       " 127.68714904785156,\n",
       " 130.59373474121094,\n",
       " 126.75186157226562,\n",
       " 134.67904663085938,\n",
       " 132.6341552734375,\n",
       " 130.85752868652344,\n",
       " 123.92709350585938,\n",
       " 142.53509521484375,\n",
       " 137.2451934814453,\n",
       " 156.12493896484375,\n",
       " 131.8900146484375,\n",
       " 129.00453186035156,\n",
       " 129.19314575195312,\n",
       " 145.24110412597656,\n",
       " 137.51365661621094,\n",
       " 134.56570434570312,\n",
       " 137.67022705078125,\n",
       " 128.6633758544922,\n",
       " 129.0756072998047,\n",
       " 123.74352264404297,\n",
       " 122.77584838867188,\n",
       " 140.03602600097656,\n",
       " 133.69088745117188,\n",
       " 128.7866973876953,\n",
       " 134.14248657226562,\n",
       " 123.47142028808594,\n",
       " 129.06813049316406,\n",
       " 127.73189544677734,\n",
       " 134.6982421875,\n",
       " 130.0653533935547,\n",
       " 140.22586059570312,\n",
       " 143.1298065185547,\n",
       " 130.89645385742188,\n",
       " 121.47891998291016,\n",
       " 128.23004150390625,\n",
       " 115.60101318359375,\n",
       " 121.2541275024414]"
      ]
     },
     "execution_count": 93,
     "metadata": {},
     "output_type": "execute_result"
    }
   ],
   "source": [
    "losses"
   ]
  },
  {
   "cell_type": "code",
   "execution_count": 94,
   "metadata": {},
   "outputs": [
    {
     "data": {
      "text/plain": [
       "[<matplotlib.lines.Line2D at 0x28e4cfc4ac0>]"
      ]
     },
     "execution_count": 94,
     "metadata": {},
     "output_type": "execute_result"
    },
    {
     "data": {
      "image/png": "[encoded data removed]",
      "text/plain": [
       "<Figure size 432x288 with 1 Axes>"
      ]
     },
     "metadata": {
      "needs_background": "light"
     },
     "output_type": "display_data"
    }
   ],
   "source": [
    "plt.plot(losses[:])"
   ]
  },
  {
   "cell_type": "code",
   "execution_count": 95,
   "metadata": {},
   "outputs": [],
   "source": [
    "torch.cuda.empty_cache()\n",
    "Θ_1 = torchsde.sdeint(sde, Θ_0, ts, dt=Δt)[-1,...]"
   ]
  },
  {
   "cell_type": "code",
   "execution_count": 96,
   "metadata": {},
   "outputs": [
    {
     "data": {
      "text/plain": [
       "(array([ 4., 11., 26., 47., 42., 36., 21., 10.,  2.,  1.]),\n",
       " array([-0.8795235 , -0.7577975 , -0.6360715 , -0.51434547, -0.39261946,\n",
       "        -0.27089345, -0.14916745, -0.02744143,  0.09428458,  0.2160106 ,\n",
       "         0.3377366 ], dtype=float32),\n",
       " <a list of 10 Patch objects>)"
      ]
     },
     "execution_count": 96,
     "metadata": {},
     "output_type": "execute_result"
    },
    {
     "data": {
      "image/png": "[encoded data removed]",
      "text/plain": [
       "<Figure size 432x288 with 3 Axes>"
      ]
     },
     "metadata": {
      "needs_background": "light"
     },
     "output_type": "display_data"
    }
   ],
   "source": [
    "torch.cuda.empty_cache()\n",
    "fig, (ax1,ax2,ax3) = plt.subplots(1,3)\n",
    "\n",
    "ax1.hist(Θ_1[:,0].cpu().detach().numpy())\n",
    "ax2.hist(Θ_1[:,1].cpu().detach().numpy())\n",
    "ax3.hist(Θ_1[:,-23].cpu().detach().numpy())"
   ]
  },
  {
   "cell_type": "code",
   "execution_count": 97,
   "metadata": {},
   "outputs": [
    {
     "name": "stderr",
     "output_type": "stream",
     "text": [
      "C:\\Users\\vargf\\AppData\\Local\\Temp/ipykernel_35912/3181046266.py:55: UserWarning: torch.vmap is an experimental prototype that is subject to change and/or deletion. Please use at your own risk. There may be unexpected performance cliffs due to certain operators not being implemented. To see detailed performance warnings please use `torch._C._debug_only_display_vmap_fallback_warnings(True) before the call to `vmap`.\n",
      "  batched_preds = torch._vmap_internals.vmap(preds_func)\n"
     ]
    }
   ],
   "source": [
    "# pred = net.map_forward(X_train, Θ_1.mean(dim=0).reshape(1,-1))#.mean(axis=1)\n",
    "end = 6.5\n",
    "X_train_2 = torch.linspace(-end, end, 100).reshape(-1,1).to(device)\n",
    "\n",
    "pred_ = net.map_forward(X_train_2, Θ_1)\n",
    "pred = pred_.mean(axis=1)\n",
    "\n",
    "σ  = pred_.std(axis=1)"
   ]
  },
  {
   "cell_type": "code",
   "execution_count": 98,
   "metadata": {},
   "outputs": [
    {
     "data": {
      "text/plain": [
       "(torch.Size([100]), torch.Size([100]))"
      ]
     },
     "execution_count": 98,
     "metadata": {},
     "output_type": "execute_result"
    }
   ],
   "source": [
    "σ.shape, pred.shape"
   ]
  },
  {
   "cell_type": "code",
   "execution_count": 99,
   "metadata": {},
   "outputs": [
    {
     "data": {
      "image/png": "[encoded data removed]",
      "text/plain": [
       "<Figure size 720x432 with 1 Axes>"
      ]
     },
     "metadata": {
      "needs_background": "light"
     },
     "output_type": "display_data"
    }
   ],
   "source": [
    "fig, ax = plt.subplots(figsize=(10, 6), tight_layout=True)\n",
    "ax.plot(X_test.detach().cpu(), f, 'b', label = 'f(x)')\n",
    "ax.plot(X_train.detach().cpu(), y_train.detach().cpu(), 'kP', ms = 9, label = 'y(x) = f(x) + $\\epsilon$')\n",
    "ax.plot(X_train_2.detach().cpu(), pred.detach().cpu(), color=\"red\", label=\"pred\")\n",
    "\n",
    "σ_p , σ_m = (pred-2*σ).detach().cpu().numpy(), (pred+2*σ).detach().cpu().numpy()\n",
    "ax.fill_between(X_train_2.detach().cpu().flatten(), σ_p.flatten() , σ_m.flatten(), alpha=.2)\n",
    "ax.legend(loc = 'upper left')\n",
    "ax.set_title('Target function with noisy observations ')\n",
    "\n",
    "plt.show()"
   ]
  },
  {
   "cell_type": "code",
   "execution_count": 100,
   "metadata": {},
   "outputs": [
    {
     "data": {
      "text/plain": [
       "Text(0.5, 1.0, 'Sampled Posterior Weights')"
      ]
     },
     "execution_count": 100,
     "metadata": {},
     "output_type": "execute_result"
    },
    {
     "data": {
      "image/png": "[encoded data removed]",
      "text/plain": [
       "<Figure size 1080x360 with 2 Axes>"
      ]
     },
     "metadata": {
      "needs_background": "light"
     },
     "output_type": "display_data"
    }
   ],
   "source": [
    "\n",
    "fig, (ax, ax1) = plt.subplots(1,2, figsize=(15, 5), tight_layout=True)\n",
    "# ax.plot(X_test.detach().cpu(), f, 'b', label = 'f(x)')\n",
    "ax.plot(X_train.detach().cpu(), y_train.detach().cpu(), 'kP', ms = 9, label = 'y(x) = f(x) + $\\epsilon$')\n",
    "# ax.plot(X_train.detach().cpu(), pred.detach().cpu(), color=\"red\", label=\"pred\")\n",
    "\n",
    "\n",
    "zero_ind = torch.abs(X_train).argmin()\n",
    "\n",
    "thresh = 10\n",
    "label_2, label_1 = True, True\n",
    "\n",
    "end=7.6\n",
    "X_train_2 = torch.linspace(-end, end, 100).reshape(-1,1).to(device)\n",
    "\n",
    "for i in range(50):\n",
    "#     print(Θ_1[i,:3])\n",
    "    θ = Θ_1[i,:,]\n",
    "    pred = net.forward(X_train_2, θ).mean(axis=1)\n",
    "    pred_min, pred_max = pred[zero_ind-thresh], pred[zero_ind+thresh]\n",
    "    label = True if i==0 else False\n",
    "    if torch.abs(pred_min - pred_max) < 0.25:\n",
    "        ax.plot(\n",
    "            X_train_2.detach().cpu(), pred.detach().cpu(),\n",
    "            alpha=0.3, color=\"red\", label=\"Posterior function Samples Flat\" if label_1 else None\n",
    "        )\n",
    "        ax1.plot(θ.detach().cpu(),  alpha=0.5, color=\"red\", label=\"Posterior weights Samples Flat\"  if label_1 else None)\n",
    "        label_1 = False\n",
    "    else:\n",
    "        ax.plot(\n",
    "            X_train_2.detach().cpu(), pred.detach().cpu(),\n",
    "            alpha=0.3, color=\"green\", label=\"Posterior fuctions Samples Good\" if label_2 else None\n",
    "        )\n",
    "        ax1.plot(θ.detach().cpu(),  alpha=0.5, color=\"green\", label=\"Posterior weights Samples Good\" if label_2 else None )\n",
    "        label_2 = False \n",
    "        \n",
    "        \n",
    "ax.legend(loc = 'upper left')\n",
    "ax.set_title('Target function with noisy observations ')\n",
    "\n",
    "ax1.legend(loc = 'upper left')\n",
    "ax1.set_title('Sampled Posterior Weights')\n",
    "# plt.plot(X_train.detach().cpu(), y_train.detach().cpu())\n",
    "\n"
   ]
  },
  {
   "cell_type": "markdown",
   "metadata": {},
   "source": [
    "# MAP Baseline - Answer is ok now, wildly overfits compared to bayesnet"
   ]
  },
  {
   "cell_type": "code",
   "execution_count": 54,
   "metadata": {},
   "outputs": [
    {
     "data": {
      "application/vnd.jupyter.widget-view+json": {
       "model_id": "366bdd9f03604c3e9d04d7eedd24883a",
       "version_major": 2,
       "version_minor": 0
      },
      "text/plain": [
       "  0%|          | 0/2000 [00:00<?, ?it/s]"
      ]
     },
     "metadata": {},
     "output_type": "display_data"
    }
   ],
   "source": [
    "net_map = OnedRegressionForwardNet(1,1, device=device, depth=1, width=10)\n",
    "\n",
    "Θ_map = torch.normal(0,1, (1,net_map.dim), requires_grad=True, device=device) # torch.zeros((1, dim), requires_grad=True, device=device)\n",
    "optimizer_map = torch.optim.Adam([Θ_map], lr=0.5)\n",
    "#     optimizer = torch.optim.LBFGS(gpr.parameters(), lr=0.01)\n",
    "\n",
    "losses_map = []\n",
    "num_steps = 2000\n",
    "for i in tqdm(range(num_steps)):\n",
    "    optimizer_map.zero_grad()\n",
    "\n",
    "    if isinstance(optimizer_map, torch.optim.LBFGS):\n",
    "        def closure_map():\n",
    "            loss_map = log_likelihood_vmap()\n",
    "            optimizer_map.zero_grad()\n",
    "            loss_map.backward()\n",
    "            return loss\n",
    "\n",
    "        optimizer_map.step(closure_map)\n",
    "        losses_map.append(closure_map().item())\n",
    "    else:\n",
    "        loss_map = -(log_likelihood_vmap(Θ_map, X_train, y_train, net=net_map) + 0 * ln_prior(Θ_map))\n",
    "        optimizer_map.zero_grad()\n",
    "        loss_map.backward()\n",
    "#         print(Θ_map.sum())\n",
    "\n",
    "        optimizer_map.step()\n",
    "#         print(loss_map.item())\n",
    "        losses_map.append(loss_map.item())"
   ]
  },
  {
   "cell_type": "code",
   "execution_count": 357,
   "metadata": {},
   "outputs": [
    {
     "name": "stderr",
     "output_type": "stream",
     "text": [
      "C:\\Users\\vargf\\AppData\\Local\\Temp/ipykernel_25680/2698751039.py:47: UserWarning: torch.vmap is an experimental prototype that is subject to change and/or deletion. Please use at your own risk. There may be unexpected performance cliffs due to certain operators not being implemented. To see detailed performance warnings please use `torch._C._debug_only_display_vmap_fallback_warnings(True) before the call to `vmap`.\n",
      "  batched_preds = torch._vmap_internals.vmap(preds_func)\n"
     ]
    }
   ],
   "source": [
    "pred = net_map.map_forward(X_train, Θ_map)"
   ]
  },
  {
   "cell_type": "code",
   "execution_count": 358,
   "metadata": {},
   "outputs": [
    {
     "data": {
      "text/plain": [
       "tensor([[ 0.0689, -1.3282, -1.8303, -0.0302,  0.7726,  0.6816, -0.0398, -0.2844,\n",
       "         -0.8827, -1.2118, -4.2557,  0.6610, -0.8504, -0.2750, -3.0124, -1.6717,\n",
       "         -1.9313, -1.2023, -3.1821, -4.1283,  0.6745, -0.8429,  0.6224,  0.9746,\n",
       "          0.9008, -0.2274,  0.5632,  0.6936, -0.2356, -0.0162,  1.0680]],\n",
       "       device='cuda:0', requires_grad=True)"
      ]
     },
     "execution_count": 358,
     "metadata": {},
     "output_type": "execute_result"
    }
   ],
   "source": [
    "Θ_map"
   ]
  },
  {
   "cell_type": "code",
   "execution_count": 359,
   "metadata": {},
   "outputs": [
    {
     "data": {
      "text/plain": [
       "[<matplotlib.lines.Line2D at 0x22bbc424a90>]"
      ]
     },
     "execution_count": 359,
     "metadata": {},
     "output_type": "execute_result"
    },
    {
     "data": {
      "image/png": "[encoded data removed]",
      "text/plain": [
       "<Figure size 432x288 with 1 Axes>"
      ]
     },
     "metadata": {
      "needs_background": "light"
     },
     "output_type": "display_data"
    }
   ],
   "source": [
    "plt.plot(losses_map[:])"
   ]
  },
  {
   "cell_type": "code",
   "execution_count": 360,
   "metadata": {},
   "outputs": [
    {
     "data": {
      "text/plain": [
       "Text(0.5, 1.0, 'Target function with noisy observations ')"
      ]
     },
     "execution_count": 360,
     "metadata": {},
     "output_type": "execute_result"
    },
    {
     "data": {
      "image/png": "[encoded data removed]",
      "text/plain": [
       "<Figure size 432x288 with 1 Axes>"
      ]
     },
     "metadata": {
      "needs_background": "light"
     },
     "output_type": "display_data"
    }
   ],
   "source": [
    "# plt.plot(X_train.detach().cpu(), pred.flatten().detach().cpu() )\n",
    "\n",
    "fig, ax = plt.subplots(figsize=(6, 4), tight_layout=True)\n",
    "ax.plot(X_test.detach().cpu(), f, 'b', label = 'f(x)')\n",
    "ax.plot(X_train.detach().cpu(), y_train.detach().cpu(), 'kP', ms = 9, label = 'y(x) = f(x) + $\\epsilon$')\n",
    "ax.plot(X_train.detach().cpu(), pred.detach().cpu(), color=\"red\", label=\"pred\")\n",
    "ax.legend(loc = 'upper left')\n",
    "ax.set_title('Target function with noisy observations ')"
   ]
  },
  {
   "cell_type": "code",
   "execution_count": 364,
   "metadata": {},
   "outputs": [
    {
     "data": {
      "image/png": "[encoded data removed]",
      "text/plain": [
       "<Figure size 432x288 with 1 Axes>"
      ]
     },
     "metadata": {
      "needs_background": "light"
     },
     "output_type": "display_data"
    }
   ],
   "source": [
    "plt.plot(Θ_1.mean(dim=0).detach().cpu())\n",
    "plt.plot(Θ_map.detach().cpu().flatten());"
   ]
  },
  {
   "cell_type": "code",
   "execution_count": 362,
   "metadata": {},
   "outputs": [
    {
     "data": {
      "text/plain": [
       "torch.Size([1, 31])"
      ]
     },
     "execution_count": 362,
     "metadata": {},
     "output_type": "execute_result"
    }
   ],
   "source": [
    "Θ_map.shape"
   ]
  },
  {
   "cell_type": "code",
   "execution_count": 354,
   "metadata": {},
   "outputs": [
    {
     "data": {
      "text/plain": [
       "torch.Size([100, 31])"
      ]
     },
     "execution_count": 354,
     "metadata": {},
     "output_type": "execute_result"
    }
   ],
   "source": [
    "Θ_1.shape"
   ]
  },
  {
   "cell_type": "code",
   "execution_count": 363,
   "metadata": {},
   "outputs": [
    {
     "data": {
      "text/plain": [
       "torch.Size([100])"
      ]
     },
     "execution_count": 363,
     "metadata": {},
     "output_type": "execute_result"
    }
   ],
   "source": [
    "Θ_1.mean(dim=1).shape"
   ]
  },
  {
   "cell_type": "code",
   "execution_count": null,
   "metadata": {},
   "outputs": [],
   "source": []
  }
 ],
 "metadata": {
  "kernelspec": {
   "display_name": "Python 3 (ipykernel)",
   "language": "python",
   "name": "python3"
  },
  "language_info": {
   "codemirror_mode": {
    "name": "ipython",
    "version": 3
   },
   "file_extension": ".py",
   "mimetype": "text/x-python",
   "name": "python",
   "nbconvert_exporter": "python",
   "pygments_lexer": "ipython3",
   "version": "3.8.5"
  },
  "toc": {
   "base_numbering": 1,
   "nav_menu": {},
   "number_sections": true,
   "sideBar": true,
   "skip_h1_title": false,
   "title_cell": "Table of Contents",
   "title_sidebar": "Contents",
   "toc_cell": false,
   "toc_position": {},
   "toc_section_display": true,
   "toc_window_display": false
  }
 },
 "nbformat": 4,
 "nbformat_minor": 4
}
