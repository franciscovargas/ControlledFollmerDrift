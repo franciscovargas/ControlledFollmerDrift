{
 "cells": [
  {
   "cell_type": "code",
   "execution_count": 1,
   "metadata": {},
   "outputs": [],
   "source": [
    "import torch\n",
    "import torch.nn.functional as F\n",
    "\n",
    "import torchsde\n",
    "import math\n",
    "import matplotlib.pyplot as plt\n",
    "\n",
    "import numpy as np\n",
    "\n",
    "from tqdm.notebook import tqdm\n",
    "\n",
    "from torch import _vmap_internals"
   ]
  },
  {
   "cell_type": "code",
   "execution_count": 2,
   "metadata": {},
   "outputs": [],
   "source": [
    "from cfollmer.objectives import log_g, relative_entropy_control_cost\n",
    "from cfollmer.sampler_utils import FollmerSDE"
   ]
  },
  {
   "cell_type": "markdown",
   "metadata": {},
   "source": [
    "## Loading the StepFunc dataset"
   ]
  },
  {
   "cell_type": "code",
   "execution_count": 3,
   "metadata": {},
   "outputs": [
    {
     "data": {
      "image/png": "[encoded data removed]",
      "text/plain": [
       "<Figure size 432x288 with 1 Axes>"
      ]
     },
     "metadata": {
      "needs_background": "light"
     },
     "output_type": "display_data"
    }
   ],
   "source": [
    "device = \"cuda\" if torch.cuda.is_available() else \"cpu\"\n",
    "\n",
    "\n",
    "# Test inputs\n",
    "num_test_samples = 100\n",
    "X_test = np.linspace(-4, 4, num_test_samples).reshape(num_test_samples,1)\n",
    "\n",
    "# Noise free training inputs\n",
    "X_train = np.array([-3.5, -3.4, -3,-2.2, -2, -0.9,-0.4, -0.01,0,0.1, 0.3,0.7, 1, 1.6 , 2.4, 3.0]).reshape(-1,1)\n",
    "#f_train = np.cos(X_train) \n",
    "f_train = np.heaviside(X_train, 0)\n",
    "\n",
    "# Noise-free training outputs\n",
    "#f = np.cos(X_test)\n",
    "f = np.heaviside(X_test, 0)\n",
    "y_test  = f\n",
    "\n",
    "# Noisy training Inputs with additive Gaussian noise (zero-mean, variance sigma_n)\n",
    "sigma_n = 0.1\n",
    "\n",
    "mu = np.zeros(X_train.size)\n",
    "epsilon = np.random.multivariate_normal(mu, sigma_n**2 * np.eye(X_train.size))\n",
    "\n",
    "# Noisy targets\n",
    "y_train = f_train + epsilon.reshape(X_train.size,1)\n",
    "\n",
    "# Noisy observations\n",
    "fig, ax = plt.subplots(figsize=(6, 4), tight_layout=True)\n",
    "ax.plot(X_test, f, 'b', label = 'f(x)')\n",
    "ax.plot(X_train, y_train, 'kP', ms = 9, label = 'y(x) = f(x) + $\\epsilon$')\n",
    "ax.legend(loc = 'upper left')\n",
    "ax.set_title('Target function with noisy observations ')\n",
    "\n",
    "plt.show()"
   ]
  },
  {
   "cell_type": "code",
   "execution_count": 4,
   "metadata": {},
   "outputs": [],
   "source": [
    "device = \"cuda\" if torch.cuda.is_available() else \"cpu\"\n",
    "\n",
    "\n",
    "\n",
    "X_train, X_test, y_train, y_test = \\\n",
    "    torch.tensor(X_train, dtype=torch.float32, device=device), \\\n",
    "    torch.tensor(X_test, dtype=torch.float32, device=device), \\\n",
    "    torch.tensor(y_train, dtype=torch.float32, device=device), \\\n",
    "    torch.tensor(y_test, dtype=torch.float32, device=device) "
   ]
  },
  {
   "cell_type": "markdown",
   "metadata": {},
   "source": [
    "$$\\DeclareMathOperator*{\\argmin}{arg\\,min}$$\n",
    "$$\\def\\E{{\\mathbb{E}}}$$\n",
    "$$\\def\\rvu{{\\mathbf{u}}}$$\n",
    "$$\\def\\rvTheta{{\\bm{\\Theta}}}$$\n",
    "$$\\def\\gU{{\\mathcal{U}}}$$\n",
    "$$\\def\\mX{{\\mathbf{X}}}$$"
   ]
  },
  {
   "cell_type": "markdown",
   "metadata": {},
   "source": [
    "## Controlled Schrodinger Follmer Sampler\n",
    "\n",
    "The objevtive we are trying to implement is:\n",
    "\n",
    "\\begin{align}\n",
    "  \\mathbf{u}_t^{*}=  \\argmin_{\\rvu_t \\in \\mathcal{U}}\\mathbb{E}\\left[\\frac{1}{2\\gamma}\\int_0^1||\\rvu(t, \\Theta_t)||^2 dt - \\ln\\left(\\frac{ p(\\mX | \\Theta_1)p(\\Theta_1)}{\\mathcal{N}(\\Theta_1|\\mathbf{0}, \\gamma \\mathbb{I} )}\\right)\\right] \\\n",
    "\\end{align}\n",
    "\n",
    "Where:\n",
    "\\begin{align}\n",
    "d\\Theta_t = \\rvu(t, \\Theta_t)dt + \\sqrt{\\gamma} dB_t\n",
    "\\end{align}\n"
   ]
  },
  {
   "cell_type": "code",
   "execution_count": 38,
   "metadata": {},
   "outputs": [],
   "source": [
    "import torch.nn.functional as F\n",
    "\n",
    "\n",
    "class OnedRegressionForwardNet(object):\n",
    "    \n",
    "    def __init__(self, input_dim=1, output_dim=1, width_seq=None, depth=None, device=\"cpu\"):\n",
    "        \n",
    "        self.device = device\n",
    "        self.output_dim = output_dim\n",
    "        self.input_dim = input_dim\n",
    "        \n",
    "        self.depth = depth\n",
    "        if not self.depth:\n",
    "            self.depth = 1\n",
    "        if not width_seq:\n",
    "            self.width = 20\n",
    "            self.width_seq = [self.width] * (self.depth + 1)\n",
    "            self.shapes = [(self.width_seq[i-1], self.width_seq[i])  for i in range(1,self.depth)]\n",
    "            self.shapes += [(self.width_seq[-1], self.output_dim)]\n",
    "            self.shapes = [(self.output_dim, self.width_seq[0])] + self.shapes\n",
    "        \n",
    "        self.dim = sum([wx * wy for wx, wy in self.shapes])\n",
    "        \n",
    "    def forward(self, x, Θ):\n",
    "        index = 0\n",
    "        for wx, wy in self.shapes[:-1]:\n",
    "            x = F.linear(x, Θ[index: index + wx * wy].reshape(wy, wx))\n",
    "            x = F.relu(x)\n",
    "            index += wx * wy\n",
    "        wx, wy = self.shapes[-1]\n",
    "        x = F.linear(x, Θ[index: index + wx * wy].reshape(wy, wx))\n",
    "        return x.to(self.device)\n",
    "    \n",
    "    def map_forward(self, x, Θ):\n",
    "        preds_func = lambda θ: self.forward(x, θ)\n",
    "        batched_preds = torch._vmap_internals.vmap(preds_func)\n",
    "        preds = torch.hstack(list(map(preds_func, Θ)))\n",
    "        return preds\n",
    "        "
   ]
  },
  {
   "cell_type": "code",
   "execution_count": 53,
   "metadata": {},
   "outputs": [],
   "source": [
    "net = OnedRegressionForwardNet(1,1, device=device, depth=1)\n",
    "\n",
    "def ln_prior(Θ, σ_w=1.0):\n",
    "    \"\"\"\n",
    "    Logistic regresion bayesian prior\n",
    "    \"\"\"\n",
    "    return -0.5 * (Θ**2).sum(axis=1) / σ_w**2\n",
    "\n",
    "\n",
    "def log_likelihood_vmap(Θ, X, y):\n",
    "    \"\"\"\n",
    "    Hoping this implementation is less buggy / faster\n",
    "    \n",
    "    still feels a bit slow.\n",
    "    \"\"\"\n",
    "    preds_func = lambda θ: net.forward(X, θ)\n",
    "#     batched_preds = torch._vmap_internals.vmap(preds_func)\n",
    "#     import pdb; pdb.set_trace()\n",
    "    preds = torch.hstack(list(map(preds_func, Θ)))\n",
    "\n",
    "    diff = preds - y\n",
    "#     import pdb; pdb.set_trace()\n",
    "    diff_sq_fld = -0.5 * (diff**2).sum(dim=0)\n",
    "\n",
    "    return diff_sq_fld"
   ]
  },
  {
   "cell_type": "code",
   "execution_count": 54,
   "metadata": {},
   "outputs": [],
   "source": [
    "Δt=0.05\n",
    "t_size = int(math.ceil(1.0/Δt))\n",
    "dim = net.dim\n",
    "\n",
    "ts = torch.linspace(0, 1, t_size).to(device)\n",
    "no_posterior_samples = 50\n",
    "\n",
    "sde = FollmerSDE(dim, dim, no_posterior_samples, 1.0, device=device).to(device)\n",
    "Θ_0 = torch.zeros((no_posterior_samples, net.dim)).to(device) # Θ_0 ~ δ_0\n",
    "\n",
    "# Initial state y0, the SDE is solved over the interval [ts[0], ts[-1]].\n",
    "# ys will have shape (t_size, batch_size, state_size)\n",
    "ys = torchsde.sdeint(sde, Θ_0, ts, dt=Δt)"
   ]
  },
  {
   "cell_type": "code",
   "execution_count": 42,
   "metadata": {},
   "outputs": [
    {
     "data": {
      "text/plain": [
       "tensor(22367.8652, device='cuda:0', grad_fn=<MeanBackward0>)"
      ]
     },
     "execution_count": 42,
     "metadata": {},
     "output_type": "execute_result"
    }
   ],
   "source": [
    "relative_entropy_control_cost(sde, Θ_0, X_train, y_train, \n",
    "                              ln_prior, log_likelihood_vmap, γ=1.0, device=device)\n"
   ]
  },
  {
   "cell_type": "code",
   "execution_count": 43,
   "metadata": {},
   "outputs": [
    {
     "name": "stdout",
     "output_type": "stream",
     "text": [
      "20\n"
     ]
    },
    {
     "data": {
      "application/vnd.jupyter.widget-view+json": {
       "model_id": "3bda6e67dfea43e1a8b317bea47a3083",
       "version_major": 2,
       "version_minor": 0
      },
      "text/plain": [
       "  0%|          | 0/300 [00:00<?, ?it/s]"
      ]
     },
     "metadata": {},
     "output_type": "display_data"
    }
   ],
   "source": [
    "γ = 1.0\n",
    "Δt = 0.05\n",
    "t_size = int(math.ceil(1.0/Δt))\n",
    "ts = torch.linspace(0, 1, t_size).to(device)\n",
    "\n",
    "sde = FollmerSDE(dim, dim, no_posterior_samples  , γ=γ, device=device).to(device)\n",
    "optimizer = torch.optim.Adam(sde.μ.parameters(), lr=0.01, weight_decay =1)\n",
    "#     optimizer = torch.optim.LBFGS(gpr.parameters(), lr=0.01)\n",
    "losses = []\n",
    "num_steps = 300\n",
    "# with torch.autograd.set_detect_anomaly(True):\n",
    "for i in tqdm(range(num_steps)):\n",
    "    optimizer.zero_grad()\n",
    "\n",
    "    if isinstance(optimizer, torch.optim.LBFGS):\n",
    "        def closure():\n",
    "            loss = relative_entropy_control_cost(\n",
    "                sde, Θ_0.float(),\n",
    "                X_train.float(), y_train.float(),\n",
    "                ln_prior, log_likelihood_vmap, γ=γ\n",
    "            )\n",
    "            optimizer.zero_grad()\n",
    "            loss.backward()\n",
    "            return loss\n",
    "\n",
    "        optimizer.step(closure)\n",
    "        losses.append(closure().item())\n",
    "    else:\n",
    "        loss = relative_entropy_control_cost(\n",
    "            sde, Θ_0,\n",
    "            X_train, y_train,\n",
    "            ln_prior, log_likelihood_vmap, γ=γ\n",
    "        )\n",
    "        optimizer.zero_grad()\n",
    "        loss.backward()\n",
    "\n",
    "        optimizer.step()\n",
    "        losses.append(loss.item())"
   ]
  },
  {
   "cell_type": "code",
   "execution_count": 44,
   "metadata": {
    "scrolled": true
   },
   "outputs": [
    {
     "data": {
      "text/plain": [
       "[24739.6015625,\n",
       " 27027.615234375,\n",
       " 33593.35546875,\n",
       " 16364.9296875,\n",
       " 14405.125,\n",
       " 16364.4833984375,\n",
       " 7176.65869140625,\n",
       " 4921.8203125,\n",
       " 5507.8955078125,\n",
       " 2113.597900390625,\n",
       " 1218.291015625,\n",
       " 1304.770751953125,\n",
       " 1290.3924560546875,\n",
       " 1184.1441650390625,\n",
       " 977.6157836914062,\n",
       " 1815.80908203125,\n",
       " 800.7025756835938,\n",
       " 937.7572631835938,\n",
       " 1450.2176513671875,\n",
       " 1213.7899169921875,\n",
       " 1414.579833984375,\n",
       " 759.930908203125,\n",
       " 920.4129638671875,\n",
       " 1197.72607421875,\n",
       " 546.8817138671875,\n",
       " 646.095947265625,\n",
       " 575.649169921875,\n",
       " 1522.361572265625,\n",
       " 700.1598510742188,\n",
       " 1679.2076416015625,\n",
       " 692.2055053710938,\n",
       " 575.9024658203125,\n",
       " 2687.378173828125,\n",
       " 614.2047729492188,\n",
       " 737.844970703125,\n",
       " 762.2476196289062,\n",
       " 755.64794921875,\n",
       " 613.1157836914062,\n",
       " 627.1725463867188,\n",
       " 489.7043762207031,\n",
       " 711.8761596679688,\n",
       " 651.157470703125,\n",
       " 654.3921508789062,\n",
       " 370.74560546875,\n",
       " 429.35888671875,\n",
       " 735.7849731445312,\n",
       " 408.4146728515625,\n",
       " 464.8758850097656,\n",
       " 642.6671142578125,\n",
       " 504.7452087402344,\n",
       " 513.9291381835938,\n",
       " 588.3475952148438,\n",
       " 494.7828369140625,\n",
       " 542.6512451171875,\n",
       " 439.21875,\n",
       " 485.76715087890625,\n",
       " 443.1410827636719,\n",
       " 526.2889404296875,\n",
       " 366.5431213378906,\n",
       " 356.2626037597656,\n",
       " 499.9884948730469,\n",
       " 495.7306823730469,\n",
       " 692.6529541015625,\n",
       " 591.7830200195312,\n",
       " 625.9036865234375,\n",
       " 415.42584228515625,\n",
       " 511.4067077636719,\n",
       " 722.4894409179688,\n",
       " 453.5035095214844,\n",
       " 502.5301818847656,\n",
       " 487.2702331542969,\n",
       " 456.5250549316406,\n",
       " 518.0585327148438,\n",
       " 429.64093017578125,\n",
       " 338.4909362792969,\n",
       " 735.4842529296875,\n",
       " 551.7841186523438,\n",
       " 340.76068115234375,\n",
       " 385.47869873046875,\n",
       " 362.511474609375,\n",
       " 396.8029479980469,\n",
       " 443.51788330078125,\n",
       " 631.622802734375,\n",
       " 339.02703857421875,\n",
       " 399.38531494140625,\n",
       " 410.3756103515625,\n",
       " 379.38177490234375,\n",
       " 388.2582702636719,\n",
       " 387.6199951171875,\n",
       " 442.9881896972656,\n",
       " 346.1824035644531,\n",
       " 365.6447448730469,\n",
       " 372.8999938964844,\n",
       " 420.55474853515625,\n",
       " 341.34600830078125,\n",
       " 421.28509521484375,\n",
       " 345.47698974609375,\n",
       " 342.5604553222656,\n",
       " 377.0718688964844,\n",
       " 481.0867919921875,\n",
       " 358.8457336425781,\n",
       " 443.95416259765625,\n",
       " 404.58111572265625,\n",
       " 433.70233154296875,\n",
       " 291.4002380371094,\n",
       " 346.908203125,\n",
       " 463.89544677734375,\n",
       " 510.7620849609375,\n",
       " 344.73858642578125,\n",
       " 576.1264038085938,\n",
       " 374.1803283691406,\n",
       " 411.1604309082031,\n",
       " 387.5479736328125,\n",
       " 382.58154296875,\n",
       " 382.1041259765625,\n",
       " 379.10284423828125,\n",
       " 437.7810974121094,\n",
       " 386.24462890625,\n",
       " 540.060791015625,\n",
       " 330.2669372558594,\n",
       " 384.77655029296875,\n",
       " 376.34576416015625,\n",
       " 369.12548828125,\n",
       " 347.28961181640625,\n",
       " 349.2609558105469,\n",
       " 307.01751708984375,\n",
       " 325.17205810546875,\n",
       " 352.2421875,\n",
       " 298.9825439453125,\n",
       " 362.1770935058594,\n",
       " 318.84722900390625,\n",
       " 545.4164428710938,\n",
       " 292.8153381347656,\n",
       " 358.29827880859375,\n",
       " 519.1953125,\n",
       " 477.1748962402344,\n",
       " 388.16015625,\n",
       " 350.0645751953125,\n",
       " 448.5877685546875,\n",
       " 365.43194580078125,\n",
       " 403.2339782714844,\n",
       " 363.06829833984375,\n",
       " 298.2212829589844,\n",
       " 416.9427185058594,\n",
       " 659.9630126953125,\n",
       " 1711.9844970703125,\n",
       " 432.3177490234375,\n",
       " 456.2496032714844,\n",
       " 529.9420166015625,\n",
       " 657.9017944335938,\n",
       " 526.1591186523438,\n",
       " 615.1854858398438,\n",
       " 362.8403015136719,\n",
       " 361.9797668457031,\n",
       " 334.78857421875,\n",
       " 438.2730407714844,\n",
       " 335.4340515136719,\n",
       " 525.272705078125,\n",
       " 424.1260986328125,\n",
       " 366.10296630859375,\n",
       " 332.87530517578125,\n",
       " 383.43841552734375,\n",
       " 332.4517517089844,\n",
       " 391.982421875,\n",
       " 288.5602722167969,\n",
       " 373.2443542480469,\n",
       " 336.9631042480469,\n",
       " 339.8751525878906,\n",
       " 387.7107849121094,\n",
       " 510.8151550292969,\n",
       " 385.2193603515625,\n",
       " 332.6412353515625,\n",
       " 360.5742492675781,\n",
       " 329.3308410644531,\n",
       " 402.92083740234375,\n",
       " 362.1033020019531,\n",
       " 284.72802734375,\n",
       " 354.4264831542969,\n",
       " 327.0035400390625,\n",
       " 662.2699584960938,\n",
       " 405.7972106933594,\n",
       " 305.1912536621094,\n",
       " 277.4989318847656,\n",
       " 346.858154296875,\n",
       " 300.9693298339844,\n",
       " 371.7862548828125,\n",
       " 317.32470703125,\n",
       " 364.1214904785156,\n",
       " 321.10125732421875,\n",
       " 487.5392761230469,\n",
       " 333.0711975097656,\n",
       " 358.4947509765625,\n",
       " 361.8538513183594,\n",
       " 310.25543212890625,\n",
       " 489.6759338378906,\n",
       " 389.6067199707031,\n",
       " 330.6419372558594,\n",
       " 396.0889892578125,\n",
       " 355.6003112792969,\n",
       " 338.58734130859375,\n",
       " 428.6409912109375,\n",
       " 382.0110778808594,\n",
       " 320.8611755371094,\n",
       " 368.8801574707031,\n",
       " 311.62811279296875,\n",
       " 279.5501708984375,\n",
       " 440.4198303222656,\n",
       " 591.5831298828125,\n",
       " 281.1127624511719,\n",
       " 331.9095153808594,\n",
       " 278.3151550292969,\n",
       " 275.72100830078125,\n",
       " 305.61346435546875,\n",
       " 326.0406494140625,\n",
       " 309.71197509765625,\n",
       " 307.55169677734375,\n",
       " 333.6083068847656,\n",
       " 394.26202392578125,\n",
       " 318.63140869140625,\n",
       " 342.0724182128906,\n",
       " 484.3406982421875,\n",
       " 290.7444152832031,\n",
       " 461.2336120605469,\n",
       " 361.7081298828125,\n",
       " 329.701171875,\n",
       " 361.39599609375,\n",
       " 342.90289306640625,\n",
       " 350.4281921386719,\n",
       " 323.7838439941406,\n",
       " 289.6749267578125,\n",
       " 325.6813049316406,\n",
       " 355.4495544433594,\n",
       " 291.4849548339844,\n",
       " 300.71875,\n",
       " 453.8766784667969,\n",
       " 324.08135986328125,\n",
       " 359.01959228515625,\n",
       " 307.4164123535156,\n",
       " 351.3616027832031,\n",
       " 317.0434265136719,\n",
       " 339.6770935058594,\n",
       " 283.8474426269531,\n",
       " 371.31256103515625,\n",
       " 319.4957580566406,\n",
       " 367.5103759765625,\n",
       " 282.7688903808594,\n",
       " 287.1413879394531,\n",
       " 368.7681884765625,\n",
       " 346.29205322265625,\n",
       " 572.162841796875,\n",
       " 362.952880859375,\n",
       " 306.147216796875,\n",
       " 275.3597106933594,\n",
       " 303.36297607421875,\n",
       " 283.9991455078125,\n",
       " 303.5545959472656,\n",
       " 306.5358581542969,\n",
       " 314.9919128417969,\n",
       " 269.6678771972656,\n",
       " 298.4729919433594,\n",
       " 312.8519592285156,\n",
       " 251.00369262695312,\n",
       " 344.8392639160156,\n",
       " 324.5651550292969,\n",
       " 444.1242980957031,\n",
       " 335.392578125,\n",
       " 305.3260498046875,\n",
       " 279.7156677246094,\n",
       " 278.7571105957031,\n",
       " 280.98150634765625,\n",
       " 280.3486022949219,\n",
       " 410.59014892578125,\n",
       " 310.81793212890625,\n",
       " 686.8969116210938,\n",
       " 392.33544921875,\n",
       " 340.59820556640625,\n",
       " 292.60906982421875,\n",
       " 274.11578369140625,\n",
       " 372.84954833984375,\n",
       " 374.26214599609375,\n",
       " 379.1876525878906,\n",
       " 299.8105773925781,\n",
       " 330.57476806640625,\n",
       " 454.30621337890625,\n",
       " 327.82318115234375,\n",
       " 405.8037414550781,\n",
       " 282.54901123046875,\n",
       " 310.8515319824219,\n",
       " 374.2435607910156,\n",
       " 385.50616455078125,\n",
       " 305.6661376953125,\n",
       " 299.8298034667969,\n",
       " 302.12310791015625,\n",
       " 277.74920654296875,\n",
       " 274.25390625,\n",
       " 274.7107238769531,\n",
       " 254.3358154296875,\n",
       " 299.6567077636719,\n",
       " 411.4456787109375,\n",
       " 517.3212280273438]"
      ]
     },
     "execution_count": 44,
     "metadata": {},
     "output_type": "execute_result"
    }
   ],
   "source": [
    "losses"
   ]
  },
  {
   "cell_type": "code",
   "execution_count": 45,
   "metadata": {},
   "outputs": [
    {
     "data": {
      "text/plain": [
       "[<matplotlib.lines.Line2D at 0x22b259e5370>]"
      ]
     },
     "execution_count": 45,
     "metadata": {},
     "output_type": "execute_result"
    },
    {
     "data": {
      "image/png": "[encoded data removed]",
      "text/plain": [
       "<Figure size 432x288 with 1 Axes>"
      ]
     },
     "metadata": {
      "needs_background": "light"
     },
     "output_type": "display_data"
    }
   ],
   "source": [
    "plt.plot(losses[:])"
   ]
  },
  {
   "cell_type": "code",
   "execution_count": 58,
   "metadata": {},
   "outputs": [],
   "source": [
    "Θ_1 = torchsde.sdeint(sde, Θ_0, ts, dt=Δt)[-1,...]"
   ]
  },
  {
   "cell_type": "code",
   "execution_count": 47,
   "metadata": {},
   "outputs": [
    {
     "data": {
      "text/plain": [
       "(array([ 1.,  2.,  5.,  3., 11.,  6.,  8.,  9.,  2.,  3.]),\n",
       " array([-2.227136 , -1.7924598, -1.3577837, -0.9231076, -0.4884315,\n",
       "        -0.0537554,  0.3809207,  0.8155968,  1.2502729,  1.684949 ,\n",
       "         2.119625 ], dtype=float32),\n",
       " <a list of 10 Patch objects>)"
      ]
     },
     "execution_count": 47,
     "metadata": {},
     "output_type": "execute_result"
    },
    {
     "data": {
      "image/png": "[encoded data removed]",
      "text/plain": [
       "<Figure size 432x288 with 3 Axes>"
      ]
     },
     "metadata": {
      "needs_background": "light"
     },
     "output_type": "display_data"
    }
   ],
   "source": [
    "fig, (ax1,ax2,ax3) = plt.subplots(1,3)\n",
    "\n",
    "ax1.hist(Θ_1[:,0].cpu().detach().numpy())\n",
    "ax2.hist(Θ_1[:,1].cpu().detach().numpy())\n",
    "ax3.hist(Θ_1[:,2].cpu().detach().numpy())"
   ]
  },
  {
   "cell_type": "code",
   "execution_count": 48,
   "metadata": {},
   "outputs": [
    {
     "name": "stderr",
     "output_type": "stream",
     "text": [
      "C:\\Users\\vargf\\AppData\\Local\\Temp/ipykernel_25680/557985267.py:36: UserWarning: torch.vmap is an experimental prototype that is subject to change and/or deletion. Please use at your own risk. There may be unexpected performance cliffs due to certain operators not being implemented. To see detailed performance warnings please use `torch._C._debug_only_display_vmap_fallback_warnings(True) before the call to `vmap`.\n",
      "  batched_preds = torch._vmap_internals.vmap(preds_func)\n"
     ]
    }
   ],
   "source": [
    "pred = net.map_forward(X_train, Θ_1).mean(axis=1)"
   ]
  },
  {
   "cell_type": "code",
   "execution_count": 59,
   "metadata": {},
   "outputs": [
    {
     "data": {
      "image/png": "[encoded data removed]",
      "text/plain": [
       "<Figure size 432x288 with 1 Axes>"
      ]
     },
     "metadata": {
      "needs_background": "light"
     },
     "output_type": "display_data"
    }
   ],
   "source": [
    "\n",
    "\n",
    "fig, ax = plt.subplots(figsize=(6, 4), tight_layout=True)\n",
    "ax.plot(X_test.detach().cpu(), f, 'b', label = 'f(x)')\n",
    "ax.plot(X_train.detach().cpu(), y_train.detach().cpu(), 'kP', ms = 9, label = 'y(x) = f(x) + $\\epsilon$')\n",
    "ax.plot(X_train.detach().cpu(), pred.detach().cpu(), color=\"red\", label=\"pred\")\n",
    "ax.legend(loc = 'upper left')\n",
    "ax.set_title('Target function with noisy observations ')\n",
    "\n",
    "plt.show()"
   ]
  },
  {
   "cell_type": "code",
   "execution_count": 51,
   "metadata": {},
   "outputs": [
    {
     "data": {
      "text/plain": [
       "840"
      ]
     },
     "execution_count": 51,
     "metadata": {},
     "output_type": "execute_result"
    }
   ],
   "source": [
    "net.dim"
   ]
  },
  {
   "cell_type": "code",
   "execution_count": 66,
   "metadata": {},
   "outputs": [
    {
     "data": {
      "text/plain": [
       "[(1, 20), (20, 20), (20, 20), (20, 1)]"
      ]
     },
     "execution_count": 66,
     "metadata": {},
     "output_type": "execute_result"
    }
   ],
   "source": [
    "# net = OnedRegressionForwardNet(1,1, device=device, depth=3)\n",
    "net.shapes"
   ]
  },
  {
   "cell_type": "code",
   "execution_count": 60,
   "metadata": {},
   "outputs": [
    {
     "name": "stdout",
     "output_type": "stream",
     "text": [
      "tensor([ 1.3155, -0.8297,  2.0207], device='cuda:0', grad_fn=<SliceBackward0>)\n",
      "tensor([ 0.1563,  0.8567, -1.1597], device='cuda:0', grad_fn=<SliceBackward0>)\n",
      "tensor([0.2566, 0.5845, 1.2754], device='cuda:0', grad_fn=<SliceBackward0>)\n",
      "tensor([ 0.4038, -0.7700, -0.9377], device='cuda:0', grad_fn=<SliceBackward0>)\n",
      "tensor([-0.7558, -0.0267,  0.0200], device='cuda:0', grad_fn=<SliceBackward0>)\n",
      "tensor([-0.2502,  0.3860,  0.3810], device='cuda:0', grad_fn=<SliceBackward0>)\n",
      "tensor([ 0.4093, -0.8089,  2.3301], device='cuda:0', grad_fn=<SliceBackward0>)\n",
      "tensor([-1.3416, -1.4051,  1.6230], device='cuda:0', grad_fn=<SliceBackward0>)\n",
      "tensor([-0.5422,  1.0885, -0.6465], device='cuda:0', grad_fn=<SliceBackward0>)\n",
      "tensor([ 0.5966, -1.0273,  1.4588], device='cuda:0', grad_fn=<SliceBackward0>)\n",
      "tensor([ 1.7769, -1.5714, -0.3028], device='cuda:0', grad_fn=<SliceBackward0>)\n",
      "tensor([1.2878, 0.2816, 0.2564], device='cuda:0', grad_fn=<SliceBackward0>)\n",
      "tensor([ 0.4549,  0.8052, -1.6720], device='cuda:0', grad_fn=<SliceBackward0>)\n",
      "tensor([ 0.2767, -0.6074, -1.1209], device='cuda:0', grad_fn=<SliceBackward0>)\n",
      "tensor([-1.9121,  0.3870,  0.7632], device='cuda:0', grad_fn=<SliceBackward0>)\n",
      "tensor([-0.1794,  0.6814, -0.8940], device='cuda:0', grad_fn=<SliceBackward0>)\n",
      "tensor([-1.3945, -0.5718,  2.4595], device='cuda:0', grad_fn=<SliceBackward0>)\n",
      "tensor([-1.0390, -0.7782, -0.9443], device='cuda:0', grad_fn=<SliceBackward0>)\n",
      "tensor([ 0.5184, -0.9011,  1.2368], device='cuda:0', grad_fn=<SliceBackward0>)\n",
      "tensor([-0.2789, -1.3803, -0.3196], device='cuda:0', grad_fn=<SliceBackward0>)\n",
      "tensor([ 1.0515,  0.3161, -0.5348], device='cuda:0', grad_fn=<SliceBackward0>)\n",
      "tensor([-0.1081, -0.0346, -0.7231], device='cuda:0', grad_fn=<SliceBackward0>)\n",
      "tensor([-0.4189, -0.1782, -0.0523], device='cuda:0', grad_fn=<SliceBackward0>)\n",
      "tensor([2.5464, 1.5364, 0.7853], device='cuda:0', grad_fn=<SliceBackward0>)\n",
      "tensor([ 1.5306, -0.5468, -0.1202], device='cuda:0', grad_fn=<SliceBackward0>)\n",
      "tensor([ 0.1848,  0.2158, -0.3095], device='cuda:0', grad_fn=<SliceBackward0>)\n",
      "tensor([-0.0605,  0.0694,  0.3015], device='cuda:0', grad_fn=<SliceBackward0>)\n",
      "tensor([ 0.0547, -1.5990,  0.6239], device='cuda:0', grad_fn=<SliceBackward0>)\n",
      "tensor([-1.7452, -0.2701,  0.5782], device='cuda:0', grad_fn=<SliceBackward0>)\n",
      "tensor([ 1.0963, -0.6326,  0.1007], device='cuda:0', grad_fn=<SliceBackward0>)\n",
      "tensor([1.4817, 2.3317, 1.0481], device='cuda:0', grad_fn=<SliceBackward0>)\n",
      "tensor([ 0.0597,  0.4900, -0.7898], device='cuda:0', grad_fn=<SliceBackward0>)\n",
      "tensor([ 0.5217,  0.7750, -0.9452], device='cuda:0', grad_fn=<SliceBackward0>)\n",
      "tensor([ 0.4696, -0.1760,  1.0697], device='cuda:0', grad_fn=<SliceBackward0>)\n",
      "tensor([ 1.3128, -1.1477, -0.3746], device='cuda:0', grad_fn=<SliceBackward0>)\n",
      "tensor([ 0.4672, -0.6142, -0.2846], device='cuda:0', grad_fn=<SliceBackward0>)\n",
      "tensor([0.2745, 0.2005, 1.0032], device='cuda:0', grad_fn=<SliceBackward0>)\n",
      "tensor([-0.3434, -2.1154, -0.4037], device='cuda:0', grad_fn=<SliceBackward0>)\n",
      "tensor([ 0.7730, -0.7460, -0.1818], device='cuda:0', grad_fn=<SliceBackward0>)\n",
      "tensor([ 0.0948,  0.9152, -1.0273], device='cuda:0', grad_fn=<SliceBackward0>)\n",
      "tensor([-1.1763,  0.4537, -0.1894], device='cuda:0', grad_fn=<SliceBackward0>)\n",
      "tensor([ 0.6623, -0.5507, -0.0984], device='cuda:0', grad_fn=<SliceBackward0>)\n",
      "tensor([2.1027, 1.6034, 0.4471], device='cuda:0', grad_fn=<SliceBackward0>)\n",
      "tensor([-0.5069, -1.7967,  1.8576], device='cuda:0', grad_fn=<SliceBackward0>)\n",
      "tensor([-2.5413, -0.3576,  0.4624], device='cuda:0', grad_fn=<SliceBackward0>)\n",
      "tensor([-0.3525,  0.3995,  1.4604], device='cuda:0', grad_fn=<SliceBackward0>)\n",
      "tensor([ 1.2167, -0.0944,  0.9431], device='cuda:0', grad_fn=<SliceBackward0>)\n",
      "tensor([-0.7104,  0.5498,  1.6284], device='cuda:0', grad_fn=<SliceBackward0>)\n",
      "tensor([-0.4343,  0.7907, -0.6782], device='cuda:0', grad_fn=<SliceBackward0>)\n",
      "tensor([ 0.3267, -0.0116, -0.9859], device='cuda:0', grad_fn=<SliceBackward0>)\n"
     ]
    },
    {
     "data": {
      "image/png": "[encoded data removed]",
      "text/plain": [
       "<Figure size 432x288 with 1 Axes>"
      ]
     },
     "metadata": {
      "needs_background": "light"
     },
     "output_type": "display_data"
    }
   ],
   "source": [
    "for i in range(len(Θ_1)):\n",
    "    print(Θ_1[i,:3])\n",
    "    pred = net.forward(X_train, Θ_1[i,:,]).mean(axis=1)\n",
    "    plt.plot(X_train.detach().cpu(), pred.detach().cpu())\n",
    "# plt.plot(X_train.detach().cpu(), y_train.detach().cpu())"
   ]
  },
  {
   "cell_type": "code",
   "execution_count": 143,
   "metadata": {},
   "outputs": [
    {
     "data": {
      "text/plain": [
       "tensor([-0.7801, -0.1084,  0.1080, -0.2544,  0.3704,  0.1321,  0.1566, -0.3178,\n",
       "        -0.2910,  0.3771, -0.3265, -0.3465, -0.1539,  0.1084, -0.1494, -0.0304,\n",
       "        -0.1860,  0.0646, -0.3617,  0.4300, -1.4132, -0.8205, -0.6709, -0.9085,\n",
       "        -0.6943, -0.8013, -1.1529, -1.2076, -1.2691, -0.8796, -0.8362, -0.5513,\n",
       "        -0.8389, -1.0300, -1.0318, -1.0042, -0.7326, -1.1254, -0.8379, -0.9494,\n",
       "        -0.7875, -1.0230, -1.0562, -0.8678, -0.9215, -0.8175, -0.7790, -1.4147,\n",
       "        -0.9507, -0.7103, -0.6839, -0.7546, -0.6335, -0.3720, -0.6373, -1.2080,\n",
       "        -1.0128, -1.0070, -0.9353, -1.6048, -0.5986, -0.9645, -0.3699, -0.8701,\n",
       "        -0.8113, -0.7402, -0.6355, -1.0007, -0.9172, -0.5589, -0.4833, -0.4535,\n",
       "        -0.6348, -0.6818, -0.4651, -0.7502, -0.7177, -0.5938, -0.5395, -0.8373,\n",
       "        -1.2992, -1.2083, -0.6627, -0.8179, -0.7179, -1.1380, -0.4860, -0.9471,\n",
       "        -0.4967, -0.5418, -0.7372, -0.7034, -0.8282, -1.0916, -0.6223, -0.7912,\n",
       "        -0.7844, -0.6386, -0.9753, -0.5819, -1.4304, -0.8053, -0.8727, -0.6236,\n",
       "        -0.6434, -0.4264, -0.9857, -1.3291, -0.9628, -0.6240, -0.4061, -0.8712,\n",
       "        -0.8470, -0.7488, -0.9434, -0.7908, -0.9057, -0.9038, -0.4424, -1.1849,\n",
       "        -0.6330, -0.9121, -1.1225, -0.7251, -0.8183, -0.8957, -0.7081, -0.7148,\n",
       "        -1.4670, -0.8477, -0.9917, -1.3128, -0.7819, -0.9293, -0.9354, -0.5512,\n",
       "        -0.3825, -0.5556, -0.7060, -0.9888, -1.3525, -0.4718, -0.5053, -0.6027,\n",
       "        -0.9016, -0.9737, -0.7713, -0.8153, -1.0176, -0.8798, -0.5439, -0.6909,\n",
       "        -0.5803, -1.1202, -0.7259, -0.8430, -1.0221, -0.4835, -0.6656, -0.7295,\n",
       "        -1.1826, -0.2539, -0.7642, -0.8113, -0.7415, -0.7975, -0.5872, -0.5049,\n",
       "        -0.8047, -0.3927, -0.6204, -0.3749, -0.9422, -0.6515, -0.9403, -0.6560,\n",
       "        -0.5647, -0.8002, -0.5350, -0.5801, -1.1791, -0.7495, -0.6046, -0.9713,\n",
       "        -0.7129, -0.7875, -1.0089, -0.5346, -0.5586, -0.6944, -0.8204, -0.7854,\n",
       "        -0.7304, -0.6412, -0.7191, -0.9045, -0.8835, -1.1415, -0.6711, -0.3715,\n",
       "        -1.6215, -0.7089, -0.8943, -0.7412, -0.3233, -0.8629, -1.0233, -0.9540,\n",
       "        -1.1518, -0.6743, -0.3280, -0.9170, -0.5571, -0.8908, -0.6368, -0.9756,\n",
       "        -0.5273, -0.7513, -1.0361, -1.0817, -1.3581, -0.6790, -0.4234, -0.5356,\n",
       "        -0.8651, -1.1427, -0.9263, -1.0354, -1.3164, -0.8718, -0.7047, -0.7876,\n",
       "        -0.7009, -0.4837, -0.4657, -0.7720, -0.9048, -0.5585, -1.1773, -0.7108,\n",
       "        -1.4487, -0.6688, -0.6915, -0.7607, -0.9007, -0.5987, -0.4747, -0.6967,\n",
       "        -0.8960, -0.7623, -0.8256, -0.7555, -1.1943, -0.5089, -0.6751, -0.5165,\n",
       "        -0.5484, -1.4780, -0.6542, -1.6923, -1.3337, -0.6333, -0.9481, -0.6042,\n",
       "        -0.7561, -0.5339, -0.7175, -0.7251, -1.2212, -1.0375, -0.6518, -1.2422,\n",
       "        -1.1162, -0.5829, -0.8294, -0.9290, -0.7926, -0.7249, -0.7635, -0.9259,\n",
       "        -1.4495, -0.9093, -1.5469, -0.6857, -0.7858, -0.6763, -0.9051, -0.4989,\n",
       "        -0.4489, -1.0156, -1.0990, -1.0536, -0.9710, -0.7914, -1.0193, -0.6592,\n",
       "        -1.1363, -0.5152, -0.7411, -0.9653, -1.2576, -0.5033, -0.8338, -0.7240,\n",
       "        -0.8339, -0.9215, -0.3343, -0.7995, -0.6316, -0.4737, -0.7602, -0.1484,\n",
       "        -0.7730, -0.5843, -0.5990, -1.0753, -0.6854, -0.6530, -0.7184, -0.5403,\n",
       "        -0.7901, -0.7721, -0.6774, -0.7442, -0.3974, -1.0265, -0.6909, -0.5831,\n",
       "        -1.0175, -0.5526, -0.7025, -0.8038, -1.0968, -0.5303, -0.4186, -0.6981,\n",
       "        -0.7800, -0.9790, -0.9154, -1.3065, -1.1529, -1.1199, -1.3873, -1.0739,\n",
       "        -0.7185, -0.8022, -0.6604, -0.5573, -0.7974, -0.5996, -1.2634, -0.8475,\n",
       "        -0.8589, -0.7663, -0.6868, -0.8390, -0.9333, -0.4537, -0.7786, -0.5445,\n",
       "        -1.2104, -0.8853, -0.6150, -0.8342, -0.5944, -0.9170, -0.8031, -0.8468,\n",
       "        -1.5107, -0.9825, -0.8633, -0.7690, -0.7893, -0.9444, -0.7443, -1.3793,\n",
       "        -0.8308, -1.0490, -0.8924, -0.7071, -0.7698, -0.9118, -0.9336, -0.5977,\n",
       "        -0.8682, -0.5165, -0.5691, -0.6217, -1.2502, -0.9169, -0.7669, -0.6511,\n",
       "        -0.4092, -1.1683, -0.7800, -0.5800, -0.8774, -0.6471, -0.5883, -0.9469,\n",
       "        -0.6852, -0.1574, -0.5109, -0.3344, -0.0481, -0.1693, -0.4339, -0.3100,\n",
       "        -0.7305, -0.4452, -0.3063, -0.5157, -1.1326, -0.3344, -0.4173, -0.6480,\n",
       "        -0.1255, -0.5519, -0.8525, -0.2951, -0.1675, -0.2327, -0.1460, -0.0393,\n",
       "        -0.2526, -0.1650,  0.2376, -0.1411,  0.1371,  0.2506, -0.0823, -0.0832,\n",
       "         0.0912,  0.0513,  0.1139, -0.1227, -0.1248,  0.0178,  0.0669, -0.1218],\n",
       "       device='cuda:0', grad_fn=<MeanBackward1>)"
      ]
     },
     "execution_count": 143,
     "metadata": {},
     "output_type": "execute_result"
    }
   ],
   "source": [
    "Θ_1.mean(axis=0)"
   ]
  },
  {
   "cell_type": "markdown",
   "metadata": {},
   "source": [
    "## MAP Baseline\n",
    "\n",
    "We run the point estimate approximation (Maximum a posteriori) to double check what the learned weights look like.  We get the  exact same training accuracy as with the controlled model and similarly large weights for the non bias weights. "
   ]
  },
  {
   "cell_type": "code",
   "execution_count": 25,
   "metadata": {},
   "outputs": [
    {
     "data": {
      "application/vnd.jupyter.widget-view+json": {
       "model_id": "d81821a070db47d7808ce3f15f828242",
       "version_major": 2,
       "version_minor": 0
      },
      "text/plain": [
       "  0%|          | 0/1000 [00:00<?, ?it/s]"
      ]
     },
     "metadata": {},
     "output_type": "display_data"
    },
    {
     "name": "stderr",
     "output_type": "stream",
     "text": [
      "/tmp/ipykernel_27535/3526744317.py:27: UserWarning: torch.vmap is an experimental prototype that is subject to change and/or deletion. Please use at your own risk. There may be unexpected performance cliffs due to certain operators not being implemented. To see detailed performance warnings please use `torch._C._debug_only_display_vmap_fallback_warnings(True) before the call to `vmap`.\n",
      "  batched_loss =  torch._vmap_internals.vmap(loss_)\n"
     ]
    },
    {
     "data": {
      "text/plain": [
       "(tensor(0.9875, device='cuda:0'),\n",
       " tensor([[ 0.0000, -2.1514,  2.0305]], device='cuda:0', requires_grad=True))"
      ]
     },
     "execution_count": 25,
     "metadata": {},
     "output_type": "execute_result"
    }
   ],
   "source": [
    "Θ_map = torch.zeros((1, dim), requires_grad=True, device=device)\n",
    "optimizer_map = torch.optim.Adam([Θ_map], lr=0.05)\n",
    "#     optimizer = torch.optim.LBFGS(gpr.parameters(), lr=0.01)\n",
    "\n",
    "losses_map = []\n",
    "num_steps = 1000\n",
    "for i in tqdm(range(num_steps)):\n",
    "    optimizer.zero_grad()\n",
    "\n",
    "    if isinstance(optimizer_map, torch.optim.LBFGS):\n",
    "        def closure_map():\n",
    "            loss_map = log_likelihood_vmap()\n",
    "            optimizer_map.zero_grad()\n",
    "            loss_map.backward()\n",
    "            return loss\n",
    "\n",
    "        optimizer_map.step(closure_map)\n",
    "        losses_map.append(closure_map().item())\n",
    "    else:\n",
    "        loss_map = -(log_likelihood_vmap(Θ_map, X_train, y_train + gaussian_prior(Θ_map)))\n",
    "        optimizer_map.zero_grad()\n",
    "        loss_map.backward()\n",
    "\n",
    "        optimizer_map.step()\n",
    "        losses_map.append(loss.item())\n",
    "\n",
    "Θ_map\n",
    "pred_map = torch.sigmoid(X_train.mm(Θ_map.T)).mean(axis=1)\n",
    "((pred_map < 0.5).float() == y_train).float().mean(), Θ_map"
   ]
  },
  {
   "cell_type": "markdown",
   "metadata": {},
   "source": [
    "## Pyro Bayesian Logistic Regeression\n",
    "\n",
    "As a baseline we run pyro with SVI on this same example atm we get very different results which is a bit worrying.\n",
    "\n",
    "#### EDIT:\n",
    "\n",
    "I think results are actually in agreement what was happening is the priors in the pyro code where much more confident thus the smaller weights. I just tried changing the prior of this pyro model and the posterior is not changing much, this is a bit fishy maybe worth investigating. \n",
    "\n",
    "I think it might just be the case that this model is not very good."
   ]
  },
  {
   "cell_type": "code",
   "execution_count": null,
   "metadata": {},
   "outputs": [],
   "source": [
    "import numpy as np\n",
    "import scipy.special as ssp\n",
    "import matplotlib.pyplot as plt\n",
    "\n",
    "import torch\n",
    "import torch.nn as nn\n",
    "import torch.distributions.constraints as constraints\n",
    "\n",
    "from torch.utils.data import DataLoader\n",
    "from torch.utils.data.sampler import SubsetRandomSampler\n",
    "\n",
    "import pyro\n",
    "import pyro.distributions as dist\n",
    "\n",
    "from pyro.infer import SVI, Trace_ELBO\n",
    "from pyro.optim import Adam, SGD\n",
    "\n",
    "pyro.enable_validation(True)\n",
    "torch.set_default_dtype(torch.double) # this was necessary on the CPU"
   ]
  },
  {
   "cell_type": "code",
   "execution_count": null,
   "metadata": {},
   "outputs": [],
   "source": [
    "\n",
    "# these were adapted from the Pyro VAE tutorial\n",
    "\n",
    "def train(svi, train_loader, n_train):\n",
    "    # initialize loss accumulator\n",
    "    epoch_loss = 0.\n",
    "    # do a training epoch over each mini-batch x returned\n",
    "    # by the data loader\n",
    "    for _, xs in enumerate(train_loader):\n",
    "        # do ELBO gradient and accumulate loss\n",
    "        epoch_loss += svi.step(*xs)\n",
    "\n",
    "    # return epoch loss\n",
    "    total_epoch_loss_train = epoch_loss / n_train\n",
    "    return total_epoch_loss_train\n",
    "\n",
    "\n",
    "def evaluate(svi, test_loader, n_test):\n",
    "    # initialize loss accumulator\n",
    "    test_loss = 0.\n",
    "    # compute the loss over the entire test set\n",
    "    for _, xs in enumerate(test_loader):\n",
    "        # compute ELBO estimate and accumulate loss\n",
    "        test_loss += svi.evaluate_loss(*xs)\n",
    "\n",
    "    total_epoch_loss_test = test_loss / n_test\n",
    "    return total_epoch_loss_test\n",
    "\n",
    "\n",
    "def plot_llk(train_elbo, test_elbo, test_int):\n",
    "    plt.figure(figsize=(8, 6))\n",
    "\n",
    "    x = np.arange(len(train_elbo))\n",
    "\n",
    "    plt.plot(x, train_elbo, marker='o', label='Train ELBO')\n",
    "    plt.plot(x[::test_int], test_elbo, marker='o', label='Test ELBO')\n",
    "    plt.xlabel('Training Epoch')\n",
    "    plt.legend()\n",
    "    plt.show()"
   ]
  },
  {
   "cell_type": "code",
   "execution_count": null,
   "metadata": {},
   "outputs": [],
   "source": [
    "class LogRegressionModel(nn.Module):\n",
    "    def __init__(self, p):\n",
    "        super(LogRegressionModel, self).__init__()\n",
    "        \n",
    "        self.p = p\n",
    "\n",
    "        # hyperparameters for normal priors\n",
    "        self.alpha_h_loc = torch.zeros(1, p)\n",
    "        self.alpha_h_scale = 0.0001 * torch.ones(1, p)\n",
    "        self.beta_h_loc = torch.zeros(1)\n",
    "        self.beta_h_scale =  0.0001 * torch.ones(1)\n",
    "        \n",
    "        # initial values of variational parameters\n",
    "        self.alpha_0 = np.zeros((1, p))\n",
    "        self.alpha_0_scale = np.ones((1, p))\n",
    "        self.beta_0 = np.zeros((1,))\n",
    "        self.beta_0_scale = np.ones((1,))\n",
    "\n",
    "    def model(self, x, y):\n",
    "        # sample from prior\n",
    "        a = pyro.sample(\n",
    "            \"weight\", dist.Normal(self.alpha_h_loc, self.alpha_h_scale, validate_args=True).independent(1)\n",
    "        ).float()\n",
    "        b = pyro.sample(\n",
    "            \"bias\", dist.Normal(self.beta_h_loc, self.beta_h_scale, validate_args=True).independent(1)\n",
    "        ).float()\n",
    "\n",
    "        with pyro.iarange(\"data\", x.size(0)):\n",
    "#             import pdb; pdb.set_trace()\n",
    "            model_logits = (torch.matmul(x, a.permute(1, 0)) + b).squeeze()\n",
    "            \n",
    "            pyro.sample(\n",
    "                \"obs\", \n",
    "                dist.Bernoulli(logits=model_logits, validate_args=True),\n",
    "                obs=y.squeeze()\n",
    "            )\n",
    "            \n",
    "    def guide(self, x, y):\n",
    "        # register variational parameters with pyro\n",
    "        alpha_loc = pyro.param(\"alpha_loc\", torch.tensor(self.alpha_0))\n",
    "        alpha_scale = pyro.param(\"alpha_scale\", torch.tensor(self.alpha_0_scale),\n",
    "                                 constraint=constraints.positive)\n",
    "        beta_loc = pyro.param(\"beta_loc\", torch.tensor(self.beta_0))\n",
    "        beta_scale = pyro.param(\"beta_scale\", torch.tensor(self.beta_0_scale),\n",
    "                                constraint=constraints.positive)\n",
    "\n",
    "        pyro.sample(\n",
    "            \"weight\", dist.Normal(alpha_loc, alpha_scale, validate_args=True).independent(1)\n",
    "        )\n",
    "        pyro.sample(\n",
    "            \"bias\", dist.Normal(beta_loc, beta_scale, validate_args=True).independent(1)\n",
    "        )\n",
    "    \n",
    "    \n",
    "    def guide_(self, x, y, N=100):\n",
    "        # register variational parameters with pyro\n",
    "        alpha_loc = pyro.param(\"alpha_loc\", torch.tensor(self.alpha_0))\n",
    "        alpha_scale = pyro.param(\"alpha_scale\", torch.tensor(self.alpha_0_scale),\n",
    "                                 constraint=constraints.positive)\n",
    "        beta_loc = pyro.param(\"beta_loc\", torch.tensor(self.beta_0))\n",
    "        beta_scale = pyro.param(\"beta_scale\", torch.tensor(self.beta_0_scale),\n",
    "                                constraint=constraints.positive)\n",
    "        w = []\n",
    "        b = []\n",
    "        for _ in range(N):\n",
    "            w.append(torch.tensor(pyro.sample(\n",
    "                \"weight\", dist.Normal(alpha_loc, alpha_scale, validate_args=True).independent(1)\n",
    "            )))\n",
    "            b.append(torch.tensor(pyro.sample(\n",
    "                \"bias\", dist.Normal(beta_loc, beta_scale, validate_args=True).independent(1)\n",
    "            )))\n",
    "#         import pdb;pdb.set_trace()\n",
    "        return torch.vstack(w), torch.vstack(b)"
   ]
  },
  {
   "cell_type": "code",
   "execution_count": null,
   "metadata": {},
   "outputs": [],
   "source": [
    "\n",
    "pyro.clear_param_store()\n",
    "\n",
    "optim = Adam({'lr': 0.01})\n",
    "\n",
    "num_epochs = 1000\n",
    "batch_size = 50\n",
    "\n",
    "N = X.shape[0]\n",
    "p = 2\n",
    "\n",
    "n_train = X_train.shape[0]\n",
    "example_indices = np.random.permutation(N)\n",
    "n_test = N - n_train\n",
    "test_iter = 50"
   ]
  },
  {
   "cell_type": "code",
   "execution_count": null,
   "metadata": {},
   "outputs": [],
   "source": [
    "lr_model = LogRegressionModel(p=p)\n",
    "\n",
    "svi = SVI(\n",
    "    lr_model.model, lr_model.guide, optim,\n",
    "    loss=Trace_ELBO()\n",
    ")\n",
    "\n",
    "\n",
    "lr_dataset = torch.utils.data.TensorDataset(torch.tensor(X[:,1:]).float(), torch.tensor(y.reshape(-1,1)).float())\n",
    "\n",
    "data_loader_train = DataLoader(\n",
    "    dataset=lr_dataset, batch_size=batch_size, pin_memory=False,\n",
    "    sampler=SubsetRandomSampler(example_indices[:n_train]),\n",
    ")\n",
    "    \n",
    "data_loader_test = DataLoader(\n",
    "    dataset=lr_dataset, batch_size=batch_size, pin_memory=False,\n",
    "    sampler=SubsetRandomSampler(example_indices[n_train:]),\n",
    ")\n",
    "\n",
    "train_elbo = []\n",
    "test_elbo = []\n",
    "for epoch in range(num_epochs):\n",
    "    total_epoch_loss_train = train(svi, data_loader_train, n_train)\n",
    "    train_elbo.append(-total_epoch_loss_train)\n",
    "\n",
    "    if epoch % test_iter == 0:\n",
    "        print(\"[epoch %03d]  average training loss: %.4f\" % (epoch, total_epoch_loss_train))\n",
    "        # report test diagnostics\n",
    "        total_epoch_loss_test = evaluate(svi, data_loader_test, n_test)\n",
    "        test_elbo.append(-total_epoch_loss_test)"
   ]
  },
  {
   "cell_type": "code",
   "execution_count": null,
   "metadata": {},
   "outputs": [],
   "source": [
    "plot_llk(train_elbo, test_elbo, test_iter)"
   ]
  },
  {
   "cell_type": "code",
   "execution_count": null,
   "metadata": {},
   "outputs": [],
   "source": [
    "W, b = lr_model.guide_(X_train.float(), y_train.float())"
   ]
  },
  {
   "cell_type": "code",
   "execution_count": null,
   "metadata": {},
   "outputs": [],
   "source": [
    "fig, (ax1,ax2,ax3) = plt.subplots(1,3)\n",
    "\n",
    "# ax1.hist(Θ_1[:,0].detach().numpy())\n",
    "# ax2.hist(Θ_1[:,1].detach().numpy())\n",
    "# ax3.hist(Θ_1[:,2].detach().numpy())\n",
    "\n",
    "\n",
    "ax1.hist(b.detach().numpy(), color=\"red\")\n",
    "ax2.hist(W[:,0].detach().numpy(), color=\"red\")\n",
    "ax3.hist(W[:,1].detach().numpy(), color=\"red\")\n"
   ]
  },
  {
   "cell_type": "code",
   "execution_count": null,
   "metadata": {},
   "outputs": [],
   "source": [
    "b.mean(), W.mean(axis=0)"
   ]
  },
  {
   "cell_type": "code",
   "execution_count": null,
   "metadata": {},
   "outputs": [],
   "source": []
  }
 ],
 "metadata": {
  "kernelspec": {
   "display_name": "Python 3 (ipykernel)",
   "language": "python",
   "name": "python3"
  },
  "language_info": {
   "codemirror_mode": {
    "name": "ipython",
    "version": 3
   },
   "file_extension": ".py",
   "mimetype": "text/x-python",
   "name": "python",
   "nbconvert_exporter": "python",
   "pygments_lexer": "ipython3",
   "version": "3.8.5"
  },
  "toc": {
   "base_numbering": 1,
   "nav_menu": {},
   "number_sections": true,
   "sideBar": true,
   "skip_h1_title": false,
   "title_cell": "Table of Contents",
   "title_sidebar": "Contents",
   "toc_cell": false,
   "toc_position": {},
   "toc_section_display": true,
   "toc_window_display": false
  }
 },
 "nbformat": 4,
 "nbformat_minor": 4
}
