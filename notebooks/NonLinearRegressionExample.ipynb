{
 "cells": [
  {
   "cell_type": "code",
   "execution_count": 1,
   "metadata": {},
   "outputs": [],
   "source": [
    "import torch\n",
    "import torch.nn.functional as F\n",
    "\n",
    "import torchsde\n",
    "import math\n",
    "import matplotlib.pyplot as plt\n",
    "\n",
    "import numpy as np\n",
    "\n",
    "from tqdm.notebook import tqdm\n",
    "\n",
    "from torch import _vmap_internals"
   ]
  },
  {
   "cell_type": "code",
   "execution_count": 2,
   "metadata": {},
   "outputs": [],
   "source": [
    "from cfollmer.objectives import log_g, relative_entropy_control_cost, stl_relative_entropy_control_cost\n",
    "from cfollmer.sampler_utils import FollmerSDE, SimpleForwardNetBN\n",
    "from cfollmer.trainers import basic_batched_trainer"
   ]
  },
  {
   "cell_type": "markdown",
   "metadata": {},
   "source": [
    "# The Model\n",
    "\n",
    "\\begin{align}\n",
    "\\theta &\\sim \\mathcal{N}(\\theta | 0, \\sigma_w^2 \\mathbb{I}) \\\\\n",
    "y_i | x_i, \\theta &\\sim  \\mathcal{N}(y | f(x_i;\\theta), \\sigma_y^2 \\mathbb{I})\n",
    "\\end{align}\n",
    "\n",
    "We want samples from $p(\\theta | \\{(y_i, x_i)\\})$. Note $f(x; \\theta)$ is a neural net with params $\\theta$"
   ]
  },
  {
   "cell_type": "markdown",
   "metadata": {},
   "source": [
    "## Loading the StepFunc dataset"
   ]
  },
  {
   "cell_type": "code",
   "execution_count": 3,
   "metadata": {},
   "outputs": [
    {
     "data": {
      "image/png": "[encoded data removed]",
      "text/plain": [
       "<Figure size 432x288 with 1 Axes>"
      ]
     },
     "metadata": {
      "needs_background": "light"
     },
     "output_type": "display_data"
    }
   ],
   "source": [
    "device = \"cuda\" if torch.cuda.is_available() else \"cpu\"\n",
    "\n",
    "\n",
    "# Test inputs\n",
    "num_test_samples = 100\n",
    "X_test = np.linspace(-4, 4, num_test_samples).reshape(num_test_samples,1)\n",
    "\n",
    "# Noise free training inputs\n",
    "X_train = np.linspace(-3.5, 3.5, 100).reshape(-1,1)\n",
    "#f_train = np.cos(X_train) \n",
    "f_train = np.heaviside(X_train, 0)\n",
    "\n",
    "# Noise-free training outputs\n",
    "#f = np.cos(X_test)\n",
    "f = np.heaviside(X_test, 0)\n",
    "y_test  = f\n",
    "\n",
    "# Noisy training Inputs with additive Gaussian noise (zero-mean, variance sigma_n)\n",
    "sigma_n = 0.1\n",
    "\n",
    "mu = np.zeros(X_train.size)\n",
    "epsilon = np.random.multivariate_normal(mu, sigma_n**2 * np.eye(X_train.size))\n",
    "\n",
    "# Noisy targets\n",
    "y_train = f_train + epsilon.reshape(X_train.size,1)\n",
    "\n",
    "# Noisy observations\n",
    "fig, ax = plt.subplots(figsize=(6, 4), tight_layout=True)\n",
    "ax.plot(X_test, f, 'b', label = 'f(x)')\n",
    "ax.plot(X_train, y_train, 'kP', ms = 9, label = 'y(x) = f(x) + $\\epsilon$')\n",
    "ax.legend(loc = 'upper left')\n",
    "ax.set_title('Target function with noisy observations ')\n",
    "\n",
    "plt.show()"
   ]
  },
  {
   "cell_type": "code",
   "execution_count": 4,
   "metadata": {},
   "outputs": [],
   "source": [
    "device = \"cuda\" if torch.cuda.is_available() else \"cpu\"\n",
    "\n",
    "\n",
    "\n",
    "X_train, X_test, y_train, y_test = \\\n",
    "    torch.tensor(X_train, dtype=torch.float32, device=device), \\\n",
    "    torch.tensor(X_test, dtype=torch.float32, device=device), \\\n",
    "    torch.tensor(y_train, dtype=torch.float32, device=device), \\\n",
    "    torch.tensor(y_test, dtype=torch.float32, device=device) "
   ]
  },
  {
   "cell_type": "markdown",
   "metadata": {},
   "source": [
    "$$\\DeclareMathOperator*{\\argmin}{arg\\,min}$$\n",
    "$$\\def\\E{{\\mathbb{E}}}$$\n",
    "$$\\def\\rvu{{\\mathbf{u}}}$$\n",
    "$$\\def\\rvTheta{{\\bm{\\Theta}}}$$\n",
    "$$\\def\\gU{{\\mathcal{U}}}$$\n",
    "$$\\def\\mX{{\\mathbf{X}}}$$"
   ]
  },
  {
   "cell_type": "markdown",
   "metadata": {},
   "source": [
    "## Controlled Schrodinger Follmer Sampler\n",
    "\n",
    "The objevtive we are trying to implement is:\n",
    "\n",
    "\\begin{align}\n",
    "  \\mathbf{u}_t^{*}=  \\argmin_{\\rvu_t \\in \\mathcal{U}}\\mathbb{E}\\left[\\frac{1}{2\\gamma}\\int_0^1||\\rvu(t, \\Theta_t)||^2 dt - \\ln\\left(\\frac{ p(\\mX | \\Theta_1)p(\\Theta_1)}{\\mathcal{N}(\\Theta_1|\\mathbf{0}, \\gamma \\mathbb{I} )}\\right)\\right] \\\n",
    "\\end{align}\n",
    "\n",
    "Where:\n",
    "\\begin{align}\n",
    "d\\Theta_t = \\rvu(t, \\Theta_t)dt + \\sqrt{\\gamma} dB_t\n",
    "\\end{align}\n"
   ]
  },
  {
   "cell_type": "code",
   "execution_count": 5,
   "metadata": {},
   "outputs": [],
   "source": [
    "import torch.nn.functional as F\n",
    "\n",
    "\n",
    "class OnedRegressionForwardNet(object):\n",
    "    \n",
    "    def __init__(\n",
    "        self, input_dim=1, output_dim=1, depth=None,\n",
    "        width=20, width_seq=None, device=\"cpu\", activation=F.relu\n",
    "    ):\n",
    "        \n",
    "        self.device = device\n",
    "        self.output_dim = output_dim\n",
    "        self.input_dim = input_dim \n",
    "        self.activation = activation\n",
    "        \n",
    "        self.depth = depth\n",
    "        if not self.depth:\n",
    "            self.depth = 1\n",
    "        if not width_seq:\n",
    "            self.width = width\n",
    "            self.width_seq = [self.width] * (self.depth + 1)\n",
    "            self.shapes = [(self.width_seq[i-1], self.width_seq[i])  for i in range(1,self.depth)]\n",
    "            self.shapes += [(self.width_seq[-1], self.output_dim)]\n",
    "            self.shapes = [(self.input_dim, self.width_seq[0])] + self.shapes\n",
    "        \n",
    "        self.dim = sum([wx * wy + wy for wx, wy in self.shapes])\n",
    "        \n",
    "    def forward(self, x, Θ):\n",
    "        index = 0\n",
    "        n, d = x.shape\n",
    "        \n",
    "#         dim_bl =  sum([wx * wy + wy for wx, wy in self.shapes[:-1]])\n",
    "#         Θ[:dim_bl] = (Θ[:dim_bl] - Θ[:dim_bl].mean()) / Θ[:dim_bl].std()\n",
    "#         σ_Θ, μ_Θ = Θ.std(), Θ.mean()\n",
    "#         Θ = (Θ - μ_Θ) / σ_Θ\n",
    "\n",
    "        for wx, wy in self.shapes[:-1]:\n",
    "            x = F.linear(\n",
    "                x,\n",
    "                Θ[index: index + wx * wy].reshape(wy, wx),\n",
    "                Θ[index + wx * wy: index + wx * wy + wy].reshape(1,wy)\n",
    "            )\n",
    "            x = self.activation(x)\n",
    "            index += wx * wy  + wy\n",
    "        wx, wy = self.shapes[-1]\n",
    "        x = F.linear(\n",
    "            x,\n",
    "            Θ[index: index + wx * wy].reshape(wy, wx), #* σ_Θ + μ_Θ,\n",
    "            Θ[index + wx * wy: index + wx * wy + wy].reshape(1,wy) # * σ_Θ + μ_Θ\n",
    "        )\n",
    "        return x.to(self.device)\n",
    "    \n",
    "    def map_forward(self, x, Θ):\n",
    "        preds_func = lambda θ: self.forward(x, θ)\n",
    "        batched_preds = torch._vmap_internals.vmap(preds_func)\n",
    "        preds = torch.hstack(list(map(preds_func, Θ)))\n",
    "        return preds\n",
    "        "
   ]
  },
  {
   "cell_type": "code",
   "execution_count": 6,
   "metadata": {},
   "outputs": [],
   "source": [
    "net = OnedRegressionForwardNet(\n",
    "    1,1, device=device, depth=2, width=12, activation=F.relu\n",
    ")\n",
    "\n",
    "def ln_prior(Θ, σ_w=1.6):\n",
    "    \"\"\"\n",
    "    Logistic regresion bayesian prior\n",
    "    \"\"\"\n",
    "    return -0.5 * (Θ**2).sum(axis=1) / σ_w**2 \n",
    "\n",
    "\n",
    "def log_likelihood_vmap(Θ, X, y, net=net, σ_y=0.1):\n",
    "    \"\"\"\n",
    "    Hoping this implementation is less buggy / faster\n",
    "    \n",
    "    still feels a bit slow.\n",
    "    \"\"\"\n",
    "    preds_func = lambda θ: net.forward(X, θ)\n",
    "#     batched_preds = torch._vmap_internals.vmap(preds_func)\n",
    "#     import pdb; pdb.set_trace()\n",
    "    preds = torch.hstack(list(map(preds_func, Θ)))\n",
    "\n",
    "    diff = preds - y\n",
    "#     import pdb; pdb.set_trace()\n",
    "    diff_sq_fld = -0.5 * (diff**2).sum(dim=0) / σ_y**2\n",
    "\n",
    "    return diff_sq_fld"
   ]
  },
  {
   "cell_type": "code",
   "execution_count": 18,
   "metadata": {},
   "outputs": [
    {
     "data": {
      "application/vnd.jupyter.widget-view+json": {
       "model_id": "732b05bb9b3f4025978316a2fb9ae835",
       "version_major": 2,
       "version_minor": 0
      },
      "text/plain": [
       "  0%|          | 0/400 [00:00<?, ?it/s]"
      ]
     },
     "metadata": {},
     "output_type": "display_data"
    },
    {
     "name": "stderr",
     "output_type": "stream",
     "text": [
      "c:\\users\\vargf\\onedrive\\documents\\projects\\controlledfollmerdrift\\cfollmer\\objectives.py:97: UserWarning: torch.vmap is an experimental prototype that is subject to change and/or deletion. Please use at your own risk. There may be unexpected performance cliffs due to certain operators not being implemented. To see detailed performance warnings please use `torch._C._debug_only_display_vmap_fallback_warnings(True) before the call to `vmap`.\n",
      "  f = _vmap_internals.vmap(f_)\n",
      "c:\\users\\vargf\\onedrive\\documents\\projects\\controlledfollmerdrift\\cfollmer\\objectives.py:98: UserWarning: torch.vmap is an experimental prototype that is subject to change and/or deletion. Please use at your own risk. There may be unexpected performance cliffs due to certain operators not being implemented. To see detailed performance warnings please use `torch._C._debug_only_display_vmap_fallback_warnings(True) before the call to `vmap`.\n",
      "  f_detached = _vmap_internals.vmap(sde.f_detached)\n"
     ]
    }
   ],
   "source": [
    "local = False\n",
    "if local:\n",
    "    γ = 0.2\n",
    "    Δt = 0.01\n",
    "\n",
    "    # γ = 1\n",
    "    # Δt = 0.05 - \\sigma_w = 10-6\n",
    "\n",
    "    method = \"euler\"\n",
    "    # sde_mode = \"adjoint_method\" is \"adj\" in method else None\n",
    "    adjoint = False\n",
    "    stl = True\n",
    "\n",
    "    t_size = int(math.ceil(1.0/Δt))\n",
    "    ts = torch.linspace(0, 1, t_size).to(device)\n",
    "\n",
    "    sde = FollmerSDE(dim, dim, no_posterior_samples  , γ=γ, device=device).to(device)\n",
    "    optimizer = torch.optim.Adam(sde.μ.parameters(), lr=0.01, weight_decay =0.5)\n",
    "    #     optimizer = torch.optim.LBFGS(gpr.parameters(), lr=0.01)\n",
    "    losses = []\n",
    "    num_steps = 400\n",
    "    # with torch.autograd.set_detect_anomaly(True):\n",
    "\n",
    "    loss_ = stl_relative_entropy_control_cost if stl else relative_entropy_control_cost\n",
    "    for i in tqdm(range(num_steps)):\n",
    "        optimizer.zero_grad()\n",
    "\n",
    "        if isinstance(optimizer, torch.optim.LBFGS):\n",
    "            def closure():\n",
    "                loss = loss_(\n",
    "                    sde, Θ_0.float(),\n",
    "                    X_train.float(), y_train.float(),\n",
    "                    ln_prior, log_likelihood_vmap, γ=γ,\n",
    "                    batchnorm=True, device=device, method=method, adjoint=adjoint\n",
    "                )\n",
    "                optimizer.zero_grad()\n",
    "                loss.backward()\n",
    "                return loss\n",
    "\n",
    "            optimizer.step(closure)\n",
    "            losses.append(closure().item())\n",
    "        else:\n",
    "            loss = loss_(\n",
    "                sde, Θ_0,\n",
    "                X_train, y_train,\n",
    "                ln_prior, log_likelihood_vmap, γ=γ,\n",
    "                batchnorm=True, device=device, method=method, adjoint=adjoint\n",
    "            )\n",
    "            optimizer.zero_grad()\n",
    "            loss.backward()\n",
    "\n",
    "            optimizer.step()\n",
    "            losses.append(loss.item())\n",
    "        if stl:\n",
    "            sde.μ_detached.load_state_dict((sde.μ.state_dict()))\n",
    "else:\n",
    "    γ = 0.2\n",
    "    Δt = 0.01\n",
    "\n",
    "    # γ = 1\n",
    "    # Δt = 0.05 - \\sigma_w = 10-6\n",
    "    sde, losses = basic_batched_trainer(\n",
    "        γ, Δt, ln_prior, log_likelihood_vmap, net.dim, X_train, y_train,\n",
    "        method=\"euler\", stl=True, adjoint=False, optimizer=None,\n",
    "        num_steps=400, batch_size_data=100, batch_size_Θ=300,\n",
    "        batchnorm=True, device=device, lr=0.01\n",
    ")"
   ]
  },
  {
   "cell_type": "code",
   "execution_count": 19,
   "metadata": {},
   "outputs": [],
   "source": [
    "torch.cuda.empty_cache()"
   ]
  },
  {
   "cell_type": "code",
   "execution_count": 20,
   "metadata": {
    "scrolled": true
   },
   "outputs": [
    {
     "data": {
      "text/plain": [
       "[2811.31298828125,\n",
       " 2369.1650390625,\n",
       " 1828.2152099609375,\n",
       " 1564.5673828125,\n",
       " 1400.697265625,\n",
       " 1374.90966796875,\n",
       " 1284.522705078125,\n",
       " 1199.6304931640625,\n",
       " 1086.8232421875,\n",
       " 1116.80419921875,\n",
       " 1038.5657958984375,\n",
       " 1012.1867065429688,\n",
       " 1016.8108520507812,\n",
       " 1057.43212890625,\n",
       " 974.6444091796875,\n",
       " 925.6753540039062,\n",
       " 1034.7215576171875,\n",
       " 999.2057495117188,\n",
       " 1020.819580078125,\n",
       " 888.4306640625,\n",
       " 985.9926147460938,\n",
       " 877.5606689453125,\n",
       " 890.0057373046875,\n",
       " 836.1105346679688,\n",
       " 900.1718139648438,\n",
       " 855.4078369140625,\n",
       " 812.7645263671875,\n",
       " 848.1922607421875,\n",
       " 769.631591796875,\n",
       " 803.5245971679688,\n",
       " 789.7973022460938,\n",
       " 766.3369140625,\n",
       " 742.8455810546875,\n",
       " 720.9804077148438,\n",
       " 689.8682250976562,\n",
       " 642.5404052734375,\n",
       " 574.7205200195312,\n",
       " 563.939697265625,\n",
       " 608.2822875976562,\n",
       " 471.2565612792969,\n",
       " 511.5130920410156,\n",
       " 526.99560546875,\n",
       " 499.3373107910156,\n",
       " 506.62933349609375,\n",
       " 473.2432556152344,\n",
       " 502.91778564453125,\n",
       " 558.6871948242188,\n",
       " 523.7733154296875,\n",
       " 541.0185546875,\n",
       " 493.33172607421875,\n",
       " 461.48541259765625,\n",
       " 488.5887145996094,\n",
       " 451.4711608886719,\n",
       " 503.78692626953125,\n",
       " 478.6359558105469,\n",
       " 476.6675720214844,\n",
       " 457.6317443847656,\n",
       " 430.63226318359375,\n",
       " 452.1473083496094,\n",
       " 467.49932861328125,\n",
       " 473.9455261230469,\n",
       " 463.839599609375,\n",
       " 496.27923583984375,\n",
       " 425.09576416015625,\n",
       " 460.95172119140625,\n",
       " 453.7298583984375,\n",
       " 555.8643798828125,\n",
       " 477.4839172363281,\n",
       " 473.2152099609375,\n",
       " 419.6519775390625,\n",
       " 450.0883483886719,\n",
       " 458.5985412597656,\n",
       " 422.34661865234375,\n",
       " 450.9421081542969,\n",
       " 381.7828369140625,\n",
       " 403.556396484375,\n",
       " 397.5320129394531,\n",
       " 403.1480407714844,\n",
       " 418.1356201171875,\n",
       " 389.8921203613281,\n",
       " 372.179443359375,\n",
       " 385.92010498046875,\n",
       " 377.6776428222656,\n",
       " 411.8192138671875,\n",
       " 502.4632873535156,\n",
       " 393.3206787109375,\n",
       " 597.52783203125,\n",
       " 441.7552185058594,\n",
       " 551.3804931640625,\n",
       " 534.5230712890625,\n",
       " 546.004150390625,\n",
       " 476.6185607910156,\n",
       " 473.3220520019531,\n",
       " 510.1743469238281,\n",
       " 455.5815734863281,\n",
       " 462.7857971191406,\n",
       " 374.4197082519531,\n",
       " 391.7640686035156,\n",
       " 357.5906982421875,\n",
       " 342.8343811035156,\n",
       " 414.55816650390625,\n",
       " 336.5364074707031,\n",
       " 386.56781005859375,\n",
       " 327.7961120605469,\n",
       " 380.84564208984375,\n",
       " 327.6266174316406,\n",
       " 327.34808349609375,\n",
       " 287.99078369140625,\n",
       " 317.1139221191406,\n",
       " 304.9378662109375,\n",
       " 314.1187438964844,\n",
       " 287.9765930175781,\n",
       " 264.6448059082031,\n",
       " 312.2806701660156,\n",
       " 310.3951110839844,\n",
       " 308.1286926269531,\n",
       " 251.37704467773438,\n",
       " 318.254150390625,\n",
       " 273.3038330078125,\n",
       " 328.47491455078125,\n",
       " 289.6741943359375,\n",
       " 290.02703857421875,\n",
       " 242.0480194091797,\n",
       " 257.5627746582031,\n",
       " 276.90313720703125,\n",
       " 236.19229125976562,\n",
       " 268.3371276855469,\n",
       " 229.5440216064453,\n",
       " 226.41876220703125,\n",
       " 232.44371032714844,\n",
       " 209.0155792236328,\n",
       " 238.6213836669922,\n",
       " 197.0010223388672,\n",
       " 222.34986877441406,\n",
       " 217.8285675048828,\n",
       " 197.31346130371094,\n",
       " 224.0041961669922,\n",
       " 203.315185546875,\n",
       " 204.4735107421875,\n",
       " 197.9014434814453,\n",
       " 194.81588745117188,\n",
       " 195.94549560546875,\n",
       " 187.9893341064453,\n",
       " 191.08921813964844,\n",
       " 198.85467529296875,\n",
       " 190.00637817382812,\n",
       " 194.55426025390625,\n",
       " 176.84344482421875,\n",
       " 182.12857055664062,\n",
       " 171.26605224609375,\n",
       " 187.48684692382812,\n",
       " 196.19888305664062,\n",
       " 181.84539794921875,\n",
       " 177.78004455566406,\n",
       " 180.31224060058594,\n",
       " 178.52880859375,\n",
       " 176.4044647216797,\n",
       " 183.5869903564453,\n",
       " 197.7552947998047,\n",
       " 178.7165985107422,\n",
       " 177.6175079345703,\n",
       " 173.0753631591797,\n",
       " 176.011474609375,\n",
       " 175.0301055908203,\n",
       " 178.2681884765625,\n",
       " 176.7299346923828,\n",
       " 171.20187377929688,\n",
       " 174.38330078125,\n",
       " 157.65878295898438,\n",
       " 180.04783630371094,\n",
       " 169.56382751464844,\n",
       " 176.855712890625,\n",
       " 165.7599334716797,\n",
       " 169.09071350097656,\n",
       " 162.92323303222656,\n",
       " 168.77349853515625,\n",
       " 170.42849731445312,\n",
       " 175.1142120361328,\n",
       " 156.45733642578125,\n",
       " 178.97706604003906,\n",
       " 161.41224670410156,\n",
       " 175.14747619628906,\n",
       " 174.5144805908203,\n",
       " 160.4921875,\n",
       " 185.73036193847656,\n",
       " 171.73594665527344,\n",
       " 167.37625122070312,\n",
       " 158.888427734375,\n",
       " 170.39727783203125,\n",
       " 168.65240478515625,\n",
       " 164.7701873779297,\n",
       " 165.27232360839844,\n",
       " 194.78836059570312,\n",
       " 163.7613983154297,\n",
       " 202.6172637939453,\n",
       " 163.48580932617188,\n",
       " 181.51693725585938,\n",
       " 161.39935302734375,\n",
       " 194.41281127929688,\n",
       " 160.6378173828125,\n",
       " 185.51107788085938,\n",
       " 151.8529815673828,\n",
       " 195.0964813232422,\n",
       " 157.5964813232422,\n",
       " 190.92813110351562,\n",
       " 161.73764038085938,\n",
       " 186.03172302246094,\n",
       " 158.29605102539062,\n",
       " 162.47813415527344,\n",
       " 172.45652770996094,\n",
       " 160.6479949951172,\n",
       " 153.43812561035156,\n",
       " 156.40737915039062,\n",
       " 165.01544189453125,\n",
       " 164.5176544189453,\n",
       " 161.09063720703125,\n",
       " 152.9779815673828,\n",
       " 139.47592163085938,\n",
       " 159.61978149414062,\n",
       " 160.3317413330078,\n",
       " 148.6065216064453,\n",
       " 157.09164428710938,\n",
       " 152.65396118164062,\n",
       " 152.23678588867188,\n",
       " 153.65625,\n",
       " 164.7136993408203,\n",
       " 150.76388549804688,\n",
       " 160.60208129882812,\n",
       " 146.4397735595703,\n",
       " 154.51654052734375,\n",
       " 152.95773315429688,\n",
       " 165.61590576171875,\n",
       " 149.684814453125,\n",
       " 156.03665161132812,\n",
       " 164.04075622558594,\n",
       " 161.9808349609375,\n",
       " 163.48988342285156,\n",
       " 150.05862426757812,\n",
       " 162.96388244628906,\n",
       " 151.93124389648438,\n",
       " 148.7642822265625,\n",
       " 158.8914337158203,\n",
       " 158.04721069335938,\n",
       " 158.80709838867188,\n",
       " 157.657470703125,\n",
       " 151.46115112304688,\n",
       " 148.43006896972656,\n",
       " 147.1496124267578,\n",
       " 156.5599822998047,\n",
       " 149.373291015625,\n",
       " 145.5807647705078,\n",
       " 160.51953125,\n",
       " 158.1117706298828,\n",
       " 155.68927001953125,\n",
       " 150.13560485839844,\n",
       " 154.55862426757812,\n",
       " 160.33157348632812,\n",
       " 157.13803100585938,\n",
       " 150.34727478027344,\n",
       " 153.27066040039062,\n",
       " 146.2478485107422,\n",
       " 153.92654418945312,\n",
       " 158.27520751953125,\n",
       " 157.7364044189453,\n",
       " 148.23602294921875,\n",
       " 143.44656372070312,\n",
       " 157.4288330078125,\n",
       " 150.54505920410156,\n",
       " 161.98846435546875,\n",
       " 158.53382873535156,\n",
       " 157.7664031982422,\n",
       " 167.43185424804688,\n",
       " 152.4081268310547,\n",
       " 164.29034423828125,\n",
       " 150.35377502441406,\n",
       " 160.3736572265625,\n",
       " 155.9654541015625,\n",
       " 159.41053771972656,\n",
       " 160.6873779296875,\n",
       " 162.12486267089844,\n",
       " 150.72122192382812,\n",
       " 157.13888549804688,\n",
       " 154.86349487304688,\n",
       " 150.55734252929688,\n",
       " 148.31585693359375,\n",
       " 157.72299194335938,\n",
       " 155.51397705078125,\n",
       " 155.99806213378906,\n",
       " 166.98036193847656,\n",
       " 148.38523864746094,\n",
       " 171.18057250976562,\n",
       " 151.14646911621094,\n",
       " 167.334716796875,\n",
       " 153.1064453125,\n",
       " 162.3092803955078,\n",
       " 148.95359802246094,\n",
       " 152.9206085205078,\n",
       " 156.3590850830078,\n",
       " 156.7341766357422,\n",
       " 152.0836639404297,\n",
       " 166.68856811523438,\n",
       " 159.76040649414062,\n",
       " 166.8799285888672,\n",
       " 154.63722229003906,\n",
       " 173.085205078125,\n",
       " 149.83700561523438,\n",
       " 160.19882202148438,\n",
       " 152.77383422851562,\n",
       " 167.90322875976562,\n",
       " 165.26028442382812,\n",
       " 162.84999084472656,\n",
       " 177.14938354492188,\n",
       " 165.30413818359375,\n",
       " 167.53424072265625,\n",
       " 161.33169555664062,\n",
       " 168.26620483398438,\n",
       " 152.5620880126953,\n",
       " 175.0785675048828,\n",
       " 143.89657592773438,\n",
       " 161.279296875,\n",
       " 137.832763671875,\n",
       " 161.38778686523438,\n",
       " 151.403564453125,\n",
       " 147.91893005371094,\n",
       " 146.23133850097656,\n",
       " 152.127197265625,\n",
       " 156.5790557861328,\n",
       " 157.9221649169922,\n",
       " 142.48329162597656,\n",
       " 151.88258361816406,\n",
       " 152.220703125,\n",
       " 151.48577880859375,\n",
       " 144.29083251953125,\n",
       " 147.69241333007812,\n",
       " 154.54095458984375,\n",
       " 155.25131225585938,\n",
       " 154.38711547851562,\n",
       " 153.018798828125,\n",
       " 155.07875061035156,\n",
       " 174.14549255371094,\n",
       " 164.18499755859375,\n",
       " 146.95156860351562,\n",
       " 150.87481689453125,\n",
       " 158.23863220214844,\n",
       " 175.78988647460938,\n",
       " 148.0961456298828,\n",
       " 156.20169067382812,\n",
       " 144.73236083984375,\n",
       " 171.16542053222656,\n",
       " 150.19729614257812,\n",
       " 153.21499633789062,\n",
       " 148.65357971191406,\n",
       " 161.65631103515625,\n",
       " 156.1142578125,\n",
       " 153.84075927734375,\n",
       " 154.39183044433594,\n",
       " 154.0417938232422,\n",
       " 164.0221710205078,\n",
       " 161.12210083007812,\n",
       " 147.9029541015625,\n",
       " 162.0308380126953,\n",
       " 155.51795959472656,\n",
       " 159.17153930664062,\n",
       " 174.9652862548828,\n",
       " 146.25364685058594,\n",
       " 153.49954223632812,\n",
       " 153.79351806640625,\n",
       " 153.59262084960938,\n",
       " 149.21356201171875,\n",
       " 162.49038696289062,\n",
       " 152.35711669921875,\n",
       " 160.72921752929688,\n",
       " 148.56141662597656,\n",
       " 160.2305145263672,\n",
       " 153.7804718017578,\n",
       " 157.48167419433594,\n",
       " 143.54177856445312,\n",
       " 147.53005981445312,\n",
       " 145.358154296875,\n",
       " 137.45401000976562,\n",
       " 148.4217529296875,\n",
       " 142.53172302246094,\n",
       " 145.17481994628906,\n",
       " 148.1619415283203,\n",
       " 157.9010772705078,\n",
       " 143.48414611816406,\n",
       " 152.94981384277344,\n",
       " 147.32957458496094,\n",
       " 145.4690399169922,\n",
       " 152.2764434814453,\n",
       " 144.61346435546875,\n",
       " 140.19032287597656,\n",
       " 146.0260772705078,\n",
       " 155.0460662841797,\n",
       " 142.28294372558594,\n",
       " 151.25611877441406,\n",
       " 152.4665069580078,\n",
       " 146.86514282226562,\n",
       " 148.8861083984375,\n",
       " 149.76231384277344]"
      ]
     },
     "execution_count": 20,
     "metadata": {},
     "output_type": "execute_result"
    }
   ],
   "source": [
    "losses"
   ]
  },
  {
   "cell_type": "code",
   "execution_count": 21,
   "metadata": {},
   "outputs": [
    {
     "data": {
      "text/plain": [
       "[<matplotlib.lines.Line2D at 0x200260b8850>]"
      ]
     },
     "execution_count": 21,
     "metadata": {},
     "output_type": "execute_result"
    },
    {
     "data": {
      "image/png": "[encoded data removed]",
      "text/plain": [
       "<Figure size 432x288 with 1 Axes>"
      ]
     },
     "metadata": {
      "needs_background": "light"
     },
     "output_type": "display_data"
    }
   ],
   "source": [
    "plt.plot(losses[:])"
   ]
  },
  {
   "cell_type": "code",
   "execution_count": 22,
   "metadata": {},
   "outputs": [],
   "source": [
    "t_size = int(math.ceil(1.0/Δt))\n",
    "ts = torch.linspace(0, 1, t_size).to(device)\n",
    "no_posterior_samples = 100\n",
    "Θ_0 = torch.zeros((no_posterior_samples, net.dim)).to(device)\n",
    "\n",
    "torch.cuda.empty_cache()\n",
    "Θ_1 = torchsde.sdeint(sde, Θ_0, ts, dt=Δt)[-1,...]"
   ]
  },
  {
   "cell_type": "code",
   "execution_count": 23,
   "metadata": {},
   "outputs": [
    {
     "data": {
      "text/plain": [
       "(array([ 4.,  6., 14., 18., 13., 13., 11., 17.,  2.,  2.]),\n",
       " array([-0.02062488,  0.07476974,  0.17016436,  0.265559  ,  0.3609536 ,\n",
       "         0.4563482 ,  0.55174285,  0.64713746,  0.7425321 ,  0.8379267 ,\n",
       "         0.9333213 ], dtype=float32),\n",
       " <a list of 10 Patch objects>)"
      ]
     },
     "execution_count": 23,
     "metadata": {},
     "output_type": "execute_result"
    },
    {
     "data": {
      "image/png": "[encoded data removed]",
      "text/plain": [
       "<Figure size 432x288 with 3 Axes>"
      ]
     },
     "metadata": {
      "needs_background": "light"
     },
     "output_type": "display_data"
    }
   ],
   "source": [
    "torch.cuda.empty_cache()\n",
    "fig, (ax1,ax2,ax3) = plt.subplots(1,3)\n",
    "\n",
    "ax1.hist(Θ_1[:,0].cpu().detach().numpy())\n",
    "ax2.hist(Θ_1[:,1].cpu().detach().numpy())\n",
    "ax3.hist(Θ_1[:,-23].cpu().detach().numpy())"
   ]
  },
  {
   "cell_type": "code",
   "execution_count": 24,
   "metadata": {},
   "outputs": [
    {
     "name": "stderr",
     "output_type": "stream",
     "text": [
      "C:\\Users\\vargf\\AppData\\Local\\Temp/ipykernel_32844/162794254.py:55: UserWarning: torch.vmap is an experimental prototype that is subject to change and/or deletion. Please use at your own risk. There may be unexpected performance cliffs due to certain operators not being implemented. To see detailed performance warnings please use `torch._C._debug_only_display_vmap_fallback_warnings(True) before the call to `vmap`.\n",
      "  batched_preds = torch._vmap_internals.vmap(preds_func)\n"
     ]
    }
   ],
   "source": [
    "# pred = net.map_forward(X_train, Θ_1.mean(dim=0).reshape(1,-1))#.mean(axis=1)\n",
    "end = 6.5\n",
    "X_train_2 = torch.linspace(-end, end, 100).reshape(-1,1).to(device)\n",
    "\n",
    "pred_ = net.map_forward(X_train_2, Θ_1)\n",
    "pred = pred_.mean(axis=1)\n",
    "\n",
    "σ  = pred_.std(axis=1)"
   ]
  },
  {
   "cell_type": "code",
   "execution_count": 25,
   "metadata": {},
   "outputs": [
    {
     "data": {
      "text/plain": [
       "(torch.Size([100]), torch.Size([100]))"
      ]
     },
     "execution_count": 25,
     "metadata": {},
     "output_type": "execute_result"
    }
   ],
   "source": [
    "σ.shape, pred.shape"
   ]
  },
  {
   "cell_type": "code",
   "execution_count": 26,
   "metadata": {},
   "outputs": [
    {
     "data": {
      "image/png": "[encoded data removed]",
      "text/plain": [
       "<Figure size 720x432 with 1 Axes>"
      ]
     },
     "metadata": {
      "needs_background": "light"
     },
     "output_type": "display_data"
    }
   ],
   "source": [
    "fig, ax = plt.subplots(figsize=(10, 6), tight_layout=True)\n",
    "ax.plot(X_test.detach().cpu(), f, 'b', label = 'f(x)')\n",
    "ax.plot(X_train.detach().cpu(), y_train.detach().cpu(), 'kP', ms = 9, label = 'y(x) = f(x) + $\\epsilon$')\n",
    "ax.plot(X_train_2.detach().cpu(), pred.detach().cpu(), color=\"red\", label=\"pred\")\n",
    "\n",
    "σ_p , σ_m = (pred-2*σ).detach().cpu().numpy(), (pred+2*σ).detach().cpu().numpy()\n",
    "ax.fill_between(X_train_2.detach().cpu().flatten(), σ_p.flatten() , σ_m.flatten(), alpha=.2)\n",
    "ax.legend(loc = 'upper left')\n",
    "ax.set_title('Target function with noisy observations ')\n",
    "\n",
    "plt.show()"
   ]
  },
  {
   "cell_type": "code",
   "execution_count": 27,
   "metadata": {},
   "outputs": [
    {
     "data": {
      "text/plain": [
       "Text(0.5, 1.0, 'Sampled Posterior Weights')"
      ]
     },
     "execution_count": 27,
     "metadata": {},
     "output_type": "execute_result"
    },
    {
     "data": {
      "image/png": "[encoded data removed]",
      "text/plain": [
       "<Figure size 1080x360 with 2 Axes>"
      ]
     },
     "metadata": {
      "needs_background": "light"
     },
     "output_type": "display_data"
    }
   ],
   "source": [
    "\n",
    "fig, (ax, ax1) = plt.subplots(1,2, figsize=(15, 5), tight_layout=True)\n",
    "# ax.plot(X_test.detach().cpu(), f, 'b', label = 'f(x)')\n",
    "ax.plot(X_train.detach().cpu(), y_train.detach().cpu(), 'kP', ms = 9, label = 'y(x) = f(x) + $\\epsilon$')\n",
    "# ax.plot(X_train.detach().cpu(), pred.detach().cpu(), color=\"red\", label=\"pred\")\n",
    "\n",
    "\n",
    "zero_ind = torch.abs(X_train).argmin()\n",
    "\n",
    "thresh = 10\n",
    "label_2, label_1 = True, True\n",
    "\n",
    "end=7.6\n",
    "X_train_2 = torch.linspace(-end, end, 100).reshape(-1,1).to(device)\n",
    "\n",
    "for i in range(30):\n",
    "#     print(Θ_1[i,:3])\n",
    "    θ = Θ_1[i,:,]\n",
    "    pred = net.forward(X_train_2, θ).mean(axis=1)\n",
    "    pred_min, pred_max = pred[zero_ind-thresh], pred[zero_ind+thresh]\n",
    "    label = True if i==0 else False\n",
    "    if torch.abs(pred_min - pred_max) < 0.25:\n",
    "        ax.plot(\n",
    "            X_train_2.detach().cpu(), pred.detach().cpu(),\n",
    "            alpha=0.3, color=\"red\", label=\"Posterior function Samples Flat\" if label_1 else None\n",
    "        )\n",
    "        ax1.plot(θ.detach().cpu(),  alpha=0.5, color=\"red\", label=\"Posterior weights Samples Flat\"  if label_1 else None)\n",
    "        label_1 = False\n",
    "    else:\n",
    "        ax.plot(\n",
    "            X_train_2.detach().cpu(), pred.detach().cpu(),\n",
    "            alpha=0.3, color=\"green\", label=\"Posterior fuctions Samples Good\" if label_2 else None\n",
    "        )\n",
    "        ax1.plot(θ.detach().cpu(),  alpha=0.5, color=\"green\", label=\"Posterior weights Samples Good\" if label_2 else None )\n",
    "        label_2 = False \n",
    "        \n",
    "        \n",
    "ax.legend(loc = 'upper left')\n",
    "ax.set_title('Target function with noisy observations ')\n",
    "\n",
    "ax1.legend(loc = 'upper left')\n",
    "ax1.set_title('Sampled Posterior Weights')\n",
    "# plt.plot(X_train.detach().cpu(), y_train.detach().cpu())\n",
    "\n"
   ]
  },
  {
   "cell_type": "markdown",
   "metadata": {},
   "source": [
    "# MAP Baseline - Answer is ok now, wildly overfits compared to bayesnet"
   ]
  },
  {
   "cell_type": "code",
   "execution_count": 54,
   "metadata": {},
   "outputs": [
    {
     "data": {
      "application/vnd.jupyter.widget-view+json": {
       "model_id": "366bdd9f03604c3e9d04d7eedd24883a",
       "version_major": 2,
       "version_minor": 0
      },
      "text/plain": [
       "  0%|          | 0/2000 [00:00<?, ?it/s]"
      ]
     },
     "metadata": {},
     "output_type": "display_data"
    }
   ],
   "source": [
    "net_map = OnedRegressionForwardNet(1,1, device=device, depth=1, width=10)\n",
    "\n",
    "Θ_map = torch.normal(0,1, (1,net_map.dim), requires_grad=True, device=device) # torch.zeros((1, dim), requires_grad=True, device=device)\n",
    "optimizer_map = torch.optim.Adam([Θ_map], lr=0.5)\n",
    "#     optimizer = torch.optim.LBFGS(gpr.parameters(), lr=0.01)\n",
    "\n",
    "losses_map = []\n",
    "num_steps = 2000\n",
    "for i in tqdm(range(num_steps)):\n",
    "    optimizer_map.zero_grad()\n",
    "\n",
    "    if isinstance(optimizer_map, torch.optim.LBFGS):\n",
    "        def closure_map():\n",
    "            loss_map = log_likelihood_vmap()\n",
    "            optimizer_map.zero_grad()\n",
    "            loss_map.backward()\n",
    "            return loss\n",
    "\n",
    "        optimizer_map.step(closure_map)\n",
    "        losses_map.append(closure_map().item())\n",
    "    else:\n",
    "        loss_map = -(log_likelihood_vmap(Θ_map, X_train, y_train, net=net_map) + 0 * ln_prior(Θ_map))\n",
    "        optimizer_map.zero_grad()\n",
    "        loss_map.backward()\n",
    "#         print(Θ_map.sum())\n",
    "\n",
    "        optimizer_map.step()\n",
    "#         print(loss_map.item())\n",
    "        losses_map.append(loss_map.item())"
   ]
  },
  {
   "cell_type": "code",
   "execution_count": 357,
   "metadata": {},
   "outputs": [
    {
     "name": "stderr",
     "output_type": "stream",
     "text": [
      "C:\\Users\\vargf\\AppData\\Local\\Temp/ipykernel_25680/2698751039.py:47: UserWarning: torch.vmap is an experimental prototype that is subject to change and/or deletion. Please use at your own risk. There may be unexpected performance cliffs due to certain operators not being implemented. To see detailed performance warnings please use `torch._C._debug_only_display_vmap_fallback_warnings(True) before the call to `vmap`.\n",
      "  batched_preds = torch._vmap_internals.vmap(preds_func)\n"
     ]
    }
   ],
   "source": [
    "pred = net_map.map_forward(X_train, Θ_map)"
   ]
  },
  {
   "cell_type": "code",
   "execution_count": 358,
   "metadata": {},
   "outputs": [
    {
     "data": {
      "text/plain": [
       "tensor([[ 0.0689, -1.3282, -1.8303, -0.0302,  0.7726,  0.6816, -0.0398, -0.2844,\n",
       "         -0.8827, -1.2118, -4.2557,  0.6610, -0.8504, -0.2750, -3.0124, -1.6717,\n",
       "         -1.9313, -1.2023, -3.1821, -4.1283,  0.6745, -0.8429,  0.6224,  0.9746,\n",
       "          0.9008, -0.2274,  0.5632,  0.6936, -0.2356, -0.0162,  1.0680]],\n",
       "       device='cuda:0', requires_grad=True)"
      ]
     },
     "execution_count": 358,
     "metadata": {},
     "output_type": "execute_result"
    }
   ],
   "source": [
    "Θ_map"
   ]
  },
  {
   "cell_type": "code",
   "execution_count": 359,
   "metadata": {},
   "outputs": [
    {
     "data": {
      "text/plain": [
       "[<matplotlib.lines.Line2D at 0x22bbc424a90>]"
      ]
     },
     "execution_count": 359,
     "metadata": {},
     "output_type": "execute_result"
    },
    {
     "data": {
      "image/png": "[encoded data removed]",
      "text/plain": [
       "<Figure size 432x288 with 1 Axes>"
      ]
     },
     "metadata": {
      "needs_background": "light"
     },
     "output_type": "display_data"
    }
   ],
   "source": [
    "plt.plot(losses_map[:])"
   ]
  },
  {
   "cell_type": "code",
   "execution_count": 360,
   "metadata": {},
   "outputs": [
    {
     "data": {
      "text/plain": [
       "Text(0.5, 1.0, 'Target function with noisy observations ')"
      ]
     },
     "execution_count": 360,
     "metadata": {},
     "output_type": "execute_result"
    },
    {
     "data": {
      "image/png": "[encoded data removed]",
      "text/plain": [
       "<Figure size 432x288 with 1 Axes>"
      ]
     },
     "metadata": {
      "needs_background": "light"
     },
     "output_type": "display_data"
    }
   ],
   "source": [
    "# plt.plot(X_train.detach().cpu(), pred.flatten().detach().cpu() )\n",
    "\n",
    "fig, ax = plt.subplots(figsize=(6, 4), tight_layout=True)\n",
    "ax.plot(X_test.detach().cpu(), f, 'b', label = 'f(x)')\n",
    "ax.plot(X_train.detach().cpu(), y_train.detach().cpu(), 'kP', ms = 9, label = 'y(x) = f(x) + $\\epsilon$')\n",
    "ax.plot(X_train.detach().cpu(), pred.detach().cpu(), color=\"red\", label=\"pred\")\n",
    "ax.legend(loc = 'upper left')\n",
    "ax.set_title('Target function with noisy observations ')"
   ]
  },
  {
   "cell_type": "code",
   "execution_count": 364,
   "metadata": {},
   "outputs": [
    {
     "data": {
      "image/png": "[encoded data removed]",
      "text/plain": [
       "<Figure size 432x288 with 1 Axes>"
      ]
     },
     "metadata": {
      "needs_background": "light"
     },
     "output_type": "display_data"
    }
   ],
   "source": [
    "plt.plot(Θ_1.mean(dim=0).detach().cpu())\n",
    "plt.plot(Θ_map.detach().cpu().flatten());"
   ]
  },
  {
   "cell_type": "code",
   "execution_count": 362,
   "metadata": {},
   "outputs": [
    {
     "data": {
      "text/plain": [
       "torch.Size([1, 31])"
      ]
     },
     "execution_count": 362,
     "metadata": {},
     "output_type": "execute_result"
    }
   ],
   "source": [
    "Θ_map.shape"
   ]
  },
  {
   "cell_type": "code",
   "execution_count": 354,
   "metadata": {},
   "outputs": [
    {
     "data": {
      "text/plain": [
       "torch.Size([100, 31])"
      ]
     },
     "execution_count": 354,
     "metadata": {},
     "output_type": "execute_result"
    }
   ],
   "source": [
    "Θ_1.shape"
   ]
  },
  {
   "cell_type": "code",
   "execution_count": 363,
   "metadata": {},
   "outputs": [
    {
     "data": {
      "text/plain": [
       "torch.Size([100])"
      ]
     },
     "execution_count": 363,
     "metadata": {},
     "output_type": "execute_result"
    }
   ],
   "source": [
    "Θ_1.mean(dim=1).shape"
   ]
  },
  {
   "cell_type": "code",
   "execution_count": null,
   "metadata": {},
   "outputs": [],
   "source": []
  }
 ],
 "metadata": {
  "kernelspec": {
   "display_name": "Python 3 (ipykernel)",
   "language": "python",
   "name": "python3"
  },
  "language_info": {
   "codemirror_mode": {
    "name": "ipython",
    "version": 3
   },
   "file_extension": ".py",
   "mimetype": "text/x-python",
   "name": "python",
   "nbconvert_exporter": "python",
   "pygments_lexer": "ipython3",
   "version": "3.8.5"
  },
  "toc": {
   "base_numbering": 1,
   "nav_menu": {},
   "number_sections": true,
   "sideBar": true,
   "skip_h1_title": false,
   "title_cell": "Table of Contents",
   "title_sidebar": "Contents",
   "toc_cell": false,
   "toc_position": {},
   "toc_section_display": true,
   "toc_window_display": false
  }
 },
 "nbformat": 4,
 "nbformat_minor": 4
}
