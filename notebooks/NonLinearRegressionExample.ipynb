{
 "cells": [
  {
   "cell_type": "code",
   "execution_count": 2,
   "metadata": {},
   "outputs": [],
   "source": [
    "import torch\n",
    "import torch.nn.functional as F\n",
    "\n",
    "import torchsde\n",
    "import math\n",
    "import matplotlib.pyplot as plt\n",
    "\n",
    "import numpy as np\n",
    "\n",
    "from tqdm.notebook import tqdm\n",
    "\n",
    "from torch import _vmap_internals"
   ]
  },
  {
   "cell_type": "code",
   "execution_count": 3,
   "metadata": {},
   "outputs": [],
   "source": [
    "from cfollmer.objectives import log_g, relative_entropy_control_cost\n",
    "from cfollmer.sampler_utils import FollmerSDE"
   ]
  },
  {
   "cell_type": "markdown",
   "metadata": {},
   "source": [
    "## Loading the StepFunc dataset"
   ]
  },
  {
   "cell_type": "code",
   "execution_count": 23,
   "metadata": {},
   "outputs": [
    {
     "data": {
      "image/png": "[encoded data removed]",
      "text/plain": [
       "<Figure size 432x288 with 1 Axes>"
      ]
     },
     "metadata": {
      "needs_background": "light"
     },
     "output_type": "display_data"
    }
   ],
   "source": [
    "device = \"cuda\" if torch.cuda.is_available() else \"cpu\"\n",
    "\n",
    "\n",
    "# Test inputs\n",
    "num_test_samples = 100\n",
    "X_test = np.linspace(-4, 4, num_test_samples).reshape(num_test_samples,1)\n",
    "\n",
    "# Noise free training inputs\n",
    "X_train = np.array([-3.5, -3.4, -3,-2.2, -2, -0.9,-0.4, -0.01,0,0.1, 0.3,0.7, 1, 1.6 , 2.4, 3.0]).reshape(-1,1)\n",
    "#f_train = np.cos(X_train) \n",
    "f_train = np.heaviside(X_train, 0)\n",
    "\n",
    "# Noise-free training outputs\n",
    "#f = np.cos(X_test)\n",
    "f = np.heaviside(X_test, 0)\n",
    "y_test  = f\n",
    "\n",
    "# Noisy training Inputs with additive Gaussian noise (zero-mean, variance sigma_n)\n",
    "sigma_n = 0.1\n",
    "\n",
    "mu = np.zeros(X_train.size)\n",
    "epsilon = np.random.multivariate_normal(mu, sigma_n**2 * np.eye(X_train.size))\n",
    "\n",
    "# Noisy targets\n",
    "y_train = f_train + epsilon.reshape(X_train.size,1)\n",
    "\n",
    "# Noisy observations\n",
    "fig, ax = plt.subplots(figsize=(6, 4), tight_layout=True)\n",
    "ax.plot(X_test, f, 'b', label = 'f(x)')\n",
    "ax.plot(X_train, y_train, 'kP', ms = 9, label = 'y(x) = f(x) + $\\epsilon$')\n",
    "ax.legend(loc = 'upper left')\n",
    "ax.set_title('Target function with noisy observations ')\n",
    "\n",
    "plt.show()"
   ]
  },
  {
   "cell_type": "code",
   "execution_count": 24,
   "metadata": {},
   "outputs": [],
   "source": [
    "device = \"cuda\" if torch.cuda.is_available() else \"cpu\"\n",
    "\n",
    "\n",
    "\n",
    "X_train, X_test, y_train, y_test = \\\n",
    "    torch.tensor(X_train, dtype=torch.float32, device=device), \\\n",
    "    torch.tensor(X_test, dtype=torch.float32, device=device), \\\n",
    "    torch.tensor(y_train, dtype=torch.float32, device=device), \\\n",
    "    torch.tensor(y_test, dtype=torch.float32, device=device) "
   ]
  },
  {
   "cell_type": "markdown",
   "metadata": {},
   "source": [
    "$$\\DeclareMathOperator*{\\argmin}{arg\\,min}$$\n",
    "$$\\def\\E{{\\mathbb{E}}}$$\n",
    "$$\\def\\rvu{{\\mathbf{u}}}$$\n",
    "$$\\def\\rvTheta{{\\bm{\\Theta}}}$$\n",
    "$$\\def\\gU{{\\mathcal{U}}}$$\n",
    "$$\\def\\mX{{\\mathbf{X}}}$$"
   ]
  },
  {
   "cell_type": "markdown",
   "metadata": {},
   "source": [
    "## Controlled Schrodinger Follmer Sampler\n",
    "\n",
    "The objevtive we are trying to implement is:\n",
    "\n",
    "\\begin{align}\n",
    "  \\mathbf{u}_t^{*}=  \\argmin_{\\rvu_t \\in \\mathcal{U}}\\mathbb{E}\\left[\\frac{1}{2\\gamma}\\int_0^1||\\rvu(t, \\Theta_t)||^2 dt - \\ln\\left(\\frac{ p(\\mX | \\Theta_1)p(\\Theta_1)}{\\mathcal{N}(\\Theta_1|\\mathbf{0}, \\gamma \\mathbb{I} )}\\right)\\right] \\\n",
    "\\end{align}\n",
    "\n",
    "Where:\n",
    "\\begin{align}\n",
    "d\\Theta_t = \\rvu(t, \\Theta_t)dt + \\sqrt{\\gamma} dB_t\n",
    "\\end{align}\n"
   ]
  },
  {
   "cell_type": "code",
   "execution_count": 115,
   "metadata": {},
   "outputs": [],
   "source": [
    "import torch.nn.functional as F\n",
    "\n",
    "\n",
    "class OnedRegressionForwardNet(object):\n",
    "    \n",
    "    def __init__(self, input_dim=1, output_dim=1, width_seq=None, depth=None, device=\"cpu\"):\n",
    "        \n",
    "        self.device = device\n",
    "        self.output_dim = output_dim\n",
    "        self.input_dim = input_dim\n",
    "        \n",
    "        \n",
    "        if not depth:\n",
    "            self.depth = 2\n",
    "        if not width_seq:\n",
    "            self.width = 20\n",
    "            self.width_seq = [self.width] * self.depth\n",
    "            self.shapes = [(self.width_seq[i-1], self.width_seq[i])  for i in range(1,self.depth)]\n",
    "            self.shapes += [(self.width_seq[-1], self.output_dim)]\n",
    "            self.shapes = [(self.output_dim, self.width_seq[0])] + self.shapes\n",
    "        \n",
    "        self.dim = sum([wx * wy for wx, wy in self.shapes])\n",
    "    \n",
    "\n",
    "        \n",
    "    def forward(self, x, Θ):\n",
    "        index = 0\n",
    "        for wx, wy in self.shapes[:-1]:\n",
    "            x = F.linear(x, Θ[index: index + wx * wy].reshape(wy, wx))\n",
    "            x = F.relu(x)\n",
    "            index = wx * wy\n",
    "        wx, wy = self.shapes[-1]\n",
    "        x = F.linear(x, Θ[index: index + wx * wy].reshape(wy, wx))\n",
    "        return x.to(self.device)\n",
    "    \n",
    "    def map_forward(self, x, Θ):\n",
    "        preds_func = lambda θ: self.forward(x, θ)\n",
    "        batched_preds = torch._vmap_internals.vmap(preds_func)\n",
    "        preds = torch.hstack(list(map(preds_func, Θ)))\n",
    "        return preds\n",
    "        "
   ]
  },
  {
   "cell_type": "code",
   "execution_count": 126,
   "metadata": {},
   "outputs": [],
   "source": [
    "net = OnedRegressionForwardNet(1,1, device=device)\n",
    "\n",
    "def ln_prior(Θ, σ_w=1.0):\n",
    "    \"\"\"\n",
    "    Logistic regresion bayesian prior\n",
    "    \"\"\"\n",
    "    return -0.5 * (Θ**2).sum(axis=1) / σ_w**2\n",
    "\n",
    "import higher\n",
    "\n",
    "def log_likelihood_vmap(Θ, X, y):\n",
    "    \"\"\"\n",
    "    Hoping this implementation is less buggy / faster\n",
    "    \n",
    "    still feels a bit slow.\n",
    "    \"\"\"\n",
    "    preds_func = lambda θ: net.forward(X, θ)\n",
    "#     batched_preds = torch._vmap_internals.vmap(preds_func)\n",
    "#     import pdb; pdb.set_trace()\n",
    "    preds = torch.hstack(list(map(preds_func, Θ)))\n",
    "\n",
    "    diff = preds - y\n",
    "    diff_sq_fld = -0.5 * (diff**2).sum(dim=0)\n",
    "\n",
    "    return diff_sq_fld"
   ]
  },
  {
   "cell_type": "code",
   "execution_count": 127,
   "metadata": {},
   "outputs": [],
   "source": [
    "Δt=0.05\n",
    "t_size = int(math.ceil(1.0/Δt))\n",
    "dim = net.dim\n",
    "\n",
    "ts = torch.linspace(0, 1, t_size).to(device)\n",
    "no_posterior_samples = 50\n",
    "\n",
    "sde = FollmerSDE(dim, dim, no_posterior_samples, 1.0, device=device).to(device)\n",
    "Θ_0 = torch.zeros((no_posterior_samples, net.dim)).to(device) # Θ_0 ~ δ_0\n",
    "\n",
    "# Initial state y0, the SDE is solved over the interval [ts[0], ts[-1]].\n",
    "# ys will have shape (t_size, batch_size, state_size)\n",
    "ys = torchsde.sdeint(sde, Θ_0, ts, dt=Δt)"
   ]
  },
  {
   "cell_type": "code",
   "execution_count": 128,
   "metadata": {},
   "outputs": [
    {
     "data": {
      "text/plain": [
       "torch.Size([50, 440])"
      ]
     },
     "execution_count": 128,
     "metadata": {},
     "output_type": "execute_result"
    }
   ],
   "source": [
    "Θ_0.shape\n"
   ]
  },
  {
   "cell_type": "code",
   "execution_count": 129,
   "metadata": {},
   "outputs": [
    {
     "data": {
      "text/plain": [
       "tensor(4577.1299, device='cuda:0', grad_fn=<MeanBackward0>)"
      ]
     },
     "execution_count": 129,
     "metadata": {},
     "output_type": "execute_result"
    }
   ],
   "source": [
    "relative_entropy_control_cost(sde, Θ_0, X_train, y_train, \n",
    "                              gaussian_prior, log_likelihood_vmap, γ=1.0, device=device)\n"
   ]
  },
  {
   "cell_type": "code",
   "execution_count": 131,
   "metadata": {},
   "outputs": [
    {
     "name": "stdout",
     "output_type": "stream",
     "text": [
      "20\n"
     ]
    },
    {
     "data": {
      "application/vnd.jupyter.widget-view+json": {
       "model_id": "aaf5435f3d3d476e88b44e15cc2d8b67",
       "version_major": 2,
       "version_minor": 0
      },
      "text/plain": [
       "  0%|          | 0/300 [00:00<?, ?it/s]"
      ]
     },
     "metadata": {},
     "output_type": "display_data"
    }
   ],
   "source": [
    "γ = 1.0\n",
    "Δt=0.05\n",
    "t_size = int(math.ceil(1.0/Δt))\n",
    "print(t_size)\n",
    "ts = torch.linspace(0, 1, t_size).to(device)\n",
    "\n",
    "sde = FollmerSDE(dim, dim, no_posterior_samples  , γ=γ, device=device).to(device)\n",
    "optimizer = torch.optim.Adam(sde.μ.parameters(), lr=0.01, weight_decay =1)\n",
    "#     optimizer = torch.optim.LBFGS(gpr.parameters(), lr=0.01)\n",
    "losses = []\n",
    "num_steps = 300\n",
    "# with torch.autograd.set_detect_anomaly(True):\n",
    "for i in tqdm(range(num_steps)):\n",
    "    optimizer.zero_grad()\n",
    "\n",
    "    if isinstance(optimizer, torch.optim.LBFGS):\n",
    "        def closure():\n",
    "            loss = relative_entropy_control_cost(\n",
    "                sde, Θ_0.float(),\n",
    "                X_train.float(), y_train.float(),\n",
    "                ln_prior, log_likelihood_vmap, γ=γ\n",
    "            )\n",
    "            optimizer.zero_grad()\n",
    "            loss.backward()\n",
    "            return loss\n",
    "\n",
    "        optimizer.step(closure)\n",
    "        losses.append(closure().item())\n",
    "    else:\n",
    "        loss = relative_entropy_control_cost(\n",
    "            sde, Θ_0,\n",
    "            X_train, y_train,\n",
    "            ln_prior, log_likelihood_vmap, γ=γ\n",
    "        )\n",
    "        optimizer.zero_grad()\n",
    "        loss.backward()\n",
    "\n",
    "        optimizer.step()\n",
    "        losses.append(loss.item())"
   ]
  },
  {
   "cell_type": "code",
   "execution_count": 132,
   "metadata": {
    "scrolled": true
   },
   "outputs": [
    {
     "data": {
      "text/plain": [
       "[2969.14794921875,\n",
       " 2816.248779296875,\n",
       " 3027.647705078125,\n",
       " 3713.326904296875,\n",
       " 2357.14306640625,\n",
       " 2483.888427734375,\n",
       " 1974.614990234375,\n",
       " 1254.853759765625,\n",
       " 1149.03125,\n",
       " 673.8910522460938,\n",
       " 1679.2774658203125,\n",
       " 511.4049987792969,\n",
       " 380.05419921875,\n",
       " 352.82177734375,\n",
       " 841.4112548828125,\n",
       " 517.5489501953125,\n",
       " 486.25103759765625,\n",
       " 451.2969970703125,\n",
       " 350.8092956542969,\n",
       " 407.5297546386719,\n",
       " 316.0511169433594,\n",
       " 304.17724609375,\n",
       " 303.7166748046875,\n",
       " 319.7416076660156,\n",
       " 282.46600341796875,\n",
       " 293.3874816894531,\n",
       " 430.29095458984375,\n",
       " 266.7747497558594,\n",
       " 242.58143615722656,\n",
       " 362.15087890625,\n",
       " 233.86907958984375,\n",
       " 375.38922119140625,\n",
       " 251.5384063720703,\n",
       " 279.15472412109375,\n",
       " 254.46707153320312,\n",
       " 339.0052795410156,\n",
       " 252.3767852783203,\n",
       " 248.6927032470703,\n",
       " 223.12518310546875,\n",
       " 290.73382568359375,\n",
       " 240.529296875,\n",
       " 278.8080749511719,\n",
       " 318.1357421875,\n",
       " 272.6955261230469,\n",
       " 258.3113098144531,\n",
       " 207.70835876464844,\n",
       " 246.27810668945312,\n",
       " 240.84344482421875,\n",
       " 350.125,\n",
       " 259.8294372558594,\n",
       " 230.76084899902344,\n",
       " 268.6111145019531,\n",
       " 220.67620849609375,\n",
       " 308.3493347167969,\n",
       " 222.90386962890625,\n",
       " 163.94154357910156,\n",
       " 246.5099334716797,\n",
       " 183.77777099609375,\n",
       " 267.3443603515625,\n",
       " 181.237060546875,\n",
       " 321.05023193359375,\n",
       " 218.8757781982422,\n",
       " 282.7213134765625,\n",
       " 181.72756958007812,\n",
       " 200.447265625,\n",
       " 224.1927032470703,\n",
       " 200.32167053222656,\n",
       " 259.21728515625,\n",
       " 201.40968322753906,\n",
       " 215.40513610839844,\n",
       " 188.43067932128906,\n",
       " 224.0003662109375,\n",
       " 226.25338745117188,\n",
       " 199.76101684570312,\n",
       " 296.3720397949219,\n",
       " 195.8621063232422,\n",
       " 205.8690185546875,\n",
       " 215.21864318847656,\n",
       " 268.4609680175781,\n",
       " 207.0651092529297,\n",
       " 234.67002868652344,\n",
       " 200.58694458007812,\n",
       " 192.08279418945312,\n",
       " 252.80506896972656,\n",
       " 185.37451171875,\n",
       " 240.16200256347656,\n",
       " 223.56007385253906,\n",
       " 343.2508544921875,\n",
       " 176.617919921875,\n",
       " 149.62554931640625,\n",
       " 209.39663696289062,\n",
       " 178.29006958007812,\n",
       " 197.10032653808594,\n",
       " 198.9533233642578,\n",
       " 191.71347045898438,\n",
       " 209.0877685546875,\n",
       " 220.95098876953125,\n",
       " 188.78225708007812,\n",
       " 204.97296142578125,\n",
       " 179.3829803466797,\n",
       " 203.5212860107422,\n",
       " 197.90199279785156,\n",
       " 348.7090148925781,\n",
       " 192.9488983154297,\n",
       " 207.04354858398438,\n",
       " 231.74569702148438,\n",
       " 246.28721618652344,\n",
       " 215.09857177734375,\n",
       " 170.0625762939453,\n",
       " 206.61248779296875,\n",
       " 247.89894104003906,\n",
       " 174.40109252929688,\n",
       " 161.10926818847656,\n",
       " 236.80889892578125,\n",
       " 203.7908477783203,\n",
       " 212.91615295410156,\n",
       " 200.18617248535156,\n",
       " 191.27471923828125,\n",
       " 231.26980590820312,\n",
       " 201.12608337402344,\n",
       " 255.26522827148438,\n",
       " 207.5576934814453,\n",
       " 195.99020385742188,\n",
       " 208.14398193359375,\n",
       " 241.4268035888672,\n",
       " 215.9199981689453,\n",
       " 193.394287109375,\n",
       " 209.99359130859375,\n",
       " 182.0740509033203,\n",
       " 199.2489471435547,\n",
       " 184.7054901123047,\n",
       " 218.8007049560547,\n",
       " 243.37474060058594,\n",
       " 183.85411071777344,\n",
       " 177.5791778564453,\n",
       " 196.96717834472656,\n",
       " 256.0148620605469,\n",
       " 234.10574340820312,\n",
       " 236.07891845703125,\n",
       " 279.35858154296875,\n",
       " 188.6844024658203,\n",
       " 197.5535125732422,\n",
       " 200.045166015625,\n",
       " 187.72128295898438,\n",
       " 229.93299865722656,\n",
       " 196.95828247070312,\n",
       " 282.3547668457031,\n",
       " 186.83572387695312,\n",
       " 303.98828125,\n",
       " 167.19281005859375,\n",
       " 376.5285949707031,\n",
       " 162.53944396972656,\n",
       " 229.90557861328125,\n",
       " 214.6892852783203,\n",
       " 227.41793823242188,\n",
       " 215.64268493652344,\n",
       " 279.5282287597656,\n",
       " 183.9479217529297,\n",
       " 236.60214233398438,\n",
       " 222.93955993652344,\n",
       " 234.9491729736328,\n",
       " 241.0076904296875,\n",
       " 270.443359375,\n",
       " 235.86392211914062,\n",
       " 184.9461212158203,\n",
       " 305.1014404296875,\n",
       " 231.4856719970703,\n",
       " 218.15492248535156,\n",
       " 184.4893341064453,\n",
       " 241.53659057617188,\n",
       " 171.56944274902344,\n",
       " 239.61741638183594,\n",
       " 192.3759307861328,\n",
       " 178.96932983398438,\n",
       " 221.3896484375,\n",
       " 173.01007080078125,\n",
       " 219.11058044433594,\n",
       " 223.58206176757812,\n",
       " 195.56187438964844,\n",
       " 178.0104217529297,\n",
       " 223.94386291503906,\n",
       " 197.80386352539062,\n",
       " 205.39773559570312,\n",
       " 197.59007263183594,\n",
       " 193.4061737060547,\n",
       " 201.42041015625,\n",
       " 229.90142822265625,\n",
       " 218.40452575683594,\n",
       " 226.677978515625,\n",
       " 179.7088623046875,\n",
       " 188.1231231689453,\n",
       " 274.4941101074219,\n",
       " 187.8175811767578,\n",
       " 211.77664184570312,\n",
       " 196.68589782714844,\n",
       " 225.28338623046875,\n",
       " 188.78941345214844,\n",
       " 169.61187744140625,\n",
       " 194.06605529785156,\n",
       " 209.7444305419922,\n",
       " 252.9305419921875,\n",
       " 322.0010681152344,\n",
       " 231.75729370117188,\n",
       " 199.6671905517578,\n",
       " 184.70567321777344,\n",
       " 279.2146301269531,\n",
       " 186.00079345703125,\n",
       " 168.28717041015625,\n",
       " 192.65744018554688,\n",
       " 190.4132843017578,\n",
       " 215.457275390625,\n",
       " 352.69622802734375,\n",
       " 190.00880432128906,\n",
       " 148.42269897460938,\n",
       " 188.30108642578125,\n",
       " 160.6360321044922,\n",
       " 171.2252655029297,\n",
       " 200.15444946289062,\n",
       " 241.31015014648438,\n",
       " 162.93460083007812,\n",
       " 208.7604217529297,\n",
       " 257.4390869140625,\n",
       " 232.48851013183594,\n",
       " 236.00418090820312,\n",
       " 182.66128540039062,\n",
       " 233.0420684814453,\n",
       " 248.0215606689453,\n",
       " 194.87339782714844,\n",
       " 245.86239624023438,\n",
       " 200.3970489501953,\n",
       " 179.22488403320312,\n",
       " 172.78054809570312,\n",
       " 214.57839965820312,\n",
       " 189.3576202392578,\n",
       " 181.80995178222656,\n",
       " 144.8080596923828,\n",
       " 168.18585205078125,\n",
       " 269.5125427246094,\n",
       " 213.73106384277344,\n",
       " 245.1627655029297,\n",
       " 224.81863403320312,\n",
       " 178.78250122070312,\n",
       " 189.10769653320312,\n",
       " 232.46551513671875,\n",
       " 304.0771484375,\n",
       " 189.2845458984375,\n",
       " 229.978759765625,\n",
       " 191.09161376953125,\n",
       " 206.88180541992188,\n",
       " 219.63792419433594,\n",
       " 270.9837341308594,\n",
       " 214.3612060546875,\n",
       " 189.10940551757812,\n",
       " 183.79473876953125,\n",
       " 214.836669921875,\n",
       " 204.45925903320312,\n",
       " 179.3507537841797,\n",
       " 246.79641723632812,\n",
       " 171.58139038085938,\n",
       " 197.31846618652344,\n",
       " 199.16819763183594,\n",
       " 236.65538024902344,\n",
       " 181.52394104003906,\n",
       " 236.63204956054688,\n",
       " 176.6180877685547,\n",
       " 293.53131103515625,\n",
       " 179.15750122070312,\n",
       " 231.01124572753906,\n",
       " 218.68341064453125,\n",
       " 199.31507873535156,\n",
       " 173.6217498779297,\n",
       " 170.96534729003906,\n",
       " 355.4728698730469,\n",
       " 203.91448974609375,\n",
       " 196.8142852783203,\n",
       " 190.92098999023438,\n",
       " 172.2302703857422,\n",
       " 166.2187042236328,\n",
       " 159.34799194335938,\n",
       " 226.8748016357422,\n",
       " 215.30616760253906,\n",
       " 174.64532470703125,\n",
       " 196.60081481933594,\n",
       " 304.0826416015625,\n",
       " 269.1716613769531,\n",
       " 213.5087432861328,\n",
       " 185.82177734375,\n",
       " 223.630859375,\n",
       " 227.75949096679688,\n",
       " 193.78167724609375,\n",
       " 236.81260681152344,\n",
       " 247.6393280029297,\n",
       " 210.7752685546875,\n",
       " 185.78106689453125,\n",
       " 213.5692901611328,\n",
       " 224.2870635986328,\n",
       " 216.21685791015625,\n",
       " 181.1237335205078,\n",
       " 219.30569458007812,\n",
       " 222.67431640625]"
      ]
     },
     "execution_count": 132,
     "metadata": {},
     "output_type": "execute_result"
    }
   ],
   "source": [
    "losses"
   ]
  },
  {
   "cell_type": "code",
   "execution_count": 133,
   "metadata": {},
   "outputs": [
    {
     "data": {
      "text/plain": [
       "[<matplotlib.lines.Line2D at 0x2784347cd30>]"
      ]
     },
     "execution_count": 133,
     "metadata": {},
     "output_type": "execute_result"
    },
    {
     "data": {
      "image/png": "[encoded data removed]",
      "text/plain": [
       "<Figure size 432x288 with 1 Axes>"
      ]
     },
     "metadata": {
      "needs_background": "light"
     },
     "output_type": "display_data"
    }
   ],
   "source": [
    "plt.plot(losses[:])"
   ]
  },
  {
   "cell_type": "code",
   "execution_count": 134,
   "metadata": {},
   "outputs": [
    {
     "data": {
      "text/plain": [
       "torch.Size([20, 50, 440])"
      ]
     },
     "execution_count": 134,
     "metadata": {},
     "output_type": "execute_result"
    }
   ],
   "source": [
    " torchsde.sdeint(sde, Θ_0, ts, method=\"euler\", dt=Δt).shape"
   ]
  },
  {
   "cell_type": "code",
   "execution_count": 135,
   "metadata": {},
   "outputs": [
    {
     "data": {
      "text/plain": [
       "torch.Size([16, 1])"
      ]
     },
     "execution_count": 135,
     "metadata": {},
     "output_type": "execute_result"
    }
   ],
   "source": [
    "X_train.shape"
   ]
  },
  {
   "cell_type": "code",
   "execution_count": 136,
   "metadata": {},
   "outputs": [],
   "source": [
    "Θ_1 = torchsde.sdeint(sde, Θ_0, ts, dt=Δt)[-1,...]"
   ]
  },
  {
   "cell_type": "code",
   "execution_count": 137,
   "metadata": {},
   "outputs": [
    {
     "data": {
      "text/plain": [
       "(array([ 2.,  0.,  0.,  4.,  6., 12.,  9.,  6.,  7.,  4.]),\n",
       " array([-2.8545547 , -2.3724267 , -1.8902988 , -1.4081709 , -0.9260431 ,\n",
       "        -0.4439152 ,  0.03821271,  0.5203406 ,  1.0024685 ,  1.4845964 ,\n",
       "         1.9667243 ], dtype=float32),\n",
       " <a list of 10 Patch objects>)"
      ]
     },
     "execution_count": 137,
     "metadata": {},
     "output_type": "execute_result"
    },
    {
     "data": {
      "image/png": "[encoded data removed]",
      "text/plain": [
       "<Figure size 432x288 with 3 Axes>"
      ]
     },
     "metadata": {
      "needs_background": "light"
     },
     "output_type": "display_data"
    }
   ],
   "source": [
    "fig, (ax1,ax2,ax3) = plt.subplots(1,3)\n",
    "\n",
    "ax1.hist(Θ_1[:,0].cpu().detach().numpy())\n",
    "ax2.hist(Θ_1[:,1].cpu().detach().numpy())\n",
    "ax3.hist(Θ_1[:,2].cpu().detach().numpy())"
   ]
  },
  {
   "cell_type": "code",
   "execution_count": 138,
   "metadata": {},
   "outputs": [
    {
     "data": {
      "text/plain": [
       "torch.Size([16, 1])"
      ]
     },
     "execution_count": 138,
     "metadata": {},
     "output_type": "execute_result"
    }
   ],
   "source": [
    "X_train.shape"
   ]
  },
  {
   "cell_type": "code",
   "execution_count": 139,
   "metadata": {},
   "outputs": [
    {
     "name": "stderr",
     "output_type": "stream",
     "text": [
      "C:\\Users\\vargf\\AppData\\Local\\Temp/ipykernel_15100/210814679.py:38: UserWarning: torch.vmap is an experimental prototype that is subject to change and/or deletion. Please use at your own risk. There may be unexpected performance cliffs due to certain operators not being implemented. To see detailed performance warnings please use `torch._C._debug_only_display_vmap_fallback_warnings(True) before the call to `vmap`.\n",
      "  batched_preds = torch._vmap_internals.vmap(preds_func)\n"
     ]
    }
   ],
   "source": [
    "pred = net.map_forward(X_train, Θ_1).mean(axis=1)"
   ]
  },
  {
   "cell_type": "code",
   "execution_count": 140,
   "metadata": {},
   "outputs": [
    {
     "data": {
      "text/plain": [
       "torch.Size([16])"
      ]
     },
     "execution_count": 140,
     "metadata": {},
     "output_type": "execute_result"
    }
   ],
   "source": [
    "pred.shape"
   ]
  },
  {
   "cell_type": "code",
   "execution_count": 141,
   "metadata": {},
   "outputs": [
    {
     "data": {
      "text/plain": [
       "440"
      ]
     },
     "execution_count": 141,
     "metadata": {},
     "output_type": "execute_result"
    }
   ],
   "source": [
    "net.dim"
   ]
  },
  {
   "cell_type": "code",
   "execution_count": 142,
   "metadata": {},
   "outputs": [
    {
     "name": "stdout",
     "output_type": "stream",
     "text": [
      "tensor([-0.8528, -0.2667, -0.0138], device='cuda:0', grad_fn=<SliceBackward0>)\n",
      "tensor([-1.7052,  0.1691, -0.7232], device='cuda:0', grad_fn=<SliceBackward0>)\n",
      "tensor([-0.3452,  0.8399,  1.0266], device='cuda:0', grad_fn=<SliceBackward0>)\n",
      "tensor([-1.0329,  0.8492, -0.9079], device='cuda:0', grad_fn=<SliceBackward0>)\n",
      "tensor([-0.9196,  0.5616, -0.4187], device='cuda:0', grad_fn=<SliceBackward0>)\n",
      "tensor([-1.1521, -0.8351, -1.3584], device='cuda:0', grad_fn=<SliceBackward0>)\n",
      "tensor([-0.2172,  0.7842, -2.7461], device='cuda:0', grad_fn=<SliceBackward0>)\n",
      "tensor([-0.3741, -0.2584, -0.8086], device='cuda:0', grad_fn=<SliceBackward0>)\n",
      "tensor([-1.6449, -0.4321,  0.6751], device='cuda:0', grad_fn=<SliceBackward0>)\n",
      "tensor([-0.7248, -0.9844,  1.8580], device='cuda:0', grad_fn=<SliceBackward0>)\n",
      "tensor([0.7596, 1.4782, 0.0516], device='cuda:0', grad_fn=<SliceBackward0>)\n",
      "tensor([-0.1388,  0.1091, -2.8546], device='cuda:0', grad_fn=<SliceBackward0>)\n",
      "tensor([-1.8684, -1.3894, -0.2155], device='cuda:0', grad_fn=<SliceBackward0>)\n",
      "tensor([-1.0008, -1.5654,  0.5698], device='cuda:0', grad_fn=<SliceBackward0>)\n",
      "tensor([-3.0721, -1.5450, -1.0124], device='cuda:0', grad_fn=<SliceBackward0>)\n",
      "tensor([-0.0648, -0.0315,  0.3488], device='cuda:0', grad_fn=<SliceBackward0>)\n",
      "tensor([-0.7357, -0.4200,  1.0793], device='cuda:0', grad_fn=<SliceBackward0>)\n",
      "tensor([-0.1555, -0.5531, -0.0569], device='cuda:0', grad_fn=<SliceBackward0>)\n",
      "tensor([-0.2709, -1.1855,  1.0510], device='cuda:0', grad_fn=<SliceBackward0>)\n",
      "tensor([ 1.0879,  1.3643, -0.6072], device='cuda:0', grad_fn=<SliceBackward0>)\n",
      "tensor([-1.6831,  0.1306,  1.9667], device='cuda:0', grad_fn=<SliceBackward0>)\n",
      "tensor([0.3641, 0.1199, 0.0028], device='cuda:0', grad_fn=<SliceBackward0>)\n",
      "tensor([-1.6903, -1.3141,  1.3440], device='cuda:0', grad_fn=<SliceBackward0>)\n",
      "tensor([1.2416, 1.4330, 1.0127], device='cuda:0', grad_fn=<SliceBackward0>)\n",
      "tensor([ 0.3950, -1.3032,  0.1036], device='cuda:0', grad_fn=<SliceBackward0>)\n",
      "tensor([-1.5891, -0.6206, -0.2092], device='cuda:0', grad_fn=<SliceBackward0>)\n",
      "tensor([-0.8585,  1.7196,  0.7193], device='cuda:0', grad_fn=<SliceBackward0>)\n",
      "tensor([-0.8639, -0.4711, -0.0561], device='cuda:0', grad_fn=<SliceBackward0>)\n",
      "tensor([-1.9523,  0.5324,  0.3484], device='cuda:0', grad_fn=<SliceBackward0>)\n",
      "tensor([-1.0907, -0.4131,  0.0180], device='cuda:0', grad_fn=<SliceBackward0>)\n",
      "tensor([-1.2694, -0.3345,  1.4161], device='cuda:0', grad_fn=<SliceBackward0>)\n",
      "tensor([-0.5638, -0.8455,  0.4509], device='cuda:0', grad_fn=<SliceBackward0>)\n",
      "tensor([-2.0796, -1.4871, -1.1283], device='cuda:0', grad_fn=<SliceBackward0>)\n",
      "tensor([-0.3404,  0.5547, -0.2955], device='cuda:0', grad_fn=<SliceBackward0>)\n",
      "tensor([-0.7056,  0.9201,  1.8298], device='cuda:0', grad_fn=<SliceBackward0>)\n",
      "tensor([-1.8446, -2.5372,  0.0490], device='cuda:0', grad_fn=<SliceBackward0>)\n",
      "tensor([-1.4504,  2.8484, -0.4692], device='cuda:0', grad_fn=<SliceBackward0>)\n",
      "tensor([-1.7558,  0.3644,  0.6530], device='cuda:0', grad_fn=<SliceBackward0>)\n",
      "tensor([-0.7448, -1.2210, -0.4527], device='cuda:0', grad_fn=<SliceBackward0>)\n",
      "tensor([-0.5823,  0.8841, -0.3610], device='cuda:0', grad_fn=<SliceBackward0>)\n",
      "tensor([ 1.2301, -0.0273,  0.0843], device='cuda:0', grad_fn=<SliceBackward0>)\n",
      "tensor([-0.0608, -0.5851,  0.6796], device='cuda:0', grad_fn=<SliceBackward0>)\n",
      "tensor([ 0.2769, -1.1017,  0.3340], device='cuda:0', grad_fn=<SliceBackward0>)\n",
      "tensor([-0.0430,  1.0632,  1.0608], device='cuda:0', grad_fn=<SliceBackward0>)\n",
      "tensor([-2.7838,  0.1091, -0.3806], device='cuda:0', grad_fn=<SliceBackward0>)\n",
      "tensor([-0.9997,  0.7648,  0.8652], device='cuda:0', grad_fn=<SliceBackward0>)\n",
      "tensor([-0.9318, -0.5071,  1.8105], device='cuda:0', grad_fn=<SliceBackward0>)\n",
      "tensor([-0.8955, -1.0734, -0.1393], device='cuda:0', grad_fn=<SliceBackward0>)\n",
      "tensor([-0.3239,  1.0884,  0.3490], device='cuda:0', grad_fn=<SliceBackward0>)\n",
      "tensor([-0.9811, -0.7986, -1.1412], device='cuda:0', grad_fn=<SliceBackward0>)\n"
     ]
    },
    {
     "data": {
      "image/png": "[encoded data removed]",
      "text/plain": [
       "<Figure size 432x288 with 1 Axes>"
      ]
     },
     "metadata": {
      "needs_background": "light"
     },
     "output_type": "display_data"
    }
   ],
   "source": [
    "for i in range(len(Θ_1)):\n",
    "    print(Θ_1[i,:3])\n",
    "    pred = net.forward(X_train, Θ_1[i,:,]).mean(axis=1)\n",
    "    plt.plot(X_train.detach().cpu(), pred.detach().cpu())\n",
    "# plt.plot(X_train.detach().cpu(), y_train.detach().cpu())"
   ]
  },
  {
   "cell_type": "code",
   "execution_count": 143,
   "metadata": {},
   "outputs": [
    {
     "data": {
      "text/plain": [
       "tensor([-0.7801, -0.1084,  0.1080, -0.2544,  0.3704,  0.1321,  0.1566, -0.3178,\n",
       "        -0.2910,  0.3771, -0.3265, -0.3465, -0.1539,  0.1084, -0.1494, -0.0304,\n",
       "        -0.1860,  0.0646, -0.3617,  0.4300, -1.4132, -0.8205, -0.6709, -0.9085,\n",
       "        -0.6943, -0.8013, -1.1529, -1.2076, -1.2691, -0.8796, -0.8362, -0.5513,\n",
       "        -0.8389, -1.0300, -1.0318, -1.0042, -0.7326, -1.1254, -0.8379, -0.9494,\n",
       "        -0.7875, -1.0230, -1.0562, -0.8678, -0.9215, -0.8175, -0.7790, -1.4147,\n",
       "        -0.9507, -0.7103, -0.6839, -0.7546, -0.6335, -0.3720, -0.6373, -1.2080,\n",
       "        -1.0128, -1.0070, -0.9353, -1.6048, -0.5986, -0.9645, -0.3699, -0.8701,\n",
       "        -0.8113, -0.7402, -0.6355, -1.0007, -0.9172, -0.5589, -0.4833, -0.4535,\n",
       "        -0.6348, -0.6818, -0.4651, -0.7502, -0.7177, -0.5938, -0.5395, -0.8373,\n",
       "        -1.2992, -1.2083, -0.6627, -0.8179, -0.7179, -1.1380, -0.4860, -0.9471,\n",
       "        -0.4967, -0.5418, -0.7372, -0.7034, -0.8282, -1.0916, -0.6223, -0.7912,\n",
       "        -0.7844, -0.6386, -0.9753, -0.5819, -1.4304, -0.8053, -0.8727, -0.6236,\n",
       "        -0.6434, -0.4264, -0.9857, -1.3291, -0.9628, -0.6240, -0.4061, -0.8712,\n",
       "        -0.8470, -0.7488, -0.9434, -0.7908, -0.9057, -0.9038, -0.4424, -1.1849,\n",
       "        -0.6330, -0.9121, -1.1225, -0.7251, -0.8183, -0.8957, -0.7081, -0.7148,\n",
       "        -1.4670, -0.8477, -0.9917, -1.3128, -0.7819, -0.9293, -0.9354, -0.5512,\n",
       "        -0.3825, -0.5556, -0.7060, -0.9888, -1.3525, -0.4718, -0.5053, -0.6027,\n",
       "        -0.9016, -0.9737, -0.7713, -0.8153, -1.0176, -0.8798, -0.5439, -0.6909,\n",
       "        -0.5803, -1.1202, -0.7259, -0.8430, -1.0221, -0.4835, -0.6656, -0.7295,\n",
       "        -1.1826, -0.2539, -0.7642, -0.8113, -0.7415, -0.7975, -0.5872, -0.5049,\n",
       "        -0.8047, -0.3927, -0.6204, -0.3749, -0.9422, -0.6515, -0.9403, -0.6560,\n",
       "        -0.5647, -0.8002, -0.5350, -0.5801, -1.1791, -0.7495, -0.6046, -0.9713,\n",
       "        -0.7129, -0.7875, -1.0089, -0.5346, -0.5586, -0.6944, -0.8204, -0.7854,\n",
       "        -0.7304, -0.6412, -0.7191, -0.9045, -0.8835, -1.1415, -0.6711, -0.3715,\n",
       "        -1.6215, -0.7089, -0.8943, -0.7412, -0.3233, -0.8629, -1.0233, -0.9540,\n",
       "        -1.1518, -0.6743, -0.3280, -0.9170, -0.5571, -0.8908, -0.6368, -0.9756,\n",
       "        -0.5273, -0.7513, -1.0361, -1.0817, -1.3581, -0.6790, -0.4234, -0.5356,\n",
       "        -0.8651, -1.1427, -0.9263, -1.0354, -1.3164, -0.8718, -0.7047, -0.7876,\n",
       "        -0.7009, -0.4837, -0.4657, -0.7720, -0.9048, -0.5585, -1.1773, -0.7108,\n",
       "        -1.4487, -0.6688, -0.6915, -0.7607, -0.9007, -0.5987, -0.4747, -0.6967,\n",
       "        -0.8960, -0.7623, -0.8256, -0.7555, -1.1943, -0.5089, -0.6751, -0.5165,\n",
       "        -0.5484, -1.4780, -0.6542, -1.6923, -1.3337, -0.6333, -0.9481, -0.6042,\n",
       "        -0.7561, -0.5339, -0.7175, -0.7251, -1.2212, -1.0375, -0.6518, -1.2422,\n",
       "        -1.1162, -0.5829, -0.8294, -0.9290, -0.7926, -0.7249, -0.7635, -0.9259,\n",
       "        -1.4495, -0.9093, -1.5469, -0.6857, -0.7858, -0.6763, -0.9051, -0.4989,\n",
       "        -0.4489, -1.0156, -1.0990, -1.0536, -0.9710, -0.7914, -1.0193, -0.6592,\n",
       "        -1.1363, -0.5152, -0.7411, -0.9653, -1.2576, -0.5033, -0.8338, -0.7240,\n",
       "        -0.8339, -0.9215, -0.3343, -0.7995, -0.6316, -0.4737, -0.7602, -0.1484,\n",
       "        -0.7730, -0.5843, -0.5990, -1.0753, -0.6854, -0.6530, -0.7184, -0.5403,\n",
       "        -0.7901, -0.7721, -0.6774, -0.7442, -0.3974, -1.0265, -0.6909, -0.5831,\n",
       "        -1.0175, -0.5526, -0.7025, -0.8038, -1.0968, -0.5303, -0.4186, -0.6981,\n",
       "        -0.7800, -0.9790, -0.9154, -1.3065, -1.1529, -1.1199, -1.3873, -1.0739,\n",
       "        -0.7185, -0.8022, -0.6604, -0.5573, -0.7974, -0.5996, -1.2634, -0.8475,\n",
       "        -0.8589, -0.7663, -0.6868, -0.8390, -0.9333, -0.4537, -0.7786, -0.5445,\n",
       "        -1.2104, -0.8853, -0.6150, -0.8342, -0.5944, -0.9170, -0.8031, -0.8468,\n",
       "        -1.5107, -0.9825, -0.8633, -0.7690, -0.7893, -0.9444, -0.7443, -1.3793,\n",
       "        -0.8308, -1.0490, -0.8924, -0.7071, -0.7698, -0.9118, -0.9336, -0.5977,\n",
       "        -0.8682, -0.5165, -0.5691, -0.6217, -1.2502, -0.9169, -0.7669, -0.6511,\n",
       "        -0.4092, -1.1683, -0.7800, -0.5800, -0.8774, -0.6471, -0.5883, -0.9469,\n",
       "        -0.6852, -0.1574, -0.5109, -0.3344, -0.0481, -0.1693, -0.4339, -0.3100,\n",
       "        -0.7305, -0.4452, -0.3063, -0.5157, -1.1326, -0.3344, -0.4173, -0.6480,\n",
       "        -0.1255, -0.5519, -0.8525, -0.2951, -0.1675, -0.2327, -0.1460, -0.0393,\n",
       "        -0.2526, -0.1650,  0.2376, -0.1411,  0.1371,  0.2506, -0.0823, -0.0832,\n",
       "         0.0912,  0.0513,  0.1139, -0.1227, -0.1248,  0.0178,  0.0669, -0.1218],\n",
       "       device='cuda:0', grad_fn=<MeanBackward1>)"
      ]
     },
     "execution_count": 143,
     "metadata": {},
     "output_type": "execute_result"
    }
   ],
   "source": [
    "Θ_1.mean(axis=0)"
   ]
  },
  {
   "cell_type": "markdown",
   "metadata": {},
   "source": [
    "## MAP Baseline\n",
    "\n",
    "We run the point estimate approximation (Maximum a posteriori) to double check what the learned weights look like.  We get the  exact same training accuracy as with the controlled model and similarly large weights for the non bias weights. "
   ]
  },
  {
   "cell_type": "code",
   "execution_count": 25,
   "metadata": {},
   "outputs": [
    {
     "data": {
      "application/vnd.jupyter.widget-view+json": {
       "model_id": "d81821a070db47d7808ce3f15f828242",
       "version_major": 2,
       "version_minor": 0
      },
      "text/plain": [
       "  0%|          | 0/1000 [00:00<?, ?it/s]"
      ]
     },
     "metadata": {},
     "output_type": "display_data"
    },
    {
     "name": "stderr",
     "output_type": "stream",
     "text": [
      "/tmp/ipykernel_27535/3526744317.py:27: UserWarning: torch.vmap is an experimental prototype that is subject to change and/or deletion. Please use at your own risk. There may be unexpected performance cliffs due to certain operators not being implemented. To see detailed performance warnings please use `torch._C._debug_only_display_vmap_fallback_warnings(True) before the call to `vmap`.\n",
      "  batched_loss =  torch._vmap_internals.vmap(loss_)\n"
     ]
    },
    {
     "data": {
      "text/plain": [
       "(tensor(0.9875, device='cuda:0'),\n",
       " tensor([[ 0.0000, -2.1514,  2.0305]], device='cuda:0', requires_grad=True))"
      ]
     },
     "execution_count": 25,
     "metadata": {},
     "output_type": "execute_result"
    }
   ],
   "source": [
    "Θ_map = torch.zeros((1, dim), requires_grad=True, device=device)\n",
    "optimizer_map = torch.optim.Adam([Θ_map], lr=0.05)\n",
    "#     optimizer = torch.optim.LBFGS(gpr.parameters(), lr=0.01)\n",
    "\n",
    "losses_map = []\n",
    "num_steps = 1000\n",
    "for i in tqdm(range(num_steps)):\n",
    "    optimizer.zero_grad()\n",
    "\n",
    "    if isinstance(optimizer_map, torch.optim.LBFGS):\n",
    "        def closure_map():\n",
    "            loss_map = log_likelihood_vmap()\n",
    "            optimizer_map.zero_grad()\n",
    "            loss_map.backward()\n",
    "            return loss\n",
    "\n",
    "        optimizer_map.step(closure_map)\n",
    "        losses_map.append(closure_map().item())\n",
    "    else:\n",
    "        loss_map = -(log_likelihood_vmap(Θ_map, X_train, y_train + gaussian_prior(Θ_map)))\n",
    "        optimizer_map.zero_grad()\n",
    "        loss_map.backward()\n",
    "\n",
    "        optimizer_map.step()\n",
    "        losses_map.append(loss.item())\n",
    "\n",
    "Θ_map\n",
    "pred_map = torch.sigmoid(X_train.mm(Θ_map.T)).mean(axis=1)\n",
    "((pred_map < 0.5).float() == y_train).float().mean(), Θ_map"
   ]
  },
  {
   "cell_type": "markdown",
   "metadata": {},
   "source": [
    "## Pyro Bayesian Logistic Regeression\n",
    "\n",
    "As a baseline we run pyro with SVI on this same example atm we get very different results which is a bit worrying.\n",
    "\n",
    "#### EDIT:\n",
    "\n",
    "I think results are actually in agreement what was happening is the priors in the pyro code where much more confident thus the smaller weights. I just tried changing the prior of this pyro model and the posterior is not changing much, this is a bit fishy maybe worth investigating. \n",
    "\n",
    "I think it might just be the case that this model is not very good."
   ]
  },
  {
   "cell_type": "code",
   "execution_count": null,
   "metadata": {},
   "outputs": [],
   "source": [
    "import numpy as np\n",
    "import scipy.special as ssp\n",
    "import matplotlib.pyplot as plt\n",
    "\n",
    "import torch\n",
    "import torch.nn as nn\n",
    "import torch.distributions.constraints as constraints\n",
    "\n",
    "from torch.utils.data import DataLoader\n",
    "from torch.utils.data.sampler import SubsetRandomSampler\n",
    "\n",
    "import pyro\n",
    "import pyro.distributions as dist\n",
    "\n",
    "from pyro.infer import SVI, Trace_ELBO\n",
    "from pyro.optim import Adam, SGD\n",
    "\n",
    "pyro.enable_validation(True)\n",
    "torch.set_default_dtype(torch.double) # this was necessary on the CPU"
   ]
  },
  {
   "cell_type": "code",
   "execution_count": null,
   "metadata": {},
   "outputs": [],
   "source": [
    "\n",
    "# these were adapted from the Pyro VAE tutorial\n",
    "\n",
    "def train(svi, train_loader, n_train):\n",
    "    # initialize loss accumulator\n",
    "    epoch_loss = 0.\n",
    "    # do a training epoch over each mini-batch x returned\n",
    "    # by the data loader\n",
    "    for _, xs in enumerate(train_loader):\n",
    "        # do ELBO gradient and accumulate loss\n",
    "        epoch_loss += svi.step(*xs)\n",
    "\n",
    "    # return epoch loss\n",
    "    total_epoch_loss_train = epoch_loss / n_train\n",
    "    return total_epoch_loss_train\n",
    "\n",
    "\n",
    "def evaluate(svi, test_loader, n_test):\n",
    "    # initialize loss accumulator\n",
    "    test_loss = 0.\n",
    "    # compute the loss over the entire test set\n",
    "    for _, xs in enumerate(test_loader):\n",
    "        # compute ELBO estimate and accumulate loss\n",
    "        test_loss += svi.evaluate_loss(*xs)\n",
    "\n",
    "    total_epoch_loss_test = test_loss / n_test\n",
    "    return total_epoch_loss_test\n",
    "\n",
    "\n",
    "def plot_llk(train_elbo, test_elbo, test_int):\n",
    "    plt.figure(figsize=(8, 6))\n",
    "\n",
    "    x = np.arange(len(train_elbo))\n",
    "\n",
    "    plt.plot(x, train_elbo, marker='o', label='Train ELBO')\n",
    "    plt.plot(x[::test_int], test_elbo, marker='o', label='Test ELBO')\n",
    "    plt.xlabel('Training Epoch')\n",
    "    plt.legend()\n",
    "    plt.show()"
   ]
  },
  {
   "cell_type": "code",
   "execution_count": null,
   "metadata": {},
   "outputs": [],
   "source": [
    "class LogRegressionModel(nn.Module):\n",
    "    def __init__(self, p):\n",
    "        super(LogRegressionModel, self).__init__()\n",
    "        \n",
    "        self.p = p\n",
    "\n",
    "        # hyperparameters for normal priors\n",
    "        self.alpha_h_loc = torch.zeros(1, p)\n",
    "        self.alpha_h_scale = 0.0001 * torch.ones(1, p)\n",
    "        self.beta_h_loc = torch.zeros(1)\n",
    "        self.beta_h_scale =  0.0001 * torch.ones(1)\n",
    "        \n",
    "        # initial values of variational parameters\n",
    "        self.alpha_0 = np.zeros((1, p))\n",
    "        self.alpha_0_scale = np.ones((1, p))\n",
    "        self.beta_0 = np.zeros((1,))\n",
    "        self.beta_0_scale = np.ones((1,))\n",
    "\n",
    "    def model(self, x, y):\n",
    "        # sample from prior\n",
    "        a = pyro.sample(\n",
    "            \"weight\", dist.Normal(self.alpha_h_loc, self.alpha_h_scale, validate_args=True).independent(1)\n",
    "        ).float()\n",
    "        b = pyro.sample(\n",
    "            \"bias\", dist.Normal(self.beta_h_loc, self.beta_h_scale, validate_args=True).independent(1)\n",
    "        ).float()\n",
    "\n",
    "        with pyro.iarange(\"data\", x.size(0)):\n",
    "#             import pdb; pdb.set_trace()\n",
    "            model_logits = (torch.matmul(x, a.permute(1, 0)) + b).squeeze()\n",
    "            \n",
    "            pyro.sample(\n",
    "                \"obs\", \n",
    "                dist.Bernoulli(logits=model_logits, validate_args=True),\n",
    "                obs=y.squeeze()\n",
    "            )\n",
    "            \n",
    "    def guide(self, x, y):\n",
    "        # register variational parameters with pyro\n",
    "        alpha_loc = pyro.param(\"alpha_loc\", torch.tensor(self.alpha_0))\n",
    "        alpha_scale = pyro.param(\"alpha_scale\", torch.tensor(self.alpha_0_scale),\n",
    "                                 constraint=constraints.positive)\n",
    "        beta_loc = pyro.param(\"beta_loc\", torch.tensor(self.beta_0))\n",
    "        beta_scale = pyro.param(\"beta_scale\", torch.tensor(self.beta_0_scale),\n",
    "                                constraint=constraints.positive)\n",
    "\n",
    "        pyro.sample(\n",
    "            \"weight\", dist.Normal(alpha_loc, alpha_scale, validate_args=True).independent(1)\n",
    "        )\n",
    "        pyro.sample(\n",
    "            \"bias\", dist.Normal(beta_loc, beta_scale, validate_args=True).independent(1)\n",
    "        )\n",
    "    \n",
    "    \n",
    "    def guide_(self, x, y, N=100):\n",
    "        # register variational parameters with pyro\n",
    "        alpha_loc = pyro.param(\"alpha_loc\", torch.tensor(self.alpha_0))\n",
    "        alpha_scale = pyro.param(\"alpha_scale\", torch.tensor(self.alpha_0_scale),\n",
    "                                 constraint=constraints.positive)\n",
    "        beta_loc = pyro.param(\"beta_loc\", torch.tensor(self.beta_0))\n",
    "        beta_scale = pyro.param(\"beta_scale\", torch.tensor(self.beta_0_scale),\n",
    "                                constraint=constraints.positive)\n",
    "        w = []\n",
    "        b = []\n",
    "        for _ in range(N):\n",
    "            w.append(torch.tensor(pyro.sample(\n",
    "                \"weight\", dist.Normal(alpha_loc, alpha_scale, validate_args=True).independent(1)\n",
    "            )))\n",
    "            b.append(torch.tensor(pyro.sample(\n",
    "                \"bias\", dist.Normal(beta_loc, beta_scale, validate_args=True).independent(1)\n",
    "            )))\n",
    "#         import pdb;pdb.set_trace()\n",
    "        return torch.vstack(w), torch.vstack(b)"
   ]
  },
  {
   "cell_type": "code",
   "execution_count": null,
   "metadata": {},
   "outputs": [],
   "source": [
    "\n",
    "pyro.clear_param_store()\n",
    "\n",
    "optim = Adam({'lr': 0.01})\n",
    "\n",
    "num_epochs = 1000\n",
    "batch_size = 50\n",
    "\n",
    "N = X.shape[0]\n",
    "p = 2\n",
    "\n",
    "n_train = X_train.shape[0]\n",
    "example_indices = np.random.permutation(N)\n",
    "n_test = N - n_train\n",
    "test_iter = 50"
   ]
  },
  {
   "cell_type": "code",
   "execution_count": null,
   "metadata": {},
   "outputs": [],
   "source": [
    "lr_model = LogRegressionModel(p=p)\n",
    "\n",
    "svi = SVI(\n",
    "    lr_model.model, lr_model.guide, optim,\n",
    "    loss=Trace_ELBO()\n",
    ")\n",
    "\n",
    "\n",
    "lr_dataset = torch.utils.data.TensorDataset(torch.tensor(X[:,1:]).float(), torch.tensor(y.reshape(-1,1)).float())\n",
    "\n",
    "data_loader_train = DataLoader(\n",
    "    dataset=lr_dataset, batch_size=batch_size, pin_memory=False,\n",
    "    sampler=SubsetRandomSampler(example_indices[:n_train]),\n",
    ")\n",
    "    \n",
    "data_loader_test = DataLoader(\n",
    "    dataset=lr_dataset, batch_size=batch_size, pin_memory=False,\n",
    "    sampler=SubsetRandomSampler(example_indices[n_train:]),\n",
    ")\n",
    "\n",
    "train_elbo = []\n",
    "test_elbo = []\n",
    "for epoch in range(num_epochs):\n",
    "    total_epoch_loss_train = train(svi, data_loader_train, n_train)\n",
    "    train_elbo.append(-total_epoch_loss_train)\n",
    "\n",
    "    if epoch % test_iter == 0:\n",
    "        print(\"[epoch %03d]  average training loss: %.4f\" % (epoch, total_epoch_loss_train))\n",
    "        # report test diagnostics\n",
    "        total_epoch_loss_test = evaluate(svi, data_loader_test, n_test)\n",
    "        test_elbo.append(-total_epoch_loss_test)"
   ]
  },
  {
   "cell_type": "code",
   "execution_count": null,
   "metadata": {},
   "outputs": [],
   "source": [
    "plot_llk(train_elbo, test_elbo, test_iter)"
   ]
  },
  {
   "cell_type": "code",
   "execution_count": null,
   "metadata": {},
   "outputs": [],
   "source": [
    "W, b = lr_model.guide_(X_train.float(), y_train.float())"
   ]
  },
  {
   "cell_type": "code",
   "execution_count": null,
   "metadata": {},
   "outputs": [],
   "source": [
    "fig, (ax1,ax2,ax3) = plt.subplots(1,3)\n",
    "\n",
    "# ax1.hist(Θ_1[:,0].detach().numpy())\n",
    "# ax2.hist(Θ_1[:,1].detach().numpy())\n",
    "# ax3.hist(Θ_1[:,2].detach().numpy())\n",
    "\n",
    "\n",
    "ax1.hist(b.detach().numpy(), color=\"red\")\n",
    "ax2.hist(W[:,0].detach().numpy(), color=\"red\")\n",
    "ax3.hist(W[:,1].detach().numpy(), color=\"red\")\n"
   ]
  },
  {
   "cell_type": "code",
   "execution_count": null,
   "metadata": {},
   "outputs": [],
   "source": [
    "b.mean(), W.mean(axis=0)"
   ]
  },
  {
   "cell_type": "code",
   "execution_count": null,
   "metadata": {},
   "outputs": [],
   "source": []
  }
 ],
 "metadata": {
  "kernelspec": {
   "display_name": "Python 3 (ipykernel)",
   "language": "python",
   "name": "python3"
  },
  "language_info": {
   "codemirror_mode": {
    "name": "ipython",
    "version": 3
   },
   "file_extension": ".py",
   "mimetype": "text/x-python",
   "name": "python",
   "nbconvert_exporter": "python",
   "pygments_lexer": "ipython3",
   "version": "3.8.5"
  },
  "toc": {
   "base_numbering": 1,
   "nav_menu": {},
   "number_sections": true,
   "sideBar": true,
   "skip_h1_title": false,
   "title_cell": "Table of Contents",
   "title_sidebar": "Contents",
   "toc_cell": false,
   "toc_position": {},
   "toc_section_display": true,
   "toc_window_display": false
  }
 },
 "nbformat": 4,
 "nbformat_minor": 4
}
