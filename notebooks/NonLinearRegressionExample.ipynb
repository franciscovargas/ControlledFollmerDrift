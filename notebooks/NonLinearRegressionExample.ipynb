{
 "cells": [
  {
   "cell_type": "code",
   "execution_count": 1,
   "metadata": {},
   "outputs": [],
   "source": [
    "import torch\n",
    "import torch.nn.functional as F\n",
    "\n",
    "import torchsde\n",
    "import math\n",
    "import matplotlib.pyplot as plt\n",
    "\n",
    "import numpy as np\n",
    "\n",
    "from tqdm.notebook import tqdm\n",
    "\n",
    "from torch import _vmap_internals"
   ]
  },
  {
   "cell_type": "code",
   "execution_count": 2,
   "metadata": {},
   "outputs": [],
   "source": [
    "from cfollmer.objectives import log_g, relative_entropy_control_cost, stl_relative_entropy_control_cost\n",
    "from cfollmer.sampler_utils import FollmerSDE, SimpleForwardNetBN"
   ]
  },
  {
   "cell_type": "markdown",
   "metadata": {},
   "source": [
    "# The Model\n",
    "\n",
    "\\begin{align}\n",
    "\\theta &\\sim \\mathcal{N}(\\theta | 0, \\sigma_w^2 \\mathbb{I}) \\\\\n",
    "y_i | x_i, \\theta &\\sim  \\mathcal{N}(y | f(x_i;\\theta), \\sigma_y^2 \\mathbb{I})\n",
    "\\end{align}\n",
    "\n",
    "We want samples from $p(\\theta | \\{(y_i, x_i)\\})$. Note $f(x; \\theta)$ is a neural net with params $\\theta$"
   ]
  },
  {
   "cell_type": "markdown",
   "metadata": {},
   "source": [
    "## Loading the StepFunc dataset"
   ]
  },
  {
   "cell_type": "code",
   "execution_count": 3,
   "metadata": {},
   "outputs": [
    {
     "data": {
      "image/png": "[encoded data removed]",
      "text/plain": [
       "<Figure size 432x288 with 1 Axes>"
      ]
     },
     "metadata": {
      "needs_background": "light"
     },
     "output_type": "display_data"
    }
   ],
   "source": [
    "device = \"cuda\" if torch.cuda.is_available() else \"cpu\"\n",
    "\n",
    "\n",
    "# Test inputs\n",
    "num_test_samples = 100\n",
    "X_test = np.linspace(-4, 4, num_test_samples).reshape(num_test_samples,1)\n",
    "\n",
    "# Noise free training inputs\n",
    "X_train = np.linspace(-3.5, 3.5, 100).reshape(-1,1)\n",
    "#f_train = np.cos(X_train) \n",
    "f_train = np.heaviside(X_train, 0)\n",
    "\n",
    "# Noise-free training outputs\n",
    "#f = np.cos(X_test)\n",
    "f = np.heaviside(X_test, 0)\n",
    "y_test  = f\n",
    "\n",
    "# Noisy training Inputs with additive Gaussian noise (zero-mean, variance sigma_n)\n",
    "sigma_n = 0.1\n",
    "\n",
    "mu = np.zeros(X_train.size)\n",
    "epsilon = np.random.multivariate_normal(mu, sigma_n**2 * np.eye(X_train.size))\n",
    "\n",
    "# Noisy targets\n",
    "y_train = f_train + epsilon.reshape(X_train.size,1)\n",
    "\n",
    "# Noisy observations\n",
    "fig, ax = plt.subplots(figsize=(6, 4), tight_layout=True)\n",
    "ax.plot(X_test, f, 'b', label = 'f(x)')\n",
    "ax.plot(X_train, y_train, 'kP', ms = 9, label = 'y(x) = f(x) + $\\epsilon$')\n",
    "ax.legend(loc = 'upper left')\n",
    "ax.set_title('Target function with noisy observations ')\n",
    "\n",
    "plt.show()"
   ]
  },
  {
   "cell_type": "code",
   "execution_count": 4,
   "metadata": {},
   "outputs": [],
   "source": [
    "device = \"cuda\" if torch.cuda.is_available() else \"cpu\"\n",
    "\n",
    "\n",
    "\n",
    "X_train, X_test, y_train, y_test = \\\n",
    "    torch.tensor(X_train, dtype=torch.float32, device=device), \\\n",
    "    torch.tensor(X_test, dtype=torch.float32, device=device), \\\n",
    "    torch.tensor(y_train, dtype=torch.float32, device=device), \\\n",
    "    torch.tensor(y_test, dtype=torch.float32, device=device) "
   ]
  },
  {
   "cell_type": "markdown",
   "metadata": {},
   "source": [
    "$$\\DeclareMathOperator*{\\argmin}{arg\\,min}$$\n",
    "$$\\def\\E{{\\mathbb{E}}}$$\n",
    "$$\\def\\rvu{{\\mathbf{u}}}$$\n",
    "$$\\def\\rvTheta{{\\bm{\\Theta}}}$$\n",
    "$$\\def\\gU{{\\mathcal{U}}}$$\n",
    "$$\\def\\mX{{\\mathbf{X}}}$$"
   ]
  },
  {
   "cell_type": "markdown",
   "metadata": {},
   "source": [
    "## Controlled Schrodinger Follmer Sampler\n",
    "\n",
    "The objevtive we are trying to implement is:\n",
    "\n",
    "\\begin{align}\n",
    "  \\mathbf{u}_t^{*}=  \\argmin_{\\rvu_t \\in \\mathcal{U}}\\mathbb{E}\\left[\\frac{1}{2\\gamma}\\int_0^1||\\rvu(t, \\Theta_t)||^2 dt - \\ln\\left(\\frac{ p(\\mX | \\Theta_1)p(\\Theta_1)}{\\mathcal{N}(\\Theta_1|\\mathbf{0}, \\gamma \\mathbb{I} )}\\right)\\right] \\\n",
    "\\end{align}\n",
    "\n",
    "Where:\n",
    "\\begin{align}\n",
    "d\\Theta_t = \\rvu(t, \\Theta_t)dt + \\sqrt{\\gamma} dB_t\n",
    "\\end{align}\n"
   ]
  },
  {
   "cell_type": "code",
   "execution_count": 5,
   "metadata": {},
   "outputs": [],
   "source": [
    "import torch.nn.functional as F\n",
    "\n",
    "\n",
    "class OnedRegressionForwardNet(object):\n",
    "    \n",
    "    def __init__(\n",
    "        self, input_dim=1, output_dim=1, depth=None,\n",
    "        width=20, width_seq=None, device=\"cpu\", activation=F.relu\n",
    "    ):\n",
    "        \n",
    "        self.device = device\n",
    "        self.output_dim = output_dim\n",
    "        self.input_dim = input_dim \n",
    "        self.activation = activation\n",
    "        \n",
    "        self.depth = depth\n",
    "        if not self.depth:\n",
    "            self.depth = 1\n",
    "        if not width_seq:\n",
    "            self.width = width\n",
    "            self.width_seq = [self.width] * (self.depth + 1)\n",
    "            self.shapes = [(self.width_seq[i-1], self.width_seq[i])  for i in range(1,self.depth)]\n",
    "            self.shapes += [(self.width_seq[-1], self.output_dim)]\n",
    "            self.shapes = [(self.input_dim, self.width_seq[0])] + self.shapes\n",
    "        \n",
    "        self.dim = sum([wx * wy + wy for wx, wy in self.shapes])\n",
    "        \n",
    "    def forward(self, x, Θ):\n",
    "        index = 0\n",
    "        n, d = x.shape\n",
    "        \n",
    "#         dim_bl =  sum([wx * wy + wy for wx, wy in self.shapes[:-1]])\n",
    "#         Θ[:dim_bl] = (Θ[:dim_bl] - Θ[:dim_bl].mean()) / Θ[:dim_bl].std()\n",
    "#         σ_Θ, μ_Θ = Θ.std(), Θ.mean()\n",
    "#         Θ = (Θ - μ_Θ) / σ_Θ\n",
    "\n",
    "        for wx, wy in self.shapes[:-1]:\n",
    "            x = F.linear(\n",
    "                x,\n",
    "                Θ[index: index + wx * wy].reshape(wy, wx),\n",
    "                Θ[index + wx * wy: index + wx * wy + wy].reshape(1,wy)\n",
    "            )\n",
    "            x = self.activation(x)\n",
    "            index += wx * wy  + wy\n",
    "        wx, wy = self.shapes[-1]\n",
    "        x = F.linear(\n",
    "            x,\n",
    "            Θ[index: index + wx * wy].reshape(wy, wx), #* σ_Θ + μ_Θ,\n",
    "            Θ[index + wx * wy: index + wx * wy + wy].reshape(1,wy) # * σ_Θ + μ_Θ\n",
    "        )\n",
    "        return x.to(self.device)\n",
    "    \n",
    "    def map_forward(self, x, Θ):\n",
    "        preds_func = lambda θ: self.forward(x, θ)\n",
    "        batched_preds = torch._vmap_internals.vmap(preds_func)\n",
    "        preds = torch.hstack(list(map(preds_func, Θ)))\n",
    "        return preds\n",
    "        "
   ]
  },
  {
   "cell_type": "code",
   "execution_count": 6,
   "metadata": {},
   "outputs": [],
   "source": [
    "net = OnedRegressionForwardNet(\n",
    "    1,1, device=device, depth=2, width=12, activation=F.relu\n",
    ")\n",
    "\n",
    "def ln_prior(Θ, σ_w=1.3):\n",
    "    \"\"\"\n",
    "    Logistic regresion bayesian prior\n",
    "    \"\"\"\n",
    "    return -0.5 * (Θ**2).sum(axis=1) / σ_w**2 \n",
    "\n",
    "\n",
    "def log_likelihood_vmap(Θ, X, y, net=net, σ_y=0.1):\n",
    "    \"\"\"\n",
    "    Hoping this implementation is less buggy / faster\n",
    "    \n",
    "    still feels a bit slow.\n",
    "    \"\"\"\n",
    "    preds_func = lambda θ: net.forward(X, θ)\n",
    "#     batched_preds = torch._vmap_internals.vmap(preds_func)\n",
    "#     import pdb; pdb.set_trace()\n",
    "    preds = torch.hstack(list(map(preds_func, Θ)))\n",
    "\n",
    "    diff = preds - y\n",
    "#     import pdb; pdb.set_trace()\n",
    "    diff_sq_fld = -0.5 * (diff**2).sum(dim=0) / σ_y**2\n",
    "\n",
    "    return diff_sq_fld"
   ]
  },
  {
   "cell_type": "code",
   "execution_count": 7,
   "metadata": {},
   "outputs": [],
   "source": [
    "Δt=0.05\n",
    "t_size = int(math.ceil(1.0/Δt))\n",
    "dim = net.dim\n",
    "\n",
    "ts = torch.linspace(0, 1, t_size).to(device)\n",
    "no_posterior_samples = 200\n",
    "\n",
    "sde = FollmerSDE(dim, dim, no_posterior_samples, 1.0, device=device, drift=SimpleForwardNetBN).to(device)\n",
    "Θ_0 = torch.zeros((no_posterior_samples, net.dim)).to(device) # Θ_0 ~ δ_0\n",
    "\n",
    "# Initial state y0, the SDE is solved over the interval [ts[0], ts[-1]].\n",
    "# ys will have shape (t_size, batch_size, state_size)\n",
    "ys = torchsde.sdeint(sde, Θ_0, ts, dt=Δt)"
   ]
  },
  {
   "cell_type": "code",
   "execution_count": 8,
   "metadata": {},
   "outputs": [
    {
     "name": "stderr",
     "output_type": "stream",
     "text": [
      "c:\\users\\vargf\\onedrive\\documents\\projects\\controlledfollmerdrift\\cfollmer\\objectives.py:92: UserWarning: torch.vmap is an experimental prototype that is subject to change and/or deletion. Please use at your own risk. There may be unexpected performance cliffs due to certain operators not being implemented. To see detailed performance warnings please use `torch._C._debug_only_display_vmap_fallback_warnings(True) before the call to `vmap`.\n",
      "  f = _vmap_internals.vmap(f_)\n",
      "c:\\users\\vargf\\onedrive\\documents\\projects\\controlledfollmerdrift\\cfollmer\\objectives.py:93: UserWarning: torch.vmap is an experimental prototype that is subject to change and/or deletion. Please use at your own risk. There may be unexpected performance cliffs due to certain operators not being implemented. To see detailed performance warnings please use `torch._C._debug_only_display_vmap_fallback_warnings(True) before the call to `vmap`.\n",
      "  f_detached = _vmap_internals.vmap(sde.f_detached)\n"
     ]
    },
    {
     "data": {
      "text/plain": [
       "tensor(1064375.2500, device='cuda:0', grad_fn=<MeanBackward0>)"
      ]
     },
     "execution_count": 8,
     "metadata": {},
     "output_type": "execute_result"
    }
   ],
   "source": [
    "stl_relative_entropy_control_cost(sde, Θ_0, X_train, y_train, \n",
    "                              ln_prior, log_likelihood_vmap, γ=1.0, device=device, batchnorm=True)"
   ]
  },
  {
   "cell_type": "code",
   "execution_count": 9,
   "metadata": {},
   "outputs": [
    {
     "data": {
      "application/vnd.jupyter.widget-view+json": {
       "model_id": "84cd7b6463de4e6db3b38bcb979f1576",
       "version_major": 2,
       "version_minor": 0
      },
      "text/plain": [
       "  0%|          | 0/400 [00:00<?, ?it/s]"
      ]
     },
     "metadata": {},
     "output_type": "display_data"
    }
   ],
   "source": [
    "γ = 0.2\n",
    "Δt = 0.01\n",
    "\n",
    "# γ = 1\n",
    "# Δt = 0.05 - \\sigma_w = 10-6\n",
    "\n",
    "t_size = int(math.ceil(1.0/Δt))\n",
    "ts = torch.linspace(0, 1, t_size).to(device)\n",
    "\n",
    "sde = FollmerSDE(dim, dim, no_posterior_samples  , γ=γ, device=device).to(device)\n",
    "optimizer = torch.optim.Adam(sde.μ.parameters(), lr=0.01, weight_decay =0.5)\n",
    "#     optimizer = torch.optim.LBFGS(gpr.parameters(), lr=0.01)\n",
    "losses = []\n",
    "num_steps = 400\n",
    "# with torch.autograd.set_detect_anomaly(True):\n",
    "for i in tqdm(range(num_steps)):\n",
    "    optimizer.zero_grad()\n",
    "\n",
    "    if isinstance(optimizer, torch.optim.LBFGS):\n",
    "        def closure():\n",
    "            loss = stl_relative_entropy_control_cost(\n",
    "                sde, Θ_0.float(),\n",
    "                X_train.float(), y_train.float(),\n",
    "                ln_prior, log_likelihood_vmap, γ=γ,\n",
    "                batchnorm=True, device=device\n",
    "            )\n",
    "            optimizer.zero_grad()\n",
    "            loss.backward()\n",
    "            return loss\n",
    "\n",
    "        optimizer.step(closure)\n",
    "        losses.append(closure().item())\n",
    "    else:\n",
    "        loss = stl_relative_entropy_control_cost(\n",
    "            sde, Θ_0,\n",
    "            X_train, y_train,\n",
    "            ln_prior, log_likelihood_vmap, γ=γ,\n",
    "            batchnorm=True, device=device\n",
    "        )\n",
    "        optimizer.zero_grad()\n",
    "        loss.backward()\n",
    "\n",
    "        optimizer.step()\n",
    "        losses.append(loss.item())"
   ]
  },
  {
   "cell_type": "code",
   "execution_count": 10,
   "metadata": {},
   "outputs": [],
   "source": [
    "torch.cuda.empty_cache()"
   ]
  },
  {
   "cell_type": "code",
   "execution_count": 11,
   "metadata": {
    "scrolled": true
   },
   "outputs": [
    {
     "data": {
      "text/plain": [
       "[3572.915283203125,\n",
       " 2912.655029296875,\n",
       " 2642.2041015625,\n",
       " 2055.23974609375,\n",
       " 1563.4718017578125,\n",
       " 1949.941650390625,\n",
       " 1624.8193359375,\n",
       " 1288.0240478515625,\n",
       " 1199.7734375,\n",
       " 1252.1710205078125,\n",
       " 1270.08203125,\n",
       " 1257.656005859375,\n",
       " 1106.282470703125,\n",
       " 1163.57373046875,\n",
       " 1061.71923828125,\n",
       " 1046.845703125,\n",
       " 1007.2621459960938,\n",
       " 927.4344482421875,\n",
       " 1046.5218505859375,\n",
       " 1006.4429321289062,\n",
       " 1002.5360107421875,\n",
       " 907.009765625,\n",
       " 860.9640502929688,\n",
       " 915.7824096679688,\n",
       " 884.8540649414062,\n",
       " 785.4993286132812,\n",
       " 821.7096557617188,\n",
       " 932.4464111328125,\n",
       " 820.6384887695312,\n",
       " 845.9518432617188,\n",
       " 794.1201171875,\n",
       " 781.3825073242188,\n",
       " 778.15576171875,\n",
       " 767.814697265625,\n",
       " 775.2818603515625,\n",
       " 693.58203125,\n",
       " 678.0905151367188,\n",
       " 624.9917602539062,\n",
       " 612.2742309570312,\n",
       " 633.6605224609375,\n",
       " 534.2416381835938,\n",
       " 525.750244140625,\n",
       " 488.6950378417969,\n",
       " 449.3923645019531,\n",
       " 494.6759948730469,\n",
       " 437.69854736328125,\n",
       " 504.288818359375,\n",
       " 611.7381591796875,\n",
       " 521.3323974609375,\n",
       " 510.3163146972656,\n",
       " 557.2525634765625,\n",
       " 519.8432006835938,\n",
       " 514.82763671875,\n",
       " 469.0106201171875,\n",
       " 393.45208740234375,\n",
       " 494.69873046875,\n",
       " 552.1464233398438,\n",
       " 454.84014892578125,\n",
       " 530.5101928710938,\n",
       " 529.9140014648438,\n",
       " 455.5978698730469,\n",
       " 438.0230407714844,\n",
       " 483.5973205566406,\n",
       " 483.13665771484375,\n",
       " 536.1026611328125,\n",
       " 446.7755432128906,\n",
       " 434.9308776855469,\n",
       " 448.3768005371094,\n",
       " 413.32708740234375,\n",
       " 469.9996032714844,\n",
       " 466.2965393066406,\n",
       " 434.45709228515625,\n",
       " 484.85174560546875,\n",
       " 401.3395080566406,\n",
       " 423.6812438964844,\n",
       " 428.3243713378906,\n",
       " 368.78070068359375,\n",
       " 454.1626892089844,\n",
       " 410.4609375,\n",
       " 436.09429931640625,\n",
       " 419.04302978515625,\n",
       " 382.04046630859375,\n",
       " 431.97393798828125,\n",
       " 401.765625,\n",
       " 378.6798400878906,\n",
       " 363.51995849609375,\n",
       " 395.5417785644531,\n",
       " 399.2686767578125,\n",
       " 345.36260986328125,\n",
       " 352.64288330078125,\n",
       " 353.943359375,\n",
       " 332.0855407714844,\n",
       " 371.1293029785156,\n",
       " 343.9093322753906,\n",
       " 383.5944519042969,\n",
       " 321.7312316894531,\n",
       " 417.0460205078125,\n",
       " 319.5002746582031,\n",
       " 448.97308349609375,\n",
       " 347.228515625,\n",
       " 290.8336181640625,\n",
       " 437.1935729980469,\n",
       " 288.3073425292969,\n",
       " 336.7362060546875,\n",
       " 395.1241455078125,\n",
       " 342.37615966796875,\n",
       " 288.1437683105469,\n",
       " 399.4596862792969,\n",
       " 327.3235168457031,\n",
       " 309.5255126953125,\n",
       " 327.9150695800781,\n",
       " 315.7274169921875,\n",
       " 280.6620788574219,\n",
       " 251.64657592773438,\n",
       " 322.9603576660156,\n",
       " 269.9346923828125,\n",
       " 278.7317199707031,\n",
       " 325.2059020996094,\n",
       " 268.0019836425781,\n",
       " 311.2545166015625,\n",
       " 239.262939453125,\n",
       " 262.1602783203125,\n",
       " 236.57858276367188,\n",
       " 246.4335174560547,\n",
       " 241.39007568359375,\n",
       " 258.2419128417969,\n",
       " 258.93194580078125,\n",
       " 262.8190002441406,\n",
       " 250.2905731201172,\n",
       " 233.61956787109375,\n",
       " 242.65390014648438,\n",
       " 247.06747436523438,\n",
       " 222.98204040527344,\n",
       " 228.13983154296875,\n",
       " 234.29835510253906,\n",
       " 233.5215606689453,\n",
       " 236.69476318359375,\n",
       " 222.47373962402344,\n",
       " 234.68003845214844,\n",
       " 258.00445556640625,\n",
       " 230.92579650878906,\n",
       " 225.56092834472656,\n",
       " 204.2449493408203,\n",
       " 218.53712463378906,\n",
       " 241.21743774414062,\n",
       " 212.62718200683594,\n",
       " 206.24302673339844,\n",
       " 202.62437438964844,\n",
       " 198.95277404785156,\n",
       " 207.62109375,\n",
       " 204.99729919433594,\n",
       " 202.27984619140625,\n",
       " 189.4918670654297,\n",
       " 196.4391326904297,\n",
       " 197.79920959472656,\n",
       " 216.102294921875,\n",
       " 215.80120849609375,\n",
       " 202.33538818359375,\n",
       " 202.309814453125,\n",
       " 197.079833984375,\n",
       " 184.83016967773438,\n",
       " 176.38694763183594,\n",
       " 184.08363342285156,\n",
       " 185.33575439453125,\n",
       " 186.27699279785156,\n",
       " 181.1090850830078,\n",
       " 172.28700256347656,\n",
       " 185.72213745117188,\n",
       " 184.00924682617188,\n",
       " 171.40492248535156,\n",
       " 175.90968322753906,\n",
       " 188.457275390625,\n",
       " 168.0215606689453,\n",
       " 179.62725830078125,\n",
       " 174.9686279296875,\n",
       " 188.64657592773438,\n",
       " 176.863037109375,\n",
       " 179.71351623535156,\n",
       " 193.93472290039062,\n",
       " 174.7930450439453,\n",
       " 183.24081420898438,\n",
       " 190.00901794433594,\n",
       " 195.18955993652344,\n",
       " 179.52304077148438,\n",
       " 179.41653442382812,\n",
       " 175.18121337890625,\n",
       " 170.33653259277344,\n",
       " 187.96397399902344,\n",
       " 172.74026489257812,\n",
       " 160.2541046142578,\n",
       " 168.97146606445312,\n",
       " 163.09280395507812,\n",
       " 186.5193328857422,\n",
       " 163.66873168945312,\n",
       " 159.58993530273438,\n",
       " 162.49595642089844,\n",
       " 179.7986297607422,\n",
       " 165.80128479003906,\n",
       " 182.0558319091797,\n",
       " 161.84109497070312,\n",
       " 182.87750244140625,\n",
       " 166.12625122070312,\n",
       " 171.60073852539062,\n",
       " 177.11428833007812,\n",
       " 179.86474609375,\n",
       " 175.61874389648438,\n",
       " 172.3241424560547,\n",
       " 157.6637420654297,\n",
       " 165.82167053222656,\n",
       " 183.9833221435547,\n",
       " 179.3672637939453,\n",
       " 162.5041961669922,\n",
       " 200.02862548828125,\n",
       " 156.7119598388672,\n",
       " 192.7864532470703,\n",
       " 149.22120666503906,\n",
       " 179.13296508789062,\n",
       " 164.75299072265625,\n",
       " 187.9530487060547,\n",
       " 170.65707397460938,\n",
       " 177.62179565429688,\n",
       " 157.1051483154297,\n",
       " 179.556640625,\n",
       " 169.55909729003906,\n",
       " 179.01112365722656,\n",
       " 162.30271911621094,\n",
       " 183.73745727539062,\n",
       " 171.1755828857422,\n",
       " 188.9778289794922,\n",
       " 175.947998046875,\n",
       " 174.2568359375,\n",
       " 195.74148559570312,\n",
       " 168.97421264648438,\n",
       " 182.17152404785156,\n",
       " 176.46144104003906,\n",
       " 174.26060485839844,\n",
       " 175.84750366210938,\n",
       " 189.23402404785156,\n",
       " 177.35948181152344,\n",
       " 172.80130004882812,\n",
       " 184.15948486328125,\n",
       " 159.31585693359375,\n",
       " 168.0550994873047,\n",
       " 167.76589965820312,\n",
       " 174.44276428222656,\n",
       " 163.05909729003906,\n",
       " 165.19509887695312,\n",
       " 170.62557983398438,\n",
       " 179.8946990966797,\n",
       " 181.94635009765625,\n",
       " 162.95635986328125,\n",
       " 160.41366577148438,\n",
       " 174.09164428710938,\n",
       " 178.32945251464844,\n",
       " 171.72042846679688,\n",
       " 161.23666381835938,\n",
       " 165.80844116210938,\n",
       " 171.1810760498047,\n",
       " 163.9403533935547,\n",
       " 173.51226806640625,\n",
       " 150.02767944335938,\n",
       " 175.16531372070312,\n",
       " 156.3832550048828,\n",
       " 150.74609375,\n",
       " 169.7256622314453,\n",
       " 166.09124755859375,\n",
       " 171.55233764648438,\n",
       " 167.26107788085938,\n",
       " 151.7703857421875,\n",
       " 163.99679565429688,\n",
       " 168.2315216064453,\n",
       " 163.38999938964844,\n",
       " 173.7696075439453,\n",
       " 162.9977264404297,\n",
       " 159.3800811767578,\n",
       " 168.3538055419922,\n",
       " 161.2433624267578,\n",
       " 170.1715850830078,\n",
       " 164.37319946289062,\n",
       " 176.00819396972656,\n",
       " 153.54568481445312,\n",
       " 176.90541076660156,\n",
       " 159.7591552734375,\n",
       " 175.56137084960938,\n",
       " 166.23402404785156,\n",
       " 155.62245178222656,\n",
       " 153.23666381835938,\n",
       " 169.60714721679688,\n",
       " 157.37985229492188,\n",
       " 161.5349578857422,\n",
       " 152.6398468017578,\n",
       " 160.3238983154297,\n",
       " 172.24594116210938,\n",
       " 167.0599822998047,\n",
       " 159.09744262695312,\n",
       " 171.9899139404297,\n",
       " 162.47364807128906,\n",
       " 188.6956787109375,\n",
       " 161.771240234375,\n",
       " 179.1671905517578,\n",
       " 152.56320190429688,\n",
       " 168.3150177001953,\n",
       " 172.9344940185547,\n",
       " 152.95150756835938,\n",
       " 183.2780303955078,\n",
       " 161.13343811035156,\n",
       " 155.99200439453125,\n",
       " 162.63690185546875,\n",
       " 161.3857879638672,\n",
       " 162.24598693847656,\n",
       " 153.70960998535156,\n",
       " 173.83119201660156,\n",
       " 166.14483642578125,\n",
       " 160.78390502929688,\n",
       " 153.93408203125,\n",
       " 175.47756958007812,\n",
       " 165.58984375,\n",
       " 164.34475708007812,\n",
       " 147.754150390625,\n",
       " 158.86407470703125,\n",
       " 163.91526794433594,\n",
       " 154.37733459472656,\n",
       " 164.4540557861328,\n",
       " 157.10696411132812,\n",
       " 146.87261962890625,\n",
       " 165.7307586669922,\n",
       " 174.59927368164062,\n",
       " 142.0095672607422,\n",
       " 162.14315795898438,\n",
       " 163.2527618408203,\n",
       " 151.24627685546875,\n",
       " 162.47586059570312,\n",
       " 167.84820556640625,\n",
       " 168.6150360107422,\n",
       " 158.3908233642578,\n",
       " 171.32192993164062,\n",
       " 186.5019073486328,\n",
       " 149.6944580078125,\n",
       " 183.22854614257812,\n",
       " 141.37545776367188,\n",
       " 189.51718139648438,\n",
       " 162.07723999023438,\n",
       " 173.4871826171875,\n",
       " 152.64854431152344,\n",
       " 177.6976776123047,\n",
       " 168.184326171875,\n",
       " 181.76307678222656,\n",
       " 159.43124389648438,\n",
       " 163.5932159423828,\n",
       " 159.97930908203125,\n",
       " 178.149169921875,\n",
       " 174.38351440429688,\n",
       " 183.6967010498047,\n",
       " 166.13693237304688,\n",
       " 165.7982635498047,\n",
       " 162.37933349609375,\n",
       " 176.6200408935547,\n",
       " 171.83151245117188,\n",
       " 170.63987731933594,\n",
       " 166.8397979736328,\n",
       " 179.06602478027344,\n",
       " 174.15966796875,\n",
       " 169.48062133789062,\n",
       " 200.12542724609375,\n",
       " 154.1231231689453,\n",
       " 158.39784240722656,\n",
       " 152.22653198242188,\n",
       " 171.96031188964844,\n",
       " 167.29763793945312,\n",
       " 174.3404998779297,\n",
       " 184.28895568847656,\n",
       " 159.1613311767578,\n",
       " 157.99790954589844,\n",
       " 166.7164764404297,\n",
       " 161.92027282714844,\n",
       " 171.7821044921875,\n",
       " 169.51693725585938,\n",
       " 157.37205505371094,\n",
       " 162.4993438720703,\n",
       " 165.41200256347656,\n",
       " 171.29031372070312,\n",
       " 161.28433227539062,\n",
       " 155.54345703125,\n",
       " 166.96044921875,\n",
       " 147.93690490722656,\n",
       " 171.42703247070312,\n",
       " 159.58932495117188,\n",
       " 161.2823486328125,\n",
       " 153.66346740722656,\n",
       " 163.09719848632812,\n",
       " 172.756591796875,\n",
       " 165.4898223876953,\n",
       " 152.62689208984375,\n",
       " 158.6121826171875,\n",
       " 163.23907470703125,\n",
       " 157.23187255859375,\n",
       " 156.1173553466797,\n",
       " 164.28012084960938,\n",
       " 169.20816040039062,\n",
       " 156.73077392578125]"
      ]
     },
     "execution_count": 11,
     "metadata": {},
     "output_type": "execute_result"
    }
   ],
   "source": [
    "losses"
   ]
  },
  {
   "cell_type": "code",
   "execution_count": 19,
   "metadata": {},
   "outputs": [
    {
     "data": {
      "text/plain": [
       "[<matplotlib.lines.Line2D at 0x1f897e3bd00>]"
      ]
     },
     "execution_count": 19,
     "metadata": {},
     "output_type": "execute_result"
    },
    {
     "data": {
      "image/png": "[encoded data removed]",
      "text/plain": [
       "<Figure size 432x288 with 1 Axes>"
      ]
     },
     "metadata": {
      "needs_background": "light"
     },
     "output_type": "display_data"
    }
   ],
   "source": [
    "plt.plot(losses[:])"
   ]
  },
  {
   "cell_type": "code",
   "execution_count": 13,
   "metadata": {},
   "outputs": [],
   "source": [
    "torch.cuda.empty_cache()\n",
    "Θ_1 = torchsde.sdeint(sde, Θ_0, ts, dt=Δt)[-1,...]"
   ]
  },
  {
   "cell_type": "code",
   "execution_count": 14,
   "metadata": {},
   "outputs": [
    {
     "data": {
      "text/plain": [
       "(array([ 6.,  8., 16., 26., 36., 40., 31., 19., 12.,  6.]),\n",
       " array([-0.9714953 , -0.8766585 , -0.7818217 , -0.68698496, -0.5921482 ,\n",
       "        -0.4973114 , -0.40247464, -0.30763787, -0.21280111, -0.11796434,\n",
       "        -0.02312758], dtype=float32),\n",
       " <a list of 10 Patch objects>)"
      ]
     },
     "execution_count": 14,
     "metadata": {},
     "output_type": "execute_result"
    },
    {
     "data": {
      "image/png": "[encoded data removed]",
      "text/plain": [
       "<Figure size 432x288 with 3 Axes>"
      ]
     },
     "metadata": {
      "needs_background": "light"
     },
     "output_type": "display_data"
    }
   ],
   "source": [
    "torch.cuda.empty_cache()\n",
    "fig, (ax1,ax2,ax3) = plt.subplots(1,3)\n",
    "\n",
    "ax1.hist(Θ_1[:,0].cpu().detach().numpy())\n",
    "ax2.hist(Θ_1[:,1].cpu().detach().numpy())\n",
    "ax3.hist(Θ_1[:,-23].cpu().detach().numpy())"
   ]
  },
  {
   "cell_type": "code",
   "execution_count": 15,
   "metadata": {},
   "outputs": [
    {
     "name": "stderr",
     "output_type": "stream",
     "text": [
      "C:\\Users\\vargf\\AppData\\Local\\Temp/ipykernel_8448/162794254.py:55: UserWarning: torch.vmap is an experimental prototype that is subject to change and/or deletion. Please use at your own risk. There may be unexpected performance cliffs due to certain operators not being implemented. To see detailed performance warnings please use `torch._C._debug_only_display_vmap_fallback_warnings(True) before the call to `vmap`.\n",
      "  batched_preds = torch._vmap_internals.vmap(preds_func)\n"
     ]
    }
   ],
   "source": [
    "# pred = net.map_forward(X_train, Θ_1.mean(dim=0).reshape(1,-1))#.mean(axis=1)\n",
    "end = 6.5\n",
    "X_train_2 = torch.linspace(-end, end, 100).reshape(-1,1).to(device)\n",
    "\n",
    "pred_ = net.map_forward(X_train_2, Θ_1)\n",
    "pred = pred_.mean(axis=1)\n",
    "\n",
    "σ  = pred_.std(axis=1)"
   ]
  },
  {
   "cell_type": "code",
   "execution_count": 16,
   "metadata": {},
   "outputs": [
    {
     "data": {
      "text/plain": [
       "(torch.Size([100]), torch.Size([100]))"
      ]
     },
     "execution_count": 16,
     "metadata": {},
     "output_type": "execute_result"
    }
   ],
   "source": [
    "σ.shape, pred.shape"
   ]
  },
  {
   "cell_type": "code",
   "execution_count": 17,
   "metadata": {},
   "outputs": [
    {
     "data": {
      "image/png": "[encoded data removed]",
      "text/plain": [
       "<Figure size 720x432 with 1 Axes>"
      ]
     },
     "metadata": {
      "needs_background": "light"
     },
     "output_type": "display_data"
    }
   ],
   "source": [
    "fig, ax = plt.subplots(figsize=(10, 6), tight_layout=True)\n",
    "ax.plot(X_test.detach().cpu(), f, 'b', label = 'f(x)')\n",
    "ax.plot(X_train.detach().cpu(), y_train.detach().cpu(), 'kP', ms = 9, label = 'y(x) = f(x) + $\\epsilon$')\n",
    "ax.plot(X_train_2.detach().cpu(), pred.detach().cpu(), color=\"red\", label=\"pred\")\n",
    "\n",
    "σ_p , σ_m = (pred-2*σ).detach().cpu().numpy(), (pred+2*σ).detach().cpu().numpy()\n",
    "ax.fill_between(X_train_2.detach().cpu().flatten(), σ_p.flatten() , σ_m.flatten(), alpha=.2)\n",
    "ax.legend(loc = 'upper left')\n",
    "ax.set_title('Target function with noisy observations ')\n",
    "\n",
    "plt.show()"
   ]
  },
  {
   "cell_type": "code",
   "execution_count": 18,
   "metadata": {},
   "outputs": [
    {
     "data": {
      "text/plain": [
       "Text(0.5, 1.0, 'Sampled Posterior Weights')"
      ]
     },
     "execution_count": 18,
     "metadata": {},
     "output_type": "execute_result"
    },
    {
     "data": {
      "image/png": "[encoded data removed]",
      "text/plain": [
       "<Figure size 1080x360 with 2 Axes>"
      ]
     },
     "metadata": {
      "needs_background": "light"
     },
     "output_type": "display_data"
    }
   ],
   "source": [
    "\n",
    "fig, (ax, ax1) = plt.subplots(1,2, figsize=(15, 5), tight_layout=True)\n",
    "# ax.plot(X_test.detach().cpu(), f, 'b', label = 'f(x)')\n",
    "ax.plot(X_train.detach().cpu(), y_train.detach().cpu(), 'kP', ms = 9, label = 'y(x) = f(x) + $\\epsilon$')\n",
    "# ax.plot(X_train.detach().cpu(), pred.detach().cpu(), color=\"red\", label=\"pred\")\n",
    "\n",
    "\n",
    "zero_ind = torch.abs(X_train).argmin()\n",
    "\n",
    "thresh = 10\n",
    "label_2, label_1 = True, True\n",
    "\n",
    "end=7.6\n",
    "X_train_2 = torch.linspace(-end, end, 100).reshape(-1,1).to(device)\n",
    "\n",
    "for i in range(50):\n",
    "#     print(Θ_1[i,:3])\n",
    "    θ = Θ_1[i,:,]\n",
    "    pred = net.forward(X_train_2, θ).mean(axis=1)\n",
    "    pred_min, pred_max = pred[zero_ind-thresh], pred[zero_ind+thresh]\n",
    "    label = True if i==0 else False\n",
    "    if torch.abs(pred_min - pred_max) < 0.25:\n",
    "        ax.plot(\n",
    "            X_train_2.detach().cpu(), pred.detach().cpu(),\n",
    "            alpha=0.3, color=\"red\", label=\"Posterior function Samples Flat\" if label_1 else None\n",
    "        )\n",
    "        ax1.plot(θ.detach().cpu(),  alpha=0.5, color=\"red\", label=\"Posterior weights Samples Flat\"  if label_1 else None)\n",
    "        label_1 = False\n",
    "    else:\n",
    "        ax.plot(\n",
    "            X_train_2.detach().cpu(), pred.detach().cpu(),\n",
    "            alpha=0.3, color=\"green\", label=\"Posterior fuctions Samples Good\" if label_2 else None\n",
    "        )\n",
    "        ax1.plot(θ.detach().cpu(),  alpha=0.5, color=\"green\", label=\"Posterior weights Samples Good\" if label_2 else None )\n",
    "        label_2 = False \n",
    "        \n",
    "        \n",
    "ax.legend(loc = 'upper left')\n",
    "ax.set_title('Target function with noisy observations ')\n",
    "\n",
    "ax1.legend(loc = 'upper left')\n",
    "ax1.set_title('Sampled Posterior Weights')\n",
    "# plt.plot(X_train.detach().cpu(), y_train.detach().cpu())\n",
    "\n"
   ]
  },
  {
   "cell_type": "markdown",
   "metadata": {},
   "source": [
    "# MAP Baseline - Answer is ok now, wildly overfits compared to bayesnet"
   ]
  },
  {
   "cell_type": "code",
   "execution_count": 54,
   "metadata": {},
   "outputs": [
    {
     "data": {
      "application/vnd.jupyter.widget-view+json": {
       "model_id": "366bdd9f03604c3e9d04d7eedd24883a",
       "version_major": 2,
       "version_minor": 0
      },
      "text/plain": [
       "  0%|          | 0/2000 [00:00<?, ?it/s]"
      ]
     },
     "metadata": {},
     "output_type": "display_data"
    }
   ],
   "source": [
    "net_map = OnedRegressionForwardNet(1,1, device=device, depth=1, width=10)\n",
    "\n",
    "Θ_map = torch.normal(0,1, (1,net_map.dim), requires_grad=True, device=device) # torch.zeros((1, dim), requires_grad=True, device=device)\n",
    "optimizer_map = torch.optim.Adam([Θ_map], lr=0.5)\n",
    "#     optimizer = torch.optim.LBFGS(gpr.parameters(), lr=0.01)\n",
    "\n",
    "losses_map = []\n",
    "num_steps = 2000\n",
    "for i in tqdm(range(num_steps)):\n",
    "    optimizer_map.zero_grad()\n",
    "\n",
    "    if isinstance(optimizer_map, torch.optim.LBFGS):\n",
    "        def closure_map():\n",
    "            loss_map = log_likelihood_vmap()\n",
    "            optimizer_map.zero_grad()\n",
    "            loss_map.backward()\n",
    "            return loss\n",
    "\n",
    "        optimizer_map.step(closure_map)\n",
    "        losses_map.append(closure_map().item())\n",
    "    else:\n",
    "        loss_map = -(log_likelihood_vmap(Θ_map, X_train, y_train, net=net_map) + 0 * ln_prior(Θ_map))\n",
    "        optimizer_map.zero_grad()\n",
    "        loss_map.backward()\n",
    "#         print(Θ_map.sum())\n",
    "\n",
    "        optimizer_map.step()\n",
    "#         print(loss_map.item())\n",
    "        losses_map.append(loss_map.item())"
   ]
  },
  {
   "cell_type": "code",
   "execution_count": 357,
   "metadata": {},
   "outputs": [
    {
     "name": "stderr",
     "output_type": "stream",
     "text": [
      "C:\\Users\\vargf\\AppData\\Local\\Temp/ipykernel_25680/2698751039.py:47: UserWarning: torch.vmap is an experimental prototype that is subject to change and/or deletion. Please use at your own risk. There may be unexpected performance cliffs due to certain operators not being implemented. To see detailed performance warnings please use `torch._C._debug_only_display_vmap_fallback_warnings(True) before the call to `vmap`.\n",
      "  batched_preds = torch._vmap_internals.vmap(preds_func)\n"
     ]
    }
   ],
   "source": [
    "pred = net_map.map_forward(X_train, Θ_map)"
   ]
  },
  {
   "cell_type": "code",
   "execution_count": 358,
   "metadata": {},
   "outputs": [
    {
     "data": {
      "text/plain": [
       "tensor([[ 0.0689, -1.3282, -1.8303, -0.0302,  0.7726,  0.6816, -0.0398, -0.2844,\n",
       "         -0.8827, -1.2118, -4.2557,  0.6610, -0.8504, -0.2750, -3.0124, -1.6717,\n",
       "         -1.9313, -1.2023, -3.1821, -4.1283,  0.6745, -0.8429,  0.6224,  0.9746,\n",
       "          0.9008, -0.2274,  0.5632,  0.6936, -0.2356, -0.0162,  1.0680]],\n",
       "       device='cuda:0', requires_grad=True)"
      ]
     },
     "execution_count": 358,
     "metadata": {},
     "output_type": "execute_result"
    }
   ],
   "source": [
    "Θ_map"
   ]
  },
  {
   "cell_type": "code",
   "execution_count": 359,
   "metadata": {},
   "outputs": [
    {
     "data": {
      "text/plain": [
       "[<matplotlib.lines.Line2D at 0x22bbc424a90>]"
      ]
     },
     "execution_count": 359,
     "metadata": {},
     "output_type": "execute_result"
    },
    {
     "data": {
      "image/png": "[encoded data removed]",
      "text/plain": [
       "<Figure size 432x288 with 1 Axes>"
      ]
     },
     "metadata": {
      "needs_background": "light"
     },
     "output_type": "display_data"
    }
   ],
   "source": [
    "plt.plot(losses_map[:])"
   ]
  },
  {
   "cell_type": "code",
   "execution_count": 360,
   "metadata": {},
   "outputs": [
    {
     "data": {
      "text/plain": [
       "Text(0.5, 1.0, 'Target function with noisy observations ')"
      ]
     },
     "execution_count": 360,
     "metadata": {},
     "output_type": "execute_result"
    },
    {
     "data": {
      "image/png": "[encoded data removed]",
      "text/plain": [
       "<Figure size 432x288 with 1 Axes>"
      ]
     },
     "metadata": {
      "needs_background": "light"
     },
     "output_type": "display_data"
    }
   ],
   "source": [
    "# plt.plot(X_train.detach().cpu(), pred.flatten().detach().cpu() )\n",
    "\n",
    "fig, ax = plt.subplots(figsize=(6, 4), tight_layout=True)\n",
    "ax.plot(X_test.detach().cpu(), f, 'b', label = 'f(x)')\n",
    "ax.plot(X_train.detach().cpu(), y_train.detach().cpu(), 'kP', ms = 9, label = 'y(x) = f(x) + $\\epsilon$')\n",
    "ax.plot(X_train.detach().cpu(), pred.detach().cpu(), color=\"red\", label=\"pred\")\n",
    "ax.legend(loc = 'upper left')\n",
    "ax.set_title('Target function with noisy observations ')"
   ]
  },
  {
   "cell_type": "code",
   "execution_count": 364,
   "metadata": {},
   "outputs": [
    {
     "data": {
      "image/png": "[encoded data removed]",
      "text/plain": [
       "<Figure size 432x288 with 1 Axes>"
      ]
     },
     "metadata": {
      "needs_background": "light"
     },
     "output_type": "display_data"
    }
   ],
   "source": [
    "plt.plot(Θ_1.mean(dim=0).detach().cpu())\n",
    "plt.plot(Θ_map.detach().cpu().flatten());"
   ]
  },
  {
   "cell_type": "code",
   "execution_count": 362,
   "metadata": {},
   "outputs": [
    {
     "data": {
      "text/plain": [
       "torch.Size([1, 31])"
      ]
     },
     "execution_count": 362,
     "metadata": {},
     "output_type": "execute_result"
    }
   ],
   "source": [
    "Θ_map.shape"
   ]
  },
  {
   "cell_type": "code",
   "execution_count": 354,
   "metadata": {},
   "outputs": [
    {
     "data": {
      "text/plain": [
       "torch.Size([100, 31])"
      ]
     },
     "execution_count": 354,
     "metadata": {},
     "output_type": "execute_result"
    }
   ],
   "source": [
    "Θ_1.shape"
   ]
  },
  {
   "cell_type": "code",
   "execution_count": 363,
   "metadata": {},
   "outputs": [
    {
     "data": {
      "text/plain": [
       "torch.Size([100])"
      ]
     },
     "execution_count": 363,
     "metadata": {},
     "output_type": "execute_result"
    }
   ],
   "source": [
    "Θ_1.mean(dim=1).shape"
   ]
  },
  {
   "cell_type": "code",
   "execution_count": null,
   "metadata": {},
   "outputs": [],
   "source": []
  }
 ],
 "metadata": {
  "kernelspec": {
   "display_name": "Python 3 (ipykernel)",
   "language": "python",
   "name": "python3"
  },
  "language_info": {
   "codemirror_mode": {
    "name": "ipython",
    "version": 3
   },
   "file_extension": ".py",
   "mimetype": "text/x-python",
   "name": "python",
   "nbconvert_exporter": "python",
   "pygments_lexer": "ipython3",
   "version": "3.8.5"
  },
  "toc": {
   "base_numbering": 1,
   "nav_menu": {},
   "number_sections": true,
   "sideBar": true,
   "skip_h1_title": false,
   "title_cell": "Table of Contents",
   "title_sidebar": "Contents",
   "toc_cell": false,
   "toc_position": {},
   "toc_section_display": true,
   "toc_window_display": false
  }
 },
 "nbformat": 4,
 "nbformat_minor": 4
}
