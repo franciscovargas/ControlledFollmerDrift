{
 "cells": [
  {
   "cell_type": "code",
   "execution_count": 1,
   "metadata": {},
   "outputs": [],
   "source": [
    "import torch\n",
    "import torch.nn.functional as F\n",
    "\n",
    "import torchsde\n",
    "import math\n",
    "import matplotlib.pyplot as plt\n",
    "\n",
    "from cfollmer.objectives import log_g, relative_entropy_control_cost\n",
    "from cfollmer.sampler_utils import FollmerSDE\n",
    "import numpy as np\n",
    "\n",
    "from tqdm.notebook import tqdm\n",
    "\n",
    "from torch import _vmap_internals"
   ]
  },
  {
   "cell_type": "markdown",
   "metadata": {},
   "source": [
    "## Generating Toy 2D Dataset."
   ]
  },
  {
   "cell_type": "code",
   "execution_count": 2,
   "metadata": {},
   "outputs": [],
   "source": [
    "import torch\n",
    "from sklearn.datasets import make_blobs\n",
    "from sklearn.model_selection import train_test_split\n",
    "from sklearn.preprocessing import StandardScaler\n",
    "\n",
    "device = \"cuda\" if torch.cuda.is_available() else \"cpu\"\n",
    "random_state = 170\n",
    "\n",
    "X, y = make_blobs(n_samples=300,\n",
    "                  cluster_std=[0.5, 0.5, 0.5],\n",
    "                  random_state=random_state)\n",
    "\n",
    "X = X[y==0,:]\n",
    "y = y[y==0]\n",
    "# # Scale data to have mean 0 and variance 1 \n",
    "# # which is importance for convergence of the neural network\n",
    "scaler = StandardScaler()\n",
    "X_scaled = scaler.fit_transform(X)\n",
    "\n",
    "# Split the data set into training and testing\n",
    "X_train, X_test, y_train, y_test = train_test_split(\n",
    "    X_scaled, y, test_size=0.2, random_state=2)\n",
    "\n",
    "\n",
    "X_train, X_test, y_train, y_test = \\\n",
    "    torch.tensor(X_train, dtype=torch.float32, device=device), \\\n",
    "    torch.tensor(X_test, dtype=torch.float32, device=device), \\\n",
    "    torch.tensor(y_train, dtype=torch.float32, device=device), \\\n",
    "    torch.tensor(y_test, dtype=torch.float32, device=device) "
   ]
  },
  {
   "cell_type": "code",
   "execution_count": 3,
   "metadata": {},
   "outputs": [
    {
     "data": {
      "text/plain": [
       "array([0, 0, 0, 0, 0, 0, 0, 0, 0, 0, 0, 0, 0, 0, 0, 0, 0, 0, 0, 0, 0, 0,\n",
       "       0, 0, 0, 0, 0, 0, 0, 0, 0, 0, 0, 0, 0, 0, 0, 0, 0, 0, 0, 0, 0, 0,\n",
       "       0, 0, 0, 0, 0, 0, 0, 0, 0, 0, 0, 0, 0, 0, 0, 0, 0, 0, 0, 0, 0, 0,\n",
       "       0, 0, 0, 0, 0, 0, 0, 0, 0, 0, 0, 0, 0, 0, 0, 0, 0, 0, 0, 0, 0, 0,\n",
       "       0, 0, 0, 0, 0, 0, 0, 0, 0, 0, 0, 0])"
      ]
     },
     "execution_count": 3,
     "metadata": {},
     "output_type": "execute_result"
    }
   ],
   "source": [
    "y"
   ]
  },
  {
   "cell_type": "code",
   "execution_count": 4,
   "metadata": {},
   "outputs": [
    {
     "data": {
      "image/png": "[encoded data removed]",
      "text/plain": [
       "<Figure size 1152x432 with 1 Axes>"
      ]
     },
     "metadata": {
      "needs_background": "light"
     },
     "output_type": "display_data"
    }
   ],
   "source": [
    "fig, ax1 = plt.subplots(1, 1, figsize=(16, 6))\n",
    "\n",
    "ax1.plot(X_scaled[:, 0], X_scaled[:, 1], \n",
    "         linestyle='none', \n",
    "         marker='o')\n",
    "\n",
    "ax1.axis('equal');"
   ]
  },
  {
   "cell_type": "markdown",
   "metadata": {},
   "source": [
    "$$\\DeclareMathOperator*{\\argmin}{arg\\,min}$$\n",
    "$$\\def\\E{{\\mathbb{E}}}$$\n",
    "$$\\def\\rvu{{\\mathbf{u}}}$$\n",
    "$$\\def\\rvTheta{{\\bm{\\Theta}}}$$\n",
    "$$\\def\\gU{{\\mathcal{U}}}$$\n",
    "$$\\def\\mX{{\\mathbf{X}}}$$"
   ]
  },
  {
   "cell_type": "markdown",
   "metadata": {},
   "source": [
    "## Controlled Schrodinger Follmer Sampler\n",
    "\n",
    "The objevtive we are trying to implement is:\n",
    "\n",
    "\\begin{align}\n",
    "  \\mathbf{u}_t^{*}=  \\argmin_{\\rvu_t \\in \\mathcal{U}}\\mathbb{E}\\left[\\frac{1}{2\\gamma}\\int_0^1||\\rvu(t, \\Theta_t)||^2 dt - \\ln\\left(\\frac{ p(\\mX | \\Theta_1)p(\\Theta_1)}{\\mathcal{N}(\\Theta_1|\\mathbf{0}, \\gamma \\mathbb{I} )}\\right)\\right] \\\n",
    "\\end{align}\n",
    "\n",
    "Where:\n",
    "\\begin{align}\n",
    "d\\Theta_t = \\rvu(t, \\Theta_t)dt + \\sqrt{\\gamma} dB_t\n",
    "\\end{align}\n",
    "\n",
    "To do so we use the EM discretisation."
   ]
  },
  {
   "cell_type": "code",
   "execution_count": 5,
   "metadata": {},
   "outputs": [],
   "source": [
    "def log_gaussian(x, mean=0):\n",
    "    \"\"\"\n",
    "    Returns the density of x under the supplied gaussian. Defaults to\n",
    "    standard gaussian N(0, I)\n",
    "    :param x: (*) torch.Tensor\n",
    "    :param mean: float or torch.FloatTensor with dimensions (*)\n",
    "    :param logvar: float or torch.FloatTensor with dimensions (*)\n",
    "    :return: (*) elementwise log density\n",
    "    \"\"\"\n",
    "    \n",
    "    log_norm_constant = -0.5 * np.log(2 * np.pi)\n",
    "    \n",
    "    var =  torch.tensor(0.1)\n",
    "    logvar = torch.log(var).reshape(1,1).to(device)\n",
    "    \n",
    "    A = (x - mean) ** 2\n",
    "    log_p = -0.5 * (logvar + A / logvar.exp())\n",
    "    log_p = log_p + log_norm_constant\n",
    "#     import pdb; pdb.set_trace()\n",
    "    return log_p.sum(dim=-1)\n",
    "\n",
    "\n",
    "\n",
    "def ln_prior(Θ, σ_w=1):\n",
    "    \"\"\"\n",
    "    Prior for means in Bayesian GMM\n",
    "    \"\"\"\n",
    "    return -0.5 * (Θ**2).sum(axis=1) / σ_w\n",
    "\n",
    "\n",
    "def log_likelihood_single(μ, X, log=True):\n",
    "    \"\"\"\n",
    "    :param X: design matrix (examples, features)\n",
    "    :param mu: the component means (K, features)\n",
    "    :param logvar: the component log-variances (K, features)\n",
    "    :param log: return value in log domain?\n",
    "\n",
    "    \"\"\"\n",
    "    \n",
    "    n, d = X.shape\n",
    "    # get feature-wise log-likelihoods (K, examples, features)\n",
    "    log_likelihoods = log_gaussian(\n",
    "        X[None, :, :], \n",
    "        μ.reshape(1, d)[:, None, :], \n",
    "    )\n",
    "\n",
    "    return log_likelihoods.sum()\n",
    "\n",
    "\n",
    "def log_likelihood(Θ, X, y=None):\n",
    "    \"\"\"\n",
    "    batching the above (hopefully its right)\n",
    "    \"\"\"\n",
    "\n",
    "    loss_ = lambda μ: log_likelihood_single(μ, X)\n",
    "    \n",
    "    batched_loss =  torch._vmap_internals.vmap(loss_)\n",
    "\n",
    "    return batched_loss(Θ)"
   ]
  },
  {
   "cell_type": "code",
   "execution_count": 6,
   "metadata": {},
   "outputs": [],
   "source": [
    "Δt=0.05\n",
    "t_size = int(math.ceil(1.0/Δt))\n",
    "dim =  2\n",
    "\n",
    "ts = torch.linspace(0, 1, t_size).to(device)\n",
    "no_posterior_samples = 50\n",
    "\n",
    "sde = FollmerSDE(dim, dim, no_posterior_samples, 1.0, device=device).to(device)\n",
    "Θ_0 = torch.zeros((no_posterior_samples, dim)).to(device) # Θ_0 ~ δ_0\n",
    "\n",
    "# Initial state y0, the SDE is solved over the interval [ts[0], ts[-1]].\n",
    "# ys will have shape (t_size, batch_size, state_size)\n",
    "ys = torchsde.sdeint(sde, Θ_0, ts, dt=Δt)"
   ]
  },
  {
   "cell_type": "code",
   "execution_count": 7,
   "metadata": {},
   "outputs": [
    {
     "name": "stderr",
     "output_type": "stream",
     "text": [
      "C:\\Users\\vargf\\anaconda3\\lib\\site-packages\\torch\\_vmap_internals.py:252: UserWarning: torch.vmap is an experimental prototype that is subject to change and/or deletion. Please use at your own risk.\n",
      "  warnings.warn(\n",
      "<ipython-input-5-bd9d1ba955c7>:47: UserWarning: Batching rule not implemented for aten::sum falling back to slow (for loop and stack) implementation (Triggered internally at  ..\\aten\\src\\ATen\\BatchedFallback.cpp:63.)\n",
      "  return log_likelihoods.sum()\n"
     ]
    },
    {
     "data": {
      "text/plain": [
       "tensor(1546.1788, device='cuda:0', grad_fn=<MeanBackward0>)"
      ]
     },
     "execution_count": 7,
     "metadata": {},
     "output_type": "execute_result"
    }
   ],
   "source": [
    "relative_entropy_control_cost(sde, Θ_0, X_train, y_train, \n",
    "                              ln_prior, log_likelihood, γ=1.0, device=device)"
   ]
  },
  {
   "cell_type": "code",
   "execution_count": 19,
   "metadata": {},
   "outputs": [
    {
     "name": "stdout",
     "output_type": "stream",
     "text": [
      "20\n"
     ]
    },
    {
     "data": {
      "application/vnd.jupyter.widget-view+json": {
       "model_id": "a3eeb94cbb884536b51b517e14eb4432",
       "version_major": 2,
       "version_minor": 0
      },
      "text/plain": [
       "  0%|          | 0/300 [00:00<?, ?it/s]"
      ]
     },
     "metadata": {},
     "output_type": "display_data"
    },
    {
     "name": "stderr",
     "output_type": "stream",
     "text": [
      "C:\\Users\\vargf\\anaconda3\\lib\\site-packages\\torch\\_vmap_internals.py:252: UserWarning: torch.vmap is an experimental prototype that is subject to change and/or deletion. Please use at your own risk.\n",
      "  warnings.warn(\n",
      "<ipython-input-5-bd9d1ba955c7>:47: UserWarning: Batching rule not implemented for aten::sum falling back to slow (for loop and stack) implementation (Triggered internally at  ..\\aten\\src\\ATen\\BatchedFallback.cpp:63.)\n",
      "  return log_likelihoods.sum()\n"
     ]
    }
   ],
   "source": [
    "γ = 1.0\n",
    "Δt=0.05\n",
    "t_size = int(math.ceil(1.0/Δt))\n",
    "print(t_size)\n",
    "ts = torch.linspace(0, 1, t_size).to(device)\n",
    "\n",
    "sde = FollmerSDE(dim, dim, no_posterior_samples  , γ=γ, device=device).to(device)\n",
    "optimizer = torch.optim.Adam(sde.μ.parameters(), lr=0.01, weight_decay =1)\n",
    "#     optimizer = torch.optim.LBFGS(gpr.parameters(), lr=0.01)\n",
    "losses = []\n",
    "num_steps = 300\n",
    "\n",
    "train = True\n",
    "if train:\n",
    "    for i in tqdm(range(num_steps)):\n",
    "        optimizer.zero_grad()\n",
    "\n",
    "        if isinstance(optimizer, torch.optim.LBFGS):\n",
    "            def closure():\n",
    "                loss = relative_entropy_control_cost(\n",
    "                    sde, Θ_0.float(),\n",
    "                    X_train.float(), y_train.float(),\n",
    "                    ln_prior, log_likelihood, γ=γ\n",
    "                )\n",
    "                optimizer.zero_grad()\n",
    "                loss.backward()\n",
    "                return loss\n",
    "\n",
    "            optimizer.step(closure)\n",
    "            losses.append(closure().item())\n",
    "        else:\n",
    "            loss = relative_entropy_control_cost(\n",
    "                sde, Θ_0,\n",
    "                X_train, y_train,\n",
    "                ln_prior, log_likelihood, γ=γ\n",
    "            )\n",
    "            optimizer.zero_grad()\n",
    "            loss.backward()\n",
    "\n",
    "            optimizer.step()\n",
    "            losses.append(loss.item())"
   ]
  },
  {
   "cell_type": "code",
   "execution_count": 20,
   "metadata": {
    "scrolled": true
   },
   "outputs": [
    {
     "data": {
      "text/plain": [
       "[1451.687744140625,\n",
       " 1518.5587158203125,\n",
       " 1454.130615234375,\n",
       " 1447.2540283203125,\n",
       " 1291.2786865234375,\n",
       " 1316.039306640625,\n",
       " 1184.6658935546875,\n",
       " 1233.3717041015625,\n",
       " 1317.087158203125,\n",
       " 1158.0584716796875,\n",
       " 1094.017333984375,\n",
       " 1094.5360107421875,\n",
       " 1084.8631591796875,\n",
       " 1022.4356079101562,\n",
       " 1071.853759765625,\n",
       " 1036.6337890625,\n",
       " 981.9197998046875,\n",
       " 986.9926147460938,\n",
       " 970.450439453125,\n",
       " 934.8773193359375,\n",
       " 925.0805053710938,\n",
       " 907.3358154296875,\n",
       " 918.404052734375,\n",
       " 907.4785766601562,\n",
       " 901.797119140625,\n",
       " 931.2405395507812,\n",
       " 895.2091064453125,\n",
       " 883.7435913085938,\n",
       " 897.390625,\n",
       " 884.6437377929688,\n",
       " 893.3555297851562,\n",
       " 865.6217651367188,\n",
       " 904.397705078125,\n",
       " 882.1803588867188,\n",
       " 914.0098266601562,\n",
       " 901.625,\n",
       " 894.4642944335938,\n",
       " 898.7965698242188,\n",
       " 887.6434936523438,\n",
       " 905.745849609375,\n",
       " 878.3790283203125,\n",
       " 899.3026123046875,\n",
       " 887.8787841796875,\n",
       " 912.1152954101562,\n",
       " 894.7665405273438,\n",
       " 890.3003540039062,\n",
       " 912.908203125,\n",
       " 917.9296875,\n",
       " 900.7048950195312,\n",
       " 892.1951904296875,\n",
       " 887.3540649414062,\n",
       " 870.8582763671875,\n",
       " 887.481689453125,\n",
       " 901.2720336914062,\n",
       " 893.16357421875,\n",
       " 867.3097534179688,\n",
       " 910.703369140625,\n",
       " 905.1739501953125,\n",
       " 896.3814086914062,\n",
       " 902.2969360351562,\n",
       " 913.9576416015625,\n",
       " 887.4429321289062,\n",
       " 886.411865234375,\n",
       " 878.4768676757812,\n",
       " 883.8621826171875,\n",
       " 882.857177734375,\n",
       " 893.8919067382812,\n",
       " 875.2954711914062,\n",
       " 891.3561401367188,\n",
       " 872.8623046875,\n",
       " 902.867431640625,\n",
       " 882.5993041992188,\n",
       " 864.7813720703125,\n",
       " 907.2366943359375,\n",
       " 893.711181640625,\n",
       " 904.2862548828125,\n",
       " 920.5433959960938,\n",
       " 881.212158203125,\n",
       " 898.2505493164062,\n",
       " 881.405029296875,\n",
       " 906.5316772460938,\n",
       " 876.1931762695312,\n",
       " 912.2235107421875,\n",
       " 919.2583618164062,\n",
       " 881.1099853515625,\n",
       " 884.4055786132812,\n",
       " 909.7791137695312,\n",
       " 910.9274291992188,\n",
       " 895.3540649414062,\n",
       " 909.9713745117188,\n",
       " 899.049072265625,\n",
       " 878.7960205078125,\n",
       " 921.9085083007812,\n",
       " 895.3351440429688,\n",
       " 865.0919189453125,\n",
       " 874.3062133789062,\n",
       " 881.4456176757812,\n",
       " 872.3929443359375,\n",
       " 886.61669921875,\n",
       " 881.1976928710938,\n",
       " 867.465087890625,\n",
       " 888.9425048828125,\n",
       " 876.0540161132812,\n",
       " 883.9166870117188,\n",
       " 888.1195678710938,\n",
       " 914.775634765625,\n",
       " 886.3356323242188,\n",
       " 891.9719848632812,\n",
       " 885.8046875,\n",
       " 865.2760620117188,\n",
       " 878.1293334960938,\n",
       " 892.6008911132812,\n",
       " 904.58984375,\n",
       " 894.122802734375,\n",
       " 906.2154541015625,\n",
       " 905.689453125,\n",
       " 874.1265258789062,\n",
       " 872.7413940429688,\n",
       " 866.2747192382812,\n",
       " 918.149169921875,\n",
       " 872.7871704101562,\n",
       " 889.385009765625,\n",
       " 911.3499145507812,\n",
       " 889.5477905273438,\n",
       " 893.0620727539062,\n",
       " 893.3655395507812,\n",
       " 880.0462036132812,\n",
       " 870.8622436523438,\n",
       " 865.2344970703125,\n",
       " 860.7862548828125,\n",
       " 883.2098999023438,\n",
       " 899.572998046875,\n",
       " 896.296142578125,\n",
       " 893.7417602539062,\n",
       " 892.6500854492188,\n",
       " 869.04296875,\n",
       " 887.6395263671875,\n",
       " 883.0781860351562,\n",
       " 897.3348999023438,\n",
       " 879.8421630859375,\n",
       " 890.9437255859375,\n",
       " 879.3034057617188,\n",
       " 894.408447265625,\n",
       " 882.348876953125,\n",
       " 886.04638671875,\n",
       " 893.4269409179688,\n",
       " 901.9030151367188,\n",
       " 893.0975341796875,\n",
       " 885.6099243164062,\n",
       " 911.9644165039062,\n",
       " 885.121826171875,\n",
       " 881.714599609375,\n",
       " 890.2120971679688,\n",
       " 909.7028198242188,\n",
       " 879.0960083007812,\n",
       " 883.9276123046875,\n",
       " 901.1802368164062,\n",
       " 894.373046875,\n",
       " 895.1536254882812,\n",
       " 889.4401245117188,\n",
       " 889.339111328125,\n",
       " 868.6571655273438,\n",
       " 889.7194213867188,\n",
       " 890.079345703125,\n",
       " 898.2642211914062,\n",
       " 888.8846435546875,\n",
       " 899.5350341796875,\n",
       " 894.9535522460938,\n",
       " 918.594482421875,\n",
       " 875.18359375,\n",
       " 883.8409423828125,\n",
       " 903.809814453125,\n",
       " 887.6345825195312,\n",
       " 875.0167236328125,\n",
       " 914.5338745117188,\n",
       " 875.4165649414062,\n",
       " 895.240478515625,\n",
       " 884.982177734375,\n",
       " 904.2759399414062,\n",
       " 897.9696044921875,\n",
       " 872.4069213867188,\n",
       " 902.766357421875,\n",
       " 886.1785888671875,\n",
       " 875.642578125,\n",
       " 879.141845703125,\n",
       " 889.8800048828125,\n",
       " 872.7417602539062,\n",
       " 885.2280883789062,\n",
       " 873.5779418945312,\n",
       " 884.8536376953125,\n",
       " 889.5856323242188,\n",
       " 875.0771484375,\n",
       " 889.975830078125,\n",
       " 879.3343505859375,\n",
       " 881.7213745117188,\n",
       " 913.1499633789062,\n",
       " 903.7865600585938,\n",
       " 914.137451171875,\n",
       " 892.0629272460938,\n",
       " 895.4060668945312,\n",
       " 911.0921630859375,\n",
       " 873.1602783203125,\n",
       " 913.5433349609375,\n",
       " 880.6787109375,\n",
       " 875.4392700195312,\n",
       " 883.5231323242188,\n",
       " 885.645751953125,\n",
       " 872.55859375,\n",
       " 881.4219970703125,\n",
       " 891.16552734375,\n",
       " 865.645263671875,\n",
       " 874.4321899414062,\n",
       " 876.830078125,\n",
       " 889.818603515625,\n",
       " 877.8781127929688,\n",
       " 911.778076171875,\n",
       " 886.58740234375,\n",
       " 906.398193359375,\n",
       " 877.4483642578125,\n",
       " 912.5648193359375,\n",
       " 890.63232421875,\n",
       " 882.0387573242188,\n",
       " 905.4183959960938,\n",
       " 889.5732421875,\n",
       " 884.8413696289062,\n",
       " 866.6030883789062,\n",
       " 886.377685546875,\n",
       " 890.9879760742188,\n",
       " 904.787841796875,\n",
       " 911.3005981445312,\n",
       " 901.88623046875,\n",
       " 870.806396484375,\n",
       " 889.0690307617188,\n",
       " 889.22607421875,\n",
       " 903.8233642578125,\n",
       " 910.7587280273438,\n",
       " 886.8912353515625,\n",
       " 924.6859741210938,\n",
       " 915.8907470703125,\n",
       " 879.3692016601562,\n",
       " 908.4287109375,\n",
       " 896.89599609375,\n",
       " 898.6245727539062,\n",
       " 886.71875,\n",
       " 919.2901611328125,\n",
       " 880.2071533203125,\n",
       " 883.0101928710938,\n",
       " 900.515380859375,\n",
       " 862.9461669921875,\n",
       " 877.8587036132812,\n",
       " 880.078125,\n",
       " 915.202880859375,\n",
       " 913.90380859375,\n",
       " 891.61669921875,\n",
       " 892.9073486328125,\n",
       " 854.7891845703125,\n",
       " 908.4188842773438,\n",
       " 897.5305786132812,\n",
       " 882.6728515625,\n",
       " 891.8377075195312,\n",
       " 890.3117065429688,\n",
       " 875.2115478515625,\n",
       " 880.3904418945312,\n",
       " 898.313232421875,\n",
       " 908.2223510742188,\n",
       " 896.8568725585938,\n",
       " 895.6785888671875,\n",
       " 878.617919921875,\n",
       " 909.171875,\n",
       " 887.0452880859375,\n",
       " 869.6325073242188,\n",
       " 892.7060546875,\n",
       " 890.8649291992188,\n",
       " 869.7185668945312,\n",
       " 896.6862182617188,\n",
       " 867.33984375,\n",
       " 874.4204711914062,\n",
       " 885.5037841796875,\n",
       " 916.707763671875,\n",
       " 941.8524780273438,\n",
       " 885.7215576171875,\n",
       " 897.1398315429688,\n",
       " 910.3076171875,\n",
       " 869.0447998046875,\n",
       " 910.656982421875,\n",
       " 869.6954345703125,\n",
       " 888.329833984375,\n",
       " 889.3101196289062,\n",
       " 883.7896728515625,\n",
       " 881.4376220703125,\n",
       " 895.952392578125,\n",
       " 891.0249633789062,\n",
       " 905.899169921875,\n",
       " 908.4364624023438,\n",
       " 888.7196655273438,\n",
       " 887.660888671875,\n",
       " 867.0065307617188,\n",
       " 891.4090576171875,\n",
       " 884.4114379882812,\n",
       " 886.5270385742188]"
      ]
     },
     "execution_count": 20,
     "metadata": {},
     "output_type": "execute_result"
    }
   ],
   "source": [
    "losses"
   ]
  },
  {
   "cell_type": "code",
   "execution_count": 21,
   "metadata": {},
   "outputs": [
    {
     "data": {
      "text/plain": [
       "[<matplotlib.lines.Line2D at 0x23713c782b0>]"
      ]
     },
     "execution_count": 21,
     "metadata": {},
     "output_type": "execute_result"
    },
    {
     "data": {
      "image/png": "[encoded data removed]",
      "text/plain": [
       "<Figure size 432x288 with 1 Axes>"
      ]
     },
     "metadata": {
      "needs_background": "light"
     },
     "output_type": "display_data"
    }
   ],
   "source": [
    "plt.plot(losses[:])"
   ]
  },
  {
   "cell_type": "code",
   "execution_count": 22,
   "metadata": {},
   "outputs": [
    {
     "data": {
      "text/plain": [
       "torch.Size([20, 50, 2])"
      ]
     },
     "execution_count": 22,
     "metadata": {},
     "output_type": "execute_result"
    }
   ],
   "source": [
    " torchsde.sdeint(sde, Θ_0, ts, method=\"euler\", dt=Δt).shape"
   ]
  },
  {
   "cell_type": "code",
   "execution_count": 23,
   "metadata": {},
   "outputs": [
    {
     "data": {
      "text/plain": [
       "tensor([[1., 0.],\n",
       "        [0., 1.],\n",
       "        [0., 0.]])"
      ]
     },
     "execution_count": 23,
     "metadata": {},
     "output_type": "execute_result"
    }
   ],
   "source": [
    "torch.eye(3,2)"
   ]
  },
  {
   "cell_type": "code",
   "execution_count": 24,
   "metadata": {},
   "outputs": [],
   "source": [
    "# Mannualy doing one step of Euler\n",
    "\n",
    "Θ_1 = torchsde.sdeint(sde, Θ_0, ts, dt=Δt)[-1,...]"
   ]
  },
  {
   "cell_type": "code",
   "execution_count": 25,
   "metadata": {},
   "outputs": [],
   "source": [
    "Θ_1 = Θ_1.reshape(50,2)"
   ]
  },
  {
   "cell_type": "code",
   "execution_count": 26,
   "metadata": {},
   "outputs": [
    {
     "data": {
      "text/plain": [
       "(array([ 1.,  0.,  2.,  1., 10.,  6., 11., 11.,  5.,  3.]),\n",
       " array([-0.75416076, -0.62325865, -0.49235648, -0.36145437, -0.23055223,\n",
       "        -0.09965008,  0.03125205,  0.16215418,  0.2930563 ,  0.42395845,\n",
       "         0.5548606 ], dtype=float32),\n",
       " <a list of 10 Patch objects>)"
      ]
     },
     "execution_count": 26,
     "metadata": {},
     "output_type": "execute_result"
    },
    {
     "data": {
      "image/png": "[encoded data removed]",
      "text/plain": [
       "<Figure size 432x288 with 2 Axes>"
      ]
     },
     "metadata": {
      "needs_background": "light"
     },
     "output_type": "display_data"
    }
   ],
   "source": [
    "fig, (ax1,ax2) = plt.subplots(1,2)\n",
    "\n",
    "ax1.hist(Θ_1[:,0].flatten().cpu().detach().numpy())\n",
    "ax2.hist(Θ_1[:,1].flatten().cpu().detach().numpy())"
   ]
  },
  {
   "cell_type": "code",
   "execution_count": 27,
   "metadata": {},
   "outputs": [],
   "source": [
    "\n",
    "# Manually doing 2 steps of euler \n",
    "Θ_2 = sde.f(0, \n",
    "        sde.f(0, Θ_0) * Δt + torch.normal(0,math.sqrt(Δt), (Θ_0.shape[0], Θ_0.shape[1]) ).to(device)\n",
    "    ) * Δt +  torch.normal(0,math.sqrt(Δt), (Θ_0.shape[0], Θ_0.shape[1]) ).to(device)"
   ]
  },
  {
   "cell_type": "code",
   "execution_count": 28,
   "metadata": {},
   "outputs": [
    {
     "data": {
      "text/plain": [
       "tensor([[-0.0966,  0.1767],\n",
       "        [ 0.0321, -0.0365],\n",
       "        [-0.1502, -0.3579],\n",
       "        [-0.2261, -0.1561],\n",
       "        [-0.4054, -0.5228],\n",
       "        [-0.0458, -0.0394],\n",
       "        [-0.1069,  0.0584],\n",
       "        [-0.2941,  0.1297],\n",
       "        [-0.0049,  0.0908],\n",
       "        [-0.0542,  0.1678],\n",
       "        [ 0.3236, -0.0216],\n",
       "        [-0.0798,  0.6549],\n",
       "        [-0.2652,  0.3210],\n",
       "        [ 0.3513, -0.0988],\n",
       "        [-0.0220,  0.1065],\n",
       "        [ 0.3536, -0.0596],\n",
       "        [-0.1342, -0.1040],\n",
       "        [ 0.1000, -0.1490],\n",
       "        [-0.2025, -0.1363],\n",
       "        [-0.2584,  0.1880],\n",
       "        [ 0.0523, -0.4530],\n",
       "        [ 0.3523,  0.0691],\n",
       "        [ 0.0939,  0.1024],\n",
       "        [ 0.4845, -0.0576],\n",
       "        [ 0.2731, -0.3017],\n",
       "        [-0.0184, -0.0646],\n",
       "        [-0.3032, -0.3065],\n",
       "        [ 0.2559,  0.3414],\n",
       "        [ 0.0284, -0.0778],\n",
       "        [ 0.2468,  0.0886],\n",
       "        [ 0.3418,  0.2607],\n",
       "        [-0.2585,  0.1147],\n",
       "        [ 0.0282,  0.3719],\n",
       "        [ 0.0214,  0.1145],\n",
       "        [-0.0436,  0.2373],\n",
       "        [ 0.0860, -0.3432],\n",
       "        [ 0.2875,  0.5089],\n",
       "        [ 0.0214,  0.3297],\n",
       "        [ 0.3125, -0.2462],\n",
       "        [-0.0202, -0.0354],\n",
       "        [-0.0735,  0.1105],\n",
       "        [-0.0358, -0.0526],\n",
       "        [ 0.0853, -0.3932],\n",
       "        [ 0.3369,  0.0478],\n",
       "        [ 0.1126,  0.0190],\n",
       "        [ 0.3073,  0.1938],\n",
       "        [-0.3438,  0.4824],\n",
       "        [ 0.2818,  0.3452],\n",
       "        [ 0.0444, -0.2270],\n",
       "        [-0.1801, -0.1227]], device='cuda:0', grad_fn=<AddBackward0>)"
      ]
     },
     "execution_count": 28,
     "metadata": {},
     "output_type": "execute_result"
    }
   ],
   "source": [
    "Θ_2"
   ]
  },
  {
   "cell_type": "code",
   "execution_count": 30,
   "metadata": {},
   "outputs": [
    {
     "data": {
      "image/png": "[encoded data removed]",
      "text/plain": [
       "<Figure size 1152x432 with 1 Axes>"
      ]
     },
     "metadata": {
      "needs_background": "light"
     },
     "output_type": "display_data"
    }
   ],
   "source": [
    "fig, ax_1 = plt.subplots(1, 1, figsize=(16, 6))\n",
    "Θ_plot = Θ_1.cpu().detach() #.reshape(50*3,2)\n",
    "\n",
    "Θ_plot2 = Θ_2.cpu().detach() \n",
    "\n",
    "\n",
    "\n",
    "ax_1.plot(Θ_plot[:, 0], Θ_plot[:, 1], \n",
    "         linestyle='none', \n",
    "         marker='o', color=\"red\", label=\"Euler done by torche SDE\")\n",
    "\n",
    "# ax_1.plot(Θ_plot2[:, 0], Θ_plot2[:, 1], \n",
    "#          linestyle='none', \n",
    "#          marker='o', color=\"blue\", label=\"Euler done manually\")\n",
    "\n",
    "ax_1.plot(X_scaled[:, 0], X_scaled[:, 1], \n",
    "         linestyle='none', \n",
    "         marker='o', label=\"Observations $X$\")\n",
    "\n",
    "ax_1.legend()\n",
    "ax_1.axis('equal');"
   ]
  },
  {
   "cell_type": "code",
   "execution_count": 19,
   "metadata": {},
   "outputs": [
    {
     "data": {
      "text/plain": [
       "tensor([ 0.1793,  0.1312,  0.0910,  0.2549,  0.1410,  0.0585,  0.1621,  0.1637,\n",
       "         0.2204,  0.0843,  0.0656,  0.0881,  0.1349,  0.1894,  0.1220,  0.2094,\n",
       "         0.2215,  0.1651,  0.0495,  0.1466,  0.1212,  0.0617,  0.1152,  0.1255,\n",
       "         0.0891,  0.1635,  0.1823,  0.2343,  0.1153,  0.1324,  0.1912,  0.1300,\n",
       "         0.1652,  0.2043,  0.2035,  0.3616,  0.2387,  0.0995,  0.2329,  0.1757,\n",
       "         0.1981,  0.1266,  0.1408, -0.0010,  0.2378,  0.2390,  0.0642,  0.2355,\n",
       "         0.1346,  0.1499])"
      ]
     },
     "execution_count": 19,
     "metadata": {},
     "output_type": "execute_result"
    }
   ],
   "source": [
    "Θ_plot[:, 0]-Θ_plot[:, 1]"
   ]
  }
 ],
 "metadata": {
  "kernelspec": {
   "display_name": "Python 3",
   "language": "python",
   "name": "python3"
  },
  "language_info": {
   "codemirror_mode": {
    "name": "ipython",
    "version": 3
   },
   "file_extension": ".py",
   "mimetype": "text/x-python",
   "name": "python",
   "nbconvert_exporter": "python",
   "pygments_lexer": "ipython3",
   "version": "3.8.5"
  },
  "toc": {
   "base_numbering": 1,
   "nav_menu": {},
   "number_sections": true,
   "sideBar": true,
   "skip_h1_title": false,
   "title_cell": "Table of Contents",
   "title_sidebar": "Contents",
   "toc_cell": false,
   "toc_position": {},
   "toc_section_display": true,
   "toc_window_display": false
  }
 },
 "nbformat": 4,
 "nbformat_minor": 4
}
