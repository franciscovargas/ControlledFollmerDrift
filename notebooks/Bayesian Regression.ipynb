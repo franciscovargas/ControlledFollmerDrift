{
 "cells": [
  {
   "cell_type": "markdown",
   "id": "f2885092",
   "metadata": {},
   "source": [
    "I did a simple experiment on Bayesian regression. Didn't want to reuse the code, to make sure I understand everything myself. I train the model and then verify the mean and standard variation of the posterior samples, which are both available to me analytically as well."
   ]
  },
  {
   "cell_type": "code",
   "execution_count": 1,
   "id": "49c64cc3",
   "metadata": {},
   "outputs": [],
   "source": [
    "import torch\n",
    "import torchsde\n",
    "from tqdm import tqdm"
   ]
  },
  {
   "cell_type": "code",
   "execution_count": 2,
   "id": "445fd14c",
   "metadata": {},
   "outputs": [],
   "source": [
    "import matplotlib.pyplot as plt"
   ]
  },
  {
   "cell_type": "code",
   "execution_count": 15,
   "id": "643ebd6c",
   "metadata": {},
   "outputs": [],
   "source": [
    "import numpy as np"
   ]
  },
  {
   "cell_type": "code",
   "execution_count": 3,
   "id": "052d768b",
   "metadata": {},
   "outputs": [],
   "source": [
    "device = \"cuda\" if torch.cuda.is_available() else \"cpu\""
   ]
  },
  {
   "cell_type": "markdown",
   "id": "2bf83ca6",
   "metadata": {},
   "source": [
    "The model is\n",
    "\n",
    "\\begin{align}\n",
    "    \\theta \\sim \\mathcal{N}(0, 1) \\\\\n",
    "    x_i \\sim \\mathcal{N}(\\theta, 1) \\\\\n",
    "\\end{align}\n",
    "\n",
    "for $i = 1, \\dots, N$. With the analytical posterior $p(\\theta | x_1, \\dots, x_N) = \\mathcal{N}(\\theta; \\frac{\\sum_{i=1}^N x_i}{N + 1}, \\frac{1}{N + 1})$."
   ]
  },
  {
   "cell_type": "code",
   "execution_count": 4,
   "id": "68139eea",
   "metadata": {},
   "outputs": [],
   "source": [
    "N = 100\n",
    "true_theta = torch.randn([1], device=device)\n",
    "true_xs = true_theta + torch.randn([N], device=device)"
   ]
  },
  {
   "cell_type": "code",
   "execution_count": 54,
   "id": "d7cd8201",
   "metadata": {},
   "outputs": [],
   "source": [
    "def log_prior(theta):\n",
    "    return -0.5 * theta**2\n",
    "\n",
    "def log_likelihood(xs, theta):\n",
    "    return -0.5 * torch.sum((xs - theta)**2)\n",
    "\n",
    "# Not the exact log_posterior, but a stochastic estimate of it, via a subsample of data\n",
    "def log_posterior(theta, xs):\n",
    "    # Currently this works for both batch_size = 5 and batch_size = 100 (see below)\n",
    "    # But if the scaling is removed only works for batch_size = 100\n",
    "    return log_prior(theta) + (N / xs.shape[0]) * log_likelihood(xs, theta)"
   ]
  },
  {
   "cell_type": "code",
   "execution_count": 32,
   "id": "2c0d4e8b",
   "metadata": {},
   "outputs": [],
   "source": [
    "def loss(sde, xs, dt=0.05):\n",
    "    n_steps = int(1.0 / dt)\n",
    "    \n",
    "    # Currently not doing any batching for theta, keeping things simple\n",
    "    theta_0 = torch.tensor([[0.0]], device=device)\n",
    "    \n",
    "    ts = torch.linspace(0, 1, n_steps, device=device)\n",
    "    \n",
    "    thetas = torchsde.sdeint(sde, theta_0, ts, method=\"euler\", dt=dt)\n",
    "    theta_1 = thetas[-1]\n",
    "    \n",
    "    fs = torch.vmap(sde.f)(ts, thetas)\n",
    "    \n",
    "    gamma = sde.gamma\n",
    "    \n",
    "    energy_cost = torch.sum(fs**2) * dt / (2 * gamma)\n",
    "    \n",
    "    terminal_cost = - theta_1**2 / (2 * gamma) - log_posterior(theta_1, xs)\n",
    "    \n",
    "    return energy_cost + terminal_cost"
   ]
  },
  {
   "cell_type": "code",
   "execution_count": 33,
   "id": "132b41c2",
   "metadata": {},
   "outputs": [],
   "source": [
    "class SDE(torch.nn.Module):\n",
    "    \n",
    "    def __init__(self, gamma):\n",
    "        super().__init__()\n",
    "        \n",
    "        self.nn = torch.nn.Sequential(\n",
    "            torch.nn.Linear(2, 10),\n",
    "            torch.nn.ReLU(),\n",
    "            torch.nn.Linear(10, 10),\n",
    "            torch.nn.ReLU(),\n",
    "            torch.nn.Linear(10, 10),\n",
    "            torch.nn.ReLU(),\n",
    "            torch.nn.Linear(10, 1)\n",
    "        )\n",
    "        \n",
    "        self.noise_type = \"diagonal\"\n",
    "        self.sde_type = \"ito\"\n",
    "        \n",
    "        self.gamma = gamma\n",
    "    \n",
    "    def f(self, t, theta):\n",
    "        t = t * torch.ones_like(theta)\n",
    "        out =  self.nn(torch.cat((t, theta), dim=-1))\n",
    "        return out\n",
    "    \n",
    "    def g(self, t, theta):\n",
    "        out = torch.sqrt(self.gamma * torch.ones_like(theta))\n",
    "        return out"
   ]
  },
  {
   "cell_type": "code",
   "execution_count": 45,
   "id": "fa43ce9e",
   "metadata": {},
   "outputs": [],
   "source": [
    "gamma = 0.1**2\n",
    "sde = SDE(gamma).to(device)\n",
    "\n",
    "optimizer = torch.optim.Adam(sde.parameters(), lr=1e-3)\n",
    "\n",
    "batch_size = 5"
   ]
  },
  {
   "cell_type": "code",
   "execution_count": 46,
   "id": "fd40f755",
   "metadata": {},
   "outputs": [
    {
     "name": "stderr",
     "output_type": "stream",
     "text": [
      "  0%|                                                                      | 0/10000 [00:00<?, ?it/s]/tmp/ipykernel_92105/1808098707.py:12: UserWarning: torch.vmap is an experimental prototype that is subject to change and/or deletion. Please use at your own risk. There may be unexpected performance cliffs due to certain operators not being implemented. To see detailed performance warnings please use `torch._C._debug_only_display_vmap_fallback_warnings(True) before the call to `vmap`.\n",
      "  fs = torch.vmap(sde.f)(ts, thetas)\n",
      "100%|██████████████████████████████████████████████████████████| 10000/10000 [04:10<00:00, 39.96it/s]\n"
     ]
    }
   ],
   "source": [
    "# Could probably use fewer iterations\n",
    "for i in tqdm(range(10000)):\n",
    "    optimizer.zero_grad()\n",
    "    perm = torch.randperm(100)\n",
    "    true_xs = true_xs[perm]\n",
    "    l = loss(sde, true_xs[:batch_size], dt=0.05)\n",
    "    l.backward()\n",
    "    optimizer.step()"
   ]
  },
  {
   "cell_type": "code",
   "execution_count": 47,
   "id": "6fba6bf9",
   "metadata": {},
   "outputs": [],
   "source": [
    "with torch.no_grad():\n",
    "    thetas_0 = torch.zeros((10000, 1), device=device).float()\n",
    "    \n",
    "    dt = 0.01\n",
    "    ts = torch.linspace(0, 1, 2, device=device)\n",
    "    \n",
    "    thetas_1 = torchsde.sdeint(sde, thetas_0, ts, method=\"euler\", dt=0.01)[-1]"
   ]
  },
  {
   "cell_type": "code",
   "execution_count": 48,
   "id": "957e8535",
   "metadata": {},
   "outputs": [],
   "source": [
    "theta_samples = thetas_1.cpu().numpy()"
   ]
  },
  {
   "cell_type": "code",
   "execution_count": 49,
   "id": "1f592773",
   "metadata": {},
   "outputs": [
    {
     "data": {
      "text/plain": [
       "(array([3.000e+00, 1.200e+01, 5.100e+01, 1.420e+02, 3.080e+02, 6.500e+02,\n",
       "        1.029e+03, 1.399e+03, 1.620e+03, 1.609e+03, 1.325e+03, 8.660e+02,\n",
       "        5.790e+02, 2.550e+02, 1.000e+02, 4.000e+01, 1.000e+01, 1.000e+00,\n",
       "        0.000e+00, 1.000e+00]),\n",
       " array([-5.2383585, -5.1963367, -5.1543145, -5.112293 , -5.0702705,\n",
       "        -5.028249 , -4.986227 , -4.944205 , -4.902183 , -4.860161 ,\n",
       "        -4.818139 , -4.7761173, -4.734095 , -4.6920733, -4.650051 ,\n",
       "        -4.6080294, -4.5660076, -4.5239854, -4.4819636, -4.4399414,\n",
       "        -4.3979197], dtype=float32),\n",
       " <BarContainer object of 20 artists>)"
      ]
     },
     "execution_count": 49,
     "metadata": {},
     "output_type": "execute_result"
    },
    {
     "data": {
      "image/png": "[encoded data removed]",
      "text/plain": [
       "<Figure size 432x288 with 1 Axes>"
      ]
     },
     "metadata": {
      "needs_background": "light"
     },
     "output_type": "display_data"
    }
   ],
   "source": [
    "plt.hist(theta_samples, bins=20)"
   ]
  },
  {
   "cell_type": "code",
   "execution_count": 50,
   "id": "0aa136fa",
   "metadata": {},
   "outputs": [
    {
     "data": {
      "text/plain": [
       "tensor([-1.3388], device='cuda:0')"
      ]
     },
     "execution_count": 50,
     "metadata": {},
     "output_type": "execute_result"
    }
   ],
   "source": [
    "true_theta"
   ]
  },
  {
   "cell_type": "code",
   "execution_count": 51,
   "id": "c1b1e535",
   "metadata": {},
   "outputs": [
    {
     "data": {
      "text/plain": [
       "-4.8658133"
      ]
     },
     "execution_count": 51,
     "metadata": {},
     "output_type": "execute_result"
    }
   ],
   "source": [
    "np.mean(theta_samples)"
   ]
  },
  {
   "cell_type": "code",
   "execution_count": 52,
   "id": "bd5e1cf7",
   "metadata": {},
   "outputs": [
    {
     "data": {
      "text/plain": [
       "0.100294314"
      ]
     },
     "execution_count": 52,
     "metadata": {},
     "output_type": "execute_result"
    }
   ],
   "source": [
    "np.std(theta_samples)"
   ]
  },
  {
   "cell_type": "code",
   "execution_count": 44,
   "id": "c98b3128",
   "metadata": {},
   "outputs": [
    {
     "data": {
      "text/plain": [
       "0.09950371902099892"
      ]
     },
     "execution_count": 44,
     "metadata": {},
     "output_type": "execute_result"
    }
   ],
   "source": [
    "np.sqrt(1 / (N + 1))"
   ]
  }
 ],
 "metadata": {
  "kernelspec": {
   "display_name": "cfollmer",
   "language": "python",
   "name": "cfollmer"
  },
  "language_info": {
   "codemirror_mode": {
    "name": "ipython",
    "version": 3
   },
   "file_extension": ".py",
   "mimetype": "text/x-python",
   "name": "python",
   "nbconvert_exporter": "python",
   "pygments_lexer": "ipython3",
   "version": "3.8.10"
  }
 },
 "nbformat": 4,
 "nbformat_minor": 5
}
