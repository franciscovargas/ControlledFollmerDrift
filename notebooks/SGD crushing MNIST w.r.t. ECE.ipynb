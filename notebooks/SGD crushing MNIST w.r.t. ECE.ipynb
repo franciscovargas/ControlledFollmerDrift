{
 "cells": [
  {
   "cell_type": "code",
   "execution_count": 1,
   "id": "3f3e533d",
   "metadata": {},
   "outputs": [],
   "source": [
    "import torch\n",
    "import torch.nn.functional as F\n",
    "import torchsde\n",
    "from torch.optim.lr_scheduler import LambdaLR\n",
    "\n",
    "from torchvision import datasets, transforms\n",
    "\n",
    "import math\n",
    "import numpy as np\n",
    "import pandas as pd\n",
    "from tqdm import tqdm\n",
    "\n",
    "from torchvision.transforms import ToTensor\n",
    "from torch.utils.data import DataLoader\n",
    "import functorch\n",
    "\n",
    "import matplotlib.pyplot as plt\n",
    "import cfollmer.functional as functional\n",
    "from cfollmer.evaluation_utils import ECE"
   ]
  },
  {
   "cell_type": "code",
   "execution_count": 2,
   "id": "53e04514",
   "metadata": {},
   "outputs": [],
   "source": [
    "device = \"cuda\" if torch.cuda.is_available() else \"cpu\""
   ]
  },
  {
   "cell_type": "code",
   "execution_count": 3,
   "id": "dfb030af",
   "metadata": {},
   "outputs": [],
   "source": [
    "class LeNet5(torch.nn.Module):\n",
    "\n",
    "    def __init__(self, n_classes):\n",
    "        super(LeNet5, self).__init__()\n",
    "        \n",
    "        self.feature_extractor = torch.nn.Sequential(\n",
    "            torch.nn.Conv2d(in_channels=1, out_channels=6, kernel_size=5, stride=1),\n",
    "            torch.nn.Tanh(),\n",
    "            torch.nn.AvgPool2d(kernel_size=2),\n",
    "            torch.nn.Conv2d(in_channels=6, out_channels=16, kernel_size=5, stride=1),\n",
    "            torch.nn.Tanh(),\n",
    "            torch.nn.AvgPool2d(kernel_size=2),\n",
    "        )\n",
    "\n",
    "        self.classifier = torch.nn.Sequential(\n",
    "            torch.nn.Linear(in_features=256, out_features=120),\n",
    "            torch.nn.Tanh(),\n",
    "            torch.nn.Linear(in_features=120, out_features=84),\n",
    "            torch.nn.Tanh(),\n",
    "            torch.nn.Linear(in_features=84, out_features=n_classes),\n",
    "        )\n",
    "\n",
    "    def forward(self, x):\n",
    "        x = self.feature_extractor(x)\n",
    "        x = torch.flatten(x, 1)\n",
    "        logits = self.classifier(x)\n",
    "        return logits"
   ]
  },
  {
   "cell_type": "code",
   "execution_count": 4,
   "id": "4320c9a7",
   "metadata": {},
   "outputs": [],
   "source": [
    "MNIST_train = datasets.MNIST(\"../data/mnist/\", download=True, transform=ToTensor(), train=True)\n",
    "MNIST_test = datasets.MNIST(\"../data/mnist/\", download=True, transform=ToTensor(), train=False)\n",
    "\n",
    "dataloader_train = DataLoader(MNIST_train, shuffle=True, batch_size=32, num_workers=2)\n",
    "dataloader_test = DataLoader(MNIST_test, shuffle=False, batch_size=32, num_workers=2)\n",
    "N_train = len(MNIST_train)\n",
    "N_test = len(MNIST_test)"
   ]
  },
  {
   "cell_type": "code",
   "execution_count": 11,
   "id": "da62ca1c",
   "metadata": {},
   "outputs": [
    {
     "name": "stderr",
     "output_type": "stream",
     "text": [
      "100%|███████████████████████████████████████████████████████████| 1875/1875 [00:02<00:00, 689.51it/s]\n",
      "100%|███████████████████████████████████████████████████████████| 1875/1875 [00:02<00:00, 706.37it/s]\n",
      "100%|███████████████████████████████████████████████████████████| 1875/1875 [00:02<00:00, 681.75it/s]\n",
      "100%|███████████████████████████████████████████████████████████| 1875/1875 [00:02<00:00, 698.30it/s]\n",
      "100%|███████████████████████████████████████████████████████████| 1875/1875 [00:02<00:00, 715.05it/s]\n",
      "100%|███████████████████████████████████████████████████████████| 1875/1875 [00:02<00:00, 665.26it/s]\n",
      "100%|███████████████████████████████████████████████████████████| 1875/1875 [00:02<00:00, 681.32it/s]\n",
      "100%|███████████████████████████████████████████████████████████| 1875/1875 [00:02<00:00, 690.19it/s]\n",
      "100%|███████████████████████████████████████████████████████████| 1875/1875 [00:02<00:00, 704.20it/s]\n",
      "100%|███████████████████████████████████████████████████████████| 1875/1875 [00:02<00:00, 678.12it/s]\n"
     ]
    }
   ],
   "source": [
    "model = LeNet5(10).to(device)\n",
    "optimizer = torch.optim.SGD(model.parameters(), lr=1e-2)\n",
    "losses = []\n",
    "\n",
    "for i in range(10):\n",
    "    for x, y in tqdm(iter(dataloader_train)):\n",
    "        \n",
    "        x = x.to(device)\n",
    "        y = y.to(device)\n",
    "        \n",
    "        optimizer.zero_grad()\n",
    "        \n",
    "        out = model(x)\n",
    "        \n",
    "        l = F.cross_entropy(out, y, reduction=\"mean\")\n",
    "        \n",
    "        l.backward()\n",
    "        \n",
    "        losses.append(l.detach().cpu().numpy())\n",
    "        \n",
    "        optimizer.step()\n",
    "        \n",
    "losses = np.array(losses)"
   ]
  },
  {
   "cell_type": "code",
   "execution_count": 12,
   "id": "d531d9db",
   "metadata": {},
   "outputs": [
    {
     "data": {
      "text/plain": [
       "[<matplotlib.lines.Line2D at 0x7f23f7e263a0>]"
      ]
     },
     "execution_count": 12,
     "metadata": {},
     "output_type": "execute_result"
    },
    {
     "data": {
      "image/png": "[encoded data removed]",
      "text/plain": [
       "<Figure size 432x288 with 1 Axes>"
      ]
     },
     "metadata": {
      "needs_background": "light"
     },
     "output_type": "display_data"
    }
   ],
   "source": [
    "plt.plot(losses)"
   ]
  },
  {
   "cell_type": "code",
   "execution_count": 13,
   "id": "86e970fa",
   "metadata": {},
   "outputs": [
    {
     "name": "stderr",
     "output_type": "stream",
     "text": [
      "100%|█████████████████████████████████████████████████████████████| 313/313 [00:00<00:00, 644.00it/s]\n"
     ]
    }
   ],
   "source": [
    "with torch.no_grad():\n",
    "    preds = []\n",
    "    confs = []\n",
    "    losses = []\n",
    "    \n",
    "    for x, y in tqdm(iter(dataloader_test)):\n",
    "        x = x.to(device)\n",
    "        y = y.to(device)\n",
    "        \n",
    "        out = model(x)\n",
    "        \n",
    "        loss = F.cross_entropy(out, y, reduction=\"mean\")\n",
    "        out = torch.softmax(out, dim=1)\n",
    "        \n",
    "        conf, pred = torch.max(out, dim=1)\n",
    "        \n",
    "        preds.append(pred)\n",
    "        confs.append(conf)\n",
    "        losses.append(loss)\n",
    "        \n",
    "    losses = torch.mean(torch.stack(losses))\n",
    "    preds = torch.cat(preds)\n",
    "    confs = torch.cat(confs)"
   ]
  },
  {
   "cell_type": "code",
   "execution_count": 14,
   "id": "0157e089",
   "metadata": {},
   "outputs": [
    {
     "data": {
      "text/plain": [
       "tensor(0.9758)"
      ]
     },
     "execution_count": 14,
     "metadata": {},
     "output_type": "execute_result"
    }
   ],
   "source": [
    "torch.sum(MNIST_test.targets == preds.cpu()) / N_test"
   ]
  },
  {
   "cell_type": "code",
   "execution_count": 15,
   "id": "15cbbfb2",
   "metadata": {},
   "outputs": [
    {
     "data": {
      "text/plain": [
       "tensor(0.0813, device='cuda:0')"
      ]
     },
     "execution_count": 15,
     "metadata": {},
     "output_type": "execute_result"
    }
   ],
   "source": [
    "losses"
   ]
  },
  {
   "cell_type": "code",
   "execution_count": 16,
   "id": "b6295bce",
   "metadata": {},
   "outputs": [
    {
     "data": {
      "text/plain": [
       "0.011641409161686937"
      ]
     },
     "execution_count": 16,
     "metadata": {},
     "output_type": "execute_result"
    }
   ],
   "source": [
    "ECE(confs.cpu().numpy(), preds.cpu().numpy(), MNIST_test.targets.numpy())"
   ]
  }
 ],
 "metadata": {
  "kernelspec": {
   "display_name": "cfollmer",
   "language": "python",
   "name": "cfollmer"
  },
  "language_info": {
   "codemirror_mode": {
    "name": "ipython",
    "version": 3
   },
   "file_extension": ".py",
   "mimetype": "text/x-python",
   "name": "python",
   "nbconvert_exporter": "python",
   "pygments_lexer": "ipython3",
   "version": "3.8.10"
  }
 },
 "nbformat": 4,
 "nbformat_minor": 5
}
