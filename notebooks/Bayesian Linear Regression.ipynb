{
 "cells": [
  {
   "cell_type": "code",
   "execution_count": 1,
   "id": "10a6b666",
   "metadata": {},
   "outputs": [],
   "source": [
    "import torch\n",
    "import torch.nn.functional as F\n",
    "import torchsde\n",
    "\n",
    "from torchvision import datasets, transforms\n",
    "\n",
    "import math\n",
    "import numpy as np\n",
    "import pandas as pd\n",
    "from tqdm import tqdm\n",
    "\n",
    "from torchvision.transforms import ToTensor\n",
    "from torch.utils.data import DataLoader\n",
    "import functorch\n",
    "\n",
    "import matplotlib.pyplot as plt\n",
    "\n",
    "import cfollmer.functional as functional\n",
    "from cfollmer.objectives import relative_entropy_control_cost\n",
    "from cfollmer.drifts import SimpleForwardNet, SimpleForwardNetBN, ResNetScoreNetwork\n",
    "from cfollmer.sampler_utils import FollmerSDE"
   ]
  },
  {
   "cell_type": "code",
   "execution_count": 128,
   "id": "1c117729",
   "metadata": {},
   "outputs": [],
   "source": []
  },
  {
   "cell_type": "code",
   "execution_count": 2,
   "id": "9078de16",
   "metadata": {},
   "outputs": [],
   "source": [
    "device = \"cuda\" if torch.cuda.is_available() else \"cpu\""
   ]
  },
  {
   "cell_type": "code",
   "execution_count": 3,
   "id": "2d492713",
   "metadata": {},
   "outputs": [],
   "source": [
    "class DNN(torch.nn.Module):\n",
    "    \n",
    "    def __init__(self, input_dim=1, output_dim=1):\n",
    "        super(DNN, self).__init__()\n",
    "        \n",
    "        self.output_dim = output_dim\n",
    "        self.input_dim = input_dim\n",
    "        \n",
    "        self.nn = torch.nn.Sequential(\n",
    "            torch.nn.Linear(input_dim, 100),\n",
    "            torch.nn.ReLU(),\n",
    "            torch.nn.Linear(100, 100),\n",
    "            torch.nn.ReLU(),\n",
    "            torch.nn.Linear(100, output_dim)\n",
    "        )\n",
    "        \n",
    "    def forward(self, x):\n",
    "        return self.nn(x)\n",
    "\n",
    "    \n",
    "class LinModel(torch.nn.Module):\n",
    "    \n",
    "    def __init__(self, input_dim=1, output_dim=1):\n",
    "        super(LinModel, self).__init__()\n",
    "        \n",
    "        self.output_dim = output_dim\n",
    "        self.input_dim = input_dim\n",
    "        \n",
    "        self.nn = torch.nn.Sequential(\n",
    "            torch.nn.Linear(input_dim, 1),\n",
    "        )\n",
    "        \n",
    "    def forward(self, x):\n",
    "        return self.nn(x)"
   ]
  },
  {
   "cell_type": "code",
   "execution_count": 40,
   "id": "19372f3f",
   "metadata": {},
   "outputs": [
    {
     "data": {
      "image/png": "[encoded data removed]",
      "text/plain": [
       "<Figure size 432x288 with 1 Axes>"
      ]
     },
     "metadata": {
      "needs_background": "light"
     },
     "output_type": "display_data"
    }
   ],
   "source": [
    "device = \"cuda\" if torch.cuda.is_available() else \"cpu\"\n",
    "\n",
    "\n",
    "\n",
    "def lin_reg_data_gen(dim, sigma_n, device, num_samps=30):\n",
    "\n",
    "    w = np.ones((dim,1))\n",
    "    b = 1\n",
    "\n",
    "    func = lambda x: np.dot(x, w)  + 1\n",
    "\n",
    "    # Test inputs\n",
    "    num_test_samples = 30\n",
    "\n",
    "    if dim == 1:\n",
    "        X_test = np.linspace(-16, 16, num_samps).reshape(num_samps,1)\n",
    "        X_train = np.linspace(-3.5, 3.5, num_samps).reshape(-1,1)\n",
    "    else:\n",
    "        X_test  = np.random.randn(num_samps, dim)\n",
    "        X_train  = np.random.randn(num_samps, dim)\n",
    "\n",
    "    # Noise free training inputs\n",
    "\n",
    "    #f_train = np.cos(X_train) \n",
    "    f_train = func(X_train)\n",
    "\n",
    "    # Noise-free training outputs\n",
    "    #f = np.cos(X_test)\n",
    "    f = func(X_test)\n",
    "    y_test  = f\n",
    "\n",
    "    # Noisy training Inputs with additive Gaussian noise (zero-mean, variance sigma_n)\n",
    "\n",
    "    mu = np.zeros(X_train.size)\n",
    "    epsilon = np.random.multivariate_normal(mu, sigma_n**2 * np.eye(X_train.size))\n",
    "\n",
    "    # Noisy targets\n",
    "    y_train = f_train + epsilon.reshape(X_train.size,1)\n",
    "    \n",
    "    return X_train, y_train, X_test, y_test, f\n",
    "\n",
    "dim = dim_data = 1\n",
    "sigma_n = 0.5\n",
    "\n",
    "X_train, y_train, X_test, y_test, f = lin_reg_data_gen(dim,  sigma_n, device)\n",
    "\n",
    "N_train , _ = X_train.shape\n",
    "N_test , _ = X_test.shape\n",
    "\n",
    "# if  dim == 1:\n",
    "# Noisy observations\n",
    "fig, ax = plt.subplots(figsize=(6, 4), tight_layout=True)\n",
    "ax.plot(X_test[:,[0]], f, 'b', label = 'f(x)')\n",
    "ax.plot(X_train[:,[0]], y_train,\".\",  label = 'y(x) = f(x) + $\\epsilon$')\n",
    "ax.legend(loc = 'upper left')\n",
    "ax.set_title('Target function with noisy observations ')\n",
    "\n",
    "plt.show()"
   ]
  },
  {
   "cell_type": "code",
   "execution_count": 41,
   "id": "6040509c",
   "metadata": {},
   "outputs": [],
   "source": [
    "X_train = torch.tensor(X_train, device=device, dtype=torch.float)\n",
    "X_test = torch.tensor(X_test, device=device, dtype=torch.float)\n",
    "\n",
    "y_train = torch.tensor(y_train, device=device, dtype=torch.float)\n",
    "y_test = torch.tensor(y_test, device=device, dtype=torch.float)"
   ]
  },
  {
   "cell_type": "code",
   "execution_count": 96,
   "id": "1b360222",
   "metadata": {},
   "outputs": [],
   "source": [
    "model = LinModel().to(device)\n",
    "func_model, params = functorch.make_functional(model)\n",
    "size_list = functional.params_to_size_tuples(params)\n",
    "dim = functional.get_number_of_params(size_list)\n",
    "\n",
    "sigma2 = 1\n",
    "\n",
    "def log_prior(params):\n",
    "    return -torch.sum(params**2) / (2 * sigma2)\n",
    "\n",
    "def log_likelihood(x, y, params):\n",
    "    preds = func_model(functional.get_params_from_array(params, size_list), x)\n",
    "    diff = preds - y\n",
    "    \n",
    "    return - torch.sum(diff**2) / (2 * sigma_n**2)\n",
    "\n",
    "def log_likelihood_batch(x, y, params_batch):\n",
    "    func = lambda params: log_likelihood(x, y, params)\n",
    "    func = functorch.vmap(func)\n",
    "    return func(params_batch)\n",
    "\n",
    "def log_posterior(x, y, params):\n",
    "    return log_prior(params) + (N_train / x.shape[0]) * log_likelihood(x, y, params)\n",
    "\n",
    "def log_posterior_batch(x, y, params_batch):\n",
    "    func = lambda params: log_posterior(x, y, params)\n",
    "    func = functorch.vmap(func)\n",
    "    return func(params_batch)"
   ]
  },
  {
   "cell_type": "code",
   "execution_count": 97,
   "id": "54661e97",
   "metadata": {},
   "outputs": [],
   "source": [
    "gamma = 0.1**2\n",
    "\n",
    "n_steps = 300\n",
    "data_batch_size = 50\n",
    "param_batch_size = 32"
   ]
  },
  {
   "cell_type": "code",
   "execution_count": 98,
   "id": "8f3e094d",
   "metadata": {},
   "outputs": [],
   "source": [
    "def train(gamma, n_steps, data_batch_size, param_batch_size, dt=0.05, stl=False):\n",
    "    sde = FollmerSDE(gamma, SimpleForwardNetBN(input_dim=dim, width=300)).to(device)\n",
    "    optimizer = torch.optim.Adam(sde.parameters(), lr=1e-4)\n",
    "    \n",
    "    losses = []\n",
    "\n",
    "    for _ in tqdm(range(n_steps)):\n",
    "        perm = torch.randperm(N_train)\n",
    "        x = X_train[perm[:data_batch_size], :]\n",
    "        y = y_train[perm[:data_batch_size], :]\n",
    "\n",
    "        optimizer.zero_grad()\n",
    "        \n",
    "        partial_log_p = lambda params_batch: log_posterior_batch(x, y, params_batch)\n",
    "        \n",
    "        loss = relative_entropy_control_cost(sde, partial_log_p, param_batch_size=param_batch_size, dt=dt, device=device)\n",
    "        loss.backward()\n",
    "        \n",
    "        losses.append(loss.detach().cpu().numpy())\n",
    "        optimizer.step()\n",
    "        \n",
    "        if stl: # double check theres no references left\n",
    "            sde.drift_network_detatched.load_state_dict((sde.drift_network.state_dict()))\n",
    "    \n",
    "    losses = np.array(losses)\n",
    "    \n",
    "    return sde, losses"
   ]
  },
  {
   "cell_type": "code",
   "execution_count": 99,
   "id": "7db673ff",
   "metadata": {},
   "outputs": [],
   "source": [
    "def predict(param_samples, x, y):\n",
    "    with torch.no_grad():\n",
    "        predict_func = lambda params : func_model(functional.get_params_from_array(params, size_list), x)\n",
    "        predict_func = functorch.vmap(predict_func)\n",
    "\n",
    "        preds = predict_func(param_samples)\n",
    "\n",
    "        std, mean = torch.std_mean(preds, dim=0)\n",
    "        mse = torch.mean((y_test - mean)**2)\n",
    "        logp = torch.mean(log_likelihood_batch(x, y, param_samples))\n",
    "        \n",
    "    return std, mean, logp, mse"
   ]
  },
  {
   "cell_type": "code",
   "execution_count": 100,
   "id": "49240f9e",
   "metadata": {},
   "outputs": [],
   "source": [
    "def plot_fit(mean, std, title=\"\", fn=None):\n",
    "    x = X_test.cpu().squeeze()\n",
    "    std = std.cpu().squeeze()\n",
    "    mean = mean.cpu().squeeze()\n",
    "    \n",
    "    plt.plot(x, mean)\n",
    "    plt.fill_between(x, mean - 2 * std, mean + 2 * std, alpha=0.2)\n",
    "    plt.plot(X_train.cpu(), y_train.cpu(), 'kP', ms = 9)\n",
    "    plt.title(title)\n",
    "    plt.legend([\"mean prediction\", \"data\", r\"$\\pm 2\\sigma^2$\"], loc=\"upper left\")\n",
    "    if fn is not None:\n",
    "        plt.savefig(fn, bbox_inches=\"tight\", dpi=600)\n",
    "        plt.close()"
   ]
  },
  {
   "cell_type": "code",
   "execution_count": 101,
   "id": "6bc936b7",
   "metadata": {},
   "outputs": [
    {
     "name": "stderr",
     "output_type": "stream",
     "text": [
      "  0%|          | 0/300 [00:00<?, ?it/s]/home/fav25/.conda/envs/functorch/lib/python3.9/site-packages/torch/nn/functional.py:2282: UserWarning: There is a performance drop because we have not yet implemented the batching rule for aten::batch_norm. Please file us an issue on GitHub so that we can prioritize its implementation. (Triggered internally at  /tmp/pip-req-build-jk216yxu/functorch/csrc/BatchedFallback.cpp:106.)\n",
      "  return torch.batch_norm(\n",
      "100%|██████████| 300/300 [00:27<00:00, 11.01it/s]\n"
     ]
    }
   ],
   "source": [
    "sde, losses = train(gamma, n_steps, data_batch_size, param_batch_size)"
   ]
  },
  {
   "cell_type": "code",
   "execution_count": 102,
   "id": "a6cd0f14",
   "metadata": {},
   "outputs": [
    {
     "data": {
      "text/plain": [
       "[<matplotlib.lines.Line2D at 0x7f605c5012e0>]"
      ]
     },
     "execution_count": 102,
     "metadata": {},
     "output_type": "execute_result"
    },
    {
     "data": {
      "image/png": "[encoded data removed]",
      "text/plain": [
       "<Figure size 432x288 with 1 Axes>"
      ]
     },
     "metadata": {
      "needs_background": "light"
     },
     "output_type": "display_data"
    }
   ],
   "source": [
    "plt.plot(losses)"
   ]
  },
  {
   "cell_type": "code",
   "execution_count": 103,
   "id": "8762e712",
   "metadata": {},
   "outputs": [
    {
     "data": {
      "image/png": "[encoded data removed]",
      "text/plain": [
       "<Figure size 432x288 with 1 Axes>"
      ]
     },
     "metadata": {
      "needs_background": "light"
     },
     "output_type": "display_data"
    }
   ],
   "source": [
    "param_samples = sde.sample(100, dt=0.01, device=device)\n",
    "std, mean, logp, mse = predict(param_samples, X_test, y_test)\n",
    "\n",
    "std = torch.sqrt(std**2 + sigma_n**2)\n",
    "plot_fit(mean, std, title=\"SBP fit\", fn=None)\n",
    "plt.show()\n",
    "plot_fit(mean, std, title=\"SBP fit\", fn=\"plots/step_func/sbp_fit.png\")\n",
    "# plt.show()"
   ]
  },
  {
   "cell_type": "code",
   "execution_count": 196,
   "id": "ebb02795",
   "metadata": {},
   "outputs": [],
   "source": [
    "class MCFollmerDrift:\n",
    "    \n",
    "    def __init__(self, log_posterior, X,y, dim, device, n_samp=100, gamma=torch.tensor(1)):\n",
    "        self.log_posterior = log_posterior\n",
    "#         self.g = lambda thet: torch.exp(\n",
    "#             log_posterior(X,y, thet) + 0.5 * (thet**2).sum()\n",
    "#         )\n",
    "        self.log_posterior = log_posterior\n",
    "        self.device = device\n",
    "        self.X = X\n",
    "        self.dim = dim\n",
    "        self.y = y\n",
    "        self.n_samp = n_samp\n",
    "        self.distrib = torch.distributions.multivariate_normal.MultivariateNormal(\n",
    "            loc=torch.zeros(dim),\n",
    "            covariance_matrix=torch.eye(dim) * torch.sqrt(gamma)\n",
    "        )\n",
    "        \n",
    "    def g(self, thet):\n",
    "        func = lambda params: self.log_posterior(self.X, self.y, params)\n",
    "        func = functorch.vmap(func)\n",
    "        lp = func(thet)\n",
    "        reg = 0.5 * (thet**2).sum(dim=-1)\n",
    "        \n",
    "#         import pdb; pdb.set_trace()\n",
    "\n",
    "        return torch.exp(lp + reg)\n",
    "        \n",
    "    def mc_follmer_drift_(self, t, params, Z):\n",
    "        # Using Stein Estimator for SFS drift\n",
    "\n",
    "        g_YZt = self.g(params[None, ...] + torch.sqrt(1-t) * Z)\n",
    "        num = (Z * g_YZt[..., None]).mean(dim=0)\n",
    "        denom = torch.sqrt(1-t) * (g_YZt).mean(dim=0)\n",
    "        \n",
    "        return num / denom[...,None]\n",
    "    \n",
    "    def mc_follmer_drift(self, t , params_batch):\n",
    "        Z = self.distrib.rsample((params_batch.shape[0], self.n_samp)).to(self.device)\n",
    "#         import pdb; pdb.set_trace()\n",
    "        func = lambda params, z: self.mc_follmer_drift_(t, params, z)\n",
    "        func = functorch.vmap(func, in_dims=(0,0) )\n",
    "        return func(params_batch, Z)\n",
    "\n",
    "    \n",
    "\n",
    "class MCFollmerSDE(torch.nn.Module):\n",
    "\n",
    "    def __init__(self, gamma, dim, log_posterior, X_train, y_train, device):\n",
    "        super().__init__()\n",
    "\n",
    "        self.noise_type = 'diagonal'\n",
    "        self.sde_type = 'ito'\n",
    "        self.gamma = gamma\n",
    "        self.drift =  MCFollmerDrift(log_posterior, X_train, y_train, dim, device, gamma=gamma).mc_follmer_drift\n",
    "        self.dim = dim\n",
    "        \n",
    "    def f(self, t, y, detach=False):\n",
    "        return self.drift(t, y)\n",
    "        \n",
    "    def g(self, t, y):\n",
    "        return torch.sqrt(self.gamma * torch.ones_like(y))\n",
    "\n",
    "    def sample_trajectory(self, batch_size, dt=0.05, device=None):\n",
    "        param_init = torch.zeros((batch_size, self.dim), device=device)\n",
    "\n",
    "        n_steps = int(1.0 / dt)\n",
    "\n",
    "        ts = torch.linspace(0, 1, n_steps, device=device)\n",
    "\n",
    "        param_trajectory = torchsde.sdeint(self, param_init, ts, method=\"euler\", dt=dt)\n",
    "\n",
    "        return param_trajectory, ts\n",
    "\n",
    "    def sample(self, batch_size, dt=0.05, device=None):\n",
    "        return self.sample_trajectory(batch_size, dt=dt, device=device)[0][-1]\n",
    "    \n",
    "\n",
    "# mcfol = MCFollmerDrift(log_posterior, X_train, y_train, dim, device)\n",
    "sde_sfs = MCFollmerSDE(torch.tensor(gamma), dim, log_posterior, X_train, y_train, device)"
   ]
  },
  {
   "cell_type": "code",
   "execution_count": 197,
   "id": "87f81e0f",
   "metadata": {},
   "outputs": [
    {
     "data": {
      "text/plain": [
       "MCFollmerSDE()"
      ]
     },
     "execution_count": 197,
     "metadata": {},
     "output_type": "execute_result"
    }
   ],
   "source": [
    "sde"
   ]
  },
  {
   "cell_type": "code",
   "execution_count": 203,
   "id": "64b79324",
   "metadata": {},
   "outputs": [],
   "source": [
    "sfs_samps = sde_sfs.sample(100, dt=0.01, device=device)"
   ]
  },
  {
   "cell_type": "code",
   "execution_count": 213,
   "id": "644caaf9",
   "metadata": {},
   "outputs": [
    {
     "data": {
      "text/plain": [
       "tensor([ True, False,  True,  True,  True,  True, False,  True,  True, False,\n",
       "         True,  True, False, False,  True,  True,  True,  True, False,  True,\n",
       "         True,  True, False,  True, False, False,  True, False,  True, False,\n",
       "        False, False, False, False, False,  True, False,  True, False,  True,\n",
       "         True,  True, False, False,  True, False, False,  True,  True, False,\n",
       "         True, False,  True,  True,  True,  True, False, False,  True, False,\n",
       "         True, False, False,  True, False, False,  True,  True,  True,  True,\n",
       "         True,  True, False,  True,  True,  True,  True,  True,  True, False,\n",
       "        False,  True, False, False,  True,  True,  True,  True,  True,  True,\n",
       "        False, False, False,  True, False, False,  True, False,  True, False],\n",
       "       device='cuda:0')"
      ]
     },
     "execution_count": 213,
     "metadata": {},
     "output_type": "execute_result"
    }
   ],
   "source": [
    "torch.isnan(sfs_samps).sum(dim=1).bool()"
   ]
  },
  {
   "cell_type": "code",
   "execution_count": 216,
   "id": "e8c9fe32",
   "metadata": {},
   "outputs": [
    {
     "name": "stdout",
     "output_type": "stream",
     "text": [
      "tensor([[0.9596, 0.8310],\n",
      "        [0.9931, 0.8504],\n",
      "        [0.9426, 0.7988],\n",
      "        [0.9514, 0.7961],\n",
      "        [0.9334, 0.8563],\n",
      "        [0.9466, 0.7828],\n",
      "        [0.9244, 0.7986],\n",
      "        [0.9506, 0.9021],\n",
      "        [0.9473, 0.8983],\n",
      "        [0.9601, 0.8678],\n",
      "        [0.9660, 0.8369],\n",
      "        [0.9588, 0.7737],\n",
      "        [0.9338, 0.7767],\n",
      "        [0.9341, 0.8558],\n",
      "        [0.9425, 0.8162],\n",
      "        [0.9642, 0.7801],\n",
      "        [0.9525, 0.7851],\n",
      "        [0.9564, 0.8620],\n",
      "        [0.9513, 0.9101],\n",
      "        [0.9561, 0.8046],\n",
      "        [0.9776, 0.8263],\n",
      "        [0.9510, 0.8741],\n",
      "        [0.9468, 0.8695],\n",
      "        [0.9553, 0.8181],\n",
      "        [0.9854, 0.8527],\n",
      "        [0.9626, 0.7260],\n",
      "        [0.9539, 0.8680],\n",
      "        [0.9333, 0.8109],\n",
      "        [0.9640, 0.8362],\n",
      "        [0.9643, 0.8629],\n",
      "        [0.9491, 0.6993],\n",
      "        [0.9813, 0.7983],\n",
      "        [0.9552, 0.8321],\n",
      "        [0.9267, 0.7757],\n",
      "        [0.9465, 0.8264],\n",
      "        [0.9237, 0.8172],\n",
      "        [0.9494, 0.8642],\n",
      "        [0.9566, 0.8196],\n",
      "        [0.9400, 0.7111],\n",
      "        [0.9534, 0.9064],\n",
      "        [0.9430, 0.7991],\n",
      "        [0.9710, 0.8536],\n",
      "        [0.9509, 0.8207]], device='cuda:0')\n"
     ]
    },
    {
     "data": {
      "image/png": "[encoded data removed]",
      "text/plain": [
       "<Figure size 432x288 with 1 Axes>"
      ]
     },
     "metadata": {
      "needs_background": "light"
     },
     "output_type": "display_data"
    }
   ],
   "source": [
    "sfs_samps = sfs_samps[~torch.isnan(sfs_samps).sum(dim=1).bool()]\n",
    "\n",
    "std_sfs, mean_sfs, logp_sfs, mse_sfs = predict(sfs_samps, X_test, y_test)\n",
    "\n",
    "std_sfs = torch.sqrt(std_sfs**2 + sigma_n**2)\n",
    "plot_fit(mean_sfs, mean_sfs, title=\"SBP fit\", fn=None)\n",
    "plt.show()\n",
    "plot_fit(mean_sfs, mean_sfs, title=\"SBP fit\", fn=\"plots/step_func/sbp_sfs_mc_fit.png\")"
   ]
  },
  {
   "cell_type": "code",
   "execution_count": 111,
   "id": "dc1d204c",
   "metadata": {},
   "outputs": [
    {
     "name": "stdout",
     "output_type": "stream",
     "text": [
      "(30, 2)\n"
     ]
    }
   ],
   "source": [
    "def pred_true_std(X_train, X_test, sigma_n, sigma2, dim):\n",
    "    # https://github.com/probml/pml-book/releases/latest/download/book1.pdf\n",
    "    # See Eq 11.124 in the above link page 430 on pdf viewer (page 400 on page number in pdf)\n",
    "\n",
    "    X_trainnp = X_train.cpu().detach().numpy()\n",
    "    n_, d = X_trainnp.shape\n",
    "\n",
    "    X_trainnp = np.concatenate((X_trainnp, np.ones((n_, 1))), axis=1)\n",
    "\n",
    "    X_testnp = X_test.cpu().detach().numpy()\n",
    "    n_, d = X_testnp.shape\n",
    "\n",
    "    X_testnp = np.concatenate((X_testnp, np.ones((n_, 1))), axis=1)\n",
    "\n",
    "\n",
    "    print(X_trainnp.shape)\n",
    "\n",
    "    Sigma_post = sigma_n**2 * np.linalg.inv(sigma_n**2 *  np.eye(dim) / sigma2 + np.dot(X_trainnp.T,X_trainnp))\n",
    "    \n",
    "    sigma_pred = []\n",
    "    for i in range(n_):\n",
    "        sigma_pred += [np.dot(X_testnp[i,:].dot(Sigma_post), X_testnp[i,:]) + sigma_n**2 ]\n",
    "\n",
    "    std_true = np.sqrt(sigma_pred)\n",
    "    return std_true\n",
    "\n",
    "std_true = pred_true_std(X_train, X_test, sigma_n,  sigma2, dim)"
   ]
  },
  {
   "cell_type": "code",
   "execution_count": 112,
   "id": "1a90e7fc",
   "metadata": {},
   "outputs": [
    {
     "data": {
      "text/plain": [
       "(30,)"
      ]
     },
     "execution_count": 112,
     "metadata": {},
     "output_type": "execute_result"
    }
   ],
   "source": [
    "std_true.shape"
   ]
  },
  {
   "cell_type": "code",
   "execution_count": 113,
   "id": "bbab02a7",
   "metadata": {},
   "outputs": [
    {
     "data": {
      "image/png": "[encoded data removed]",
      "text/plain": [
       "<Figure size 432x288 with 1 Axes>"
      ]
     },
     "metadata": {
      "needs_background": "light"
     },
     "output_type": "display_data"
    }
   ],
   "source": [
    "param_samples = sde.sample(100, dt=0.01, device=device)\n",
    "\n",
    "plot_fit(mean, torch.tensor(std_true), title=\"Exact fit\", fn=None)\n",
    "plt.show()\n",
    "# plot_fit(mean, std, title=\"SBP fit\", fn=\"plots/step_func/sbp_fit.png\")"
   ]
  },
  {
   "cell_type": "code",
   "execution_count": 20,
   "id": "b2075fe6",
   "metadata": {},
   "outputs": [
    {
     "data": {
      "text/plain": [
       "(tensor(-73.4771, device='cuda:0'), tensor(0.0039, device='cuda:0'))"
      ]
     },
     "execution_count": 20,
     "metadata": {},
     "output_type": "execute_result"
    }
   ],
   "source": [
    "logp, mse"
   ]
  },
  {
   "cell_type": "code",
   "execution_count": null,
   "id": "63bc1c4e",
   "metadata": {},
   "outputs": [
    {
     "name": "stderr",
     "output_type": "stream",
     "text": [
      "  0%|          | 0/300 [00:00<?, ?it/s]/home/fav25/.conda/envs/functorch/lib/python3.9/site-packages/torch/nn/functional.py:2282: UserWarning: There is a performance drop because we have not yet implemented the batching rule for aten::batch_norm. Please file us an issue on GitHub so that we can prioritize its implementation. (Triggered internally at  /tmp/pip-req-build-jk216yxu/functorch/csrc/BatchedFallback.cpp:106.)\n",
      "  return torch.batch_norm(\n",
      "100%|██████████| 300/300 [00:27<00:00, 10.76it/s]\n",
      "  0%|          | 0/300 [00:00<?, ?it/s]/home/fav25/.conda/envs/functorch/lib/python3.9/site-packages/torch/nn/functional.py:2282: UserWarning: There is a performance drop because we have not yet implemented the batching rule for aten::batch_norm. Please file us an issue on GitHub so that we can prioritize its implementation. (Triggered internally at  /tmp/pip-req-build-jk216yxu/functorch/csrc/BatchedFallback.cpp:106.)\n",
      "  return torch.batch_norm(\n",
      "100%|██████████| 300/300 [00:28<00:00, 10.63it/s]\n",
      "  0%|          | 0/300 [00:00<?, ?it/s]/home/fav25/.conda/envs/functorch/lib/python3.9/site-packages/torch/nn/functional.py:2282: UserWarning: There is a performance drop because we have not yet implemented the batching rule for aten::batch_norm. Please file us an issue on GitHub so that we can prioritize its implementation. (Triggered internally at  /tmp/pip-req-build-jk216yxu/functorch/csrc/BatchedFallback.cpp:106.)\n",
      "  return torch.batch_norm(\n",
      "100%|██████████| 300/300 [00:28<00:00, 10.52it/s]\n",
      "  0%|          | 0/300 [00:00<?, ?it/s]/home/fav25/.conda/envs/functorch/lib/python3.9/site-packages/torch/nn/functional.py:2282: UserWarning: There is a performance drop because we have not yet implemented the batching rule for aten::batch_norm. Please file us an issue on GitHub so that we can prioritize its implementation. (Triggered internally at  /tmp/pip-req-build-jk216yxu/functorch/csrc/BatchedFallback.cpp:106.)\n",
      "  return torch.batch_norm(\n",
      " 99%|█████████▉| 297/300 [00:27<00:00, 10.42it/s]"
     ]
    }
   ],
   "source": [
    "n_runs = 5\n",
    "\n",
    "sbp_mse = []\n",
    "sbp_logp = []\n",
    "\n",
    "for i in range(n_runs):\n",
    "    sde, losses = train(gamma, n_steps, data_batch_size, param_batch_size)\n",
    "    \n",
    "    with torch.no_grad():\n",
    "        param_samples = sde.sample(100, dt=0.01, device=device)\n",
    "    \n",
    "    \n",
    "    \n",
    "    std, mean, logp, mse = predict(param_samples, X_test, y_test)\n",
    "    \n",
    "    std = torch.sqrt(std**2 + sigma_n**2)\n",
    "    plot_fit(mean, std, title=\"SBP fit\", fn=None)\n",
    "    plt.show()\n",
    "    \n",
    "    plot_fit(mean, std, title=\"SBP fit #{}\".format(i+1), fn=\"plots/step_func/sbp_fit_#{:d}.png\".format(i+1))\n",
    "    \n",
    "    sbp_mse.append(mse.cpu().numpy())\n",
    "    sbp_logp.append(logp.cpu().numpy())\n",
    "    \n",
    "sbp_mse = np.array(sbp_mse)\n",
    "sbp_logp = np.array(sbp_logp)"
   ]
  },
  {
   "cell_type": "code",
   "execution_count": null,
   "id": "bfcc8edb",
   "metadata": {},
   "outputs": [],
   "source": [
    "@torch.enable_grad()\n",
    "def gradient(x, y, params):\n",
    "    params_ = params.clone().requires_grad_(True)\n",
    "    loss = log_posterior(x, y, params_)\n",
    "    grad, = torch.autograd.grad(loss, params_)\n",
    "    return loss.detach().cpu().numpy(), grad"
   ]
  },
  {
   "cell_type": "code",
   "execution_count": null,
   "id": "01c00409",
   "metadata": {},
   "outputs": [],
   "source": [
    "def step_size(n):\n",
    "    return 1e-4/ (1 + n)**0.1"
   ]
  },
  {
   "cell_type": "code",
   "execution_count": null,
   "id": "820f8fca",
   "metadata": {},
   "outputs": [],
   "source": [
    "def sgld(n_steps, last_n, data_batch_size):\n",
    "    losses = []\n",
    "    param_samples = []\n",
    "    \n",
    "    params = torch.zeros(dim).float().to(device)\n",
    "    \n",
    "    for step in tqdm(range(n_steps)):\n",
    "        perm = torch.randperm(N_train)\n",
    "        x = X_train[perm[:data_batch_size], :]\n",
    "        y = y_train[perm[:data_batch_size], :]\n",
    "\n",
    "        eps = step_size(step)\n",
    "        loss, grad = gradient(x, y, params)\n",
    "        params = params + 0.5 * eps * grad + np.sqrt(eps) * torch.randn_like(params)\n",
    "        \n",
    "        if n_steps <= step + last_n:\n",
    "            param_samples.append(params)\n",
    "        losses.append(loss)\n",
    "        \n",
    "    param_samples = torch.stack(param_samples)\n",
    "    \n",
    "    return param_samples, losses"
   ]
  },
  {
   "cell_type": "code",
   "execution_count": null,
   "id": "be91bace",
   "metadata": {},
   "outputs": [],
   "source": [
    "param_samples, losses = sgld(10000, 2000, data_batch_size)"
   ]
  },
  {
   "cell_type": "code",
   "execution_count": null,
   "id": "6c259017",
   "metadata": {},
   "outputs": [],
   "source": [
    "plt.plot(losses)"
   ]
  },
  {
   "cell_type": "code",
   "execution_count": null,
   "id": "30a45c79",
   "metadata": {},
   "outputs": [],
   "source": [
    "std, mean, logp, mse = predict(param_samples[:100], X_test, y_test)\n",
    "\n",
    "std = torch.sqrt(std**2 + sigma_n**2)\n"
   ]
  },
  {
   "cell_type": "code",
   "execution_count": 25,
   "id": "2a181a8f",
   "metadata": {},
   "outputs": [],
   "source": [
    "plot_fit(mean, std, title=\"SBP fit\", fn=None)\n",
    "plt.show()\n",
    "\n",
    "plot_fit(mean, std, title=\"SGLD fit\", fn=\"plots/step_func/sgld_fit.png\")"
   ]
  },
  {
   "cell_type": "code",
   "execution_count": 27,
   "id": "c23a18ca",
   "metadata": {},
   "outputs": [
    {
     "name": "stderr",
     "output_type": "stream",
     "text": [
      "100%|████████████████████████████████████████████████████████| 10000/10000 [00:07<00:00, 1280.44it/s]\n",
      "100%|████████████████████████████████████████████████████████| 10000/10000 [00:07<00:00, 1291.47it/s]\n",
      "100%|████████████████████████████████████████████████████████| 10000/10000 [00:07<00:00, 1285.05it/s]\n",
      "100%|████████████████████████████████████████████████████████| 10000/10000 [00:07<00:00, 1284.32it/s]\n",
      "100%|████████████████████████████████████████████████████████| 10000/10000 [00:07<00:00, 1284.46it/s]\n"
     ]
    }
   ],
   "source": [
    "n_runs = 5\n",
    "n_steps = 10000\n",
    "\n",
    "sgld_mse = []\n",
    "sgld_logp = []\n",
    "\n",
    "for i in range(n_runs):\n",
    "    param_samples, losses = sgld(n_steps, 1000, data_batch_size)\n",
    "    \n",
    "    std, mean, logp, mse = predict(param_samples[:100], X_test, y_test)\n",
    "    plot_fit(mean, std, title=\"SGLD fit #{} (100 samples)\".format(i+1), fn=\"plots/step_func/sgld_fit_#{:d}_100.png\".format(i+1))\n",
    "    \n",
    "    std, mean, _, _ = predict(param_samples[:500], X_test, y_test)\n",
    "    plot_fit(mean, std, title=\"SGLD fit #{} (500 samples)\".format(i+1), fn=\"plots/step_func/sgld_fit_#{:d}_500.png\".format(i+1))\n",
    "    \n",
    "    std, mean, _, _ = predict(param_samples, X_test, y_test)\n",
    "    plot_fit(mean, std, title=\"SGLD fit #{} (1000 samples)\".format(i+1), fn=\"plots/step_func/sgld_fit_#{:d}_1000.png\".format(i+1))\n",
    "    \n",
    "    sgld_mse.append(mse.cpu().numpy())\n",
    "    sgld_logp.append(logp.cpu().numpy())\n",
    "    \n",
    "sgld_mse = np.array(sgld_mse)\n",
    "sgld_logp = np.array(sgld_logp)"
   ]
  },
  {
   "cell_type": "code",
   "execution_count": 29,
   "id": "de76f9aa",
   "metadata": {},
   "outputs": [],
   "source": [
    "SBP_df = pd.DataFrame({\"mse\": sbp_mse, \"logp\": sbp_logp})\n",
    "SGLD_df = pd.DataFrame({\"mse\": sgld_mse, \"logp\": sgld_logp})"
   ]
  },
  {
   "cell_type": "code",
   "execution_count": 30,
   "id": "d7ebc3a0",
   "metadata": {},
   "outputs": [
    {
     "data": {
      "text/html": [
       "<div>\n",
       "<style scoped>\n",
       "    .dataframe tbody tr th:only-of-type {\n",
       "        vertical-align: middle;\n",
       "    }\n",
       "\n",
       "    .dataframe tbody tr th {\n",
       "        vertical-align: top;\n",
       "    }\n",
       "\n",
       "    .dataframe thead th {\n",
       "        text-align: right;\n",
       "    }\n",
       "</style>\n",
       "<table border=\"1\" class=\"dataframe\">\n",
       "  <thead>\n",
       "    <tr style=\"text-align: right;\">\n",
       "      <th></th>\n",
       "      <th>mse</th>\n",
       "      <th>logp</th>\n",
       "    </tr>\n",
       "  </thead>\n",
       "  <tbody>\n",
       "    <tr>\n",
       "      <th>0</th>\n",
       "      <td>0.001964</td>\n",
       "      <td>-57.789295</td>\n",
       "    </tr>\n",
       "    <tr>\n",
       "      <th>1</th>\n",
       "      <td>0.002125</td>\n",
       "      <td>-59.463318</td>\n",
       "    </tr>\n",
       "    <tr>\n",
       "      <th>2</th>\n",
       "      <td>0.002607</td>\n",
       "      <td>-56.198963</td>\n",
       "    </tr>\n",
       "    <tr>\n",
       "      <th>3</th>\n",
       "      <td>0.004290</td>\n",
       "      <td>-65.259750</td>\n",
       "    </tr>\n",
       "    <tr>\n",
       "      <th>4</th>\n",
       "      <td>0.003424</td>\n",
       "      <td>-76.526329</td>\n",
       "    </tr>\n",
       "  </tbody>\n",
       "</table>\n",
       "</div>"
      ],
      "text/plain": [
       "        mse       logp\n",
       "0  0.001964 -57.789295\n",
       "1  0.002125 -59.463318\n",
       "2  0.002607 -56.198963\n",
       "3  0.004290 -65.259750\n",
       "4  0.003424 -76.526329"
      ]
     },
     "execution_count": 30,
     "metadata": {},
     "output_type": "execute_result"
    }
   ],
   "source": [
    "SBP_df"
   ]
  },
  {
   "cell_type": "code",
   "execution_count": 31,
   "id": "f0954b55",
   "metadata": {},
   "outputs": [
    {
     "data": {
      "text/html": [
       "<div>\n",
       "<style scoped>\n",
       "    .dataframe tbody tr th:only-of-type {\n",
       "        vertical-align: middle;\n",
       "    }\n",
       "\n",
       "    .dataframe tbody tr th {\n",
       "        vertical-align: top;\n",
       "    }\n",
       "\n",
       "    .dataframe thead th {\n",
       "        text-align: right;\n",
       "    }\n",
       "</style>\n",
       "<table border=\"1\" class=\"dataframe\">\n",
       "  <thead>\n",
       "    <tr style=\"text-align: right;\">\n",
       "      <th></th>\n",
       "      <th>mse</th>\n",
       "      <th>logp</th>\n",
       "    </tr>\n",
       "  </thead>\n",
       "  <tbody>\n",
       "    <tr>\n",
       "      <th>count</th>\n",
       "      <td>5.000000</td>\n",
       "      <td>5.000000</td>\n",
       "    </tr>\n",
       "    <tr>\n",
       "      <th>mean</th>\n",
       "      <td>0.002882</td>\n",
       "      <td>-63.047527</td>\n",
       "    </tr>\n",
       "    <tr>\n",
       "      <th>std</th>\n",
       "      <td>0.000971</td>\n",
       "      <td>8.276026</td>\n",
       "    </tr>\n",
       "    <tr>\n",
       "      <th>min</th>\n",
       "      <td>0.001964</td>\n",
       "      <td>-76.526329</td>\n",
       "    </tr>\n",
       "    <tr>\n",
       "      <th>25%</th>\n",
       "      <td>0.002125</td>\n",
       "      <td>-65.259750</td>\n",
       "    </tr>\n",
       "    <tr>\n",
       "      <th>50%</th>\n",
       "      <td>0.002607</td>\n",
       "      <td>-59.463318</td>\n",
       "    </tr>\n",
       "    <tr>\n",
       "      <th>75%</th>\n",
       "      <td>0.003424</td>\n",
       "      <td>-57.789295</td>\n",
       "    </tr>\n",
       "    <tr>\n",
       "      <th>max</th>\n",
       "      <td>0.004290</td>\n",
       "      <td>-56.198963</td>\n",
       "    </tr>\n",
       "  </tbody>\n",
       "</table>\n",
       "</div>"
      ],
      "text/plain": [
       "            mse       logp\n",
       "count  5.000000   5.000000\n",
       "mean   0.002882 -63.047527\n",
       "std    0.000971   8.276026\n",
       "min    0.001964 -76.526329\n",
       "25%    0.002125 -65.259750\n",
       "50%    0.002607 -59.463318\n",
       "75%    0.003424 -57.789295\n",
       "max    0.004290 -56.198963"
      ]
     },
     "execution_count": 31,
     "metadata": {},
     "output_type": "execute_result"
    }
   ],
   "source": [
    "SBP_df.describe()"
   ]
  },
  {
   "cell_type": "code",
   "execution_count": 32,
   "id": "cb4ea8db",
   "metadata": {},
   "outputs": [
    {
     "data": {
      "text/html": [
       "<div>\n",
       "<style scoped>\n",
       "    .dataframe tbody tr th:only-of-type {\n",
       "        vertical-align: middle;\n",
       "    }\n",
       "\n",
       "    .dataframe tbody tr th {\n",
       "        vertical-align: top;\n",
       "    }\n",
       "\n",
       "    .dataframe thead th {\n",
       "        text-align: right;\n",
       "    }\n",
       "</style>\n",
       "<table border=\"1\" class=\"dataframe\">\n",
       "  <thead>\n",
       "    <tr style=\"text-align: right;\">\n",
       "      <th></th>\n",
       "      <th>mse</th>\n",
       "      <th>logp</th>\n",
       "    </tr>\n",
       "  </thead>\n",
       "  <tbody>\n",
       "    <tr>\n",
       "      <th>0</th>\n",
       "      <td>0.206835</td>\n",
       "      <td>-1820.782104</td>\n",
       "    </tr>\n",
       "    <tr>\n",
       "      <th>1</th>\n",
       "      <td>0.105824</td>\n",
       "      <td>-897.239014</td>\n",
       "    </tr>\n",
       "    <tr>\n",
       "      <th>2</th>\n",
       "      <td>0.379812</td>\n",
       "      <td>-2585.553467</td>\n",
       "    </tr>\n",
       "    <tr>\n",
       "      <th>3</th>\n",
       "      <td>0.155833</td>\n",
       "      <td>-1200.368042</td>\n",
       "    </tr>\n",
       "    <tr>\n",
       "      <th>4</th>\n",
       "      <td>0.039080</td>\n",
       "      <td>-443.960571</td>\n",
       "    </tr>\n",
       "  </tbody>\n",
       "</table>\n",
       "</div>"
      ],
      "text/plain": [
       "        mse         logp\n",
       "0  0.206835 -1820.782104\n",
       "1  0.105824  -897.239014\n",
       "2  0.379812 -2585.553467\n",
       "3  0.155833 -1200.368042\n",
       "4  0.039080  -443.960571"
      ]
     },
     "execution_count": 32,
     "metadata": {},
     "output_type": "execute_result"
    }
   ],
   "source": [
    "SGLD_df"
   ]
  },
  {
   "cell_type": "code",
   "execution_count": 33,
   "id": "7a897de6",
   "metadata": {},
   "outputs": [
    {
     "data": {
      "text/html": [
       "<div>\n",
       "<style scoped>\n",
       "    .dataframe tbody tr th:only-of-type {\n",
       "        vertical-align: middle;\n",
       "    }\n",
       "\n",
       "    .dataframe tbody tr th {\n",
       "        vertical-align: top;\n",
       "    }\n",
       "\n",
       "    .dataframe thead th {\n",
       "        text-align: right;\n",
       "    }\n",
       "</style>\n",
       "<table border=\"1\" class=\"dataframe\">\n",
       "  <thead>\n",
       "    <tr style=\"text-align: right;\">\n",
       "      <th></th>\n",
       "      <th>mse</th>\n",
       "      <th>logp</th>\n",
       "    </tr>\n",
       "  </thead>\n",
       "  <tbody>\n",
       "    <tr>\n",
       "      <th>count</th>\n",
       "      <td>5.000000</td>\n",
       "      <td>5.000000</td>\n",
       "    </tr>\n",
       "    <tr>\n",
       "      <th>mean</th>\n",
       "      <td>0.177477</td>\n",
       "      <td>-1389.580566</td>\n",
       "    </tr>\n",
       "    <tr>\n",
       "      <th>std</th>\n",
       "      <td>0.128994</td>\n",
       "      <td>834.967773</td>\n",
       "    </tr>\n",
       "    <tr>\n",
       "      <th>min</th>\n",
       "      <td>0.039080</td>\n",
       "      <td>-2585.553467</td>\n",
       "    </tr>\n",
       "    <tr>\n",
       "      <th>25%</th>\n",
       "      <td>0.105824</td>\n",
       "      <td>-1820.782104</td>\n",
       "    </tr>\n",
       "    <tr>\n",
       "      <th>50%</th>\n",
       "      <td>0.155833</td>\n",
       "      <td>-1200.368042</td>\n",
       "    </tr>\n",
       "    <tr>\n",
       "      <th>75%</th>\n",
       "      <td>0.206835</td>\n",
       "      <td>-897.239014</td>\n",
       "    </tr>\n",
       "    <tr>\n",
       "      <th>max</th>\n",
       "      <td>0.379812</td>\n",
       "      <td>-443.960571</td>\n",
       "    </tr>\n",
       "  </tbody>\n",
       "</table>\n",
       "</div>"
      ],
      "text/plain": [
       "            mse         logp\n",
       "count  5.000000     5.000000\n",
       "mean   0.177477 -1389.580566\n",
       "std    0.128994   834.967773\n",
       "min    0.039080 -2585.553467\n",
       "25%    0.105824 -1820.782104\n",
       "50%    0.155833 -1200.368042\n",
       "75%    0.206835  -897.239014\n",
       "max    0.379812  -443.960571"
      ]
     },
     "execution_count": 33,
     "metadata": {},
     "output_type": "execute_result"
    }
   ],
   "source": [
    "SGLD_df.describe()"
   ]
  }
 ],
 "metadata": {
  "kernelspec": {
   "display_name": "Python 3 (ipykernel)",
   "language": "python",
   "name": "python3"
  },
  "language_info": {
   "codemirror_mode": {
    "name": "ipython",
    "version": 3
   },
   "file_extension": ".py",
   "mimetype": "text/x-python",
   "name": "python",
   "nbconvert_exporter": "python",
   "pygments_lexer": "ipython3",
   "version": "3.9.7"
  }
 },
 "nbformat": 4,
 "nbformat_minor": 5
}
