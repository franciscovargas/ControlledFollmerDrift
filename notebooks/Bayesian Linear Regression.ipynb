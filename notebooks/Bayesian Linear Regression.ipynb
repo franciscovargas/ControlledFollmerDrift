{
 "cells": [
  {
   "cell_type": "code",
   "execution_count": 1,
   "id": "10a6b666",
   "metadata": {},
   "outputs": [],
   "source": [
    "import torch\n",
    "import torch.nn.functional as F\n",
    "import torchsde\n",
    "\n",
    "from torchvision import datasets, transforms\n",
    "\n",
    "import math\n",
    "import numpy as np\n",
    "import pandas as pd\n",
    "from tqdm import tqdm\n",
    "\n",
    "from torchvision.transforms import ToTensor\n",
    "from torch.utils.data import DataLoader\n",
    "import functorch\n",
    "\n",
    "import matplotlib.pyplot as plt\n",
    "\n",
    "import cfollmer.functional as functional\n",
    "from cfollmer.objectives import relative_entropy_control_cost\n",
    "from cfollmer.drifts import SimpleForwardNet, SimpleForwardNetBN, ResNetScoreNetwork\n",
    "from cfollmer.sampler_utils import FollmerSDE"
   ]
  },
  {
   "cell_type": "code",
   "execution_count": 128,
   "id": "eac572db",
   "metadata": {},
   "outputs": [],
   "source": []
  },
  {
   "cell_type": "code",
   "execution_count": 2,
   "id": "9078de16",
   "metadata": {},
   "outputs": [],
   "source": [
    "device = \"cuda\" if torch.cuda.is_available() else \"cpu\""
   ]
  },
  {
   "cell_type": "code",
   "execution_count": 3,
   "id": "2d492713",
   "metadata": {},
   "outputs": [],
   "source": [
    "class DNN(torch.nn.Module):\n",
    "    \n",
    "    def __init__(self, input_dim=1, output_dim=1):\n",
    "        super(DNN, self).__init__()\n",
    "        \n",
    "        self.output_dim = output_dim\n",
    "        self.input_dim = input_dim\n",
    "        \n",
    "        self.nn = torch.nn.Sequential(\n",
    "            torch.nn.Linear(input_dim, 100),\n",
    "            torch.nn.ReLU(),\n",
    "            torch.nn.Linear(100, 100),\n",
    "            torch.nn.ReLU(),\n",
    "            torch.nn.Linear(100, output_dim)\n",
    "        )\n",
    "        \n",
    "    def forward(self, x):\n",
    "        return self.nn(x)\n",
    "\n",
    "    \n",
    "class LinModel(torch.nn.Module):\n",
    "    \n",
    "    def __init__(self, input_dim=1, output_dim=1):\n",
    "        super(LinModel, self).__init__()\n",
    "        \n",
    "        self.output_dim = output_dim\n",
    "        self.input_dim = input_dim\n",
    "        \n",
    "        self.nn = torch.nn.Sequential(\n",
    "            torch.nn.Linear(input_dim, 1),\n",
    "        )\n",
    "        \n",
    "    def forward(self, x):\n",
    "        return self.nn(x)"
   ]
  },
  {
   "cell_type": "code",
   "execution_count": 40,
   "id": "19372f3f",
   "metadata": {},
   "outputs": [
    {
     "data": {
      "image/png": "[encoded data removed]",
      "text/plain": [
       "<Figure size 432x288 with 1 Axes>"
      ]
     },
     "metadata": {
      "needs_background": "light"
     },
     "output_type": "display_data"
    }
   ],
   "source": [
    "device = \"cuda\" if torch.cuda.is_available() else \"cpu\"\n",
    "\n",
    "\n",
    "\n",
    "def lin_reg_data_gen(dim, sigma_n, device, num_samps=30):\n",
    "\n",
    "    w = np.ones((dim,1))\n",
    "    b = 1\n",
    "\n",
    "    func = lambda x: np.dot(x, w)  + 1\n",
    "\n",
    "    # Test inputs\n",
    "    num_test_samples = 30\n",
    "\n",
    "    if dim == 1:\n",
    "        X_test = np.linspace(-16, 16, num_samps).reshape(num_samps,1)\n",
    "        X_train = np.linspace(-3.5, 3.5, num_samps).reshape(-1,1)\n",
    "    else:\n",
    "        X_test  = np.random.randn(num_samps, dim)\n",
    "        X_train  = np.random.randn(num_samps, dim)\n",
    "\n",
    "    # Noise free training inputs\n",
    "\n",
    "    #f_train = np.cos(X_train) \n",
    "    f_train = func(X_train)\n",
    "\n",
    "    # Noise-free training outputs\n",
    "    #f = np.cos(X_test)\n",
    "    f = func(X_test)\n",
    "    y_test  = f\n",
    "\n",
    "    # Noisy training Inputs with additive Gaussian noise (zero-mean, variance sigma_n)\n",
    "\n",
    "    mu = np.zeros(X_train.size)\n",
    "    epsilon = np.random.multivariate_normal(mu, sigma_n**2 * np.eye(X_train.size))\n",
    "\n",
    "    # Noisy targets\n",
    "    y_train = f_train + epsilon.reshape(X_train.size,1)\n",
    "    \n",
    "    return X_train, y_train, X_test, y_test, f\n",
    "\n",
    "dim = dim_data = 1\n",
    "sigma_n = 0.5\n",
    "\n",
    "X_train, y_train, X_test, y_test, f = lin_reg_data_gen(dim,  sigma_n, device)\n",
    "\n",
    "N_train , _ = X_train.shape\n",
    "N_test , _ = X_test.shape\n",
    "\n",
    "# if  dim == 1:\n",
    "# Noisy observations\n",
    "fig, ax = plt.subplots(figsize=(6, 4), tight_layout=True)\n",
    "ax.plot(X_test[:,[0]], f, 'b', label = 'f(x)')\n",
    "ax.plot(X_train[:,[0]], y_train,\".\",  label = 'y(x) = f(x) + $\\epsilon$')\n",
    "ax.legend(loc = 'upper left')\n",
    "ax.set_title('Target function with noisy observations ')\n",
    "\n",
    "plt.show()"
   ]
  },
  {
   "cell_type": "code",
   "execution_count": 41,
   "id": "6040509c",
   "metadata": {},
   "outputs": [],
   "source": [
    "X_train = torch.tensor(X_train, device=device, dtype=torch.float)\n",
    "X_test = torch.tensor(X_test, device=device, dtype=torch.float)\n",
    "\n",
    "y_train = torch.tensor(y_train, device=device, dtype=torch.float)\n",
    "y_test = torch.tensor(y_test, device=device, dtype=torch.float)"
   ]
  },
  {
   "cell_type": "code",
   "execution_count": 96,
   "id": "1b360222",
   "metadata": {},
   "outputs": [],
   "source": [
    "model = LinModel().to(device)\n",
    "func_model, params = functorch.make_functional(model)\n",
    "size_list = functional.params_to_size_tuples(params)\n",
    "dim = functional.get_number_of_params(size_list)\n",
    "\n",
    "sigma2 = 1\n",
    "\n",
    "def log_prior(params):\n",
    "    return -torch.sum(params**2) / (2 * sigma2)\n",
    "\n",
    "def log_likelihood(x, y, params):\n",
    "    preds = func_model(functional.get_params_from_array(params, size_list), x)\n",
    "    diff = preds - y\n",
    "    \n",
    "    return - torch.sum(diff**2) / (2 * sigma_n**2)\n",
    "\n",
    "def log_likelihood_batch(x, y, params_batch):\n",
    "    func = lambda params: log_likelihood(x, y, params)\n",
    "    func = functorch.vmap(func)\n",
    "    return func(params_batch)\n",
    "\n",
    "def log_posterior(x, y, params):\n",
    "    return log_prior(params) + (N_train / x.shape[0]) * log_likelihood(x, y, params)\n",
    "\n",
    "def log_posterior_batch(x, y, params_batch):\n",
    "    func = lambda params: log_posterior(x, y, params)\n",
    "    func = functorch.vmap(func)\n",
    "    return func(params_batch)"
   ]
  },
  {
   "cell_type": "code",
   "execution_count": 97,
   "id": "54661e97",
   "metadata": {},
   "outputs": [],
   "source": [
    "gamma = 0.1**2\n",
    "\n",
    "n_steps = 300\n",
    "data_batch_size = 50\n",
    "param_batch_size = 32"
   ]
  },
  {
   "cell_type": "code",
   "execution_count": 98,
   "id": "8f3e094d",
   "metadata": {},
   "outputs": [],
   "source": [
    "def train(gamma, n_steps, data_batch_size, param_batch_size, dt=0.05, stl=False):\n",
    "    sde = FollmerSDE(gamma, SimpleForwardNetBN(input_dim=dim, width=300)).to(device)\n",
    "    optimizer = torch.optim.Adam(sde.parameters(), lr=1e-4)\n",
    "    \n",
    "    losses = []\n",
    "\n",
    "    for _ in tqdm(range(n_steps)):\n",
    "        perm = torch.randperm(N_train)\n",
    "        x = X_train[perm[:data_batch_size], :]\n",
    "        y = y_train[perm[:data_batch_size], :]\n",
    "\n",
    "        optimizer.zero_grad()\n",
    "        \n",
    "        partial_log_p = lambda params_batch: log_posterior_batch(x, y, params_batch)\n",
    "        \n",
    "        loss = relative_entropy_control_cost(sde, partial_log_p, param_batch_size=param_batch_size, dt=dt, device=device)\n",
    "        loss.backward()\n",
    "        \n",
    "        losses.append(loss.detach().cpu().numpy())\n",
    "        optimizer.step()\n",
    "        \n",
    "        if stl: # double check theres no references left\n",
    "            sde.drift_network_detatched.load_state_dict((sde.drift_network.state_dict()))\n",
    "    \n",
    "    losses = np.array(losses)\n",
    "    \n",
    "    return sde, losses"
   ]
  },
  {
   "cell_type": "code",
   "execution_count": 99,
   "id": "7db673ff",
   "metadata": {},
   "outputs": [],
   "source": [
    "def predict(param_samples, x, y):\n",
    "    with torch.no_grad():\n",
    "        predict_func = lambda params : func_model(functional.get_params_from_array(params, size_list), x)\n",
    "        predict_func = functorch.vmap(predict_func)\n",
    "\n",
    "        preds = predict_func(param_samples)\n",
    "\n",
    "        std, mean = torch.std_mean(preds, dim=0)\n",
    "        mse = torch.mean((y_test - mean)**2)\n",
    "        logp = torch.mean(log_likelihood_batch(x, y, param_samples))\n",
    "        \n",
    "    return std, mean, logp, mse"
   ]
  },
  {
   "cell_type": "code",
   "execution_count": 100,
   "id": "49240f9e",
   "metadata": {},
   "outputs": [],
   "source": [
    "def plot_fit(mean, std, title=\"\", fn=None):\n",
    "    x = X_test.cpu().squeeze()\n",
    "    std = std.cpu().squeeze()\n",
    "    mean = mean.cpu().squeeze()\n",
    "    \n",
    "    plt.plot(x, mean)\n",
    "    plt.fill_between(x, mean - 2 * std, mean + 2 * std, alpha=0.2)\n",
    "    plt.plot(X_train.cpu(), y_train.cpu(), 'kP', ms = 9)\n",
    "    plt.title(title)\n",
    "    plt.legend([\"mean prediction\", \"data\", r\"$\\pm 2\\sigma^2$\"], loc=\"upper left\")\n",
    "    if fn is not None:\n",
    "        plt.savefig(fn, bbox_inches=\"tight\", dpi=600)\n",
    "        plt.close()"
   ]
  },
  {
   "cell_type": "code",
   "execution_count": 391,
   "id": "6bc936b7",
   "metadata": {},
   "outputs": [
    {
     "name": "stderr",
     "output_type": "stream",
     "text": [
      "  0%|          | 0/300 [00:00<?, ?it/s]/home/fav25/.conda/envs/functorch/lib/python3.9/site-packages/torch/nn/functional.py:2282: UserWarning: There is a performance drop because we have not yet implemented the batching rule for aten::batch_norm. Please file us an issue on GitHub so that we can prioritize its implementation. (Triggered internally at  /tmp/pip-req-build-jk216yxu/functorch/csrc/BatchedFallback.cpp:106.)\n",
      "  return torch.batch_norm(\n",
      "100%|██████████| 300/300 [00:14<00:00, 20.70it/s]\n"
     ]
    }
   ],
   "source": [
    "sde, losses = train(gamma, n_steps, data_batch_size, param_batch_size)"
   ]
  },
  {
   "cell_type": "code",
   "execution_count": 392,
   "id": "a6cd0f14",
   "metadata": {},
   "outputs": [
    {
     "data": {
      "text/plain": [
       "[<matplotlib.lines.Line2D at 0x7f6044a6c7f0>]"
      ]
     },
     "execution_count": 392,
     "metadata": {},
     "output_type": "execute_result"
    },
    {
     "data": {
      "image/png": "[encoded data removed]",
      "text/plain": [
       "<Figure size 432x288 with 1 Axes>"
      ]
     },
     "metadata": {
      "needs_background": "light"
     },
     "output_type": "display_data"
    }
   ],
   "source": [
    "plt.plot(losses)"
   ]
  },
  {
   "cell_type": "code",
   "execution_count": 395,
   "id": "8762e712",
   "metadata": {},
   "outputs": [
    {
     "data": {
      "image/png": "[encoded data removed]",
      "text/plain": [
       "<Figure size 432x288 with 1 Axes>"
      ]
     },
     "metadata": {
      "needs_background": "light"
     },
     "output_type": "display_data"
    }
   ],
   "source": [
    "param_samples = sde.sample(100, dt=0.01, device=device)\n",
    "std, mean, logp, mse = predict(param_samples, X_test, y_test)\n",
    "\n",
    "std = torch.sqrt(std**2 + sigma_n**2)\n",
    "plot_fit(mean, std, title=\"SBP fit\", fn=None)\n",
    "plt.show()\n",
    "plot_fit(mean, std, title=\"SBP fit\", fn=\"plots/step_func/sbp_fit.png\")\n",
    "# plt.show()"
   ]
  },
  {
   "cell_type": "code",
   "execution_count": 396,
   "id": "72eb7935",
   "metadata": {},
   "outputs": [
    {
     "data": {
      "text/plain": [
       "(tensor([0.0507, 0.0888], device='cuda:0', grad_fn=<StdBackward0>),\n",
       " tensor([0.0420, 0.1071], device='cuda:0'))"
      ]
     },
     "execution_count": 396,
     "metadata": {},
     "output_type": "execute_result"
    }
   ],
   "source": [
    "param_samples.std(dim=0), sfs_samps.std(dim=0)"
   ]
  },
  {
   "cell_type": "code",
   "execution_count": 381,
   "id": "7d4875d4",
   "metadata": {},
   "outputs": [],
   "source": [
    "class MCFollmerDrift:\n",
    "    \n",
    "    def __init__(self, log_posterior, X,y, dim, device, n_samp=100, gamma=torch.tensor(1), debug=False):\n",
    "        self.log_posterior = log_posterior\n",
    "        self.debug = debug\n",
    "        self.log_posterior = log_posterior\n",
    "        self.device = device\n",
    "        self.X = X\n",
    "        self.dim = dim\n",
    "        self.y = y\n",
    "        self.gamma = gamma\n",
    "        self.n_samp = n_samp\n",
    "        self.distrib = torch.distributions.multivariate_normal.MultivariateNormal(\n",
    "            loc=torch.zeros(dim),\n",
    "            covariance_matrix=torch.eye(dim) * torch.sqrt(gamma)\n",
    "        )\n",
    "        \n",
    "    def g(self, thet):\n",
    "        func = lambda params: self.log_posterior(self.X, self.y, params)\n",
    "        func = functorch.vmap(func)\n",
    "        lp = func(thet)\n",
    "        reg = 0.5 * (thet**2).sum(dim=-1) / self.gamma\n",
    "        \n",
    "#             if torch.any(torch.isinf(torch.exp(lp + reg))):\n",
    "\n",
    "        out = torch.exp(lp + reg)\n",
    "        isnan = torch.isinf(torch.abs(out)) | torch.isnan(out)\n",
    "        if self.debug and torch.any(isnan):\n",
    "            import pdb; pdb.set_trace()\n",
    "#         import pdb; pdb.set_trace()\n",
    "        return out # nans exp(reg)\n",
    "\n",
    "    def ln_g(self, thet):\n",
    "        func = lambda params: self.log_posterior(self.X, self.y, params)\n",
    "        func = functorch.vmap(func)\n",
    "        lp = func(thet)\n",
    "        reg = 0.5 * (thet**2).sum(dim=-1) / self.gamma\n",
    "        \n",
    "        out = lp + reg\n",
    "        isnan = torch.isinf(torch.abs(out)) | torch.isnan(out)\n",
    "        if self.debug and torch.any(isnan):\n",
    "            import pdb; pdb.set_trace()\n",
    "            \n",
    "        return out # nans exp(reg)\n",
    "        \n",
    "    def mc_follmer_drift_(self, t, params, Z):\n",
    "        # Using Stein Estimator for SFS drift\n",
    "\n",
    "        g_YZt = self.g(params[None, ...] + torch.sqrt(1-t) * Z)\n",
    "        num = (Z * g_YZt[..., None]).mean(dim=0)\n",
    "        denom = torch.sqrt(1-t) * (g_YZt).mean(dim=0)\n",
    "        \n",
    "        out = num / denom[...,None]\n",
    "        \n",
    "        isnan = torch.isinf(torch.abs(out)) | torch.isnan(out)\n",
    "        \n",
    "        return out\n",
    "    \n",
    "    def mc_follmer_drift_stable(self, t, params, Z):\n",
    "        # Using Stein Estimator for SFS drift\n",
    "        N, d = Z.shape\n",
    "        lnN = torch.log(torch.tensor(N)).to(self.device)\n",
    "        \n",
    "        ln_g_YZt = self.ln_g(params[None, ...] + torch.sqrt(1-t) * Z)\n",
    "        \n",
    "        Z_plus = torch.nn.functional.relu(Z)\n",
    "        Z_minus = torch.nn.functional.relu(-Z)        \n",
    "        \n",
    "        ln_num_plus = torch.logsumexp(\n",
    "            (torch.log(Z_plus) + ln_g_YZt[..., None]) - lnN,\n",
    "            dim=0,\n",
    "        )\n",
    "        ln_num_minus = torch.logsumexp(\n",
    "            (torch.log(Z_minus) + ln_g_YZt[..., None]) - lnN,\n",
    "            dim=0\n",
    "        )\n",
    "#         num =  torch.exp(num_plus) - torch.exp(num_minus)\n",
    "        \n",
    "        ln_denom = torch.logsumexp(\n",
    "            torch.log(torch.sqrt(1-t))  + (ln_g_YZt) - lnN,\n",
    "            dim=0\n",
    "        )\n",
    "        \n",
    "        out =  torch.exp(ln_num_plus-ln_denom) - torch.exp(ln_num_minus-ln_denom)\n",
    "        \n",
    "        \n",
    "        isnan = torch.isinf(torch.abs(out)) | torch.isnan(out)\n",
    "        \n",
    "        return out \n",
    "    \n",
    "    def mc_follmer_drift_debug(self, t, params):\n",
    "        # Using Stein Estimator for SFS drift\n",
    "        \n",
    "        \n",
    "        Z = self.distrib.rsample((self.n_samp,)).to(self.device)\n",
    "        params = params[0]\n",
    "\n",
    "        g_YZt = self.g(params[None, ...] + torch.sqrt(1-t) * Z)\n",
    "        num = (Z * g_YZt[..., None]).mean(dim=0)\n",
    "        denom = torch.sqrt(1-t) * (g_YZt).mean(dim=0)\n",
    "        \n",
    "        out = num / denom[...,None]\n",
    "        \n",
    "        isnan = torch.isinf(torch.abs(out)) | torch.isnan(out)\n",
    "        \n",
    "        if self.debug and torch.any(isnan):\n",
    "            import pdb; pdb.set_trace()\n",
    "        \n",
    "        return out.reshape(1,-1)\n",
    "    \n",
    "    def mc_follmer_drift(self, t , params_batch):\n",
    "        Z = self.distrib.rsample((params_batch.shape[0], self.n_samp)).to(self.device)\n",
    "        \n",
    "        func = lambda params, z: self.mc_follmer_drift_stable(t, params, z)\n",
    "        func = functorch.vmap(func, in_dims=(0,0) )\n",
    "        out = func(params_batch, Z)\n",
    "#         import pdb; pdb.set_trace()\n",
    "        return out\n",
    "\n",
    "    \n",
    "\n",
    "class MCFollmerSDE(torch.nn.Module):\n",
    "\n",
    "    def __init__(self, gamma, dim, log_posterior, X_train, y_train, device, debug=False):\n",
    "        super().__init__()\n",
    "\n",
    "        self.noise_type = 'diagonal'\n",
    "        self.sde_type = 'ito'\n",
    "        self.gamma = gamma\n",
    "        if debug:\n",
    "            self.drift =  MCFollmerDrift(log_posterior, X_train, y_train, dim, device, gamma=gamma, debug=debug).mc_follmer_drift_debug\n",
    "        else:\n",
    "            self.drift =  MCFollmerDrift(log_posterior, X_train, y_train, dim, device, gamma=gamma).mc_follmer_drift\n",
    "        self.dim = dim\n",
    "        \n",
    "    def f(self, t, y, detach=False):\n",
    "        return self.drift(t, y)\n",
    "        \n",
    "    def g(self, t, y):\n",
    "        return torch.sqrt(self.gamma )* torch.ones_like(y)\n",
    "\n",
    "    def sample_trajectory(self, batch_size, dt=0.05, device=None):\n",
    "        param_init = torch.zeros((batch_size, self.dim), device=device)\n",
    "\n",
    "        n_steps = int(1.0 / dt)\n",
    "\n",
    "        ts = torch.linspace(0, 1, n_steps, device=device)\n",
    "\n",
    "        param_trajectory = torchsde.sdeint(self, param_init, ts, method=\"euler\", dt=dt)\n",
    "\n",
    "        return param_trajectory, ts\n",
    "\n",
    "    def sample(self, batch_size, dt=0.05, device=None):\n",
    "        return self.sample_trajectory(batch_size, dt=dt, device=device)[0] [-1]#[-1]\n",
    "    \n",
    "\n",
    "# mcfol = MCFollmerDrift(log_posterior, X_train, y_train, dim, device)\n",
    "sde_sfs = MCFollmerSDE(torch.tensor(gamma), dim, log_posterior, X_train, y_train, device)"
   ]
  },
  {
   "cell_type": "code",
   "execution_count": 382,
   "id": "5512ddf3",
   "metadata": {},
   "outputs": [],
   "source": [
    "# sfs_samps"
   ]
  },
  {
   "cell_type": "code",
   "execution_count": 383,
   "id": "7328842c",
   "metadata": {},
   "outputs": [
    {
     "name": "stderr",
     "output_type": "stream",
     "text": [
      "/tmp/ipykernel_553292/3453989063.py:40: UserWarning: There is a performance drop because we have not yet implemented the batching rule for aten::__or__.Tensor. Please file us an issue on GitHub so that we can prioritize its implementation. (Triggered internally at  /tmp/pip-req-build-jk216yxu/functorch/csrc/BatchedFallback.cpp:106.)\n",
      "  isnan = torch.isinf(torch.abs(out)) | torch.isnan(out)\n",
      "/tmp/ipykernel_553292/3453989063.py:87: UserWarning: There is a performance drop because we have not yet implemented the batching rule for aten::__or__.Tensor. Please file us an issue on GitHub so that we can prioritize its implementation. (Triggered internally at  /tmp/pip-req-build-jk216yxu/functorch/csrc/BatchedFallback.cpp:106.)\n",
      "  isnan = torch.isinf(torch.abs(out)) | torch.isnan(out)\n"
     ]
    }
   ],
   "source": [
    "sfs_samps = sde_sfs.sample(130, dt=0.01, device=device)"
   ]
  },
  {
   "cell_type": "code",
   "execution_count": 384,
   "id": "97dec0ad",
   "metadata": {},
   "outputs": [
    {
     "data": {
      "text/plain": [
       "tensor([[1.0886, 1.0904],\n",
       "        [1.0428, 0.8789],\n",
       "        [1.0253, 0.9630],\n",
       "        [1.1552, 1.0976],\n",
       "        [1.1395, 0.8974],\n",
       "        [1.0375, 0.6623],\n",
       "        [1.0984, 0.8723],\n",
       "        [1.0370, 0.8316],\n",
       "        [1.0488, 0.9094],\n",
       "        [1.1225, 0.8180],\n",
       "        [1.0922, 1.0845],\n",
       "        [1.0189, 0.9606],\n",
       "        [1.0145, 0.7575],\n",
       "        [1.0998, 0.9404],\n",
       "        [1.0904, 0.8552],\n",
       "        [1.0413, 1.0987],\n",
       "        [1.0720, 0.9375],\n",
       "        [0.9064, 0.9042],\n",
       "        [1.0903, 0.9572],\n",
       "        [1.1007, 0.8979],\n",
       "        [1.1088, 1.0463],\n",
       "        [1.1166, 1.1240],\n",
       "        [1.0889, 0.8988],\n",
       "        [1.1064, 0.9044],\n",
       "        [1.0654, 0.9966],\n",
       "        [1.0704, 0.8023],\n",
       "        [1.0343, 0.8912],\n",
       "        [1.0906, 0.8106],\n",
       "        [1.0702, 0.8323],\n",
       "        [0.9637, 0.9828],\n",
       "        [1.0629, 0.8087],\n",
       "        [1.1253, 0.6813],\n",
       "        [1.0729, 0.9013],\n",
       "        [1.0702, 0.9110],\n",
       "        [1.0189, 0.9728],\n",
       "        [1.0423, 0.9201],\n",
       "        [1.0594, 0.6647],\n",
       "        [1.1070, 1.0463],\n",
       "        [1.1098, 1.0420],\n",
       "        [1.1271, 0.9921],\n",
       "        [1.0255, 0.7897],\n",
       "        [1.0548, 0.8953],\n",
       "        [1.0230, 0.7916],\n",
       "        [1.0571, 0.8764],\n",
       "        [1.0545, 0.9231],\n",
       "        [1.0178, 0.9790],\n",
       "        [1.0161, 1.0039],\n",
       "        [1.0947, 0.7948],\n",
       "        [1.0908, 0.8177],\n",
       "        [1.0558, 0.8772],\n",
       "        [1.1132, 0.9257],\n",
       "        [0.9848, 1.0130],\n",
       "        [1.1054, 1.1091],\n",
       "        [1.0943, 1.0851],\n",
       "        [1.1160, 0.8048],\n",
       "        [1.0683, 1.0442],\n",
       "        [1.1156, 1.0942],\n",
       "        [1.0518, 1.0062],\n",
       "        [1.0452, 0.9683],\n",
       "        [1.0865, 0.9112],\n",
       "        [1.1192, 0.9535],\n",
       "        [1.0609, 0.8687],\n",
       "        [1.1091, 0.8311],\n",
       "        [1.0447, 0.9091],\n",
       "        [1.0297, 0.7963],\n",
       "        [1.0344, 0.7531],\n",
       "        [1.1035, 1.0036],\n",
       "        [1.1460, 1.0471],\n",
       "        [1.0892, 1.0511],\n",
       "        [1.1324, 0.9775],\n",
       "        [1.0775, 0.7689],\n",
       "        [1.0669, 0.9678],\n",
       "        [1.0318, 0.9303],\n",
       "        [1.0809, 0.7282],\n",
       "        [1.0483, 0.9758],\n",
       "        [1.0082, 0.9303],\n",
       "        [1.1335, 1.0890],\n",
       "        [1.1028, 0.9344],\n",
       "        [1.0525, 0.8622],\n",
       "        [1.0771, 0.8977],\n",
       "        [1.0595, 1.0071],\n",
       "        [1.0586, 1.0942],\n",
       "        [1.1030, 1.1183],\n",
       "        [1.0979, 0.8707],\n",
       "        [1.1451, 0.9944],\n",
       "        [1.1344, 0.9813],\n",
       "        [1.0799, 1.0168],\n",
       "        [1.0347, 1.1004],\n",
       "        [1.0854, 0.9963],\n",
       "        [1.0634, 1.0525],\n",
       "        [1.0775, 0.9985],\n",
       "        [1.0622, 0.9685],\n",
       "        [1.0615, 0.9638],\n",
       "        [1.0902, 0.8019],\n",
       "        [1.0580, 0.7962],\n",
       "        [1.0514, 1.0378],\n",
       "        [1.0718, 0.8853],\n",
       "        [1.0316, 1.0218],\n",
       "        [1.0660, 0.8782],\n",
       "        [1.0360, 0.7254],\n",
       "        [1.1014, 1.1342],\n",
       "        [1.0556, 0.9094],\n",
       "        [1.1054, 0.8104],\n",
       "        [1.0173, 0.8045],\n",
       "        [1.0080, 1.0201],\n",
       "        [1.0309, 1.0073],\n",
       "        [1.0569, 0.8358],\n",
       "        [1.0738, 1.0220],\n",
       "        [1.0837, 0.9608],\n",
       "        [1.0127, 0.8824],\n",
       "        [1.0950, 0.9682],\n",
       "        [1.1921, 0.9137],\n",
       "        [1.1020, 0.9501],\n",
       "        [1.0684, 0.9264],\n",
       "        [1.0378, 0.9944],\n",
       "        [1.1347, 0.9110],\n",
       "        [1.0660, 0.9674],\n",
       "        [1.0975, 0.7755],\n",
       "        [1.0723, 0.8420],\n",
       "        [1.1169, 0.8531],\n",
       "        [1.0377, 0.7962],\n",
       "        [1.0292, 1.0371],\n",
       "        [1.1535, 1.0135],\n",
       "        [1.1134, 1.0146],\n",
       "        [1.0255, 0.9837],\n",
       "        [1.1021, 0.9500],\n",
       "        [1.0907, 0.9107],\n",
       "        [1.1145, 1.1096],\n",
       "        [1.0437, 1.0067],\n",
       "        [0.9885, 0.6879]], device='cuda:0')"
      ]
     },
     "execution_count": 384,
     "metadata": {},
     "output_type": "execute_result"
    }
   ],
   "source": [
    "sfs_samps"
   ]
  },
  {
   "cell_type": "code",
   "execution_count": 385,
   "id": "3884ef87",
   "metadata": {},
   "outputs": [
    {
     "data": {
      "text/plain": [
       "tensor(130, device='cuda:0')"
      ]
     },
     "execution_count": 385,
     "metadata": {},
     "output_type": "execute_result"
    }
   ],
   "source": [
    "(~torch.isnan(sfs_samps).sum(dim=1).bool()).sum()"
   ]
  },
  {
   "cell_type": "code",
   "execution_count": 397,
   "id": "7c07a791",
   "metadata": {},
   "outputs": [
    {
     "data": {
      "image/png": "[encoded data removed]",
      "text/plain": [
       "<Figure size 432x288 with 1 Axes>"
      ]
     },
     "metadata": {
      "needs_background": "light"
     },
     "output_type": "display_data"
    }
   ],
   "source": [
    "sfs_samps = sfs_samps[~torch.isnan(sfs_samps).sum(dim=1).bool()]\n",
    "\n",
    "std_sfs, mean_sfs, logp_sfs, mse_sfs = predict(sfs_samps, X_test, y_test)\n",
    "\n",
    "std_sfs = torch.sqrt(std_sfs**2 + sigma_n**2)\n",
    "plot_fit(mean_sfs, std_sfs, title=\"SBP fit\", fn=None)\n",
    "plt.show()\n",
    "plot_fit(mean_sfs, std_sfs, title=\"SBP fit\", fn=\"plots/step_func/sbp_sfs_mc_fit.png\")"
   ]
  },
  {
   "cell_type": "code",
   "execution_count": 111,
   "id": "dc1d204c",
   "metadata": {},
   "outputs": [
    {
     "name": "stdout",
     "output_type": "stream",
     "text": [
      "(30, 2)\n"
     ]
    }
   ],
   "source": [
    "def pred_true_std(X_train, X_test, sigma_n, sigma2, dim):\n",
    "    # https://github.com/probml/pml-book/releases/latest/download/book1.pdf\n",
    "    # See Eq 11.124 in the above link page 430 on pdf viewer (page 400 on page number in pdf)\n",
    "\n",
    "    X_trainnp = X_train.cpu().detach().numpy()\n",
    "    n_, d = X_trainnp.shape\n",
    "\n",
    "    X_trainnp = np.concatenate((X_trainnp, np.ones((n_, 1))), axis=1)\n",
    "\n",
    "    X_testnp = X_test.cpu().detach().numpy()\n",
    "    n_, d = X_testnp.shape\n",
    "\n",
    "    X_testnp = np.concatenate((X_testnp, np.ones((n_, 1))), axis=1)\n",
    "\n",
    "\n",
    "    print(X_trainnp.shape)\n",
    "\n",
    "    Sigma_post = sigma_n**2 * np.linalg.inv(sigma_n**2 *  np.eye(dim) / sigma2 + np.dot(X_trainnp.T,X_trainnp))\n",
    "    \n",
    "    sigma_pred = []\n",
    "    for i in range(n_):\n",
    "        sigma_pred += [np.dot(X_testnp[i,:].dot(Sigma_post), X_testnp[i,:]) + sigma_n**2 ]\n",
    "\n",
    "    std_true = np.sqrt(sigma_pred)\n",
    "    return std_true\n",
    "\n",
    "std_true = pred_true_std(X_train, X_test, sigma_n,  sigma2, dim)"
   ]
  },
  {
   "cell_type": "code",
   "execution_count": 112,
   "id": "1a90e7fc",
   "metadata": {},
   "outputs": [
    {
     "data": {
      "text/plain": [
       "(30,)"
      ]
     },
     "execution_count": 112,
     "metadata": {},
     "output_type": "execute_result"
    }
   ],
   "source": [
    "std_true.shape"
   ]
  },
  {
   "cell_type": "code",
   "execution_count": 113,
   "id": "bbab02a7",
   "metadata": {},
   "outputs": [
    {
     "data": {
      "image/png": "[encoded data removed]",
      "text/plain": [
       "<Figure size 432x288 with 1 Axes>"
      ]
     },
     "metadata": {
      "needs_background": "light"
     },
     "output_type": "display_data"
    }
   ],
   "source": [
    "param_samples = sde.sample(100, dt=0.01, device=device)\n",
    "\n",
    "plot_fit(mean, torch.tensor(std_true), title=\"Exact fit\", fn=None)\n",
    "plt.show()\n",
    "# plot_fit(mean, std, title=\"SBP fit\", fn=\"plots/step_func/sbp_fit.png\")"
   ]
  },
  {
   "cell_type": "code",
   "execution_count": 20,
   "id": "b2075fe6",
   "metadata": {},
   "outputs": [
    {
     "data": {
      "text/plain": [
       "(tensor(-73.4771, device='cuda:0'), tensor(0.0039, device='cuda:0'))"
      ]
     },
     "execution_count": 20,
     "metadata": {},
     "output_type": "execute_result"
    }
   ],
   "source": [
    "logp, mse"
   ]
  },
  {
   "cell_type": "code",
   "execution_count": null,
   "id": "63bc1c4e",
   "metadata": {},
   "outputs": [
    {
     "name": "stderr",
     "output_type": "stream",
     "text": [
      "  0%|          | 0/300 [00:00<?, ?it/s]/home/fav25/.conda/envs/functorch/lib/python3.9/site-packages/torch/nn/functional.py:2282: UserWarning: There is a performance drop because we have not yet implemented the batching rule for aten::batch_norm. Please file us an issue on GitHub so that we can prioritize its implementation. (Triggered internally at  /tmp/pip-req-build-jk216yxu/functorch/csrc/BatchedFallback.cpp:106.)\n",
      "  return torch.batch_norm(\n",
      "100%|██████████| 300/300 [00:27<00:00, 10.76it/s]\n",
      "  0%|          | 0/300 [00:00<?, ?it/s]/home/fav25/.conda/envs/functorch/lib/python3.9/site-packages/torch/nn/functional.py:2282: UserWarning: There is a performance drop because we have not yet implemented the batching rule for aten::batch_norm. Please file us an issue on GitHub so that we can prioritize its implementation. (Triggered internally at  /tmp/pip-req-build-jk216yxu/functorch/csrc/BatchedFallback.cpp:106.)\n",
      "  return torch.batch_norm(\n",
      "100%|██████████| 300/300 [00:28<00:00, 10.63it/s]\n",
      "  0%|          | 0/300 [00:00<?, ?it/s]/home/fav25/.conda/envs/functorch/lib/python3.9/site-packages/torch/nn/functional.py:2282: UserWarning: There is a performance drop because we have not yet implemented the batching rule for aten::batch_norm. Please file us an issue on GitHub so that we can prioritize its implementation. (Triggered internally at  /tmp/pip-req-build-jk216yxu/functorch/csrc/BatchedFallback.cpp:106.)\n",
      "  return torch.batch_norm(\n",
      "100%|██████████| 300/300 [00:28<00:00, 10.52it/s]\n",
      "  0%|          | 0/300 [00:00<?, ?it/s]/home/fav25/.conda/envs/functorch/lib/python3.9/site-packages/torch/nn/functional.py:2282: UserWarning: There is a performance drop because we have not yet implemented the batching rule for aten::batch_norm. Please file us an issue on GitHub so that we can prioritize its implementation. (Triggered internally at  /tmp/pip-req-build-jk216yxu/functorch/csrc/BatchedFallback.cpp:106.)\n",
      "  return torch.batch_norm(\n",
      " 99%|█████████▉| 297/300 [00:27<00:00, 10.42it/s]"
     ]
    }
   ],
   "source": [
    "n_runs = 5\n",
    "\n",
    "sbp_mse = []\n",
    "sbp_logp = []\n",
    "\n",
    "for i in range(n_runs):\n",
    "    sde, losses = train(gamma, n_steps, data_batch_size, param_batch_size)\n",
    "    \n",
    "    with torch.no_grad():\n",
    "        param_samples = sde.sample(100, dt=0.01, device=device)\n",
    "    \n",
    "    \n",
    "    \n",
    "    std, mean, logp, mse = predict(param_samples, X_test, y_test)\n",
    "    \n",
    "    std = torch.sqrt(std**2 + sigma_n**2)\n",
    "    plot_fit(mean, std, title=\"SBP fit\", fn=None)\n",
    "    plt.show()\n",
    "    \n",
    "    plot_fit(mean, std, title=\"SBP fit #{}\".format(i+1), fn=\"plots/step_func/sbp_fit_#{:d}.png\".format(i+1))\n",
    "    \n",
    "    sbp_mse.append(mse.cpu().numpy())\n",
    "    sbp_logp.append(logp.cpu().numpy())\n",
    "    \n",
    "sbp_mse = np.array(sbp_mse)\n",
    "sbp_logp = np.array(sbp_logp)"
   ]
  },
  {
   "cell_type": "code",
   "execution_count": null,
   "id": "bfcc8edb",
   "metadata": {},
   "outputs": [],
   "source": [
    "@torch.enable_grad()\n",
    "def gradient(x, y, params):\n",
    "    params_ = params.clone().requires_grad_(True)\n",
    "    loss = log_posterior(x, y, params_)\n",
    "    grad, = torch.autograd.grad(loss, params_)\n",
    "    return loss.detach().cpu().numpy(), grad"
   ]
  },
  {
   "cell_type": "code",
   "execution_count": null,
   "id": "01c00409",
   "metadata": {},
   "outputs": [],
   "source": [
    "def step_size(n):\n",
    "    return 1e-4/ (1 + n)**0.1"
   ]
  },
  {
   "cell_type": "code",
   "execution_count": null,
   "id": "820f8fca",
   "metadata": {},
   "outputs": [],
   "source": [
    "def sgld(n_steps, last_n, data_batch_size):\n",
    "    losses = []\n",
    "    param_samples = []\n",
    "    \n",
    "    params = torch.zeros(dim).float().to(device)\n",
    "    \n",
    "    for step in tqdm(range(n_steps)):\n",
    "        perm = torch.randperm(N_train)\n",
    "        x = X_train[perm[:data_batch_size], :]\n",
    "        y = y_train[perm[:data_batch_size], :]\n",
    "\n",
    "        eps = step_size(step)\n",
    "        loss, grad = gradient(x, y, params)\n",
    "        params = params + 0.5 * eps * grad + np.sqrt(eps) * torch.randn_like(params)\n",
    "        \n",
    "        if n_steps <= step + last_n:\n",
    "            param_samples.append(params)\n",
    "        losses.append(loss)\n",
    "        \n",
    "    param_samples = torch.stack(param_samples)\n",
    "    \n",
    "    return param_samples, losses"
   ]
  },
  {
   "cell_type": "code",
   "execution_count": null,
   "id": "be91bace",
   "metadata": {},
   "outputs": [],
   "source": [
    "param_samples, losses = sgld(10000, 2000, data_batch_size)"
   ]
  },
  {
   "cell_type": "code",
   "execution_count": null,
   "id": "6c259017",
   "metadata": {},
   "outputs": [],
   "source": [
    "plt.plot(losses)"
   ]
  },
  {
   "cell_type": "code",
   "execution_count": null,
   "id": "30a45c79",
   "metadata": {},
   "outputs": [],
   "source": [
    "std, mean, logp, mse = predict(param_samples[:100], X_test, y_test)\n",
    "\n",
    "std = torch.sqrt(std**2 + sigma_n**2)\n"
   ]
  },
  {
   "cell_type": "code",
   "execution_count": 25,
   "id": "2a181a8f",
   "metadata": {},
   "outputs": [],
   "source": [
    "plot_fit(mean, std, title=\"SBP fit\", fn=None)\n",
    "plt.show()\n",
    "\n",
    "plot_fit(mean, std, title=\"SGLD fit\", fn=\"plots/step_func/sgld_fit.png\")"
   ]
  },
  {
   "cell_type": "code",
   "execution_count": 27,
   "id": "c23a18ca",
   "metadata": {},
   "outputs": [
    {
     "name": "stderr",
     "output_type": "stream",
     "text": [
      "100%|████████████████████████████████████████████████████████| 10000/10000 [00:07<00:00, 1280.44it/s]\n",
      "100%|████████████████████████████████████████████████████████| 10000/10000 [00:07<00:00, 1291.47it/s]\n",
      "100%|████████████████████████████████████████████████████████| 10000/10000 [00:07<00:00, 1285.05it/s]\n",
      "100%|████████████████████████████████████████████████████████| 10000/10000 [00:07<00:00, 1284.32it/s]\n",
      "100%|████████████████████████████████████████████████████████| 10000/10000 [00:07<00:00, 1284.46it/s]\n"
     ]
    }
   ],
   "source": [
    "n_runs = 5\n",
    "n_steps = 10000\n",
    "\n",
    "sgld_mse = []\n",
    "sgld_logp = []\n",
    "\n",
    "for i in range(n_runs):\n",
    "    param_samples, losses = sgld(n_steps, 1000, data_batch_size)\n",
    "    \n",
    "    std, mean, logp, mse = predict(param_samples[:100], X_test, y_test)\n",
    "    plot_fit(mean, std, title=\"SGLD fit #{} (100 samples)\".format(i+1), fn=\"plots/step_func/sgld_fit_#{:d}_100.png\".format(i+1))\n",
    "    \n",
    "    std, mean, _, _ = predict(param_samples[:500], X_test, y_test)\n",
    "    plot_fit(mean, std, title=\"SGLD fit #{} (500 samples)\".format(i+1), fn=\"plots/step_func/sgld_fit_#{:d}_500.png\".format(i+1))\n",
    "    \n",
    "    std, mean, _, _ = predict(param_samples, X_test, y_test)\n",
    "    plot_fit(mean, std, title=\"SGLD fit #{} (1000 samples)\".format(i+1), fn=\"plots/step_func/sgld_fit_#{:d}_1000.png\".format(i+1))\n",
    "    \n",
    "    sgld_mse.append(mse.cpu().numpy())\n",
    "    sgld_logp.append(logp.cpu().numpy())\n",
    "    \n",
    "sgld_mse = np.array(sgld_mse)\n",
    "sgld_logp = np.array(sgld_logp)"
   ]
  },
  {
   "cell_type": "code",
   "execution_count": 29,
   "id": "de76f9aa",
   "metadata": {},
   "outputs": [],
   "source": [
    "SBP_df = pd.DataFrame({\"mse\": sbp_mse, \"logp\": sbp_logp})\n",
    "SGLD_df = pd.DataFrame({\"mse\": sgld_mse, \"logp\": sgld_logp})"
   ]
  },
  {
   "cell_type": "code",
   "execution_count": 30,
   "id": "d7ebc3a0",
   "metadata": {},
   "outputs": [
    {
     "data": {
      "text/html": [
       "<div>\n",
       "<style scoped>\n",
       "    .dataframe tbody tr th:only-of-type {\n",
       "        vertical-align: middle;\n",
       "    }\n",
       "\n",
       "    .dataframe tbody tr th {\n",
       "        vertical-align: top;\n",
       "    }\n",
       "\n",
       "    .dataframe thead th {\n",
       "        text-align: right;\n",
       "    }\n",
       "</style>\n",
       "<table border=\"1\" class=\"dataframe\">\n",
       "  <thead>\n",
       "    <tr style=\"text-align: right;\">\n",
       "      <th></th>\n",
       "      <th>mse</th>\n",
       "      <th>logp</th>\n",
       "    </tr>\n",
       "  </thead>\n",
       "  <tbody>\n",
       "    <tr>\n",
       "      <th>0</th>\n",
       "      <td>0.001964</td>\n",
       "      <td>-57.789295</td>\n",
       "    </tr>\n",
       "    <tr>\n",
       "      <th>1</th>\n",
       "      <td>0.002125</td>\n",
       "      <td>-59.463318</td>\n",
       "    </tr>\n",
       "    <tr>\n",
       "      <th>2</th>\n",
       "      <td>0.002607</td>\n",
       "      <td>-56.198963</td>\n",
       "    </tr>\n",
       "    <tr>\n",
       "      <th>3</th>\n",
       "      <td>0.004290</td>\n",
       "      <td>-65.259750</td>\n",
       "    </tr>\n",
       "    <tr>\n",
       "      <th>4</th>\n",
       "      <td>0.003424</td>\n",
       "      <td>-76.526329</td>\n",
       "    </tr>\n",
       "  </tbody>\n",
       "</table>\n",
       "</div>"
      ],
      "text/plain": [
       "        mse       logp\n",
       "0  0.001964 -57.789295\n",
       "1  0.002125 -59.463318\n",
       "2  0.002607 -56.198963\n",
       "3  0.004290 -65.259750\n",
       "4  0.003424 -76.526329"
      ]
     },
     "execution_count": 30,
     "metadata": {},
     "output_type": "execute_result"
    }
   ],
   "source": [
    "SBP_df"
   ]
  },
  {
   "cell_type": "code",
   "execution_count": 31,
   "id": "f0954b55",
   "metadata": {},
   "outputs": [
    {
     "data": {
      "text/html": [
       "<div>\n",
       "<style scoped>\n",
       "    .dataframe tbody tr th:only-of-type {\n",
       "        vertical-align: middle;\n",
       "    }\n",
       "\n",
       "    .dataframe tbody tr th {\n",
       "        vertical-align: top;\n",
       "    }\n",
       "\n",
       "    .dataframe thead th {\n",
       "        text-align: right;\n",
       "    }\n",
       "</style>\n",
       "<table border=\"1\" class=\"dataframe\">\n",
       "  <thead>\n",
       "    <tr style=\"text-align: right;\">\n",
       "      <th></th>\n",
       "      <th>mse</th>\n",
       "      <th>logp</th>\n",
       "    </tr>\n",
       "  </thead>\n",
       "  <tbody>\n",
       "    <tr>\n",
       "      <th>count</th>\n",
       "      <td>5.000000</td>\n",
       "      <td>5.000000</td>\n",
       "    </tr>\n",
       "    <tr>\n",
       "      <th>mean</th>\n",
       "      <td>0.002882</td>\n",
       "      <td>-63.047527</td>\n",
       "    </tr>\n",
       "    <tr>\n",
       "      <th>std</th>\n",
       "      <td>0.000971</td>\n",
       "      <td>8.276026</td>\n",
       "    </tr>\n",
       "    <tr>\n",
       "      <th>min</th>\n",
       "      <td>0.001964</td>\n",
       "      <td>-76.526329</td>\n",
       "    </tr>\n",
       "    <tr>\n",
       "      <th>25%</th>\n",
       "      <td>0.002125</td>\n",
       "      <td>-65.259750</td>\n",
       "    </tr>\n",
       "    <tr>\n",
       "      <th>50%</th>\n",
       "      <td>0.002607</td>\n",
       "      <td>-59.463318</td>\n",
       "    </tr>\n",
       "    <tr>\n",
       "      <th>75%</th>\n",
       "      <td>0.003424</td>\n",
       "      <td>-57.789295</td>\n",
       "    </tr>\n",
       "    <tr>\n",
       "      <th>max</th>\n",
       "      <td>0.004290</td>\n",
       "      <td>-56.198963</td>\n",
       "    </tr>\n",
       "  </tbody>\n",
       "</table>\n",
       "</div>"
      ],
      "text/plain": [
       "            mse       logp\n",
       "count  5.000000   5.000000\n",
       "mean   0.002882 -63.047527\n",
       "std    0.000971   8.276026\n",
       "min    0.001964 -76.526329\n",
       "25%    0.002125 -65.259750\n",
       "50%    0.002607 -59.463318\n",
       "75%    0.003424 -57.789295\n",
       "max    0.004290 -56.198963"
      ]
     },
     "execution_count": 31,
     "metadata": {},
     "output_type": "execute_result"
    }
   ],
   "source": [
    "SBP_df.describe()"
   ]
  },
  {
   "cell_type": "code",
   "execution_count": 32,
   "id": "cb4ea8db",
   "metadata": {},
   "outputs": [
    {
     "data": {
      "text/html": [
       "<div>\n",
       "<style scoped>\n",
       "    .dataframe tbody tr th:only-of-type {\n",
       "        vertical-align: middle;\n",
       "    }\n",
       "\n",
       "    .dataframe tbody tr th {\n",
       "        vertical-align: top;\n",
       "    }\n",
       "\n",
       "    .dataframe thead th {\n",
       "        text-align: right;\n",
       "    }\n",
       "</style>\n",
       "<table border=\"1\" class=\"dataframe\">\n",
       "  <thead>\n",
       "    <tr style=\"text-align: right;\">\n",
       "      <th></th>\n",
       "      <th>mse</th>\n",
       "      <th>logp</th>\n",
       "    </tr>\n",
       "  </thead>\n",
       "  <tbody>\n",
       "    <tr>\n",
       "      <th>0</th>\n",
       "      <td>0.206835</td>\n",
       "      <td>-1820.782104</td>\n",
       "    </tr>\n",
       "    <tr>\n",
       "      <th>1</th>\n",
       "      <td>0.105824</td>\n",
       "      <td>-897.239014</td>\n",
       "    </tr>\n",
       "    <tr>\n",
       "      <th>2</th>\n",
       "      <td>0.379812</td>\n",
       "      <td>-2585.553467</td>\n",
       "    </tr>\n",
       "    <tr>\n",
       "      <th>3</th>\n",
       "      <td>0.155833</td>\n",
       "      <td>-1200.368042</td>\n",
       "    </tr>\n",
       "    <tr>\n",
       "      <th>4</th>\n",
       "      <td>0.039080</td>\n",
       "      <td>-443.960571</td>\n",
       "    </tr>\n",
       "  </tbody>\n",
       "</table>\n",
       "</div>"
      ],
      "text/plain": [
       "        mse         logp\n",
       "0  0.206835 -1820.782104\n",
       "1  0.105824  -897.239014\n",
       "2  0.379812 -2585.553467\n",
       "3  0.155833 -1200.368042\n",
       "4  0.039080  -443.960571"
      ]
     },
     "execution_count": 32,
     "metadata": {},
     "output_type": "execute_result"
    }
   ],
   "source": [
    "SGLD_df"
   ]
  },
  {
   "cell_type": "code",
   "execution_count": 33,
   "id": "7a897de6",
   "metadata": {},
   "outputs": [
    {
     "data": {
      "text/html": [
       "<div>\n",
       "<style scoped>\n",
       "    .dataframe tbody tr th:only-of-type {\n",
       "        vertical-align: middle;\n",
       "    }\n",
       "\n",
       "    .dataframe tbody tr th {\n",
       "        vertical-align: top;\n",
       "    }\n",
       "\n",
       "    .dataframe thead th {\n",
       "        text-align: right;\n",
       "    }\n",
       "</style>\n",
       "<table border=\"1\" class=\"dataframe\">\n",
       "  <thead>\n",
       "    <tr style=\"text-align: right;\">\n",
       "      <th></th>\n",
       "      <th>mse</th>\n",
       "      <th>logp</th>\n",
       "    </tr>\n",
       "  </thead>\n",
       "  <tbody>\n",
       "    <tr>\n",
       "      <th>count</th>\n",
       "      <td>5.000000</td>\n",
       "      <td>5.000000</td>\n",
       "    </tr>\n",
       "    <tr>\n",
       "      <th>mean</th>\n",
       "      <td>0.177477</td>\n",
       "      <td>-1389.580566</td>\n",
       "    </tr>\n",
       "    <tr>\n",
       "      <th>std</th>\n",
       "      <td>0.128994</td>\n",
       "      <td>834.967773</td>\n",
       "    </tr>\n",
       "    <tr>\n",
       "      <th>min</th>\n",
       "      <td>0.039080</td>\n",
       "      <td>-2585.553467</td>\n",
       "    </tr>\n",
       "    <tr>\n",
       "      <th>25%</th>\n",
       "      <td>0.105824</td>\n",
       "      <td>-1820.782104</td>\n",
       "    </tr>\n",
       "    <tr>\n",
       "      <th>50%</th>\n",
       "      <td>0.155833</td>\n",
       "      <td>-1200.368042</td>\n",
       "    </tr>\n",
       "    <tr>\n",
       "      <th>75%</th>\n",
       "      <td>0.206835</td>\n",
       "      <td>-897.239014</td>\n",
       "    </tr>\n",
       "    <tr>\n",
       "      <th>max</th>\n",
       "      <td>0.379812</td>\n",
       "      <td>-443.960571</td>\n",
       "    </tr>\n",
       "  </tbody>\n",
       "</table>\n",
       "</div>"
      ],
      "text/plain": [
       "            mse         logp\n",
       "count  5.000000     5.000000\n",
       "mean   0.177477 -1389.580566\n",
       "std    0.128994   834.967773\n",
       "min    0.039080 -2585.553467\n",
       "25%    0.105824 -1820.782104\n",
       "50%    0.155833 -1200.368042\n",
       "75%    0.206835  -897.239014\n",
       "max    0.379812  -443.960571"
      ]
     },
     "execution_count": 33,
     "metadata": {},
     "output_type": "execute_result"
    }
   ],
   "source": [
    "SGLD_df.describe()"
   ]
  }
 ],
 "metadata": {
  "kernelspec": {
   "display_name": "Python 3 (ipykernel)",
   "language": "python",
   "name": "python3"
  },
  "language_info": {
   "codemirror_mode": {
    "name": "ipython",
    "version": 3
   },
   "file_extension": ".py",
   "mimetype": "text/x-python",
   "name": "python",
   "nbconvert_exporter": "python",
   "pygments_lexer": "ipython3",
   "version": "3.9.7"
  }
 },
 "nbformat": 4,
 "nbformat_minor": 5
}
