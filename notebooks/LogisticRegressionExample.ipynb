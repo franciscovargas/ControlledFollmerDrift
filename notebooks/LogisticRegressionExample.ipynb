{
 "cells": [
  {
   "cell_type": "code",
   "execution_count": 190,
   "metadata": {},
   "outputs": [],
   "source": [
    "import torch\n",
    "import torch.nn.functional as F\n",
    "\n",
    "import torchsde\n",
    "\n",
    "import matplotlib.pyplot as plt\n",
    "\n",
    "import numpy as np\n",
    "\n",
    "from tqdm.notebook import tqdm\n",
    "\n",
    "from torch import _vmap_internals"
   ]
  },
  {
   "cell_type": "code",
   "execution_count": 18,
   "metadata": {},
   "outputs": [],
   "source": [
    "class Net(torch.nn.Module):\n",
    "\n",
    "    def __init__(self, input_dim=1):\n",
    "        super(Net, self).__init__()\n",
    "        # 1 input image channel, 6 output channels, 5x5 square convolution\n",
    "        # kernel\n",
    "        # an affine operation: y = Wx + b\n",
    "        self.input_dim = input_dim\n",
    "        self.fc1 = torch.nn.Linear(input_dim, 120)  # 5*5 from image dimension\n",
    "        self.fc2 = torch.nn.Linear(120, 84)\n",
    "        self.fc3 = torch.nn.Linear(84, input_dim)\n",
    "\n",
    "    def forward(self, x):\n",
    "        x = F.relu(self.fc1(x))\n",
    "        x = F.relu(self.fc2(x))\n",
    "        x = self.fc3(x)\n",
    "        return x\n",
    "\n",
    "\n",
    "net = Net()"
   ]
  },
  {
   "cell_type": "code",
   "execution_count": 79,
   "metadata": {},
   "outputs": [],
   "source": [
    "import torch\n",
    "\n",
    "batch_size, state_size, brownian_size = 32, 3, 2\n",
    "t_size = 20\n",
    "\n",
    "class SDE(torch.nn.Module):\n",
    "    noise_type = 'general'\n",
    "    sde_type = 'ito'\n",
    "\n",
    "    def __init__(self, state_size=1, brownian_size=1, batch_size=10, γ=1.0):\n",
    "        super().__init__()\n",
    "        \n",
    "        self.state_size = state_size\n",
    "        self.brownian_size = brownian_size\n",
    "        self.batch_size = batch_size\n",
    "\n",
    "        self.γ = torch.tensor(γ)\n",
    "        self.μ = Net(input_dim=state_size)\n",
    "        self.σ = lambda x: torch.sqrt(self.γ) * torch.eye(self.state_size, self.brownian_size).repeat(batch_size,1)\n",
    "\n",
    "    # Drift\n",
    "    def f(self, t, y):\n",
    "        return self.μ(y)  # shape (batch_size, state_size)\n",
    "\n",
    "    # Diffusion\n",
    "    def g(self, t, y):\n",
    "        σ = self.σ(y)\n",
    "#         print(σ.shape, y.shape, self.brownian_size)\n",
    "        return self.σ(y).view(self.batch_size, \n",
    "                              self.state_size, \n",
    "                              self.brownian_size)\n",
    "\n",
    "\n",
    "# sde = SDE(state_size, brownian_size, batch_size, 1)\n",
    "# y0 = torch.full((batch_size, state_size), 0.1)\n",
    "# ts = torch.linspace(0, 1, t_size)\n",
    "# Initial state y0, the SDE is solved over the interval [ts[0], ts[-1]].\n",
    "# ys will have shape (t_size, batch_size, state_size)\n",
    "# ys = torchsde.sdeint(sde, y0, ts)"
   ]
  },
  {
   "cell_type": "code",
   "execution_count": 197,
   "metadata": {},
   "outputs": [],
   "source": [
    "def log_g(Θ, ln_prior, ln_like, γ=1.0):\n",
    "    \"\"\"\n",
    "    g function in control objective\n",
    "    \n",
    "    g is the Radon-Nikodym derivtive between\n",
    "    the joint and N(0, γ I)\n",
    "    \"\"\"\n",
    "    normal_term = -0.5 * (Θ**2).sum(axis=1) / γ\n",
    "    return ln_prior(Θ) + ln_like(Θ) - normal_term\n",
    "\n",
    "def log_likelihood(Θ, X, y):\n",
    "    \"\"\"\n",
    "    Slow implementation of logistic log likleihood\n",
    "    as a function of the parameters\n",
    "    \"\"\"\n",
    "#     import pdb; pdb.set_trace()\n",
    "    logits = X.mm(Θ.T)\n",
    "    \n",
    "    pos_weights = torch.ones(logits.shape[0]*logits.shape[1])\n",
    "    loss = torch.nn.BCEWithLogitsLoss(pos_weight=pos_weights, reduction=\"sum\")\n",
    "    \n",
    "    # Should reimplement BCEWithLogitsLoss with logsumexp from scratch\n",
    "    # since this next line the .repeat is extremely inneficient\n",
    "    vector_loss = loss(logits.reshape(-1), y.reshape(-1,1).repeat(1, logits.shape[1]).reshape(-1))\n",
    "\n",
    "    return vector_loss / Θ.shape[0]\n",
    "\n",
    "def log_likelihood_vmap(Θ, X, y):\n",
    "    \"\"\"\n",
    "    Hoping this implementation is less buggy / faster\n",
    "    \n",
    "    still feels a bit slow.\n",
    "    \"\"\"\n",
    "#     import pdb; pdb.set_trace()\n",
    "    logits = X.mm(Θ.T)\n",
    "    \n",
    "    pos_weights = torch.ones(logits.shape[0])\n",
    "    loss = torch.nn.BCEWithLogitsLoss(pos_weight=pos_weights, reduction=\"sum\")\n",
    "    \n",
    "    loss_ = lambda x: loss(x, y)\n",
    "    \n",
    "    # Should reimplement BCEWithLogitsLoss with logsumexp from scratch\n",
    "    # since this next line the .repeat is extremely inneficient\n",
    "#     import pdb; pdb.set_trace()\n",
    "    batched_loss =  torch._vmap_internals.vmap(loss_)\n",
    "#     vector_loss = torch.vmap(loss_, logits).sum()\n",
    "#     import pdb; pdb.set_trace()\n",
    "    return batched_loss(logits.T).mean()\n",
    "\n",
    "def gaussian_prior(Θ, σ_w=0.9):\n",
    "    return -0.5 * (Θ**2).sum(axis=1) / σ_w\n",
    "\n",
    "def relative_entropy_control_cost(sde, Θ_0, X, y, ln_prior, ln_like, Δt=0.05, γ=1.0):\n",
    "    \"\"\"\n",
    "    Objective for the Hamilton-Bellman-Jacobi Follmer Sampler\n",
    "    \"\"\"\n",
    "    n = int(1.0 / Δt)\n",
    "    ts = torch.linspace(0, 1, n)\n",
    "    \n",
    "    ln_like_partial = lambda Θ: ln_like(Θ, X, y)\n",
    "    \n",
    "    Θs =  torchsde.sdeint(sde, Θ_0, ts)\n",
    "    μs = sde.f(ts, Θs)\n",
    "    ΘT = Θs[-1,:,:] \n",
    "    lng = log_g(ΘT, ln_prior, ln_like_partial, γ).mean()\n",
    "    girsanov_factor = (0.5 / γ) * ((μs**2).sum(axis=-1)).mean()\n",
    "    \n",
    "    return girsanov_factor - lng"
   ]
  },
  {
   "cell_type": "code",
   "execution_count": 186,
   "metadata": {},
   "outputs": [],
   "source": [
    "from sklearn.datasets import load_iris\n",
    "from sklearn.model_selection import train_test_split\n",
    "from sklearn.preprocessing import StandardScaler\n",
    "\n",
    "iris = load_iris()\n",
    "X = iris['data']\n",
    "y = iris['target']\n",
    "\n",
    "# Binary classification\n",
    "X = X[~(y==2)][:,[0,1]]\n",
    "y = y[~(y==2)]\n",
    "\n",
    "# dummy dims \n",
    "X = np.concatenate((torch.ones(X.shape[0],1), torch.tensor(X) ), axis=1)\n",
    "\n",
    "names = iris['target_names']\n",
    "feature_names = iris['feature_names']\n",
    "\n",
    "# Scale data to have mean 0 and variance 1 \n",
    "# which is importance for convergence of the neural network\n",
    "scaler = StandardScaler()\n",
    "X_scaled = scaler.fit_transform(X)\n",
    "\n",
    "# Split the data set into training and testing\n",
    "X_train, X_test, y_train, y_test = train_test_split(\n",
    "    X_scaled, y, test_size=0.2, random_state=2)\n",
    "\n",
    "\n",
    "X_train, X_test, y_train, y_test = torch.tensor(X_train), torch.tensor(X_test), torch.tensor(y_train), torch.tensor(y_test) "
   ]
  },
  {
   "cell_type": "code",
   "execution_count": 187,
   "metadata": {},
   "outputs": [
    {
     "data": {
      "image/png": "[encoded data removed]",
      "text/plain": [
       "<Figure size 1152x432 with 1 Axes>"
      ]
     },
     "metadata": {
      "needs_background": "light"
     },
     "output_type": "display_data"
    }
   ],
   "source": [
    "fig, ax1 = plt.subplots(1, 1, figsize=(16, 6))\n",
    "for target, target_name in enumerate(names[0:2]):\n",
    "    X_plot = X[y == target]\n",
    "    ax1.plot(X_plot[:, 1], X_plot[:, 2], \n",
    "             linestyle='none', \n",
    "             marker='o', \n",
    "             label=target_name)\n",
    "ax1.set_xlabel(feature_names[0])\n",
    "ax1.set_ylabel(feature_names[1])\n",
    "ax1.axis('equal')\n",
    "ax1.legend();\n"
   ]
  },
  {
   "cell_type": "code",
   "execution_count": 188,
   "metadata": {},
   "outputs": [],
   "source": [
    "t_size = 20\n",
    "dim = 3\n",
    "\n",
    "no_posterior_samples = 50\n",
    "\n",
    "sde = SDE(dim, dim, no_posterior_samples, 1.0)\n",
    "Θ_0 = torch.full((no_posterior_samples, dim), 0.1) * 0 # Θ_0 ~ δ_0\n",
    "# Initial state y0, the SDE is solved over the interval [ts[0], ts[-1]].\n",
    "# ys will have shape (t_size, batch_size, state_size)\n",
    "ys = torchsde.sdeint(sde, Θ_0, ts)"
   ]
  },
  {
   "cell_type": "code",
   "execution_count": 198,
   "metadata": {},
   "outputs": [
    {
     "data": {
      "text/plain": [
       "tensor(-73.7113, grad_fn=<SubBackward0>)"
      ]
     },
     "execution_count": 198,
     "metadata": {},
     "output_type": "execute_result"
    }
   ],
   "source": [
    "relative_entropy_control_cost(sde, Θ_0.float(), X_train.float(), y_train.float(), gaussian_prior, log_likelihood_vmap)"
   ]
  },
  {
   "cell_type": "code",
   "execution_count": 206,
   "metadata": {},
   "outputs": [
    {
     "name": "stderr",
     "output_type": "stream",
     "text": [
      "<ipython-input-79-8900b35f9791>:17: UserWarning: To copy construct from a tensor, it is recommended to use sourceTensor.clone().detach() or sourceTensor.clone().detach().requires_grad_(True), rather than torch.tensor(sourceTensor).\n",
      "  self.γ = torch.tensor(γ)\n"
     ]
    },
    {
     "data": {
      "application/vnd.jupyter.widget-view+json": {
       "model_id": "133964e426d3448db4cf9d02af689769",
       "version_major": 2,
       "version_minor": 0
      },
      "text/plain": [
       "  0%|          | 0/100 [00:00<?, ?it/s]"
      ]
     },
     "metadata": {},
     "output_type": "display_data"
    }
   ],
   "source": [
    "\n",
    "γ = torch.tensor(1.5)\n",
    "\n",
    "sde = SDE(dim, dim, no_posterior_samples  , γ=γ)\n",
    "optimizer = torch.optim.Adam(sde.μ.parameters(), lr=0.05)\n",
    "#     optimizer = torch.optim.LBFGS(gpr.parameters(), lr=0.01)\n",
    "losses = []\n",
    "num_steps = 100\n",
    "for i in tqdm(range(num_steps)):\n",
    "    optimizer.zero_grad()\n",
    "\n",
    "    if isinstance(optimizer, torch.optim.LBFGS):\n",
    "        def closure():\n",
    "            loss = relative_entropy_control_cost(\n",
    "                sde, Θ_0.float(),\n",
    "                X_train.float(), y_train.float(),\n",
    "                gaussian_prior, log_likelihood_vmap, γ=γ\n",
    "            )\n",
    "            optimizer.zero_grad()\n",
    "            loss.backward()\n",
    "            return loss\n",
    "\n",
    "        optimizer.step(closure)\n",
    "        losses.append(closure().item())\n",
    "    else:\n",
    "        loss = relative_entropy_control_cost(\n",
    "            sde, Θ_0.float(),\n",
    "            X_train.float(), y_train.float(),\n",
    "            gaussian_prior, log_likelihood_vmap, γ=γ\n",
    "        )\n",
    "        optimizer.zero_grad()\n",
    "        loss.backward()\n",
    "\n",
    "        optimizer.step()\n",
    "        losses.append(loss.item())"
   ]
  },
  {
   "cell_type": "code",
   "execution_count": 213,
   "metadata": {
    "scrolled": true
   },
   "outputs": [
    {
     "data": {
      "text/plain": [
       "[-78.4579086303711,\n",
       " -1010.0660400390625,\n",
       " 1544681600.0,\n",
       " -1257.243408203125,\n",
       " -247.76522827148438,\n",
       " -102.4901351928711,\n",
       " -83.635009765625,\n",
       " -75.11180877685547,\n",
       " -86.26625061035156,\n",
       " -81.54782104492188,\n",
       " -74.61936950683594,\n",
       " -69.32441711425781,\n",
       " -65.36044311523438,\n",
       " -72.97191619873047,\n",
       " -80.21087646484375,\n",
       " -82.38235473632812,\n",
       " -81.54485321044922,\n",
       " -94.95071411132812,\n",
       " -125.76497650146484,\n",
       " -142.111328125,\n",
       " -171.2239532470703,\n",
       " -225.9612579345703,\n",
       " -324.65313720703125,\n",
       " -461.14117431640625,\n",
       " -780.964599609375,\n",
       " -121.37353515625,\n",
       " -1040.7081298828125,\n",
       " -930.4078979492188,\n",
       " -768.0677490234375,\n",
       " -855.3470458984375,\n",
       " -867.728759765625,\n",
       " -936.6707153320312,\n",
       " -1119.8001708984375,\n",
       " -1226.01416015625,\n",
       " -1383.780029296875,\n",
       " -1511.47314453125,\n",
       " -1520.33642578125,\n",
       " -1544.0738525390625,\n",
       " -1661.17041015625,\n",
       " -1771.263427734375,\n",
       " -1764.034912109375,\n",
       " -1847.78564453125,\n",
       " -1943.082763671875,\n",
       " -2000.937255859375,\n",
       " -2054.74072265625,\n",
       " -2163.474853515625,\n",
       " -2171.576171875,\n",
       " -2238.71435546875,\n",
       " -2319.60400390625,\n",
       " -2355.86279296875,\n",
       " -2430.716796875,\n",
       " -2505.05712890625,\n",
       " -2454.8427734375,\n",
       " -2545.66357421875,\n",
       " -2585.9345703125,\n",
       " -2600.834228515625,\n",
       " -2599.9765625,\n",
       " -2591.149658203125,\n",
       " -2607.224365234375,\n",
       " -2574.50634765625,\n",
       " -2563.864501953125,\n",
       " -2551.734375,\n",
       " -2645.019775390625,\n",
       " -2497.1435546875,\n",
       " -2650.7021484375,\n",
       " -2572.26611328125,\n",
       " -2623.784912109375,\n",
       " -2696.845703125,\n",
       " -2643.22265625,\n",
       " -2629.5419921875,\n",
       " -2699.298583984375,\n",
       " -2627.394287109375,\n",
       " -2662.63916015625,\n",
       " -2685.2158203125,\n",
       " -2667.1064453125,\n",
       " -2699.100830078125,\n",
       " -2745.118408203125,\n",
       " -2723.7099609375,\n",
       " -2717.048828125,\n",
       " -2722.56787109375,\n",
       " -2735.43017578125,\n",
       " -2765.39404296875,\n",
       " -2760.625,\n",
       " -2762.05615234375,\n",
       " -2781.1259765625,\n",
       " -2789.80078125,\n",
       " -2761.181884765625,\n",
       " -2799.73681640625,\n",
       " -2760.54736328125,\n",
       " -2776.771484375,\n",
       " -2774.497314453125,\n",
       " -2788.9677734375,\n",
       " -2788.742919921875,\n",
       " -2770.273681640625,\n",
       " -2823.17236328125,\n",
       " -2783.3251953125,\n",
       " -2797.0283203125,\n",
       " -2785.29248046875,\n",
       " -2793.093505859375,\n",
       " -2781.2333984375]"
      ]
     },
     "execution_count": 213,
     "metadata": {},
     "output_type": "execute_result"
    }
   ],
   "source": [
    "losses"
   ]
  },
  {
   "cell_type": "code",
   "execution_count": 214,
   "metadata": {},
   "outputs": [
    {
     "data": {
      "text/plain": [
       "[<matplotlib.lines.Line2D at 0x147c33e4190>]"
      ]
     },
     "execution_count": 214,
     "metadata": {},
     "output_type": "execute_result"
    },
    {
     "data": {
      "image/png": "[encoded data removed]",
      "text/plain": [
       "<Figure size 432x288 with 1 Axes>"
      ]
     },
     "metadata": {
      "needs_background": "light"
     },
     "output_type": "display_data"
    }
   ],
   "source": [
    "plt.plot(losses[20:])"
   ]
  },
  {
   "cell_type": "code",
   "execution_count": 215,
   "metadata": {},
   "outputs": [
    {
     "data": {
      "text/plain": [
       "torch.Size([20, 50, 3])"
      ]
     },
     "execution_count": 215,
     "metadata": {},
     "output_type": "execute_result"
    }
   ],
   "source": [
    " torchsde.sdeint(sde, Θ_0, ts).shape"
   ]
  },
  {
   "cell_type": "code",
   "execution_count": 216,
   "metadata": {},
   "outputs": [
    {
     "data": {
      "text/plain": [
       "torch.Size([80, 3])"
      ]
     },
     "execution_count": 216,
     "metadata": {},
     "output_type": "execute_result"
    }
   ],
   "source": [
    "X_train.shape"
   ]
  },
  {
   "cell_type": "code",
   "execution_count": 217,
   "metadata": {},
   "outputs": [],
   "source": [
    "Θ_1 = torchsde.sdeint(sde, Θ_0, ts)[-1,...]"
   ]
  },
  {
   "cell_type": "code",
   "execution_count": 221,
   "metadata": {},
   "outputs": [
    {
     "data": {
      "text/plain": [
       "(array([5., 4., 3., 9., 5., 9., 8., 3., 1., 3.]),\n",
       " array([41.310814, 42.93661 , 44.562405, 46.1882  , 47.814   , 49.439796,\n",
       "        51.06559 , 52.691387, 54.317184, 55.942978, 57.568775],\n",
       "       dtype=float32),\n",
       " <a list of 10 Patch objects>)"
      ]
     },
     "execution_count": 221,
     "metadata": {},
     "output_type": "execute_result"
    },
    {
     "data": {
      "image/png": "[encoded data removed]",
      "text/plain": [
       "<Figure size 432x288 with 3 Axes>"
      ]
     },
     "metadata": {
      "needs_background": "light"
     },
     "output_type": "display_data"
    }
   ],
   "source": [
    "fig, (ax1,ax2,ax3) = plt.subplots(1,3)\n",
    "\n",
    "ax1.hist(Θ_1[:,0].detach().numpy())\n",
    "ax2.hist(Θ_1[:,1].detach().numpy())\n",
    "ax3.hist(Θ_1[:,2].detach().numpy())"
   ]
  },
  {
   "cell_type": "code",
   "execution_count": 222,
   "metadata": {},
   "outputs": [],
   "source": [
    "pred = torch.sigmoid(X_train.float().mm(Θ_1.T)).mean(axis=1)"
   ]
  },
  {
   "cell_type": "code",
   "execution_count": 223,
   "metadata": {},
   "outputs": [
    {
     "data": {
      "text/plain": [
       "tensor(0.9875)"
      ]
     },
     "execution_count": 223,
     "metadata": {},
     "output_type": "execute_result"
    }
   ],
   "source": [
    "((pred < 0.5).float() == y_train).float().mean()"
   ]
  },
  {
   "cell_type": "code",
   "execution_count": 224,
   "metadata": {},
   "outputs": [],
   "source": [
    "pred_test = torch.sigmoid(X_test.float().mm(Θ_1.T)).mean(axis=1)"
   ]
  },
  {
   "cell_type": "code",
   "execution_count": 225,
   "metadata": {},
   "outputs": [
    {
     "data": {
      "text/plain": [
       "tensor(1.)"
      ]
     },
     "execution_count": 225,
     "metadata": {},
     "output_type": "execute_result"
    }
   ],
   "source": [
    "((pred_test < 0.5).float() == y_test).float().mean()"
   ]
  },
  {
   "cell_type": "code",
   "execution_count": 270,
   "metadata": {},
   "outputs": [
    {
     "data": {
      "text/plain": [
       "tensor([ -4.3614, -47.9701,  48.7655], dtype=torch.float32,\n",
       "       grad_fn=<MeanBackward1>)"
      ]
     },
     "execution_count": 270,
     "metadata": {},
     "output_type": "execute_result"
    }
   ],
   "source": [
    "Θ_1.mean(axis=0)"
   ]
  },
  {
   "cell_type": "code",
   "execution_count": 226,
   "metadata": {},
   "outputs": [
    {
     "data": {
      "text/plain": [
       "(tensor([1, 0, 1, 0, 0, 0, 0, 0, 0, 0, 1, 1, 1, 0, 0, 0, 0, 0, 1, 1],\n",
       "        dtype=torch.int32),\n",
       " tensor([1, 0, 1, 0, 0, 0, 0, 0, 0, 0, 1, 1, 1, 0, 0, 0, 0, 0, 1, 1]))"
      ]
     },
     "execution_count": 226,
     "metadata": {},
     "output_type": "execute_result"
    }
   ],
   "source": [
    "y_test, (pred_test < 0.5).long()"
   ]
  },
  {
   "cell_type": "markdown",
   "metadata": {},
   "source": [
    "## MAP Baseline\n",
    "\n",
    "We run the point estimate approximation (Maximum a posteriori) to double check what the learned weights look like.  We get the  exact same training accuracy as with the controlled model but the weights are wildly different. "
   ]
  },
  {
   "cell_type": "code",
   "execution_count": 254,
   "metadata": {},
   "outputs": [
    {
     "data": {
      "application/vnd.jupyter.widget-view+json": {
       "model_id": "e943548c14b84d15af12d4524e03de24",
       "version_major": 2,
       "version_minor": 0
      },
      "text/plain": [
       "  0%|          | 0/100 [00:00<?, ?it/s]"
      ]
     },
     "metadata": {},
     "output_type": "display_data"
    },
    {
     "data": {
      "text/plain": [
       "(tensor(0.9875), tensor([[ 0.0000, -5.3496,  5.3806]], requires_grad=True))"
      ]
     },
     "execution_count": 254,
     "metadata": {},
     "output_type": "execute_result"
    }
   ],
   "source": [
    "Θ_map = torch.full((1, dim), 0.0, requires_grad=True)  \n",
    "optimizer_map = torch.optim.Adam([Θ_map], lr=0.05)\n",
    "#     optimizer = torch.optim.LBFGS(gpr.parameters(), lr=0.01)\n",
    "\n",
    "losses_map = []\n",
    "num_steps = 100\n",
    "for i in tqdm(range(num_steps)):\n",
    "    optimizer.zero_grad()\n",
    "\n",
    "    if isinstance(optimizer_map, torch.optim.LBFGS):\n",
    "        def closure_map():\n",
    "            loss_map = log_likelihood_vmap()\n",
    "            optimizer_map.zero_grad()\n",
    "            loss_map.backward()\n",
    "            return loss\n",
    "\n",
    "        optimizer_map.step(closure_map)\n",
    "        losses_map.append(closure_map().item())\n",
    "    else:\n",
    "        loss_map = -(log_likelihood_vmap(Θ_map, (X_train).float(), (y_train).float()) + gaussian_prior(Θ_map))\n",
    "        optimizer_map.zero_grad()\n",
    "        loss_map.backward()\n",
    "\n",
    "        optimizer_map.step()\n",
    "        losses_map.append(loss.item())\n",
    "\n",
    "Θ_map\n",
    "pred_map = torch.sigmoid(X_train.float().mm(Θ_map.T)).mean(axis=1)\n",
    "((pred_map < 0.5).float() == y_train).float().mean(), Θ_map"
   ]
  },
  {
   "cell_type": "code",
   "execution_count": 253,
   "metadata": {},
   "outputs": [
    {
     "data": {
      "text/plain": [
       "tensor([[ 0.0000, -5.3496,  5.3806]], requires_grad=True)"
      ]
     },
     "execution_count": 253,
     "metadata": {},
     "output_type": "execute_result"
    }
   ],
   "source": [
    "Θ_map"
   ]
  },
  {
   "cell_type": "markdown",
   "metadata": {},
   "source": [
    "## Pyro Bayesian Logistic Regeression\n",
    "\n",
    "As a baseline we run pyro with SVI on this same example atm we get very different results which is a bit worrying"
   ]
  },
  {
   "cell_type": "code",
   "execution_count": 256,
   "metadata": {},
   "outputs": [],
   "source": [
    "import numpy as np\n",
    "import scipy.special as ssp\n",
    "import matplotlib.pyplot as plt\n",
    "\n",
    "import torch\n",
    "import torch.nn as nn\n",
    "import torch.distributions.constraints as constraints\n",
    "\n",
    "from torch.utils.data import DataLoader\n",
    "from torch.utils.data.sampler import SubsetRandomSampler\n",
    "\n",
    "import pyro\n",
    "import pyro.distributions as dist\n",
    "\n",
    "from pyro.infer import SVI, Trace_ELBO\n",
    "from pyro.optim import Adam, SGD\n",
    "\n",
    "pyro.enable_validation(True)\n",
    "torch.set_default_dtype(torch.double) # this was necessary on the CPU"
   ]
  },
  {
   "cell_type": "code",
   "execution_count": 257,
   "metadata": {},
   "outputs": [],
   "source": [
    "\n",
    "# these were adapted from the Pyro VAE tutorial\n",
    "\n",
    "def train(svi, train_loader, n_train):\n",
    "    # initialize loss accumulator\n",
    "    epoch_loss = 0.\n",
    "    # do a training epoch over each mini-batch x returned\n",
    "    # by the data loader\n",
    "    for _, xs in enumerate(train_loader):\n",
    "        # do ELBO gradient and accumulate loss\n",
    "        epoch_loss += svi.step(*xs)\n",
    "\n",
    "    # return epoch loss\n",
    "    total_epoch_loss_train = epoch_loss / n_train\n",
    "    return total_epoch_loss_train\n",
    "\n",
    "\n",
    "def evaluate(svi, test_loader, n_test):\n",
    "    # initialize loss accumulator\n",
    "    test_loss = 0.\n",
    "    # compute the loss over the entire test set\n",
    "    for _, xs in enumerate(test_loader):\n",
    "        # compute ELBO estimate and accumulate loss\n",
    "        test_loss += svi.evaluate_loss(*xs)\n",
    "\n",
    "    total_epoch_loss_test = test_loss / n_test\n",
    "    return total_epoch_loss_test\n",
    "\n",
    "\n",
    "def plot_llk(train_elbo, test_elbo, test_int):\n",
    "    plt.figure(figsize=(8, 6))\n",
    "\n",
    "    x = np.arange(len(train_elbo))\n",
    "\n",
    "    plt.plot(x, train_elbo, marker='o', label='Train ELBO')\n",
    "    plt.plot(x[::test_int], test_elbo, marker='o', label='Test ELBO')\n",
    "    plt.xlabel('Training Epoch')\n",
    "    plt.legend()\n",
    "    plt.show()"
   ]
  },
  {
   "cell_type": "code",
   "execution_count": 258,
   "metadata": {},
   "outputs": [],
   "source": [
    "class LogRegressionModel(nn.Module):\n",
    "    def __init__(self, p):\n",
    "        super(LogRegressionModel, self).__init__()\n",
    "        \n",
    "        self.p = p\n",
    "\n",
    "        # hyperparameters for normal priors\n",
    "        self.alpha_h_loc = torch.zeros(1, p)\n",
    "        self.alpha_h_scale = 10.0 * torch.ones(1, p)\n",
    "        self.beta_h_loc = torch.zeros(1)\n",
    "        self.beta_h_scale = 10.0 * torch.ones(1)\n",
    "        \n",
    "        # initial values of variational parameters\n",
    "        self.alpha_0 = np.zeros((1, p))\n",
    "        self.alpha_0_scale = np.ones((1, p))\n",
    "        self.beta_0 = np.zeros((1,))\n",
    "        self.beta_0_scale = np.ones((1,))\n",
    "\n",
    "    def model(self, x, y):\n",
    "        # sample from prior\n",
    "        a = pyro.sample(\n",
    "            \"weight\", dist.Normal(self.alpha_h_loc, self.alpha_h_scale, validate_args=True).independent(1)\n",
    "        ).float()\n",
    "        b = pyro.sample(\n",
    "            \"bias\", dist.Normal(self.beta_h_loc, self.beta_h_scale, validate_args=True).independent(1)\n",
    "        ).float()\n",
    "\n",
    "        with pyro.iarange(\"data\", x.size(0)):\n",
    "#             import pdb; pdb.set_trace()\n",
    "            model_logits = (torch.matmul(x, a.permute(1, 0)) + b).squeeze()\n",
    "            \n",
    "            pyro.sample(\n",
    "                \"obs\", \n",
    "                dist.Bernoulli(logits=model_logits, validate_args=True),\n",
    "                obs=y.squeeze()\n",
    "            )\n",
    "            \n",
    "    def guide(self, x, y):\n",
    "        # register variational parameters with pyro\n",
    "        alpha_loc = pyro.param(\"alpha_loc\", torch.tensor(self.alpha_0))\n",
    "        alpha_scale = pyro.param(\"alpha_scale\", torch.tensor(self.alpha_0_scale),\n",
    "                                 constraint=constraints.positive)\n",
    "        beta_loc = pyro.param(\"beta_loc\", torch.tensor(self.beta_0))\n",
    "        beta_scale = pyro.param(\"beta_scale\", torch.tensor(self.beta_0_scale),\n",
    "                                constraint=constraints.positive)\n",
    "\n",
    "        pyro.sample(\n",
    "            \"weight\", dist.Normal(alpha_loc, alpha_scale, validate_args=True).independent(1)\n",
    "        )\n",
    "        pyro.sample(\n",
    "            \"bias\", dist.Normal(beta_loc, beta_scale, validate_args=True).independent(1)\n",
    "        )\n",
    "    \n",
    "    \n",
    "    def guide_(self, x, y, N=100):\n",
    "        # register variational parameters with pyro\n",
    "        alpha_loc = pyro.param(\"alpha_loc\", torch.tensor(self.alpha_0))\n",
    "        alpha_scale = pyro.param(\"alpha_scale\", torch.tensor(self.alpha_0_scale),\n",
    "                                 constraint=constraints.positive)\n",
    "        beta_loc = pyro.param(\"beta_loc\", torch.tensor(self.beta_0))\n",
    "        beta_scale = pyro.param(\"beta_scale\", torch.tensor(self.beta_0_scale),\n",
    "                                constraint=constraints.positive)\n",
    "        w = []\n",
    "        b = []\n",
    "        for _ in range(N):\n",
    "            w.append(torch.tensor(pyro.sample(\n",
    "                \"weight\", dist.Normal(alpha_loc, alpha_scale, validate_args=True).independent(1)\n",
    "            )))\n",
    "            b.append(torch.tensor(pyro.sample(\n",
    "                \"bias\", dist.Normal(beta_loc, beta_scale, validate_args=True).independent(1)\n",
    "            )))\n",
    "#         import pdb;pdb.set_trace()\n",
    "        return torch.vstack(w), torch.vstack(b)"
   ]
  },
  {
   "cell_type": "code",
   "execution_count": 259,
   "metadata": {},
   "outputs": [],
   "source": [
    "\n",
    "pyro.clear_param_store()\n",
    "\n",
    "optim = Adam({'lr': 0.01})\n",
    "\n",
    "num_epochs = 1000\n",
    "batch_size = 50\n",
    "\n",
    "N = X.shape[0]\n",
    "p = 2\n",
    "\n",
    "n_train = X_train.shape[0]\n",
    "example_indices = np.random.permutation(N)\n",
    "n_test = N - n_train\n",
    "test_iter = 50"
   ]
  },
  {
   "cell_type": "code",
   "execution_count": 260,
   "metadata": {},
   "outputs": [
    {
     "name": "stdout",
     "output_type": "stream",
     "text": [
      "[epoch 000]  average training loss: 3.0408\n",
      "[epoch 050]  average training loss: 1.0150\n",
      "[epoch 100]  average training loss: 1.3000\n",
      "[epoch 150]  average training loss: 1.0600\n",
      "[epoch 200]  average training loss: 0.8445\n",
      "[epoch 250]  average training loss: 0.7311\n",
      "[epoch 300]  average training loss: 0.7633\n",
      "[epoch 350]  average training loss: 0.7180\n",
      "[epoch 400]  average training loss: 0.7985\n",
      "[epoch 450]  average training loss: 0.8345\n",
      "[epoch 500]  average training loss: 0.6991\n",
      "[epoch 550]  average training loss: 0.6503\n",
      "[epoch 600]  average training loss: 0.6381\n",
      "[epoch 650]  average training loss: 0.7552\n",
      "[epoch 700]  average training loss: 0.5969\n",
      "[epoch 750]  average training loss: 0.5999\n",
      "[epoch 800]  average training loss: 0.6056\n",
      "[epoch 850]  average training loss: 0.5599\n",
      "[epoch 900]  average training loss: 0.5404\n",
      "[epoch 950]  average training loss: 0.5933\n"
     ]
    }
   ],
   "source": [
    "lr_model = LogRegressionModel(p=p)\n",
    "\n",
    "svi = SVI(\n",
    "    lr_model.model, lr_model.guide, optim,\n",
    "    loss=Trace_ELBO()\n",
    ")\n",
    "\n",
    "\n",
    "lr_dataset = torch.utils.data.TensorDataset(torch.tensor(X[:,1:]).float(), torch.tensor(y.reshape(-1,1)).float())\n",
    "\n",
    "data_loader_train = DataLoader(\n",
    "    dataset=lr_dataset, batch_size=batch_size, pin_memory=False,\n",
    "    sampler=SubsetRandomSampler(example_indices[:n_train]),\n",
    ")\n",
    "    \n",
    "data_loader_test = DataLoader(\n",
    "    dataset=lr_dataset, batch_size=batch_size, pin_memory=False,\n",
    "    sampler=SubsetRandomSampler(example_indices[n_train:]),\n",
    ")\n",
    "\n",
    "train_elbo = []\n",
    "test_elbo = []\n",
    "for epoch in range(num_epochs):\n",
    "    total_epoch_loss_train = train(svi, data_loader_train, n_train)\n",
    "    train_elbo.append(-total_epoch_loss_train)\n",
    "\n",
    "    if epoch % test_iter == 0:\n",
    "        print(\"[epoch %03d]  average training loss: %.4f\" % (epoch, total_epoch_loss_train))\n",
    "        # report test diagnostics\n",
    "        total_epoch_loss_test = evaluate(svi, data_loader_test, n_test)\n",
    "        test_elbo.append(-total_epoch_loss_test)"
   ]
  },
  {
   "cell_type": "code",
   "execution_count": 261,
   "metadata": {},
   "outputs": [
    {
     "data": {
      "image/png": "[encoded data removed]",
      "text/plain": [
       "<Figure size 576x432 with 1 Axes>"
      ]
     },
     "metadata": {
      "needs_background": "light"
     },
     "output_type": "display_data"
    }
   ],
   "source": [
    "plot_llk(train_elbo, test_elbo, test_iter)"
   ]
  },
  {
   "cell_type": "code",
   "execution_count": 262,
   "metadata": {},
   "outputs": [
    {
     "name": "stderr",
     "output_type": "stream",
     "text": [
      "<ipython-input-258-bef7a2779544>:66: UserWarning: To copy construct from a tensor, it is recommended to use sourceTensor.clone().detach() or sourceTensor.clone().detach().requires_grad_(True), rather than torch.tensor(sourceTensor).\n",
      "  w.append(torch.tensor(pyro.sample(\n",
      "<ipython-input-258-bef7a2779544>:69: UserWarning: To copy construct from a tensor, it is recommended to use sourceTensor.clone().detach() or sourceTensor.clone().detach().requires_grad_(True), rather than torch.tensor(sourceTensor).\n",
      "  b.append(torch.tensor(pyro.sample(\n"
     ]
    }
   ],
   "source": [
    "W, b = lr_model.guide_(X_train.float(), y_train.float())"
   ]
  },
  {
   "cell_type": "code",
   "execution_count": 263,
   "metadata": {},
   "outputs": [
    {
     "data": {
      "text/plain": [
       "(array([ 1.,  2.,  9., 13., 21., 20., 21.,  7.,  3.,  3.]),\n",
       " array([-2.84575254, -2.78803107, -2.73030959, -2.67258812, -2.61486664,\n",
       "        -2.55714517, -2.49942369, -2.44170222, -2.38398074, -2.32625927,\n",
       "        -2.2685378 ]),\n",
       " <a list of 10 Patch objects>)"
      ]
     },
     "execution_count": 263,
     "metadata": {},
     "output_type": "execute_result"
    },
    {
     "data": {
      "image/png": "[encoded data removed]",
      "text/plain": [
       "<Figure size 432x288 with 3 Axes>"
      ]
     },
     "metadata": {
      "needs_background": "light"
     },
     "output_type": "display_data"
    }
   ],
   "source": [
    "fig, (ax1,ax2,ax3) = plt.subplots(1,3)\n",
    "\n",
    "# ax1.hist(Θ_1[:,0].detach().numpy())\n",
    "# ax2.hist(Θ_1[:,1].detach().numpy())\n",
    "# ax3.hist(Θ_1[:,2].detach().numpy())\n",
    "\n",
    "\n",
    "ax1.hist(b.detach().numpy(), color=\"red\")\n",
    "ax2.hist(W[:,0].detach().numpy(), color=\"red\")\n",
    "ax3.hist(W[:,1].detach().numpy(), color=\"red\")\n"
   ]
  },
  {
   "cell_type": "code",
   "execution_count": 267,
   "metadata": {},
   "outputs": [
    {
     "data": {
      "text/plain": [
       "(tensor(-0.2841), tensor([ 1.4910, -2.5443]))"
      ]
     },
     "execution_count": 267,
     "metadata": {},
     "output_type": "execute_result"
    }
   ],
   "source": [
    "b.mean(), W.mean(axis=0)"
   ]
  },
  {
   "cell_type": "code",
   "execution_count": null,
   "metadata": {},
   "outputs": [],
   "source": []
  }
 ],
 "metadata": {
  "kernelspec": {
   "display_name": "Python 3",
   "language": "python",
   "name": "python3"
  },
  "language_info": {
   "codemirror_mode": {
    "name": "ipython",
    "version": 3
   },
   "file_extension": ".py",
   "mimetype": "text/x-python",
   "name": "python",
   "nbconvert_exporter": "python",
   "pygments_lexer": "ipython3",
   "version": "3.8.5"
  }
 },
 "nbformat": 4,
 "nbformat_minor": 4
}
