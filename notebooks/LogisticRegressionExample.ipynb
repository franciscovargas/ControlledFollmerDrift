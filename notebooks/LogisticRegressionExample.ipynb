{
 "cells": [
  {
   "cell_type": "code",
   "execution_count": 39,
   "metadata": {},
   "outputs": [],
   "source": [
    "import torch\n",
    "import torch.nn.functional as F\n",
    "\n",
    "import torchsde\n",
    "import math\n",
    "import matplotlib.pyplot as plt\n",
    "\n",
    "import numpy as np\n",
    "\n",
    "from tqdm.notebook import tqdm\n",
    "\n",
    "from torch import _vmap_internals"
   ]
  },
  {
   "cell_type": "code",
   "execution_count": 2,
   "metadata": {},
   "outputs": [],
   "source": [
    "from sklearn.datasets import load_iris\n",
    "from sklearn.model_selection import train_test_split\n",
    "from sklearn.preprocessing import StandardScaler\n",
    "\n",
    "device = \"cuda\" if torch.cuda.is_available() else \"cpu\"\n",
    "\n",
    "iris = load_iris()\n",
    "X = iris['data']\n",
    "y = iris['target']\n",
    "\n",
    "# Binary classification\n",
    "X = X[~(y==2)][:,[0,1]]\n",
    "y = y[~(y==2)]\n",
    "\n",
    "# dummy dims \n",
    "X = np.concatenate((torch.ones(X.shape[0],1), torch.tensor(X) ), axis=1)\n",
    "\n",
    "names = iris['target_names']\n",
    "feature_names = iris['feature_names']\n",
    "\n",
    "# Scale data to have mean 0 and variance 1 \n",
    "# which is importance for convergence of the neural network\n",
    "scaler = StandardScaler()\n",
    "X_scaled = scaler.fit_transform(X)\n",
    "\n",
    "# Split the data set into training and testing\n",
    "X_train, X_test, y_train, y_test = train_test_split(\n",
    "    X_scaled, y, test_size=0.2, random_state=2)\n",
    "\n",
    "\n",
    "X_train, X_test, y_train, y_test = \\\n",
    "    torch.tensor(X_train, dtype=torch.float32, device=device), \\\n",
    "    torch.tensor(X_test, dtype=torch.float32, device=device), \\\n",
    "    torch.tensor(y_train, dtype=torch.float32, device=device), \\\n",
    "    torch.tensor(y_test, dtype=torch.float32, device=device) "
   ]
  },
  {
   "cell_type": "code",
   "execution_count": 3,
   "metadata": {},
   "outputs": [
    {
     "data": {
      "image/png": "[encoded data removed]",
      "text/plain": [
       "<Figure size 1152x432 with 1 Axes>"
      ]
     },
     "metadata": {
      "needs_background": "light"
     },
     "output_type": "display_data"
    }
   ],
   "source": [
    "fig, ax1 = plt.subplots(1, 1, figsize=(16, 6))\n",
    "for target, target_name in enumerate(names[0:2]):\n",
    "    X_plot = X[y == target]\n",
    "    ax1.plot(X_plot[:, 1], X_plot[:, 2], \n",
    "             linestyle='none', \n",
    "             marker='o', \n",
    "             label=target_name)\n",
    "ax1.set_xlabel(feature_names[0])\n",
    "ax1.set_ylabel(feature_names[1])\n",
    "ax1.axis('equal')\n",
    "ax1.legend();"
   ]
  },
  {
   "cell_type": "code",
   "execution_count": 4,
   "metadata": {},
   "outputs": [],
   "source": [
    "class Net(torch.nn.Module):\n",
    "\n",
    "    def __init__(self, input_dim=1):\n",
    "        super(Net, self).__init__()\n",
    "        # 1 input image channel, 6 output channels, 5x5 square convolution\n",
    "        # kernel\n",
    "        # an affine operation: y = Wx + b\n",
    "        \n",
    "        self.nn = torch.nn.Sequential(\n",
    "            torch.nn.Linear(input_dim, 20), torch.nn.ReLU(),\n",
    "            torch.nn.Linear(20, 20), torch.nn.ReLU(),\n",
    "            torch.nn.Linear(20, input_dim)\n",
    "        )\n",
    "        \n",
    "\n",
    "    def forward(self, x):\n",
    "        return self.nn(x)"
   ]
  },
  {
   "cell_type": "code",
   "execution_count": 5,
   "metadata": {},
   "outputs": [],
   "source": [
    "class SDE(torch.nn.Module):\n",
    "\n",
    "    def __init__(self, state_size=1, brownian_size=1, batch_size=10, γ=1.0):\n",
    "        super().__init__()\n",
    "        self.noise_type = 'scalar'\n",
    "        self.sde_type = 'ito'\n",
    "        \n",
    "        self.state_size = state_size\n",
    "        self.brownian_size = brownian_size\n",
    "        self.batch_size = batch_size\n",
    "\n",
    "        self.γ = γ\n",
    "        self.μ = Net(input_dim=state_size).to(device)\n",
    "\n",
    "    # Drift\n",
    "    def f(self, t, y):\n",
    "        return self.μ(y)  # shape (batch_size, state_size)\n",
    "\n",
    "    # Diffusion\n",
    "    def g(self, t, y):\n",
    "        return (torch.ones_like(y).to(device) * self.γ)[:, :, None]\n",
    "\n",
    "\n",
    "# sde = SDE(state_size, brownian_size, batch_size, 1).to(device)\n",
    "# y0 = torch.full((batch_size, state_size), 0.1).to(device)\n",
    "\n",
    "# Initial state y0, the SDE is solved over the interval [ts[0], ts[-1]].\n",
    "# ys will have shape (t_size, batch_size, state_size)\n",
    "# ts = torch.linspace(0, 1, t_size).to(device)\n",
    "# ys = torchsde.sdeint(sde, y0, ts)"
   ]
  },
  {
   "cell_type": "markdown",
   "metadata": {},
   "source": [
    "$$\\DeclareMathOperator*{\\argmin}{arg\\,min}$$\n",
    "$$\\def\\E{{\\mathbb{E}}}$$\n",
    "$$\\def\\rvu{{\\mathbf{u}}}$$\n",
    "$$\\def\\rvTheta{{\\bm{\\Theta}}}$$\n",
    "$$\\def\\gU{{\\mathcal{U}}}$$\n",
    "$$\\def\\mX{{\\mathbf{X}}}$$"
   ]
  },
  {
   "cell_type": "markdown",
   "metadata": {},
   "source": [
    "## Controlled Schrodinger Follmer Sampler\n",
    "\n",
    "The objevtive we are trying to implement is:\n",
    "\n",
    "\\begin{align}\n",
    "  \\mathbf{u}_t^{*}=  \\argmin_{\\rvu_t \\in \\mathcal{U}}\\mathbb{E}\\left[\\frac{1}{2\\gamma}\\int_0^1||\\rvu(t, \\Theta_t)||^2 dt - \\ln\\left(\\frac{ p(\\mX | \\Theta_1)p(\\Theta_1)}{\\mathcal{N}(\\Theta_1|\\mathbf{0}, \\gamma \\mathbb{I} )}\\right)\\right] \\\n",
    "\\end{align}\n",
    "\n",
    "Where:\n",
    "\\begin{align}\n",
    "d\\Theta_t = \\rvu(t, \\Theta_t)dt + \\sqrt{\\gamma} dB_t\n",
    "\\end{align}\n",
    "\n",
    "To do so we use the EM discretisation. However results are a bit strange. The weights sampled at $\\Theta_1^{\\mathbf{u}^*}$ are too large (despite the perfect predictive accuracy). So something is off. Its as though the girsanov factor is failing to regularize the model. This needs more investigation.\n",
    "\n",
    "### Note on the bug\n",
    "\n",
    "I have a MAP baseline implemented further down. It seems to be the case that the map baseline is also converging to similar large values as the CSF sampler so whatever the bug is its in both places. \n",
    "\n",
    "### Maybe there is no bug\n",
    "\n",
    "I just tweakted $p(\\theta)$ to be much more confident and now the weights are much smaller which is expected behaviour and we see the same behaviour in MAP. So maybe there is no bug , I still find that when $\\sigma_w=1$ the prior is having less effect than I would expect so stil not completely sure we are bug free. "
   ]
  },
  {
   "cell_type": "code",
   "execution_count": 22,
   "metadata": {},
   "outputs": [],
   "source": [
    "def log_g(Θ, ln_prior, ln_like, γ=1.0):\n",
    "    \"\"\"\n",
    "    g function in control objective\n",
    "    \n",
    "    g is the Radon-Nikodym derivtive between\n",
    "    the joint and N(0, γ I)\n",
    "    \"\"\"\n",
    "    normal_term = -0.5 * (Θ**2).sum(axis=1) / γ\n",
    "    return ln_like(Θ) + 1.0 *( ln_prior(Θ)- normal_term)\n",
    "\n",
    "def log_likelihood(Θ, X, y):\n",
    "    \"\"\"\n",
    "    Slow implementation of logistic log likleihood\n",
    "    as a function of the parameters\n",
    "    \"\"\"\n",
    "#     import pdb; pdb.set_trace()\n",
    "    logits = X.mm(Θ.T)\n",
    "    \n",
    "    # pos_weights = torch.ones(logits.shape[0]*logits.shape[1], device=device)\n",
    "    # loss = torch.nn.BCEWithLogitsLoss(pos_weight=pos_weights, reduction=\"sum\")\n",
    "    # loss = torch.nn.BCEWithLogitsLoss(reduction=\"none\")\n",
    "    \n",
    "    # Should reimplement BCEWithLogitsLoss with logsumexp from scratch\n",
    "    # since this next line the .repeat is extremely inneficient\n",
    "    # vector_loss = loss(logits.reshape(-1), y.reshape(-1,1).repeat(1, logits.shape[1]).reshape(-1))\n",
    "    vector_loss = - (torch.einsum(\"a,ab->b\", y, torch.nn.functional.logsigmoid(logits)) +\n",
    "                     torch.einsum(\"a,ab->b\", (1-y), torch.log(1-torch.sigmoid(logits)))\n",
    "                    )\n",
    "    return vector_loss\n",
    "\n",
    "def log_likelihood_vmap(Θ, X, y):\n",
    "    \"\"\"\n",
    "    Hoping this implementation is less buggy / faster\n",
    "    \n",
    "    still feels a bit slow.\n",
    "    \"\"\"\n",
    "#     import pdb; pdb.set_trace()\n",
    "    logits = X.mm(Θ.T)\n",
    "    \n",
    "    pos_weights = torch.ones(logits.shape[0], device=device)\n",
    "    loss = torch.nn.BCEWithLogitsLoss(pos_weight=pos_weights, reduction=\"sum\")\n",
    "    \n",
    "    loss_ = lambda x: loss(x, y)\n",
    "    \n",
    "    # Should reimplement BCEWithLogitsLoss with logsumexp from scratch\n",
    "    # since this next line the .repeat is extremely inneficient\n",
    "#     import pdb; pdb.set_trace()\n",
    "    batched_loss =  torch._vmap_internals.vmap(loss_)\n",
    "#     vector_loss = torch.vmap(loss_, logits).sum()\n",
    "#     import pdb; pdb.set_trace()\n",
    "    return batched_loss(logits.T)\n",
    "\n",
    "def gaussian_prior(Θ, σ_w=1.0):\n",
    "    return -0.5 * (Θ**2).sum(axis=1) / σ_w\n",
    "\n",
    "def relative_entropy_control_cost(sde, Θ_0, X, y, ln_prior, ln_like, Δt=0.05, γ=1.0):\n",
    "    \"\"\"\n",
    "    Objective for the Hamilton-Bellman-Jacobi Follmer Sampler\n",
    "    \"\"\"\n",
    "    n = int(1.0 / Δt)\n",
    "    ts = torch.linspace(0, 1, n).to(device)\n",
    "    \n",
    "    ln_like_partial = lambda Θ: ln_like(Θ, X, y)\n",
    "    \n",
    "    Θs =  torchsde.sdeint(sde, Θ_0, ts, method=\"euler\",dt=Δt)\n",
    "    μs = sde.f(ts, Θs)\n",
    "    ΘT = Θs[-1] \n",
    "    lng = log_g(ΘT, ln_prior, ln_like_partial, γ)\n",
    "    girsanov_factor = (0.5 / γ) * ((μs**2).sum(axis=-1)).sum(axis=0)\n",
    "    \n",
    "    return (girsanov_factor - lng).mean()"
   ]
  },
  {
   "cell_type": "code",
   "execution_count": 7,
   "metadata": {},
   "outputs": [],
   "source": [
    "Δt=0.05\n",
    "t_size = int(math.ceil(1.0/Δt))\n",
    "\n",
    "dim = 3\n",
    "\n",
    "ts = torch.linspace(0, 1, t_size).to(device)\n",
    "no_posterior_samples = 50\n",
    "\n",
    "sde = SDE(dim, dim, no_posterior_samples, 1.0).to(device)\n",
    "Θ_0 = torch.zeros((no_posterior_samples, dim)).to(device) # Θ_0 ~ δ_0\n",
    "# Initial state y0, the SDE is solved over the interval [ts[0], ts[-1]].\n",
    "# ys will have shape (t_size, batch_size, state_size)\n",
    "ys = torchsde.sdeint(sde, Θ_0, ts, dt=Δt)"
   ]
  },
  {
   "cell_type": "code",
   "execution_count": 23,
   "metadata": {},
   "outputs": [
    {
     "data": {
      "text/plain": [
       "tensor(-169.3880, device='cuda:0', grad_fn=<MeanBackward0>)"
      ]
     },
     "execution_count": 23,
     "metadata": {},
     "output_type": "execute_result"
    }
   ],
   "source": [
    "def log_g(Θ, ln_prior, ln_like, γ=1.0):\n",
    "    \"\"\"\n",
    "    g function in control objective\n",
    "    \n",
    "    g is the Radon-Nikodym derivtive between\n",
    "    the joint and N(0, γ I)\n",
    "    \"\"\"\n",
    "    normal_term = -0.5 * (Θ**2).sum(axis=1) / γ\n",
    "#     import pdb; pdb.set_trace()\n",
    "    return ln_like(Θ) + ( ln_prior(Θ)- normal_term)\n",
    "\n",
    "relative_entropy_control_cost(sde, Θ_0, X_train, y_train, \n",
    "                              gaussian_prior, log_likelihood_vmap, γ=1.0)"
   ]
  },
  {
   "cell_type": "code",
   "execution_count": 40,
   "metadata": {},
   "outputs": [
    {
     "name": "stdout",
     "output_type": "stream",
     "text": [
      "20\n"
     ]
    },
    {
     "data": {
      "application/vnd.jupyter.widget-view+json": {
       "model_id": "ae8267f7845840d6b3e740a9752dc7d4",
       "version_major": 2,
       "version_minor": 0
      },
      "text/plain": [
       "  0%|          | 0/100 [00:00<?, ?it/s]"
      ]
     },
     "metadata": {},
     "output_type": "display_data"
    },
    {
     "name": "stderr",
     "output_type": "stream",
     "text": [
      "C:\\Users\\vargf\\anaconda3\\lib\\site-packages\\torch\\_vmap_internals.py:252: UserWarning: torch.vmap is an experimental prototype that is subject to change and/or deletion. Please use at your own risk.\n",
      "  warnings.warn(\n",
      "C:\\Users\\vargf\\anaconda3\\lib\\site-packages\\torch\\nn\\functional.py:2582: UserWarning: Batching rule not implemented for aten::binary_cross_entropy_with_logits falling back to slow (for loop and stack) implementation (Triggered internally at  ..\\aten\\src\\ATen\\BatchedFallback.cpp:63.)\n",
      "  return torch.binary_cross_entropy_with_logits(input, target, weight, pos_weight, reduction_enum)\n"
     ]
    }
   ],
   "source": [
    "γ = 1.0\n",
    "Δt=0.05\n",
    "t_size = int(math.ceil(1.0/Δt))\n",
    "print(t_size)\n",
    "ts = torch.linspace(0, 1, t_size).to(device)\n",
    "\n",
    "sde = SDE(dim, dim, no_posterior_samples  , γ=γ).to(device)\n",
    "optimizer = torch.optim.Adam(sde.μ.parameters(), lr=0.05, weight_decay =1)\n",
    "#     optimizer = torch.optim.LBFGS(gpr.parameters(), lr=0.01)\n",
    "losses = []\n",
    "num_steps = 100\n",
    "for i in tqdm(range(num_steps)):\n",
    "    optimizer.zero_grad()\n",
    "\n",
    "    if isinstance(optimizer, torch.optim.LBFGS):\n",
    "        def closure():\n",
    "            loss = relative_entropy_control_cost(\n",
    "                sde, Θ_0.float(),\n",
    "                X_train.float(), y_train.float(),\n",
    "                gaussian_prior, log_likelihood_vmap, γ=γ\n",
    "            )\n",
    "            optimizer.zero_grad()\n",
    "            loss.backward()\n",
    "            return loss\n",
    "\n",
    "        optimizer.step(closure)\n",
    "        losses.append(closure().item())\n",
    "    else:\n",
    "        loss = relative_entropy_control_cost(\n",
    "            sde, Θ_0,\n",
    "            X_train, y_train,\n",
    "            gaussian_prior, log_likelihood_vmap, γ=γ\n",
    "        )\n",
    "        optimizer.zero_grad()\n",
    "        loss.backward()\n",
    "\n",
    "        optimizer.step()\n",
    "        losses.append(loss.item())"
   ]
  },
  {
   "cell_type": "code",
   "execution_count": 41,
   "metadata": {
    "scrolled": true
   },
   "outputs": [
    {
     "data": {
      "text/plain": [
       "[-64.98429870605469,\n",
       " -93.38932037353516,\n",
       " -130.50546264648438,\n",
       " -89.58368682861328,\n",
       " -154.3239288330078,\n",
       " -143.3965606689453,\n",
       " -141.76124572753906,\n",
       " -135.87791442871094,\n",
       " -143.93344116210938,\n",
       " -149.88726806640625,\n",
       " -153.63824462890625,\n",
       " -162.69583129882812,\n",
       " -163.77194213867188,\n",
       " -166.3619842529297,\n",
       " -166.3121795654297,\n",
       " -164.67437744140625,\n",
       " -166.94656372070312,\n",
       " -167.96542358398438,\n",
       " -168.85769653320312,\n",
       " -168.98919677734375,\n",
       " -168.4539794921875,\n",
       " -167.669677734375,\n",
       " -169.19390869140625,\n",
       " -170.4196014404297,\n",
       " -170.27542114257812,\n",
       " -170.88510131835938,\n",
       " -170.83128356933594,\n",
       " -170.7919158935547,\n",
       " -169.6811065673828,\n",
       " -170.09706115722656,\n",
       " -171.00677490234375,\n",
       " -170.4223175048828,\n",
       " -170.6701202392578,\n",
       " -170.48097229003906,\n",
       " -170.93414306640625,\n",
       " -171.39608764648438,\n",
       " -171.79995727539062,\n",
       " -170.63601684570312,\n",
       " -170.57264709472656,\n",
       " -170.57704162597656,\n",
       " -170.4522247314453,\n",
       " -171.33819580078125,\n",
       " -170.7266387939453,\n",
       " -170.61929321289062,\n",
       " -170.87139892578125,\n",
       " -171.09677124023438,\n",
       " -170.9167938232422,\n",
       " -171.51773071289062,\n",
       " -172.29249572753906,\n",
       " -170.59214782714844,\n",
       " -170.46836853027344,\n",
       " -170.5786895751953,\n",
       " -170.66421508789062,\n",
       " -170.6044921875,\n",
       " -171.55067443847656,\n",
       " -171.59132385253906,\n",
       " -169.585693359375,\n",
       " -170.19175720214844,\n",
       " -171.27566528320312,\n",
       " -171.56008911132812,\n",
       " -171.4497833251953,\n",
       " -170.5402374267578,\n",
       " -170.20118713378906,\n",
       " -171.71034240722656,\n",
       " -170.42083740234375,\n",
       " -170.90980529785156,\n",
       " -170.2757568359375,\n",
       " -170.947998046875,\n",
       " -172.46249389648438,\n",
       " -169.93931579589844,\n",
       " -170.38449096679688,\n",
       " -171.01605224609375,\n",
       " -171.33596801757812,\n",
       " -170.7217559814453,\n",
       " -170.9413299560547,\n",
       " -171.34690856933594,\n",
       " -171.17654418945312,\n",
       " -170.0149383544922,\n",
       " -170.02345275878906,\n",
       " -172.5056610107422,\n",
       " -171.46597290039062,\n",
       " -171.55722045898438,\n",
       " -172.3787078857422,\n",
       " -170.1403045654297,\n",
       " -171.81358337402344,\n",
       " -170.1889190673828,\n",
       " -170.69972229003906,\n",
       " -170.82432556152344,\n",
       " -170.72373962402344,\n",
       " -172.0522003173828,\n",
       " -171.4161834716797,\n",
       " -172.05177307128906,\n",
       " -171.7578887939453,\n",
       " -171.6162872314453,\n",
       " -170.88400268554688,\n",
       " -171.4763641357422,\n",
       " -171.55435180664062,\n",
       " -170.88099670410156,\n",
       " -171.62803649902344,\n",
       " -171.4515838623047]"
      ]
     },
     "execution_count": 41,
     "metadata": {},
     "output_type": "execute_result"
    }
   ],
   "source": [
    "losses"
   ]
  },
  {
   "cell_type": "code",
   "execution_count": 42,
   "metadata": {},
   "outputs": [
    {
     "data": {
      "text/plain": [
       "[<matplotlib.lines.Line2D at 0x255a9119130>]"
      ]
     },
     "execution_count": 42,
     "metadata": {},
     "output_type": "execute_result"
    },
    {
     "data": {
      "image/png": "[encoded data removed]",
      "text/plain": [
       "<Figure size 432x288 with 1 Axes>"
      ]
     },
     "metadata": {
      "needs_background": "light"
     },
     "output_type": "display_data"
    }
   ],
   "source": [
    "plt.plot(losses[:])"
   ]
  },
  {
   "cell_type": "code",
   "execution_count": 43,
   "metadata": {},
   "outputs": [
    {
     "data": {
      "text/plain": [
       "torch.Size([20, 50, 3])"
      ]
     },
     "execution_count": 43,
     "metadata": {},
     "output_type": "execute_result"
    }
   ],
   "source": [
    " torchsde.sdeint(sde, Θ_0, ts, method=\"euler\", dt=Δt).shape"
   ]
  },
  {
   "cell_type": "code",
   "execution_count": 44,
   "metadata": {},
   "outputs": [
    {
     "data": {
      "text/plain": [
       "torch.Size([80, 3])"
      ]
     },
     "execution_count": 44,
     "metadata": {},
     "output_type": "execute_result"
    }
   ],
   "source": [
    "X_train.shape"
   ]
  },
  {
   "cell_type": "code",
   "execution_count": 52,
   "metadata": {},
   "outputs": [],
   "source": [
    "Θ_1 = torchsde.sdeint(sde, Θ_0, ts, dt=Δt)[-1,...]"
   ]
  },
  {
   "cell_type": "code",
   "execution_count": 53,
   "metadata": {},
   "outputs": [
    {
     "data": {
      "text/plain": [
       "(array([ 4.,  2.,  4., 14.,  9.,  8.,  4.,  3.,  1.,  1.]),\n",
       " array([0.72255677, 1.2040005 , 1.6854442 , 2.166888  , 2.6483316 ,\n",
       "        3.1297753 , 3.6112192 , 4.092663  , 4.5741067 , 5.05555   ,\n",
       "        5.536994  ], dtype=float32),\n",
       " <a list of 10 Patch objects>)"
      ]
     },
     "execution_count": 53,
     "metadata": {},
     "output_type": "execute_result"
    },
    {
     "data": {
      "image/png": "[encoded data removed]",
      "text/plain": [
       "<Figure size 432x288 with 3 Axes>"
      ]
     },
     "metadata": {
      "needs_background": "light"
     },
     "output_type": "display_data"
    }
   ],
   "source": [
    "fig, (ax1,ax2,ax3) = plt.subplots(1,3)\n",
    "\n",
    "ax1.hist(Θ_1[:,0].cpu().detach().numpy())\n",
    "ax2.hist(Θ_1[:,1].cpu().detach().numpy())\n",
    "ax3.hist(Θ_1[:,2].cpu().detach().numpy())"
   ]
  },
  {
   "cell_type": "code",
   "execution_count": 54,
   "metadata": {},
   "outputs": [],
   "source": [
    "pred = torch.sigmoid(X_train.mm(Θ_1.T)).mean(axis=1)"
   ]
  },
  {
   "cell_type": "code",
   "execution_count": 55,
   "metadata": {},
   "outputs": [
    {
     "data": {
      "text/plain": [
       "tensor(0.9875, device='cuda:0')"
      ]
     },
     "execution_count": 55,
     "metadata": {},
     "output_type": "execute_result"
    }
   ],
   "source": [
    "((pred < 0.5).float() == y_train).float().mean()"
   ]
  },
  {
   "cell_type": "code",
   "execution_count": 56,
   "metadata": {},
   "outputs": [],
   "source": [
    "pred_test = torch.sigmoid(X_test.float().mm(Θ_1.T)).mean(axis=1)"
   ]
  },
  {
   "cell_type": "code",
   "execution_count": 57,
   "metadata": {},
   "outputs": [
    {
     "data": {
      "text/plain": [
       "tensor(1., device='cuda:0')"
      ]
     },
     "execution_count": 57,
     "metadata": {},
     "output_type": "execute_result"
    }
   ],
   "source": [
    "((pred_test < 0.5).float() == y_test).float().mean()"
   ]
  },
  {
   "cell_type": "code",
   "execution_count": 58,
   "metadata": {},
   "outputs": [
    {
     "data": {
      "text/plain": [
       "tensor([ 0.0691, -2.6474,  2.7917], device='cuda:0', grad_fn=<MeanBackward1>)"
      ]
     },
     "execution_count": 58,
     "metadata": {},
     "output_type": "execute_result"
    }
   ],
   "source": [
    "Θ_1.mean(axis=0)"
   ]
  },
  {
   "cell_type": "code",
   "execution_count": 59,
   "metadata": {},
   "outputs": [
    {
     "data": {
      "text/plain": [
       "(tensor([1., 0., 1., 0., 0., 0., 0., 0., 0., 0., 1., 1., 1., 0., 0., 0., 0., 0.,\n",
       "         1., 1.], device='cuda:0'),\n",
       " tensor([1, 0, 1, 0, 0, 0, 0, 0, 0, 0, 1, 1, 1, 0, 0, 0, 0, 0, 1, 1],\n",
       "        device='cuda:0'))"
      ]
     },
     "execution_count": 59,
     "metadata": {},
     "output_type": "execute_result"
    }
   ],
   "source": [
    "y_test, (pred_test < 0.5).long()"
   ]
  },
  {
   "cell_type": "markdown",
   "metadata": {},
   "source": [
    "## MAP Baseline\n",
    "\n",
    "We run the point estimate approximation (Maximum a posteriori) to double check what the learned weights look like.  We get the  exact same training accuracy as with the controlled model and similarly large weights for the non bias weights. "
   ]
  },
  {
   "cell_type": "code",
   "execution_count": 22,
   "metadata": {},
   "outputs": [
    {
     "data": {
      "application/vnd.jupyter.widget-view+json": {
       "model_id": "0b020534120e43338eed0cb71250bbc3",
       "version_major": 2,
       "version_minor": 0
      },
      "text/plain": [
       "  0%|          | 0/1000 [00:00<?, ?it/s]"
      ]
     },
     "metadata": {},
     "output_type": "display_data"
    },
    {
     "ename": "RuntimeError",
     "evalue": "Expected all tensors to be on the same device, but found at least two devices, cuda:0 and cpu! (when checking arugment for argument mat2 in method wrapper_mm)",
     "output_type": "error",
     "traceback": [
      "\u001b[0;31m---------------------------------------------------------------------------\u001b[0m",
      "\u001b[0;31mRuntimeError\u001b[0m                              Traceback (most recent call last)",
      "\u001b[0;32m/tmp/ipykernel_15490/2703831245.py\u001b[0m in \u001b[0;36m<module>\u001b[0;34m\u001b[0m\n\u001b[1;32m     18\u001b[0m         \u001b[0mlosses_map\u001b[0m\u001b[0;34m.\u001b[0m\u001b[0mappend\u001b[0m\u001b[0;34m(\u001b[0m\u001b[0mclosure_map\u001b[0m\u001b[0;34m(\u001b[0m\u001b[0;34m)\u001b[0m\u001b[0;34m.\u001b[0m\u001b[0mitem\u001b[0m\u001b[0;34m(\u001b[0m\u001b[0;34m)\u001b[0m\u001b[0;34m)\u001b[0m\u001b[0;34m\u001b[0m\u001b[0;34m\u001b[0m\u001b[0m\n\u001b[1;32m     19\u001b[0m     \u001b[0;32melse\u001b[0m\u001b[0;34m:\u001b[0m\u001b[0;34m\u001b[0m\u001b[0;34m\u001b[0m\u001b[0m\n\u001b[0;32m---> 20\u001b[0;31m         \u001b[0mloss_map\u001b[0m \u001b[0;34m=\u001b[0m \u001b[0;34m-\u001b[0m\u001b[0;34m(\u001b[0m\u001b[0mlog_likelihood_vmap\u001b[0m\u001b[0;34m(\u001b[0m\u001b[0mΘ_map\u001b[0m\u001b[0;34m,\u001b[0m \u001b[0;34m(\u001b[0m\u001b[0mX_train\u001b[0m\u001b[0;34m)\u001b[0m\u001b[0;34m.\u001b[0m\u001b[0mfloat\u001b[0m\u001b[0;34m(\u001b[0m\u001b[0;34m)\u001b[0m\u001b[0;34m,\u001b[0m \u001b[0;34m(\u001b[0m\u001b[0my_train\u001b[0m\u001b[0;34m)\u001b[0m\u001b[0;34m.\u001b[0m\u001b[0mfloat\u001b[0m\u001b[0;34m(\u001b[0m\u001b[0;34m)\u001b[0m\u001b[0;34m)\u001b[0m \u001b[0;34m+\u001b[0m \u001b[0mgaussian_prior\u001b[0m\u001b[0;34m(\u001b[0m\u001b[0mΘ_map\u001b[0m\u001b[0;34m)\u001b[0m\u001b[0;34m)\u001b[0m\u001b[0;34m\u001b[0m\u001b[0;34m\u001b[0m\u001b[0m\n\u001b[0m\u001b[1;32m     21\u001b[0m         \u001b[0moptimizer_map\u001b[0m\u001b[0;34m.\u001b[0m\u001b[0mzero_grad\u001b[0m\u001b[0;34m(\u001b[0m\u001b[0;34m)\u001b[0m\u001b[0;34m\u001b[0m\u001b[0;34m\u001b[0m\u001b[0m\n\u001b[1;32m     22\u001b[0m         \u001b[0mloss_map\u001b[0m\u001b[0;34m.\u001b[0m\u001b[0mbackward\u001b[0m\u001b[0;34m(\u001b[0m\u001b[0;34m)\u001b[0m\u001b[0;34m\u001b[0m\u001b[0;34m\u001b[0m\u001b[0m\n",
      "\u001b[0;32m/tmp/ipykernel_15490/296078900.py\u001b[0m in \u001b[0;36mlog_likelihood_vmap\u001b[0;34m(Θ, X, y)\u001b[0m\n\u001b[1;32m     36\u001b[0m     \"\"\"\n\u001b[1;32m     37\u001b[0m \u001b[0;31m#     import pdb; pdb.set_trace()\u001b[0m\u001b[0;34m\u001b[0m\u001b[0;34m\u001b[0m\u001b[0;34m\u001b[0m\u001b[0m\n\u001b[0;32m---> 38\u001b[0;31m     \u001b[0mlogits\u001b[0m \u001b[0;34m=\u001b[0m \u001b[0mX\u001b[0m\u001b[0;34m.\u001b[0m\u001b[0mmm\u001b[0m\u001b[0;34m(\u001b[0m\u001b[0mΘ\u001b[0m\u001b[0;34m.\u001b[0m\u001b[0mT\u001b[0m\u001b[0;34m)\u001b[0m\u001b[0;34m\u001b[0m\u001b[0;34m\u001b[0m\u001b[0m\n\u001b[0m\u001b[1;32m     39\u001b[0m \u001b[0;34m\u001b[0m\u001b[0m\n\u001b[1;32m     40\u001b[0m     \u001b[0mpos_weights\u001b[0m \u001b[0;34m=\u001b[0m \u001b[0mtorch\u001b[0m\u001b[0;34m.\u001b[0m\u001b[0mones\u001b[0m\u001b[0;34m(\u001b[0m\u001b[0mlogits\u001b[0m\u001b[0;34m.\u001b[0m\u001b[0mshape\u001b[0m\u001b[0;34m[\u001b[0m\u001b[0;36m0\u001b[0m\u001b[0;34m]\u001b[0m\u001b[0;34m,\u001b[0m \u001b[0mdevice\u001b[0m\u001b[0;34m=\u001b[0m\u001b[0mdevice\u001b[0m\u001b[0;34m)\u001b[0m\u001b[0;34m\u001b[0m\u001b[0;34m\u001b[0m\u001b[0m\n",
      "\u001b[0;31mRuntimeError\u001b[0m: Expected all tensors to be on the same device, but found at least two devices, cuda:0 and cpu! (when checking arugment for argument mat2 in method wrapper_mm)"
     ]
    }
   ],
   "source": [
    "Θ_map = torch.full((1, dim), 0.0, requires_grad=True)  \n",
    "optimizer_map = torch.optim.Adam([Θ_map], lr=0.05)\n",
    "#     optimizer = torch.optim.LBFGS(gpr.parameters(), lr=0.01)\n",
    "\n",
    "losses_map = []\n",
    "num_steps = 1000\n",
    "for i in tqdm(range(num_steps)):\n",
    "    optimizer.zero_grad()\n",
    "\n",
    "    if isinstance(optimizer_map, torch.optim.LBFGS):\n",
    "        def closure_map():\n",
    "            loss_map = log_likelihood_vmap()\n",
    "            optimizer_map.zero_grad()\n",
    "            loss_map.backward()\n",
    "            return loss\n",
    "\n",
    "        optimizer_map.step(closure_map)\n",
    "        losses_map.append(closure_map().item())\n",
    "    else:\n",
    "        loss_map = -(log_likelihood_vmap(Θ_map, (X_train).float(), (y_train).float()) + gaussian_prior(Θ_map))\n",
    "        optimizer_map.zero_grad()\n",
    "        loss_map.backward()\n",
    "\n",
    "        optimizer_map.step()\n",
    "        losses_map.append(loss.item())\n",
    "\n",
    "Θ_map\n",
    "pred_map = torch.sigmoid(X_train.float().mm(Θ_map.T)).mean(axis=1)\n",
    "((pred_map < 0.5).float() == y_train).float().mean(), Θ_map"
   ]
  },
  {
   "cell_type": "markdown",
   "metadata": {},
   "source": [
    "## Pyro Bayesian Logistic Regeression\n",
    "\n",
    "As a baseline we run pyro with SVI on this same example atm we get very different results which is a bit worrying.\n",
    "\n",
    "#### EDIT:\n",
    "\n",
    "I think results are actually in agreement what was happening is the priors in the pyro code where much more confident thus the smaller weights. I just tried changing the prior of this pyro model and the posterior is not changing much, this is a bit fishy maybe worth investigating. \n",
    "\n",
    "I think it might just be the case that this model is not very good."
   ]
  },
  {
   "cell_type": "code",
   "execution_count": null,
   "metadata": {},
   "outputs": [],
   "source": [
    "import numpy as np\n",
    "import scipy.special as ssp\n",
    "import matplotlib.pyplot as plt\n",
    "\n",
    "import torch\n",
    "import torch.nn as nn\n",
    "import torch.distributions.constraints as constraints\n",
    "\n",
    "from torch.utils.data import DataLoader\n",
    "from torch.utils.data.sampler import SubsetRandomSampler\n",
    "\n",
    "import pyro\n",
    "import pyro.distributions as dist\n",
    "\n",
    "from pyro.infer import SVI, Trace_ELBO\n",
    "from pyro.optim import Adam, SGD\n",
    "\n",
    "pyro.enable_validation(True)\n",
    "torch.set_default_dtype(torch.double) # this was necessary on the CPU"
   ]
  },
  {
   "cell_type": "code",
   "execution_count": null,
   "metadata": {},
   "outputs": [],
   "source": [
    "\n",
    "# these were adapted from the Pyro VAE tutorial\n",
    "\n",
    "def train(svi, train_loader, n_train):\n",
    "    # initialize loss accumulator\n",
    "    epoch_loss = 0.\n",
    "    # do a training epoch over each mini-batch x returned\n",
    "    # by the data loader\n",
    "    for _, xs in enumerate(train_loader):\n",
    "        # do ELBO gradient and accumulate loss\n",
    "        epoch_loss += svi.step(*xs)\n",
    "\n",
    "    # return epoch loss\n",
    "    total_epoch_loss_train = epoch_loss / n_train\n",
    "    return total_epoch_loss_train\n",
    "\n",
    "\n",
    "def evaluate(svi, test_loader, n_test):\n",
    "    # initialize loss accumulator\n",
    "    test_loss = 0.\n",
    "    # compute the loss over the entire test set\n",
    "    for _, xs in enumerate(test_loader):\n",
    "        # compute ELBO estimate and accumulate loss\n",
    "        test_loss += svi.evaluate_loss(*xs)\n",
    "\n",
    "    total_epoch_loss_test = test_loss / n_test\n",
    "    return total_epoch_loss_test\n",
    "\n",
    "\n",
    "def plot_llk(train_elbo, test_elbo, test_int):\n",
    "    plt.figure(figsize=(8, 6))\n",
    "\n",
    "    x = np.arange(len(train_elbo))\n",
    "\n",
    "    plt.plot(x, train_elbo, marker='o', label='Train ELBO')\n",
    "    plt.plot(x[::test_int], test_elbo, marker='o', label='Test ELBO')\n",
    "    plt.xlabel('Training Epoch')\n",
    "    plt.legend()\n",
    "    plt.show()"
   ]
  },
  {
   "cell_type": "code",
   "execution_count": null,
   "metadata": {},
   "outputs": [],
   "source": [
    "class LogRegressionModel(nn.Module):\n",
    "    def __init__(self, p):\n",
    "        super(LogRegressionModel, self).__init__()\n",
    "        \n",
    "        self.p = p\n",
    "\n",
    "        # hyperparameters for normal priors\n",
    "        self.alpha_h_loc = torch.zeros(1, p)\n",
    "        self.alpha_h_scale = 0.0001 * torch.ones(1, p)\n",
    "        self.beta_h_loc = torch.zeros(1)\n",
    "        self.beta_h_scale =  0.0001 * torch.ones(1)\n",
    "        \n",
    "        # initial values of variational parameters\n",
    "        self.alpha_0 = np.zeros((1, p))\n",
    "        self.alpha_0_scale = np.ones((1, p))\n",
    "        self.beta_0 = np.zeros((1,))\n",
    "        self.beta_0_scale = np.ones((1,))\n",
    "\n",
    "    def model(self, x, y):\n",
    "        # sample from prior\n",
    "        a = pyro.sample(\n",
    "            \"weight\", dist.Normal(self.alpha_h_loc, self.alpha_h_scale, validate_args=True).independent(1)\n",
    "        ).float()\n",
    "        b = pyro.sample(\n",
    "            \"bias\", dist.Normal(self.beta_h_loc, self.beta_h_scale, validate_args=True).independent(1)\n",
    "        ).float()\n",
    "\n",
    "        with pyro.iarange(\"data\", x.size(0)):\n",
    "#             import pdb; pdb.set_trace()\n",
    "            model_logits = (torch.matmul(x, a.permute(1, 0)) + b).squeeze()\n",
    "            \n",
    "            pyro.sample(\n",
    "                \"obs\", \n",
    "                dist.Bernoulli(logits=model_logits, validate_args=True),\n",
    "                obs=y.squeeze()\n",
    "            )\n",
    "            \n",
    "    def guide(self, x, y):\n",
    "        # register variational parameters with pyro\n",
    "        alpha_loc = pyro.param(\"alpha_loc\", torch.tensor(self.alpha_0))\n",
    "        alpha_scale = pyro.param(\"alpha_scale\", torch.tensor(self.alpha_0_scale),\n",
    "                                 constraint=constraints.positive)\n",
    "        beta_loc = pyro.param(\"beta_loc\", torch.tensor(self.beta_0))\n",
    "        beta_scale = pyro.param(\"beta_scale\", torch.tensor(self.beta_0_scale),\n",
    "                                constraint=constraints.positive)\n",
    "\n",
    "        pyro.sample(\n",
    "            \"weight\", dist.Normal(alpha_loc, alpha_scale, validate_args=True).independent(1)\n",
    "        )\n",
    "        pyro.sample(\n",
    "            \"bias\", dist.Normal(beta_loc, beta_scale, validate_args=True).independent(1)\n",
    "        )\n",
    "    \n",
    "    \n",
    "    def guide_(self, x, y, N=100):\n",
    "        # register variational parameters with pyro\n",
    "        alpha_loc = pyro.param(\"alpha_loc\", torch.tensor(self.alpha_0))\n",
    "        alpha_scale = pyro.param(\"alpha_scale\", torch.tensor(self.alpha_0_scale),\n",
    "                                 constraint=constraints.positive)\n",
    "        beta_loc = pyro.param(\"beta_loc\", torch.tensor(self.beta_0))\n",
    "        beta_scale = pyro.param(\"beta_scale\", torch.tensor(self.beta_0_scale),\n",
    "                                constraint=constraints.positive)\n",
    "        w = []\n",
    "        b = []\n",
    "        for _ in range(N):\n",
    "            w.append(torch.tensor(pyro.sample(\n",
    "                \"weight\", dist.Normal(alpha_loc, alpha_scale, validate_args=True).independent(1)\n",
    "            )))\n",
    "            b.append(torch.tensor(pyro.sample(\n",
    "                \"bias\", dist.Normal(beta_loc, beta_scale, validate_args=True).independent(1)\n",
    "            )))\n",
    "#         import pdb;pdb.set_trace()\n",
    "        return torch.vstack(w), torch.vstack(b)"
   ]
  },
  {
   "cell_type": "code",
   "execution_count": null,
   "metadata": {},
   "outputs": [],
   "source": [
    "\n",
    "pyro.clear_param_store()\n",
    "\n",
    "optim = Adam({'lr': 0.01})\n",
    "\n",
    "num_epochs = 1000\n",
    "batch_size = 50\n",
    "\n",
    "N = X.shape[0]\n",
    "p = 2\n",
    "\n",
    "n_train = X_train.shape[0]\n",
    "example_indices = np.random.permutation(N)\n",
    "n_test = N - n_train\n",
    "test_iter = 50"
   ]
  },
  {
   "cell_type": "code",
   "execution_count": null,
   "metadata": {},
   "outputs": [],
   "source": [
    "lr_model = LogRegressionModel(p=p)\n",
    "\n",
    "svi = SVI(\n",
    "    lr_model.model, lr_model.guide, optim,\n",
    "    loss=Trace_ELBO()\n",
    ")\n",
    "\n",
    "\n",
    "lr_dataset = torch.utils.data.TensorDataset(torch.tensor(X[:,1:]).float(), torch.tensor(y.reshape(-1,1)).float())\n",
    "\n",
    "data_loader_train = DataLoader(\n",
    "    dataset=lr_dataset, batch_size=batch_size, pin_memory=False,\n",
    "    sampler=SubsetRandomSampler(example_indices[:n_train]),\n",
    ")\n",
    "    \n",
    "data_loader_test = DataLoader(\n",
    "    dataset=lr_dataset, batch_size=batch_size, pin_memory=False,\n",
    "    sampler=SubsetRandomSampler(example_indices[n_train:]),\n",
    ")\n",
    "\n",
    "train_elbo = []\n",
    "test_elbo = []\n",
    "for epoch in range(num_epochs):\n",
    "    total_epoch_loss_train = train(svi, data_loader_train, n_train)\n",
    "    train_elbo.append(-total_epoch_loss_train)\n",
    "\n",
    "    if epoch % test_iter == 0:\n",
    "        print(\"[epoch %03d]  average training loss: %.4f\" % (epoch, total_epoch_loss_train))\n",
    "        # report test diagnostics\n",
    "        total_epoch_loss_test = evaluate(svi, data_loader_test, n_test)\n",
    "        test_elbo.append(-total_epoch_loss_test)"
   ]
  },
  {
   "cell_type": "code",
   "execution_count": null,
   "metadata": {},
   "outputs": [],
   "source": [
    "plot_llk(train_elbo, test_elbo, test_iter)"
   ]
  },
  {
   "cell_type": "code",
   "execution_count": null,
   "metadata": {},
   "outputs": [],
   "source": [
    "W, b = lr_model.guide_(X_train.float(), y_train.float())"
   ]
  },
  {
   "cell_type": "code",
   "execution_count": null,
   "metadata": {},
   "outputs": [],
   "source": [
    "fig, (ax1,ax2,ax3) = plt.subplots(1,3)\n",
    "\n",
    "# ax1.hist(Θ_1[:,0].detach().numpy())\n",
    "# ax2.hist(Θ_1[:,1].detach().numpy())\n",
    "# ax3.hist(Θ_1[:,2].detach().numpy())\n",
    "\n",
    "\n",
    "ax1.hist(b.detach().numpy(), color=\"red\")\n",
    "ax2.hist(W[:,0].detach().numpy(), color=\"red\")\n",
    "ax3.hist(W[:,1].detach().numpy(), color=\"red\")\n"
   ]
  },
  {
   "cell_type": "code",
   "execution_count": null,
   "metadata": {},
   "outputs": [],
   "source": [
    "b.mean(), W.mean(axis=0)"
   ]
  },
  {
   "cell_type": "code",
   "execution_count": null,
   "metadata": {},
   "outputs": [],
   "source": []
  }
 ],
 "metadata": {
  "kernelspec": {
   "display_name": "Python 3",
   "language": "python",
   "name": "python3"
  },
  "language_info": {
   "codemirror_mode": {
    "name": "ipython",
    "version": 3
   },
   "file_extension": ".py",
   "mimetype": "text/x-python",
   "name": "python",
   "nbconvert_exporter": "python",
   "pygments_lexer": "ipython3",
   "version": "3.8.5"
  },
  "toc": {
   "base_numbering": 1,
   "nav_menu": {},
   "number_sections": true,
   "sideBar": true,
   "skip_h1_title": false,
   "title_cell": "Table of Contents",
   "title_sidebar": "Contents",
   "toc_cell": false,
   "toc_position": {},
   "toc_section_display": true,
   "toc_window_display": false
  }
 },
 "nbformat": 4,
 "nbformat_minor": 4
}
