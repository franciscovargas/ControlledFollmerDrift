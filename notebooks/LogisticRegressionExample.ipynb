{
 "cells": [
  {
   "cell_type": "code",
   "execution_count": 1,
   "metadata": {},
   "outputs": [],
   "source": [
    "import torch\n",
    "import torch.nn.functional as F\n",
    "\n",
    "import torchsde\n",
    "\n",
    "import matplotlib.pyplot as plt\n",
    "\n",
    "import numpy as np\n",
    "\n",
    "from tqdm.notebook import tqdm\n",
    "\n",
    "from torch import _vmap_internals"
   ]
  },
  {
   "cell_type": "code",
   "execution_count": 180,
   "metadata": {},
   "outputs": [],
   "source": [
    "from sklearn.datasets import load_iris\n",
    "from sklearn.model_selection import train_test_split\n",
    "from sklearn.preprocessing import StandardScaler\n",
    "\n",
    "iris = load_iris()\n",
    "X = iris['data']\n",
    "y = iris['target']\n",
    "\n",
    "# Binary classification\n",
    "X = X[~(y==2)][:,[0,1]]\n",
    "y = y[~(y==2)]\n",
    "\n",
    "# dummy dims \n",
    "X = np.concatenate((torch.ones(X.shape[0],1), torch.tensor(X) ), axis=1)\n",
    "\n",
    "names = iris['target_names']\n",
    "feature_names = iris['feature_names']\n",
    "\n",
    "# Scale data to have mean 0 and variance 1 \n",
    "# which is importance for convergence of the neural network\n",
    "scaler = StandardScaler()\n",
    "X_scaled = scaler.fit_transform(X)\n",
    "\n",
    "# Split the data set into training and testing\n",
    "X_train, X_test, y_train, y_test = train_test_split(\n",
    "    X_scaled, y, test_size=0.2, random_state=2)\n",
    "\n",
    "\n",
    "X_train, X_test, y_train, y_test = torch.tensor(X_train), torch.tensor(X_test), torch.tensor(y_train), torch.tensor(y_test) "
   ]
  },
  {
   "cell_type": "code",
   "execution_count": 181,
   "metadata": {},
   "outputs": [
    {
     "data": {
      "image/png": "[encoded data removed]",
      "text/plain": [
       "<Figure size 1152x432 with 1 Axes>"
      ]
     },
     "metadata": {
      "needs_background": "light"
     },
     "output_type": "display_data"
    }
   ],
   "source": [
    "\n",
    "fig, ax1 = plt.subplots(1, 1, figsize=(16, 6))\n",
    "for target, target_name in enumerate(names[0:2]):\n",
    "    X_plot = X[y == target]\n",
    "    ax1.plot(X_plot[:, 1], X_plot[:, 2], \n",
    "             linestyle='none', \n",
    "             marker='o', \n",
    "             label=target_name)\n",
    "ax1.set_xlabel(feature_names[0])\n",
    "ax1.set_ylabel(feature_names[1])\n",
    "ax1.axis('equal')\n",
    "ax1.legend();"
   ]
  },
  {
   "cell_type": "code",
   "execution_count": 2,
   "metadata": {},
   "outputs": [],
   "source": [
    "class Net(torch.nn.Module):\n",
    "\n",
    "    def __init__(self, input_dim=1):\n",
    "        super(Net, self).__init__()\n",
    "        # 1 input image channel, 6 output channels, 5x5 square convolution\n",
    "        # kernel\n",
    "        # an affine operation: y = Wx + b\n",
    "        self.input_dim = input_dim\n",
    "        self.fc1 = torch.nn.Linear(input_dim, 120)  # 5*5 from image dimension\n",
    "        self.fc2 = torch.nn.Linear(120, 84)\n",
    "        self.fc3 = torch.nn.Linear(84, input_dim)\n",
    "\n",
    "    def forward(self, x):\n",
    "        x = F.relu(self.fc1(x))\n",
    "        x = F.relu(self.fc2(x))\n",
    "        x = self.fc3(x)\n",
    "        return x\n",
    "\n",
    "\n",
    "net = Net()"
   ]
  },
  {
   "cell_type": "code",
   "execution_count": 3,
   "metadata": {},
   "outputs": [],
   "source": [
    "import torch\n",
    "\n",
    "batch_size, state_size, brownian_size = 32, 3, 2\n",
    "t_size = 20\n",
    "\n",
    "class SDE(torch.nn.Module):\n",
    "    noise_type = 'general'\n",
    "    sde_type = 'ito'\n",
    "\n",
    "    def __init__(self, state_size=1, brownian_size=1, batch_size=10, γ=1.0):\n",
    "        super().__init__()\n",
    "        \n",
    "        self.state_size = state_size\n",
    "        self.brownian_size = brownian_size\n",
    "        self.batch_size = batch_size\n",
    "\n",
    "        self.γ = torch.tensor(γ)\n",
    "        self.μ = Net(input_dim=state_size)\n",
    "        self.σ = lambda x: torch.sqrt(self.γ) * torch.eye(self.state_size, self.brownian_size).repeat(batch_size,1)\n",
    "\n",
    "    # Drift\n",
    "    def f(self, t, y):\n",
    "        return self.μ(y)  # shape (batch_size, state_size)\n",
    "\n",
    "    # Diffusion\n",
    "    def g(self, t, y):\n",
    "        σ = self.σ(y)\n",
    "#         print(σ.shape, y.shape, self.brownian_size)\n",
    "        return self.σ(y).view(self.batch_size, \n",
    "                              self.state_size, \n",
    "                              self.brownian_size)\n",
    "\n",
    "\n",
    "# sde = SDE(state_size, brownian_size, batch_size, 1)\n",
    "# y0 = torch.full((batch_size, state_size), 0.1)\n",
    "\n",
    "# Initial state y0, the SDE is solved over the interval [ts[0], ts[-1]].\n",
    "# ys will have shape (t_size, batch_size, state_size)\n",
    "# ys = torchsde.sdeint(sde, y0, ts)"
   ]
  },
  {
   "cell_type": "markdown",
   "metadata": {},
   "source": [
    "$$\\DeclareMathOperator*{\\argmin}{arg\\,min}$$\n",
    "$$\\def\\E{{\\mathbb{E}}}$$\n",
    "$$\\def\\rvu{{\\mathbf{u}}}$$\n",
    "$$\\def\\rvTheta{{\\bm{\\Theta}}}$$\n",
    "$$\\def\\gU{{\\mathcal{U}}}$$\n",
    "$$\\def\\mX{{\\mathbf{X}}}$$"
   ]
  },
  {
   "cell_type": "markdown",
   "metadata": {},
   "source": [
    "## Controlled Schrodinger Follmer Sampler\n",
    "\n",
    "The objevtive we are trying to implement is:\n",
    "\n",
    "\\begin{align}\n",
    "  \\mathbf{u}_t^{*}=  \\argmin_{\\rvu_t \\in \\mathcal{U}}\\mathbb{E}\\left[\\frac{1}{2\\gamma}\\int_0^1||\\rvu(t, \\Theta_t)||^2 dt - \\ln\\left(\\frac{ p(\\mX | \\Theta_1)p(\\Theta_1)}{\\mathcal{N}(\\Theta_1|\\mathbf{0}, \\gamma \\mathbb{I} )}\\right)\\right] \\\n",
    "\\end{align}\n",
    "\n",
    "Where:\n",
    "\\begin{align}\n",
    "d\\Theta_t = \\rvu(t, \\Theta_t)dt + \\sqrt{\\gamma} dB_t\n",
    "\\end{align}\n",
    "\n",
    "To do so we use the EM discretisation. However results are a bit strange. The weights sampled at $\\Theta_1^{\\mathbf{u}^*}$ are too large (despite the perfect predictive accuracy). So something is off. Its as though the girsanov factor is failing to regularize the model. This needs more investigation.\n",
    "\n",
    "### Note on the bug\n",
    "\n",
    "I have a MAP baseline implemented further down. It seems to be the case that the map baseline is also converging to similar large values as the CSF sampler so whatever the bug is its in both places. \n",
    "\n",
    "### Maybe there is no bug\n",
    "\n",
    "I just tweakted $p(\\theta)$ to be much more confident and now the weights are much smaller which is expected behaviour and we see the same behaviour in MAP. So maybe there is no bug , I still find that when $\\sigma_w=1$ the prior is having less effect than I would expect so stil not completely sure we are bug free. "
   ]
  },
  {
   "cell_type": "code",
   "execution_count": 221,
   "metadata": {},
   "outputs": [],
   "source": [
    "def log_g(Θ, ln_prior, ln_like, γ=1.0):\n",
    "    \"\"\"\n",
    "    g function in control objective\n",
    "    \n",
    "    g is the Radon-Nikodym derivtive between\n",
    "    the joint and N(0, γ I)\n",
    "    \"\"\"\n",
    "    normal_term = -0.5 * (Θ**2).sum(axis=1) / γ\n",
    "    return ln_like(Θ) + 1.0 *( ln_prior(Θ)- normal_term)\n",
    "\n",
    "def log_likelihood(Θ, X, y):\n",
    "    \"\"\"\n",
    "    Slow implementation of logistic log likleihood\n",
    "    as a function of the parameters\n",
    "    \"\"\"\n",
    "#     import pdb; pdb.set_trace()\n",
    "    logits = X.mm(Θ.T)\n",
    "    \n",
    "    pos_weights = torch.ones(logits.shape[0]*logits.shape[1])\n",
    "    loss = torch.nn.BCEWithLogitsLoss(pos_weight=pos_weights, reduction=\"sum\")\n",
    "    \n",
    "    # Should reimplement BCEWithLogitsLoss with logsumexp from scratch\n",
    "    # since this next line the .repeat is extremely inneficient\n",
    "    vector_loss = loss(logits.reshape(-1), y.reshape(-1,1).repeat(1, logits.shape[1]).reshape(-1))\n",
    "\n",
    "    return vector_loss / Θ.shape[0]\n",
    "\n",
    "def log_likelihood_vmap(Θ, X, y):\n",
    "    \"\"\"\n",
    "    Hoping this implementation is less buggy / faster\n",
    "    \n",
    "    still feels a bit slow.\n",
    "    \"\"\"\n",
    "#     import pdb; pdb.set_trace()\n",
    "    logits = X.mm(Θ.T)\n",
    "    \n",
    "    pos_weights = torch.ones(logits.shape[0])\n",
    "    loss = torch.nn.BCEWithLogitsLoss(pos_weight=pos_weights, reduction=\"sum\")\n",
    "    \n",
    "    loss_ = lambda x: loss(x, y)\n",
    "    \n",
    "    # Should reimplement BCEWithLogitsLoss with logsumexp from scratch\n",
    "    # since this next line the .repeat is extremely inneficient\n",
    "#     import pdb; pdb.set_trace()\n",
    "    batched_loss =  torch._vmap_internals.vmap(loss_)\n",
    "#     vector_loss = torch.vmap(loss_, logits).sum()\n",
    "#     import pdb; pdb.set_trace()\n",
    "    return batched_loss(logits.T)\n",
    "\n",
    "def gaussian_prior(Θ, σ_w=0.1):\n",
    "    return -0.5 * (Θ**2).sum(axis=1) / σ_w\n",
    "\n",
    "def relative_entropy_control_cost(sde, Θ_0, X, y, ln_prior, ln_like, Δt=0.05, γ=1.0):\n",
    "    \"\"\"\n",
    "    Objective for the Hamilton-Bellman-Jacobi Follmer Sampler\n",
    "    \"\"\"\n",
    "    n = int(1.0 / Δt)\n",
    "    ts = torch.linspace(0, 1, n)\n",
    "    \n",
    "    ln_like_partial = lambda Θ: ln_like(Θ, X, y)\n",
    "    \n",
    "    Θs =  torchsde.sdeint(sde, Θ_0, ts)\n",
    "    μs = sde.f(ts, Θs)\n",
    "    ΘT = Θs[-1,:,:] \n",
    "    lng = log_g(ΘT, ln_prior, ln_like_partial, γ).mean()\n",
    "    girsanov_factor = (0.5 / γ) * ((μs**2).sum(axis=-1)).mean()\n",
    "    \n",
    "    return girsanov_factor - lng"
   ]
  },
  {
   "cell_type": "code",
   "execution_count": 222,
   "metadata": {},
   "outputs": [],
   "source": [
    "t_size = 20\n",
    "dim = 3\n",
    "\n",
    "ts = torch.linspace(0, 1, t_size)\n",
    "no_posterior_samples = 50\n",
    "\n",
    "sde = SDE(dim, dim, no_posterior_samples, 1.0)\n",
    "Θ_0 = torch.full((no_posterior_samples, dim), 0.1) * 0 # Θ_0 ~ δ_0\n",
    "# Initial state y0, the SDE is solved over the interval [ts[0], ts[-1]].\n",
    "# ys will have shape (t_size, batch_size, state_size)\n",
    "ys = torchsde.sdeint(sde, Θ_0, ts)"
   ]
  },
  {
   "cell_type": "code",
   "execution_count": 223,
   "metadata": {},
   "outputs": [
    {
     "data": {
      "text/plain": [
       "tensor(-60.2958, grad_fn=<SubBackward0>)"
      ]
     },
     "execution_count": 223,
     "metadata": {},
     "output_type": "execute_result"
    }
   ],
   "source": [
    "def log_g(Θ, ln_prior, ln_like, γ=1.0):\n",
    "    \"\"\"\n",
    "    g function in control objective\n",
    "    \n",
    "    g is the Radon-Nikodym derivtive between\n",
    "    the joint and N(0, γ I)\n",
    "    \"\"\"\n",
    "    normal_term = -0.5 * (Θ**2).sum(axis=1) / γ\n",
    "#     import pdb; pdb.set_trace()\n",
    "    return ln_like(Θ) + ( ln_prior(Θ)- normal_term)\n",
    "\n",
    "relative_entropy_control_cost(sde, Θ_0.float(), X_train.float(), y_train.float(), gaussian_prior, log_likelihood_vmap, γ=1.0)"
   ]
  },
  {
   "cell_type": "code",
   "execution_count": 224,
   "metadata": {},
   "outputs": [
    {
     "name": "stderr",
     "output_type": "stream",
     "text": [
      "<ipython-input-3-8900b35f9791>:17: UserWarning: To copy construct from a tensor, it is recommended to use sourceTensor.clone().detach() or sourceTensor.clone().detach().requires_grad_(True), rather than torch.tensor(sourceTensor).\n",
      "  self.γ = torch.tensor(γ)\n"
     ]
    },
    {
     "data": {
      "application/vnd.jupyter.widget-view+json": {
       "model_id": "84e88246f6af46558556cc361ed70e8a",
       "version_major": 2,
       "version_minor": 0
      },
      "text/plain": [
       "  0%|          | 0/100 [00:00<?, ?it/s]"
      ]
     },
     "metadata": {},
     "output_type": "display_data"
    }
   ],
   "source": [
    "ts = torch.linspace(0, 1, t_size)\n",
    "γ = torch.tensor(1.0)\n",
    "\n",
    "sde = SDE(dim, dim, no_posterior_samples  , γ=γ)\n",
    "optimizer = torch.optim.Adam(sde.μ.parameters(), lr=0.05, weight_decay =1)\n",
    "#     optimizer = torch.optim.LBFGS(gpr.parameters(), lr=0.01)\n",
    "losses = []\n",
    "num_steps = 100\n",
    "for i in tqdm(range(num_steps)):\n",
    "    optimizer.zero_grad()\n",
    "\n",
    "    if isinstance(optimizer, torch.optim.LBFGS):\n",
    "        def closure():\n",
    "            loss = relative_entropy_control_cost(\n",
    "                sde, Θ_0.float(),\n",
    "                X_train.float(), y_train.float(),\n",
    "                gaussian_prior, log_likelihood_vmap, γ=γ\n",
    "            )\n",
    "            optimizer.zero_grad()\n",
    "            loss.backward()\n",
    "            return loss\n",
    "\n",
    "        optimizer.step(closure)\n",
    "        losses.append(closure().item())\n",
    "    else:\n",
    "        loss = relative_entropy_control_cost(\n",
    "            sde, Θ_0.float(),\n",
    "            X_train.float(), y_train.float(),\n",
    "            gaussian_prior, log_likelihood_vmap, γ=γ\n",
    "        )\n",
    "        optimizer.zero_grad()\n",
    "        loss.backward()\n",
    "\n",
    "        optimizer.step()\n",
    "        losses.append(loss.item())"
   ]
  },
  {
   "cell_type": "code",
   "execution_count": 225,
   "metadata": {
    "scrolled": true
   },
   "outputs": [
    {
     "data": {
      "text/plain": [
       "[-48.386844635009766,\n",
       " 793.3221435546875,\n",
       " -91.81453704833984,\n",
       " -57.37142562866211,\n",
       " -61.20305252075195,\n",
       " -61.05759048461914,\n",
       " -79.30136108398438,\n",
       " -116.04218292236328,\n",
       " -182.100830078125,\n",
       " -53.00537872314453,\n",
       " -200.3593292236328,\n",
       " -166.468994140625,\n",
       " -162.06610107421875,\n",
       " -166.91677856445312,\n",
       " -190.4132537841797,\n",
       " -223.98092651367188,\n",
       " -178.81927490234375,\n",
       " -269.9466857910156,\n",
       " -239.1697540283203,\n",
       " -203.89248657226562,\n",
       " -220.6399688720703,\n",
       " -241.23191833496094,\n",
       " -235.58914184570312,\n",
       " -244.1516571044922,\n",
       " -249.7805633544922,\n",
       " -254.906982421875,\n",
       " -264.1507263183594,\n",
       " -282.58856201171875,\n",
       " -289.440673828125,\n",
       " -297.75848388671875,\n",
       " -294.77581787109375,\n",
       " -305.54541015625,\n",
       " -301.8362731933594,\n",
       " -302.535400390625,\n",
       " -303.48565673828125,\n",
       " -307.7438659667969,\n",
       " -303.1949157714844,\n",
       " -306.03387451171875,\n",
       " -309.1263427734375,\n",
       " -309.5929870605469,\n",
       " -311.1124572753906,\n",
       " -310.0467224121094,\n",
       " -309.2841491699219,\n",
       " -310.3190002441406,\n",
       " -314.431884765625,\n",
       " -311.80712890625,\n",
       " -316.0874328613281,\n",
       " -317.3790588378906,\n",
       " -314.2547607421875,\n",
       " -308.787353515625,\n",
       " -315.49072265625,\n",
       " -313.3838195800781,\n",
       " -315.7227783203125,\n",
       " -314.0196228027344,\n",
       " -312.7817687988281,\n",
       " -315.0814514160156,\n",
       " -317.6918640136719,\n",
       " -315.71148681640625,\n",
       " -315.117431640625,\n",
       " -315.43231201171875,\n",
       " -314.801513671875,\n",
       " -312.2163391113281,\n",
       " -313.0943603515625,\n",
       " -316.42193603515625,\n",
       " -313.96337890625,\n",
       " -314.0693359375,\n",
       " -315.5865478515625,\n",
       " -314.70794677734375,\n",
       " -317.2431335449219,\n",
       " -318.5971374511719,\n",
       " -314.48089599609375,\n",
       " -316.6193542480469,\n",
       " -315.002685546875,\n",
       " -314.48675537109375,\n",
       " -317.62542724609375,\n",
       " -316.3898010253906,\n",
       " -314.3502197265625,\n",
       " -314.4000244140625,\n",
       " -317.1619873046875,\n",
       " -316.16522216796875,\n",
       " -316.63812255859375,\n",
       " -318.5671081542969,\n",
       " -320.5915832519531,\n",
       " -316.6919860839844,\n",
       " -315.9957275390625,\n",
       " -314.9566345214844,\n",
       " -315.4429626464844,\n",
       " -316.4410705566406,\n",
       " -316.1210632324219,\n",
       " -319.5445251464844,\n",
       " -316.15985107421875,\n",
       " -316.1104736328125,\n",
       " -316.97283935546875,\n",
       " -315.96685791015625,\n",
       " -317.35260009765625,\n",
       " -315.78424072265625,\n",
       " -315.7527770996094,\n",
       " -316.6977844238281,\n",
       " -317.3137512207031,\n",
       " -318.6604309082031]"
      ]
     },
     "execution_count": 225,
     "metadata": {},
     "output_type": "execute_result"
    }
   ],
   "source": [
    "losses"
   ]
  },
  {
   "cell_type": "code",
   "execution_count": 226,
   "metadata": {},
   "outputs": [
    {
     "data": {
      "text/plain": [
       "[<matplotlib.lines.Line2D at 0x1a4ca3cc940>]"
      ]
     },
     "execution_count": 226,
     "metadata": {},
     "output_type": "execute_result"
    },
    {
     "data": {
      "image/png": "[encoded data removed]",
      "text/plain": [
       "<Figure size 432x288 with 1 Axes>"
      ]
     },
     "metadata": {
      "needs_background": "light"
     },
     "output_type": "display_data"
    }
   ],
   "source": [
    "plt.plot(losses[:])"
   ]
  },
  {
   "cell_type": "code",
   "execution_count": 227,
   "metadata": {},
   "outputs": [
    {
     "data": {
      "text/plain": [
       "torch.Size([20, 50, 3])"
      ]
     },
     "execution_count": 227,
     "metadata": {},
     "output_type": "execute_result"
    }
   ],
   "source": [
    " torchsde.sdeint(sde, Θ_0, ts).shape"
   ]
  },
  {
   "cell_type": "code",
   "execution_count": 228,
   "metadata": {},
   "outputs": [
    {
     "data": {
      "text/plain": [
       "torch.Size([80, 3])"
      ]
     },
     "execution_count": 228,
     "metadata": {},
     "output_type": "execute_result"
    }
   ],
   "source": [
    "X_train.shape"
   ]
  },
  {
   "cell_type": "code",
   "execution_count": 229,
   "metadata": {},
   "outputs": [],
   "source": [
    "Θ_1 = torchsde.sdeint(sde, Θ_0, ts)[-1,...]"
   ]
  },
  {
   "cell_type": "code",
   "execution_count": 230,
   "metadata": {},
   "outputs": [
    {
     "data": {
      "text/plain": [
       "(array([ 3., 11.,  3., 10.,  7.,  9.,  4.,  2.,  0.,  1.]),\n",
       " array([3.7095358, 4.218853 , 4.7281704, 5.237488 , 5.746805 , 6.2561226,\n",
       "        6.76544  , 7.2747574, 7.784075 , 8.293392 , 8.80271  ],\n",
       "       dtype=float32),\n",
       " <a list of 10 Patch objects>)"
      ]
     },
     "execution_count": 230,
     "metadata": {},
     "output_type": "execute_result"
    },
    {
     "data": {
      "image/png": "[encoded data removed]",
      "text/plain": [
       "<Figure size 432x288 with 3 Axes>"
      ]
     },
     "metadata": {
      "needs_background": "light"
     },
     "output_type": "display_data"
    }
   ],
   "source": [
    "fig, (ax1,ax2,ax3) = plt.subplots(1,3)\n",
    "\n",
    "ax1.hist(Θ_1[:,0].detach().numpy())\n",
    "ax2.hist(Θ_1[:,1].detach().numpy())\n",
    "ax3.hist(Θ_1[:,2].detach().numpy())"
   ]
  },
  {
   "cell_type": "code",
   "execution_count": 231,
   "metadata": {},
   "outputs": [],
   "source": [
    "pred = torch.sigmoid(X_train.float().mm(Θ_1.T)).mean(axis=1)"
   ]
  },
  {
   "cell_type": "code",
   "execution_count": 232,
   "metadata": {},
   "outputs": [
    {
     "data": {
      "text/plain": [
       "tensor(0.9875)"
      ]
     },
     "execution_count": 232,
     "metadata": {},
     "output_type": "execute_result"
    }
   ],
   "source": [
    "((pred < 0.5).float() == y_train).float().mean()"
   ]
  },
  {
   "cell_type": "code",
   "execution_count": 233,
   "metadata": {},
   "outputs": [],
   "source": [
    "pred_test = torch.sigmoid(X_test.float().mm(Θ_1.T)).mean(axis=1)"
   ]
  },
  {
   "cell_type": "code",
   "execution_count": 234,
   "metadata": {},
   "outputs": [
    {
     "data": {
      "text/plain": [
       "tensor(1.)"
      ]
     },
     "execution_count": 234,
     "metadata": {},
     "output_type": "execute_result"
    }
   ],
   "source": [
    "((pred_test < 0.5).float() == y_test).float().mean()"
   ]
  },
  {
   "cell_type": "code",
   "execution_count": 235,
   "metadata": {},
   "outputs": [
    {
     "data": {
      "text/plain": [
       "tensor([-0.0085, -5.3738,  5.6694], grad_fn=<MeanBackward1>)"
      ]
     },
     "execution_count": 235,
     "metadata": {},
     "output_type": "execute_result"
    }
   ],
   "source": [
    "Θ_1.mean(axis=0)"
   ]
  },
  {
   "cell_type": "code",
   "execution_count": 236,
   "metadata": {},
   "outputs": [
    {
     "data": {
      "text/plain": [
       "(tensor([1, 0, 1, 0, 0, 0, 0, 0, 0, 0, 1, 1, 1, 0, 0, 0, 0, 0, 1, 1],\n",
       "        dtype=torch.int32),\n",
       " tensor([1, 0, 1, 0, 0, 0, 0, 0, 0, 0, 1, 1, 1, 0, 0, 0, 0, 0, 1, 1]))"
      ]
     },
     "execution_count": 236,
     "metadata": {},
     "output_type": "execute_result"
    }
   ],
   "source": [
    "y_test, (pred_test < 0.5).long()"
   ]
  },
  {
   "cell_type": "markdown",
   "metadata": {},
   "source": [
    "## MAP Baseline\n",
    "\n",
    "We run the point estimate approximation (Maximum a posteriori) to double check what the learned weights look like.  We get the  exact same training accuracy as with the controlled model and similarly large weights for the non bias weights. "
   ]
  },
  {
   "cell_type": "code",
   "execution_count": 239,
   "metadata": {},
   "outputs": [
    {
     "data": {
      "application/vnd.jupyter.widget-view+json": {
       "model_id": "dda5227a0d19437db15c82d0ec058b83",
       "version_major": 2,
       "version_minor": 0
      },
      "text/plain": [
       "  0%|          | 0/1000 [00:00<?, ?it/s]"
      ]
     },
     "metadata": {},
     "output_type": "display_data"
    },
    {
     "data": {
      "text/plain": [
       "(tensor(0.9875), tensor([[ 0.0000, -5.5265,  5.7897]], requires_grad=True))"
      ]
     },
     "execution_count": 239,
     "metadata": {},
     "output_type": "execute_result"
    }
   ],
   "source": [
    "Θ_map = torch.full((1, dim), 0.0, requires_grad=True)  \n",
    "optimizer_map = torch.optim.Adam([Θ_map], lr=0.05)\n",
    "#     optimizer = torch.optim.LBFGS(gpr.parameters(), lr=0.01)\n",
    "\n",
    "losses_map = []\n",
    "num_steps = 1000\n",
    "for i in tqdm(range(num_steps)):\n",
    "    optimizer.zero_grad()\n",
    "\n",
    "    if isinstance(optimizer_map, torch.optim.LBFGS):\n",
    "        def closure_map():\n",
    "            loss_map = log_likelihood_vmap()\n",
    "            optimizer_map.zero_grad()\n",
    "            loss_map.backward()\n",
    "            return loss\n",
    "\n",
    "        optimizer_map.step(closure_map)\n",
    "        losses_map.append(closure_map().item())\n",
    "    else:\n",
    "        loss_map = -(log_likelihood_vmap(Θ_map, (X_train).float(), (y_train).float()) + gaussian_prior(Θ_map))\n",
    "        optimizer_map.zero_grad()\n",
    "        loss_map.backward()\n",
    "\n",
    "        optimizer_map.step()\n",
    "        losses_map.append(loss.item())\n",
    "\n",
    "Θ_map\n",
    "pred_map = torch.sigmoid(X_train.float().mm(Θ_map.T)).mean(axis=1)\n",
    "((pred_map < 0.5).float() == y_train).float().mean(), Θ_map"
   ]
  },
  {
   "cell_type": "markdown",
   "metadata": {},
   "source": [
    "## Pyro Bayesian Logistic Regeression\n",
    "\n",
    "As a baseline we run pyro with SVI on this same example atm we get very different results which is a bit worrying.\n",
    "\n",
    "#### EDIT:\n",
    "\n",
    "I think results are actually in agreement what was happening is the priors in the pyro code where much more confident thus the smaller weights. I just tried changing the prior of this pyro model and the posterior is not changing much, this is a bit fishy maybe worth investigating. \n",
    "\n",
    "I think it might just be the case that this model is not very good."
   ]
  },
  {
   "cell_type": "code",
   "execution_count": 243,
   "metadata": {},
   "outputs": [],
   "source": [
    "import numpy as np\n",
    "import scipy.special as ssp\n",
    "import matplotlib.pyplot as plt\n",
    "\n",
    "import torch\n",
    "import torch.nn as nn\n",
    "import torch.distributions.constraints as constraints\n",
    "\n",
    "from torch.utils.data import DataLoader\n",
    "from torch.utils.data.sampler import SubsetRandomSampler\n",
    "\n",
    "import pyro\n",
    "import pyro.distributions as dist\n",
    "\n",
    "from pyro.infer import SVI, Trace_ELBO\n",
    "from pyro.optim import Adam, SGD\n",
    "\n",
    "pyro.enable_validation(True)\n",
    "torch.set_default_dtype(torch.double) # this was necessary on the CPU"
   ]
  },
  {
   "cell_type": "code",
   "execution_count": 244,
   "metadata": {},
   "outputs": [],
   "source": [
    "\n",
    "# these were adapted from the Pyro VAE tutorial\n",
    "\n",
    "def train(svi, train_loader, n_train):\n",
    "    # initialize loss accumulator\n",
    "    epoch_loss = 0.\n",
    "    # do a training epoch over each mini-batch x returned\n",
    "    # by the data loader\n",
    "    for _, xs in enumerate(train_loader):\n",
    "        # do ELBO gradient and accumulate loss\n",
    "        epoch_loss += svi.step(*xs)\n",
    "\n",
    "    # return epoch loss\n",
    "    total_epoch_loss_train = epoch_loss / n_train\n",
    "    return total_epoch_loss_train\n",
    "\n",
    "\n",
    "def evaluate(svi, test_loader, n_test):\n",
    "    # initialize loss accumulator\n",
    "    test_loss = 0.\n",
    "    # compute the loss over the entire test set\n",
    "    for _, xs in enumerate(test_loader):\n",
    "        # compute ELBO estimate and accumulate loss\n",
    "        test_loss += svi.evaluate_loss(*xs)\n",
    "\n",
    "    total_epoch_loss_test = test_loss / n_test\n",
    "    return total_epoch_loss_test\n",
    "\n",
    "\n",
    "def plot_llk(train_elbo, test_elbo, test_int):\n",
    "    plt.figure(figsize=(8, 6))\n",
    "\n",
    "    x = np.arange(len(train_elbo))\n",
    "\n",
    "    plt.plot(x, train_elbo, marker='o', label='Train ELBO')\n",
    "    plt.plot(x[::test_int], test_elbo, marker='o', label='Test ELBO')\n",
    "    plt.xlabel('Training Epoch')\n",
    "    plt.legend()\n",
    "    plt.show()"
   ]
  },
  {
   "cell_type": "code",
   "execution_count": 271,
   "metadata": {},
   "outputs": [],
   "source": [
    "class LogRegressionModel(nn.Module):\n",
    "    def __init__(self, p):\n",
    "        super(LogRegressionModel, self).__init__()\n",
    "        \n",
    "        self.p = p\n",
    "\n",
    "        # hyperparameters for normal priors\n",
    "        self.alpha_h_loc = torch.zeros(1, p)\n",
    "        self.alpha_h_scale = 0.0001 * torch.ones(1, p)\n",
    "        self.beta_h_loc = torch.zeros(1)\n",
    "        self.beta_h_scale =  0.0001 * torch.ones(1)\n",
    "        \n",
    "        # initial values of variational parameters\n",
    "        self.alpha_0 = np.zeros((1, p))\n",
    "        self.alpha_0_scale = np.ones((1, p))\n",
    "        self.beta_0 = np.zeros((1,))\n",
    "        self.beta_0_scale = np.ones((1,))\n",
    "\n",
    "    def model(self, x, y):\n",
    "        # sample from prior\n",
    "        a = pyro.sample(\n",
    "            \"weight\", dist.Normal(self.alpha_h_loc, self.alpha_h_scale, validate_args=True).independent(1)\n",
    "        ).float()\n",
    "        b = pyro.sample(\n",
    "            \"bias\", dist.Normal(self.beta_h_loc, self.beta_h_scale, validate_args=True).independent(1)\n",
    "        ).float()\n",
    "\n",
    "        with pyro.iarange(\"data\", x.size(0)):\n",
    "#             import pdb; pdb.set_trace()\n",
    "            model_logits = (torch.matmul(x, a.permute(1, 0)) + b).squeeze()\n",
    "            \n",
    "            pyro.sample(\n",
    "                \"obs\", \n",
    "                dist.Bernoulli(logits=model_logits, validate_args=True),\n",
    "                obs=y.squeeze()\n",
    "            )\n",
    "            \n",
    "    def guide(self, x, y):\n",
    "        # register variational parameters with pyro\n",
    "        alpha_loc = pyro.param(\"alpha_loc\", torch.tensor(self.alpha_0))\n",
    "        alpha_scale = pyro.param(\"alpha_scale\", torch.tensor(self.alpha_0_scale),\n",
    "                                 constraint=constraints.positive)\n",
    "        beta_loc = pyro.param(\"beta_loc\", torch.tensor(self.beta_0))\n",
    "        beta_scale = pyro.param(\"beta_scale\", torch.tensor(self.beta_0_scale),\n",
    "                                constraint=constraints.positive)\n",
    "\n",
    "        pyro.sample(\n",
    "            \"weight\", dist.Normal(alpha_loc, alpha_scale, validate_args=True).independent(1)\n",
    "        )\n",
    "        pyro.sample(\n",
    "            \"bias\", dist.Normal(beta_loc, beta_scale, validate_args=True).independent(1)\n",
    "        )\n",
    "    \n",
    "    \n",
    "    def guide_(self, x, y, N=100):\n",
    "        # register variational parameters with pyro\n",
    "        alpha_loc = pyro.param(\"alpha_loc\", torch.tensor(self.alpha_0))\n",
    "        alpha_scale = pyro.param(\"alpha_scale\", torch.tensor(self.alpha_0_scale),\n",
    "                                 constraint=constraints.positive)\n",
    "        beta_loc = pyro.param(\"beta_loc\", torch.tensor(self.beta_0))\n",
    "        beta_scale = pyro.param(\"beta_scale\", torch.tensor(self.beta_0_scale),\n",
    "                                constraint=constraints.positive)\n",
    "        w = []\n",
    "        b = []\n",
    "        for _ in range(N):\n",
    "            w.append(torch.tensor(pyro.sample(\n",
    "                \"weight\", dist.Normal(alpha_loc, alpha_scale, validate_args=True).independent(1)\n",
    "            )))\n",
    "            b.append(torch.tensor(pyro.sample(\n",
    "                \"bias\", dist.Normal(beta_loc, beta_scale, validate_args=True).independent(1)\n",
    "            )))\n",
    "#         import pdb;pdb.set_trace()\n",
    "        return torch.vstack(w), torch.vstack(b)"
   ]
  },
  {
   "cell_type": "code",
   "execution_count": 272,
   "metadata": {},
   "outputs": [],
   "source": [
    "\n",
    "pyro.clear_param_store()\n",
    "\n",
    "optim = Adam({'lr': 0.01})\n",
    "\n",
    "num_epochs = 1000\n",
    "batch_size = 50\n",
    "\n",
    "N = X.shape[0]\n",
    "p = 2\n",
    "\n",
    "n_train = X_train.shape[0]\n",
    "example_indices = np.random.permutation(N)\n",
    "n_test = N - n_train\n",
    "test_iter = 50"
   ]
  },
  {
   "cell_type": "code",
   "execution_count": 273,
   "metadata": {},
   "outputs": [
    {
     "name": "stdout",
     "output_type": "stream",
     "text": [
      "[epoch 000]  average training loss: 4307757.8929\n",
      "[epoch 050]  average training loss: 678705.3000\n",
      "[epoch 100]  average training loss: 419655.4972\n",
      "[epoch 150]  average training loss: 401932.9697\n",
      "[epoch 200]  average training loss: 137880.4543\n",
      "[epoch 250]  average training loss: 57477.0928\n",
      "[epoch 300]  average training loss: 258499.2346\n",
      "[epoch 350]  average training loss: 141683.1526\n",
      "[epoch 400]  average training loss: 354396.5545\n",
      "[epoch 450]  average training loss: 43376.1428\n",
      "[epoch 500]  average training loss: 118756.8878\n",
      "[epoch 550]  average training loss: 29912.4322\n",
      "[epoch 600]  average training loss: 77388.2544\n",
      "[epoch 650]  average training loss: 41499.0264\n",
      "[epoch 700]  average training loss: 23705.6059\n",
      "[epoch 750]  average training loss: 19178.1627\n",
      "[epoch 800]  average training loss: 35776.9991\n",
      "[epoch 850]  average training loss: 64063.3826\n",
      "[epoch 900]  average training loss: 14062.4600\n",
      "[epoch 950]  average training loss: 43191.2968\n"
     ]
    }
   ],
   "source": [
    "lr_model = LogRegressionModel(p=p)\n",
    "\n",
    "svi = SVI(\n",
    "    lr_model.model, lr_model.guide, optim,\n",
    "    loss=Trace_ELBO()\n",
    ")\n",
    "\n",
    "\n",
    "lr_dataset = torch.utils.data.TensorDataset(torch.tensor(X[:,1:]).float(), torch.tensor(y.reshape(-1,1)).float())\n",
    "\n",
    "data_loader_train = DataLoader(\n",
    "    dataset=lr_dataset, batch_size=batch_size, pin_memory=False,\n",
    "    sampler=SubsetRandomSampler(example_indices[:n_train]),\n",
    ")\n",
    "    \n",
    "data_loader_test = DataLoader(\n",
    "    dataset=lr_dataset, batch_size=batch_size, pin_memory=False,\n",
    "    sampler=SubsetRandomSampler(example_indices[n_train:]),\n",
    ")\n",
    "\n",
    "train_elbo = []\n",
    "test_elbo = []\n",
    "for epoch in range(num_epochs):\n",
    "    total_epoch_loss_train = train(svi, data_loader_train, n_train)\n",
    "    train_elbo.append(-total_epoch_loss_train)\n",
    "\n",
    "    if epoch % test_iter == 0:\n",
    "        print(\"[epoch %03d]  average training loss: %.4f\" % (epoch, total_epoch_loss_train))\n",
    "        # report test diagnostics\n",
    "        total_epoch_loss_test = evaluate(svi, data_loader_test, n_test)\n",
    "        test_elbo.append(-total_epoch_loss_test)"
   ]
  },
  {
   "cell_type": "code",
   "execution_count": 274,
   "metadata": {},
   "outputs": [
    {
     "data": {
      "image/png": "[encoded data removed]",
      "text/plain": [
       "<Figure size 576x432 with 1 Axes>"
      ]
     },
     "metadata": {
      "needs_background": "light"
     },
     "output_type": "display_data"
    }
   ],
   "source": [
    "plot_llk(train_elbo, test_elbo, test_iter)"
   ]
  },
  {
   "cell_type": "code",
   "execution_count": 277,
   "metadata": {},
   "outputs": [
    {
     "name": "stderr",
     "output_type": "stream",
     "text": [
      "<ipython-input-271-b4bf4e718388>:66: UserWarning: To copy construct from a tensor, it is recommended to use sourceTensor.clone().detach() or sourceTensor.clone().detach().requires_grad_(True), rather than torch.tensor(sourceTensor).\n",
      "  w.append(torch.tensor(pyro.sample(\n",
      "<ipython-input-271-b4bf4e718388>:69: UserWarning: To copy construct from a tensor, it is recommended to use sourceTensor.clone().detach() or sourceTensor.clone().detach().requires_grad_(True), rather than torch.tensor(sourceTensor).\n",
      "  b.append(torch.tensor(pyro.sample(\n"
     ]
    }
   ],
   "source": [
    "W, b = lr_model.guide_(X_train.float(), y_train.float())"
   ]
  },
  {
   "cell_type": "code",
   "execution_count": 278,
   "metadata": {},
   "outputs": [
    {
     "data": {
      "text/plain": [
       "(array([ 2.,  3.,  8., 21., 16., 21., 18.,  7.,  3.,  1.]),\n",
       " array([-0.27120512, -0.22377629, -0.17634746, -0.12891863, -0.0814898 ,\n",
       "        -0.03406097,  0.01336786,  0.06079669,  0.10822552,  0.15565435,\n",
       "         0.20308318]),\n",
       " <a list of 10 Patch objects>)"
      ]
     },
     "execution_count": 278,
     "metadata": {},
     "output_type": "execute_result"
    },
    {
     "data": {
      "image/png": "[encoded data removed]",
      "text/plain": [
       "<Figure size 432x288 with 3 Axes>"
      ]
     },
     "metadata": {
      "needs_background": "light"
     },
     "output_type": "display_data"
    }
   ],
   "source": [
    "fig, (ax1,ax2,ax3) = plt.subplots(1,3)\n",
    "\n",
    "# ax1.hist(Θ_1[:,0].detach().numpy())\n",
    "# ax2.hist(Θ_1[:,1].detach().numpy())\n",
    "# ax3.hist(Θ_1[:,2].detach().numpy())\n",
    "\n",
    "\n",
    "ax1.hist(b.detach().numpy(), color=\"red\")\n",
    "ax2.hist(W[:,0].detach().numpy(), color=\"red\")\n",
    "ax3.hist(W[:,1].detach().numpy(), color=\"red\")\n"
   ]
  },
  {
   "cell_type": "code",
   "execution_count": 279,
   "metadata": {},
   "outputs": [
    {
     "data": {
      "text/plain": [
       "(tensor(0.0137), tensor([-0.0140, -0.0393]))"
      ]
     },
     "execution_count": 279,
     "metadata": {},
     "output_type": "execute_result"
    }
   ],
   "source": [
    "b.mean(), W.mean(axis=0)"
   ]
  },
  {
   "cell_type": "code",
   "execution_count": null,
   "metadata": {},
   "outputs": [],
   "source": []
  }
 ],
 "metadata": {
  "kernelspec": {
   "display_name": "Python 3",
   "language": "python",
   "name": "python3"
  },
  "language_info": {
   "codemirror_mode": {
    "name": "ipython",
    "version": 3
   },
   "file_extension": ".py",
   "mimetype": "text/x-python",
   "name": "python",
   "nbconvert_exporter": "python",
   "pygments_lexer": "ipython3",
   "version": "3.8.5"
  }
 },
 "nbformat": 4,
 "nbformat_minor": 4
}
