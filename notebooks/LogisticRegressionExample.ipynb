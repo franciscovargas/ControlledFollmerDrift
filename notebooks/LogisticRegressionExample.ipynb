{
 "cells": [
  {
   "cell_type": "code",
   "execution_count": 190,
   "metadata": {},
   "outputs": [],
   "source": [
    "import torch\n",
    "import torch.nn.functional as F\n",
    "\n",
    "import torchsde\n",
    "\n",
    "import matplotlib.pyplot as plt\n",
    "\n",
    "import numpy as np\n",
    "\n",
    "from tqdm.notebook import tqdm\n",
    "\n",
    "from torch import _vmap_internals"
   ]
  },
  {
   "cell_type": "code",
   "execution_count": 18,
   "metadata": {},
   "outputs": [],
   "source": [
    "class Net(torch.nn.Module):\n",
    "\n",
    "    def __init__(self, input_dim=1):\n",
    "        super(Net, self).__init__()\n",
    "        # 1 input image channel, 6 output channels, 5x5 square convolution\n",
    "        # kernel\n",
    "        # an affine operation: y = Wx + b\n",
    "        self.input_dim = input_dim\n",
    "        self.fc1 = torch.nn.Linear(input_dim, 120)  # 5*5 from image dimension\n",
    "        self.fc2 = torch.nn.Linear(120, 84)\n",
    "        self.fc3 = torch.nn.Linear(84, input_dim)\n",
    "\n",
    "    def forward(self, x):\n",
    "        x = F.relu(self.fc1(x))\n",
    "        x = F.relu(self.fc2(x))\n",
    "        x = self.fc3(x)\n",
    "        return x\n",
    "\n",
    "\n",
    "net = Net()"
   ]
  },
  {
   "cell_type": "code",
   "execution_count": 79,
   "metadata": {},
   "outputs": [],
   "source": [
    "import torch\n",
    "\n",
    "batch_size, state_size, brownian_size = 32, 3, 2\n",
    "t_size = 20\n",
    "\n",
    "class SDE(torch.nn.Module):\n",
    "    noise_type = 'general'\n",
    "    sde_type = 'ito'\n",
    "\n",
    "    def __init__(self, state_size=1, brownian_size=1, batch_size=10, γ=1.0):\n",
    "        super().__init__()\n",
    "        \n",
    "        self.state_size = state_size\n",
    "        self.brownian_size = brownian_size\n",
    "        self.batch_size = batch_size\n",
    "\n",
    "        self.γ = torch.tensor(γ)\n",
    "        self.μ = Net(input_dim=state_size)\n",
    "        self.σ = lambda x: torch.sqrt(self.γ) * torch.eye(self.state_size, self.brownian_size).repeat(batch_size,1)\n",
    "\n",
    "    # Drift\n",
    "    def f(self, t, y):\n",
    "        return self.μ(y)  # shape (batch_size, state_size)\n",
    "\n",
    "    # Diffusion\n",
    "    def g(self, t, y):\n",
    "        σ = self.σ(y)\n",
    "#         print(σ.shape, y.shape, self.brownian_size)\n",
    "        return self.σ(y).view(self.batch_size, \n",
    "                              self.state_size, \n",
    "                              self.brownian_size)\n",
    "\n",
    "\n",
    "# sde = SDE(state_size, brownian_size, batch_size, 1)\n",
    "# y0 = torch.full((batch_size, state_size), 0.1)\n",
    "# ts = torch.linspace(0, 1, t_size)\n",
    "# Initial state y0, the SDE is solved over the interval [ts[0], ts[-1]].\n",
    "# ys will have shape (t_size, batch_size, state_size)\n",
    "# ys = torchsde.sdeint(sde, y0, ts)"
   ]
  },
  {
   "cell_type": "code",
   "execution_count": 197,
   "metadata": {},
   "outputs": [],
   "source": [
    "def log_g(Θ, ln_prior, ln_like, γ=1.0):\n",
    "    \"\"\"\n",
    "    g function in control objective\n",
    "    \n",
    "    g is the Radon-Nikodym derivtive between\n",
    "    the joint and N(0, γ I)\n",
    "    \"\"\"\n",
    "    normal_term = -0.5 * (Θ**2).sum(axis=1) / γ\n",
    "    return ln_prior(Θ) + ln_like(Θ) - normal_term\n",
    "\n",
    "def log_likelihood(Θ, X, y):\n",
    "    \"\"\"\n",
    "    Slow implementation of logistic log likleihood\n",
    "    as a function of the parameters\n",
    "    \"\"\"\n",
    "#     import pdb; pdb.set_trace()\n",
    "    logits = X.mm(Θ.T)\n",
    "    \n",
    "    pos_weights = torch.ones(logits.shape[0]*logits.shape[1])\n",
    "    loss = torch.nn.BCEWithLogitsLoss(pos_weight=pos_weights, reduction=\"sum\")\n",
    "    \n",
    "    # Should reimplement BCEWithLogitsLoss with logsumexp from scratch\n",
    "    # since this next line the .repeat is extremely inneficient\n",
    "    vector_loss = loss(logits.reshape(-1), y.reshape(-1,1).repeat(1, logits.shape[1]).reshape(-1))\n",
    "\n",
    "    return vector_loss / Θ.shape[0]\n",
    "\n",
    "def log_likelihood_vmap(Θ, X, y):\n",
    "    \"\"\"\n",
    "    Hoping this implementation is less buggy / faster\n",
    "    \n",
    "    still feels a bit slow.\n",
    "    \"\"\"\n",
    "#     import pdb; pdb.set_trace()\n",
    "    logits = X.mm(Θ.T)\n",
    "    \n",
    "    pos_weights = torch.ones(logits.shape[0])\n",
    "    loss = torch.nn.BCEWithLogitsLoss(pos_weight=pos_weights, reduction=\"sum\")\n",
    "    \n",
    "    loss_ = lambda x: loss(x, y)\n",
    "    \n",
    "    # Should reimplement BCEWithLogitsLoss with logsumexp from scratch\n",
    "    # since this next line the .repeat is extremely inneficient\n",
    "#     import pdb; pdb.set_trace()\n",
    "    batched_loss =  torch._vmap_internals.vmap(loss_)\n",
    "#     vector_loss = torch.vmap(loss_, logits).sum()\n",
    "#     import pdb; pdb.set_trace()\n",
    "    return batched_loss(logits.T).mean()\n",
    "\n",
    "def gaussian_prior(Θ, σ_w=0.9):\n",
    "    return -0.5 * (Θ**2).sum(axis=1) / σ_w\n",
    "\n",
    "def relative_entropy_control_cost(sde, Θ_0, X, y, ln_prior, ln_like, Δt=0.05, γ=1.0):\n",
    "    \"\"\"\n",
    "    Objective for the Hamilton-Bellman-Jacobi Follmer Sampler\n",
    "    \"\"\"\n",
    "    n = int(1.0 / Δt)\n",
    "    ts = torch.linspace(0, 1, n)\n",
    "    \n",
    "    ln_like_partial = lambda Θ: ln_like(Θ, X, y)\n",
    "    \n",
    "    Θs =  torchsde.sdeint(sde, Θ_0, ts)\n",
    "    μs = sde.f(ts, Θs)\n",
    "    ΘT = Θs[-1,:,:] \n",
    "    lng = log_g(ΘT, ln_prior, ln_like_partial, γ).mean()\n",
    "    girsanov_factor = (0.5 / γ) * ((μs**2).sum(axis=-1)).mean()\n",
    "    \n",
    "    return girsanov_factor - lng"
   ]
  },
  {
   "cell_type": "code",
   "execution_count": 186,
   "metadata": {},
   "outputs": [],
   "source": [
    "from sklearn.datasets import load_iris\n",
    "from sklearn.model_selection import train_test_split\n",
    "from sklearn.preprocessing import StandardScaler\n",
    "\n",
    "iris = load_iris()\n",
    "X = iris['data']\n",
    "y = iris['target']\n",
    "\n",
    "# Binary classification\n",
    "X = X[~(y==2)][:,[0,1]]\n",
    "y = y[~(y==2)]\n",
    "\n",
    "# dummy dims \n",
    "X = np.concatenate((torch.ones(X.shape[0],1), torch.tensor(X) ), axis=1)\n",
    "\n",
    "names = iris['target_names']\n",
    "feature_names = iris['feature_names']\n",
    "\n",
    "# Scale data to have mean 0 and variance 1 \n",
    "# which is importance for convergence of the neural network\n",
    "scaler = StandardScaler()\n",
    "X_scaled = scaler.fit_transform(X)\n",
    "\n",
    "# Split the data set into training and testing\n",
    "X_train, X_test, y_train, y_test = train_test_split(\n",
    "    X_scaled, y, test_size=0.2, random_state=2)\n",
    "\n",
    "\n",
    "X_train, X_test, y_train, y_test = torch.tensor(X_train), torch.tensor(X_test), torch.tensor(y_train), torch.tensor(y_test) "
   ]
  },
  {
   "cell_type": "code",
   "execution_count": 187,
   "metadata": {},
   "outputs": [
    {
     "data": {
      "image/png": "[encoded data removed]",
      "text/plain": [
       "<Figure size 1152x432 with 1 Axes>"
      ]
     },
     "metadata": {
      "needs_background": "light"
     },
     "output_type": "display_data"
    }
   ],
   "source": [
    "fig, ax1 = plt.subplots(1, 1, figsize=(16, 6))\n",
    "for target, target_name in enumerate(names[0:2]):\n",
    "    X_plot = X[y == target]\n",
    "    ax1.plot(X_plot[:, 1], X_plot[:, 2], \n",
    "             linestyle='none', \n",
    "             marker='o', \n",
    "             label=target_name)\n",
    "ax1.set_xlabel(feature_names[0])\n",
    "ax1.set_ylabel(feature_names[1])\n",
    "ax1.axis('equal')\n",
    "ax1.legend();\n"
   ]
  },
  {
   "cell_type": "code",
   "execution_count": 188,
   "metadata": {},
   "outputs": [],
   "source": [
    "t_size = 20\n",
    "dim = 3\n",
    "\n",
    "no_posterior_samples = 50\n",
    "\n",
    "sde = SDE(dim, dim, no_posterior_samples, 1.0)\n",
    "Θ_0 = torch.full((no_posterior_samples, dim), 0.1) * 0 # Θ_0 ~ δ_0\n",
    "# Initial state y0, the SDE is solved over the interval [ts[0], ts[-1]].\n",
    "# ys will have shape (t_size, batch_size, state_size)\n",
    "ys = torchsde.sdeint(sde, Θ_0, ts)"
   ]
  },
  {
   "cell_type": "code",
   "execution_count": 198,
   "metadata": {},
   "outputs": [
    {
     "data": {
      "text/plain": [
       "tensor(-73.7113, grad_fn=<SubBackward0>)"
      ]
     },
     "execution_count": 198,
     "metadata": {},
     "output_type": "execute_result"
    }
   ],
   "source": [
    "relative_entropy_control_cost(sde, Θ_0.float(), X_train.float(), y_train.float(), gaussian_prior, log_likelihood_vmap)"
   ]
  },
  {
   "cell_type": "code",
   "execution_count": 199,
   "metadata": {},
   "outputs": [
    {
     "name": "stderr",
     "output_type": "stream",
     "text": [
      "<ipython-input-79-8900b35f9791>:17: UserWarning: To copy construct from a tensor, it is recommended to use sourceTensor.clone().detach() or sourceTensor.clone().detach().requires_grad_(True), rather than torch.tensor(sourceTensor).\n",
      "  self.γ = torch.tensor(γ)\n"
     ]
    },
    {
     "data": {
      "application/vnd.jupyter.widget-view+json": {
       "model_id": "f3458fde8c1e4302ae95904a9679b35c",
       "version_major": 2,
       "version_minor": 0
      },
      "text/plain": [
       "  0%|          | 0/100 [00:00<?, ?it/s]"
      ]
     },
     "metadata": {},
     "output_type": "display_data"
    }
   ],
   "source": [
    "\n",
    "γ = torch.tensor(1.5)\n",
    "\n",
    "sde = SDE(dim, dim, no_posterior_samples  , γ=γ)\n",
    "optimizer = torch.optim.Adam(sde.μ.parameters(), lr=0.05)\n",
    "#     optimizer = torch.optim.LBFGS(gpr.parameters(), lr=0.01)\n",
    "losses = []\n",
    "num_steps = 100\n",
    "for i in tqdm(range(num_steps)):\n",
    "    optimizer.zero_grad()\n",
    "\n",
    "    if isinstance(optimizer, torch.optim.LBFGS):\n",
    "        def closure():\n",
    "            loss = relative_entropy_control_cost(\n",
    "                sde, Θ_0.float(),\n",
    "                X_train.float(), y_train.float(),\n",
    "                gaussian_prior, log_likelihood, γ=γ\n",
    "            )\n",
    "            optimizer.zero_grad()\n",
    "            loss.backward()\n",
    "            return loss\n",
    "\n",
    "        optimizer.step(closure)\n",
    "        losses.append(closure().item())\n",
    "    else:\n",
    "        loss = relative_entropy_control_cost(\n",
    "            sde, Θ_0.float(),\n",
    "            X_train.float(), y_train.float(),\n",
    "            gaussian_prior, log_likelihood, γ=γ\n",
    "        )\n",
    "        optimizer.zero_grad()\n",
    "        loss.backward()\n",
    "\n",
    "        optimizer.step()\n",
    "        losses.append(loss.item())"
   ]
  },
  {
   "cell_type": "code",
   "execution_count": 200,
   "metadata": {},
   "outputs": [
    {
     "data": {
      "text/plain": [
       "[-83.18810272216797,\n",
       " 6462.490234375,\n",
       " -127.7713851928711,\n",
       " -67.90473175048828,\n",
       " -71.03211975097656,\n",
       " -93.39411163330078,\n",
       " -68.6809310913086,\n",
       " -112.74694061279297,\n",
       " -137.52447509765625,\n",
       " -199.534423828125,\n",
       " -258.6856689453125,\n",
       " -378.0881652832031,\n",
       " -561.1829833984375,\n",
       " -943.5221557617188,\n",
       " 5830.51953125,\n",
       " -966.8297119140625,\n",
       " -593.740966796875,\n",
       " -382.625,\n",
       " -313.1337890625,\n",
       " -268.56842041015625,\n",
       " -239.6722412109375,\n",
       " -237.74913024902344,\n",
       " -172.4215545654297,\n",
       " -203.92576599121094,\n",
       " -180.6106719970703,\n",
       " -157.60659790039062,\n",
       " -165.9214630126953,\n",
       " -190.35824584960938,\n",
       " -192.28269958496094,\n",
       " -206.65426635742188,\n",
       " -232.9462127685547,\n",
       " -227.0182342529297,\n",
       " -284.8259582519531,\n",
       " -354.0434875488281,\n",
       " -509.5357971191406,\n",
       " -812.4512329101562,\n",
       " -1160.99609375,\n",
       " 1449.9150390625,\n",
       " -1397.1025390625,\n",
       " -1116.606689453125,\n",
       " -882.0943603515625,\n",
       " -804.7872924804688,\n",
       " -860.0865478515625,\n",
       " -960.5713500976562,\n",
       " -1199.0892333984375,\n",
       " -1333.2081298828125,\n",
       " -1506.1768798828125,\n",
       " -1017.3701171875,\n",
       " -1439.7064208984375,\n",
       " -1594.5181884765625,\n",
       " -1579.6884765625,\n",
       " -1590.063720703125,\n",
       " -1621.191162109375,\n",
       " -1730.3411865234375,\n",
       " -1801.000244140625,\n",
       " -1781.21240234375,\n",
       " -1802.138427734375,\n",
       " -1951.127197265625,\n",
       " -1977.775634765625,\n",
       " -1901.4876708984375,\n",
       " -1983.491455078125,\n",
       " -2053.402587890625,\n",
       " -2120.552734375,\n",
       " -2149.887451171875,\n",
       " -2172.61474609375,\n",
       " -2260.48828125,\n",
       " -2309.77392578125,\n",
       " -2318.813232421875,\n",
       " -2361.283935546875,\n",
       " -2376.15283203125,\n",
       " -2469.9365234375,\n",
       " -2453.6181640625,\n",
       " -2431.92626953125,\n",
       " -2478.53564453125,\n",
       " -2522.11572265625,\n",
       " -2566.3095703125,\n",
       " -2592.634521484375,\n",
       " -2575.85693359375,\n",
       " -2475.84814453125,\n",
       " -2637.72314453125,\n",
       " -2606.756103515625,\n",
       " -2561.2197265625,\n",
       " -2614.2587890625,\n",
       " -2688.185302734375,\n",
       " -2669.736328125,\n",
       " -2699.4423828125,\n",
       " -2711.6787109375,\n",
       " -2721.081787109375,\n",
       " -2716.29345703125,\n",
       " -2765.034912109375,\n",
       " -2656.517822265625,\n",
       " -2711.77734375,\n",
       " -2692.71435546875,\n",
       " -2812.816650390625,\n",
       " -2596.37548828125,\n",
       " -2685.465576171875,\n",
       " -2607.845947265625,\n",
       " -2728.85400390625,\n",
       " -2824.347900390625,\n",
       " -2570.2646484375]"
      ]
     },
     "execution_count": 200,
     "metadata": {},
     "output_type": "execute_result"
    }
   ],
   "source": [
    "losses"
   ]
  },
  {
   "cell_type": "code",
   "execution_count": 201,
   "metadata": {},
   "outputs": [
    {
     "data": {
      "text/plain": [
       "[<matplotlib.lines.Line2D at 0x147b7f86b20>]"
      ]
     },
     "execution_count": 201,
     "metadata": {},
     "output_type": "execute_result"
    },
    {
     "data": {
      "image/png": "[encoded data removed]",
      "text/plain": [
       "<Figure size 432x288 with 1 Axes>"
      ]
     },
     "metadata": {
      "needs_background": "light"
     },
     "output_type": "display_data"
    }
   ],
   "source": [
    "plt.plot(losses[20:])"
   ]
  },
  {
   "cell_type": "code",
   "execution_count": 202,
   "metadata": {},
   "outputs": [
    {
     "data": {
      "text/plain": [
       "torch.Size([20, 50, 3])"
      ]
     },
     "execution_count": 202,
     "metadata": {},
     "output_type": "execute_result"
    }
   ],
   "source": [
    " torchsde.sdeint(sde, Θ_0, ts).shape"
   ]
  },
  {
   "cell_type": "code",
   "execution_count": 203,
   "metadata": {},
   "outputs": [
    {
     "data": {
      "text/plain": [
       "torch.Size([80, 3])"
      ]
     },
     "execution_count": 203,
     "metadata": {},
     "output_type": "execute_result"
    }
   ],
   "source": [
    "X_train.shape"
   ]
  },
  {
   "cell_type": "code",
   "execution_count": 204,
   "metadata": {},
   "outputs": [],
   "source": [
    "Θ_1 = torchsde.sdeint(sde, Θ_0, ts)[-1,...]"
   ]
  },
  {
   "cell_type": "code",
   "execution_count": 205,
   "metadata": {},
   "outputs": [
    {
     "data": {
      "text/plain": [
       "(array([2., 3., 5., 8., 6., 5., 8., 5., 3., 5.]),\n",
       " array([38.43737 , 39.678345, 40.919315, 42.16029 , 43.401264, 44.642235,\n",
       "        45.88321 , 47.124184, 48.365158, 49.60613 , 50.847103],\n",
       "       dtype=float32),\n",
       " <a list of 10 Patch objects>)"
      ]
     },
     "execution_count": 205,
     "metadata": {},
     "output_type": "execute_result"
    },
    {
     "data": {
      "image/png": "[encoded data removed]",
      "text/plain": [
       "<Figure size 432x288 with 3 Axes>"
      ]
     },
     "metadata": {
      "needs_background": "light"
     },
     "output_type": "display_data"
    }
   ],
   "source": [
    "fig, (ax1,ax2,ax3) = plt.subplots(1,3)\n",
    "\n",
    "ax1.hist(Θ_1[:,0].detach().numpy())\n",
    "ax2.hist(Θ_1[:,1].detach().numpy())\n",
    "ax3.hist(Θ_1[:,2].detach().numpy())"
   ]
  },
  {
   "cell_type": "code",
   "execution_count": 176,
   "metadata": {},
   "outputs": [],
   "source": [
    "pred = torch.sigmoid(X_train.float().mm(Θ_1.T)).mean(axis=1)"
   ]
  },
  {
   "cell_type": "code",
   "execution_count": 177,
   "metadata": {},
   "outputs": [
    {
     "data": {
      "text/plain": [
       "tensor(0.9875)"
      ]
     },
     "execution_count": 177,
     "metadata": {},
     "output_type": "execute_result"
    }
   ],
   "source": [
    "((pred < 0.5).float() == y_train).float().mean()"
   ]
  },
  {
   "cell_type": "code",
   "execution_count": 178,
   "metadata": {},
   "outputs": [],
   "source": [
    "pred_test = torch.sigmoid(X_test.float().mm(Θ_1.T)).mean(axis=1)"
   ]
  },
  {
   "cell_type": "code",
   "execution_count": 179,
   "metadata": {},
   "outputs": [
    {
     "data": {
      "text/plain": [
       "tensor(1.)"
      ]
     },
     "execution_count": 179,
     "metadata": {},
     "output_type": "execute_result"
    }
   ],
   "source": [
    "((pred_test < 0.5).float() == y_test).float().mean()"
   ]
  },
  {
   "cell_type": "code",
   "execution_count": 138,
   "metadata": {},
   "outputs": [
    {
     "data": {
      "text/plain": [
       "(tensor([1, 0, 1, 0, 0, 0, 0, 0, 0, 0, 1, 1, 1, 0, 0, 0, 0, 0, 1, 1],\n",
       "        dtype=torch.int32),\n",
       " tensor([1, 0, 1, 0, 0, 0, 0, 0, 0, 0, 1, 1, 1, 0, 0, 0, 0, 0, 1, 1]))"
      ]
     },
     "execution_count": 138,
     "metadata": {},
     "output_type": "execute_result"
    }
   ],
   "source": [
    "y_test, (pred_test < 0.5).long()"
   ]
  },
  {
   "cell_type": "code",
   "execution_count": 186,
   "metadata": {},
   "outputs": [],
   "source": [
    "import numpy as np\n",
    "import scipy.special as ssp\n",
    "import matplotlib.pyplot as plt\n",
    "\n",
    "import torch\n",
    "import torch.nn as nn\n",
    "import torch.distributions.constraints as constraints\n",
    "\n",
    "from torch.utils.data import DataLoader\n",
    "from torch.utils.data.sampler import SubsetRandomSampler\n",
    "\n",
    "import pyro\n",
    "import pyro.distributions as dist\n",
    "\n",
    "from pyro.infer import SVI, Trace_ELBO\n",
    "from pyro.optim import Adam, SGD\n",
    "\n",
    "pyro.enable_validation(True)\n",
    "torch.set_default_dtype(torch.double) # this was necessary on the CPU"
   ]
  },
  {
   "cell_type": "code",
   "execution_count": 188,
   "metadata": {},
   "outputs": [],
   "source": [
    "\n",
    "# these were adapted from the Pyro VAE tutorial\n",
    "\n",
    "def train(svi, train_loader, n_train):\n",
    "    # initialize loss accumulator\n",
    "    epoch_loss = 0.\n",
    "    # do a training epoch over each mini-batch x returned\n",
    "    # by the data loader\n",
    "    for _, xs in enumerate(train_loader):\n",
    "        # do ELBO gradient and accumulate loss\n",
    "        epoch_loss += svi.step(*xs)\n",
    "\n",
    "    # return epoch loss\n",
    "    total_epoch_loss_train = epoch_loss / n_train\n",
    "    return total_epoch_loss_train\n",
    "\n",
    "\n",
    "def evaluate(svi, test_loader, n_test):\n",
    "    # initialize loss accumulator\n",
    "    test_loss = 0.\n",
    "    # compute the loss over the entire test set\n",
    "    for _, xs in enumerate(test_loader):\n",
    "        # compute ELBO estimate and accumulate loss\n",
    "        test_loss += svi.evaluate_loss(*xs)\n",
    "\n",
    "    total_epoch_loss_test = test_loss / n_test\n",
    "    return total_epoch_loss_test\n",
    "\n",
    "\n",
    "def plot_llk(train_elbo, test_elbo, test_int):\n",
    "    plt.figure(figsize=(8, 6))\n",
    "\n",
    "    x = np.arange(len(train_elbo))\n",
    "\n",
    "    plt.plot(x, train_elbo, marker='o', label='Train ELBO')\n",
    "    plt.plot(x[::test_int], test_elbo, marker='o', label='Test ELBO')\n",
    "    plt.xlabel('Training Epoch')\n",
    "    plt.legend()\n",
    "    plt.show()"
   ]
  },
  {
   "cell_type": "code",
   "execution_count": 299,
   "metadata": {},
   "outputs": [],
   "source": [
    "class LogRegressionModel(nn.Module):\n",
    "    def __init__(self, p):\n",
    "        super(LogRegressionModel, self).__init__()\n",
    "        \n",
    "        self.p = p\n",
    "\n",
    "        # hyperparameters for normal priors\n",
    "        self.alpha_h_loc = torch.zeros(1, p)\n",
    "        self.alpha_h_scale = 10.0 * torch.ones(1, p)\n",
    "        self.beta_h_loc = torch.zeros(1)\n",
    "        self.beta_h_scale = 10.0 * torch.ones(1)\n",
    "        \n",
    "        # initial values of variational parameters\n",
    "        self.alpha_0 = np.zeros((1, p))\n",
    "        self.alpha_0_scale = np.ones((1, p))\n",
    "        self.beta_0 = np.zeros((1,))\n",
    "        self.beta_0_scale = np.ones((1,))\n",
    "\n",
    "    def model(self, x, y):\n",
    "        # sample from prior\n",
    "        a = pyro.sample(\n",
    "            \"weight\", dist.Normal(self.alpha_h_loc, self.alpha_h_scale, validate_args=True).independent(1)\n",
    "        ).float()\n",
    "        b = pyro.sample(\n",
    "            \"bias\", dist.Normal(self.beta_h_loc, self.beta_h_scale, validate_args=True).independent(1)\n",
    "        ).float()\n",
    "\n",
    "        with pyro.iarange(\"data\", x.size(0)):\n",
    "#             import pdb; pdb.set_trace()\n",
    "            model_logits = (torch.matmul(x, a.permute(1, 0)) + b).squeeze()\n",
    "            \n",
    "            pyro.sample(\n",
    "                \"obs\", \n",
    "                dist.Bernoulli(logits=model_logits, validate_args=True),\n",
    "                obs=y.squeeze()\n",
    "            )\n",
    "            \n",
    "    def guide(self, x, y):\n",
    "        # register variational parameters with pyro\n",
    "        alpha_loc = pyro.param(\"alpha_loc\", torch.tensor(self.alpha_0))\n",
    "        alpha_scale = pyro.param(\"alpha_scale\", torch.tensor(self.alpha_0_scale),\n",
    "                                 constraint=constraints.positive)\n",
    "        beta_loc = pyro.param(\"beta_loc\", torch.tensor(self.beta_0))\n",
    "        beta_scale = pyro.param(\"beta_scale\", torch.tensor(self.beta_0_scale),\n",
    "                                constraint=constraints.positive)\n",
    "\n",
    "        pyro.sample(\n",
    "            \"weight\", dist.Normal(alpha_loc, alpha_scale, validate_args=True).independent(1)\n",
    "        )\n",
    "        pyro.sample(\n",
    "            \"bias\", dist.Normal(beta_loc, beta_scale, validate_args=True).independent(1)\n",
    "        )\n",
    "    \n",
    "    \n",
    "    def guide_(self, x, y, N=100):\n",
    "        # register variational parameters with pyro\n",
    "        alpha_loc = pyro.param(\"alpha_loc\", torch.tensor(self.alpha_0))\n",
    "        alpha_scale = pyro.param(\"alpha_scale\", torch.tensor(self.alpha_0_scale),\n",
    "                                 constraint=constraints.positive)\n",
    "        beta_loc = pyro.param(\"beta_loc\", torch.tensor(self.beta_0))\n",
    "        beta_scale = pyro.param(\"beta_scale\", torch.tensor(self.beta_0_scale),\n",
    "                                constraint=constraints.positive)\n",
    "        w = []\n",
    "        b = []\n",
    "        for _ in range(N):\n",
    "            w.append(torch.tensor(pyro.sample(\n",
    "                \"weight\", dist.Normal(alpha_loc, alpha_scale, validate_args=True).independent(1)\n",
    "            )))\n",
    "            b.append(torch.tensor(pyro.sample(\n",
    "                \"bias\", dist.Normal(beta_loc, beta_scale, validate_args=True).independent(1)\n",
    "            )))\n",
    "#         import pdb;pdb.set_trace()\n",
    "        return torch.vstack(w), torch.vstack(b)"
   ]
  },
  {
   "cell_type": "code",
   "execution_count": 306,
   "metadata": {},
   "outputs": [],
   "source": [
    "\n",
    "pyro.clear_param_store()\n",
    "\n",
    "optim = Adam({'lr': 0.01})\n",
    "\n",
    "num_epochs = 1000\n",
    "batch_size = 50\n",
    "\n",
    "N = X.shape[0]\n",
    "p = 2\n",
    "\n",
    "n_train = X_train.shape[0]\n",
    "example_indices = np.random.permutation(N)\n",
    "n_test = N - n_train\n",
    "test_iter = 50"
   ]
  },
  {
   "cell_type": "code",
   "execution_count": 311,
   "metadata": {},
   "outputs": [
    {
     "name": "stdout",
     "output_type": "stream",
     "text": [
      "[epoch 000]  average training loss: 5.6590\n",
      "[epoch 050]  average training loss: 1.4881\n",
      "[epoch 100]  average training loss: 1.1096\n",
      "[epoch 150]  average training loss: 1.0867\n",
      "[epoch 200]  average training loss: 1.0540\n",
      "[epoch 250]  average training loss: 0.8960\n",
      "[epoch 300]  average training loss: 0.8224\n",
      "[epoch 350]  average training loss: 0.7685\n",
      "[epoch 400]  average training loss: 0.7541\n",
      "[epoch 450]  average training loss: 0.7630\n",
      "[epoch 500]  average training loss: 0.6538\n",
      "[epoch 550]  average training loss: 0.5504\n",
      "[epoch 600]  average training loss: 0.6494\n",
      "[epoch 650]  average training loss: 0.5768\n",
      "[epoch 700]  average training loss: 0.5884\n",
      "[epoch 750]  average training loss: 0.5480\n",
      "[epoch 800]  average training loss: 0.6200\n",
      "[epoch 850]  average training loss: 0.5894\n",
      "[epoch 900]  average training loss: 0.5532\n",
      "[epoch 950]  average training loss: 0.5354\n"
     ]
    }
   ],
   "source": [
    "lr_model = LogRegressionModel(p=p)\n",
    "\n",
    "svi = SVI(\n",
    "    lr_model.model, lr_model.guide, optim,\n",
    "    loss=Trace_ELBO()\n",
    ")\n",
    "\n",
    "\n",
    "lr_dataset = torch.utils.data.TensorDataset(torch.tensor(X[:,1:]).float(), torch.tensor(y.reshape(-1,1)).float())\n",
    "\n",
    "data_loader_train = DataLoader(\n",
    "    dataset=lr_dataset, batch_size=batch_size, pin_memory=False,\n",
    "    sampler=SubsetRandomSampler(example_indices[:n_train]),\n",
    ")\n",
    "    \n",
    "data_loader_test = DataLoader(\n",
    "    dataset=lr_dataset, batch_size=batch_size, pin_memory=False,\n",
    "    sampler=SubsetRandomSampler(example_indices[n_train:]),\n",
    ")\n",
    "\n",
    "train_elbo = []\n",
    "test_elbo = []\n",
    "for epoch in range(num_epochs):\n",
    "    total_epoch_loss_train = train(svi, data_loader_train, n_train)\n",
    "    train_elbo.append(-total_epoch_loss_train)\n",
    "\n",
    "    if epoch % test_iter == 0:\n",
    "        print(\"[epoch %03d]  average training loss: %.4f\" % (epoch, total_epoch_loss_train))\n",
    "        # report test diagnostics\n",
    "        total_epoch_loss_test = evaluate(svi, data_loader_test, n_test)\n",
    "        test_elbo.append(-total_epoch_loss_test)"
   ]
  },
  {
   "cell_type": "code",
   "execution_count": 312,
   "metadata": {},
   "outputs": [
    {
     "data": {
      "image/png": "[encoded data removed]",
      "text/plain": [
       "<Figure size 576x432 with 1 Axes>"
      ]
     },
     "metadata": {
      "needs_background": "light"
     },
     "output_type": "display_data"
    }
   ],
   "source": [
    "plot_llk(train_elbo, test_elbo, test_iter)"
   ]
  },
  {
   "cell_type": "code",
   "execution_count": 313,
   "metadata": {
    "collapsed": true
   },
   "outputs": [
    {
     "name": "stderr",
     "output_type": "stream",
     "text": [
      "<ipython-input-299-bef7a2779544>:66: UserWarning: To copy construct from a tensor, it is recommended to use sourceTensor.clone().detach() or sourceTensor.clone().detach().requires_grad_(True), rather than torch.tensor(sourceTensor).\n",
      "  w.append(torch.tensor(pyro.sample(\n",
      "<ipython-input-299-bef7a2779544>:69: UserWarning: To copy construct from a tensor, it is recommended to use sourceTensor.clone().detach() or sourceTensor.clone().detach().requires_grad_(True), rather than torch.tensor(sourceTensor).\n",
      "  b.append(torch.tensor(pyro.sample(\n"
     ]
    }
   ],
   "source": [
    "W, b = lr_model.guide_(X_train.float(), y_train.float())"
   ]
  },
  {
   "cell_type": "code",
   "execution_count": 323,
   "metadata": {},
   "outputs": [
    {
     "data": {
      "text/plain": [
       "(array([ 1.,  2.,  4., 11., 15., 14., 16., 16.,  8., 13.]),\n",
       " array([-2.84416019, -2.79101602, -2.73787185, -2.68472768, -2.63158351,\n",
       "        -2.57843934, -2.52529517, -2.472151  , -2.41900683, -2.36586266,\n",
       "        -2.31271849]),\n",
       " <a list of 10 Patch objects>)"
      ]
     },
     "execution_count": 323,
     "metadata": {},
     "output_type": "execute_result"
    },
    {
     "data": {
      "image/png": "[encoded data removed]",
      "text/plain": [
       "<Figure size 432x288 with 3 Axes>"
      ]
     },
     "metadata": {
      "needs_background": "light"
     },
     "output_type": "display_data"
    }
   ],
   "source": [
    "fig, (ax1,ax2,ax3) = plt.subplots(1,3)\n",
    "\n",
    "ax1.hist(Θ_1[:,0].detach().numpy())\n",
    "ax2.hist(Θ_1[:,1].detach().numpy())\n",
    "ax3.hist(Θ_1[:,2].detach().numpy())\n",
    "\n",
    "\n",
    "ax1.hist(b.detach().numpy(), color=\"red\")\n",
    "ax2.hist(W[:,0].detach().numpy(), color=\"red\")\n",
    "ax3.hist(W[:,1].detach().numpy(), color=\"red\")\n"
   ]
  },
  {
   "cell_type": "code",
   "execution_count": 324,
   "metadata": {},
   "outputs": [
    {
     "data": {
      "text/plain": [
       "tensor([[  3.3981, -55.9595,  59.3626],\n",
       "        [  1.8371, -55.8780,  59.1178],\n",
       "        [  2.7925, -50.0974,  53.8550],\n",
       "        [  1.5343, -46.5838,  49.2708],\n",
       "        [  2.6799, -54.2140,  57.3831],\n",
       "        [  3.5487, -49.8660,  53.2450],\n",
       "        [  1.6985, -53.9561,  57.2794],\n",
       "        [  2.8306, -48.1679,  51.1536],\n",
       "        [  1.0807, -58.4377,  61.1965],\n",
       "        [  1.6990, -50.5811,  53.6789],\n",
       "        [  2.2678, -51.0029,  53.2882],\n",
       "        [  1.6744, -44.7228,  48.7432],\n",
       "        [  1.6803, -50.8084,  53.0059],\n",
       "        [  2.3169, -48.4102,  51.6702],\n",
       "        [  1.5201, -52.4942,  55.5914],\n",
       "        [  2.5354, -41.9524,  45.2286],\n",
       "        [  3.1206, -50.9975,  55.5756],\n",
       "        [  1.6528, -51.3683,  54.4581],\n",
       "        [  3.2940, -51.9834,  55.0708],\n",
       "        [  1.4057, -56.9473,  61.0974],\n",
       "        [  2.1271, -50.4414,  54.4912],\n",
       "        [  3.4731, -47.9747,  51.4734],\n",
       "        [  3.4381, -44.3239,  47.9220],\n",
       "        [  2.0770, -52.6595,  55.8253],\n",
       "        [  2.7811, -48.1465,  51.0208],\n",
       "        [  1.5039, -45.5635,  48.9399],\n",
       "        [  1.8744, -49.7035,  50.6024],\n",
       "        [  3.0162, -50.2315,  52.7299],\n",
       "        [  2.8928, -46.3253,  48.9619],\n",
       "        [  1.4981, -55.4911,  58.1158],\n",
       "        [  2.2548, -55.1098,  58.6483],\n",
       "        [  1.8934, -50.7410,  53.1480],\n",
       "        [  2.4173, -50.2672,  53.4914],\n",
       "        [  2.8043, -58.3023,  61.7846],\n",
       "        [  2.0999, -43.5451,  46.6899],\n",
       "        [  1.3757, -47.1182,  50.0222],\n",
       "        [  2.3755, -53.4010,  56.5315],\n",
       "        [  1.3173, -51.0698,  54.0092],\n",
       "        [  0.7627, -59.5867,  61.2579],\n",
       "        [  2.6874, -52.9787,  55.4914],\n",
       "        [  3.0059, -49.2665,  52.7723],\n",
       "        [  0.9567, -62.5144,  66.9836],\n",
       "        [  3.6373, -52.9895,  57.1435],\n",
       "        [  2.6761, -52.4658,  55.2474],\n",
       "        [  2.7558, -48.7596,  52.3605],\n",
       "        [  4.0565, -48.9111,  51.1156],\n",
       "        [  2.0781, -49.4227,  52.5546],\n",
       "        [  1.8034, -48.3234,  51.0045],\n",
       "        [  3.5313, -44.3423,  47.8255],\n",
       "        [  1.4360, -48.2462,  50.0060],\n",
       "        [  2.4874, -50.4262,  53.7322],\n",
       "        [  3.7411, -46.5574,  49.3565],\n",
       "        [  0.9498, -50.9290,  53.5388],\n",
       "        [  1.5235, -48.1685,  50.6886],\n",
       "        [  2.7641, -44.5847,  47.7201],\n",
       "        [  2.6254, -46.9002,  50.7778],\n",
       "        [  1.6269, -48.4365,  50.8512],\n",
       "        [  1.8668, -51.7576,  54.2625],\n",
       "        [  2.9550, -48.0479,  50.7139],\n",
       "        [  2.2810, -49.7169,  52.8757],\n",
       "        [  4.0171, -48.1751,  53.2736],\n",
       "        [  0.9719, -53.1057,  55.2534],\n",
       "        [  1.5944, -52.4875,  56.1649],\n",
       "        [  1.1143, -54.0517,  55.4979],\n",
       "        [  4.0934, -55.2559,  59.0966],\n",
       "        [  2.0979, -52.7564,  57.1409],\n",
       "        [  2.2662, -52.5728,  55.2779],\n",
       "        [  2.3415, -48.0602,  51.2067],\n",
       "        [  2.5364, -52.1319,  55.0083],\n",
       "        [  0.4917, -62.2425,  65.1910],\n",
       "        [  2.3503, -52.5338,  55.3937],\n",
       "        [  1.7162, -56.7907,  58.9831],\n",
       "        [  1.5768, -46.5968,  48.7833],\n",
       "        [  4.1155, -45.8524,  48.5410],\n",
       "        [  1.8760, -51.7139,  55.8482],\n",
       "        [  1.1251, -49.9594,  53.6823],\n",
       "        [  2.8250, -53.0636,  55.2192],\n",
       "        [  1.8939, -52.8886,  56.7407],\n",
       "        [  1.4782, -58.3814,  62.8927],\n",
       "        [  1.0251, -53.0770,  55.3255],\n",
       "        [  2.9165, -48.2410,  50.3224],\n",
       "        [  1.3967, -52.5404,  55.3416],\n",
       "        [  2.9791, -47.7581,  51.1663],\n",
       "        [  2.8003, -46.3439,  49.6816],\n",
       "        [  2.4076, -52.3021,  56.2336],\n",
       "        [  1.3391, -51.6643,  54.6422],\n",
       "        [  3.0496, -48.2953,  51.0452],\n",
       "        [  2.3923, -50.3216,  53.1641],\n",
       "        [  2.7987, -54.0964,  57.4151],\n",
       "        [  1.3526, -46.8497,  49.2048],\n",
       "        [  3.7497, -46.5093,  50.1768],\n",
       "        [  1.8047, -49.4407,  50.9701],\n",
       "        [  2.7052, -44.2769,  46.4677],\n",
       "        [  1.8990, -50.4530,  54.6538],\n",
       "        [  2.5526, -47.9597,  49.4681],\n",
       "        [  0.9730, -54.1162,  56.3203],\n",
       "        [  2.9616, -52.5063,  55.5003],\n",
       "        [  1.2093, -48.2289,  49.9378],\n",
       "        [  2.4037, -50.4864,  54.5762],\n",
       "        [  2.6685, -44.9575,  48.1749]], dtype=torch.float32,\n",
       "       grad_fn=<SelectBackward>)"
      ]
     },
     "execution_count": 324,
     "metadata": {},
     "output_type": "execute_result"
    }
   ],
   "source": [
    "Θ_1"
   ]
  },
  {
   "cell_type": "code",
   "execution_count": null,
   "metadata": {},
   "outputs": [],
   "source": []
  }
 ],
 "metadata": {
  "kernelspec": {
   "display_name": "Python 3",
   "language": "python",
   "name": "python3"
  },
  "language_info": {
   "codemirror_mode": {
    "name": "ipython",
    "version": 3
   },
   "file_extension": ".py",
   "mimetype": "text/x-python",
   "name": "python",
   "nbconvert_exporter": "python",
   "pygments_lexer": "ipython3",
   "version": "3.8.5"
  }
 },
 "nbformat": 4,
 "nbformat_minor": 4
}
