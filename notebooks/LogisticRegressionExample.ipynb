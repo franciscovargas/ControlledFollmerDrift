{
 "cells": [
  {
   "cell_type": "code",
   "execution_count": 105,
   "metadata": {},
   "outputs": [],
   "source": [
    "import torch\n",
    "import torch.nn.functional as F\n",
    "\n",
    "import torchsde\n",
    "\n",
    "import matplotlib.pyplot as plt\n",
    "\n",
    "import numpy as np\n",
    "\n",
    "from tqdm.notebook import tqdm"
   ]
  },
  {
   "cell_type": "code",
   "execution_count": 32,
   "metadata": {},
   "outputs": [],
   "source": [
    "class Net(torch.nn.Module):\n",
    "\n",
    "    def __init__(self, input_dim=1):\n",
    "        super(Net, self).__init__()\n",
    "        # 1 input image channel, 6 output channels, 5x5 square convolution\n",
    "        # kernel\n",
    "        # an affine operation: y = Wx + b\n",
    "        self.input_dim = input_dim\n",
    "        self.fc1 = torch.nn.Linear(input_dim, 120)  # 5*5 from image dimension\n",
    "        self.fc2 = torch.nn.Linear(120, 84)\n",
    "        self.fc3 = torch.nn.Linear(84, input_dim)\n",
    "\n",
    "    def forward(self, x):\n",
    "        x = F.relu(self.fc1(x))\n",
    "        x = F.relu(self.fc2(x))\n",
    "        x = self.fc3(x)\n",
    "        return x\n",
    "\n",
    "\n",
    "net = Net()"
   ]
  },
  {
   "cell_type": "code",
   "execution_count": 93,
   "metadata": {},
   "outputs": [],
   "source": [
    "import torch\n",
    "\n",
    "batch_size, state_size, brownian_size = 32, 3, 2\n",
    "t_size = 20\n",
    "\n",
    "class SDE(torch.nn.Module):\n",
    "    noise_type = 'general'\n",
    "    sde_type = 'ito'\n",
    "\n",
    "    def __init__(self, state_size=1, brownian_size=1, batch_size=10, γ=1.0):\n",
    "        super().__init__()\n",
    "        \n",
    "        self.state_size = state_size\n",
    "        self.brownian_size = brownian_size\n",
    "        self.batch_size = batch_size\n",
    "\n",
    "        self.γ = torch.tensor(γ)\n",
    "        self.μ = Net(input_dim=state_size)\n",
    "        self.σ = lambda x: self.γ * torch.eye(self.state_size, self.brownian_size).repeat(batch_size,1)\n",
    "\n",
    "    # Drift\n",
    "    def f(self, t, y):\n",
    "        return self.μ(y)  # shape (batch_size, state_size)\n",
    "\n",
    "    # Diffusion\n",
    "    def g(self, t, y):\n",
    "        σ = self.σ(y)\n",
    "#         print(σ.shape, y.shape, self.brownian_size)\n",
    "        return self.σ(y).view(self.batch_size, \n",
    "                              self.state_size, \n",
    "                              self.brownian_size)\n",
    "\n",
    "\n",
    "# sde = SDE(state_size, brownian_size, batch_size, 1)\n",
    "# y0 = torch.full((batch_size, state_size), 0.1)\n",
    "# ts = torch.linspace(0, 1, t_size)\n",
    "# Initial state y0, the SDE is solved over the interval [ts[0], ts[-1]].\n",
    "# ys will have shape (t_size, batch_size, state_size)\n",
    "# ys = torchsde.sdeint(sde, y0, ts)"
   ]
  },
  {
   "cell_type": "code",
   "execution_count": 144,
   "metadata": {},
   "outputs": [],
   "source": [
    "def log_g(Θ, ln_prior, ln_like, γ=1.0):\n",
    "    \"\"\"\n",
    "    g function in control objective\n",
    "    \n",
    "    g is the Radon-Nikodym derivtive between\n",
    "    the joint and N(0, γ I)\n",
    "    \"\"\"\n",
    "    normal_term = -0.5 * (Θ**2).sum(axis=1) / γ\n",
    "    return ln_prior(Θ) + ln_like(Θ) - normal_term\n",
    "\n",
    "def log_likelihood(Θ, X, y):\n",
    "#     import pdb; pdb.set_trace()\n",
    "    logits = X.mm(Θ.T)\n",
    "    \n",
    "    pos_weights = torch.ones(logits.shape[0]*logits.shape[1])\n",
    "    loss = torch.nn.BCEWithLogitsLoss(pos_weight=pos_weights, reduction=\"sum\")\n",
    "    vector_loss = loss(logits.reshape(-1), y.reshape(-1,1).repeat(1, logits.shape[1]).reshape(-1))\n",
    "    return vector_loss / Θ.shape[0]\n",
    "\n",
    "def gaussian_prior(Θ, σ_w=0.9):\n",
    "    return -0.5 * (Θ**2).sum(axis=1) / σ_w\n",
    "\n",
    "def relative_entropy_control_cost(sde, Θ_0, X, y, ln_prior, ln_like, Δt=0.05, γ=1.0):\n",
    "    \"\"\"\n",
    "    Objective for the Hamilton-Bellman-Jacobi Follmer Sampler\n",
    "    \"\"\"\n",
    "    n = int(1.0 / Δt)\n",
    "    ts = torch.linspace(0, 1, n)\n",
    "    \n",
    "    ln_like_partial = lambda Θ: log_likelihood(Θ, X, y)\n",
    "    \n",
    "    Θs =  torchsde.sdeint(sde, Θ_0, ts)\n",
    "    μs = sde.f(ts, Θs)\n",
    "    ΘT = Θs[-1,:,:]\n",
    "    lng = log_g(ΘT, ln_prior, ln_like_partial, γ).mean()\n",
    "    girsanov_factor = 0.5 * ((μs**2).sum(axis=-1)).mean()\n",
    "    \n",
    "    return girsanov_factor - lng"
   ]
  },
  {
   "cell_type": "code",
   "execution_count": 52,
   "metadata": {},
   "outputs": [],
   "source": [
    "from sklearn.datasets import load_iris\n",
    "from sklearn.model_selection import train_test_split\n",
    "from sklearn.preprocessing import StandardScaler\n",
    "\n",
    "iris = load_iris()\n",
    "X = iris['data']\n",
    "y = iris['target']\n",
    "\n",
    "# Binary classification\n",
    "X = X[~(y==2)][:,[0,1]]\n",
    "y = y[~(y==2)]\n",
    "\n",
    "# dummy dims \n",
    "X = np.concatenate((torch.ones(X.shape[0],1), torch.tensor(X) ), axis=1)\n",
    "\n",
    "names = iris['target_names']\n",
    "feature_names = iris['feature_names']\n",
    "\n",
    "# Scale data to have mean 0 and variance 1 \n",
    "# which is importance for convergence of the neural network\n",
    "scaler = StandardScaler()\n",
    "X_scaled = scaler.fit_transform(X)\n",
    "\n",
    "# Split the data set into training and testing\n",
    "X_train, X_test, y_train, y_test = train_test_split(\n",
    "    X_scaled, y, test_size=0.2, random_state=2)\n",
    "\n",
    "\n",
    "X_train, X_test, y_train, y_test = torch.tensor(X_train), torch.tensor(X_test), torch.tensor(y_train), torch.tensor(y_test) "
   ]
  },
  {
   "cell_type": "code",
   "execution_count": 53,
   "metadata": {},
   "outputs": [
    {
     "data": {
      "image/png": "[encoded data removed]",
      "text/plain": [
       "<Figure size 1152x432 with 1 Axes>"
      ]
     },
     "metadata": {
      "needs_background": "light"
     },
     "output_type": "display_data"
    }
   ],
   "source": [
    "fig, ax1 = plt.subplots(1, 1, figsize=(16, 6))\n",
    "for target, target_name in enumerate(names[0:2]):\n",
    "    X_plot = X[y == target]\n",
    "    ax1.plot(X_plot[:, 1], X_plot[:, 2], \n",
    "             linestyle='none', \n",
    "             marker='o', \n",
    "             label=target_name)\n",
    "ax1.set_xlabel(feature_names[0])\n",
    "ax1.set_ylabel(feature_names[1])\n",
    "ax1.axis('equal')\n",
    "ax1.legend();\n"
   ]
  },
  {
   "cell_type": "code",
   "execution_count": 137,
   "metadata": {},
   "outputs": [],
   "source": [
    "t_size = 20\n",
    "dim = 3\n",
    "\n",
    "sde = SDE(dim, dim, X.shape[0], 1)\n",
    "Θ_0 = torch.full((X.shape[0], dim), 0.1) * 0 # Θ_0 ~ δ_0\n",
    "# Initial state y0, the SDE is solved over the interval [ts[0], ts[-1]].\n",
    "# ys will have shape (t_size, batch_size, state_size)\n",
    "ys = torchsde.sdeint(sde, Θ_0, ts)"
   ]
  },
  {
   "cell_type": "code",
   "execution_count": 145,
   "metadata": {},
   "outputs": [
    {
     "data": {
      "text/plain": [
       "tensor(-136.7972, grad_fn=<SubBackward0>)"
      ]
     },
     "execution_count": 145,
     "metadata": {},
     "output_type": "execute_result"
    }
   ],
   "source": [
    "relative_entropy_control_cost(sde, Θ_0.float(), X_train.float(), y_train.float(), gaussian_prior, log_likelihood)"
   ]
  },
  {
   "cell_type": "code",
   "execution_count": 148,
   "metadata": {},
   "outputs": [
    {
     "data": {
      "application/vnd.jupyter.widget-view+json": {
       "model_id": "5cbc163930ea4127bc0ec865ee5f1ab5",
       "version_major": 2,
       "version_minor": 0
      },
      "text/plain": [
       "  0%|          | 0/200 [00:00<?, ?it/s]"
      ]
     },
     "metadata": {},
     "output_type": "display_data"
    }
   ],
   "source": [
    "\n",
    "\n",
    "optimizer = torch.optim.Adam(sde.μ.parameters(), lr=0.05)\n",
    "#     optimizer = torch.optim.LBFGS(gpr.parameters(), lr=0.01)\n",
    "losses = []\n",
    "num_steps = 200\n",
    "for i in tqdm(range(num_steps)):\n",
    "    optimizer.zero_grad()\n",
    "\n",
    "    if isinstance(optimizer, torch.optim.LBFGS):\n",
    "        def closure():\n",
    "            loss = relative_entropy_control_cost(\n",
    "                sde, Θ_0.float(),\n",
    "                X_train.float(), y_train.float(),\n",
    "                gaussian_prior, log_likelihood\n",
    "            )\n",
    "            optimizer.zero_grad()\n",
    "            loss.backward()\n",
    "            return loss\n",
    "\n",
    "        optimizer.step(closure)\n",
    "        losses.append(closure().item())\n",
    "    else:\n",
    "        loss = relative_entropy_control_cost(\n",
    "            sde, Θ_0.float(),\n",
    "            X_train.float(), y_train.float(),\n",
    "            gaussian_prior, log_likelihood\n",
    "        )\n",
    "        optimizer.zero_grad()\n",
    "        loss.backward()\n",
    "\n",
    "        optimizer.step()\n",
    "        losses.append(loss.item())"
   ]
  },
  {
   "cell_type": "code",
   "execution_count": 149,
   "metadata": {},
   "outputs": [
    {
     "data": {
      "text/plain": [
       "[-1395.41796875,\n",
       " 2089465.125,\n",
       " -1948.3736572265625,\n",
       " -893.51806640625,\n",
       " -600.2247314453125,\n",
       " -460.2825622558594,\n",
       " -411.8291931152344,\n",
       " -368.16656494140625,\n",
       " -336.8907470703125,\n",
       " -310.6816101074219,\n",
       " -303.5123291015625,\n",
       " -275.89068603515625,\n",
       " -263.9134826660156,\n",
       " -272.40118408203125,\n",
       " -260.0324401855469,\n",
       " -259.54669189453125,\n",
       " -252.67446899414062,\n",
       " -246.0121612548828,\n",
       " -245.63092041015625,\n",
       " -232.5845489501953,\n",
       " -236.21054077148438,\n",
       " -228.5381622314453,\n",
       " -239.32154846191406,\n",
       " -226.6956787109375,\n",
       " -226.72476196289062,\n",
       " -231.34780883789062,\n",
       " -220.88919067382812,\n",
       " -223.8773651123047,\n",
       " -226.3827362060547,\n",
       " -223.34014892578125,\n",
       " -230.58558654785156,\n",
       " -221.1207733154297,\n",
       " -237.15989685058594,\n",
       " -228.68569946289062,\n",
       " -226.5523223876953,\n",
       " -233.9273223876953,\n",
       " -237.44366455078125,\n",
       " -241.160400390625,\n",
       " -250.905517578125,\n",
       " -263.99627685546875,\n",
       " -221.96636962890625,\n",
       " -289.37811279296875,\n",
       " -276.7267761230469,\n",
       " -269.6556701660156,\n",
       " -287.1231689453125,\n",
       " -298.6678161621094,\n",
       " -299.0588073730469,\n",
       " -307.1965637207031,\n",
       " -335.1385803222656,\n",
       " -343.9794921875,\n",
       " -373.79010009765625,\n",
       " -399.6572265625,\n",
       " -508.2864074707031,\n",
       " -678.1812133789062,\n",
       " -931.6744384765625,\n",
       " -1112.531005859375,\n",
       " -1334.61083984375,\n",
       " -1501.9813232421875,\n",
       " -1674.4052734375,\n",
       " -1912.94775390625,\n",
       " -2013.703369140625,\n",
       " -2285.23486328125,\n",
       " -2417.5712890625,\n",
       " -2035.439453125,\n",
       " -2378.89892578125,\n",
       " -2049.89697265625,\n",
       " -1905.6820068359375,\n",
       " -1962.7872314453125,\n",
       " -2419.41552734375,\n",
       " -1145.51220703125,\n",
       " -2436.84375,\n",
       " -2090.124755859375,\n",
       " -1959.4681396484375,\n",
       " -2115.807373046875,\n",
       " -2453.88134765625,\n",
       " -1949.5859375,\n",
       " -2567.61083984375,\n",
       " -2401.130859375,\n",
       " -2350.92041015625,\n",
       " -2435.462158203125,\n",
       " -2567.40234375,\n",
       " -2638.985595703125,\n",
       " -2612.606201171875,\n",
       " -2544.59765625,\n",
       " -2703.669921875,\n",
       " -2698.48779296875,\n",
       " -2619.6494140625,\n",
       " -2656.67138671875,\n",
       " -2731.900146484375,\n",
       " -2751.87060546875,\n",
       " -2683.818359375,\n",
       " -2726.7138671875,\n",
       " -2771.0322265625,\n",
       " -2773.400146484375,\n",
       " -2803.642578125,\n",
       " -2667.728271484375,\n",
       " -2712.568115234375,\n",
       " -2588.34619140625,\n",
       " -2693.142578125,\n",
       " -2763.73095703125,\n",
       " -2647.635009765625,\n",
       " -2791.300537109375,\n",
       " -2737.085205078125,\n",
       " -2710.6396484375,\n",
       " -2781.46435546875,\n",
       " -2799.219970703125,\n",
       " -2685.99365234375,\n",
       " -2821.40625,\n",
       " -2733.096435546875,\n",
       " -2718.83740234375,\n",
       " -2818.0341796875,\n",
       " -2777.767822265625,\n",
       " -2764.421142578125,\n",
       " -2813.053955078125,\n",
       " -2790.405029296875,\n",
       " -2786.757080078125,\n",
       " -2850.650634765625,\n",
       " -2837.970458984375,\n",
       " -2785.175048828125,\n",
       " -2856.153076171875,\n",
       " -2820.627197265625,\n",
       " -2808.087646484375,\n",
       " -2842.955322265625,\n",
       " -2848.010986328125,\n",
       " -2814.958984375,\n",
       " -2873.92138671875,\n",
       " -2866.78125,\n",
       " -2859.93701171875,\n",
       " -2843.763427734375,\n",
       " -2856.159912109375,\n",
       " -2870.249267578125,\n",
       " -2842.944091796875,\n",
       " -2860.429931640625,\n",
       " -2862.286865234375,\n",
       " -2860.294677734375,\n",
       " -2855.323486328125,\n",
       " -2877.378662109375,\n",
       " -2867.629150390625,\n",
       " -2854.119873046875,\n",
       " -2870.37841796875,\n",
       " -2892.749755859375,\n",
       " -2850.178466796875,\n",
       " -2873.342041015625,\n",
       " -2879.779052734375,\n",
       " -2862.72900390625,\n",
       " -2894.87060546875,\n",
       " -2873.2822265625,\n",
       " -2878.154541015625,\n",
       " -2895.878662109375,\n",
       " -2893.549560546875,\n",
       " -2876.443603515625,\n",
       " -2894.654541015625,\n",
       " -2883.712158203125,\n",
       " -2886.286865234375,\n",
       " -2889.03759765625,\n",
       " -2888.36328125,\n",
       " -2893.2734375,\n",
       " -2900.8388671875,\n",
       " -2880.773681640625,\n",
       " -2899.115966796875,\n",
       " -2899.47021484375,\n",
       " -2874.88037109375,\n",
       " -2889.35693359375,\n",
       " -2900.481201171875,\n",
       " -2898.21630859375,\n",
       " -2890.568603515625,\n",
       " -2899.167236328125,\n",
       " -2907.049072265625,\n",
       " -2906.43603515625,\n",
       " -2886.240234375,\n",
       " -2907.330810546875,\n",
       " -2891.99951171875,\n",
       " -2913.564208984375,\n",
       " -2898.49267578125,\n",
       " -2897.93896484375,\n",
       " -2913.098876953125,\n",
       " -2897.59814453125,\n",
       " -2899.709228515625,\n",
       " -2910.270751953125,\n",
       " -2909.87451171875,\n",
       " -2923.52880859375,\n",
       " -2916.823486328125,\n",
       " -2895.701416015625,\n",
       " -2923.583251953125,\n",
       " -2907.769287109375,\n",
       " -2918.79248046875,\n",
       " -2909.282958984375,\n",
       " -2913.7763671875,\n",
       " -2913.308349609375,\n",
       " -2910.011962890625,\n",
       " -2901.292724609375,\n",
       " -2908.903564453125,\n",
       " -2901.58349609375,\n",
       " -2921.738037109375,\n",
       " -2914.297119140625,\n",
       " -2911.3564453125,\n",
       " -2929.6708984375,\n",
       " -2904.511474609375,\n",
       " -2905.96630859375,\n",
       " -2915.672119140625]"
      ]
     },
     "execution_count": 149,
     "metadata": {},
     "output_type": "execute_result"
    }
   ],
   "source": [
    "losses"
   ]
  },
  {
   "cell_type": "code",
   "execution_count": 153,
   "metadata": {},
   "outputs": [
    {
     "data": {
      "text/plain": [
       "[<matplotlib.lines.Line2D at 0x1f16f6fbe20>]"
      ]
     },
     "execution_count": 153,
     "metadata": {},
     "output_type": "execute_result"
    },
    {
     "data": {
      "image/png": "[encoded data removed]",
      "text/plain": [
       "<Figure size 432x288 with 1 Axes>"
      ]
     },
     "metadata": {
      "needs_background": "light"
     },
     "output_type": "display_data"
    }
   ],
   "source": [
    "plt.plot(losses[20:])"
   ]
  },
  {
   "cell_type": "code",
   "execution_count": 141,
   "metadata": {},
   "outputs": [
    {
     "data": {
      "text/plain": [
       "torch.Size([20, 100, 3])"
      ]
     },
     "execution_count": 141,
     "metadata": {},
     "output_type": "execute_result"
    }
   ],
   "source": [
    " torchsde.sdeint(sde, Θ_0, ts).shape"
   ]
  },
  {
   "cell_type": "code",
   "execution_count": 143,
   "metadata": {},
   "outputs": [
    {
     "data": {
      "text/plain": [
       "torch.Size([80, 3])"
      ]
     },
     "execution_count": 143,
     "metadata": {},
     "output_type": "execute_result"
    }
   ],
   "source": [
    "X_train.shape"
   ]
  },
  {
   "cell_type": "code",
   "execution_count": 150,
   "metadata": {},
   "outputs": [],
   "source": [
    "Θ_1 = torchsde.sdeint(sde, Θ_0, ts)[-1,...]"
   ]
  },
  {
   "cell_type": "code",
   "execution_count": 160,
   "metadata": {},
   "outputs": [
    {
     "data": {
      "text/plain": [
       "(array([ 3., 13., 21., 17., 23., 11.,  5.,  4.,  1.,  2.]),\n",
       " array([45.22862 , 47.40412 , 49.579624, 51.755127, 53.93063 , 56.106133,\n",
       "        58.28163 , 60.457134, 62.632637, 64.80814 , 66.98364 ],\n",
       "       dtype=float32),\n",
       " <a list of 10 Patch objects>)"
      ]
     },
     "execution_count": 160,
     "metadata": {},
     "output_type": "execute_result"
    },
    {
     "data": {
      "image/png": "[encoded data removed]",
      "text/plain": [
       "<Figure size 432x288 with 3 Axes>"
      ]
     },
     "metadata": {
      "needs_background": "light"
     },
     "output_type": "display_data"
    }
   ],
   "source": [
    "fig, (ax1,ax2,ax3) = plt.subplots(1,3)\n",
    "\n",
    "ax1.hist(Θ_1[:,0].detach().numpy())\n",
    "ax2.hist(Θ_1[:,1].detach().numpy())\n",
    "ax3.hist(Θ_1[:,2].detach().numpy())"
   ]
  },
  {
   "cell_type": "code",
   "execution_count": 167,
   "metadata": {},
   "outputs": [],
   "source": [
    "pred = torch.sigmoid(X_train.float().mm(Θ_1.T)).mean(axis=1)"
   ]
  },
  {
   "cell_type": "code",
   "execution_count": 185,
   "metadata": {},
   "outputs": [
    {
     "data": {
      "text/plain": [
       "tensor(0.9875)"
      ]
     },
     "execution_count": 185,
     "metadata": {},
     "output_type": "execute_result"
    }
   ],
   "source": [
    "((pred < 0.5).float() == y_train).float().mean()"
   ]
  },
  {
   "cell_type": "code",
   "execution_count": 180,
   "metadata": {},
   "outputs": [],
   "source": [
    "pred_test = torch.sigmoid(X_test.float().mm(Θ_1.T)).mean(axis=1)"
   ]
  },
  {
   "cell_type": "code",
   "execution_count": 184,
   "metadata": {},
   "outputs": [
    {
     "data": {
      "text/plain": [
       "tensor(1.)"
      ]
     },
     "execution_count": 184,
     "metadata": {},
     "output_type": "execute_result"
    }
   ],
   "source": [
    "((pred_test < 0.5).float() == y_test).float().mean()"
   ]
  },
  {
   "cell_type": "code",
   "execution_count": 182,
   "metadata": {},
   "outputs": [
    {
     "data": {
      "text/plain": [
       "tensor([1, 0, 1, 0, 0, 0, 0, 0, 0, 0, 1, 1, 1, 0, 0, 0, 0, 0, 1, 1],\n",
       "       dtype=torch.int32)"
      ]
     },
     "execution_count": 182,
     "metadata": {},
     "output_type": "execute_result"
    }
   ],
   "source": [
    "y_test"
   ]
  },
  {
   "cell_type": "code",
   "execution_count": 186,
   "metadata": {},
   "outputs": [],
   "source": [
    "import numpy as np\n",
    "import scipy.special as ssp\n",
    "import matplotlib.pyplot as plt\n",
    "\n",
    "import torch\n",
    "import torch.nn as nn\n",
    "import torch.distributions.constraints as constraints\n",
    "\n",
    "from torch.utils.data import DataLoader\n",
    "from torch.utils.data.sampler import SubsetRandomSampler\n",
    "\n",
    "import pyro\n",
    "import pyro.distributions as dist\n",
    "\n",
    "from pyro.infer import SVI, Trace_ELBO\n",
    "from pyro.optim import Adam, SGD\n",
    "\n",
    "pyro.enable_validation(True)\n",
    "torch.set_default_dtype(torch.double) # this was necessary on the CPU"
   ]
  },
  {
   "cell_type": "code",
   "execution_count": 188,
   "metadata": {},
   "outputs": [],
   "source": [
    "\n",
    "# these were adapted from the Pyro VAE tutorial\n",
    "\n",
    "def train(svi, train_loader, n_train):\n",
    "    # initialize loss accumulator\n",
    "    epoch_loss = 0.\n",
    "    # do a training epoch over each mini-batch x returned\n",
    "    # by the data loader\n",
    "    for _, xs in enumerate(train_loader):\n",
    "        # do ELBO gradient and accumulate loss\n",
    "        epoch_loss += svi.step(*xs)\n",
    "\n",
    "    # return epoch loss\n",
    "    total_epoch_loss_train = epoch_loss / n_train\n",
    "    return total_epoch_loss_train\n",
    "\n",
    "\n",
    "def evaluate(svi, test_loader, n_test):\n",
    "    # initialize loss accumulator\n",
    "    test_loss = 0.\n",
    "    # compute the loss over the entire test set\n",
    "    for _, xs in enumerate(test_loader):\n",
    "        # compute ELBO estimate and accumulate loss\n",
    "        test_loss += svi.evaluate_loss(*xs)\n",
    "\n",
    "    total_epoch_loss_test = test_loss / n_test\n",
    "    return total_epoch_loss_test\n",
    "\n",
    "\n",
    "def plot_llk(train_elbo, test_elbo, test_int):\n",
    "    plt.figure(figsize=(8, 6))\n",
    "\n",
    "    x = np.arange(len(train_elbo))\n",
    "\n",
    "    plt.plot(x, train_elbo, marker='o', label='Train ELBO')\n",
    "    plt.plot(x[::test_int], test_elbo, marker='o', label='Test ELBO')\n",
    "    plt.xlabel('Training Epoch')\n",
    "    plt.legend()\n",
    "    plt.show()"
   ]
  },
  {
   "cell_type": "code",
   "execution_count": 299,
   "metadata": {},
   "outputs": [],
   "source": [
    "class LogRegressionModel(nn.Module):\n",
    "    def __init__(self, p):\n",
    "        super(LogRegressionModel, self).__init__()\n",
    "        \n",
    "        self.p = p\n",
    "\n",
    "        # hyperparameters for normal priors\n",
    "        self.alpha_h_loc = torch.zeros(1, p)\n",
    "        self.alpha_h_scale = 10.0 * torch.ones(1, p)\n",
    "        self.beta_h_loc = torch.zeros(1)\n",
    "        self.beta_h_scale = 10.0 * torch.ones(1)\n",
    "        \n",
    "        # initial values of variational parameters\n",
    "        self.alpha_0 = np.zeros((1, p))\n",
    "        self.alpha_0_scale = np.ones((1, p))\n",
    "        self.beta_0 = np.zeros((1,))\n",
    "        self.beta_0_scale = np.ones((1,))\n",
    "\n",
    "    def model(self, x, y):\n",
    "        # sample from prior\n",
    "        a = pyro.sample(\n",
    "            \"weight\", dist.Normal(self.alpha_h_loc, self.alpha_h_scale, validate_args=True).independent(1)\n",
    "        ).float()\n",
    "        b = pyro.sample(\n",
    "            \"bias\", dist.Normal(self.beta_h_loc, self.beta_h_scale, validate_args=True).independent(1)\n",
    "        ).float()\n",
    "\n",
    "        with pyro.iarange(\"data\", x.size(0)):\n",
    "#             import pdb; pdb.set_trace()\n",
    "            model_logits = (torch.matmul(x, a.permute(1, 0)) + b).squeeze()\n",
    "            \n",
    "            pyro.sample(\n",
    "                \"obs\", \n",
    "                dist.Bernoulli(logits=model_logits, validate_args=True),\n",
    "                obs=y.squeeze()\n",
    "            )\n",
    "            \n",
    "    def guide(self, x, y):\n",
    "        # register variational parameters with pyro\n",
    "        alpha_loc = pyro.param(\"alpha_loc\", torch.tensor(self.alpha_0))\n",
    "        alpha_scale = pyro.param(\"alpha_scale\", torch.tensor(self.alpha_0_scale),\n",
    "                                 constraint=constraints.positive)\n",
    "        beta_loc = pyro.param(\"beta_loc\", torch.tensor(self.beta_0))\n",
    "        beta_scale = pyro.param(\"beta_scale\", torch.tensor(self.beta_0_scale),\n",
    "                                constraint=constraints.positive)\n",
    "\n",
    "        pyro.sample(\n",
    "            \"weight\", dist.Normal(alpha_loc, alpha_scale, validate_args=True).independent(1)\n",
    "        )\n",
    "        pyro.sample(\n",
    "            \"bias\", dist.Normal(beta_loc, beta_scale, validate_args=True).independent(1)\n",
    "        )\n",
    "    \n",
    "    \n",
    "    def guide_(self, x, y, N=100):\n",
    "        # register variational parameters with pyro\n",
    "        alpha_loc = pyro.param(\"alpha_loc\", torch.tensor(self.alpha_0))\n",
    "        alpha_scale = pyro.param(\"alpha_scale\", torch.tensor(self.alpha_0_scale),\n",
    "                                 constraint=constraints.positive)\n",
    "        beta_loc = pyro.param(\"beta_loc\", torch.tensor(self.beta_0))\n",
    "        beta_scale = pyro.param(\"beta_scale\", torch.tensor(self.beta_0_scale),\n",
    "                                constraint=constraints.positive)\n",
    "        w = []\n",
    "        b = []\n",
    "        for _ in range(N):\n",
    "            w.append(torch.tensor(pyro.sample(\n",
    "                \"weight\", dist.Normal(alpha_loc, alpha_scale, validate_args=True).independent(1)\n",
    "            )))\n",
    "            b.append(torch.tensor(pyro.sample(\n",
    "                \"bias\", dist.Normal(beta_loc, beta_scale, validate_args=True).independent(1)\n",
    "            )))\n",
    "#         import pdb;pdb.set_trace()\n",
    "        return torch.vstack(w), torch.vstack(b)"
   ]
  },
  {
   "cell_type": "code",
   "execution_count": 306,
   "metadata": {},
   "outputs": [],
   "source": [
    "\n",
    "pyro.clear_param_store()\n",
    "\n",
    "optim = Adam({'lr': 0.01})\n",
    "\n",
    "num_epochs = 1000\n",
    "batch_size = 50\n",
    "\n",
    "N = X.shape[0]\n",
    "p = 2\n",
    "\n",
    "n_train = X_train.shape[0]\n",
    "example_indices = np.random.permutation(N)\n",
    "n_test = N - n_train\n",
    "test_iter = 50"
   ]
  },
  {
   "cell_type": "code",
   "execution_count": 311,
   "metadata": {},
   "outputs": [
    {
     "name": "stdout",
     "output_type": "stream",
     "text": [
      "[epoch 000]  average training loss: 5.6590\n",
      "[epoch 050]  average training loss: 1.4881\n",
      "[epoch 100]  average training loss: 1.1096\n",
      "[epoch 150]  average training loss: 1.0867\n",
      "[epoch 200]  average training loss: 1.0540\n",
      "[epoch 250]  average training loss: 0.8960\n",
      "[epoch 300]  average training loss: 0.8224\n",
      "[epoch 350]  average training loss: 0.7685\n",
      "[epoch 400]  average training loss: 0.7541\n",
      "[epoch 450]  average training loss: 0.7630\n",
      "[epoch 500]  average training loss: 0.6538\n",
      "[epoch 550]  average training loss: 0.5504\n",
      "[epoch 600]  average training loss: 0.6494\n",
      "[epoch 650]  average training loss: 0.5768\n",
      "[epoch 700]  average training loss: 0.5884\n",
      "[epoch 750]  average training loss: 0.5480\n",
      "[epoch 800]  average training loss: 0.6200\n",
      "[epoch 850]  average training loss: 0.5894\n",
      "[epoch 900]  average training loss: 0.5532\n",
      "[epoch 950]  average training loss: 0.5354\n"
     ]
    }
   ],
   "source": [
    "lr_model = LogRegressionModel(p=p)\n",
    "\n",
    "svi = SVI(\n",
    "    lr_model.model, lr_model.guide, optim,\n",
    "    loss=Trace_ELBO()\n",
    ")\n",
    "\n",
    "\n",
    "lr_dataset = torch.utils.data.TensorDataset(torch.tensor(X[:,1:]).float(), torch.tensor(y.reshape(-1,1)).float())\n",
    "\n",
    "data_loader_train = DataLoader(\n",
    "    dataset=lr_dataset, batch_size=batch_size, pin_memory=False,\n",
    "    sampler=SubsetRandomSampler(example_indices[:n_train]),\n",
    ")\n",
    "    \n",
    "data_loader_test = DataLoader(\n",
    "    dataset=lr_dataset, batch_size=batch_size, pin_memory=False,\n",
    "    sampler=SubsetRandomSampler(example_indices[n_train:]),\n",
    ")\n",
    "\n",
    "train_elbo = []\n",
    "test_elbo = []\n",
    "for epoch in range(num_epochs):\n",
    "    total_epoch_loss_train = train(svi, data_loader_train, n_train)\n",
    "    train_elbo.append(-total_epoch_loss_train)\n",
    "\n",
    "    if epoch % test_iter == 0:\n",
    "        print(\"[epoch %03d]  average training loss: %.4f\" % (epoch, total_epoch_loss_train))\n",
    "        # report test diagnostics\n",
    "        total_epoch_loss_test = evaluate(svi, data_loader_test, n_test)\n",
    "        test_elbo.append(-total_epoch_loss_test)"
   ]
  },
  {
   "cell_type": "code",
   "execution_count": 312,
   "metadata": {},
   "outputs": [
    {
     "data": {
      "image/png": "[encoded data removed]",
      "text/plain": [
       "<Figure size 576x432 with 1 Axes>"
      ]
     },
     "metadata": {
      "needs_background": "light"
     },
     "output_type": "display_data"
    }
   ],
   "source": [
    "plot_llk(train_elbo, test_elbo, test_iter)"
   ]
  },
  {
   "cell_type": "code",
   "execution_count": 313,
   "metadata": {
    "collapsed": true
   },
   "outputs": [
    {
     "name": "stderr",
     "output_type": "stream",
     "text": [
      "<ipython-input-299-bef7a2779544>:66: UserWarning: To copy construct from a tensor, it is recommended to use sourceTensor.clone().detach() or sourceTensor.clone().detach().requires_grad_(True), rather than torch.tensor(sourceTensor).\n",
      "  w.append(torch.tensor(pyro.sample(\n",
      "<ipython-input-299-bef7a2779544>:69: UserWarning: To copy construct from a tensor, it is recommended to use sourceTensor.clone().detach() or sourceTensor.clone().detach().requires_grad_(True), rather than torch.tensor(sourceTensor).\n",
      "  b.append(torch.tensor(pyro.sample(\n"
     ]
    }
   ],
   "source": [
    "W, b = lr_model.guide_(X_train.float(), y_train.float())"
   ]
  },
  {
   "cell_type": "code",
   "execution_count": 323,
   "metadata": {},
   "outputs": [
    {
     "data": {
      "text/plain": [
       "(array([ 1.,  2.,  4., 11., 15., 14., 16., 16.,  8., 13.]),\n",
       " array([-2.84416019, -2.79101602, -2.73787185, -2.68472768, -2.63158351,\n",
       "        -2.57843934, -2.52529517, -2.472151  , -2.41900683, -2.36586266,\n",
       "        -2.31271849]),\n",
       " <a list of 10 Patch objects>)"
      ]
     },
     "execution_count": 323,
     "metadata": {},
     "output_type": "execute_result"
    },
    {
     "data": {
      "image/png": "[encoded data removed]",
      "text/plain": [
       "<Figure size 432x288 with 3 Axes>"
      ]
     },
     "metadata": {
      "needs_background": "light"
     },
     "output_type": "display_data"
    }
   ],
   "source": [
    "fig, (ax1,ax2,ax3) = plt.subplots(1,3)\n",
    "\n",
    "ax1.hist(Θ_1[:,0].detach().numpy())\n",
    "ax2.hist(Θ_1[:,1].detach().numpy())\n",
    "ax3.hist(Θ_1[:,2].detach().numpy())\n",
    "\n",
    "\n",
    "ax1.hist(b.detach().numpy(), color=\"red\")\n",
    "ax2.hist(W[:,0].detach().numpy(), color=\"red\")\n",
    "ax3.hist(W[:,1].detach().numpy(), color=\"red\")\n"
   ]
  },
  {
   "cell_type": "code",
   "execution_count": 324,
   "metadata": {},
   "outputs": [
    {
     "data": {
      "text/plain": [
       "tensor([[  3.3981, -55.9595,  59.3626],\n",
       "        [  1.8371, -55.8780,  59.1178],\n",
       "        [  2.7925, -50.0974,  53.8550],\n",
       "        [  1.5343, -46.5838,  49.2708],\n",
       "        [  2.6799, -54.2140,  57.3831],\n",
       "        [  3.5487, -49.8660,  53.2450],\n",
       "        [  1.6985, -53.9561,  57.2794],\n",
       "        [  2.8306, -48.1679,  51.1536],\n",
       "        [  1.0807, -58.4377,  61.1965],\n",
       "        [  1.6990, -50.5811,  53.6789],\n",
       "        [  2.2678, -51.0029,  53.2882],\n",
       "        [  1.6744, -44.7228,  48.7432],\n",
       "        [  1.6803, -50.8084,  53.0059],\n",
       "        [  2.3169, -48.4102,  51.6702],\n",
       "        [  1.5201, -52.4942,  55.5914],\n",
       "        [  2.5354, -41.9524,  45.2286],\n",
       "        [  3.1206, -50.9975,  55.5756],\n",
       "        [  1.6528, -51.3683,  54.4581],\n",
       "        [  3.2940, -51.9834,  55.0708],\n",
       "        [  1.4057, -56.9473,  61.0974],\n",
       "        [  2.1271, -50.4414,  54.4912],\n",
       "        [  3.4731, -47.9747,  51.4734],\n",
       "        [  3.4381, -44.3239,  47.9220],\n",
       "        [  2.0770, -52.6595,  55.8253],\n",
       "        [  2.7811, -48.1465,  51.0208],\n",
       "        [  1.5039, -45.5635,  48.9399],\n",
       "        [  1.8744, -49.7035,  50.6024],\n",
       "        [  3.0162, -50.2315,  52.7299],\n",
       "        [  2.8928, -46.3253,  48.9619],\n",
       "        [  1.4981, -55.4911,  58.1158],\n",
       "        [  2.2548, -55.1098,  58.6483],\n",
       "        [  1.8934, -50.7410,  53.1480],\n",
       "        [  2.4173, -50.2672,  53.4914],\n",
       "        [  2.8043, -58.3023,  61.7846],\n",
       "        [  2.0999, -43.5451,  46.6899],\n",
       "        [  1.3757, -47.1182,  50.0222],\n",
       "        [  2.3755, -53.4010,  56.5315],\n",
       "        [  1.3173, -51.0698,  54.0092],\n",
       "        [  0.7627, -59.5867,  61.2579],\n",
       "        [  2.6874, -52.9787,  55.4914],\n",
       "        [  3.0059, -49.2665,  52.7723],\n",
       "        [  0.9567, -62.5144,  66.9836],\n",
       "        [  3.6373, -52.9895,  57.1435],\n",
       "        [  2.6761, -52.4658,  55.2474],\n",
       "        [  2.7558, -48.7596,  52.3605],\n",
       "        [  4.0565, -48.9111,  51.1156],\n",
       "        [  2.0781, -49.4227,  52.5546],\n",
       "        [  1.8034, -48.3234,  51.0045],\n",
       "        [  3.5313, -44.3423,  47.8255],\n",
       "        [  1.4360, -48.2462,  50.0060],\n",
       "        [  2.4874, -50.4262,  53.7322],\n",
       "        [  3.7411, -46.5574,  49.3565],\n",
       "        [  0.9498, -50.9290,  53.5388],\n",
       "        [  1.5235, -48.1685,  50.6886],\n",
       "        [  2.7641, -44.5847,  47.7201],\n",
       "        [  2.6254, -46.9002,  50.7778],\n",
       "        [  1.6269, -48.4365,  50.8512],\n",
       "        [  1.8668, -51.7576,  54.2625],\n",
       "        [  2.9550, -48.0479,  50.7139],\n",
       "        [  2.2810, -49.7169,  52.8757],\n",
       "        [  4.0171, -48.1751,  53.2736],\n",
       "        [  0.9719, -53.1057,  55.2534],\n",
       "        [  1.5944, -52.4875,  56.1649],\n",
       "        [  1.1143, -54.0517,  55.4979],\n",
       "        [  4.0934, -55.2559,  59.0966],\n",
       "        [  2.0979, -52.7564,  57.1409],\n",
       "        [  2.2662, -52.5728,  55.2779],\n",
       "        [  2.3415, -48.0602,  51.2067],\n",
       "        [  2.5364, -52.1319,  55.0083],\n",
       "        [  0.4917, -62.2425,  65.1910],\n",
       "        [  2.3503, -52.5338,  55.3937],\n",
       "        [  1.7162, -56.7907,  58.9831],\n",
       "        [  1.5768, -46.5968,  48.7833],\n",
       "        [  4.1155, -45.8524,  48.5410],\n",
       "        [  1.8760, -51.7139,  55.8482],\n",
       "        [  1.1251, -49.9594,  53.6823],\n",
       "        [  2.8250, -53.0636,  55.2192],\n",
       "        [  1.8939, -52.8886,  56.7407],\n",
       "        [  1.4782, -58.3814,  62.8927],\n",
       "        [  1.0251, -53.0770,  55.3255],\n",
       "        [  2.9165, -48.2410,  50.3224],\n",
       "        [  1.3967, -52.5404,  55.3416],\n",
       "        [  2.9791, -47.7581,  51.1663],\n",
       "        [  2.8003, -46.3439,  49.6816],\n",
       "        [  2.4076, -52.3021,  56.2336],\n",
       "        [  1.3391, -51.6643,  54.6422],\n",
       "        [  3.0496, -48.2953,  51.0452],\n",
       "        [  2.3923, -50.3216,  53.1641],\n",
       "        [  2.7987, -54.0964,  57.4151],\n",
       "        [  1.3526, -46.8497,  49.2048],\n",
       "        [  3.7497, -46.5093,  50.1768],\n",
       "        [  1.8047, -49.4407,  50.9701],\n",
       "        [  2.7052, -44.2769,  46.4677],\n",
       "        [  1.8990, -50.4530,  54.6538],\n",
       "        [  2.5526, -47.9597,  49.4681],\n",
       "        [  0.9730, -54.1162,  56.3203],\n",
       "        [  2.9616, -52.5063,  55.5003],\n",
       "        [  1.2093, -48.2289,  49.9378],\n",
       "        [  2.4037, -50.4864,  54.5762],\n",
       "        [  2.6685, -44.9575,  48.1749]], dtype=torch.float32,\n",
       "       grad_fn=<SelectBackward>)"
      ]
     },
     "execution_count": 324,
     "metadata": {},
     "output_type": "execute_result"
    }
   ],
   "source": [
    "Θ_1"
   ]
  },
  {
   "cell_type": "code",
   "execution_count": null,
   "metadata": {},
   "outputs": [],
   "source": []
  }
 ],
 "metadata": {
  "kernelspec": {
   "display_name": "Python 3",
   "language": "python",
   "name": "python3"
  },
  "language_info": {
   "codemirror_mode": {
    "name": "ipython",
    "version": 3
   },
   "file_extension": ".py",
   "mimetype": "text/x-python",
   "name": "python",
   "nbconvert_exporter": "python",
   "pygments_lexer": "ipython3",
   "version": "3.8.5"
  }
 },
 "nbformat": 4,
 "nbformat_minor": 4
}
