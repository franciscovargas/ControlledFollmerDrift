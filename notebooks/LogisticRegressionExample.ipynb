{
 "cells": [
  {
   "cell_type": "code",
   "execution_count": 7,
   "metadata": {},
   "outputs": [],
   "source": [
    "import torch\n",
    "import torch.nn.functional as F\n",
    "\n",
    "import torchsde"
   ]
  },
  {
   "cell_type": "code",
   "execution_count": 10,
   "metadata": {},
   "outputs": [],
   "source": [
    "class Net(torch.nn.Module):\n",
    "\n",
    "    def __init__(self, input_dim=1):\n",
    "        super(Net, self).__init__()\n",
    "        # 1 input image channel, 6 output channels, 5x5 square convolution\n",
    "        # kernel\n",
    "        # an affine operation: y = Wx + b\n",
    "        self.input_dim = input_dim\n",
    "        self.fc1 = torch.nn.Linear(input_dim, 120)  # 5*5 from image dimension\n",
    "        self.fc2 = torch.nn.Linear(120, 84)\n",
    "        self.fc3 = torch.nn.Linear(84, input_dim)\n",
    "\n",
    "    def forward(self, x):\n",
    "        x = F.relu(self.fc1(x))\n",
    "        x = F.relu(self.fc2(x))\n",
    "        x = self.fc3(x)\n",
    "        return x\n",
    "\n",
    "\n",
    "net = Net()"
   ]
  },
  {
   "cell_type": "code",
   "execution_count": null,
   "metadata": {},
   "outputs": [],
   "source": [
    "import torch\n",
    "\n",
    "batch_size, state_size, brownian_size = 32, 3, 2\n",
    "t_size = 20\n",
    "\n",
    "class SDE(torch.nn.Module):\n",
    "    noise_type = 'general'\n",
    "    sde_type = 'ito'\n",
    "\n",
    "    def __init__(self, state_size=1, brownian_size=1, batch_size=10, γ=1.0):\n",
    "        super().__init__()\n",
    "        \n",
    "        self.state_size = state_size\n",
    "        self.brownian_size = brownian_size\n",
    "        self.batch_size = batch_size\n",
    "\n",
    "        self.γ = torch.tensor(γ)\n",
    "        self.μ = NN(input_dim=state_size)\n",
    "        self.σ = lambda x: self.γ * torch.eye((state_size, brownian_size))\n",
    "\n",
    "    # Drift\n",
    "    def f(self, t, y):\n",
    "        return self.μ(y)  # shape (batch_size, state_size)\n",
    "\n",
    "    # Diffusion\n",
    "    def g(self, t, y):\n",
    "        return self.σ(y).view(self.batch_size, \n",
    "                              self.state_size, \n",
    "                              self.brownian_size)\n",
    "\n",
    "sde = SDE(batch_size, state_size, brownian_size, 1)\n",
    "y0 = torch.full((batch_size, state_size), 0.1)\n",
    "ts = torch.linspace(0, 1, t_size)\n",
    "# Initial state y0, the SDE is solved over the interval [ts[0], ts[-1]].\n",
    "# ys will have shape (t_size, batch_size, state_size)\n",
    "ys = torchsde.sdeint(sde, y0, ts)"
   ]
  },
  {
   "cell_type": "code",
   "execution_count": null,
   "metadata": {},
   "outputs": [],
   "source": [
    "def log_g(Θ, ln_prior, ln_like, γ=1.0):\n",
    "    \"\"\"\n",
    "    G function in control objective\n",
    "    \"\"\"\n",
    "    normal_term = -0.5 * (Θ**2).sum(axis=1) / γ\n",
    "    return ln_prior(Θ) + ln_like(Θ) - normal_term\n",
    "\n",
    "\n",
    "def relative_entropy_control_cost(sde, Θ_0, ln_prior, ln_like, Δt=0.05, γ=1.0):\n",
    "    n = int(1.0 / Δt)\n",
    "    ts = torch.linspace(0, 1, n)\n",
    "    \n",
    "    Θs =  torchsde.sdeint(sde, Θ_0, ts)\n",
    "    μs = sde.f(ts, Θs)\n",
    "    ΘT = Θs[:,-1,:]\n",
    "    lng = log_g(ΘT, ln_prior, ln_like, γ).mean()\n",
    "    girsanov_factor = 0.5 * (μs**2.sum(axis=-1)).mean()\n",
    "    \n",
    "    return girsanov_factor - lng"
   ]
  }
 ],
 "metadata": {
  "kernelspec": {
   "display_name": "Python 3",
   "language": "python",
   "name": "python3"
  },
  "language_info": {
   "codemirror_mode": {
    "name": "ipython",
    "version": 3
   },
   "file_extension": ".py",
   "mimetype": "text/x-python",
   "name": "python",
   "nbconvert_exporter": "python",
   "pygments_lexer": "ipython3",
   "version": "3.8.5"
  }
 },
 "nbformat": 4,
 "nbformat_minor": 4
}
