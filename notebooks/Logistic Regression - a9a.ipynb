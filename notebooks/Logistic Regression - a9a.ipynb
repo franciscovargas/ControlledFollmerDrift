{
 "cells": [
  {
   "cell_type": "code",
   "execution_count": 1,
   "id": "0fd10652",
   "metadata": {},
   "outputs": [],
   "source": [
    "import torch\n",
    "import torch.nn.functional as F\n",
    "import torchsde\n",
    "\n",
    "from torchvision import datasets, transforms\n",
    "\n",
    "import math\n",
    "import numpy as np\n",
    "import pandas as pd\n",
    "from tqdm import tqdm\n",
    "\n",
    "from torchvision.transforms import ToTensor\n",
    "from torch.utils.data import DataLoader\n",
    "\n",
    "import matplotlib.pyplot as plt\n",
    "\n",
    "from cfollmer.evaluation_utils import ECE\n",
    "import cfollmer.functional as functional\n",
    "from cfollmer.objectives import relative_entropy_control_cost\n",
    "from cfollmer.drifts import SimpleForwardNetBN\n",
    "from cfollmer.sampler_utils import FollmerSDE"
   ]
  },
  {
   "cell_type": "code",
   "execution_count": 2,
   "id": "e9b1dc0b",
   "metadata": {},
   "outputs": [],
   "source": [
    "device = \"cuda\" if torch.cuda.is_available() else \"cpu\""
   ]
  },
  {
   "cell_type": "code",
   "execution_count": 3,
   "id": "e69915ba",
   "metadata": {},
   "outputs": [],
   "source": [
    "a9a_train = pd.read_csv(\"../data/a9a.csv\", header=None)\n",
    "a9a_test = pd.read_csv(\"../data/a9a_t.csv\", header=None)"
   ]
  },
  {
   "cell_type": "code",
   "execution_count": 4,
   "id": "7d1ca583",
   "metadata": {},
   "outputs": [],
   "source": [
    "X_train = a9a_train.values[:, :-1]\n",
    "X_test = a9a_test.values[:, :-1]\n",
    "\n",
    "y_train = a9a_train.values[:, -1]\n",
    "y_test = a9a_test.values[:, -1]\n",
    "\n",
    "X_train = torch.tensor(X_train, device=device, dtype=torch.float)\n",
    "X_test = torch.tensor(X_test, device=device, dtype=torch.float)\n",
    "\n",
    "y_train = torch.tensor(y_train, device=device, dtype=torch.float)\n",
    "y_test = torch.tensor(y_test, device=device, dtype=torch.float)\n",
    "\n",
    "X_train = F.pad(X_train, (0, 1), value=1.0)\n",
    "X_test = F.pad(X_test, (0, 1), value=1.0)\n",
    "\n",
    "N_train, dim = X_train.shape\n",
    "N_test = X_test.shape[0]"
   ]
  },
  {
   "cell_type": "code",
   "execution_count": 5,
   "id": "e213012c",
   "metadata": {},
   "outputs": [
    {
     "data": {
      "text/plain": [
       "(32561, 16281, 124)"
      ]
     },
     "execution_count": 5,
     "metadata": {},
     "output_type": "execute_result"
    }
   ],
   "source": [
    "N_train, N_test, dim"
   ]
  },
  {
   "cell_type": "code",
   "execution_count": 16,
   "id": "49a7fe12",
   "metadata": {},
   "outputs": [],
   "source": [
    "def log_prior(beta):\n",
    "    return -torch.sum(torch.abs(beta))\n",
    "\n",
    "def log_likelihood(x, y, beta):\n",
    "    return -F.binary_cross_entropy_with_logits(x @ beta, y, reduction=\"sum\")\n",
    "\n",
    "def log_likelihood_batch(x, y, beta_batch):\n",
    "    func = lambda beta: log_likelihood(x, y, beta)\n",
    "    func = torch.vmap(func)\n",
    "    return func(beta_batch)\n",
    "\n",
    "def log_posterior(x, y, params):\n",
    "    return log_prior(params) + (N_train / x.shape[0]) * log_likelihood(x, y, params)\n",
    "\n",
    "def log_posterior_batch(x, y, beta_batch):\n",
    "    func = lambda beta: log_posterior(x, y, beta)\n",
    "    func = torch.vmap(func)\n",
    "    return func(beta_batch)"
   ]
  },
  {
   "cell_type": "code",
   "execution_count": 7,
   "id": "f415cb82",
   "metadata": {},
   "outputs": [],
   "source": [
    "gamma = 0.2**2\n",
    "n_epochs = 300\n",
    "data_batch_size = N_train\n",
    "param_batch_size = 32"
   ]
  },
  {
   "cell_type": "code",
   "execution_count": 14,
   "id": "1851fca8",
   "metadata": {
    "scrolled": true
   },
   "outputs": [],
   "source": [
    "def train(gamma, n_epochs, data_batch_size, param_batch_size, dt=0.05):\n",
    "    \n",
    "    sde = FollmerSDE(gamma, SimpleForwardNetBN(input_dim=dim, width=300)).to(device)\n",
    "    optimizer = torch.optim.Adam(sde.parameters(), lr=1e-4)\n",
    "    \n",
    "    losses = []\n",
    "\n",
    "    for _ in tqdm(range(n_epochs)):\n",
    "        epoch_losses = []\n",
    "\n",
    "        perm = torch.randperm(N_train)\n",
    "        \n",
    "        for i in range(0, N_train, data_batch_size):\n",
    "            x = X_train[perm[i:min(i + data_batch_size, N_train)]]\n",
    "            y = y_train[perm[i:min(i + data_batch_size, N_train)]]\n",
    "\n",
    "            optimizer.zero_grad()\n",
    "            \n",
    "            partial_log_p = lambda params_batch: log_posterior_batch(x, y, params_batch)\n",
    "        \n",
    "            loss = relative_entropy_control_cost(sde, partial_log_p, param_batch_size=param_batch_size, dt=dt, device=device)\n",
    "            loss.backward()\n",
    "            \n",
    "            epoch_losses.append(loss.detach().cpu().numpy())\n",
    "            optimizer.step()\n",
    "\n",
    "        losses.append(epoch_losses)\n",
    "    \n",
    "    losses = np.array(losses)\n",
    "    \n",
    "    return sde, losses"
   ]
  },
  {
   "cell_type": "code",
   "execution_count": 15,
   "id": "0fd1b88f",
   "metadata": {},
   "outputs": [
    {
     "name": "stderr",
     "output_type": "stream",
     "text": [
      "  0%|                                                                        | 0/300 [00:00<?, ?it/s]/tmp/ipykernel_623875/2473517683.py:12: UserWarning: torch.vmap is an experimental prototype that is subject to change and/or deletion. Please use at your own risk. There may be unexpected performance cliffs due to certain operators not being implemented. To see detailed performance warnings please use `torch._C._debug_only_display_vmap_fallback_warnings(True) before the call to `vmap`.\n",
      "  func = torch.vmap(func)\n",
      "100%|██████████████████████████████████████████████████████████████| 300/300 [00:10<00:00, 27.59it/s]\n"
     ]
    }
   ],
   "source": [
    "sde, losses = train(gamma, n_epochs, data_batch_size, param_batch_size, dt=0.05)"
   ]
  },
  {
   "cell_type": "code",
   "execution_count": 28,
   "id": "ed578547",
   "metadata": {},
   "outputs": [],
   "source": [
    "def evaluate(beta_samples):\n",
    "    with torch.no_grad():\n",
    "        predict_func = lambda beta : X_test @ beta\n",
    "        predict_func = torch.vmap(predict_func)\n",
    "        \n",
    "        out = predict_func(beta_samples)\n",
    "        out = torch.sigmoid(out)\n",
    "        \n",
    "        probs = torch.mean(out, dim=0)\n",
    "        preds = torch.round(probs)\n",
    "\n",
    "        logp = log_likelihood_batch(X_test, y_test, beta_samples)\n",
    "        logp = torch.mean(logp) / N_test\n",
    "        conf = torch.max(probs, 1 - probs)\n",
    "        \n",
    "    logp = logp.cpu().numpy()\n",
    "    probs = probs.cpu().numpy()\n",
    "    preds = preds.cpu().numpy()\n",
    "    conf = conf.cpu().numpy()\n",
    "    \n",
    "    ece = ECE(conf, preds, y_test.cpu().numpy())\n",
    "    acc = np.mean(preds == y_test.cpu().numpy())\n",
    "    return ece, logp, acc"
   ]
  },
  {
   "cell_type": "code",
   "execution_count": 29,
   "id": "31286516",
   "metadata": {},
   "outputs": [
    {
     "name": "stderr",
     "output_type": "stream",
     "text": [
      "/tmp/ipykernel_623875/1020984923.py:4: UserWarning: torch.vmap is an experimental prototype that is subject to change and/or deletion. Please use at your own risk. There may be unexpected performance cliffs due to certain operators not being implemented. To see detailed performance warnings please use `torch._C._debug_only_display_vmap_fallback_warnings(True) before the call to `vmap`.\n",
      "  predict_func = torch.vmap(predict_func)\n",
      "/tmp/ipykernel_623875/302531964.py:9: UserWarning: torch.vmap is an experimental prototype that is subject to change and/or deletion. Please use at your own risk. There may be unexpected performance cliffs due to certain operators not being implemented. To see detailed performance warnings please use `torch._C._debug_only_display_vmap_fallback_warnings(True) before the call to `vmap`.\n",
      "  func = torch.vmap(func)\n"
     ]
    },
    {
     "data": {
      "text/plain": [
       "(0.008016572717761909, array(-0.33976236, dtype=float32), 0.8498863706160555)"
      ]
     },
     "execution_count": 29,
     "metadata": {},
     "output_type": "execute_result"
    }
   ],
   "source": [
    "with torch.no_grad():\n",
    "    beta_samples = sde.sample(100, dt=0.01, device=device)\n",
    "ece, logps, acc = evaluate(beta_samples)\n",
    "ece, logps, acc"
   ]
  },
  {
   "cell_type": "code",
   "execution_count": 31,
   "id": "b337318f",
   "metadata": {},
   "outputs": [
    {
     "name": "stderr",
     "output_type": "stream",
     "text": [
      "  0%|                                                                        | 0/300 [00:00<?, ?it/s]/home/ao464@ad.eng.cam.ac.uk/repos/ControlledFollmerDrift/env/lib/python3.8/site-packages/torch/nn/functional.py:2384: UserWarning: There is a performance drop because we have not yet implemented the batching rule for aten::batch_norm. Please file us an issue on GitHub so that we can prioritize its implementation. (Triggered internally at  /tmp/pip-req-build-b9xxrrfi/functorch/csrc/BatchedFallback.cpp:106.)\n",
      "  return torch.batch_norm(\n",
      "/tmp/ipykernel_623875/302531964.py:17: UserWarning: torch.vmap is an experimental prototype that is subject to change and/or deletion. Please use at your own risk. There may be unexpected performance cliffs due to certain operators not being implemented. To see detailed performance warnings please use `torch._C._debug_only_display_vmap_fallback_warnings(True) before the call to `vmap`.\n",
      "  func = torch.vmap(func)\n",
      "100%|██████████████████████████████████████████████████████████████| 300/300 [00:10<00:00, 27.58it/s]\n",
      "/tmp/ipykernel_623875/1020984923.py:4: UserWarning: torch.vmap is an experimental prototype that is subject to change and/or deletion. Please use at your own risk. There may be unexpected performance cliffs due to certain operators not being implemented. To see detailed performance warnings please use `torch._C._debug_only_display_vmap_fallback_warnings(True) before the call to `vmap`.\n",
      "  predict_func = torch.vmap(predict_func)\n",
      "/tmp/ipykernel_623875/302531964.py:9: UserWarning: torch.vmap is an experimental prototype that is subject to change and/or deletion. Please use at your own risk. There may be unexpected performance cliffs due to certain operators not being implemented. To see detailed performance warnings please use `torch._C._debug_only_display_vmap_fallback_warnings(True) before the call to `vmap`.\n",
      "  func = torch.vmap(func)\n",
      "100%|██████████████████████████████████████████████████████████████| 300/300 [00:10<00:00, 27.57it/s]\n",
      "100%|██████████████████████████████████████████████████████████████| 300/300 [00:10<00:00, 27.72it/s]\n",
      "100%|██████████████████████████████████████████████████████████████| 300/300 [00:10<00:00, 27.57it/s]\n",
      "100%|██████████████████████████████████████████████████████████████| 300/300 [00:10<00:00, 27.45it/s]\n"
     ]
    }
   ],
   "source": [
    "n_runs = 5\n",
    "\n",
    "eces, logps, accs = [], [], []\n",
    "\n",
    "for i in range(n_runs):\n",
    "    sde, losses = train(gamma, n_epochs, data_batch_size, param_batch_size, dt=0.05)\n",
    "    with torch.no_grad():\n",
    "        beta_samples = sde.sample(100, dt=0.01, device=device)\n",
    "    ece, logp, acc = evaluate(beta_samples)\n",
    "    \n",
    "    eces.append(ece)\n",
    "    logps.append(logp)\n",
    "    accs.append(acc)"
   ]
  },
  {
   "cell_type": "code",
   "execution_count": 37,
   "id": "62a44aec",
   "metadata": {},
   "outputs": [],
   "source": [
    "SBP_df = pd.DataFrame({\"ECE\": eces, \"log predictive\": np.array(logps), \"accuracy\": accs})"
   ]
  },
  {
   "cell_type": "code",
   "execution_count": 38,
   "id": "251f556d",
   "metadata": {},
   "outputs": [
    {
     "data": {
      "text/html": [
       "<div>\n",
       "<style scoped>\n",
       "    .dataframe tbody tr th:only-of-type {\n",
       "        vertical-align: middle;\n",
       "    }\n",
       "\n",
       "    .dataframe tbody tr th {\n",
       "        vertical-align: top;\n",
       "    }\n",
       "\n",
       "    .dataframe thead th {\n",
       "        text-align: right;\n",
       "    }\n",
       "</style>\n",
       "<table border=\"1\" class=\"dataframe\">\n",
       "  <thead>\n",
       "    <tr style=\"text-align: right;\">\n",
       "      <th></th>\n",
       "      <th>ECE</th>\n",
       "      <th>log predictive</th>\n",
       "      <th>accuracy</th>\n",
       "    </tr>\n",
       "  </thead>\n",
       "  <tbody>\n",
       "    <tr>\n",
       "      <th>0</th>\n",
       "      <td>0.009620</td>\n",
       "      <td>-0.340512</td>\n",
       "      <td>0.849579</td>\n",
       "    </tr>\n",
       "    <tr>\n",
       "      <th>1</th>\n",
       "      <td>0.010714</td>\n",
       "      <td>-0.341152</td>\n",
       "      <td>0.849764</td>\n",
       "    </tr>\n",
       "    <tr>\n",
       "      <th>2</th>\n",
       "      <td>0.009434</td>\n",
       "      <td>-0.340465</td>\n",
       "      <td>0.850071</td>\n",
       "    </tr>\n",
       "    <tr>\n",
       "      <th>3</th>\n",
       "      <td>0.008504</td>\n",
       "      <td>-0.341286</td>\n",
       "      <td>0.849886</td>\n",
       "    </tr>\n",
       "    <tr>\n",
       "      <th>4</th>\n",
       "      <td>0.011104</td>\n",
       "      <td>-0.340325</td>\n",
       "      <td>0.850071</td>\n",
       "    </tr>\n",
       "  </tbody>\n",
       "</table>\n",
       "</div>"
      ],
      "text/plain": [
       "        ECE  log predictive  accuracy\n",
       "0  0.009620       -0.340512  0.849579\n",
       "1  0.010714       -0.341152  0.849764\n",
       "2  0.009434       -0.340465  0.850071\n",
       "3  0.008504       -0.341286  0.849886\n",
       "4  0.011104       -0.340325  0.850071"
      ]
     },
     "execution_count": 38,
     "metadata": {},
     "output_type": "execute_result"
    }
   ],
   "source": [
    "SBP_df"
   ]
  },
  {
   "cell_type": "code",
   "execution_count": 40,
   "id": "68fde8bf",
   "metadata": {},
   "outputs": [
    {
     "data": {
      "text/html": [
       "<div>\n",
       "<style scoped>\n",
       "    .dataframe tbody tr th:only-of-type {\n",
       "        vertical-align: middle;\n",
       "    }\n",
       "\n",
       "    .dataframe tbody tr th {\n",
       "        vertical-align: top;\n",
       "    }\n",
       "\n",
       "    .dataframe thead th {\n",
       "        text-align: right;\n",
       "    }\n",
       "</style>\n",
       "<table border=\"1\" class=\"dataframe\">\n",
       "  <thead>\n",
       "    <tr style=\"text-align: right;\">\n",
       "      <th></th>\n",
       "      <th>ECE</th>\n",
       "      <th>log predictive</th>\n",
       "      <th>accuracy</th>\n",
       "    </tr>\n",
       "  </thead>\n",
       "  <tbody>\n",
       "    <tr>\n",
       "      <th>count</th>\n",
       "      <td>5.000000</td>\n",
       "      <td>5.000000</td>\n",
       "      <td>5.000000</td>\n",
       "    </tr>\n",
       "    <tr>\n",
       "      <th>mean</th>\n",
       "      <td>0.009875</td>\n",
       "      <td>-0.340748</td>\n",
       "      <td>0.849874</td>\n",
       "    </tr>\n",
       "    <tr>\n",
       "      <th>std</th>\n",
       "      <td>0.001043</td>\n",
       "      <td>0.000438</td>\n",
       "      <td>0.000210</td>\n",
       "    </tr>\n",
       "    <tr>\n",
       "      <th>min</th>\n",
       "      <td>0.008504</td>\n",
       "      <td>-0.341286</td>\n",
       "      <td>0.849579</td>\n",
       "    </tr>\n",
       "    <tr>\n",
       "      <th>25%</th>\n",
       "      <td>0.009434</td>\n",
       "      <td>-0.341152</td>\n",
       "      <td>0.849764</td>\n",
       "    </tr>\n",
       "    <tr>\n",
       "      <th>50%</th>\n",
       "      <td>0.009620</td>\n",
       "      <td>-0.340512</td>\n",
       "      <td>0.849886</td>\n",
       "    </tr>\n",
       "    <tr>\n",
       "      <th>75%</th>\n",
       "      <td>0.010714</td>\n",
       "      <td>-0.340465</td>\n",
       "      <td>0.850071</td>\n",
       "    </tr>\n",
       "    <tr>\n",
       "      <th>max</th>\n",
       "      <td>0.011104</td>\n",
       "      <td>-0.340325</td>\n",
       "      <td>0.850071</td>\n",
       "    </tr>\n",
       "  </tbody>\n",
       "</table>\n",
       "</div>"
      ],
      "text/plain": [
       "            ECE  log predictive  accuracy\n",
       "count  5.000000        5.000000  5.000000\n",
       "mean   0.009875       -0.340748  0.849874\n",
       "std    0.001043        0.000438  0.000210\n",
       "min    0.008504       -0.341286  0.849579\n",
       "25%    0.009434       -0.341152  0.849764\n",
       "50%    0.009620       -0.340512  0.849886\n",
       "75%    0.010714       -0.340465  0.850071\n",
       "max    0.011104       -0.340325  0.850071"
      ]
     },
     "execution_count": 40,
     "metadata": {},
     "output_type": "execute_result"
    }
   ],
   "source": [
    "SBP_df.describe()"
   ]
  },
  {
   "cell_type": "code",
   "execution_count": 41,
   "id": "9ed14759",
   "metadata": {},
   "outputs": [],
   "source": [
    "@torch.enable_grad()\n",
    "def gradient(x, y, beta):\n",
    "    beta_ = beta.clone().requires_grad_(True)\n",
    "    loss = log_posterior(x, y, beta_)\n",
    "    grad, = torch.autograd.grad(loss, beta_)\n",
    "    return loss.detach().cpu().numpy(), grad"
   ]
  },
  {
   "cell_type": "code",
   "execution_count": 42,
   "id": "89ae8421",
   "metadata": {},
   "outputs": [],
   "source": [
    "def step_size(n):\n",
    "    return 0.001 / (1 + n)**0.5"
   ]
  },
  {
   "cell_type": "code",
   "execution_count": 49,
   "id": "1edb2d35",
   "metadata": {},
   "outputs": [],
   "source": [
    "def sgld(n_epochs, data_batch_size):\n",
    "\n",
    "    step = 0\n",
    "    \n",
    "    beta = torch.zeros(dim).float().to(device)\n",
    "    losses = []\n",
    "    accuracies = []\n",
    "    logps = []\n",
    "    beta_samples = []\n",
    "    \n",
    "    for _ in tqdm(range(n_epochs)):\n",
    "        perm = torch.randperm(N_train)\n",
    "        \n",
    "        for i in range(0, N_train, data_batch_size):\n",
    "            x = X_train[perm[i:min(i + data_batch_size, N_train)]]\n",
    "            y = y_train[perm[i:min(i + data_batch_size, N_train)]]\n",
    "\n",
    "            eps = step_size(step)\n",
    "            loss, grad = gradient(x, y, beta)\n",
    "            beta = beta + 0.5 * eps * grad + np.sqrt(eps) * torch.randn_like(beta)\n",
    "            step += 1\n",
    "            \n",
    "            losses.append(loss)\n",
    "            beta_samples.append(beta)\n",
    "            \n",
    "            with torch.no_grad():\n",
    "                test_pred = torch.round(torch.sigmoid(X_test @ beta))\n",
    "                test_acc = torch.mean(1 - torch.abs(y_test - test_pred))\n",
    "                logp = log_likelihood(X_test, y_test, beta) / X_test.shape[0]\n",
    "\n",
    "                accuracies.append(test_acc.cpu().numpy())\n",
    "                logps.append(logp.cpu().numpy())\n",
    "                \n",
    "    return beta_samples, losses, accuracies, logps, "
   ]
  },
  {
   "cell_type": "code",
   "execution_count": 50,
   "id": "88fec923",
   "metadata": {},
   "outputs": [
    {
     "name": "stderr",
     "output_type": "stream",
     "text": [
      "100%|████████████████████████████████████████████████████████████| 300/300 [00:00<00:00, 1312.69it/s]\n"
     ]
    }
   ],
   "source": [
    "beta_samples, losses, accuracies, logps = sgld(n_epochs, data_batch_size)"
   ]
  },
  {
   "cell_type": "code",
   "execution_count": 52,
   "id": "dfeb5708",
   "metadata": {},
   "outputs": [
    {
     "data": {
      "text/plain": [
       "[<matplotlib.lines.Line2D at 0x7f87fe2c5e20>]"
      ]
     },
     "execution_count": 52,
     "metadata": {},
     "output_type": "execute_result"
    },
    {
     "data": {
      "image/png": "[encoded data removed]",
      "text/plain": [
       "<Figure size 432x288 with 1 Axes>"
      ]
     },
     "metadata": {
      "needs_background": "light"
     },
     "output_type": "display_data"
    }
   ],
   "source": [
    "plt.plot(losses)"
   ]
  },
  {
   "cell_type": "code",
   "execution_count": 54,
   "id": "29b1ba41",
   "metadata": {},
   "outputs": [
    {
     "data": {
      "text/plain": [
       "[<matplotlib.lines.Line2D at 0x7f87fdfb5370>]"
      ]
     },
     "execution_count": 54,
     "metadata": {},
     "output_type": "execute_result"
    },
    {
     "data": {
      "image/png": "[encoded data removed]",
      "text/plain": [
       "<Figure size 432x288 with 1 Axes>"
      ]
     },
     "metadata": {
      "needs_background": "light"
     },
     "output_type": "display_data"
    }
   ],
   "source": [
    "plt.plot(accuracies)"
   ]
  },
  {
   "cell_type": "code",
   "execution_count": 53,
   "id": "ebf8f428",
   "metadata": {},
   "outputs": [
    {
     "data": {
      "text/plain": [
       "[<matplotlib.lines.Line2D at 0x7f87fdfef2b0>]"
      ]
     },
     "execution_count": 53,
     "metadata": {},
     "output_type": "execute_result"
    },
    {
     "data": {
      "image/png": "[encoded data removed]",
      "text/plain": [
       "<Figure size 432x288 with 1 Axes>"
      ]
     },
     "metadata": {
      "needs_background": "light"
     },
     "output_type": "display_data"
    }
   ],
   "source": [
    "plt.plot(logps)"
   ]
  },
  {
   "cell_type": "code",
   "execution_count": 58,
   "id": "8c16b9b4",
   "metadata": {},
   "outputs": [
    {
     "name": "stderr",
     "output_type": "stream",
     "text": [
      "/tmp/ipykernel_623875/1020984923.py:4: UserWarning: torch.vmap is an experimental prototype that is subject to change and/or deletion. Please use at your own risk. There may be unexpected performance cliffs due to certain operators not being implemented. To see detailed performance warnings please use `torch._C._debug_only_display_vmap_fallback_warnings(True) before the call to `vmap`.\n",
      "  predict_func = torch.vmap(predict_func)\n",
      "/tmp/ipykernel_623875/302531964.py:9: UserWarning: torch.vmap is an experimental prototype that is subject to change and/or deletion. Please use at your own risk. There may be unexpected performance cliffs due to certain operators not being implemented. To see detailed performance warnings please use `torch._C._debug_only_display_vmap_fallback_warnings(True) before the call to `vmap`.\n",
      "  func = torch.vmap(func)\n"
     ]
    },
    {
     "data": {
      "text/plain": [
       "(0.009720788296504558, array(-0.32453096, dtype=float32), 0.8512990602542841)"
      ]
     },
     "execution_count": 58,
     "metadata": {},
     "output_type": "execute_result"
    }
   ],
   "source": [
    "beta_samples = torch.stack(beta_samples[-100:])\n",
    "evaluate(beta_samples)"
   ]
  },
  {
   "cell_type": "code",
   "execution_count": 59,
   "id": "737736a3",
   "metadata": {},
   "outputs": [
    {
     "name": "stderr",
     "output_type": "stream",
     "text": [
      "100%|████████████████████████████████████████████████████████████| 300/300 [00:00<00:00, 1324.23it/s]\n",
      "/tmp/ipykernel_623875/1020984923.py:4: UserWarning: torch.vmap is an experimental prototype that is subject to change and/or deletion. Please use at your own risk. There may be unexpected performance cliffs due to certain operators not being implemented. To see detailed performance warnings please use `torch._C._debug_only_display_vmap_fallback_warnings(True) before the call to `vmap`.\n",
      "  predict_func = torch.vmap(predict_func)\n",
      "/tmp/ipykernel_623875/302531964.py:9: UserWarning: torch.vmap is an experimental prototype that is subject to change and/or deletion. Please use at your own risk. There may be unexpected performance cliffs due to certain operators not being implemented. To see detailed performance warnings please use `torch._C._debug_only_display_vmap_fallback_warnings(True) before the call to `vmap`.\n",
      "  func = torch.vmap(func)\n",
      "100%|████████████████████████████████████████████████████████████| 300/300 [00:00<00:00, 1328.67it/s]\n",
      "100%|████████████████████████████████████████████████████████████| 300/300 [00:00<00:00, 1330.30it/s]\n",
      "100%|████████████████████████████████████████████████████████████| 300/300 [00:00<00:00, 1326.12it/s]\n",
      "100%|████████████████████████████████████████████████████████████| 300/300 [00:00<00:00, 1324.85it/s]\n"
     ]
    }
   ],
   "source": [
    "n_runs = 5\n",
    "\n",
    "eces, logps, accs = [], [], []\n",
    "\n",
    "for i in range(n_runs):\n",
    "    beta_samples, _, _, _ = sgld(n_epochs, data_batch_size)\n",
    "    beta_samples = torch.stack(beta_samples[-100:])\n",
    "    ece, logp, acc = evaluate(beta_samples)\n",
    "    \n",
    "    eces.append(ece)\n",
    "    logps.append(logp)\n",
    "    accs.append(acc)"
   ]
  },
  {
   "cell_type": "code",
   "execution_count": 60,
   "id": "4dc146ac",
   "metadata": {},
   "outputs": [],
   "source": [
    "SGLD_df = pd.DataFrame({\"ECE\": eces, \"log predictive\": np.array(logps), \"accuracy\": accs})"
   ]
  },
  {
   "cell_type": "code",
   "execution_count": 62,
   "id": "ae898a40",
   "metadata": {},
   "outputs": [
    {
     "data": {
      "text/html": [
       "<div>\n",
       "<style scoped>\n",
       "    .dataframe tbody tr th:only-of-type {\n",
       "        vertical-align: middle;\n",
       "    }\n",
       "\n",
       "    .dataframe tbody tr th {\n",
       "        vertical-align: top;\n",
       "    }\n",
       "\n",
       "    .dataframe thead th {\n",
       "        text-align: right;\n",
       "    }\n",
       "</style>\n",
       "<table border=\"1\" class=\"dataframe\">\n",
       "  <thead>\n",
       "    <tr style=\"text-align: right;\">\n",
       "      <th></th>\n",
       "      <th>ECE</th>\n",
       "      <th>log predictive</th>\n",
       "      <th>accuracy</th>\n",
       "    </tr>\n",
       "  </thead>\n",
       "  <tbody>\n",
       "    <tr>\n",
       "      <th>0</th>\n",
       "      <td>0.009266</td>\n",
       "      <td>-0.324748</td>\n",
       "      <td>0.851053</td>\n",
       "    </tr>\n",
       "    <tr>\n",
       "      <th>1</th>\n",
       "      <td>0.008499</td>\n",
       "      <td>-0.325029</td>\n",
       "      <td>0.850378</td>\n",
       "    </tr>\n",
       "    <tr>\n",
       "      <th>2</th>\n",
       "      <td>0.008357</td>\n",
       "      <td>-0.324935</td>\n",
       "      <td>0.850316</td>\n",
       "    </tr>\n",
       "    <tr>\n",
       "      <th>3</th>\n",
       "      <td>0.011593</td>\n",
       "      <td>-0.324638</td>\n",
       "      <td>0.852712</td>\n",
       "    </tr>\n",
       "    <tr>\n",
       "      <th>4</th>\n",
       "      <td>0.012313</td>\n",
       "      <td>-0.324462</td>\n",
       "      <td>0.852835</td>\n",
       "    </tr>\n",
       "  </tbody>\n",
       "</table>\n",
       "</div>"
      ],
      "text/plain": [
       "        ECE  log predictive  accuracy\n",
       "0  0.009266       -0.324748  0.851053\n",
       "1  0.008499       -0.325029  0.850378\n",
       "2  0.008357       -0.324935  0.850316\n",
       "3  0.011593       -0.324638  0.852712\n",
       "4  0.012313       -0.324462  0.852835"
      ]
     },
     "execution_count": 62,
     "metadata": {},
     "output_type": "execute_result"
    }
   ],
   "source": [
    "SGLD_df"
   ]
  },
  {
   "cell_type": "code",
   "execution_count": 63,
   "id": "6f3aa852",
   "metadata": {},
   "outputs": [
    {
     "data": {
      "text/html": [
       "<div>\n",
       "<style scoped>\n",
       "    .dataframe tbody tr th:only-of-type {\n",
       "        vertical-align: middle;\n",
       "    }\n",
       "\n",
       "    .dataframe tbody tr th {\n",
       "        vertical-align: top;\n",
       "    }\n",
       "\n",
       "    .dataframe thead th {\n",
       "        text-align: right;\n",
       "    }\n",
       "</style>\n",
       "<table border=\"1\" class=\"dataframe\">\n",
       "  <thead>\n",
       "    <tr style=\"text-align: right;\">\n",
       "      <th></th>\n",
       "      <th>ECE</th>\n",
       "      <th>log predictive</th>\n",
       "      <th>accuracy</th>\n",
       "    </tr>\n",
       "  </thead>\n",
       "  <tbody>\n",
       "    <tr>\n",
       "      <th>count</th>\n",
       "      <td>5.000000</td>\n",
       "      <td>5.000000</td>\n",
       "      <td>5.000000</td>\n",
       "    </tr>\n",
       "    <tr>\n",
       "      <th>mean</th>\n",
       "      <td>0.010006</td>\n",
       "      <td>-0.324762</td>\n",
       "      <td>0.851459</td>\n",
       "    </tr>\n",
       "    <tr>\n",
       "      <th>std</th>\n",
       "      <td>0.001829</td>\n",
       "      <td>0.000227</td>\n",
       "      <td>0.001235</td>\n",
       "    </tr>\n",
       "    <tr>\n",
       "      <th>min</th>\n",
       "      <td>0.008357</td>\n",
       "      <td>-0.325029</td>\n",
       "      <td>0.850316</td>\n",
       "    </tr>\n",
       "    <tr>\n",
       "      <th>25%</th>\n",
       "      <td>0.008499</td>\n",
       "      <td>-0.324935</td>\n",
       "      <td>0.850378</td>\n",
       "    </tr>\n",
       "    <tr>\n",
       "      <th>50%</th>\n",
       "      <td>0.009266</td>\n",
       "      <td>-0.324748</td>\n",
       "      <td>0.851053</td>\n",
       "    </tr>\n",
       "    <tr>\n",
       "      <th>75%</th>\n",
       "      <td>0.011593</td>\n",
       "      <td>-0.324638</td>\n",
       "      <td>0.852712</td>\n",
       "    </tr>\n",
       "    <tr>\n",
       "      <th>max</th>\n",
       "      <td>0.012313</td>\n",
       "      <td>-0.324462</td>\n",
       "      <td>0.852835</td>\n",
       "    </tr>\n",
       "  </tbody>\n",
       "</table>\n",
       "</div>"
      ],
      "text/plain": [
       "            ECE  log predictive  accuracy\n",
       "count  5.000000        5.000000  5.000000\n",
       "mean   0.010006       -0.324762  0.851459\n",
       "std    0.001829        0.000227  0.001235\n",
       "min    0.008357       -0.325029  0.850316\n",
       "25%    0.008499       -0.324935  0.850378\n",
       "50%    0.009266       -0.324748  0.851053\n",
       "75%    0.011593       -0.324638  0.852712\n",
       "max    0.012313       -0.324462  0.852835"
      ]
     },
     "execution_count": 63,
     "metadata": {},
     "output_type": "execute_result"
    }
   ],
   "source": [
    "SGLD_df.describe()"
   ]
  }
 ],
 "metadata": {
  "kernelspec": {
   "display_name": "cfollmer",
   "language": "python",
   "name": "cfollmer"
  },
  "language_info": {
   "codemirror_mode": {
    "name": "ipython",
    "version": 3
   },
   "file_extension": ".py",
   "mimetype": "text/x-python",
   "name": "python",
   "nbconvert_exporter": "python",
   "pygments_lexer": "ipython3",
   "version": "3.8.10"
  }
 },
 "nbformat": 4,
 "nbformat_minor": 5
}
